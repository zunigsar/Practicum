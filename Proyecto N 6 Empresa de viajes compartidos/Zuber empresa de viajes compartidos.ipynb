{
 "cells": [
  {
   "cell_type": "markdown",
   "metadata": {},
   "source": [
    "<div class=\"alert alert-block alert-success\">\n",
    "<b>COMENTARIO GENERAL PRIMERA REVISIÓN</b> <a class=\"tocSkip\"></a>\n",
    "\n",
    "Sara, felicidades! Tu trabajo es perfecto y está aprobado. Efectuaste correctamente las instrucciones de este proyecto, obtuviste datos correctos empleando los querys de SQL y aplicaste las instrucciones posteriores de manera perfecta, yendo un poco más allá incluso que lo que se te pedía!! Sigue esforzándote así! :)\n",
    "\n",
    "</div>"
   ]
  },
  {
   "cell_type": "markdown",
   "metadata": {},
   "source": [
    "# Zuber: Empresa de viajes compartidos"
   ]
  },
  {
   "cell_type": "markdown",
   "metadata": {},
   "source": [
    "# Contents\n",
    "* [1.- Introducción y Objetivos.](#objetivo)\n",
    "* [2.-Importacion de los archivos](#importacion)\n",
    "* [3.- Análisis exploratorio de los datos](#análisis)\n",
    "* [4.- Prueba de hipótesis](#pruebas)\n",
    "* [5.- Conclusión General](#conclusiongeneral)"
   ]
  },
  {
   "cell_type": "markdown",
   "metadata": {},
   "source": [
    "# 1. Introducción y Objetivos"
   ]
  },
  {
   "cell_type": "markdown",
   "metadata": {},
   "source": [
    "Zuber es nuestra nueva empresa de viajes compartidos que la estamos incorporando en la ciudad de Chicago. \n",
    "Dentro de mi rol como analista de datos, mi objetivo en este proyecto será encontrar patrones de preferencias de los pasajeros en cuanto a sus viajes, es decir que lugares de destino prefieren, cuales son las empresas de taxis más demandadas en la industria y el impacto de los factores externos en la frecuencia de los viajes. \n"
   ]
  },
  {
   "cell_type": "markdown",
   "metadata": {},
   "source": [
    "# 2. Importación de los archivos"
   ]
  },
  {
   "cell_type": "code",
   "execution_count": 1,
   "metadata": {},
   "outputs": [],
   "source": [
    "# Importaremos las siguientes librerías\n",
    "import pandas as pd \n",
    "import matplotlib as plt \n",
    "from scipy import stats as st\n",
    "from scipy.stats import levene\n",
    "import numpy as np"
   ]
  },
  {
   "cell_type": "markdown",
   "metadata": {},
   "source": [
    "Procederemos a importar los dos archivos con los que realizaremos el análisis exploratorio. \n",
    "\n",
    "**project_sql_result_01.csv.**\n",
    "\n",
    "Contiene los siguientes datos:\n",
    "\n",
    "* company_name: nombre de la empresa de taxis\n",
    "\n",
    "* trips_amount: el número de viajes de cada compañía de taxis el 15 y 16 de noviembre de 2017.\n",
    "\n",
    "**project_sql_result_04.csv.** \n",
    "\n",
    "Contiene los siguientes datos:\n",
    "\n",
    "* dropoff_location_name: barrios de Chicago donde finalizaron los viajes\n",
    "\n",
    "* average_trips: el promedio de viajes que terminaron en cada barrio en noviembre de 2017."
   ]
  },
  {
   "cell_type": "markdown",
   "metadata": {},
   "source": [
    "<div class=\"alert alert-block alert-success\">\n",
    "<b>Éxito</b> <a class=\"tocSkip\"></a>\n",
    "\n",
    "Muy buen intro al proyecto!"
   ]
  },
  {
   "cell_type": "code",
   "execution_count": 2,
   "metadata": {},
   "outputs": [],
   "source": [
    "# Crearemos dos DataFrames para almacenar los archivos \n",
    "cabs= pd.read_csv('/datasets/project_sql_result_01.csv')\n",
    "trips= pd.read_csv('/datasets/project_sql_result_04.csv')"
   ]
  },
  {
   "cell_type": "code",
   "execution_count": 3,
   "metadata": {},
   "outputs": [
    {
     "name": "stdout",
     "output_type": "stream",
     "text": [
      "<class 'pandas.core.frame.DataFrame'>\n",
      "RangeIndex: 64 entries, 0 to 63\n",
      "Data columns (total 2 columns):\n",
      " #   Column        Non-Null Count  Dtype \n",
      "---  ------        --------------  ----- \n",
      " 0   company_name  64 non-null     object\n",
      " 1   trips_amount  64 non-null     int64 \n",
      "dtypes: int64(1), object(1)\n",
      "memory usage: 1.1+ KB\n"
     ]
    }
   ],
   "source": [
    "# Mostramos la información del DataFrame cabs\n",
    "cabs.info()"
   ]
  },
  {
   "cell_type": "markdown",
   "metadata": {},
   "source": [
    "Podemos ver que el tipo de dato coincide para cada columna, ni tampoco existen valores ausentes por lo que no es necesario hacer modificaciones."
   ]
  },
  {
   "cell_type": "code",
   "execution_count": 4,
   "metadata": {},
   "outputs": [
    {
     "data": {
      "text/html": [
       "<div>\n",
       "<style scoped>\n",
       "    .dataframe tbody tr th:only-of-type {\n",
       "        vertical-align: middle;\n",
       "    }\n",
       "\n",
       "    .dataframe tbody tr th {\n",
       "        vertical-align: top;\n",
       "    }\n",
       "\n",
       "    .dataframe thead th {\n",
       "        text-align: right;\n",
       "    }\n",
       "</style>\n",
       "<table border=\"1\" class=\"dataframe\">\n",
       "  <thead>\n",
       "    <tr style=\"text-align: right;\">\n",
       "      <th></th>\n",
       "      <th>company_name</th>\n",
       "      <th>trips_amount</th>\n",
       "    </tr>\n",
       "  </thead>\n",
       "  <tbody>\n",
       "    <tr>\n",
       "      <th>0</th>\n",
       "      <td>Flash Cab</td>\n",
       "      <td>19558</td>\n",
       "    </tr>\n",
       "    <tr>\n",
       "      <th>1</th>\n",
       "      <td>Taxi Affiliation Services</td>\n",
       "      <td>11422</td>\n",
       "    </tr>\n",
       "    <tr>\n",
       "      <th>2</th>\n",
       "      <td>Medallion Leasing</td>\n",
       "      <td>10367</td>\n",
       "    </tr>\n",
       "    <tr>\n",
       "      <th>3</th>\n",
       "      <td>Yellow Cab</td>\n",
       "      <td>9888</td>\n",
       "    </tr>\n",
       "    <tr>\n",
       "      <th>4</th>\n",
       "      <td>Taxi Affiliation Service Yellow</td>\n",
       "      <td>9299</td>\n",
       "    </tr>\n",
       "  </tbody>\n",
       "</table>\n",
       "</div>"
      ],
      "text/plain": [
       "                      company_name  trips_amount\n",
       "0                        Flash Cab         19558\n",
       "1        Taxi Affiliation Services         11422\n",
       "2                Medallion Leasing         10367\n",
       "3                       Yellow Cab          9888\n",
       "4  Taxi Affiliation Service Yellow          9299"
      ]
     },
     "execution_count": 4,
     "metadata": {},
     "output_type": "execute_result"
    }
   ],
   "source": [
    "cabs.head()"
   ]
  },
  {
   "cell_type": "code",
   "execution_count": 5,
   "metadata": {},
   "outputs": [
    {
     "name": "stdout",
     "output_type": "stream",
     "text": [
      "<class 'pandas.core.frame.DataFrame'>\n",
      "RangeIndex: 94 entries, 0 to 93\n",
      "Data columns (total 2 columns):\n",
      " #   Column                 Non-Null Count  Dtype  \n",
      "---  ------                 --------------  -----  \n",
      " 0   dropoff_location_name  94 non-null     object \n",
      " 1   average_trips          94 non-null     float64\n",
      "dtypes: float64(1), object(1)\n",
      "memory usage: 1.6+ KB\n"
     ]
    }
   ],
   "source": [
    "# Mostramos la información del DataFrame trips\n",
    "trips.info()"
   ]
  },
  {
   "cell_type": "markdown",
   "metadata": {},
   "source": [
    "<div class=\"alert alert-block alert-success\">\n",
    "<b>Éxito</b> <a class=\"tocSkip\"></a>\n",
    "\n",
    "Buen inicio! El read con la ruta correcta, el head, y el info!"
   ]
  },
  {
   "cell_type": "markdown",
   "metadata": {},
   "source": [
    "Encontramos que ninguna columna tiene valores ausentes, pero la columna que contiene el promedio de viajes podemos ver que se encuentra como tipo de dato float, por lo que procederemos a realizar el cambio de tipo de dato a entero."
   ]
  },
  {
   "cell_type": "code",
   "execution_count": 6,
   "metadata": {},
   "outputs": [],
   "source": [
    "#Cambio de tipo de dato\n",
    "trips['average_trips']= trips['average_trips'].astype(int)"
   ]
  },
  {
   "cell_type": "markdown",
   "metadata": {},
   "source": [
    "<div class=\"alert alert-block alert-success\">\n",
    "<b>Éxito</b> <a class=\"tocSkip\"></a>\n",
    "\n",
    "Ok, buen cambio de tipo!"
   ]
  },
  {
   "cell_type": "markdown",
   "metadata": {},
   "source": [
    "# 3. Análisis exploratorio de los datos"
   ]
  },
  {
   "cell_type": "markdown",
   "metadata": {},
   "source": [
    "**3.1 Identificaremos cuáles son lo 10 principales barrios más populares en términos de finalización del recorrido durante noviembre del 2017**"
   ]
  },
  {
   "cell_type": "code",
   "execution_count": 7,
   "metadata": {},
   "outputs": [
    {
     "data": {
      "text/plain": [
       "<AxesSubplot:title={'center':'Top 10 Barrios en términos de finalización del recorrido'}, xlabel='dropoff_location_name'>"
      ]
     },
     "execution_count": 7,
     "metadata": {},
     "output_type": "execute_result"
    },
    {
     "data": {
      "image/png": "[encoded data removed]",
      "text/plain": [
       "<Figure size 576x360 with 1 Axes>"
      ]
     },
     "metadata": {
      "needs_background": "light"
     },
     "output_type": "display_data"
    }
   ],
   "source": [
    "trips1= trips.pivot_table(index='dropoff_location_name', values='average_trips').sort_values(by='average_trips',ascending=False).head(10).plot(kind='bar',title='Top 10 Barrios en términos de finalización del recorrido', figsize=(8,5),color='mediumpurple')\n",
    "trips1"
   ]
  },
  {
   "cell_type": "markdown",
   "metadata": {},
   "source": [
    "<div class=\"alert alert-block alert-success\">\n",
    "<b>Éxito</b> <a class=\"tocSkip\"></a>\n",
    "\n",
    "Muy bien mostrar esto con una ilustrativa gráfica :)"
   ]
  },
  {
   "cell_type": "markdown",
   "metadata": {},
   "source": [
    "* Los 10 Barrios con mayores cantidades promedios en cuanto a donde finalizó el viaje de los pasajeron son: \n",
    "    1. Loop \n",
    "    2. River North\n",
    "    3. Streeteville\n",
    "    4. West Loop\n",
    "    5. O'Hare\n",
    "    6. Lake View\n",
    "    7. Grant Park\n",
    "    8. Museum Campus\n",
    "    9. Gold Coast\n",
    "    10. Sheffield & DePaul\n",
    "    \n",
    "    \n",
    "* De acuerdo a los datos vemos que en la ciudad de Chicago el barrio Loop es el que más viajes de finalización se registraron porque corresponde a que es una zona activa que tiene restaurantes, rascacielos, tiendas, teatros, parques y principalmente por su atractivo turístico de la escultura \"Cloud Gate \"que se localiza en el Parque Millennium.\n",
    "* El resto de barrios también comparten características en común en cuanto a ser más frecuentes en los viajes de los pasajeros por su atractividad por ejemplo lugares de diversión como lagos, restaurantes, museos, playas, hoteles, centros comerciales y aeropuertos."
   ]
  },
  {
   "cell_type": "markdown",
   "metadata": {},
   "source": [
    "<div class=\"alert alert-block alert-success\">\n",
    "<b>Éxito</b> <a class=\"tocSkip\"></a>\n",
    "\n",
    "Excelentes comentarios, Sara! gracias por investigar más allá :)"
   ]
  },
  {
   "cell_type": "markdown",
   "metadata": {},
   "source": [
    "**3.2 Identificaremos del otro DataFrame los datos de la competencia, es decir cuáles son las 10 empresas de taxis con mayores números de viajes entre el 15 y 16 de noviembre del 2017, y lo representaremos en un gráfico de pastel para observar dentro del top 10 que porcentaje de participación representa cada empresa.**"
   ]
  },
  {
   "cell_type": "code",
   "execution_count": 8,
   "metadata": {},
   "outputs": [
    {
     "data": {
      "text/plain": [
       "<AxesSubplot:title={'center':'Participación dentro del Top 10 de las empresas de taxis con mayores viajes'}, ylabel='trips_amount'>"
      ]
     },
     "execution_count": 8,
     "metadata": {},
     "output_type": "execute_result"
    },
    {
     "data": {
      "image/png": "[encoded data removed]",
      "text/plain": [
       "<Figure size 792x720 with 1 Axes>"
      ]
     },
     "metadata": {},
     "output_type": "display_data"
    }
   ],
   "source": [
    "cabs1= cabs.pivot_table(index='company_name', values='trips_amount').sort_values(by='trips_amount',ascending=False).head(10).plot(kind='pie',y='trips_amount',title='Participación dentro del Top 10 de las empresas de taxis con mayores viajes', figsize=(11,10),autopct='%0.1f %%')\n",
    "cabs1"
   ]
  },
  {
   "cell_type": "markdown",
   "metadata": {},
   "source": [
    "<div class=\"alert alert-block alert-success\">\n",
    "<b>Éxito</b> <a class=\"tocSkip\"></a>\n",
    "\n",
    "Excelente representar esto con una gráfica de pastel! es mejor!"
   ]
  },
  {
   "cell_type": "markdown",
   "metadata": {},
   "source": [
    "* El top 10 de empresas de taxis con mayores viajes registrados entre el 15 y 16 de noviembre del 2017 son: \n",
    "    1. Flash Cab\n",
    "    2.Taxi Affiliation Services\n",
    "    3.Medallion Leasing\n",
    "    4.Yellow Cab\n",
    "    5.Taxi Affiliation Service Yellow\n",
    "    6. Chicago Carriage Cab Corp\n",
    "    7. City Service\t\n",
    "    8. Sun Taxi\n",
    "    9. Star North Management LLC\n",
    "    10. Blue Ribbon Taxi Association Inc.\n",
    "    \n",
    "    \n",
    "* Dentro de este grupo, el 50% de la participación son representados por las empresas de: Flash Cab, \n",
    "    Taxi Affiliation Services, Medallion Leasing y Yellow Cab. \n",
    "* Para el resto de las empresas de taxis tiene una participación entre el 9% y 6%, por lo que se puede decir que hay presencia de una rivalidad en la industria de movilización.\n"
   ]
  },
  {
   "cell_type": "markdown",
   "metadata": {},
   "source": [
    "<div class=\"alert alert-block alert-success\">\n",
    "<b>Éxito</b> <a class=\"tocSkip\"></a>\n",
    "\n",
    "Muy bien!"
   ]
  },
  {
   "cell_type": "markdown",
   "metadata": {},
   "source": [
    "**Conclusiones intermedias**"
   ]
  },
  {
   "cell_type": "markdown",
   "metadata": {},
   "source": [
    "* La empresa líder de taxis es Fash Cab que representa casi el 20% dentro del top 10 de empresas con mayores registros de viajes entre el 15 y 16 de noviembre del 2017. \n",
    "* Los barrios que tienen un mayor promedio como destino del viaje son lugares dentro de la ciudad de Chicago que son centros turísticos, comerciales, hostería y aeropuertos."
   ]
  },
  {
   "cell_type": "markdown",
   "metadata": {},
   "source": [
    "<div class=\"alert alert-block alert-success\">\n",
    "<b>Éxito</b> <a class=\"tocSkip\"></a>\n",
    "\n",
    "Genial agregar conclusiones intermedias!"
   ]
  },
  {
   "cell_type": "markdown",
   "metadata": {},
   "source": [
    "# 4. Prueba de hipótesis"
   ]
  },
  {
   "cell_type": "markdown",
   "metadata": {},
   "source": [
    "El resultado de este último archivo contiene datos sobre viajes realizados los días sábados de noviembre de 2017 desde el Loop hasta el Aeropuerto Internacional O'Hare. \n",
    "Estos son los valores de campo de la tabla:\n",
    "\n",
    "* start_ts: fecha y hora de la recogida\n",
    "\n",
    "* weather_conditions: condiciones climáticas en el momento en el que comenzó el viaje\n",
    "\n",
    "* duration_seconds: duración del viaje en segundos"
   ]
  },
  {
   "cell_type": "code",
   "execution_count": 9,
   "metadata": {},
   "outputs": [],
   "source": [
    "#Recuperamos el archivo\n",
    "ph=pd.read_csv('/datasets/project_sql_result_07.csv')"
   ]
  },
  {
   "cell_type": "code",
   "execution_count": 10,
   "metadata": {},
   "outputs": [
    {
     "data": {
      "text/html": [
       "<div>\n",
       "<style scoped>\n",
       "    .dataframe tbody tr th:only-of-type {\n",
       "        vertical-align: middle;\n",
       "    }\n",
       "\n",
       "    .dataframe tbody tr th {\n",
       "        vertical-align: top;\n",
       "    }\n",
       "\n",
       "    .dataframe thead th {\n",
       "        text-align: right;\n",
       "    }\n",
       "</style>\n",
       "<table border=\"1\" class=\"dataframe\">\n",
       "  <thead>\n",
       "    <tr style=\"text-align: right;\">\n",
       "      <th></th>\n",
       "      <th>start_ts</th>\n",
       "      <th>weather_conditions</th>\n",
       "      <th>duration_seconds</th>\n",
       "    </tr>\n",
       "  </thead>\n",
       "  <tbody>\n",
       "    <tr>\n",
       "      <th>0</th>\n",
       "      <td>2017-11-25 16:00:00</td>\n",
       "      <td>Good</td>\n",
       "      <td>2410.0</td>\n",
       "    </tr>\n",
       "    <tr>\n",
       "      <th>1</th>\n",
       "      <td>2017-11-25 14:00:00</td>\n",
       "      <td>Good</td>\n",
       "      <td>1920.0</td>\n",
       "    </tr>\n",
       "    <tr>\n",
       "      <th>2</th>\n",
       "      <td>2017-11-25 12:00:00</td>\n",
       "      <td>Good</td>\n",
       "      <td>1543.0</td>\n",
       "    </tr>\n",
       "    <tr>\n",
       "      <th>3</th>\n",
       "      <td>2017-11-04 10:00:00</td>\n",
       "      <td>Good</td>\n",
       "      <td>2512.0</td>\n",
       "    </tr>\n",
       "    <tr>\n",
       "      <th>4</th>\n",
       "      <td>2017-11-11 07:00:00</td>\n",
       "      <td>Good</td>\n",
       "      <td>1440.0</td>\n",
       "    </tr>\n",
       "  </tbody>\n",
       "</table>\n",
       "</div>"
      ],
      "text/plain": [
       "              start_ts weather_conditions  duration_seconds\n",
       "0  2017-11-25 16:00:00               Good            2410.0\n",
       "1  2017-11-25 14:00:00               Good            1920.0\n",
       "2  2017-11-25 12:00:00               Good            1543.0\n",
       "3  2017-11-04 10:00:00               Good            2512.0\n",
       "4  2017-11-11 07:00:00               Good            1440.0"
      ]
     },
     "execution_count": 10,
     "metadata": {},
     "output_type": "execute_result"
    }
   ],
   "source": [
    "# Mostramos las primeras 5 filas del DataFrame\n",
    "ph.head()"
   ]
  },
  {
   "cell_type": "code",
   "execution_count": 11,
   "metadata": {},
   "outputs": [
    {
     "name": "stdout",
     "output_type": "stream",
     "text": [
      "<class 'pandas.core.frame.DataFrame'>\n",
      "RangeIndex: 1068 entries, 0 to 1067\n",
      "Data columns (total 3 columns):\n",
      " #   Column              Non-Null Count  Dtype  \n",
      "---  ------              --------------  -----  \n",
      " 0   start_ts            1068 non-null   object \n",
      " 1   weather_conditions  1068 non-null   object \n",
      " 2   duration_seconds    1068 non-null   float64\n",
      "dtypes: float64(1), object(2)\n",
      "memory usage: 25.2+ KB\n"
     ]
    }
   ],
   "source": [
    "# Vemos la información del DataFrame\n",
    "ph.info()"
   ]
  },
  {
   "cell_type": "markdown",
   "metadata": {},
   "source": [
    "Por lo que observamos en la tabla la columna start_ts esta con formato de año-mes-dia-horas y minutos, mientras que el tipo de dato lo está considerando como tipo objeto, por lo que cambiaremos al tipo de dato de fecha."
   ]
  },
  {
   "cell_type": "code",
   "execution_count": 12,
   "metadata": {},
   "outputs": [],
   "source": [
    "ph['start_ts']= pd.to_datetime(ph['start_ts'], format='%Y-%m-%dT%H:%M')"
   ]
  },
  {
   "cell_type": "markdown",
   "metadata": {},
   "source": [
    "<div class=\"alert alert-block alert-success\">\n",
    "<b>Éxito</b> <a class=\"tocSkip\"></a>\n",
    "\n",
    "Buen cambio de tipo!"
   ]
  },
  {
   "cell_type": "code",
   "execution_count": 13,
   "metadata": {},
   "outputs": [
    {
     "name": "stdout",
     "output_type": "stream",
     "text": [
      "<class 'pandas.core.frame.DataFrame'>\n",
      "RangeIndex: 1068 entries, 0 to 1067\n",
      "Data columns (total 3 columns):\n",
      " #   Column              Non-Null Count  Dtype         \n",
      "---  ------              --------------  -----         \n",
      " 0   start_ts            1068 non-null   datetime64[ns]\n",
      " 1   weather_conditions  1068 non-null   object        \n",
      " 2   duration_seconds    1068 non-null   float64       \n",
      "dtypes: datetime64[ns](1), float64(1), object(1)\n",
      "memory usage: 25.2+ KB\n"
     ]
    }
   ],
   "source": [
    "#Comprobación del cambio en el tipo de dato\n",
    "ph.info()"
   ]
  },
  {
   "cell_type": "markdown",
   "metadata": {},
   "source": [
    "A continuación evaluaremos una prueba de hipótesis sobre si un factor externo como es el clima afecta en la duración del viaje."
   ]
  },
  {
   "cell_type": "markdown",
   "metadata": {},
   "source": [
    "**4.1 La duración promedio de los viajes desde el Loop hasta el Aeropuerto Internacional O'Hare cambia los sábados lluviosos**"
   ]
  },
  {
   "cell_type": "markdown",
   "metadata": {},
   "source": [
    "* H₀= La duración promedio de los viajes desde el Loop hasta el Aeropuerto Internacional O'Hare no cambia los sábados no lluviosos.\n",
    "* H₁ = La duración promedio de los viajes desde el Loop hasta el Aeropuerto Internacional O'Hare cambia los sábados lluviosos."
   ]
  },
  {
   "cell_type": "markdown",
   "metadata": {},
   "source": [
    "<div class=\"alert alert-block alert-success\">\n",
    "<b>Éxito</b> <a class=\"tocSkip\"></a>\n",
    "\n",
    "Buena definición de hipótesis"
   ]
  },
  {
   "cell_type": "markdown",
   "metadata": {},
   "source": [
    "Para la pruebas de la hipótesis utilizaremos las pruebas de igualdad de varianza de Levene la cual prueba que las muestras provienen de poblaciones con varianzas iguales. Por lo que formulamos la hipótesis alternativa igual a lo que queremos comprobar que es cierto, es decir que la duración promedio de los viajes desde el Loop hasta el Aeropuerto Internacional O'Hare cambia los sábados lluviosos, y la hipóteis nula como lo contrario.\n",
    "\n",
    "Estableceremos el nivel de significancia en 0.05 para comprobarlo con el valor p que obtengamos en la prueba de las medias."
   ]
  },
  {
   "cell_type": "code",
   "execution_count": 14,
   "metadata": {},
   "outputs": [
    {
     "data": {
      "text/plain": [
       "0       2410.0\n",
       "1       1920.0\n",
       "2       1543.0\n",
       "3       2512.0\n",
       "4       1440.0\n",
       "         ...  \n",
       "1062    1500.0\n",
       "1063       0.0\n",
       "1064    1318.0\n",
       "1065    2100.0\n",
       "1066    1380.0\n",
       "Name: duration_seconds, Length: 888, dtype: float64"
      ]
     },
     "execution_count": 14,
     "metadata": {},
     "output_type": "execute_result"
    }
   ],
   "source": [
    "#Duración de los viajes para los sábados con buen clima.\n",
    "ph0= ph.query('weather_conditions == \"Good\"')\n",
    "ph0=ph0['duration_seconds']\n",
    "ph0"
   ]
  },
  {
   "cell_type": "code",
   "execution_count": 15,
   "metadata": {},
   "outputs": [
    {
     "data": {
      "text/plain": [
       "6       2969.0\n",
       "30      1980.0\n",
       "34      2460.0\n",
       "51      2760.0\n",
       "52      2460.0\n",
       "         ...  \n",
       "1031    2560.0\n",
       "1032    1908.0\n",
       "1053    2400.0\n",
       "1061    2186.0\n",
       "1067    2834.0\n",
       "Name: duration_seconds, Length: 180, dtype: float64"
      ]
     },
     "execution_count": 15,
     "metadata": {},
     "output_type": "execute_result"
    }
   ],
   "source": [
    "#Duración de los viajes para los sábados lluviosos.\n",
    "ph1= ph.query('weather_conditions == \"Bad\"')\n",
    "ph1=ph1['duration_seconds']\n",
    "ph1"
   ]
  },
  {
   "cell_type": "code",
   "execution_count": 16,
   "metadata": {},
   "outputs": [
    {
     "name": "stdout",
     "output_type": "stream",
     "text": [
      "p-value: 0.5332038671974493\n",
      "No se rechaza la igualdad de varianzas\n"
     ]
    }
   ],
   "source": [
    "#Método de Levene\n",
    "stat, p = levene(ph0, ph1)\n",
    "\n",
    "print('p-value:', p)\n",
    "\n",
    "if p < 0.05:\n",
    "    print('Rechaza la igualdad de varianzas')\n",
    "if p > 0.05:\n",
    "    print('No se rechaza la igualdad de varianzas')\n"
   ]
  },
  {
   "cell_type": "markdown",
   "metadata": {},
   "source": [
    "<div class=\"alert alert-block alert-success\">\n",
    "<b>Éxito</b> <a class=\"tocSkip\"></a>\n",
    "\n",
    "Excelente hacer prueba de Levene para reforzar tus resultados!"
   ]
  },
  {
   "cell_type": "code",
   "execution_count": 17,
   "metadata": {},
   "outputs": [
    {
     "data": {
      "text/plain": [
       "[576382.009689509, 520294.086002483]"
      ]
     },
     "execution_count": 17,
     "metadata": {},
     "output_type": "execute_result"
    }
   ],
   "source": [
    "[np.var(x, ddof=1) for x in [ph0, ph1]]"
   ]
  },
  {
   "cell_type": "code",
   "execution_count": 18,
   "metadata": {},
   "outputs": [
    {
     "name": "stdout",
     "output_type": "stream",
     "text": [
      "Duración promedio de los viajes desde el Loop hasta el Aeropuerto Internacional O Hare son 1999.6756756756756 segundos en sábados no lluviosos\n"
     ]
    }
   ],
   "source": [
    "#Promedio de la duración de los viajes para los sábados con buen clima.\n",
    "print('Duración promedio de los viajes desde el Loop hasta el Aeropuerto Internacional O Hare son',ph0.mean(),'segundos en sábados no lluviosos')"
   ]
  },
  {
   "cell_type": "code",
   "execution_count": 19,
   "metadata": {},
   "outputs": [
    {
     "name": "stdout",
     "output_type": "stream",
     "text": [
      "Duración promedio de los viajes desde el Loop hasta el Aeropuerto Internacional O Hare son 2427.2055555555557 segundos en sábados lluviosos.\n"
     ]
    }
   ],
   "source": [
    "#Promedio de la duración de los viajes para los sábados lluviosos.\n",
    "print('Duración promedio de los viajes desde el Loop hasta el Aeropuerto Internacional O Hare son', ph1.mean(),'segundos en sábados lluviosos.')"
   ]
  },
  {
   "cell_type": "markdown",
   "metadata": {},
   "source": [
    "<div class=\"alert alert-block alert-success\">\n",
    "<b>Éxito</b> <a class=\"tocSkip\"></a>\n",
    "\n",
    "Muy bien calcular los promedios, Sara :) muchos estudiantes no lo hacen"
   ]
  },
  {
   "cell_type": "code",
   "execution_count": 20,
   "metadata": {},
   "outputs": [
    {
     "name": "stdout",
     "output_type": "stream",
     "text": [
      "p-value: 6.517970327099473e-12\n",
      "Rechazamos la hipótesis nula\n"
     ]
    }
   ],
   "source": [
    "#Prueba de las medias\n",
    "alpha= 0.05\n",
    "results= st.ttest_ind(ph0, ph1, equal_var = True)\n",
    "\n",
    "print('p-value:', results.pvalue)\n",
    "\n",
    "if results.pvalue < alpha:\n",
    "    print(\"Rechazamos la hipótesis nula\")\n",
    "    \n",
    "else:\n",
    "    print(\"No rechazamos la hipótesis nula\")"
   ]
  },
  {
   "cell_type": "markdown",
   "metadata": {},
   "source": [
    "<div class=\"alert alert-block alert-success\">\n",
    "<b>Éxito</b> <a class=\"tocSkip\"></a>\n",
    "\n",
    "Perfecta aplicación e interpretación de tu prueba T!"
   ]
  },
  {
   "cell_type": "markdown",
   "metadata": {},
   "source": [
    "**Conclusiones intermedias**\n",
    "* Si se acepta la prueba de igualdad de varianzas entre la duración de los viajes en sábados lluviosos y no lluviosos. \n",
    "* La probabildad de que la prueba de hipótesis coincida con la nula: \"La duración promedio de los viajes desde el Loop hasta el Aeropuerto Internacional O Hare no cambia los sábados no lluviosos\" es menor que el nivel de significancia por lo que rechazamos la hipótesis nula."
   ]
  },
  {
   "cell_type": "markdown",
   "metadata": {},
   "source": [
    "# 5. Conclusión General"
   ]
  },
  {
   "cell_type": "markdown",
   "metadata": {},
   "source": [
    "* Los pasajeros prefieren movilizarse a lugares de destino que ofrecen entretenimiento, hospedaje, servicio de aeropuerto y lugares turísticos como son los barrios de: Loop,\n",
    "River North, Streeteville, West Loop, O Hare, Lake View, Grant Park, Museum Campus, Gold Coasty Sheffield & DePaul. \n",
    "* De igual manera observamos que las empresas de taxis que más prefieren los pasajeros utilizar en sus viajes son: Flash Cab, Taxi Affiliation Services\n",
    "Medallion Leasing, Yellow Cab , Taxi Affiliation Service Yellow , Chicago Carriage Cab Corp, City Service, Sun Taxi, Star North Management LLC y Blue Ribbon Taxi Association Inc.\n",
    "* La empresa líder de taxis con mayores viajes registrados es Flash Cab porque ofrece el servicio  de movilización para 2 aeropuertos: O’Hare y Midway, adicional por ofrecer una opción fácil, segura y económica para los viajes desde la puerta de la casa hasta las terminales. \n",
    "* En cuanto al analizar como las condiciones climáticas afectaban a que cambiara el tiempo promedio de duración de un viaje los  sábados desde Loop hasta el Aeropuerto Internacional O'Hare, osbervamos que el tiempo es mayor cuando el clima es lluvioso y menor cuando hace buen clima. Adicional, rechazamos la hipótesis que los tiempos promedios no cambian cuando no son días lluviosos dado que su resultado fue menor que el nivel de significancia."
   ]
  },
  {
   "cell_type": "markdown",
   "metadata": {},
   "source": [
    "<div class=\"alert alert-block alert-success\">\n",
    "<b>Éxito</b> <a class=\"tocSkip\"></a>\n",
    "\n",
    "Perfectas conclusiones recapitulando todo el proyecto! :)"
   ]
  },
  {
   "cell_type": "code",
   "execution_count": null,
   "metadata": {},
   "outputs": [],
   "source": []
  }
 ],
 "metadata": {
  "kernelspec": {
   "display_name": "Python 3 (ipykernel)",
   "language": "python",
   "name": "python3"
  },
  "language_info": {
   "codemirror_mode": {
    "name": "ipython",
    "version": 3
   },
   "file_extension": ".py",
   "mimetype": "text/x-python",
   "name": "python",
   "nbconvert_exporter": "python",
   "pygments_lexer": "ipython3",
   "version": "3.9.5"
  },
  "toc": {
   "base_numbering": 1,
   "nav_menu": {},
   "number_sections": true,
   "sideBar": true,
   "skip_h1_title": true,
   "title_cell": "Table of Contents",
   "title_sidebar": "Contents",
   "toc_cell": false,
   "toc_position": {},
   "toc_section_display": true,
   "toc_window_display": false
  }
 },
 "nbformat": 4,
 "nbformat_minor": 2
}
