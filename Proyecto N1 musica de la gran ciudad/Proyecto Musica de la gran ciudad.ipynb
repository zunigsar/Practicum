{
 "cells": [
  {
   "cell_type": "markdown",
   "metadata": {
    "id": "E0vqbgi9ay0H"
   },
   "source": [
    "# Yandex.Music"
   ]
  },
  {
   "cell_type": "markdown",
   "metadata": {},
   "source": [
    "**Hola!**\n",
    "\n",
    "Mi nombre es Maria Efimova, voy a revisar tu proyecto. Encantada de conocerte :)\n",
    "Está bien si hablamos en 'Tú'? Por favor, dime si eso no está bien para tí, lo cambiaremos.\n",
    "\n",
    "Mi trabajo no es señalar los errores que cometiste, sino compartir mi experiencia y ayudarte a convertirte en analista de datos. Ya has trabajado mucho en el proyecto, pero vamos a hacerlo aún mejor. A continuación encontrará mis comentarios; no los mueva, modifique ni elimine. Usaré marcas de color:\n",
    "\n",
    "\n",
    "<div class=\"alert alert-danger\">\n",
    "<b>❌ Comentario del revisor:</b> Esto destaca los comentarios más importantes. Sin su desarrollo, el proyecto no será aceptado. </div>\n",
    "\n",
    "\n",
    "<div class=\"alert alert-warning\">\n",
    "<b>⚠️ Comentario del revisor:</b> Así que los pequeños comentarios están resaltados. Se aceptan uno o dos comentarios de este tipo en el borrador, pero si hay más, deberá hacer las correcciones. Es como una tarea de prueba al solicitar un trabajo: muchos pequeños errores pueden hacer que un candidato sea rechazado.\n",
    "\n",
    "</div>\n",
    "\n",
    "<div class=\"alert alert-success\">\n",
    "<b>✔️ Comentario del revisor:</b> Así que destaco todos los demás comentarios.</div>\n",
    "\n",
    "Vamos a trabajar en el proyecto en un diálogo: si cambias algo en el proyecto o respondes a mis comentarios, escribe sobre eso. Será más fácil para mí seguir los cambios si resaltas tus comentarios asi:\n",
    "<div class=\"alert alert-info\"> <b>Comentario del estudiante:</b> Por ejemplo, asi.</div>\n",
    "\n",
    "Todo esto ayudará a volver a revisar tu proyecto más rápido.\n",
    " \n",
    "\n",
    "Recuerde que, si quieres dejarme un comentario en alguna parte del documento, sólo tiene que dar doble clic sobre la celda de arriba, copiar el código, pegarlo en una nueva celda y sustituir la frase \"En celdas como estas puede dejarme sus comentarios\" por su propio comentario. Asegúrese sólamente que la celda donde usted vaya a incluir su comentario esté en formato \"Markdown\".\n",
    "\n",
    "Respecto del proceso de revisión, esta es la <b>primera iteración</b> para este ejercicio. Su proyecto será aceptado una vez que los comentarios en rojo hayan sido atendidos. Al final de este Notebook encontrará comentarios con mis observaciones finales."
   ]
  },
  {
   "cell_type": "markdown",
   "metadata": {
    "id": "fhq_eyov_Zcs"
   },
   "source": [
    "# Contents <a id='back'></a>\n",
    "\n",
    "* [Introducción](#intro)\n",
    "* [Etapa 1. Descripción de los datos](#data_review)\n",
    "    * [Conclusions](#data_review_conclusions)\n",
    "* [Etapa 2. Data preprocessing](#data_preprocessing)\n",
    "    * [2.1 Estilo del encabezado](#header_style)\n",
    "    * [2.2 Valores ausentes](#missing_values)\n",
    "    * [2.3 Duplicados](#duplicates)\n",
    "    * [2.4 Conclusiones](#data_preprocessing_conclusions)\n",
    "* [Etapa 3. Prueba de hipótesis](#hypotheses)\n",
    "    * [3.1 Hipótesis 1: comparar el comportamiento del usuario en las dos ciudades](#activity)\n",
    "    * [3.2 Hipótesis 2: música al principio y al final de la semana](#week)\n",
    "    * [3.3 Hipótesis 3: preferencias de género en Springfield y Shelbyville](#genre)\n",
    "* [Conclusiones](#end)"
   ]
  },
  {
   "cell_type": "markdown",
   "metadata": {},
   "source": [
    "<div class=\"alert alert-success\">\n",
    "<b>✔️ Comentario del revisor:</b>\n",
    "\n",
    "Muchas gracias por poner títulos y subtítulos, así como una tabla de contenidos!"
   ]
  },
  {
   "cell_type": "markdown",
   "metadata": {
    "id": "VUC88oWjTJw2"
   },
   "source": [
    "## Introducción <a id='intro'></a>\n",
    "Siempre que investiguemos, necesitamos formular hipótesis que después podamos probar. A veces aceptamos estas hipótesis; otras, las rechazamos. Para tomar las decisiones correctas, una empresa debe ser capaz de entender si está haciendo las suposiciones correctas.\n",
    "\n",
    "En este proyecto, compararás las preferencias musicales de las ciudades de Springfield y Shelbyville. Estudiarás datos reales de Yandex.Music para probar las hipótesis de abajo y comparar el comportamiento del usuario de esas dos ciudades.\n",
    "\n",
    "### Objetivo: \n",
    "Prueba tres hipótesis: \n",
    "1. La actividad de los usuarios difiere según el día de la semana y dependiendo de la ciudad. \n",
    "2. Los lunes por la mañana, los habitantes de Springfield y Shelbyville escuchan diferentes géneros. Lo mismo ocurre con los viernes por la noche. \n",
    "3. Los oyentes de Springfield y Shelbyville tienen preferencias distintas. En Springfield prefieren el pop mientras que en Shelbyville hay más aficionados al rap.\n",
    "\n",
    "### Etapas \n",
    "Los datos del comportamiento del usuario se almacenan en el archivo `/datasets/music_project_en.csv`. No hay ninguna información sobre la calidad de los datos así que necesitarás examinarlos antes de probar las hipótesis. \n",
    "\n",
    "Primero, evaluarás la calidad de los datos y verás si los problemas son significativos. Entonces, durante el preprocesamiento de datos, tomarás en cuenta los problemas más críticos.\n",
    " \n",
    "Tu proyecto consistirá en tres etapas:\n",
    " 1. Descripción de los datos\n",
    " 2. Preprocesamiento de datos\n",
    " 3. Prueba de hipótesis\n",
    " \n",
    "[Volver a Contenidos](#back)"
   ]
  },
  {
   "cell_type": "markdown",
   "metadata": {},
   "source": [
    "<div class=\"alert alert-success\">\n",
    "<b>✔️ Comentario del revisor:</b>\n",
    "\n",
    "Es mucho mejor que pongas tu plan de lo que harás, justo como lo haces"
   ]
  },
  {
   "cell_type": "markdown",
   "metadata": {
    "id": "Ml1hmfXC_Zcs"
   },
   "source": [
    "## Etapa 1. Descripción de los datos <a id='data_review'></a>\n",
    "\n",
    "Abre los datos en Yandex.Music y examínalos."
   ]
  },
  {
   "cell_type": "markdown",
   "metadata": {
    "id": "57eAOGIz_Zcs"
   },
   "source": [
    "Necesitarás `pandas` así que impórtalo."
   ]
  },
  {
   "cell_type": "code",
   "execution_count": 1,
   "metadata": {
    "id": "AXN7PHPN_Zcs"
   },
   "outputs": [],
   "source": [
    "import pandas as pd\n"
   ]
  },
  {
   "cell_type": "markdown",
   "metadata": {
    "id": "SG23P8tt_Zcs"
   },
   "source": [
    "Lee el archivo `music_project_en.csv` de la carpeta `/datasets/` y guárdalo en la variable `df`:"
   ]
  },
  {
   "cell_type": "code",
   "execution_count": 2,
   "metadata": {
    "id": "fFVu7vqh_Zct",
    "scrolled": true
   },
   "outputs": [
    {
     "data": {
      "text/html": [
       "<div>\n",
       "<style scoped>\n",
       "    .dataframe tbody tr th:only-of-type {\n",
       "        vertical-align: middle;\n",
       "    }\n",
       "\n",
       "    .dataframe tbody tr th {\n",
       "        vertical-align: top;\n",
       "    }\n",
       "\n",
       "    .dataframe thead th {\n",
       "        text-align: right;\n",
       "    }\n",
       "</style>\n",
       "<table border=\"1\" class=\"dataframe\">\n",
       "  <thead>\n",
       "    <tr style=\"text-align: right;\">\n",
       "      <th></th>\n",
       "      <th>userID</th>\n",
       "      <th>Track</th>\n",
       "      <th>artist</th>\n",
       "      <th>genre</th>\n",
       "      <th>City</th>\n",
       "      <th>time</th>\n",
       "      <th>Day</th>\n",
       "    </tr>\n",
       "  </thead>\n",
       "  <tbody>\n",
       "    <tr>\n",
       "      <th>count</th>\n",
       "      <td>65079</td>\n",
       "      <td>63736</td>\n",
       "      <td>57512</td>\n",
       "      <td>63881</td>\n",
       "      <td>65079</td>\n",
       "      <td>65079</td>\n",
       "      <td>65079</td>\n",
       "    </tr>\n",
       "    <tr>\n",
       "      <th>unique</th>\n",
       "      <td>41748</td>\n",
       "      <td>39666</td>\n",
       "      <td>37806</td>\n",
       "      <td>268</td>\n",
       "      <td>2</td>\n",
       "      <td>20392</td>\n",
       "      <td>3</td>\n",
       "    </tr>\n",
       "    <tr>\n",
       "      <th>top</th>\n",
       "      <td>A8AE9169</td>\n",
       "      <td>Brand</td>\n",
       "      <td>Kartvelli</td>\n",
       "      <td>pop</td>\n",
       "      <td>Springfield</td>\n",
       "      <td>08:14:07</td>\n",
       "      <td>Friday</td>\n",
       "    </tr>\n",
       "    <tr>\n",
       "      <th>freq</th>\n",
       "      <td>76</td>\n",
       "      <td>136</td>\n",
       "      <td>136</td>\n",
       "      <td>8850</td>\n",
       "      <td>45360</td>\n",
       "      <td>14</td>\n",
       "      <td>23149</td>\n",
       "    </tr>\n",
       "  </tbody>\n",
       "</table>\n",
       "</div>"
      ],
      "text/plain": [
       "          userID  Track     artist  genre       City        time     Day\n",
       "count      65079  63736      57512  63881        65079     65079   65079\n",
       "unique     41748  39666      37806    268            2     20392       3\n",
       "top     A8AE9169  Brand  Kartvelli    pop  Springfield  08:14:07  Friday\n",
       "freq          76    136        136   8850        45360        14   23149"
      ]
     },
     "execution_count": 2,
     "metadata": {},
     "output_type": "execute_result"
    }
   ],
   "source": [
    "df= pd.read_csv('/datasets/music_project_en.csv')\n",
    "df.describe()"
   ]
  },
  {
   "cell_type": "markdown",
   "metadata": {},
   "source": [
    "<div class=\"alert alert-success\">\n",
    "<b>✔️ Comentario del revisor:</b>\n",
    "\n",
    "Correcto!"
   ]
  },
  {
   "cell_type": "markdown",
   "metadata": {
    "id": "rDoOMd3uTqnZ"
   },
   "source": [
    "Imprime las 10 primeras filas de la tabla:"
   ]
  },
  {
   "cell_type": "code",
   "execution_count": 3,
   "metadata": {
    "id": "oWTVX3gW_Zct",
    "scrolled": true
   },
   "outputs": [
    {
     "name": "stdout",
     "output_type": "stream",
     "text": [
      "     userID                        Track            artist   genre  \\\n",
      "0  FFB692EC            Kamigata To Boots  The Mass Missile    rock   \n",
      "1  55204538  Delayed Because of Accident  Andreas Rönnberg    rock   \n",
      "2    20EC38            Funiculì funiculà       Mario Lanza     pop   \n",
      "3  A3DD03C9        Dragons in the Sunset        Fire + Ice    folk   \n",
      "4  E2DC1FAE                  Soul People        Space Echo   dance   \n",
      "5  842029A1                       Chains          Obladaet  rusrap   \n",
      "6  4CB90AA5                         True      Roman Messer   dance   \n",
      "7  F03E1C1F             Feeling This Way   Polina Griffith   dance   \n",
      "8  8FA1D3BE                     L’estate       Julia Dalia  ruspop   \n",
      "9  E772D5C0                    Pessimist               NaN   dance   \n",
      "\n",
      "        City        time        Day  \n",
      "0  Shelbyville  20:28:33  Wednesday  \n",
      "1  Springfield  14:07:09     Friday  \n",
      "2  Shelbyville  20:58:07  Wednesday  \n",
      "3  Shelbyville  08:37:09     Monday  \n",
      "4  Springfield  08:34:34     Monday  \n",
      "5  Shelbyville  13:09:41     Friday  \n",
      "6  Springfield  13:00:07  Wednesday  \n",
      "7  Springfield  20:47:49  Wednesday  \n",
      "8  Springfield  09:17:40     Friday  \n",
      "9  Shelbyville  21:20:49  Wednesday  \n"
     ]
    }
   ],
   "source": [
    "print(df.head(10))"
   ]
  },
  {
   "cell_type": "markdown",
   "metadata": {
    "id": "EO73Kwic_Zct"
   },
   "source": [
    "Obtener la información general sobre la tabla con un comando:"
   ]
  },
  {
   "cell_type": "code",
   "execution_count": 4,
   "metadata": {
    "id": "DSf2kIb-_Zct"
   },
   "outputs": [
    {
     "name": "stdout",
     "output_type": "stream",
     "text": [
      "<class 'pandas.core.frame.DataFrame'>\n",
      "RangeIndex: 65079 entries, 0 to 65078\n",
      "Data columns (total 7 columns):\n",
      " #   Column    Non-Null Count  Dtype \n",
      "---  ------    --------------  ----- \n",
      " 0     userID  65079 non-null  object\n",
      " 1   Track     63736 non-null  object\n",
      " 2   artist    57512 non-null  object\n",
      " 3   genre     63881 non-null  object\n",
      " 4     City    65079 non-null  object\n",
      " 5   time      65079 non-null  object\n",
      " 6   Day       65079 non-null  object\n",
      "dtypes: object(7)\n",
      "memory usage: 3.5+ MB\n",
      "None\n"
     ]
    }
   ],
   "source": [
    "print(df.info())"
   ]
  },
  {
   "cell_type": "markdown",
   "metadata": {
    "id": "TaQ2Iwbr_Zct"
   },
   "source": [
    "La tabla contiene siete columnas. Todas almacenan el mismo tipo de datos: objeto.\n",
    "\n",
    "De acuerdo con la documentación:\n",
    "- `'userID'` — identificador del usuario\n",
    "- `'Track'` — título de la pista\n",
    "- `'artist'` — nombre del artista\n",
    "- `'genre'` — género\n",
    "- `'City'` — ciudad del usuario\n",
    "- `'time'` — el periodo de tiempo exacto en que se reprodujo la pista\n",
    "- `'Day'` — día de la semana\n",
    "\n",
    "Podemos ver tres problemas con el estilo en los nombres de las columnas:\n",
    "1. Algunos nombres están en mayúsculas, otros en minúsculas.\n",
    "2. Hay algunos espacios en algunos nombres.\n",
    "3. `Valores ausentes`.\n",
    "\n",
    "El número de valores de las columnas es diferente. Esto significa que los datos contienen valores ausentes.\n"
   ]
  },
  {
   "cell_type": "markdown",
   "metadata": {
    "id": "MCB6-dXG_Zct"
   },
   "source": [
    "### Conclusiones <a id='data_review_conclusions'></a> \n",
    "\n",
    "Cada fila de la tabla almacena datos de la pista que fue reproducida. Algunas columnas describen la pista en sí: su título, el artista y el género. El resto transmite la información del usuario: la ciudad de la que viene, el tiempo que ha reproducido la pista. \n",
    "\n",
    "Está claro que los datos son suficientes para probar la hipótesis. Sin embargo, hay valores ausentes.\n",
    "\n",
    "Para continuar, necesitamos preprocesar los datos."
   ]
  },
  {
   "cell_type": "markdown",
   "metadata": {},
   "source": [
    "<div class=\"alert alert-success\">\n",
    "<b>✔️ Comentario del revisor:</b>\n",
    "\n",
    "Buen inicio! El read con la ruta correcta, el head, y el info! Y un describe también ayuda. Además muy buenas observaciones.</div>"
   ]
  },
  {
   "cell_type": "markdown",
   "metadata": {
    "id": "3eL__vcwViOi"
   },
   "source": [
    "[Volver a Contenidos](#back)"
   ]
  },
  {
   "cell_type": "markdown",
   "metadata": {
    "id": "SjYF6Ub9_Zct"
   },
   "source": [
    "## Etapa 2. Preprocesamiento de datos <a id='data_preprocessing'></a>\n",
    "Corrige el formato en los encabezados de las columnas y ocúpate de los valores ausentes. Después, comprueba si hay duplicados en los datos."
   ]
  },
  {
   "cell_type": "markdown",
   "metadata": {
    "id": "dIaKXr29_Zct"
   },
   "source": [
    "### Estilo del encabezado <a id='header_style'></a>\n",
    "Imprime el encabezado de la columna:"
   ]
  },
  {
   "cell_type": "code",
   "execution_count": 5,
   "metadata": {
    "id": "oKOTdF_Q_Zct"
   },
   "outputs": [
    {
     "name": "stdout",
     "output_type": "stream",
     "text": [
      "Index(['  userID', 'Track', 'artist', 'genre', '  City  ', 'time', 'Day'], dtype='object')\n"
     ]
    }
   ],
   "source": [
    "print(df.columns)"
   ]
  },
  {
   "cell_type": "markdown",
   "metadata": {
    "id": "zj5534cv_Zct"
   },
   "source": [
    "Cambia los nombres de las columnas de acuerdo con las reglas del buen estilo:\n",
    "* Si el nombre tiene varias palabras, utiliza snake_case\n",
    "* Todos los caracteres deben ser minúsculas\n",
    "* Elimina los espacios"
   ]
  },
  {
   "cell_type": "code",
   "execution_count": 6,
   "metadata": {
    "id": "ISlFqs5y_Zct"
   },
   "outputs": [],
   "source": [
    "df=df.rename(\n",
    "columns={\n",
    "    '  userID':'user_id',\n",
    "    'Track': 'track',\n",
    "    '  City  ': 'city',\n",
    "    'Day': 'day',\n",
    "   \n",
    "}\n",
    ")\n"
   ]
  },
  {
   "cell_type": "markdown",
   "metadata": {},
   "source": [
    "<div class=\"alert alert-success\">\n",
    "<b>✔️ Comentario del revisor:</b>\n",
    "\n",
    "Correcto, es práctico dejar los encabezados de esta forma"
   ]
  },
  {
   "cell_type": "markdown",
   "metadata": {
    "id": "1dqbh00J_Zct"
   },
   "source": [
    "Comprueba el resultado. Imprime los nombres de las columnas una vez más:"
   ]
  },
  {
   "cell_type": "code",
   "execution_count": 7,
   "metadata": {
    "id": "d4NOAmTW_Zct"
   },
   "outputs": [
    {
     "name": "stdout",
     "output_type": "stream",
     "text": [
      "Index(['user_id', 'track', 'artist', 'genre', 'city', 'time', 'day'], dtype='object')\n"
     ]
    }
   ],
   "source": [
    "print(df.columns)"
   ]
  },
  {
   "cell_type": "markdown",
   "metadata": {
    "id": "xYJk6ksJVpOl"
   },
   "source": [
    "[Volver a Contenidos](#back)"
   ]
  },
  {
   "cell_type": "markdown",
   "metadata": {
    "id": "5ISfbcfY_Zct"
   },
   "source": [
    "### Valores ausentes <a id='missing_values'></a>\n",
    "Primero encuentra el número de valores ausentes en la tabla. Para ello, utiliza dos métodos pandas:"
   ]
  },
  {
   "cell_type": "code",
   "execution_count": 8,
   "metadata": {
    "id": "RskX29qr_Zct"
   },
   "outputs": [
    {
     "name": "stdout",
     "output_type": "stream",
     "text": [
      "user_id       0\n",
      "track      1343\n",
      "artist     7567\n",
      "genre      1198\n",
      "city          0\n",
      "time          0\n",
      "day           0\n",
      "dtype: int64\n"
     ]
    }
   ],
   "source": [
    "print(df.isna().sum())\n"
   ]
  },
  {
   "cell_type": "markdown",
   "metadata": {},
   "source": [
    "<div class=\"alert alert-success\">\n",
    "<b>✔️ Comentario del revisor:</b>\n",
    "\n",
    "Exacto! muy buena manera de mostrar ausentes.</div>"
   ]
  },
  {
   "cell_type": "markdown",
   "metadata": {
    "id": "qubhgnlO_Zct"
   },
   "source": [
    "No todos los valores ausentes afectan a la investigación. Por ejemplo, los valores ausentes en la pista y artista no son cruciales. Simplemente puedes reemplazarlos por marcadores claros.\n",
    "\n",
    "Pero los valores ausentes en `'genre'` pueden afectar la comparación entre las preferencias musicales de Springfield y Shelbyville. En la vida real, sería útil saber las razones por las cuales hay datos ausentes e intentar recuperarlos. Pero no tenemos esa oportunidad en este proyecto. Así que tendrás que:\n",
    "* Rellenar esos valores ausentes con marcadores\n",
    "* Evaluar cuánto podrían afectar los valores ausentes a tus cómputos."
   ]
  },
  {
   "cell_type": "markdown",
   "metadata": {
    "id": "fSv2laPA_Zct"
   },
   "source": [
    "Reemplazar los valores ausentes en `'track'`, `'artist'`, y `'genre'` con la string `'unknown'`. Para ello, crea la lista `columns_to_replace`, recórrela con un bucle `for` y reemplaza los valores ausentes en cada una de las columnas:"
   ]
  },
  {
   "cell_type": "code",
   "execution_count": 9,
   "metadata": {
    "id": "KplB5qWs_Zct"
   },
   "outputs": [],
   "source": [
    "columns_to_replace = ['artist','track','genre']\n",
    "for column in columns_to_replace:\n",
    "    df[column]= df[column].fillna('unknown')\n"
   ]
  },
  {
   "cell_type": "markdown",
   "metadata": {},
   "source": [
    "<div class=\"alert alert-success\">\n",
    "<b>✔️ Comentario del revisor:</b>\n",
    "\n",
    "Excelente, no olvides que los bucles for son una poderosa herramienta</div>"
   ]
  },
  {
   "cell_type": "markdown",
   "metadata": {
    "id": "Ilsm-MZo_Zct"
   },
   "source": [
    "Asegúrate de que la tabla no contiene más valores ausentes. Cuenta de nuevo los valores ausentes."
   ]
  },
  {
   "cell_type": "code",
   "execution_count": 10,
   "metadata": {
    "id": "Tq4nYRX4_Zct",
    "scrolled": true
   },
   "outputs": [
    {
     "name": "stdout",
     "output_type": "stream",
     "text": [
      "user_id    0\n",
      "track      0\n",
      "artist     0\n",
      "genre      0\n",
      "city       0\n",
      "time       0\n",
      "day        0\n",
      "dtype: int64\n"
     ]
    }
   ],
   "source": [
    "print(df.isna().sum())"
   ]
  },
  {
   "cell_type": "markdown",
   "metadata": {
    "id": "74ZIBmq9VrsK"
   },
   "source": [
    "[Volver a Contenidos](#back)"
   ]
  },
  {
   "cell_type": "markdown",
   "metadata": {
    "id": "BWKRtBJ3_Zct"
   },
   "source": [
    "### Duplicados <a id='duplicates'></a>\n",
    "Encuentra el número de duplicados obvios en la tabla utilizando un comando:"
   ]
  },
  {
   "cell_type": "code",
   "execution_count": 11,
   "metadata": {
    "id": "36eES_S0_Zct"
   },
   "outputs": [
    {
     "name": "stdout",
     "output_type": "stream",
     "text": [
      "3826\n"
     ]
    }
   ],
   "source": [
    "print(df.duplicated().sum())"
   ]
  },
  {
   "cell_type": "markdown",
   "metadata": {},
   "source": [
    "<div class=\"alert alert-success\">\n",
    "<b>✔️ Comentario del revisor:</b>\n",
    "\n",
    "Bien! nunca olvides checar duplicados de todos tus proyectos"
   ]
  },
  {
   "cell_type": "markdown",
   "metadata": {
    "id": "Ot25h6XR_Zct"
   },
   "source": [
    "Llama al método `pandas` para deshacerte de los duplicados obvios:"
   ]
  },
  {
   "cell_type": "code",
   "execution_count": 12,
   "metadata": {
    "id": "exFHq6tt_Zct"
   },
   "outputs": [],
   "source": [
    "df=df.drop_duplicates()"
   ]
  },
  {
   "cell_type": "markdown",
   "metadata": {
    "id": "Im2YwBEG_Zct"
   },
   "source": [
    "Cuenta los duplicados obvios una vez más para asegurarte de que todos han sido eliminados:"
   ]
  },
  {
   "cell_type": "code",
   "execution_count": 13,
   "metadata": {
    "id": "-8PuNWQ0_Zct"
   },
   "outputs": [
    {
     "name": "stdout",
     "output_type": "stream",
     "text": [
      "0\n"
     ]
    }
   ],
   "source": [
    "print(df.duplicated().sum())"
   ]
  },
  {
   "cell_type": "markdown",
   "metadata": {
    "id": "QlFBsxAr_Zct"
   },
   "source": [
    "Ahora deshazte de los duplicados implícitos en la columna genre. Por ejemplo, el nombre de un género se puede escribir de varias formas. Dichos errores también pueden afectar a resultado."
   ]
  },
  {
   "cell_type": "markdown",
   "metadata": {
    "id": "eSjWwsOh_Zct"
   },
   "source": [
    "Imprime una lista de nombres únicos de géneros, ordenados en orden alfabético. Cómo se hace:\n",
    "* Recupera la deseada columna DataFrame \n",
    "* Aplícale un método de orden\n",
    "* Para la columna ordenada, llama al método que te devolverá todos los valores de columna únicos"
   ]
  },
  {
   "cell_type": "code",
   "execution_count": 14,
   "metadata": {
    "id": "JIUcqzZN_Zct",
    "scrolled": true
   },
   "outputs": [
    {
     "name": "stdout",
     "output_type": "stream",
     "text": [
      "['acid' 'acoustic' 'action' 'adult' 'africa' 'afrikaans' 'alternative'\n",
      " 'ambient' 'americana' 'animated' 'anime' 'arabesk' 'arabic' 'arena'\n",
      " 'argentinetango' 'art' 'audiobook' 'avantgarde' 'axé' 'baile' 'balkan'\n",
      " 'beats' 'bigroom' 'black' 'bluegrass' 'blues' 'bollywood' 'bossa'\n",
      " 'brazilian' 'breakbeat' 'breaks' 'broadway' 'cantautori' 'cantopop'\n",
      " 'canzone' 'caribbean' 'caucasian' 'celtic' 'chamber' 'children' 'chill'\n",
      " 'chinese' 'choral' 'christian' 'christmas' 'classical' 'classicmetal'\n",
      " 'club' 'colombian' 'comedy' 'conjazz' 'contemporary' 'country' 'cuban'\n",
      " 'dance' 'dancehall' 'dancepop' 'dark' 'death' 'deep' 'deutschrock'\n",
      " 'deutschspr' 'dirty' 'disco' 'dnb' 'documentary' 'downbeat' 'downtempo'\n",
      " 'drum' 'dub' 'dubstep' 'eastern' 'easy' 'electronic' 'electropop' 'emo'\n",
      " 'entehno' 'epicmetal' 'estrada' 'ethnic' 'eurofolk' 'european'\n",
      " 'experimental' 'extrememetal' 'fado' 'film' 'fitness' 'flamenco' 'folk'\n",
      " 'folklore' 'folkmetal' 'folkrock' 'folktronica' 'forró' 'frankreich'\n",
      " 'französisch' 'french' 'funk' 'future' 'gangsta' 'garage' 'german'\n",
      " 'ghazal' 'gitarre' 'glitch' 'gospel' 'gothic' 'grime' 'grunge' 'gypsy'\n",
      " 'handsup' \"hard'n'heavy\" 'hardcore' 'hardstyle' 'hardtechno' 'hip'\n",
      " 'hip-hop' 'hiphop' 'historisch' 'holiday' 'hop' 'horror' 'house' 'idm'\n",
      " 'independent' 'indian' 'indie' 'indipop' 'industrial' 'inspirational'\n",
      " 'instrumental' 'international' 'irish' 'jam' 'japanese' 'jazz' 'jewish'\n",
      " 'jpop' 'jungle' 'k-pop' 'karadeniz' 'karaoke' 'kayokyoku' 'korean'\n",
      " 'laiko' 'latin' 'latino' 'leftfield' 'local' 'lounge' 'loungeelectronic'\n",
      " 'lovers' 'malaysian' 'mandopop' 'marschmusik' 'meditative'\n",
      " 'mediterranean' 'melodic' 'metal' 'metalcore' 'mexican' 'middle'\n",
      " 'minimal' 'miscellaneous' 'modern' 'mood' 'mpb' 'muslim' 'native'\n",
      " 'neoklassik' 'neue' 'new' 'newage' 'newwave' 'nu' 'nujazz' 'numetal'\n",
      " 'oceania' 'old' 'opera' 'orchestral' 'other' 'piano' 'pop'\n",
      " 'popelectronic' 'popeurodance' 'post' 'posthardcore' 'postrock' 'power'\n",
      " 'progmetal' 'progressive' 'psychedelic' 'punjabi' 'punk' 'quebecois'\n",
      " 'ragga' 'ram' 'rancheras' 'rap' 'rave' 'reggae' 'reggaeton' 'regional'\n",
      " 'relax' 'religious' 'retro' 'rhythm' 'rnb' 'rnr' 'rock' 'rockabilly'\n",
      " 'romance' 'roots' 'ruspop' 'rusrap' 'rusrock' 'salsa' 'samba' 'schlager'\n",
      " 'self' 'sertanejo' 'shoegazing' 'showtunes' 'singer' 'ska' 'slow'\n",
      " 'smooth' 'soul' 'soulful' 'sound' 'soundtrack' 'southern' 'specialty'\n",
      " 'speech' 'spiritual' 'sport' 'stonerrock' 'surf' 'swing' 'synthpop'\n",
      " 'sängerportrait' 'tango' 'tanzorchester' 'taraftar' 'tech' 'techno'\n",
      " 'thrash' 'top' 'traditional' 'tradjazz' 'trance' 'tribal' 'trip'\n",
      " 'triphop' 'tropical' 'türk' 'türkçe' 'unknown' 'urban' 'uzbek' 'variété'\n",
      " 'vi' 'videogame' 'vocal' 'western' 'world' 'worldbeat' 'ïîï']\n"
     ]
    }
   ],
   "source": [
    "print(df.sort_values(by='genre')['genre'].unique()) "
   ]
  },
  {
   "cell_type": "markdown",
   "metadata": {
    "id": "qej-Qmuo_Zct"
   },
   "source": [
    "Busca en la lista para encontrar duplicados implícitos del género `hiphop`. Estos pueden ser nombres escritos incorrectamente o nombres alternativos para el mismo género.\n",
    "\n",
    "Verás los siguientes duplicados implícitos:\n",
    "* `hip`\n",
    "* `hop`\n",
    "* `hip-hop`\n",
    "\n",
    "Para deshacerte de ellos, declara la función `replace_wrong_genres()` con dos parámetros: \n",
    "* `wrong_genres=` — la lista de duplicados\n",
    "* `correct_genre=` — la string con el valor correcto\n",
    "\n",
    "La función debería corregir los nombres en la columna `'genre'` de la tabla `df`, es decir, remplaza cada valor de la lista `wrong_genres` con el valor en `correct_genre`."
   ]
  },
  {
   "cell_type": "code",
   "execution_count": 15,
   "metadata": {
    "id": "ErNDkmns_Zct"
   },
   "outputs": [],
   "source": [
    "def replace_wrong_genres(wrong_genres,correct_genre):\n",
    "    for wrong_value in wrong_genres:\n",
    "        df['genre']= df['genre'].replace(wrong_value,correct_genre) "
   ]
  },
  {
   "cell_type": "markdown",
   "metadata": {
    "id": "aDoBJxbA_Zct"
   },
   "source": [
    "Llama a `replace_wrong_genres()` y pásale argumentos para que retire los duplicados implícitos (`hip`, `hop` y `hip-hop`) y los reemplace por `hiphop`:"
   ]
  },
  {
   "cell_type": "code",
   "execution_count": 16,
   "metadata": {
    "id": "YN5i2hpmSo09",
    "scrolled": true
   },
   "outputs": [
    {
     "name": "stdout",
     "output_type": "stream",
     "text": [
      "        user_id                              track            artist  \\\n",
      "0      FFB692EC                  Kamigata To Boots  The Mass Missile   \n",
      "1      55204538        Delayed Because of Accident  Andreas Rönnberg   \n",
      "2        20EC38                  Funiculì funiculà       Mario Lanza   \n",
      "3      A3DD03C9              Dragons in the Sunset        Fire + Ice   \n",
      "4      E2DC1FAE                        Soul People        Space Echo   \n",
      "...         ...                                ...               ...   \n",
      "65074  729CBB09                            My Name            McLean   \n",
      "65075  D08D4A55  Maybe One Day (feat. Black Spade)       Blu & Exile   \n",
      "65076  C5E3A0D5                          Jalopiina           unknown   \n",
      "65077  321D0506                      Freight Train     Chas McDevitt   \n",
      "65078  3A64EF84          Tell Me Sweet Little Lies      Monica Lopez   \n",
      "\n",
      "            genre         city      time        day  \n",
      "0            rock  Shelbyville  20:28:33  Wednesday  \n",
      "1            rock  Springfield  14:07:09     Friday  \n",
      "2             pop  Shelbyville  20:58:07  Wednesday  \n",
      "3            folk  Shelbyville  08:37:09     Monday  \n",
      "4           dance  Springfield  08:34:34     Monday  \n",
      "...           ...          ...       ...        ...  \n",
      "65074         rnb  Springfield  13:32:28  Wednesday  \n",
      "65075      hiphop  Shelbyville  10:00:00     Monday  \n",
      "65076  industrial  Springfield  20:09:26     Friday  \n",
      "65077        rock  Springfield  21:43:59     Friday  \n",
      "65078     country  Springfield  21:59:46     Friday  \n",
      "\n",
      "[61253 rows x 7 columns]\n"
     ]
    }
   ],
   "source": [
    "duplicates= ['hip','hop','hip-hop']\n",
    "genre= 'hiphop'\n",
    "replace_wrong_genres(duplicates,genre)\n",
    "print(df)"
   ]
  },
  {
   "cell_type": "markdown",
   "metadata": {
    "id": "zQKF16_RG15m"
   },
   "source": [
    "Asegúrate que los nombres duplicados han sido eliminados. Imprime la lista de valores únicos de la columna `'genre'`:"
   ]
  },
  {
   "cell_type": "code",
   "execution_count": 17,
   "metadata": {
    "id": "wvixALnFG15m"
   },
   "outputs": [
    {
     "name": "stdout",
     "output_type": "stream",
     "text": [
      "['acid' 'acoustic' 'action' 'adult' 'africa' 'afrikaans' 'alternative'\n",
      " 'ambient' 'americana' 'animated' 'anime' 'arabesk' 'arabic' 'arena'\n",
      " 'argentinetango' 'art' 'audiobook' 'avantgarde' 'axé' 'baile' 'balkan'\n",
      " 'beats' 'bigroom' 'black' 'bluegrass' 'blues' 'bollywood' 'bossa'\n",
      " 'brazilian' 'breakbeat' 'breaks' 'broadway' 'cantautori' 'cantopop'\n",
      " 'canzone' 'caribbean' 'caucasian' 'celtic' 'chamber' 'children' 'chill'\n",
      " 'chinese' 'choral' 'christian' 'christmas' 'classical' 'classicmetal'\n",
      " 'club' 'colombian' 'comedy' 'conjazz' 'contemporary' 'country' 'cuban'\n",
      " 'dance' 'dancehall' 'dancepop' 'dark' 'death' 'deep' 'deutschrock'\n",
      " 'deutschspr' 'dirty' 'disco' 'dnb' 'documentary' 'downbeat' 'downtempo'\n",
      " 'drum' 'dub' 'dubstep' 'eastern' 'easy' 'electronic' 'electropop' 'emo'\n",
      " 'entehno' 'epicmetal' 'estrada' 'ethnic' 'eurofolk' 'european'\n",
      " 'experimental' 'extrememetal' 'fado' 'film' 'fitness' 'flamenco' 'folk'\n",
      " 'folklore' 'folkmetal' 'folkrock' 'folktronica' 'forró' 'frankreich'\n",
      " 'französisch' 'french' 'funk' 'future' 'gangsta' 'garage' 'german'\n",
      " 'ghazal' 'gitarre' 'glitch' 'gospel' 'gothic' 'grime' 'grunge' 'gypsy'\n",
      " 'handsup' \"hard'n'heavy\" 'hardcore' 'hardstyle' 'hardtechno' 'hiphop'\n",
      " 'historisch' 'holiday' 'horror' 'house' 'idm' 'independent' 'indian'\n",
      " 'indie' 'indipop' 'industrial' 'inspirational' 'instrumental'\n",
      " 'international' 'irish' 'jam' 'japanese' 'jazz' 'jewish' 'jpop' 'jungle'\n",
      " 'k-pop' 'karadeniz' 'karaoke' 'kayokyoku' 'korean' 'laiko' 'latin'\n",
      " 'latino' 'leftfield' 'local' 'lounge' 'loungeelectronic' 'lovers'\n",
      " 'malaysian' 'mandopop' 'marschmusik' 'meditative' 'mediterranean'\n",
      " 'melodic' 'metal' 'metalcore' 'mexican' 'middle' 'minimal'\n",
      " 'miscellaneous' 'modern' 'mood' 'mpb' 'muslim' 'native' 'neoklassik'\n",
      " 'neue' 'new' 'newage' 'newwave' 'nu' 'nujazz' 'numetal' 'oceania' 'old'\n",
      " 'opera' 'orchestral' 'other' 'piano' 'pop' 'popelectronic' 'popeurodance'\n",
      " 'post' 'posthardcore' 'postrock' 'power' 'progmetal' 'progressive'\n",
      " 'psychedelic' 'punjabi' 'punk' 'quebecois' 'ragga' 'ram' 'rancheras'\n",
      " 'rap' 'rave' 'reggae' 'reggaeton' 'regional' 'relax' 'religious' 'retro'\n",
      " 'rhythm' 'rnb' 'rnr' 'rock' 'rockabilly' 'romance' 'roots' 'ruspop'\n",
      " 'rusrap' 'rusrock' 'salsa' 'samba' 'schlager' 'self' 'sertanejo'\n",
      " 'shoegazing' 'showtunes' 'singer' 'ska' 'slow' 'smooth' 'soul' 'soulful'\n",
      " 'sound' 'soundtrack' 'southern' 'specialty' 'speech' 'spiritual' 'sport'\n",
      " 'stonerrock' 'surf' 'swing' 'synthpop' 'sängerportrait' 'tango'\n",
      " 'tanzorchester' 'taraftar' 'tech' 'techno' 'thrash' 'top' 'traditional'\n",
      " 'tradjazz' 'trance' 'tribal' 'trip' 'triphop' 'tropical' 'türk' 'türkçe'\n",
      " 'unknown' 'urban' 'uzbek' 'variété' 'vi' 'videogame' 'vocal' 'western'\n",
      " 'world' 'worldbeat' 'ïîï']\n"
     ]
    }
   ],
   "source": [
    "print(df.sort_values(by='genre')['genre'].unique()) "
   ]
  },
  {
   "cell_type": "markdown",
   "metadata": {},
   "source": [
    "<div class=\"alert alert-success\">\n",
    "<b>✔️ Comentario del revisor:</b>\n",
    "\n",
    "Genial, así se remplazan duplicados implícitos.</div>"
   ]
  },
  {
   "cell_type": "markdown",
   "metadata": {
    "id": "ALgNbvF3VtPA"
   },
   "source": [
    "[Volver a Contenidos](#back)"
   ]
  },
  {
   "cell_type": "markdown",
   "metadata": {
    "id": "jz6a9-7HQUDd"
   },
   "source": [
    "### Conclusiones <a id='data_preprocessing_conclusions'></a>\n",
    "Detectamos tres problemas con los datos:\n",
    "\n",
    "- Estilos de encabezados incorrectos\n",
    "- Valores ausentes\n",
    "- Duplicados obvios e implícitos\n",
    "\n",
    "Los encabezados han sido eliminados para conseguir que el procesamiento de la tabla sea más sencillo.\n",
    "\n",
    "Todos los valores ausentes han sido reemplazados por `'unknown'`. Pero todavía tenemos que ver si los valores ausentes en `'genre'` afectan a nuestros cálculos.\n",
    "\n",
    "La ausencia de duplicados hará que los resultados sean mas precisos y fáciles de entender.\n",
    "\n",
    "Ahora ya podemos continuar probando las hipótesis. "
   ]
  },
  {
   "cell_type": "markdown",
   "metadata": {
    "id": "eK1es74rVujj"
   },
   "source": [
    "[Volver a Contenidos](#back)"
   ]
  },
  {
   "cell_type": "markdown",
   "metadata": {
    "id": "WttZHXH0SqKk"
   },
   "source": [
    "## Etapa 3. Prueba de hipótesis <a id='hypotheses'></a>"
   ]
  },
  {
   "cell_type": "markdown",
   "metadata": {
    "id": "Im936VVi_Zcu"
   },
   "source": [
    "### Hipótesis 1: comparar el comportamiento del usuario en las dos ciudades <a id='activity'></a>"
   ]
  },
  {
   "cell_type": "markdown",
   "metadata": {
    "id": "nwt_MuaL_Zcu"
   },
   "source": [
    "De acuerdo con la primera hipótesis, los usuarios de Springfield y Shelbyville escuchan música de forma distinta. Comprueba esto utilizando los datos de tres días de la semana: lunes, miércoles y viernes.\n",
    "\n",
    "* Divide a los usuarios en grupos por ciudad.\n",
    "* Compara cuántas pistas reprodujo cada grupo el lunes, el miércoles y el viernes.\n"
   ]
  },
  {
   "cell_type": "markdown",
   "metadata": {
    "id": "8Dw_YMmT_Zcu"
   },
   "source": [
    "Por el bien del ejercicio, realiza cada cálculo de forma separada. \n",
    "\n",
    "Evalúa la actividad del usuario en cada ciudad. Agrupa los datos por ciudad y encuentra el número de canciones reproducidas en cada grupo.\n",
    "\n"
   ]
  },
  {
   "cell_type": "code",
   "execution_count": 18,
   "metadata": {
    "id": "0_Qs96oh_Zcu"
   },
   "outputs": [
    {
     "name": "stdout",
     "output_type": "stream",
     "text": [
      "city\n",
      "Shelbyville    18512\n",
      "Springfield    42741\n",
      "Name: track, dtype: int64\n"
     ]
    }
   ],
   "source": [
    "print(df.groupby('city')['track'].count())"
   ]
  },
  {
   "cell_type": "markdown",
   "metadata": {
    "id": "dzli3w8o_Zcu"
   },
   "source": [
    "Springfield ha reproducido más pistas que Shelbyville. Pero eso no implica que los ciudadanos de Springfield escuchen música más a menudo. Esta ciudad es simplemente más grande y hay más usuarios.\n",
    "\n",
    "Ahora agrupa los datos por día de la semana y encuentra el número de pistas reproducidas el lunes, miércoles y viernes.\n"
   ]
  },
  {
   "cell_type": "code",
   "execution_count": 19,
   "metadata": {
    "id": "uZMKjiJz_Zcu"
   },
   "outputs": [
    {
     "name": "stdout",
     "output_type": "stream",
     "text": [
      "day\n",
      "Friday       21840\n",
      "Monday       21354\n",
      "Wednesday    18059\n",
      "Name: track, dtype: int64\n"
     ]
    }
   ],
   "source": [
    "print(df.groupby('day')['track'].count())"
   ]
  },
  {
   "cell_type": "markdown",
   "metadata": {
    "id": "cC2tNrlL_Zcu"
   },
   "source": [
    "El miércoles fue el día más silencioso de todos. Pero si consideramos las dos ciudades por separado podríamos llegar a una conclusión diferente."
   ]
  },
  {
   "cell_type": "markdown",
   "metadata": {
    "id": "POzs8bGa_Zcu"
   },
   "source": [
    "Ya has visto cómo funciona el agrupar por ciudad o día. Ahora escribe la función que agrupará ambos.\n",
    "\n",
    "Crea la función `number_tracks()` para calcular el número de canciones reproducidas en un determinado día y ciudad. Requerirá dos parámetros:\n",
    "* día de la semana\n",
    "* nombre de la ciudad\n",
    "\n",
    "En la función, utiliza una variable para almacenar las filas de la tabla original, donde:\n",
    "  * el valor de la columna `'day'` es igual al parámetro de día\n",
    "  * el valor de la columna `'city'` es igual al parámetro de ciudad\n",
    "\n",
    "Aplica un filtrado consecutivo con indexación lógica.\n",
    "\n",
    "Después, calcula los valores de la columna `'user_id'` en la tabla resultante. Almacena el resultado en la nueva variable. Recupera esta variable de la función."
   ]
  },
  {
   "cell_type": "code",
   "execution_count": 20,
   "metadata": {
    "id": "Nz3GdQB1_Zcu"
   },
   "outputs": [],
   "source": [
    "def number_tracks(day, city):\n",
    "# declararemos la función con dos parámetros: day=, city=.\n",
    "# deja que la variable track_list almacene las filas df en las que\n",
    "# el valor en la columna 'day' es igual al parámetro day= y, al mismo tiempo, \n",
    "# el valor de la columna 'city' es igual al parámetro city= (aplica el filtrado consecutivo \n",
    "# con indexación lógica).\n",
    "# deja que la variable track_list_count almacene el número de valores de la columna 'user_id' en track_list\n",
    "# (encontrado con el método count()).\n",
    "\n",
    "    track_list=df[(df['city']==city) & (df['day']==day)]\n",
    "    track_list_count= track_list['user_id'].count()\n",
    "    return track_list_count\n",
    "\n",
    "# permite que la función devuelva un número: el valor de track_list_count.\n",
    "\n",
    "\n",
    "# la función cuenta las pistas reproducidas en un cierto día y ciudad.\n",
    "# primero recupera las filas del día deseado de la tabla,\n",
    "# después filtra las filas de la ciudad deseada del resultado,\n",
    "# entonces, encuentra el número de valores de 'user_id' en la tabla filtrada,\n",
    "# y devuelve ese número.\n",
    "# para ver lo que devuelve, envuelve la llamada de la función en print()."
   ]
  },
  {
   "cell_type": "markdown",
   "metadata": {},
   "source": [
    "<div class=\"alert alert-success\">\n",
    "<b>✔️ Comentario del revisor:</b>\n",
    "\n",
    "Excelente definición de función"
   ]
  },
  {
   "cell_type": "markdown",
   "metadata": {
    "id": "ytf7xFrFJQ2r"
   },
   "source": [
    "Llama a `number_tracks()` seis veces, cambiando los valores de los parámetros, para que recuperes los datos de ambas ciudades para cada uno de los tres días."
   ]
  },
  {
   "cell_type": "code",
   "execution_count": 21,
   "metadata": {
    "id": "rJcRATNQ_Zcu"
   },
   "outputs": [
    {
     "data": {
      "text/plain": [
       "15740"
      ]
     },
     "execution_count": 21,
     "metadata": {},
     "output_type": "execute_result"
    }
   ],
   "source": [
    "number_tracks('Monday','Springfield')"
   ]
  },
  {
   "cell_type": "code",
   "execution_count": 22,
   "metadata": {
    "id": "hq_ncZ5T_Zcu"
   },
   "outputs": [
    {
     "data": {
      "text/plain": [
       "5614"
      ]
     },
     "execution_count": 22,
     "metadata": {},
     "output_type": "execute_result"
    }
   ],
   "source": [
    "number_tracks('Monday','Shelbyville')"
   ]
  },
  {
   "cell_type": "code",
   "execution_count": 23,
   "metadata": {
    "id": "_NTy2VPU_Zcu"
   },
   "outputs": [
    {
     "data": {
      "text/plain": [
       "11056"
      ]
     },
     "execution_count": 23,
     "metadata": {},
     "output_type": "execute_result"
    }
   ],
   "source": [
    "number_tracks('Wednesday','Springfield')"
   ]
  },
  {
   "cell_type": "code",
   "execution_count": 24,
   "metadata": {
    "id": "j2y3TAwo_Zcu"
   },
   "outputs": [
    {
     "data": {
      "text/plain": [
       "7003"
      ]
     },
     "execution_count": 24,
     "metadata": {},
     "output_type": "execute_result"
    }
   ],
   "source": [
    "number_tracks('Wednesday','Shelbyville')"
   ]
  },
  {
   "cell_type": "code",
   "execution_count": 25,
   "metadata": {
    "id": "vYDw5u_K_Zcu"
   },
   "outputs": [
    {
     "data": {
      "text/plain": [
       "15945"
      ]
     },
     "execution_count": 25,
     "metadata": {},
     "output_type": "execute_result"
    }
   ],
   "source": [
    "number_tracks('Friday','Springfield')"
   ]
  },
  {
   "cell_type": "code",
   "execution_count": 26,
   "metadata": {
    "id": "8_yzFtW3_Zcu"
   },
   "outputs": [
    {
     "data": {
      "text/plain": [
       "5895"
      ]
     },
     "execution_count": 26,
     "metadata": {},
     "output_type": "execute_result"
    }
   ],
   "source": [
    "number_tracks('Friday','Shelbyville')"
   ]
  },
  {
   "cell_type": "markdown",
   "metadata": {
    "id": "7QXffbO-_Zcu"
   },
   "source": [
    "Utiliza `pd.DataFrame` para crear una tabla, donde\n",
    "* Los nombres de las columnas son: `['city', 'monday', 'wednesday', 'friday']`\n",
    "* Los datos son los resultados que conseguiste de `number_tracks()`"
   ]
  },
  {
   "cell_type": "code",
   "execution_count": 27,
   "metadata": {
    "id": "APAcLpOr_Zcu"
   },
   "outputs": [
    {
     "name": "stdout",
     "output_type": "stream",
     "text": [
      "          city  monday  wednesday  friday\n",
      "0  Springfield   15740      11056   15945\n",
      "1  Shelbyville    5614       7003    5895\n"
     ]
    }
   ],
   "source": [
    "datos= [\n",
    "    ['Springfield',15740,11056,15945],\n",
    "    ['Shelbyville',5614,7003,5895],\n",
    "  \n",
    "]\n",
    "\n",
    "name=['city', 'monday','wednesday', 'friday']\n",
    "new_table=pd.DataFrame(data=datos,columns=name)\n",
    "print(new_table)"
   ]
  },
  {
   "cell_type": "markdown",
   "metadata": {},
   "source": [
    "<div class=\"alert alert-success\">\n",
    "<b>✔️ Comentario del revisor:</b>\n",
    "\n",
    "Correcto!"
   ]
  },
  {
   "cell_type": "markdown",
   "metadata": {
    "id": "-EgPIHYu_Zcu"
   },
   "source": [
    "**Conclusiones**\n",
    "\n",
    "Los datos revelan las diferencias en el comportamiento de los usuarios:\n",
    "\n",
    "- En Springfield, el número de canciones reproducidas alcanzan el punto máximo los lunes y viernes mientras que los miércoles hay un descenso de la actividad.\n",
    "- En Shelbyville, al contario, los usuarios escuchan más música los miércoles. La actividad de los usuarios los lunes y viernes es menor.\n",
    "\n",
    "Así que la primera hipótesis parece ser correcta."
   ]
  },
  {
   "cell_type": "markdown",
   "metadata": {
    "id": "p7nFQajCVw5B"
   },
   "source": [
    "[Volver a Contenidos](#back)"
   ]
  },
  {
   "cell_type": "markdown",
   "metadata": {
    "id": "atZAxtq4_Zcu"
   },
   "source": [
    "### Hipótesis 2: música al principio y al final de la semana <a id='week'></a>"
   ]
  },
  {
   "cell_type": "markdown",
   "metadata": {
    "id": "eXrQqXFH_Zcu"
   },
   "source": [
    "De acuerdo con la segunda hipótesis, los lunes por la mañana y los viernes por la noche los ciudadanos de Springfield escuchan géneros que difieren de aquellos que los usuarios de Shelbyville disfrutan."
   ]
  },
  {
   "cell_type": "markdown",
   "metadata": {
    "id": "S8UcW6Hw_Zcu"
   },
   "source": [
    "Obtén tablas (asegúrate de que el nombre de tu tabla combinada encaja con el DataFrame dado en los dos bloques de código de abajo):\n",
    "* Para Springfield — `spr_general`\n",
    "* Para Shelbyville — `shel_general`"
   ]
  },
  {
   "cell_type": "code",
   "execution_count": 28,
   "metadata": {
    "id": "qeaFfM_P_Zcu"
   },
   "outputs": [],
   "source": [
    "# obteniendo la tabla spr_general de las filas de df, \n",
    "# donde los valores en la columna 'city' es 'Springfield'\n",
    "spr_general= df.loc[df.loc[:,'city'] == 'Springfield']"
   ]
  },
  {
   "cell_type": "code",
   "execution_count": 29,
   "metadata": {
    "id": "ORaVRKto_Zcu"
   },
   "outputs": [],
   "source": [
    "# obteniendo shel_general de las filas df,\n",
    "# donde el valor de la columna 'city' es 'Shelbyville'\n",
    "shel_general= df.loc[df.loc[:,'city']== 'Shelbyville']"
   ]
  },
  {
   "cell_type": "markdown",
   "metadata": {
    "id": "MEJV-CX2_Zcu"
   },
   "source": [
    "Escribe la función genre_weekday() con cuatro parámetros:\n",
    "* Una tabla para los datos (`df`)\n",
    "* El día de la semana (`day`)\n",
    "* La marca de fecha y hora en formato 'hh:mm' (`time1`)\n",
    "* La marca de fecha y hora en formato 'hh:mm' (`time2`)\n",
    "\n",
    "La función debería devolver información de los 15 géneros más populares de un día determinado en un período entre dos marcas de fecha y hora."
   ]
  },
  {
   "cell_type": "code",
   "execution_count": 30,
   "metadata": {
    "id": "laJT9BYl_Zcu"
   },
   "outputs": [],
   "source": [
    "# declarando la función genre_weekday() con los parámetros day=, time1= y time2=. Debería\n",
    "# devolver información sobre los géneros más populares de un determinado día a una determinada hora:\n",
    "\n",
    "# 1) Deja que la variable genre_df almacene las filas que cumplen varias condiciones:\n",
    "#    - el valor de la columna 'day' es igual al valor del argumento day=\n",
    "#    - el valor de la columna 'time' es mayor que el valor del argumento time1=\n",
    "#    - el valor en la columna 'time' es menor que el valor del argumento time2=\n",
    "#    Utiliza un filtrado consecutivo con indexación lógica.\n",
    "\n",
    "# 2) Agrupa genre_df por la columna 'genre', toma una de sus columnas, \n",
    "#    y utiliza el método count() para encontrar el número de entradas por cada uno de \n",
    "#    los géneros representados; almacena los Series resultantes en\n",
    "#    la variable genre_df_count\n",
    "\n",
    "# 3) Ordena genre_df_count en orden descendente de frecuencia y guarda el resultado\n",
    "#    en la variable genre_df_sorted\n",
    "\n",
    "# 4) Devuelve un objeto Series con los primeros 15 valores de genre_df_sorted - los 15\n",
    "#    géneros más populares (en un determinado día, en un determinado periodo de tiempo)\n",
    "\n",
    "# Escribe tu función aquí\n",
    "def genre_weekday(df, day, time1, time2):\n",
    "    # filtrado consecutivo\n",
    "    # genre_df solo almacenará aquellas filas df en las que el día sea igual a day=\n",
    "    genre_df = df[(df['day'] ==day)]\n",
    "\n",
    "    # genre_df solo almacenará aquellas filas df en las que el tiempo sea menos que time2=\n",
    "    genre_df = genre_df = genre_df[genre_df[\"time\"] < time2]\n",
    "\n",
    "    # genre_df solo almacenará aquellas filas df en las que el tiempo sea mayor que time1=\n",
    "    genre_df = genre_df[genre_df[\"time\"] > time1]\n",
    "\n",
    "    # agrupa el DataFrame filtrado por la columna con los nombres de los géneros, toma la columna de género, y encuentra el número de filas por cada género con el método count()\n",
    "    genre_df_grouped = genre_df.groupby(\"genre\")[\"user_id\"].count()\n",
    "\n",
    "    # ordenaremos el resultado en orden descendente (por lo que los géneros más populares aparecerán primero en el objeto Series)\n",
    "    genre_df_sorted = genre_df_grouped.sort_values(ascending=False)\n",
    "\n",
    "    # devolveremos el objeto Series que almacena los 15 géneros más populares en un día determinado en un periodo de tiempo determinado\n",
    "    return genre_df_sorted[:15]"
   ]
  },
  {
   "cell_type": "markdown",
   "metadata": {
    "id": "la2s2_PF_Zcu"
   },
   "source": [
    "Compara los resultados de la función `genre_weekday()`para Springfield y Shelbyville el lunes por la mañana (de 7 a 11) y el viernes por la tarde (de 17:00 a 23:00):"
   ]
  },
  {
   "cell_type": "code",
   "execution_count": 31,
   "metadata": {
    "id": "yz7itPUQ_Zcu"
   },
   "outputs": [
    {
     "data": {
      "text/plain": [
       "genre\n",
       "pop            781\n",
       "dance          549\n",
       "electronic     480\n",
       "rock           474\n",
       "hiphop         286\n",
       "ruspop         186\n",
       "world          181\n",
       "rusrap         175\n",
       "alternative    164\n",
       "unknown        161\n",
       "classical      157\n",
       "metal          120\n",
       "jazz           100\n",
       "folk            97\n",
       "soundtrack      95\n",
       "Name: user_id, dtype: int64"
      ]
     },
     "execution_count": 31,
     "metadata": {},
     "output_type": "execute_result"
    }
   ],
   "source": [
    "# llamando a la función para el lunes por la mañana en Springfield (utilizando spr_general en vez de la tabla df)\n",
    "genre_weekday(spr_general,'Monday','07:00','11:00')"
   ]
  },
  {
   "cell_type": "code",
   "execution_count": 32,
   "metadata": {
    "id": "kwUcHPdy_Zcu"
   },
   "outputs": [
    {
     "data": {
      "text/plain": [
       "genre\n",
       "pop            218\n",
       "dance          182\n",
       "rock           162\n",
       "electronic     147\n",
       "hiphop          80\n",
       "ruspop          64\n",
       "alternative     58\n",
       "rusrap          55\n",
       "jazz            44\n",
       "classical       40\n",
       "world           36\n",
       "rap             32\n",
       "soundtrack      31\n",
       "rnb             27\n",
       "metal           27\n",
       "Name: user_id, dtype: int64"
      ]
     },
     "execution_count": 32,
     "metadata": {},
     "output_type": "execute_result"
    }
   ],
   "source": [
    "# llamando a la función para el lunes por la mañana en Shelbyville (utilizando shel_general en vez de la tabla df)\n",
    "genre_weekday(shel_general,'Monday','07:00','11:00')"
   ]
  },
  {
   "cell_type": "code",
   "execution_count": 33,
   "metadata": {
    "id": "EzXVRE1o_Zcu"
   },
   "outputs": [
    {
     "data": {
      "text/plain": [
       "genre\n",
       "pop            713\n",
       "rock           517\n",
       "dance          495\n",
       "electronic     482\n",
       "hiphop         273\n",
       "world          208\n",
       "ruspop         170\n",
       "classical      163\n",
       "alternative    163\n",
       "rusrap         142\n",
       "jazz           111\n",
       "unknown        110\n",
       "soundtrack     105\n",
       "rnb             90\n",
       "metal           88\n",
       "Name: user_id, dtype: int64"
      ]
     },
     "execution_count": 33,
     "metadata": {},
     "output_type": "execute_result"
    }
   ],
   "source": [
    "# llamando a la función para el viernes por la tarde en Springfield\n",
    "genre_weekday(spr_general,'Friday','17:00','23:00')"
   ]
  },
  {
   "cell_type": "code",
   "execution_count": 34,
   "metadata": {
    "id": "JZaEKu5v_Zcu"
   },
   "outputs": [
    {
     "data": {
      "text/plain": [
       "genre\n",
       "pop            256\n",
       "rock           216\n",
       "electronic     216\n",
       "dance          210\n",
       "hiphop          97\n",
       "alternative     63\n",
       "jazz            61\n",
       "classical       60\n",
       "rusrap          59\n",
       "world           54\n",
       "unknown         47\n",
       "ruspop          47\n",
       "soundtrack      40\n",
       "metal           39\n",
       "rap             36\n",
       "Name: user_id, dtype: int64"
      ]
     },
     "execution_count": 34,
     "metadata": {},
     "output_type": "execute_result"
    }
   ],
   "source": [
    "# llamando a la función para el viernes por la tarde en Shelbyville\n",
    "genre_weekday(shel_general,'Friday','17:00','23:00')"
   ]
  },
  {
   "cell_type": "markdown",
   "metadata": {
    "id": "wrCe4MNX_Zcu"
   },
   "source": [
    "**Conclusión**\n",
    "\n",
    "Habiendo comparado los 15 géneros más populares del lunes por la mañana podemos concluir lo siguiente:\n",
    "\n",
    "1. Los usuarios de Springfield y Shelbyville escuchan música similar. Los cinco géneros más populares son los mismos, solo rock y electrónica han intercambiado posiciones.\n",
    "\n",
    "2. En Springfield el número de valores ausentes resultaron ser tan altos que el valor `'unknown'` llegó al décimo. Esto significa que los valores ausentes forman una parte considerable de los datos, lo que podría ser la base de la cuestión sobre la fiabilidad de nuestras conclusiones.\n",
    "\n",
    "Para el viernes por la tarde, la situación es similar. Los géneros individuales varían algo pero, en general, los 15 más populares son parecidos en las dos ciudades.\n",
    "\n",
    "De esta forma, la segunda hipótesis ha sido parcialmente demostrada:\n",
    "* Los usuarios escuchan música similar al principio y al final de la semana.\n",
    "* No hay una gran diferencia entre Springfield y Shelbyville. En ambas ciudades, el pop es el género más popular.\n",
    "\n",
    "Sin embargo, el número de valores ausentes hace este resultado un tanto cuestionable. En Springfield, hay tantos que afectan a nuestros 15 más populares. De no faltarnos esos valores, las cosas podrían parecer diferentes."
   ]
  },
  {
   "cell_type": "markdown",
   "metadata": {},
   "source": [
    "<div class=\"alert alert-success\">\n",
    "<b>✔️ Comentario del revisor:</b>\n",
    "\n",
    "Perfecta toda esta sección"
   ]
  },
  {
   "cell_type": "markdown",
   "metadata": {
    "id": "jLmXgdanVyhP"
   },
   "source": [
    "[Volver a Contenidos](#back)"
   ]
  },
  {
   "cell_type": "markdown",
   "metadata": {
    "id": "JolODAqr_Zcu"
   },
   "source": [
    "### Hipótesis 3: preferencias de género en Springfield y Shelbyville <a id='genre'></a>\n",
    "\n",
    "Hipótesis: Shelbyville ama la música rap. A los ciudadanos de Springfield les gusta más el pop."
   ]
  },
  {
   "cell_type": "markdown",
   "metadata": {
    "id": "DlegSvaT_Zcu"
   },
   "source": [
    "Agrupa la tabla `spr_general` por género y encuentra el número de canciones reproducidas de cada género con el método `count()`. Después, ordena el resultado en orden descendente y guárdalo en `spr_genres`."
   ]
  },
  {
   "cell_type": "code",
   "execution_count": 35,
   "metadata": {
    "id": "r19lIPke_Zcu"
   },
   "outputs": [],
   "source": [
    "# en una línea: agrupa la tabla spr_general por la columna 'genre', \n",
    "# cuenta los valores 'genre' con count() en la agrupación, \n",
    "# ordena el Series resultante en orden descendiente, y almacénalo en spr_genres\n",
    "spr_genre=spr_general.groupby('genre').count()\n",
    "spr_genres=spr_genre.sort_values(by='genre',ascending=False)"
   ]
  },
  {
   "cell_type": "markdown",
   "metadata": {
    "id": "6kMuomxTiIr8"
   },
   "source": [
    "Imprime las 10 primeras filas de `spr_genres`:"
   ]
  },
  {
   "cell_type": "code",
   "execution_count": 36,
   "metadata": {
    "id": "WhCSooF8_Zcv"
   },
   "outputs": [
    {
     "name": "stdout",
     "output_type": "stream",
     "text": [
      "           user_id  track  artist  city  time   day\n",
      "genre                                              \n",
      "ïîï              1      1       1     1     1     1\n",
      "worldbeat        1      1       1     1     1     1\n",
      "world         1432   1432    1432  1432  1432  1432\n",
      "western         64     64      64    64    64    64\n",
      "vocal           68     68      68    68    68    68\n",
      "videogame       66     66      66    66    66    66\n",
      "vi               2      2       2     2     2     2\n",
      "variété         24     24      24    24    24    24\n",
      "uzbek           16     16      16    16    16    16\n",
      "urban          158    158     158   158   158   158\n"
     ]
    }
   ],
   "source": [
    "print(spr_genres.head(10))"
   ]
  },
  {
   "cell_type": "markdown",
   "metadata": {
    "id": "cnPG2vnN_Zcv"
   },
   "source": [
    "Ahora haz lo mismo con los datos de Shelbyville.\n",
    "\n",
    "Agrupa la tabla `shel_general` por género y encuentra el número de canciones reproducidas de cada género. Después, ordena el resultado en orden descendente y guárdalo en la tabla `shel_genres`:\n"
   ]
  },
  {
   "cell_type": "code",
   "execution_count": 37,
   "metadata": {
    "id": "gluLIpE7_Zcv"
   },
   "outputs": [],
   "source": [
    "# en una línea: agrupa la tabla shel_general por la columna 'genre', \n",
    "# cuenta los valores 'genre' en el agrupamiento con count(), \n",
    "# ordena el Series resultante en orden descendente y guárdalo en shel_genres\n",
    "shel_genre=shel_general.groupby('genre').count()\n",
    "shel_genres=shel_genre.sort_values(by='genre',ascending=False)\n"
   ]
  },
  {
   "cell_type": "markdown",
   "metadata": {
    "id": "5Doha_ODgyQ8"
   },
   "source": [
    "Imprime las 10 primeras filas de `shel_genres`:"
   ]
  },
  {
   "cell_type": "code",
   "execution_count": 38,
   "metadata": {
    "id": "uaGJHjVU_Zcv"
   },
   "outputs": [
    {
     "name": "stdout",
     "output_type": "stream",
     "text": [
      "           user_id  track  artist  city  time  day\n",
      "genre                                             \n",
      "worldbeat        1      1       1     1     1    1\n",
      "world          515    515     515   515   515  515\n",
      "western         33     33      33    33    33   33\n",
      "vocal           25     25      25    25    25   25\n",
      "videogame       48     48      48    48    48   48\n",
      "vi               1      1       1     1     1    1\n",
      "variété         14     14      14    14    14   14\n",
      "uzbek           12     12      12    12    12   12\n",
      "urban           76     76      76    76    76   76\n",
      "unknown        278    278     278   278   278  278\n"
     ]
    }
   ],
   "source": [
    "print(shel_genres.head(10))"
   ]
  },
  {
   "cell_type": "markdown",
   "metadata": {
    "id": "RY51YJYu_Zcv"
   },
   "source": [
    "**Conclusión**"
   ]
  },
  {
   "cell_type": "markdown",
   "metadata": {
    "id": "nVhnJEm__Zcv"
   },
   "source": [
    "La hipótesis ha sido parcialmente demostrada:\n",
    "* La música pop es el género más popular en Springfield, tal como se esperaba.\n",
    "* Sin embargo, la música pop ha resultado ser igual de popular en Springfield que en Shelbyville y el rap no estaba entre los 5 más populares en ninguna de las ciudades.\n"
   ]
  },
  {
   "cell_type": "markdown",
   "metadata": {},
   "source": [
    "<div class=\"alert alert-success\">\n",
    "<b>✔️ Comentario del revisor:</b>\n",
    "\n",
    "En efecto"
   ]
  },
  {
   "cell_type": "markdown",
   "metadata": {
    "id": "Byr0RfpPVz14"
   },
   "source": [
    "[Volver a Contenidos](#back)"
   ]
  },
  {
   "cell_type": "markdown",
   "metadata": {
    "id": "ykKQ0N65_Zcv"
   },
   "source": [
    "# Conclusiones <a id='end'></a>"
   ]
  },
  {
   "cell_type": "markdown",
   "metadata": {
    "id": "tjUwbHb3_Zcv"
   },
   "source": [
    "Hemos probado las siguientes tres hipótesis:\n",
    "\n",
    "1. La actividad de los usuarios difiere dependiendo del día de la semana y de las distintas ciudades. \n",
    "2. Los lunes por la mañana los residentes de Springfield y Shelbyville escuchan géneros distintos. Lo mismo ocurre con los viernes por la noche.\n",
    "3. Los oyentes de Springfield y Shelbyville tienen distintas preferencias. En ambas ciudades, Springfield y Shelbyville, se prefiere el pop.\n",
    "\n",
    "Tras analizar los datos, concluimos:\n",
    "\n",
    "1. La actividad del usuario en Springfield y Shelbyville depende del día de la semana aunque las ciudades varían de diferentes formas. \n",
    "\n",
    "La primera hipótesis ha sido aceptada completamente.\n",
    "\n",
    "2. Las preferencias musicales no varían significativamente en el transcurso de la semana en Springfield y Shelbyville. Podemos observar pequeñas diferencias en el orden los lunes, pero:\n",
    "* En Springfield y Shelbyville la gente lo que más escucha es la música pop.\n",
    "\n",
    "Así que no podemos aceptar esta hipótesis. También debemos tener en cuenta que el resultado podría haber sido diferente si no fuera por los valores ausentes.\n",
    "\n",
    "3. Resulta que las preferencias musicales de los usuarios de Springfield y Shelbyville son bastante parecidas.\n",
    "\n",
    "La tercera hipótesis es rechazada. Si hay alguna diferencia en las preferencias no se puede observar en los datos.\n",
    "\n",
    "### Nota \n",
    "En los proyectos reales, la investigación supone el estudio de hipótesis estadísticas que es más preciso y cuantitativo. También ten en cuenta que no siempre podemos sacar conclusiones sobre una ciudad entera basándonos en datos de una sola fuente.\n",
    "\n",
    "Analizarás el estudio de hipótesis en el sprint de análisis estadístico de datos."
   ]
  },
  {
   "cell_type": "markdown",
   "metadata": {},
   "source": [
    "<div class=\"alert alert-success\">\n",
    "<b>✔️ Comentario del revisor:</b>\n",
    "\n",
    "Muy buenas conclusiones, así deben ser: deben de mostrar un resumen de lo que hiciste y lo inferiste a partir de tus resultados de todo el proyecto.</div>"
   ]
  },
  {
   "cell_type": "markdown",
   "metadata": {},
   "source": [
    "<div class=\"alert alert-success\">\n",
    "<b>✔️ Comentario del revisor:</b> Muchas gracias por el trabajo realizado. Tienes el proyecto exelente y está claro que lo estás intentando. Todo está bien, estoy lista para aceptar el proyecto."
   ]
  },
  {
   "cell_type": "markdown",
   "metadata": {
    "id": "Ju4AHDSgV1FE"
   },
   "source": [
    "[Volver a Contenidos](#back)"
   ]
  }
 ],
 "metadata": {
  "ExecuteTimeLog": [
   {
    "duration": 362,
    "start_time": "2022-06-11T23:39:55.399Z"
   },
   {
    "duration": 2,
    "start_time": "2022-06-11T23:39:59.443Z"
   },
   {
    "duration": 43,
    "start_time": "2022-06-13T23:02:32.886Z"
   },
   {
    "duration": 6,
    "start_time": "2022-06-13T23:02:47.073Z"
   },
   {
    "duration": 6,
    "start_time": "2022-06-13T23:03:22.711Z"
   },
   {
    "duration": 7,
    "start_time": "2022-06-13T23:04:43.656Z"
   },
   {
    "duration": 7,
    "start_time": "2022-06-13T23:05:42.678Z"
   },
   {
    "duration": 431,
    "start_time": "2022-06-13T23:06:06.229Z"
   },
   {
    "duration": 25,
    "start_time": "2022-06-13T23:06:10.050Z"
   },
   {
    "duration": 3,
    "start_time": "2022-06-13T23:06:40.892Z"
   },
   {
    "duration": 13,
    "start_time": "2022-06-13T23:06:42.626Z"
   },
   {
    "duration": 39,
    "start_time": "2022-06-13T23:07:36.620Z"
   },
   {
    "duration": 2,
    "start_time": "2022-06-13T23:07:42.918Z"
   },
   {
    "duration": 18,
    "start_time": "2022-06-13T23:07:44.372Z"
   },
   {
    "duration": 33,
    "start_time": "2022-06-13T23:08:04.193Z"
   },
   {
    "duration": 323,
    "start_time": "2022-06-13T23:08:28.438Z"
   },
   {
    "duration": 7,
    "start_time": "2022-06-13T23:12:14.962Z"
   },
   {
    "duration": 7,
    "start_time": "2022-06-13T23:14:27.548Z"
   },
   {
    "duration": 6,
    "start_time": "2022-06-14T00:39:13.618Z"
   },
   {
    "duration": 8,
    "start_time": "2022-06-14T00:39:19.875Z"
   },
   {
    "duration": 2,
    "start_time": "2022-06-14T00:39:21.911Z"
   },
   {
    "duration": 6,
    "start_time": "2022-06-14T00:40:37.904Z"
   },
   {
    "duration": 7,
    "start_time": "2022-06-14T00:45:26.603Z"
   },
   {
    "duration": 6,
    "start_time": "2022-06-14T00:46:52.943Z"
   },
   {
    "duration": 388,
    "start_time": "2022-06-14T00:47:17.049Z"
   },
   {
    "duration": 58,
    "start_time": "2022-06-14T00:47:17.439Z"
   },
   {
    "duration": 0,
    "start_time": "2022-06-14T00:47:17.498Z"
   },
   {
    "duration": 0,
    "start_time": "2022-06-14T00:47:17.499Z"
   },
   {
    "duration": 0,
    "start_time": "2022-06-14T00:47:17.500Z"
   },
   {
    "duration": 0,
    "start_time": "2022-06-14T00:47:17.501Z"
   },
   {
    "duration": 0,
    "start_time": "2022-06-14T00:47:17.502Z"
   },
   {
    "duration": 0,
    "start_time": "2022-06-14T00:47:17.503Z"
   },
   {
    "duration": 0,
    "start_time": "2022-06-14T00:47:17.504Z"
   },
   {
    "duration": 0,
    "start_time": "2022-06-14T00:47:17.505Z"
   },
   {
    "duration": 0,
    "start_time": "2022-06-14T00:47:17.506Z"
   },
   {
    "duration": 0,
    "start_time": "2022-06-14T00:47:17.507Z"
   },
   {
    "duration": 0,
    "start_time": "2022-06-14T00:47:17.527Z"
   },
   {
    "duration": 0,
    "start_time": "2022-06-14T00:47:17.528Z"
   },
   {
    "duration": 0,
    "start_time": "2022-06-14T00:47:17.529Z"
   },
   {
    "duration": 0,
    "start_time": "2022-06-14T00:47:17.530Z"
   },
   {
    "duration": 0,
    "start_time": "2022-06-14T00:47:17.531Z"
   },
   {
    "duration": 0,
    "start_time": "2022-06-14T00:47:17.531Z"
   },
   {
    "duration": 0,
    "start_time": "2022-06-14T00:47:17.532Z"
   },
   {
    "duration": 0,
    "start_time": "2022-06-14T00:47:17.533Z"
   },
   {
    "duration": 0,
    "start_time": "2022-06-14T00:47:17.534Z"
   },
   {
    "duration": 0,
    "start_time": "2022-06-14T00:47:17.535Z"
   },
   {
    "duration": 0,
    "start_time": "2022-06-14T00:47:17.537Z"
   },
   {
    "duration": 0,
    "start_time": "2022-06-14T00:47:17.538Z"
   },
   {
    "duration": 0,
    "start_time": "2022-06-14T00:47:17.539Z"
   },
   {
    "duration": 0,
    "start_time": "2022-06-14T00:47:17.540Z"
   },
   {
    "duration": 0,
    "start_time": "2022-06-14T00:47:17.541Z"
   },
   {
    "duration": 0,
    "start_time": "2022-06-14T00:47:17.542Z"
   },
   {
    "duration": 6,
    "start_time": "2022-06-14T00:47:17.544Z"
   },
   {
    "duration": 0,
    "start_time": "2022-06-14T00:47:17.552Z"
   },
   {
    "duration": 0,
    "start_time": "2022-06-14T00:47:17.553Z"
   },
   {
    "duration": 0,
    "start_time": "2022-06-14T00:47:17.554Z"
   },
   {
    "duration": 0,
    "start_time": "2022-06-14T00:47:17.555Z"
   },
   {
    "duration": 0,
    "start_time": "2022-06-14T00:47:17.556Z"
   },
   {
    "duration": 0,
    "start_time": "2022-06-14T00:47:17.557Z"
   },
   {
    "duration": 2,
    "start_time": "2022-06-14T00:47:17.559Z"
   },
   {
    "duration": 4,
    "start_time": "2022-06-14T00:47:17.563Z"
   },
   {
    "duration": 6,
    "start_time": "2022-06-14T00:47:46.978Z"
   },
   {
    "duration": 7,
    "start_time": "2022-06-14T00:47:55.569Z"
   },
   {
    "duration": 6,
    "start_time": "2022-06-14T00:47:58.440Z"
   },
   {
    "duration": 273,
    "start_time": "2022-06-14T01:16:18.867Z"
   },
   {
    "duration": 6,
    "start_time": "2022-06-14T01:16:43.444Z"
   },
   {
    "duration": 7,
    "start_time": "2022-06-14T01:17:35.374Z"
   },
   {
    "duration": 9,
    "start_time": "2022-06-14T01:17:56.222Z"
   },
   {
    "duration": 3,
    "start_time": "2022-06-14T01:23:09.093Z"
   },
   {
    "duration": 14,
    "start_time": "2022-06-14T01:27:30.239Z"
   },
   {
    "duration": 4,
    "start_time": "2022-06-14T01:27:54.402Z"
   },
   {
    "duration": 25,
    "start_time": "2022-06-14T02:37:47.494Z"
   },
   {
    "duration": 23,
    "start_time": "2022-06-14T02:38:09.524Z"
   },
   {
    "duration": 342,
    "start_time": "2022-06-14T03:06:54.925Z"
   },
   {
    "duration": 277,
    "start_time": "2022-06-14T03:07:51.199Z"
   },
   {
    "duration": 40,
    "start_time": "2022-06-14T03:08:24.772Z"
   },
   {
    "duration": 335,
    "start_time": "2022-06-14T03:10:18.225Z"
   },
   {
    "duration": 409,
    "start_time": "2022-06-14T03:10:30.042Z"
   },
   {
    "duration": 301,
    "start_time": "2022-06-14T03:15:36.579Z"
   },
   {
    "duration": 330,
    "start_time": "2022-06-14T03:15:54.689Z"
   },
   {
    "duration": 40,
    "start_time": "2022-06-14T03:16:57.392Z"
   },
   {
    "duration": 25,
    "start_time": "2022-06-14T03:17:31.372Z"
   },
   {
    "duration": 15,
    "start_time": "2022-06-14T03:18:36.236Z"
   },
   {
    "duration": 12,
    "start_time": "2022-06-14T03:21:42.452Z"
   },
   {
    "duration": 12,
    "start_time": "2022-06-14T03:22:07.547Z"
   },
   {
    "duration": 9,
    "start_time": "2022-06-14T03:22:40.362Z"
   },
   {
    "duration": 24,
    "start_time": "2022-06-14T03:22:44.245Z"
   },
   {
    "duration": 26,
    "start_time": "2022-06-14T03:25:25.122Z"
   },
   {
    "duration": 17,
    "start_time": "2022-06-14T03:27:55.215Z"
   },
   {
    "duration": 18,
    "start_time": "2022-06-14T03:27:57.115Z"
   },
   {
    "duration": 17,
    "start_time": "2022-06-14T03:27:59.076Z"
   },
   {
    "duration": 7,
    "start_time": "2022-06-14T03:28:35.533Z"
   },
   {
    "duration": 24,
    "start_time": "2022-06-14T03:28:43.107Z"
   },
   {
    "duration": 292,
    "start_time": "2022-06-14T03:34:41.063Z"
   },
   {
    "duration": 26,
    "start_time": "2022-06-14T03:35:22.908Z"
   },
   {
    "duration": 20,
    "start_time": "2022-06-14T03:38:24.041Z"
   },
   {
    "duration": 46,
    "start_time": "2022-06-14T03:42:13.831Z"
   },
   {
    "duration": 26,
    "start_time": "2022-06-14T03:42:28.881Z"
   },
   {
    "duration": 45,
    "start_time": "2022-06-14T03:42:54.040Z"
   },
   {
    "duration": 43,
    "start_time": "2022-06-14T03:43:30.118Z"
   },
   {
    "duration": 25,
    "start_time": "2022-06-14T03:43:33.201Z"
   },
   {
    "duration": 112,
    "start_time": "2022-06-14T03:43:59.121Z"
   },
   {
    "duration": 39,
    "start_time": "2022-06-14T03:44:01.046Z"
   },
   {
    "duration": 128,
    "start_time": "2022-06-14T03:45:15.431Z"
   },
   {
    "duration": 109,
    "start_time": "2022-06-14T03:47:48.900Z"
   },
   {
    "duration": 8,
    "start_time": "2022-06-14T03:58:43.059Z"
   },
   {
    "duration": 39,
    "start_time": "2022-06-14T03:59:23.736Z"
   },
   {
    "duration": 6,
    "start_time": "2022-06-14T04:04:29.920Z"
   },
   {
    "duration": 4,
    "start_time": "2022-06-14T04:04:36.360Z"
   },
   {
    "duration": 26,
    "start_time": "2022-06-14T04:08:32.192Z"
   },
   {
    "duration": 38,
    "start_time": "2022-06-14T04:14:06.283Z"
   },
   {
    "duration": 25,
    "start_time": "2022-06-14T04:14:59.020Z"
   },
   {
    "duration": 402,
    "start_time": "2022-06-14T04:15:52.842Z"
   },
   {
    "duration": 272,
    "start_time": "2022-06-14T04:15:53.247Z"
   },
   {
    "duration": 8,
    "start_time": "2022-06-14T04:15:53.521Z"
   },
   {
    "duration": 30,
    "start_time": "2022-06-14T04:15:53.530Z"
   },
   {
    "duration": 3,
    "start_time": "2022-06-14T04:15:53.563Z"
   },
   {
    "duration": 17,
    "start_time": "2022-06-14T04:15:53.567Z"
   },
   {
    "duration": 6,
    "start_time": "2022-06-14T04:15:53.585Z"
   },
   {
    "duration": 54,
    "start_time": "2022-06-14T04:15:53.593Z"
   },
   {
    "duration": 23,
    "start_time": "2022-06-14T04:15:53.648Z"
   },
   {
    "duration": 5,
    "start_time": "2022-06-14T04:15:53.672Z"
   },
   {
    "duration": 6,
    "start_time": "2022-06-14T04:15:53.679Z"
   },
   {
    "duration": 5,
    "start_time": "2022-06-14T04:15:53.686Z"
   },
   {
    "duration": 5,
    "start_time": "2022-06-14T04:15:53.693Z"
   },
   {
    "duration": 3,
    "start_time": "2022-06-14T04:15:53.726Z"
   },
   {
    "duration": 6,
    "start_time": "2022-06-14T04:15:53.731Z"
   },
   {
    "duration": 5,
    "start_time": "2022-06-14T04:15:53.739Z"
   },
   {
    "duration": 5,
    "start_time": "2022-06-14T04:15:53.746Z"
   },
   {
    "duration": 6,
    "start_time": "2022-06-14T04:15:53.752Z"
   },
   {
    "duration": 7,
    "start_time": "2022-06-14T04:15:53.760Z"
   },
   {
    "duration": 10,
    "start_time": "2022-06-14T04:15:53.768Z"
   },
   {
    "duration": 6,
    "start_time": "2022-06-14T04:15:53.780Z"
   },
   {
    "duration": 7,
    "start_time": "2022-06-14T04:15:53.788Z"
   },
   {
    "duration": 12,
    "start_time": "2022-06-14T04:15:53.797Z"
   },
   {
    "duration": 3,
    "start_time": "2022-06-14T04:15:53.828Z"
   },
   {
    "duration": 23,
    "start_time": "2022-06-14T04:15:53.832Z"
   },
   {
    "duration": 6,
    "start_time": "2022-06-14T04:15:53.857Z"
   },
   {
    "duration": 7,
    "start_time": "2022-06-14T04:15:53.864Z"
   },
   {
    "duration": 13,
    "start_time": "2022-06-14T04:15:53.872Z"
   },
   {
    "duration": 11,
    "start_time": "2022-06-14T04:15:53.886Z"
   },
   {
    "duration": 0,
    "start_time": "2022-06-14T04:15:53.899Z"
   },
   {
    "duration": 0,
    "start_time": "2022-06-14T04:15:53.900Z"
   },
   {
    "duration": 0,
    "start_time": "2022-06-14T04:15:53.902Z"
   },
   {
    "duration": 0,
    "start_time": "2022-06-14T04:15:53.904Z"
   },
   {
    "duration": 0,
    "start_time": "2022-06-14T04:15:53.905Z"
   },
   {
    "duration": 0,
    "start_time": "2022-06-14T04:15:53.907Z"
   },
   {
    "duration": 0,
    "start_time": "2022-06-14T04:15:53.908Z"
   },
   {
    "duration": 0,
    "start_time": "2022-06-14T04:15:53.910Z"
   },
   {
    "duration": 22,
    "start_time": "2022-06-14T04:20:42.735Z"
   },
   {
    "duration": 24,
    "start_time": "2022-06-14T04:22:07.401Z"
   },
   {
    "duration": 23,
    "start_time": "2022-06-14T04:22:33.474Z"
   },
   {
    "duration": 8,
    "start_time": "2022-06-14T04:22:37.246Z"
   },
   {
    "duration": 25,
    "start_time": "2022-06-14T04:22:40.283Z"
   },
   {
    "duration": 12,
    "start_time": "2022-06-14T04:23:06.671Z"
   },
   {
    "duration": 25,
    "start_time": "2022-06-14T04:23:10.151Z"
   },
   {
    "duration": 43,
    "start_time": "2022-06-14T04:26:12.407Z"
   },
   {
    "duration": 24,
    "start_time": "2022-06-14T04:26:15.105Z"
   },
   {
    "duration": 431,
    "start_time": "2022-06-14T04:26:31.821Z"
   },
   {
    "duration": 280,
    "start_time": "2022-06-14T04:26:32.254Z"
   },
   {
    "duration": 17,
    "start_time": "2022-06-14T04:26:32.535Z"
   },
   {
    "duration": 35,
    "start_time": "2022-06-14T04:26:32.554Z"
   },
   {
    "duration": 3,
    "start_time": "2022-06-14T04:26:32.591Z"
   },
   {
    "duration": 17,
    "start_time": "2022-06-14T04:26:32.595Z"
   },
   {
    "duration": 13,
    "start_time": "2022-06-14T04:26:32.614Z"
   },
   {
    "duration": 47,
    "start_time": "2022-06-14T04:26:32.629Z"
   },
   {
    "duration": 61,
    "start_time": "2022-06-14T04:26:32.679Z"
   },
   {
    "duration": 23,
    "start_time": "2022-06-14T04:26:32.743Z"
   },
   {
    "duration": 3,
    "start_time": "2022-06-14T04:26:32.768Z"
   },
   {
    "duration": 6,
    "start_time": "2022-06-14T04:26:32.772Z"
   },
   {
    "duration": 9,
    "start_time": "2022-06-14T04:26:32.779Z"
   },
   {
    "duration": 7,
    "start_time": "2022-06-14T04:26:32.790Z"
   },
   {
    "duration": 7,
    "start_time": "2022-06-14T04:26:32.798Z"
   },
   {
    "duration": 20,
    "start_time": "2022-06-14T04:26:32.807Z"
   },
   {
    "duration": 6,
    "start_time": "2022-06-14T04:26:32.830Z"
   },
   {
    "duration": 4,
    "start_time": "2022-06-14T04:26:32.838Z"
   },
   {
    "duration": 4,
    "start_time": "2022-06-14T04:26:32.844Z"
   },
   {
    "duration": 9,
    "start_time": "2022-06-14T04:26:32.850Z"
   },
   {
    "duration": 12,
    "start_time": "2022-06-14T04:26:32.860Z"
   },
   {
    "duration": 6,
    "start_time": "2022-06-14T04:26:32.874Z"
   },
   {
    "duration": 5,
    "start_time": "2022-06-14T04:26:32.881Z"
   },
   {
    "duration": 6,
    "start_time": "2022-06-14T04:26:32.887Z"
   },
   {
    "duration": 5,
    "start_time": "2022-06-14T04:26:32.895Z"
   },
   {
    "duration": 6,
    "start_time": "2022-06-14T04:26:32.902Z"
   },
   {
    "duration": 5,
    "start_time": "2022-06-14T04:26:32.909Z"
   },
   {
    "duration": 2,
    "start_time": "2022-06-14T04:26:32.926Z"
   },
   {
    "duration": 8,
    "start_time": "2022-06-14T04:26:32.930Z"
   },
   {
    "duration": 8,
    "start_time": "2022-06-14T04:26:32.939Z"
   },
   {
    "duration": 0,
    "start_time": "2022-06-14T04:26:32.948Z"
   },
   {
    "duration": 0,
    "start_time": "2022-06-14T04:26:32.949Z"
   },
   {
    "duration": 0,
    "start_time": "2022-06-14T04:26:32.950Z"
   },
   {
    "duration": 0,
    "start_time": "2022-06-14T04:26:32.952Z"
   },
   {
    "duration": 0,
    "start_time": "2022-06-14T04:26:32.953Z"
   },
   {
    "duration": 0,
    "start_time": "2022-06-14T04:26:32.955Z"
   },
   {
    "duration": 0,
    "start_time": "2022-06-14T04:26:32.956Z"
   },
   {
    "duration": 0,
    "start_time": "2022-06-14T04:26:32.958Z"
   },
   {
    "duration": 54,
    "start_time": "2022-06-14T04:26:56.568Z"
   },
   {
    "duration": 25,
    "start_time": "2022-06-14T04:26:58.558Z"
   },
   {
    "duration": 425,
    "start_time": "2022-06-14T04:27:37.241Z"
   },
   {
    "duration": 266,
    "start_time": "2022-06-14T04:27:37.668Z"
   },
   {
    "duration": 6,
    "start_time": "2022-06-14T04:27:37.936Z"
   },
   {
    "duration": 30,
    "start_time": "2022-06-14T04:27:37.944Z"
   },
   {
    "duration": 4,
    "start_time": "2022-06-14T04:27:37.975Z"
   },
   {
    "duration": 15,
    "start_time": "2022-06-14T04:27:37.980Z"
   },
   {
    "duration": 6,
    "start_time": "2022-06-14T04:27:37.996Z"
   },
   {
    "duration": 46,
    "start_time": "2022-06-14T04:27:38.004Z"
   },
   {
    "duration": 27,
    "start_time": "2022-06-14T04:27:38.051Z"
   },
   {
    "duration": 3,
    "start_time": "2022-06-14T04:27:38.081Z"
   },
   {
    "duration": 8,
    "start_time": "2022-06-14T04:27:38.085Z"
   },
   {
    "duration": 7,
    "start_time": "2022-06-14T04:27:38.094Z"
   },
   {
    "duration": 11,
    "start_time": "2022-06-14T04:27:38.104Z"
   },
   {
    "duration": 11,
    "start_time": "2022-06-14T04:27:38.116Z"
   },
   {
    "duration": 9,
    "start_time": "2022-06-14T04:27:38.129Z"
   },
   {
    "duration": 7,
    "start_time": "2022-06-14T04:27:38.140Z"
   },
   {
    "duration": 6,
    "start_time": "2022-06-14T04:27:38.149Z"
   },
   {
    "duration": 7,
    "start_time": "2022-06-14T04:27:38.157Z"
   },
   {
    "duration": 10,
    "start_time": "2022-06-14T04:27:38.165Z"
   },
   {
    "duration": 6,
    "start_time": "2022-06-14T04:27:38.177Z"
   },
   {
    "duration": 9,
    "start_time": "2022-06-14T04:27:38.185Z"
   },
   {
    "duration": 9,
    "start_time": "2022-06-14T04:27:38.196Z"
   },
   {
    "duration": 5,
    "start_time": "2022-06-14T04:27:38.207Z"
   },
   {
    "duration": 7,
    "start_time": "2022-06-14T04:27:38.214Z"
   },
   {
    "duration": 9,
    "start_time": "2022-06-14T04:27:38.223Z"
   },
   {
    "duration": 5,
    "start_time": "2022-06-14T04:27:38.234Z"
   },
   {
    "duration": 7,
    "start_time": "2022-06-14T04:27:38.240Z"
   },
   {
    "duration": 4,
    "start_time": "2022-06-14T04:27:38.252Z"
   },
   {
    "duration": 11,
    "start_time": "2022-06-14T04:27:38.258Z"
   },
   {
    "duration": 0,
    "start_time": "2022-06-14T04:27:38.271Z"
   },
   {
    "duration": 0,
    "start_time": "2022-06-14T04:27:38.272Z"
   },
   {
    "duration": 0,
    "start_time": "2022-06-14T04:27:38.274Z"
   },
   {
    "duration": 0,
    "start_time": "2022-06-14T04:27:38.275Z"
   },
   {
    "duration": 0,
    "start_time": "2022-06-14T04:27:38.276Z"
   },
   {
    "duration": 0,
    "start_time": "2022-06-14T04:27:38.278Z"
   },
   {
    "duration": 0,
    "start_time": "2022-06-14T04:27:38.279Z"
   },
   {
    "duration": 0,
    "start_time": "2022-06-14T04:27:38.281Z"
   },
   {
    "duration": 22,
    "start_time": "2022-06-14T04:27:55.379Z"
   },
   {
    "duration": 48,
    "start_time": "2022-06-14T04:28:00.206Z"
   },
   {
    "duration": 22,
    "start_time": "2022-06-14T04:28:02.196Z"
   },
   {
    "duration": 6,
    "start_time": "2022-06-15T00:17:19.712Z"
   },
   {
    "duration": 387,
    "start_time": "2022-06-15T00:17:45.984Z"
   },
   {
    "duration": 572,
    "start_time": "2022-06-15T00:17:47.958Z"
   },
   {
    "duration": 6,
    "start_time": "2022-06-15T00:17:54.183Z"
   },
   {
    "duration": 29,
    "start_time": "2022-06-15T00:17:59.028Z"
   },
   {
    "duration": 3,
    "start_time": "2022-06-15T00:18:02.650Z"
   },
   {
    "duration": 13,
    "start_time": "2022-06-15T00:18:06.230Z"
   },
   {
    "duration": 3,
    "start_time": "2022-06-15T00:18:07.969Z"
   },
   {
    "duration": 20,
    "start_time": "2022-06-15T00:18:11.125Z"
   },
   {
    "duration": 40,
    "start_time": "2022-06-15T00:18:14.892Z"
   },
   {
    "duration": 27,
    "start_time": "2022-06-15T00:18:17.667Z"
   },
   {
    "duration": 15,
    "start_time": "2022-06-15T00:18:57.221Z"
   },
   {
    "duration": 20,
    "start_time": "2022-06-15T00:18:58.911Z"
   },
   {
    "duration": 16,
    "start_time": "2022-06-15T00:19:02.097Z"
   },
   {
    "duration": 19,
    "start_time": "2022-06-15T00:19:04.073Z"
   },
   {
    "duration": 53,
    "start_time": "2022-06-15T00:31:31.471Z"
   },
   {
    "duration": 64,
    "start_time": "2022-06-15T00:42:04.365Z"
   },
   {
    "duration": 53,
    "start_time": "2022-06-15T00:42:12.401Z"
   },
   {
    "duration": 5,
    "start_time": "2022-06-15T01:23:23.054Z"
   },
   {
    "duration": 361,
    "start_time": "2022-06-15T01:23:43.298Z"
   },
   {
    "duration": 275,
    "start_time": "2022-06-15T01:23:43.661Z"
   },
   {
    "duration": 7,
    "start_time": "2022-06-15T01:23:43.937Z"
   },
   {
    "duration": 33,
    "start_time": "2022-06-15T01:23:43.945Z"
   },
   {
    "duration": 3,
    "start_time": "2022-06-15T01:23:43.980Z"
   },
   {
    "duration": 17,
    "start_time": "2022-06-15T01:23:43.984Z"
   },
   {
    "duration": 11,
    "start_time": "2022-06-15T01:23:44.002Z"
   },
   {
    "duration": 23,
    "start_time": "2022-06-15T01:23:44.014Z"
   },
   {
    "duration": 16,
    "start_time": "2022-06-15T01:23:44.039Z"
   },
   {
    "duration": 29,
    "start_time": "2022-06-15T01:23:44.056Z"
   },
   {
    "duration": 57,
    "start_time": "2022-06-15T01:23:44.086Z"
   },
   {
    "duration": 2,
    "start_time": "2022-06-15T01:23:44.145Z"
   },
   {
    "duration": 6,
    "start_time": "2022-06-15T01:23:44.148Z"
   },
   {
    "duration": 21,
    "start_time": "2022-06-15T01:23:44.157Z"
   },
   {
    "duration": 3,
    "start_time": "2022-06-15T01:23:44.179Z"
   },
   {
    "duration": 5,
    "start_time": "2022-06-15T01:23:44.183Z"
   },
   {
    "duration": 6,
    "start_time": "2022-06-15T01:23:44.189Z"
   },
   {
    "duration": 5,
    "start_time": "2022-06-15T01:23:44.196Z"
   },
   {
    "duration": 5,
    "start_time": "2022-06-15T01:23:44.203Z"
   },
   {
    "duration": 5,
    "start_time": "2022-06-15T01:23:44.209Z"
   },
   {
    "duration": 11,
    "start_time": "2022-06-15T01:23:44.216Z"
   },
   {
    "duration": 8,
    "start_time": "2022-06-15T01:23:44.229Z"
   },
   {
    "duration": 7,
    "start_time": "2022-06-15T01:23:44.239Z"
   },
   {
    "duration": 6,
    "start_time": "2022-06-15T01:23:44.247Z"
   },
   {
    "duration": 6,
    "start_time": "2022-06-15T01:23:44.254Z"
   },
   {
    "duration": 4,
    "start_time": "2022-06-15T01:23:44.262Z"
   },
   {
    "duration": 3,
    "start_time": "2022-06-15T01:23:44.277Z"
   },
   {
    "duration": 9,
    "start_time": "2022-06-15T01:23:44.282Z"
   },
   {
    "duration": 10,
    "start_time": "2022-06-15T01:23:44.292Z"
   },
   {
    "duration": 8,
    "start_time": "2022-06-15T01:23:44.304Z"
   },
   {
    "duration": 0,
    "start_time": "2022-06-15T01:23:44.314Z"
   },
   {
    "duration": 0,
    "start_time": "2022-06-15T01:23:44.315Z"
   },
   {
    "duration": 0,
    "start_time": "2022-06-15T01:23:44.316Z"
   },
   {
    "duration": 0,
    "start_time": "2022-06-15T01:23:44.318Z"
   },
   {
    "duration": 0,
    "start_time": "2022-06-15T01:23:44.319Z"
   },
   {
    "duration": 0,
    "start_time": "2022-06-15T01:23:44.320Z"
   },
   {
    "duration": 0,
    "start_time": "2022-06-15T01:23:44.322Z"
   },
   {
    "duration": 0,
    "start_time": "2022-06-15T01:23:44.323Z"
   },
   {
    "duration": 62,
    "start_time": "2022-06-15T01:24:20.171Z"
   },
   {
    "duration": 53,
    "start_time": "2022-06-15T01:24:28.168Z"
   },
   {
    "duration": 96,
    "start_time": "2022-06-15T01:25:42.261Z"
   },
   {
    "duration": 11,
    "start_time": "2022-06-15T01:26:09.016Z"
   },
   {
    "duration": 9,
    "start_time": "2022-06-15T01:26:21.133Z"
   },
   {
    "duration": 9,
    "start_time": "2022-06-15T01:26:26.420Z"
   },
   {
    "duration": 9,
    "start_time": "2022-06-15T01:26:38.935Z"
   },
   {
    "duration": 10,
    "start_time": "2022-06-15T01:27:21.305Z"
   },
   {
    "duration": 10,
    "start_time": "2022-06-15T01:27:42.623Z"
   },
   {
    "duration": 7,
    "start_time": "2022-06-15T01:27:53.312Z"
   },
   {
    "duration": 4,
    "start_time": "2022-06-15T01:28:01.025Z"
   },
   {
    "duration": 285,
    "start_time": "2022-06-15T01:29:23.376Z"
   },
   {
    "duration": 7,
    "start_time": "2022-06-15T01:29:37.041Z"
   },
   {
    "duration": 7,
    "start_time": "2022-06-15T01:30:10.192Z"
   },
   {
    "duration": 11,
    "start_time": "2022-06-15T01:30:40.006Z"
   },
   {
    "duration": 6,
    "start_time": "2022-06-15T02:05:30.705Z"
   },
   {
    "duration": 381,
    "start_time": "2022-06-15T02:06:09.970Z"
   },
   {
    "duration": 269,
    "start_time": "2022-06-15T02:06:10.353Z"
   },
   {
    "duration": 6,
    "start_time": "2022-06-15T02:06:10.623Z"
   },
   {
    "duration": 25,
    "start_time": "2022-06-15T02:06:10.631Z"
   },
   {
    "duration": 2,
    "start_time": "2022-06-15T02:06:10.658Z"
   },
   {
    "duration": 33,
    "start_time": "2022-06-15T02:06:10.661Z"
   },
   {
    "duration": 6,
    "start_time": "2022-06-15T02:06:10.696Z"
   },
   {
    "duration": 21,
    "start_time": "2022-06-15T02:06:10.703Z"
   },
   {
    "duration": 16,
    "start_time": "2022-06-15T02:06:10.726Z"
   },
   {
    "duration": 19,
    "start_time": "2022-06-15T02:06:10.744Z"
   },
   {
    "duration": 72,
    "start_time": "2022-06-15T02:06:10.765Z"
   },
   {
    "duration": 75,
    "start_time": "2022-06-15T02:06:10.839Z"
   },
   {
    "duration": 48,
    "start_time": "2022-06-15T02:06:10.916Z"
   },
   {
    "duration": 2,
    "start_time": "2022-06-15T02:06:10.965Z"
   },
   {
    "duration": 15,
    "start_time": "2022-06-15T02:06:10.968Z"
   },
   {
    "duration": 12,
    "start_time": "2022-06-15T02:06:10.984Z"
   },
   {
    "duration": 4,
    "start_time": "2022-06-15T02:06:10.998Z"
   },
   {
    "duration": 11,
    "start_time": "2022-06-15T02:06:11.003Z"
   },
   {
    "duration": 9,
    "start_time": "2022-06-15T02:06:11.016Z"
   },
   {
    "duration": 9,
    "start_time": "2022-06-15T02:06:11.027Z"
   },
   {
    "duration": 6,
    "start_time": "2022-06-15T02:06:11.037Z"
   },
   {
    "duration": 5,
    "start_time": "2022-06-15T02:06:11.044Z"
   },
   {
    "duration": 6,
    "start_time": "2022-06-15T02:06:11.050Z"
   },
   {
    "duration": 4,
    "start_time": "2022-06-15T02:06:11.057Z"
   },
   {
    "duration": 5,
    "start_time": "2022-06-15T02:06:11.062Z"
   },
   {
    "duration": 5,
    "start_time": "2022-06-15T02:06:11.068Z"
   },
   {
    "duration": 5,
    "start_time": "2022-06-15T02:06:11.074Z"
   },
   {
    "duration": 5,
    "start_time": "2022-06-15T02:06:11.094Z"
   },
   {
    "duration": 5,
    "start_time": "2022-06-15T02:06:11.100Z"
   },
   {
    "duration": 0,
    "start_time": "2022-06-15T02:06:11.107Z"
   },
   {
    "duration": 0,
    "start_time": "2022-06-15T02:06:11.108Z"
   },
   {
    "duration": 0,
    "start_time": "2022-06-15T02:06:11.109Z"
   },
   {
    "duration": 0,
    "start_time": "2022-06-15T02:06:11.109Z"
   },
   {
    "duration": 0,
    "start_time": "2022-06-15T02:06:11.110Z"
   },
   {
    "duration": 0,
    "start_time": "2022-06-15T02:06:11.111Z"
   },
   {
    "duration": 0,
    "start_time": "2022-06-15T02:06:11.113Z"
   },
   {
    "duration": 0,
    "start_time": "2022-06-15T02:06:11.113Z"
   },
   {
    "duration": 7,
    "start_time": "2022-06-15T02:12:53.056Z"
   },
   {
    "duration": 64,
    "start_time": "2022-06-15T02:14:24.394Z"
   },
   {
    "duration": 9,
    "start_time": "2022-06-15T02:14:34.987Z"
   },
   {
    "duration": 8,
    "start_time": "2022-06-15T02:16:44.593Z"
   },
   {
    "duration": 10,
    "start_time": "2022-06-15T02:17:10.031Z"
   },
   {
    "duration": 348,
    "start_time": "2022-06-15T02:36:15.740Z"
   },
   {
    "duration": 258,
    "start_time": "2022-06-15T02:36:16.090Z"
   },
   {
    "duration": 6,
    "start_time": "2022-06-15T02:36:16.350Z"
   },
   {
    "duration": 29,
    "start_time": "2022-06-15T02:36:16.358Z"
   },
   {
    "duration": 3,
    "start_time": "2022-06-15T02:36:16.389Z"
   },
   {
    "duration": 15,
    "start_time": "2022-06-15T02:36:16.394Z"
   },
   {
    "duration": 10,
    "start_time": "2022-06-15T02:36:16.411Z"
   },
   {
    "duration": 24,
    "start_time": "2022-06-15T02:36:16.423Z"
   },
   {
    "duration": 39,
    "start_time": "2022-06-15T02:36:16.449Z"
   },
   {
    "duration": 31,
    "start_time": "2022-06-15T02:36:16.490Z"
   },
   {
    "duration": 68,
    "start_time": "2022-06-15T02:36:16.522Z"
   },
   {
    "duration": 61,
    "start_time": "2022-06-15T02:36:16.592Z"
   },
   {
    "duration": 63,
    "start_time": "2022-06-15T02:36:16.654Z"
   },
   {
    "duration": 3,
    "start_time": "2022-06-15T02:36:16.719Z"
   },
   {
    "duration": 7,
    "start_time": "2022-06-15T02:36:16.723Z"
   },
   {
    "duration": 7,
    "start_time": "2022-06-15T02:36:16.731Z"
   },
   {
    "duration": 4,
    "start_time": "2022-06-15T02:36:16.739Z"
   },
   {
    "duration": 6,
    "start_time": "2022-06-15T02:36:16.745Z"
   },
   {
    "duration": 6,
    "start_time": "2022-06-15T02:36:16.752Z"
   },
   {
    "duration": 7,
    "start_time": "2022-06-15T02:36:16.760Z"
   },
   {
    "duration": 2,
    "start_time": "2022-06-15T02:36:16.778Z"
   },
   {
    "duration": 5,
    "start_time": "2022-06-15T02:36:16.782Z"
   },
   {
    "duration": 6,
    "start_time": "2022-06-15T02:36:16.789Z"
   },
   {
    "duration": 5,
    "start_time": "2022-06-15T02:36:16.797Z"
   },
   {
    "duration": 8,
    "start_time": "2022-06-15T02:36:16.804Z"
   },
   {
    "duration": 4,
    "start_time": "2022-06-15T02:36:16.814Z"
   },
   {
    "duration": 4,
    "start_time": "2022-06-15T02:36:16.820Z"
   },
   {
    "duration": 9,
    "start_time": "2022-06-15T02:36:16.825Z"
   },
   {
    "duration": 7,
    "start_time": "2022-06-15T02:36:16.836Z"
   },
   {
    "duration": 0,
    "start_time": "2022-06-15T02:36:16.844Z"
   },
   {
    "duration": 0,
    "start_time": "2022-06-15T02:36:16.845Z"
   },
   {
    "duration": 0,
    "start_time": "2022-06-15T02:36:16.846Z"
   },
   {
    "duration": 0,
    "start_time": "2022-06-15T02:36:16.848Z"
   },
   {
    "duration": 0,
    "start_time": "2022-06-15T02:36:16.850Z"
   },
   {
    "duration": 0,
    "start_time": "2022-06-15T02:36:16.850Z"
   },
   {
    "duration": 0,
    "start_time": "2022-06-15T02:36:16.851Z"
   },
   {
    "duration": 0,
    "start_time": "2022-06-15T02:36:16.852Z"
   },
   {
    "duration": 4,
    "start_time": "2022-06-15T02:38:11.672Z"
   },
   {
    "duration": 8,
    "start_time": "2022-06-15T02:38:48.861Z"
   },
   {
    "duration": 41,
    "start_time": "2022-06-15T02:39:15.350Z"
   },
   {
    "duration": 41,
    "start_time": "2022-06-15T02:39:40.569Z"
   },
   {
    "duration": 43,
    "start_time": "2022-06-15T02:40:53.417Z"
   },
   {
    "duration": 41,
    "start_time": "2022-06-15T02:40:59.843Z"
   },
   {
    "duration": 41,
    "start_time": "2022-06-15T02:41:29.985Z"
   },
   {
    "duration": 42,
    "start_time": "2022-06-15T02:43:52.564Z"
   },
   {
    "duration": 7,
    "start_time": "2022-06-15T02:44:17.994Z"
   },
   {
    "duration": 36,
    "start_time": "2022-06-15T02:45:02.793Z"
   },
   {
    "duration": 40,
    "start_time": "2022-06-15T02:45:04.588Z"
   },
   {
    "duration": 48,
    "start_time": "2022-06-15T02:45:27.381Z"
   },
   {
    "duration": 43,
    "start_time": "2022-06-15T02:45:46.719Z"
   },
   {
    "duration": 44,
    "start_time": "2022-06-15T02:50:43.221Z"
   },
   {
    "duration": 6,
    "start_time": "2022-06-15T02:58:14.533Z"
   },
   {
    "duration": 41,
    "start_time": "2022-06-15T02:59:20.790Z"
   },
   {
    "duration": 39,
    "start_time": "2022-06-15T03:00:36.324Z"
   },
   {
    "duration": 6,
    "start_time": "2022-06-15T03:01:14.764Z"
   },
   {
    "duration": 39,
    "start_time": "2022-06-15T03:01:56.890Z"
   },
   {
    "duration": 58,
    "start_time": "2022-06-15T03:15:40.885Z"
   },
   {
    "duration": 45,
    "start_time": "2022-06-15T14:11:41.008Z"
   },
   {
    "duration": 5,
    "start_time": "2022-06-15T14:11:45.877Z"
   },
   {
    "duration": 358,
    "start_time": "2022-06-15T14:12:12.199Z"
   },
   {
    "duration": 331,
    "start_time": "2022-06-15T14:12:12.559Z"
   },
   {
    "duration": 5,
    "start_time": "2022-06-15T14:12:12.892Z"
   },
   {
    "duration": 41,
    "start_time": "2022-06-15T14:12:12.899Z"
   },
   {
    "duration": 11,
    "start_time": "2022-06-15T14:12:12.942Z"
   },
   {
    "duration": 17,
    "start_time": "2022-06-15T14:12:12.959Z"
   },
   {
    "duration": 13,
    "start_time": "2022-06-15T14:12:12.979Z"
   },
   {
    "duration": 60,
    "start_time": "2022-06-15T14:12:12.994Z"
   },
   {
    "duration": 28,
    "start_time": "2022-06-15T14:12:13.056Z"
   },
   {
    "duration": 30,
    "start_time": "2022-06-15T14:12:13.086Z"
   },
   {
    "duration": 73,
    "start_time": "2022-06-15T14:12:13.118Z"
   },
   {
    "duration": 68,
    "start_time": "2022-06-15T14:12:13.193Z"
   },
   {
    "duration": 52,
    "start_time": "2022-06-15T14:12:13.262Z"
   },
   {
    "duration": 59,
    "start_time": "2022-06-15T14:12:13.315Z"
   },
   {
    "duration": 2,
    "start_time": "2022-06-15T14:12:13.375Z"
   },
   {
    "duration": 23,
    "start_time": "2022-06-15T14:12:13.379Z"
   },
   {
    "duration": 17,
    "start_time": "2022-06-15T14:12:13.403Z"
   },
   {
    "duration": 13,
    "start_time": "2022-06-15T14:12:13.422Z"
   },
   {
    "duration": 11,
    "start_time": "2022-06-15T14:12:13.437Z"
   },
   {
    "duration": 8,
    "start_time": "2022-06-15T14:12:13.450Z"
   },
   {
    "duration": 15,
    "start_time": "2022-06-15T14:12:13.460Z"
   },
   {
    "duration": 28,
    "start_time": "2022-06-15T14:12:13.477Z"
   },
   {
    "duration": 19,
    "start_time": "2022-06-15T14:12:13.506Z"
   },
   {
    "duration": 35,
    "start_time": "2022-06-15T14:12:13.526Z"
   },
   {
    "duration": 7,
    "start_time": "2022-06-15T14:12:13.563Z"
   },
   {
    "duration": 21,
    "start_time": "2022-06-15T14:12:13.572Z"
   },
   {
    "duration": 27,
    "start_time": "2022-06-15T14:12:13.594Z"
   },
   {
    "duration": 17,
    "start_time": "2022-06-15T14:12:13.624Z"
   },
   {
    "duration": 7,
    "start_time": "2022-06-15T14:12:13.643Z"
   },
   {
    "duration": 20,
    "start_time": "2022-06-15T14:12:13.652Z"
   },
   {
    "duration": 0,
    "start_time": "2022-06-15T14:12:13.673Z"
   },
   {
    "duration": 0,
    "start_time": "2022-06-15T14:12:13.675Z"
   },
   {
    "duration": 0,
    "start_time": "2022-06-15T14:12:13.676Z"
   },
   {
    "duration": 0,
    "start_time": "2022-06-15T14:12:13.677Z"
   },
   {
    "duration": 0,
    "start_time": "2022-06-15T14:12:13.679Z"
   },
   {
    "duration": 0,
    "start_time": "2022-06-15T14:12:13.680Z"
   },
   {
    "duration": 0,
    "start_time": "2022-06-15T14:12:13.681Z"
   },
   {
    "duration": 0,
    "start_time": "2022-06-15T14:12:13.683Z"
   },
   {
    "duration": 40,
    "start_time": "2022-06-15T23:01:44.505Z"
   },
   {
    "duration": 3,
    "start_time": "2022-06-15T23:01:53.318Z"
   },
   {
    "duration": 3,
    "start_time": "2022-06-15T23:01:55.462Z"
   },
   {
    "duration": 2,
    "start_time": "2022-06-15T23:02:04.408Z"
   },
   {
    "duration": 2,
    "start_time": "2022-06-15T23:02:30.227Z"
   },
   {
    "duration": 4,
    "start_time": "2022-06-15T23:02:32.059Z"
   },
   {
    "duration": 2,
    "start_time": "2022-06-15T23:07:42.135Z"
   },
   {
    "duration": 72,
    "start_time": "2022-06-15T23:09:34.606Z"
   },
   {
    "duration": 3,
    "start_time": "2022-06-15T23:12:45.824Z"
   },
   {
    "duration": 9,
    "start_time": "2022-06-15T23:14:07.489Z"
   },
   {
    "duration": 384,
    "start_time": "2022-06-15T23:14:45.522Z"
   },
   {
    "duration": 321,
    "start_time": "2022-06-15T23:14:45.908Z"
   },
   {
    "duration": 5,
    "start_time": "2022-06-15T23:14:46.231Z"
   },
   {
    "duration": 36,
    "start_time": "2022-06-15T23:14:46.238Z"
   },
   {
    "duration": 3,
    "start_time": "2022-06-15T23:14:46.276Z"
   },
   {
    "duration": 22,
    "start_time": "2022-06-15T23:14:46.281Z"
   },
   {
    "duration": 6,
    "start_time": "2022-06-15T23:14:46.305Z"
   },
   {
    "duration": 24,
    "start_time": "2022-06-15T23:14:46.312Z"
   },
   {
    "duration": 25,
    "start_time": "2022-06-15T23:14:46.338Z"
   },
   {
    "duration": 23,
    "start_time": "2022-06-15T23:14:46.364Z"
   },
   {
    "duration": 71,
    "start_time": "2022-06-15T23:14:46.388Z"
   },
   {
    "duration": 62,
    "start_time": "2022-06-15T23:14:46.461Z"
   },
   {
    "duration": 69,
    "start_time": "2022-06-15T23:14:46.524Z"
   },
   {
    "duration": 47,
    "start_time": "2022-06-15T23:14:46.596Z"
   },
   {
    "duration": 15,
    "start_time": "2022-06-15T23:14:46.645Z"
   },
   {
    "duration": 68,
    "start_time": "2022-06-15T23:14:46.662Z"
   },
   {
    "duration": 0,
    "start_time": "2022-06-15T23:14:46.732Z"
   },
   {
    "duration": 0,
    "start_time": "2022-06-15T23:14:46.734Z"
   },
   {
    "duration": 0,
    "start_time": "2022-06-15T23:14:46.735Z"
   },
   {
    "duration": 0,
    "start_time": "2022-06-15T23:14:46.736Z"
   },
   {
    "duration": 0,
    "start_time": "2022-06-15T23:14:46.738Z"
   },
   {
    "duration": 0,
    "start_time": "2022-06-15T23:14:46.758Z"
   },
   {
    "duration": 0,
    "start_time": "2022-06-15T23:14:46.760Z"
   },
   {
    "duration": 0,
    "start_time": "2022-06-15T23:14:46.762Z"
   },
   {
    "duration": 0,
    "start_time": "2022-06-15T23:14:46.763Z"
   },
   {
    "duration": 0,
    "start_time": "2022-06-15T23:14:46.764Z"
   },
   {
    "duration": 0,
    "start_time": "2022-06-15T23:14:46.765Z"
   },
   {
    "duration": 0,
    "start_time": "2022-06-15T23:14:46.767Z"
   },
   {
    "duration": 0,
    "start_time": "2022-06-15T23:14:46.768Z"
   },
   {
    "duration": 0,
    "start_time": "2022-06-15T23:14:46.770Z"
   },
   {
    "duration": 0,
    "start_time": "2022-06-15T23:14:46.771Z"
   },
   {
    "duration": 0,
    "start_time": "2022-06-15T23:14:46.772Z"
   },
   {
    "duration": 0,
    "start_time": "2022-06-15T23:14:46.774Z"
   },
   {
    "duration": 0,
    "start_time": "2022-06-15T23:14:46.774Z"
   },
   {
    "duration": 0,
    "start_time": "2022-06-15T23:14:46.776Z"
   },
   {
    "duration": 0,
    "start_time": "2022-06-15T23:14:46.777Z"
   },
   {
    "duration": 0,
    "start_time": "2022-06-15T23:14:46.778Z"
   },
   {
    "duration": 0,
    "start_time": "2022-06-15T23:14:46.780Z"
   },
   {
    "duration": 2,
    "start_time": "2022-06-15T23:14:54.373Z"
   },
   {
    "duration": 9,
    "start_time": "2022-06-15T23:14:56.834Z"
   },
   {
    "duration": 3,
    "start_time": "2022-06-15T23:15:16.192Z"
   },
   {
    "duration": 9,
    "start_time": "2022-06-15T23:15:17.918Z"
   },
   {
    "duration": 10,
    "start_time": "2022-06-15T23:17:37.844Z"
   },
   {
    "duration": 4,
    "start_time": "2022-06-15T23:18:53.036Z"
   },
   {
    "duration": 3,
    "start_time": "2022-06-15T23:18:55.181Z"
   },
   {
    "duration": 9,
    "start_time": "2022-06-15T23:18:56.972Z"
   },
   {
    "duration": 7,
    "start_time": "2022-06-15T23:19:49.402Z"
   },
   {
    "duration": 9,
    "start_time": "2022-06-15T23:23:45.219Z"
   },
   {
    "duration": 374,
    "start_time": "2022-06-15T23:26:02.419Z"
   },
   {
    "duration": 319,
    "start_time": "2022-06-15T23:26:02.795Z"
   },
   {
    "duration": 6,
    "start_time": "2022-06-15T23:26:03.116Z"
   },
   {
    "duration": 38,
    "start_time": "2022-06-15T23:26:03.124Z"
   },
   {
    "duration": 4,
    "start_time": "2022-06-15T23:26:03.164Z"
   },
   {
    "duration": 16,
    "start_time": "2022-06-15T23:26:03.171Z"
   },
   {
    "duration": 6,
    "start_time": "2022-06-15T23:26:03.188Z"
   },
   {
    "duration": 24,
    "start_time": "2022-06-15T23:26:03.195Z"
   },
   {
    "duration": 18,
    "start_time": "2022-06-15T23:26:03.220Z"
   },
   {
    "duration": 33,
    "start_time": "2022-06-15T23:26:03.261Z"
   },
   {
    "duration": 66,
    "start_time": "2022-06-15T23:26:03.295Z"
   },
   {
    "duration": 67,
    "start_time": "2022-06-15T23:26:03.364Z"
   },
   {
    "duration": 74,
    "start_time": "2022-06-15T23:26:03.433Z"
   },
   {
    "duration": 57,
    "start_time": "2022-06-15T23:26:03.508Z"
   },
   {
    "duration": 11,
    "start_time": "2022-06-15T23:26:03.567Z"
   },
   {
    "duration": 7,
    "start_time": "2022-06-15T23:26:03.581Z"
   },
   {
    "duration": 11,
    "start_time": "2022-06-15T23:26:03.589Z"
   },
   {
    "duration": 14,
    "start_time": "2022-06-15T23:26:03.601Z"
   },
   {
    "duration": 7,
    "start_time": "2022-06-15T23:26:03.617Z"
   },
   {
    "duration": 7,
    "start_time": "2022-06-15T23:26:03.626Z"
   },
   {
    "duration": 14,
    "start_time": "2022-06-15T23:26:03.634Z"
   },
   {
    "duration": 11,
    "start_time": "2022-06-15T23:26:03.650Z"
   },
   {
    "duration": 16,
    "start_time": "2022-06-15T23:26:03.664Z"
   },
   {
    "duration": 8,
    "start_time": "2022-06-15T23:26:03.682Z"
   },
   {
    "duration": 9,
    "start_time": "2022-06-15T23:26:03.691Z"
   },
   {
    "duration": 6,
    "start_time": "2022-06-15T23:26:03.702Z"
   },
   {
    "duration": 8,
    "start_time": "2022-06-15T23:26:03.709Z"
   },
   {
    "duration": 7,
    "start_time": "2022-06-15T23:26:03.719Z"
   },
   {
    "duration": 0,
    "start_time": "2022-06-15T23:26:03.728Z"
   },
   {
    "duration": 0,
    "start_time": "2022-06-15T23:26:03.730Z"
   },
   {
    "duration": 0,
    "start_time": "2022-06-15T23:26:03.731Z"
   },
   {
    "duration": 0,
    "start_time": "2022-06-15T23:26:03.733Z"
   },
   {
    "duration": 0,
    "start_time": "2022-06-15T23:26:03.735Z"
   },
   {
    "duration": 0,
    "start_time": "2022-06-15T23:26:03.736Z"
   },
   {
    "duration": 0,
    "start_time": "2022-06-15T23:26:03.738Z"
   },
   {
    "duration": 0,
    "start_time": "2022-06-15T23:26:03.739Z"
   },
   {
    "duration": 3,
    "start_time": "2022-06-15T23:26:29.246Z"
   },
   {
    "duration": 68,
    "start_time": "2022-06-15T23:26:39.159Z"
   },
   {
    "duration": 11,
    "start_time": "2022-06-15T23:28:07.975Z"
   },
   {
    "duration": 11,
    "start_time": "2022-06-15T23:28:34.997Z"
   },
   {
    "duration": 9,
    "start_time": "2022-06-15T23:30:16.296Z"
   },
   {
    "duration": 7,
    "start_time": "2022-06-15T23:34:12.639Z"
   },
   {
    "duration": 4,
    "start_time": "2022-06-15T23:34:34.039Z"
   },
   {
    "duration": 354,
    "start_time": "2022-06-15T23:35:21.095Z"
   },
   {
    "duration": 282,
    "start_time": "2022-06-15T23:35:21.451Z"
   },
   {
    "duration": 6,
    "start_time": "2022-06-15T23:35:21.734Z"
   },
   {
    "duration": 34,
    "start_time": "2022-06-15T23:35:21.742Z"
   },
   {
    "duration": 11,
    "start_time": "2022-06-15T23:35:21.777Z"
   },
   {
    "duration": 23,
    "start_time": "2022-06-15T23:35:21.789Z"
   },
   {
    "duration": 10,
    "start_time": "2022-06-15T23:35:21.814Z"
   },
   {
    "duration": 32,
    "start_time": "2022-06-15T23:35:21.825Z"
   },
   {
    "duration": 16,
    "start_time": "2022-06-15T23:35:21.859Z"
   },
   {
    "duration": 21,
    "start_time": "2022-06-15T23:35:21.877Z"
   },
   {
    "duration": 69,
    "start_time": "2022-06-15T23:35:21.899Z"
   },
   {
    "duration": 61,
    "start_time": "2022-06-15T23:35:21.970Z"
   },
   {
    "duration": 65,
    "start_time": "2022-06-15T23:35:22.033Z"
   },
   {
    "duration": 47,
    "start_time": "2022-06-15T23:35:22.100Z"
   },
   {
    "duration": 15,
    "start_time": "2022-06-15T23:35:22.159Z"
   },
   {
    "duration": 2,
    "start_time": "2022-06-15T23:35:36.379Z"
   },
   {
    "duration": 14,
    "start_time": "2022-06-15T23:35:41.497Z"
   },
   {
    "duration": 7,
    "start_time": "2022-06-15T23:35:51.515Z"
   },
   {
    "duration": 46,
    "start_time": "2022-06-15T23:36:43.977Z"
   },
   {
    "duration": 45,
    "start_time": "2022-06-16T03:22:34.120Z"
   },
   {
    "duration": 433,
    "start_time": "2022-06-16T03:24:00.540Z"
   },
   {
    "duration": 342,
    "start_time": "2022-06-16T03:24:00.976Z"
   },
   {
    "duration": 6,
    "start_time": "2022-06-16T03:24:01.320Z"
   },
   {
    "duration": 48,
    "start_time": "2022-06-16T03:24:01.327Z"
   },
   {
    "duration": 14,
    "start_time": "2022-06-16T03:24:01.377Z"
   },
   {
    "duration": 36,
    "start_time": "2022-06-16T03:24:01.392Z"
   },
   {
    "duration": 27,
    "start_time": "2022-06-16T03:24:01.429Z"
   },
   {
    "duration": 57,
    "start_time": "2022-06-16T03:24:01.458Z"
   },
   {
    "duration": 42,
    "start_time": "2022-06-16T03:24:01.516Z"
   },
   {
    "duration": 36,
    "start_time": "2022-06-16T03:24:01.560Z"
   },
   {
    "duration": 75,
    "start_time": "2022-06-16T03:24:01.598Z"
   },
   {
    "duration": 63,
    "start_time": "2022-06-16T03:24:01.674Z"
   },
   {
    "duration": 72,
    "start_time": "2022-06-16T03:24:01.738Z"
   },
   {
    "duration": 59,
    "start_time": "2022-06-16T03:24:01.813Z"
   },
   {
    "duration": 3,
    "start_time": "2022-06-16T03:24:01.874Z"
   },
   {
    "duration": 30,
    "start_time": "2022-06-16T03:24:01.878Z"
   },
   {
    "duration": 67,
    "start_time": "2022-06-16T03:24:01.910Z"
   },
   {
    "duration": 2,
    "start_time": "2022-06-16T03:24:01.979Z"
   },
   {
    "duration": 36,
    "start_time": "2022-06-16T03:24:01.983Z"
   },
   {
    "duration": 35,
    "start_time": "2022-06-16T03:24:02.020Z"
   },
   {
    "duration": 15,
    "start_time": "2022-06-16T03:24:02.057Z"
   },
   {
    "duration": 18,
    "start_time": "2022-06-16T03:24:02.074Z"
   },
   {
    "duration": 19,
    "start_time": "2022-06-16T03:24:02.093Z"
   },
   {
    "duration": 10,
    "start_time": "2022-06-16T03:24:02.114Z"
   },
   {
    "duration": 19,
    "start_time": "2022-06-16T03:24:02.126Z"
   },
   {
    "duration": 25,
    "start_time": "2022-06-16T03:24:02.147Z"
   },
   {
    "duration": 16,
    "start_time": "2022-06-16T03:24:02.174Z"
   },
   {
    "duration": 21,
    "start_time": "2022-06-16T03:24:02.192Z"
   },
   {
    "duration": 25,
    "start_time": "2022-06-16T03:24:02.215Z"
   },
   {
    "duration": 0,
    "start_time": "2022-06-16T03:24:02.241Z"
   },
   {
    "duration": 0,
    "start_time": "2022-06-16T03:24:02.243Z"
   },
   {
    "duration": 0,
    "start_time": "2022-06-16T03:24:02.244Z"
   },
   {
    "duration": 0,
    "start_time": "2022-06-16T03:24:02.245Z"
   },
   {
    "duration": 0,
    "start_time": "2022-06-16T03:24:02.246Z"
   },
   {
    "duration": 0,
    "start_time": "2022-06-16T03:24:02.247Z"
   },
   {
    "duration": 0,
    "start_time": "2022-06-16T03:24:02.248Z"
   },
   {
    "duration": 0,
    "start_time": "2022-06-16T03:24:02.249Z"
   },
   {
    "duration": 29,
    "start_time": "2022-06-16T03:24:11.300Z"
   },
   {
    "duration": 13,
    "start_time": "2022-06-16T03:28:43.356Z"
   },
   {
    "duration": 68,
    "start_time": "2022-06-16T03:34:06.350Z"
   },
   {
    "duration": 45,
    "start_time": "2022-06-16T03:37:24.602Z"
   },
   {
    "duration": 7,
    "start_time": "2022-06-16T03:37:31.763Z"
   },
   {
    "duration": 9,
    "start_time": "2022-06-16T03:37:50.402Z"
   },
   {
    "duration": 7,
    "start_time": "2022-06-16T03:39:24.048Z"
   },
   {
    "duration": 7,
    "start_time": "2022-06-16T03:41:49.639Z"
   },
   {
    "duration": 21,
    "start_time": "2022-06-16T03:42:29.460Z"
   },
   {
    "duration": 14,
    "start_time": "2022-06-16T03:46:48.901Z"
   },
   {
    "duration": 9,
    "start_time": "2022-06-16T03:47:20.200Z"
   },
   {
    "duration": 9,
    "start_time": "2022-06-16T03:55:20.162Z"
   },
   {
    "duration": 11,
    "start_time": "2022-06-16T03:55:28.504Z"
   },
   {
    "duration": 53,
    "start_time": "2022-06-16T04:00:16.635Z"
   },
   {
    "duration": 31,
    "start_time": "2022-06-16T04:01:28.820Z"
   },
   {
    "duration": 6,
    "start_time": "2022-06-16T04:03:14.331Z"
   },
   {
    "duration": 4,
    "start_time": "2022-06-16T04:05:27.895Z"
   },
   {
    "duration": 16,
    "start_time": "2022-06-16T04:05:53.829Z"
   },
   {
    "duration": 15,
    "start_time": "2022-06-16T04:06:34.851Z"
   },
   {
    "duration": 15,
    "start_time": "2022-06-16T04:07:01.540Z"
   },
   {
    "duration": 18,
    "start_time": "2022-06-16T04:07:18.290Z"
   },
   {
    "duration": 16,
    "start_time": "2022-06-16T04:07:44.372Z"
   },
   {
    "duration": 15,
    "start_time": "2022-06-16T04:07:46.100Z"
   },
   {
    "duration": 7,
    "start_time": "2022-06-16T04:15:53.082Z"
   },
   {
    "duration": 10,
    "start_time": "2022-06-16T04:16:07.333Z"
   },
   {
    "duration": 24,
    "start_time": "2022-06-16T04:17:11.866Z"
   },
   {
    "duration": 7,
    "start_time": "2022-06-16T04:17:34.759Z"
   },
   {
    "duration": 8,
    "start_time": "2022-06-16T04:19:07.870Z"
   },
   {
    "duration": 7,
    "start_time": "2022-06-16T04:19:33.908Z"
   },
   {
    "duration": 16,
    "start_time": "2022-06-16T04:19:44.102Z"
   },
   {
    "duration": 15,
    "start_time": "2022-06-16T04:20:26.393Z"
   },
   {
    "duration": 8,
    "start_time": "2022-06-16T04:20:42.122Z"
   },
   {
    "duration": 9,
    "start_time": "2022-06-16T04:21:04.901Z"
   },
   {
    "duration": 353,
    "start_time": "2022-06-16T04:21:22.915Z"
   },
   {
    "duration": 275,
    "start_time": "2022-06-16T04:21:23.269Z"
   },
   {
    "duration": 6,
    "start_time": "2022-06-16T04:21:23.546Z"
   },
   {
    "duration": 32,
    "start_time": "2022-06-16T04:21:23.554Z"
   },
   {
    "duration": 3,
    "start_time": "2022-06-16T04:21:23.588Z"
   },
   {
    "duration": 17,
    "start_time": "2022-06-16T04:21:23.592Z"
   },
   {
    "duration": 6,
    "start_time": "2022-06-16T04:21:23.611Z"
   },
   {
    "duration": 48,
    "start_time": "2022-06-16T04:21:23.619Z"
   },
   {
    "duration": 19,
    "start_time": "2022-06-16T04:21:23.669Z"
   },
   {
    "duration": 23,
    "start_time": "2022-06-16T04:21:23.692Z"
   },
   {
    "duration": 78,
    "start_time": "2022-06-16T04:21:23.717Z"
   },
   {
    "duration": 67,
    "start_time": "2022-06-16T04:21:23.797Z"
   },
   {
    "duration": 54,
    "start_time": "2022-06-16T04:21:23.866Z"
   },
   {
    "duration": 60,
    "start_time": "2022-06-16T04:21:23.921Z"
   },
   {
    "duration": 2,
    "start_time": "2022-06-16T04:21:23.983Z"
   },
   {
    "duration": 17,
    "start_time": "2022-06-16T04:21:23.987Z"
   },
   {
    "duration": 60,
    "start_time": "2022-06-16T04:21:24.005Z"
   },
   {
    "duration": 11,
    "start_time": "2022-06-16T04:21:24.067Z"
   },
   {
    "duration": 10,
    "start_time": "2022-06-16T04:21:24.079Z"
   },
   {
    "duration": 3,
    "start_time": "2022-06-16T04:21:24.091Z"
   },
   {
    "duration": 21,
    "start_time": "2022-06-16T04:21:24.095Z"
   },
   {
    "duration": 12,
    "start_time": "2022-06-16T04:21:24.117Z"
   },
   {
    "duration": 35,
    "start_time": "2022-06-16T04:21:24.131Z"
   },
   {
    "duration": 14,
    "start_time": "2022-06-16T04:21:24.168Z"
   },
   {
    "duration": 16,
    "start_time": "2022-06-16T04:21:24.183Z"
   },
   {
    "duration": 13,
    "start_time": "2022-06-16T04:21:24.201Z"
   },
   {
    "duration": 3,
    "start_time": "2022-06-16T04:21:24.216Z"
   },
   {
    "duration": 4,
    "start_time": "2022-06-16T04:21:24.222Z"
   },
   {
    "duration": 40,
    "start_time": "2022-06-16T04:21:24.227Z"
   },
   {
    "duration": 0,
    "start_time": "2022-06-16T04:21:24.269Z"
   },
   {
    "duration": 0,
    "start_time": "2022-06-16T04:21:24.270Z"
   },
   {
    "duration": 0,
    "start_time": "2022-06-16T04:21:24.272Z"
   },
   {
    "duration": 0,
    "start_time": "2022-06-16T04:21:24.273Z"
   },
   {
    "duration": 0,
    "start_time": "2022-06-16T04:21:24.274Z"
   },
   {
    "duration": 0,
    "start_time": "2022-06-16T04:21:24.276Z"
   },
   {
    "duration": 0,
    "start_time": "2022-06-16T04:21:24.277Z"
   },
   {
    "duration": 0,
    "start_time": "2022-06-16T04:21:24.278Z"
   },
   {
    "duration": 61,
    "start_time": "2022-06-16T04:21:39.953Z"
   },
   {
    "duration": 12,
    "start_time": "2022-06-16T04:21:52.383Z"
   },
   {
    "duration": 7,
    "start_time": "2022-06-16T04:22:55.045Z"
   },
   {
    "duration": 10,
    "start_time": "2022-06-16T04:23:14.552Z"
   },
   {
    "duration": 16,
    "start_time": "2022-06-16T04:23:34.141Z"
   },
   {
    "duration": 8,
    "start_time": "2022-06-16T04:23:41.605Z"
   },
   {
    "duration": 8,
    "start_time": "2022-06-16T04:23:54.032Z"
   },
   {
    "duration": 8,
    "start_time": "2022-06-16T04:24:00.478Z"
   },
   {
    "duration": 3,
    "start_time": "2022-06-16T04:26:05.059Z"
   },
   {
    "duration": 14,
    "start_time": "2022-06-16T04:26:26.845Z"
   },
   {
    "duration": 20,
    "start_time": "2022-06-16T04:27:04.152Z"
   },
   {
    "duration": 19,
    "start_time": "2022-06-16T04:28:29.523Z"
   },
   {
    "duration": 24,
    "start_time": "2022-06-16T04:31:46.391Z"
   },
   {
    "duration": 8,
    "start_time": "2022-06-16T04:32:07.212Z"
   },
   {
    "duration": 41,
    "start_time": "2022-06-16T04:32:20.030Z"
   },
   {
    "duration": 20,
    "start_time": "2022-06-16T04:32:40.465Z"
   },
   {
    "duration": 12,
    "start_time": "2022-06-16T04:33:08.078Z"
   },
   {
    "duration": 12,
    "start_time": "2022-06-16T04:34:06.217Z"
   },
   {
    "duration": 10,
    "start_time": "2022-06-16T04:34:56.920Z"
   },
   {
    "duration": 4,
    "start_time": "2022-06-16T04:36:32.481Z"
   },
   {
    "duration": 4,
    "start_time": "2022-06-16T04:36:36.647Z"
   },
   {
    "duration": 7,
    "start_time": "2022-06-16T04:36:57.761Z"
   },
   {
    "duration": 32,
    "start_time": "2022-06-16T04:40:21.858Z"
   },
   {
    "duration": 7,
    "start_time": "2022-06-16T04:40:41.464Z"
   },
   {
    "duration": 43,
    "start_time": "2022-06-16T23:47:59.233Z"
   },
   {
    "duration": 6,
    "start_time": "2022-06-16T23:48:15.079Z"
   },
   {
    "duration": 7,
    "start_time": "2022-06-17T00:55:47.263Z"
   },
   {
    "duration": 383,
    "start_time": "2022-06-17T00:55:55.257Z"
   },
   {
    "duration": 251,
    "start_time": "2022-06-17T00:55:55.642Z"
   },
   {
    "duration": 6,
    "start_time": "2022-06-17T00:55:55.895Z"
   },
   {
    "duration": 25,
    "start_time": "2022-06-17T00:55:55.903Z"
   },
   {
    "duration": 3,
    "start_time": "2022-06-17T00:55:55.930Z"
   },
   {
    "duration": 26,
    "start_time": "2022-06-17T00:55:55.935Z"
   },
   {
    "duration": 3,
    "start_time": "2022-06-17T00:55:55.963Z"
   },
   {
    "duration": 21,
    "start_time": "2022-06-17T00:55:55.968Z"
   },
   {
    "duration": 15,
    "start_time": "2022-06-17T00:55:55.991Z"
   },
   {
    "duration": 21,
    "start_time": "2022-06-17T00:55:56.009Z"
   },
   {
    "duration": 75,
    "start_time": "2022-06-17T00:55:56.031Z"
   },
   {
    "duration": 81,
    "start_time": "2022-06-17T00:55:56.108Z"
   },
   {
    "duration": 51,
    "start_time": "2022-06-17T00:55:56.190Z"
   },
   {
    "duration": 46,
    "start_time": "2022-06-17T00:55:56.243Z"
   },
   {
    "duration": 3,
    "start_time": "2022-06-17T00:55:56.291Z"
   },
   {
    "duration": 17,
    "start_time": "2022-06-17T00:55:56.295Z"
   },
   {
    "duration": 58,
    "start_time": "2022-06-17T00:55:56.314Z"
   },
   {
    "duration": 11,
    "start_time": "2022-06-17T00:55:56.374Z"
   },
   {
    "duration": 11,
    "start_time": "2022-06-17T00:55:56.387Z"
   },
   {
    "duration": 7,
    "start_time": "2022-06-17T00:55:56.399Z"
   },
   {
    "duration": 22,
    "start_time": "2022-06-17T00:55:56.408Z"
   },
   {
    "duration": 30,
    "start_time": "2022-06-17T00:55:56.432Z"
   },
   {
    "duration": 19,
    "start_time": "2022-06-17T00:55:56.463Z"
   },
   {
    "duration": 13,
    "start_time": "2022-06-17T00:55:56.483Z"
   },
   {
    "duration": 19,
    "start_time": "2022-06-17T00:55:56.497Z"
   },
   {
    "duration": 13,
    "start_time": "2022-06-17T00:55:56.518Z"
   },
   {
    "duration": 6,
    "start_time": "2022-06-17T00:55:56.551Z"
   },
   {
    "duration": 11,
    "start_time": "2022-06-17T00:55:56.560Z"
   },
   {
    "duration": 4,
    "start_time": "2022-06-17T00:55:56.573Z"
   },
   {
    "duration": 8,
    "start_time": "2022-06-17T00:55:56.578Z"
   },
   {
    "duration": 0,
    "start_time": "2022-06-17T00:55:56.588Z"
   },
   {
    "duration": 0,
    "start_time": "2022-06-17T00:55:56.589Z"
   },
   {
    "duration": 0,
    "start_time": "2022-06-17T00:55:56.590Z"
   },
   {
    "duration": 0,
    "start_time": "2022-06-17T00:55:56.590Z"
   },
   {
    "duration": 0,
    "start_time": "2022-06-17T00:55:56.591Z"
   },
   {
    "duration": 0,
    "start_time": "2022-06-17T00:55:56.592Z"
   },
   {
    "duration": 0,
    "start_time": "2022-06-17T00:55:56.593Z"
   },
   {
    "duration": 0,
    "start_time": "2022-06-17T00:55:56.594Z"
   },
   {
    "duration": 12,
    "start_time": "2022-06-17T00:56:12.388Z"
   },
   {
    "duration": 10,
    "start_time": "2022-06-17T00:56:54.412Z"
   },
   {
    "duration": 26,
    "start_time": "2022-06-17T01:04:36.333Z"
   },
   {
    "duration": 5,
    "start_time": "2022-06-17T01:05:12.679Z"
   },
   {
    "duration": 286,
    "start_time": "2022-06-17T01:05:59.503Z"
   },
   {
    "duration": 4,
    "start_time": "2022-06-17T01:06:39.648Z"
   },
   {
    "duration": 4,
    "start_time": "2022-06-17T01:07:27.992Z"
   },
   {
    "duration": 240,
    "start_time": "2022-06-17T01:07:30.655Z"
   },
   {
    "duration": 7,
    "start_time": "2022-06-17T01:09:27.459Z"
   },
   {
    "duration": 274,
    "start_time": "2022-06-17T01:09:30.034Z"
   },
   {
    "duration": 373,
    "start_time": "2022-06-17T01:09:45.175Z"
   },
   {
    "duration": 259,
    "start_time": "2022-06-17T01:09:45.550Z"
   },
   {
    "duration": 6,
    "start_time": "2022-06-17T01:09:45.812Z"
   },
   {
    "duration": 35,
    "start_time": "2022-06-17T01:09:45.819Z"
   },
   {
    "duration": 3,
    "start_time": "2022-06-17T01:09:45.856Z"
   },
   {
    "duration": 22,
    "start_time": "2022-06-17T01:09:45.860Z"
   },
   {
    "duration": 8,
    "start_time": "2022-06-17T01:09:45.884Z"
   },
   {
    "duration": 23,
    "start_time": "2022-06-17T01:09:45.893Z"
   },
   {
    "duration": 17,
    "start_time": "2022-06-17T01:09:45.917Z"
   },
   {
    "duration": 33,
    "start_time": "2022-06-17T01:09:45.936Z"
   },
   {
    "duration": 58,
    "start_time": "2022-06-17T01:09:45.970Z"
   },
   {
    "duration": 69,
    "start_time": "2022-06-17T01:09:46.030Z"
   },
   {
    "duration": 61,
    "start_time": "2022-06-17T01:09:46.101Z"
   },
   {
    "duration": 47,
    "start_time": "2022-06-17T01:09:46.165Z"
   },
   {
    "duration": 2,
    "start_time": "2022-06-17T01:09:46.214Z"
   },
   {
    "duration": 34,
    "start_time": "2022-06-17T01:09:46.218Z"
   },
   {
    "duration": 60,
    "start_time": "2022-06-17T01:09:46.253Z"
   },
   {
    "duration": 11,
    "start_time": "2022-06-17T01:09:46.316Z"
   },
   {
    "duration": 24,
    "start_time": "2022-06-17T01:09:46.329Z"
   },
   {
    "duration": 5,
    "start_time": "2022-06-17T01:09:46.354Z"
   },
   {
    "duration": 18,
    "start_time": "2022-06-17T01:09:46.361Z"
   },
   {
    "duration": 13,
    "start_time": "2022-06-17T01:09:46.381Z"
   },
   {
    "duration": 14,
    "start_time": "2022-06-17T01:09:46.396Z"
   },
   {
    "duration": 46,
    "start_time": "2022-06-17T01:09:46.412Z"
   },
   {
    "duration": 16,
    "start_time": "2022-06-17T01:09:46.461Z"
   },
   {
    "duration": 16,
    "start_time": "2022-06-17T01:09:46.478Z"
   },
   {
    "duration": 10,
    "start_time": "2022-06-17T01:09:46.495Z"
   },
   {
    "duration": 14,
    "start_time": "2022-06-17T01:09:46.506Z"
   },
   {
    "duration": 31,
    "start_time": "2022-06-17T01:09:46.521Z"
   },
   {
    "duration": 5,
    "start_time": "2022-06-17T01:09:46.553Z"
   },
   {
    "duration": 86,
    "start_time": "2022-06-17T01:09:46.559Z"
   },
   {
    "duration": 0,
    "start_time": "2022-06-17T01:09:46.647Z"
   },
   {
    "duration": 0,
    "start_time": "2022-06-17T01:09:46.652Z"
   },
   {
    "duration": 0,
    "start_time": "2022-06-17T01:09:46.652Z"
   },
   {
    "duration": 0,
    "start_time": "2022-06-17T01:09:46.653Z"
   },
   {
    "duration": 0,
    "start_time": "2022-06-17T01:09:46.654Z"
   },
   {
    "duration": 0,
    "start_time": "2022-06-17T01:09:46.655Z"
   },
   {
    "duration": 0,
    "start_time": "2022-06-17T01:09:46.656Z"
   },
   {
    "duration": 29,
    "start_time": "2022-06-17T01:09:56.482Z"
   },
   {
    "duration": 4,
    "start_time": "2022-06-17T01:10:25.952Z"
   },
   {
    "duration": 6,
    "start_time": "2022-06-17T01:14:48.158Z"
   },
   {
    "duration": 419,
    "start_time": "2022-06-17T01:14:59.159Z"
   },
   {
    "duration": 296,
    "start_time": "2022-06-17T01:14:59.580Z"
   },
   {
    "duration": 7,
    "start_time": "2022-06-17T01:14:59.878Z"
   },
   {
    "duration": 40,
    "start_time": "2022-06-17T01:14:59.888Z"
   },
   {
    "duration": 5,
    "start_time": "2022-06-17T01:14:59.930Z"
   },
   {
    "duration": 31,
    "start_time": "2022-06-17T01:14:59.937Z"
   },
   {
    "duration": 5,
    "start_time": "2022-06-17T01:14:59.971Z"
   },
   {
    "duration": 35,
    "start_time": "2022-06-17T01:14:59.977Z"
   },
   {
    "duration": 28,
    "start_time": "2022-06-17T01:15:00.014Z"
   },
   {
    "duration": 27,
    "start_time": "2022-06-17T01:15:00.045Z"
   },
   {
    "duration": 78,
    "start_time": "2022-06-17T01:15:00.074Z"
   },
   {
    "duration": 71,
    "start_time": "2022-06-17T01:15:00.154Z"
   },
   {
    "duration": 76,
    "start_time": "2022-06-17T01:15:00.227Z"
   },
   {
    "duration": 83,
    "start_time": "2022-06-17T01:15:00.305Z"
   },
   {
    "duration": 3,
    "start_time": "2022-06-17T01:15:00.390Z"
   },
   {
    "duration": 25,
    "start_time": "2022-06-17T01:15:00.395Z"
   },
   {
    "duration": 51,
    "start_time": "2022-06-17T01:15:00.421Z"
   },
   {
    "duration": 11,
    "start_time": "2022-06-17T01:15:00.474Z"
   },
   {
    "duration": 14,
    "start_time": "2022-06-17T01:15:00.487Z"
   },
   {
    "duration": 4,
    "start_time": "2022-06-17T01:15:00.503Z"
   },
   {
    "duration": 45,
    "start_time": "2022-06-17T01:15:00.508Z"
   },
   {
    "duration": 14,
    "start_time": "2022-06-17T01:15:00.555Z"
   },
   {
    "duration": 20,
    "start_time": "2022-06-17T01:15:00.571Z"
   },
   {
    "duration": 35,
    "start_time": "2022-06-17T01:15:00.593Z"
   },
   {
    "duration": 33,
    "start_time": "2022-06-17T01:15:00.630Z"
   },
   {
    "duration": 21,
    "start_time": "2022-06-17T01:15:00.665Z"
   },
   {
    "duration": 14,
    "start_time": "2022-06-17T01:15:00.688Z"
   },
   {
    "duration": 29,
    "start_time": "2022-06-17T01:15:00.705Z"
   },
   {
    "duration": 43,
    "start_time": "2022-06-17T01:15:00.736Z"
   },
   {
    "duration": 28,
    "start_time": "2022-06-17T01:15:00.781Z"
   },
   {
    "duration": 15,
    "start_time": "2022-06-17T01:15:00.811Z"
   },
   {
    "duration": 10,
    "start_time": "2022-06-17T01:15:00.828Z"
   },
   {
    "duration": 14,
    "start_time": "2022-06-17T01:15:00.840Z"
   },
   {
    "duration": 22,
    "start_time": "2022-06-17T01:15:00.856Z"
   },
   {
    "duration": 28,
    "start_time": "2022-06-17T01:15:00.879Z"
   },
   {
    "duration": 17,
    "start_time": "2022-06-17T01:15:00.909Z"
   },
   {
    "duration": 20,
    "start_time": "2022-06-17T01:15:00.928Z"
   },
   {
    "duration": 27,
    "start_time": "2022-06-17T01:15:00.950Z"
   },
   {
    "duration": 4,
    "start_time": "2022-06-17T01:15:14.460Z"
   },
   {
    "duration": 81,
    "start_time": "2022-06-17T01:15:16.224Z"
   },
   {
    "duration": 4,
    "start_time": "2022-06-17T01:15:52.588Z"
   },
   {
    "duration": 231,
    "start_time": "2022-06-17T01:17:30.455Z"
   },
   {
    "duration": 240,
    "start_time": "2022-06-17T01:17:43.848Z"
   },
   {
    "duration": 4,
    "start_time": "2022-06-17T02:32:23.164Z"
   },
   {
    "duration": 16,
    "start_time": "2022-06-17T02:32:24.391Z"
   },
   {
    "duration": 4,
    "start_time": "2022-06-17T02:35:45.686Z"
   },
   {
    "duration": 208,
    "start_time": "2022-06-17T02:35:47.912Z"
   },
   {
    "duration": 4,
    "start_time": "2022-06-17T02:37:24.030Z"
   },
   {
    "duration": 16,
    "start_time": "2022-06-17T02:37:27.319Z"
   },
   {
    "duration": 4,
    "start_time": "2022-06-17T02:39:42.672Z"
   },
   {
    "duration": 25,
    "start_time": "2022-06-17T02:39:45.034Z"
   },
   {
    "duration": 5,
    "start_time": "2022-06-17T02:43:40.603Z"
   },
   {
    "duration": 5,
    "start_time": "2022-06-17T02:43:49.278Z"
   },
   {
    "duration": 4,
    "start_time": "2022-06-17T02:43:57.245Z"
   },
   {
    "duration": 24,
    "start_time": "2022-06-17T02:44:01.024Z"
   },
   {
    "duration": 407,
    "start_time": "2022-06-17T02:45:25.054Z"
   },
   {
    "duration": 258,
    "start_time": "2022-06-17T02:45:25.463Z"
   },
   {
    "duration": 7,
    "start_time": "2022-06-17T02:45:25.723Z"
   },
   {
    "duration": 43,
    "start_time": "2022-06-17T02:45:25.732Z"
   },
   {
    "duration": 5,
    "start_time": "2022-06-17T02:45:25.776Z"
   },
   {
    "duration": 18,
    "start_time": "2022-06-17T02:45:25.782Z"
   },
   {
    "duration": 11,
    "start_time": "2022-06-17T02:45:25.802Z"
   },
   {
    "duration": 26,
    "start_time": "2022-06-17T02:45:25.815Z"
   },
   {
    "duration": 19,
    "start_time": "2022-06-17T02:45:25.843Z"
   },
   {
    "duration": 21,
    "start_time": "2022-06-17T02:45:25.865Z"
   },
   {
    "duration": 67,
    "start_time": "2022-06-17T02:45:25.887Z"
   },
   {
    "duration": 61,
    "start_time": "2022-06-17T02:45:25.956Z"
   },
   {
    "duration": 70,
    "start_time": "2022-06-17T02:45:26.019Z"
   },
   {
    "duration": 46,
    "start_time": "2022-06-17T02:45:26.091Z"
   },
   {
    "duration": 2,
    "start_time": "2022-06-17T02:45:26.152Z"
   },
   {
    "duration": 21,
    "start_time": "2022-06-17T02:45:26.156Z"
   },
   {
    "duration": 52,
    "start_time": "2022-06-17T02:45:26.179Z"
   },
   {
    "duration": 11,
    "start_time": "2022-06-17T02:45:26.233Z"
   },
   {
    "duration": 11,
    "start_time": "2022-06-17T02:45:26.251Z"
   },
   {
    "duration": 6,
    "start_time": "2022-06-17T02:45:26.264Z"
   },
   {
    "duration": 27,
    "start_time": "2022-06-17T02:45:26.271Z"
   },
   {
    "duration": 14,
    "start_time": "2022-06-17T02:45:26.299Z"
   },
   {
    "duration": 17,
    "start_time": "2022-06-17T02:45:26.314Z"
   },
   {
    "duration": 31,
    "start_time": "2022-06-17T02:45:26.333Z"
   },
   {
    "duration": 16,
    "start_time": "2022-06-17T02:45:26.366Z"
   },
   {
    "duration": 26,
    "start_time": "2022-06-17T02:45:26.384Z"
   },
   {
    "duration": 12,
    "start_time": "2022-06-17T02:45:26.412Z"
   },
   {
    "duration": 13,
    "start_time": "2022-06-17T02:45:26.427Z"
   },
   {
    "duration": 9,
    "start_time": "2022-06-17T02:45:26.451Z"
   },
   {
    "duration": 5,
    "start_time": "2022-06-17T02:45:26.461Z"
   },
   {
    "duration": 86,
    "start_time": "2022-06-17T02:45:26.467Z"
   },
   {
    "duration": 1,
    "start_time": "2022-06-17T02:45:26.554Z"
   },
   {
    "duration": 0,
    "start_time": "2022-06-17T02:45:26.555Z"
   },
   {
    "duration": 0,
    "start_time": "2022-06-17T02:45:26.556Z"
   },
   {
    "duration": 0,
    "start_time": "2022-06-17T02:45:26.557Z"
   },
   {
    "duration": 0,
    "start_time": "2022-06-17T02:45:26.558Z"
   },
   {
    "duration": 0,
    "start_time": "2022-06-17T02:45:26.559Z"
   },
   {
    "duration": 0,
    "start_time": "2022-06-17T02:45:26.560Z"
   },
   {
    "duration": 24,
    "start_time": "2022-06-17T02:45:33.193Z"
   },
   {
    "duration": 33,
    "start_time": "2022-06-17T02:48:09.277Z"
   },
   {
    "duration": 5,
    "start_time": "2022-06-17T02:48:39.194Z"
   },
   {
    "duration": 25,
    "start_time": "2022-06-17T02:48:40.594Z"
   },
   {
    "duration": 11,
    "start_time": "2022-06-17T02:48:58.262Z"
   },
   {
    "duration": 10,
    "start_time": "2022-06-17T02:48:59.633Z"
   },
   {
    "duration": 26,
    "start_time": "2022-06-17T02:49:06.983Z"
   },
   {
    "duration": 6,
    "start_time": "2022-06-17T02:49:59.488Z"
   },
   {
    "duration": 27,
    "start_time": "2022-06-17T02:50:00.576Z"
   },
   {
    "duration": 361,
    "start_time": "2022-06-17T02:50:47.071Z"
   },
   {
    "duration": 254,
    "start_time": "2022-06-17T02:50:47.434Z"
   },
   {
    "duration": 6,
    "start_time": "2022-06-17T02:50:47.690Z"
   },
   {
    "duration": 31,
    "start_time": "2022-06-17T02:50:47.698Z"
   },
   {
    "duration": 3,
    "start_time": "2022-06-17T02:50:47.731Z"
   },
   {
    "duration": 28,
    "start_time": "2022-06-17T02:50:47.736Z"
   },
   {
    "duration": 5,
    "start_time": "2022-06-17T02:50:47.766Z"
   },
   {
    "duration": 25,
    "start_time": "2022-06-17T02:50:47.773Z"
   },
   {
    "duration": 15,
    "start_time": "2022-06-17T02:50:47.800Z"
   },
   {
    "duration": 35,
    "start_time": "2022-06-17T02:50:47.817Z"
   },
   {
    "duration": 58,
    "start_time": "2022-06-17T02:50:47.853Z"
   },
   {
    "duration": 76,
    "start_time": "2022-06-17T02:50:47.912Z"
   },
   {
    "duration": 53,
    "start_time": "2022-06-17T02:50:47.990Z"
   },
   {
    "duration": 42,
    "start_time": "2022-06-17T02:50:48.053Z"
   },
   {
    "duration": 3,
    "start_time": "2022-06-17T02:50:48.096Z"
   },
   {
    "duration": 17,
    "start_time": "2022-06-17T02:50:48.101Z"
   },
   {
    "duration": 64,
    "start_time": "2022-06-17T02:50:48.119Z"
   },
   {
    "duration": 11,
    "start_time": "2022-06-17T02:50:48.185Z"
   },
   {
    "duration": 11,
    "start_time": "2022-06-17T02:50:48.198Z"
   },
   {
    "duration": 4,
    "start_time": "2022-06-17T02:50:48.211Z"
   },
   {
    "duration": 39,
    "start_time": "2022-06-17T02:50:48.216Z"
   },
   {
    "duration": 13,
    "start_time": "2022-06-17T02:50:48.256Z"
   },
   {
    "duration": 13,
    "start_time": "2022-06-17T02:50:48.271Z"
   },
   {
    "duration": 12,
    "start_time": "2022-06-17T02:50:48.286Z"
   },
   {
    "duration": 16,
    "start_time": "2022-06-17T02:50:48.300Z"
   },
   {
    "duration": 43,
    "start_time": "2022-06-17T02:50:48.317Z"
   },
   {
    "duration": 6,
    "start_time": "2022-06-17T02:50:48.362Z"
   },
   {
    "duration": 10,
    "start_time": "2022-06-17T02:50:48.371Z"
   },
   {
    "duration": 9,
    "start_time": "2022-06-17T02:50:48.383Z"
   },
   {
    "duration": 4,
    "start_time": "2022-06-17T02:50:48.393Z"
   },
   {
    "duration": 101,
    "start_time": "2022-06-17T02:50:48.399Z"
   },
   {
    "duration": 0,
    "start_time": "2022-06-17T02:50:48.502Z"
   },
   {
    "duration": 0,
    "start_time": "2022-06-17T02:50:48.503Z"
   },
   {
    "duration": 0,
    "start_time": "2022-06-17T02:50:48.504Z"
   },
   {
    "duration": 0,
    "start_time": "2022-06-17T02:50:48.505Z"
   },
   {
    "duration": 0,
    "start_time": "2022-06-17T02:50:48.507Z"
   },
   {
    "duration": 0,
    "start_time": "2022-06-17T02:50:48.508Z"
   },
   {
    "duration": 0,
    "start_time": "2022-06-17T02:50:48.509Z"
   },
   {
    "duration": 5,
    "start_time": "2022-06-17T02:51:04.261Z"
   },
   {
    "duration": 26,
    "start_time": "2022-06-17T02:51:06.011Z"
   },
   {
    "duration": 4,
    "start_time": "2022-06-17T02:53:03.826Z"
   },
   {
    "duration": 26,
    "start_time": "2022-06-17T02:53:06.299Z"
   },
   {
    "duration": 4,
    "start_time": "2022-06-17T02:55:58.901Z"
   },
   {
    "duration": 26,
    "start_time": "2022-06-17T02:56:00.793Z"
   },
   {
    "duration": 5,
    "start_time": "2022-06-17T03:04:42.837Z"
   },
   {
    "duration": 28,
    "start_time": "2022-06-17T03:04:45.500Z"
   },
   {
    "duration": 4,
    "start_time": "2022-06-17T03:05:51.958Z"
   },
   {
    "duration": 45,
    "start_time": "2022-06-17T03:05:53.392Z"
   },
   {
    "duration": 29,
    "start_time": "2022-06-17T03:08:54.203Z"
   },
   {
    "duration": 40,
    "start_time": "2022-06-17T03:08:57.300Z"
   },
   {
    "duration": 26,
    "start_time": "2022-06-17T03:09:01.371Z"
   },
   {
    "duration": 5,
    "start_time": "2022-06-17T03:29:40.235Z"
   },
   {
    "duration": 16,
    "start_time": "2022-06-17T03:29:43.155Z"
   },
   {
    "duration": 11,
    "start_time": "2022-06-17T03:30:08.984Z"
   },
   {
    "duration": 17,
    "start_time": "2022-06-17T03:30:11.750Z"
   },
   {
    "duration": 12,
    "start_time": "2022-06-17T03:30:11.811Z"
   },
   {
    "duration": 7,
    "start_time": "2022-06-17T03:34:04.752Z"
   },
   {
    "duration": 25,
    "start_time": "2022-06-17T03:34:19.185Z"
   },
   {
    "duration": 34,
    "start_time": "2022-06-17T03:35:40.649Z"
   },
   {
    "duration": 25,
    "start_time": "2022-06-17T03:35:49.703Z"
   },
   {
    "duration": 384,
    "start_time": "2022-06-17T03:40:16.267Z"
   },
   {
    "duration": 251,
    "start_time": "2022-06-17T03:40:16.653Z"
   },
   {
    "duration": 7,
    "start_time": "2022-06-17T03:40:16.905Z"
   },
   {
    "duration": 26,
    "start_time": "2022-06-17T03:40:16.914Z"
   },
   {
    "duration": 13,
    "start_time": "2022-06-17T03:40:16.942Z"
   },
   {
    "duration": 14,
    "start_time": "2022-06-17T03:40:16.956Z"
   },
   {
    "duration": 5,
    "start_time": "2022-06-17T03:40:16.972Z"
   },
   {
    "duration": 24,
    "start_time": "2022-06-17T03:40:16.979Z"
   },
   {
    "duration": 17,
    "start_time": "2022-06-17T03:40:17.005Z"
   },
   {
    "duration": 38,
    "start_time": "2022-06-17T03:40:17.025Z"
   },
   {
    "duration": 58,
    "start_time": "2022-06-17T03:40:17.065Z"
   },
   {
    "duration": 75,
    "start_time": "2022-06-17T03:40:17.125Z"
   },
   {
    "duration": 65,
    "start_time": "2022-06-17T03:40:17.202Z"
   },
   {
    "duration": 42,
    "start_time": "2022-06-17T03:40:17.270Z"
   },
   {
    "duration": 3,
    "start_time": "2022-06-17T03:40:17.314Z"
   },
   {
    "duration": 15,
    "start_time": "2022-06-17T03:40:17.319Z"
   },
   {
    "duration": 56,
    "start_time": "2022-06-17T03:40:17.352Z"
   },
   {
    "duration": 10,
    "start_time": "2022-06-17T03:40:17.410Z"
   },
   {
    "duration": 21,
    "start_time": "2022-06-17T03:40:17.421Z"
   },
   {
    "duration": 4,
    "start_time": "2022-06-17T03:40:17.444Z"
   },
   {
    "duration": 29,
    "start_time": "2022-06-17T03:40:17.452Z"
   },
   {
    "duration": 28,
    "start_time": "2022-06-17T03:40:17.483Z"
   },
   {
    "duration": 30,
    "start_time": "2022-06-17T03:40:17.512Z"
   },
   {
    "duration": 14,
    "start_time": "2022-06-17T03:40:17.543Z"
   },
   {
    "duration": 20,
    "start_time": "2022-06-17T03:40:17.558Z"
   },
   {
    "duration": 18,
    "start_time": "2022-06-17T03:40:17.579Z"
   },
   {
    "duration": 10,
    "start_time": "2022-06-17T03:40:17.598Z"
   },
   {
    "duration": 15,
    "start_time": "2022-06-17T03:40:17.611Z"
   },
   {
    "duration": 13,
    "start_time": "2022-06-17T03:40:17.627Z"
   },
   {
    "duration": 20,
    "start_time": "2022-06-17T03:40:17.641Z"
   },
   {
    "duration": 30,
    "start_time": "2022-06-17T03:40:17.663Z"
   },
   {
    "duration": 16,
    "start_time": "2022-06-17T03:40:17.694Z"
   },
   {
    "duration": 37,
    "start_time": "2022-06-17T03:40:17.712Z"
   },
   {
    "duration": 20,
    "start_time": "2022-06-17T03:40:17.750Z"
   },
   {
    "duration": 9,
    "start_time": "2022-06-17T03:40:17.771Z"
   },
   {
    "duration": 90,
    "start_time": "2022-06-17T03:40:17.781Z"
   },
   {
    "duration": 0,
    "start_time": "2022-06-17T03:40:17.873Z"
   },
   {
    "duration": 0,
    "start_time": "2022-06-17T03:40:17.874Z"
   },
   {
    "duration": 24,
    "start_time": "2022-06-17T03:40:30.377Z"
   },
   {
    "duration": 23,
    "start_time": "2022-06-17T03:42:31.379Z"
   },
   {
    "duration": 5,
    "start_time": "2022-06-17T03:42:34.430Z"
   },
   {
    "duration": 15,
    "start_time": "2022-06-17T03:47:09.084Z"
   },
   {
    "duration": 7,
    "start_time": "2022-06-17T03:47:54.838Z"
   },
   {
    "duration": 14,
    "start_time": "2022-06-17T03:48:11.541Z"
   },
   {
    "duration": 5,
    "start_time": "2022-06-17T03:48:13.462Z"
   },
   {
    "duration": 354,
    "start_time": "2022-06-17T03:49:27.288Z"
   },
   {
    "duration": 259,
    "start_time": "2022-06-17T03:49:27.644Z"
   },
   {
    "duration": 6,
    "start_time": "2022-06-17T03:49:27.905Z"
   },
   {
    "duration": 38,
    "start_time": "2022-06-17T03:49:27.914Z"
   },
   {
    "duration": 3,
    "start_time": "2022-06-17T03:49:27.953Z"
   },
   {
    "duration": 16,
    "start_time": "2022-06-17T03:49:27.958Z"
   },
   {
    "duration": 6,
    "start_time": "2022-06-17T03:49:27.976Z"
   },
   {
    "duration": 23,
    "start_time": "2022-06-17T03:49:27.983Z"
   },
   {
    "duration": 15,
    "start_time": "2022-06-17T03:49:28.008Z"
   },
   {
    "duration": 37,
    "start_time": "2022-06-17T03:49:28.026Z"
   },
   {
    "duration": 56,
    "start_time": "2022-06-17T03:49:28.064Z"
   },
   {
    "duration": 74,
    "start_time": "2022-06-17T03:49:28.122Z"
   },
   {
    "duration": 62,
    "start_time": "2022-06-17T03:49:28.197Z"
   },
   {
    "duration": 41,
    "start_time": "2022-06-17T03:49:28.260Z"
   },
   {
    "duration": 2,
    "start_time": "2022-06-17T03:49:28.303Z"
   },
   {
    "duration": 15,
    "start_time": "2022-06-17T03:49:28.307Z"
   },
   {
    "duration": 58,
    "start_time": "2022-06-17T03:49:28.324Z"
   },
   {
    "duration": 10,
    "start_time": "2022-06-17T03:49:28.384Z"
   },
   {
    "duration": 11,
    "start_time": "2022-06-17T03:49:28.396Z"
   },
   {
    "duration": 4,
    "start_time": "2022-06-17T03:49:28.408Z"
   },
   {
    "duration": 42,
    "start_time": "2022-06-17T03:49:28.413Z"
   },
   {
    "duration": 13,
    "start_time": "2022-06-17T03:49:28.458Z"
   },
   {
    "duration": 13,
    "start_time": "2022-06-17T03:49:28.473Z"
   },
   {
    "duration": 13,
    "start_time": "2022-06-17T03:49:28.487Z"
   },
   {
    "duration": 14,
    "start_time": "2022-06-17T03:49:28.502Z"
   },
   {
    "duration": 39,
    "start_time": "2022-06-17T03:49:28.518Z"
   },
   {
    "duration": 9,
    "start_time": "2022-06-17T03:49:28.558Z"
   },
   {
    "duration": 13,
    "start_time": "2022-06-17T03:49:28.570Z"
   },
   {
    "duration": 8,
    "start_time": "2022-06-17T03:49:28.584Z"
   },
   {
    "duration": 6,
    "start_time": "2022-06-17T03:49:28.594Z"
   },
   {
    "duration": 19,
    "start_time": "2022-06-17T03:49:28.601Z"
   },
   {
    "duration": 30,
    "start_time": "2022-06-17T03:49:28.622Z"
   },
   {
    "duration": 17,
    "start_time": "2022-06-17T03:49:28.653Z"
   },
   {
    "duration": 11,
    "start_time": "2022-06-17T03:49:28.671Z"
   },
   {
    "duration": 19,
    "start_time": "2022-06-17T03:49:28.683Z"
   },
   {
    "duration": 5,
    "start_time": "2022-06-17T03:49:28.703Z"
   },
   {
    "duration": 16,
    "start_time": "2022-06-17T03:49:28.709Z"
   },
   {
    "duration": 26,
    "start_time": "2022-06-17T03:49:28.726Z"
   }
  ],
  "colab": {
   "collapsed_sections": [
    "E0vqbgi9ay0H",
    "VUC88oWjTJw2",
    "atZAxtq4_Zcu"
   ],
   "name": "EmptyFinalProject.ipynb\"",
   "provenance": []
  },
  "kernelspec": {
   "display_name": "Python 3 (ipykernel)",
   "language": "python",
   "name": "python3"
  },
  "language_info": {
   "codemirror_mode": {
    "name": "ipython",
    "version": 3
   },
   "file_extension": ".py",
   "mimetype": "text/x-python",
   "name": "python",
   "nbconvert_exporter": "python",
   "pygments_lexer": "ipython3",
   "version": "3.9.5"
  },
  "toc": {
   "base_numbering": 1,
   "nav_menu": {},
   "number_sections": true,
   "sideBar": true,
   "skip_h1_title": true,
   "title_cell": "Table of Contents",
   "title_sidebar": "Contents",
   "toc_cell": false,
   "toc_position": {},
   "toc_section_display": true,
   "toc_window_display": false
  }
 },
 "nbformat": 4,
 "nbformat_minor": 4
}
