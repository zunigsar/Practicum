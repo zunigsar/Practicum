{
 "cells": [
  {
   "cell_type": "markdown",
   "metadata": {},
   "source": [
    "# Análisis de las tarifas del operador de telecomunicaciones: Megaline"
   ]
  },
  {
   "cell_type": "markdown",
   "metadata": {},
   "source": [
    "# Contents\n",
    "* [1.- Introducción y Objetivos.](#objetivo)\n",
    "* [2.-Importacion de los archivos](#importacion)\n",
    "* [3.-Preparación de los datos](#preparación)\n",
    "* [3.1 El número de llamadas realizadas y minutos utilizados al mes](#pregunta1)\n",
    "* [3.2 La cantidad de los SMS enviados por mes.](#pregunta2)\n",
    "* [3.3 El volumen de datos por mes.](#pregunta3)\n",
    "* [3.4 Los ingresos mensuales de cada usuario](#pregunta4)\n",
    "* [4.- Análisis de los datos](#análisis)\n",
    "* [5.- Prueba de hipótesis](#pruebas)\n",
    "* [6.- Conclusión General](#conclusiongeneral)"
   ]
  },
  {
   "cell_type": "markdown",
   "metadata": {},
   "source": [
    "## Introducción y Objetivos"
   ]
  },
  {
   "cell_type": "markdown",
   "metadata": {},
   "source": [
    "En Megaline ofrecemos servicios de telecomunicaciones a nuestros clientes en dos opciones de tarifas de prepago: Surf y Ultimate. \n",
    "\n",
    "* **Surf**\n",
    "\n",
    "Pago mensual: 20$\n",
    "\n",
    "500 minutos al mes, 50 SMS y 15 GB de datos\n",
    "\n",
    "Si se exceden los límites del paquete:\n",
    "\n",
    "1 minuto: 3 centavos\n",
    "1 SMS: 3 centavos\n",
    "1 GB de datos: 10$\n",
    "\n",
    "\n",
    "\n",
    "\n",
    "* **Ultimate**\n",
    "\n",
    "Pago mensual: 70$\n",
    "\n",
    "3000 minutos al mes, 1000 SMS y 30 GB de datos\n",
    "\n",
    "Si se exceden los límites del paquete:\n",
    "\n",
    "1 minuto: 1 centavo\n",
    "1 SMS: 1 centavo\n",
    "1 GB de datos: 7$\n",
    "\n",
    "\n",
    "Mi equipo comercial quiere saber cuál de los dos planes genera más ingresos para ajustar el presupuesto de publicidad.\n",
    "\n",
    "Para ello se realizará un análisis preliminar de las dos tarifas basado en una selección de 500 de nuestros clientes para evaluar su comportamiento de consumo por mes en base a sus caracterísiticas sobre cual tarifa usan, duración de las llamadas, la cantidad de mensajes que enviaron y los GB usados en la navegación de interntet en el año 2018."
   ]
  },
  {
   "cell_type": "markdown",
   "metadata": {},
   "source": [
    "<div class=\"alert alert-block alert-success\">\n",
    "    \n",
    "<b>Comentario del revisor</b> <a class=\"tocSkip\"></a>\n",
    "    \n",
    "    \n",
    "Buen inicio. Esto nos permite establecer una ruta de trabajo clara.\n",
    "</div>"
   ]
  },
  {
   "cell_type": "markdown",
   "metadata": {},
   "source": [
    "## Importación de los archivos"
   ]
  },
  {
   "cell_type": "markdown",
   "metadata": {},
   "source": [
    "Importaremos las siguientes librerías:"
   ]
  },
  {
   "cell_type": "code",
   "execution_count": 1,
   "metadata": {},
   "outputs": [],
   "source": [
    "import pandas as pd\n",
    "import numpy as np \n",
    "import matplotlib.pyplot as plt \n",
    "import scipy.stats as stats \n",
    "from scipy import stats as st"
   ]
  },
  {
   "cell_type": "markdown",
   "metadata": {},
   "source": [
    "Procederemos a importar nuestros 5 archivos que estan en cada ruta a continuación: \n",
    "* Llamadas\n",
    "* Internet \n",
    "*  SMS \n",
    "*  Planes de Megaline\n",
    "*  Usuarios"
   ]
  },
  {
   "cell_type": "code",
   "execution_count": 2,
   "metadata": {},
   "outputs": [],
   "source": [
    "\n",
    "\n",
    "df_calls=pd.read_csv('/datasets/megaline_calls.csv')\n",
    "df_internet= pd.read_csv('/datasets/megaline_internet.csv')\n",
    "df_messages=pd.read_csv('/datasets/megaline_messages.csv')\n",
    "df_plans= pd.read_csv('/datasets/megaline_plans.csv')\n",
    "df_users= pd.read_csv('/datasets/megaline_users.csv')\n",
    "\n"
   ]
  },
  {
   "cell_type": "markdown",
   "metadata": {},
   "source": [
    "En cada archivo imprimiremos su información y las 10 primeras filas para observar la estructura de los datos."
   ]
  },
  {
   "cell_type": "markdown",
   "metadata": {},
   "source": [
    "* Llamadas"
   ]
  },
  {
   "cell_type": "code",
   "execution_count": 3,
   "metadata": {},
   "outputs": [
    {
     "name": "stdout",
     "output_type": "stream",
     "text": [
      "<class 'pandas.core.frame.DataFrame'>\n",
      "RangeIndex: 137735 entries, 0 to 137734\n",
      "Data columns (total 4 columns):\n",
      " #   Column     Non-Null Count   Dtype  \n",
      "---  ------     --------------   -----  \n",
      " 0   id         137735 non-null  object \n",
      " 1   user_id    137735 non-null  int64  \n",
      " 2   call_date  137735 non-null  object \n",
      " 3   duration   137735 non-null  float64\n",
      "dtypes: float64(1), int64(1), object(2)\n",
      "memory usage: 4.2+ MB\n"
     ]
    }
   ],
   "source": [
    "df_calls.info()"
   ]
  },
  {
   "cell_type": "code",
   "execution_count": 4,
   "metadata": {},
   "outputs": [
    {
     "data": {
      "text/html": [
       "<div>\n",
       "<style scoped>\n",
       "    .dataframe tbody tr th:only-of-type {\n",
       "        vertical-align: middle;\n",
       "    }\n",
       "\n",
       "    .dataframe tbody tr th {\n",
       "        vertical-align: top;\n",
       "    }\n",
       "\n",
       "    .dataframe thead th {\n",
       "        text-align: right;\n",
       "    }\n",
       "</style>\n",
       "<table border=\"1\" class=\"dataframe\">\n",
       "  <thead>\n",
       "    <tr style=\"text-align: right;\">\n",
       "      <th></th>\n",
       "      <th>id</th>\n",
       "      <th>user_id</th>\n",
       "      <th>call_date</th>\n",
       "      <th>duration</th>\n",
       "    </tr>\n",
       "  </thead>\n",
       "  <tbody>\n",
       "    <tr>\n",
       "      <th>0</th>\n",
       "      <td>1000_93</td>\n",
       "      <td>1000</td>\n",
       "      <td>2018-12-27</td>\n",
       "      <td>8.52</td>\n",
       "    </tr>\n",
       "    <tr>\n",
       "      <th>1</th>\n",
       "      <td>1000_145</td>\n",
       "      <td>1000</td>\n",
       "      <td>2018-12-27</td>\n",
       "      <td>13.66</td>\n",
       "    </tr>\n",
       "    <tr>\n",
       "      <th>2</th>\n",
       "      <td>1000_247</td>\n",
       "      <td>1000</td>\n",
       "      <td>2018-12-27</td>\n",
       "      <td>14.48</td>\n",
       "    </tr>\n",
       "    <tr>\n",
       "      <th>3</th>\n",
       "      <td>1000_309</td>\n",
       "      <td>1000</td>\n",
       "      <td>2018-12-28</td>\n",
       "      <td>5.76</td>\n",
       "    </tr>\n",
       "    <tr>\n",
       "      <th>4</th>\n",
       "      <td>1000_380</td>\n",
       "      <td>1000</td>\n",
       "      <td>2018-12-30</td>\n",
       "      <td>4.22</td>\n",
       "    </tr>\n",
       "    <tr>\n",
       "      <th>5</th>\n",
       "      <td>1000_388</td>\n",
       "      <td>1000</td>\n",
       "      <td>2018-12-31</td>\n",
       "      <td>2.20</td>\n",
       "    </tr>\n",
       "    <tr>\n",
       "      <th>6</th>\n",
       "      <td>1000_510</td>\n",
       "      <td>1000</td>\n",
       "      <td>2018-12-27</td>\n",
       "      <td>5.75</td>\n",
       "    </tr>\n",
       "    <tr>\n",
       "      <th>7</th>\n",
       "      <td>1000_521</td>\n",
       "      <td>1000</td>\n",
       "      <td>2018-12-28</td>\n",
       "      <td>14.18</td>\n",
       "    </tr>\n",
       "    <tr>\n",
       "      <th>8</th>\n",
       "      <td>1000_530</td>\n",
       "      <td>1000</td>\n",
       "      <td>2018-12-28</td>\n",
       "      <td>5.77</td>\n",
       "    </tr>\n",
       "    <tr>\n",
       "      <th>9</th>\n",
       "      <td>1000_544</td>\n",
       "      <td>1000</td>\n",
       "      <td>2018-12-26</td>\n",
       "      <td>4.40</td>\n",
       "    </tr>\n",
       "  </tbody>\n",
       "</table>\n",
       "</div>"
      ],
      "text/plain": [
       "         id  user_id   call_date  duration\n",
       "0   1000_93     1000  2018-12-27      8.52\n",
       "1  1000_145     1000  2018-12-27     13.66\n",
       "2  1000_247     1000  2018-12-27     14.48\n",
       "3  1000_309     1000  2018-12-28      5.76\n",
       "4  1000_380     1000  2018-12-30      4.22\n",
       "5  1000_388     1000  2018-12-31      2.20\n",
       "6  1000_510     1000  2018-12-27      5.75\n",
       "7  1000_521     1000  2018-12-28     14.18\n",
       "8  1000_530     1000  2018-12-28      5.77\n",
       "9  1000_544     1000  2018-12-26      4.40"
      ]
     },
     "execution_count": 4,
     "metadata": {},
     "output_type": "execute_result"
    }
   ],
   "source": [
    "df_calls.head(10)"
   ]
  },
  {
   "cell_type": "markdown",
   "metadata": {},
   "source": [
    "Podemos ver que el campo de fecha de la llamada telefónica está siendo considerada como un tipo objeto en lugar de fecha. "
   ]
  },
  {
   "cell_type": "markdown",
   "metadata": {},
   "source": [
    "* Internet"
   ]
  },
  {
   "cell_type": "code",
   "execution_count": 5,
   "metadata": {},
   "outputs": [
    {
     "name": "stdout",
     "output_type": "stream",
     "text": [
      "<class 'pandas.core.frame.DataFrame'>\n",
      "RangeIndex: 104825 entries, 0 to 104824\n",
      "Data columns (total 4 columns):\n",
      " #   Column        Non-Null Count   Dtype  \n",
      "---  ------        --------------   -----  \n",
      " 0   id            104825 non-null  object \n",
      " 1   user_id       104825 non-null  int64  \n",
      " 2   session_date  104825 non-null  object \n",
      " 3   mb_used       104825 non-null  float64\n",
      "dtypes: float64(1), int64(1), object(2)\n",
      "memory usage: 3.2+ MB\n"
     ]
    }
   ],
   "source": [
    "df_internet.info()"
   ]
  },
  {
   "cell_type": "code",
   "execution_count": 6,
   "metadata": {},
   "outputs": [
    {
     "data": {
      "text/html": [
       "<div>\n",
       "<style scoped>\n",
       "    .dataframe tbody tr th:only-of-type {\n",
       "        vertical-align: middle;\n",
       "    }\n",
       "\n",
       "    .dataframe tbody tr th {\n",
       "        vertical-align: top;\n",
       "    }\n",
       "\n",
       "    .dataframe thead th {\n",
       "        text-align: right;\n",
       "    }\n",
       "</style>\n",
       "<table border=\"1\" class=\"dataframe\">\n",
       "  <thead>\n",
       "    <tr style=\"text-align: right;\">\n",
       "      <th></th>\n",
       "      <th>id</th>\n",
       "      <th>user_id</th>\n",
       "      <th>session_date</th>\n",
       "      <th>mb_used</th>\n",
       "    </tr>\n",
       "  </thead>\n",
       "  <tbody>\n",
       "    <tr>\n",
       "      <th>0</th>\n",
       "      <td>1000_13</td>\n",
       "      <td>1000</td>\n",
       "      <td>2018-12-29</td>\n",
       "      <td>89.86</td>\n",
       "    </tr>\n",
       "    <tr>\n",
       "      <th>1</th>\n",
       "      <td>1000_204</td>\n",
       "      <td>1000</td>\n",
       "      <td>2018-12-31</td>\n",
       "      <td>0.00</td>\n",
       "    </tr>\n",
       "    <tr>\n",
       "      <th>2</th>\n",
       "      <td>1000_379</td>\n",
       "      <td>1000</td>\n",
       "      <td>2018-12-28</td>\n",
       "      <td>660.40</td>\n",
       "    </tr>\n",
       "    <tr>\n",
       "      <th>3</th>\n",
       "      <td>1000_413</td>\n",
       "      <td>1000</td>\n",
       "      <td>2018-12-26</td>\n",
       "      <td>270.99</td>\n",
       "    </tr>\n",
       "    <tr>\n",
       "      <th>4</th>\n",
       "      <td>1000_442</td>\n",
       "      <td>1000</td>\n",
       "      <td>2018-12-27</td>\n",
       "      <td>880.22</td>\n",
       "    </tr>\n",
       "    <tr>\n",
       "      <th>5</th>\n",
       "      <td>1001_0</td>\n",
       "      <td>1001</td>\n",
       "      <td>2018-08-24</td>\n",
       "      <td>284.68</td>\n",
       "    </tr>\n",
       "    <tr>\n",
       "      <th>6</th>\n",
       "      <td>1001_3</td>\n",
       "      <td>1001</td>\n",
       "      <td>2018-12-09</td>\n",
       "      <td>656.04</td>\n",
       "    </tr>\n",
       "    <tr>\n",
       "      <th>7</th>\n",
       "      <td>1001_4</td>\n",
       "      <td>1001</td>\n",
       "      <td>2018-11-04</td>\n",
       "      <td>16.97</td>\n",
       "    </tr>\n",
       "    <tr>\n",
       "      <th>8</th>\n",
       "      <td>1001_10</td>\n",
       "      <td>1001</td>\n",
       "      <td>2018-11-27</td>\n",
       "      <td>135.18</td>\n",
       "    </tr>\n",
       "    <tr>\n",
       "      <th>9</th>\n",
       "      <td>1001_15</td>\n",
       "      <td>1001</td>\n",
       "      <td>2018-12-13</td>\n",
       "      <td>761.92</td>\n",
       "    </tr>\n",
       "  </tbody>\n",
       "</table>\n",
       "</div>"
      ],
      "text/plain": [
       "         id  user_id session_date  mb_used\n",
       "0   1000_13     1000   2018-12-29    89.86\n",
       "1  1000_204     1000   2018-12-31     0.00\n",
       "2  1000_379     1000   2018-12-28   660.40\n",
       "3  1000_413     1000   2018-12-26   270.99\n",
       "4  1000_442     1000   2018-12-27   880.22\n",
       "5    1001_0     1001   2018-08-24   284.68\n",
       "6    1001_3     1001   2018-12-09   656.04\n",
       "7    1001_4     1001   2018-11-04    16.97\n",
       "8   1001_10     1001   2018-11-27   135.18\n",
       "9   1001_15     1001   2018-12-13   761.92"
      ]
     },
     "execution_count": 6,
     "metadata": {},
     "output_type": "execute_result"
    }
   ],
   "source": [
    "df_internet.head(10)"
   ]
  },
  {
   "cell_type": "markdown",
   "metadata": {},
   "source": [
    "Megaline redondea los megabytes en Gigabytes, por lo que la columna mb_used se encuentra en megabytes y se tendría que aplicar esta conversión: \n",
    "    1GB = 1072mg\n",
    "    \n",
    "De igual manera el campo de fecha se encuentra como tipo objeto y se tendrá que cambiar a tipo fecha.\n",
    "\n",
    "\n"
   ]
  },
  {
   "cell_type": "markdown",
   "metadata": {},
   "source": [
    "* SMS"
   ]
  },
  {
   "cell_type": "code",
   "execution_count": 7,
   "metadata": {},
   "outputs": [
    {
     "name": "stdout",
     "output_type": "stream",
     "text": [
      "<class 'pandas.core.frame.DataFrame'>\n",
      "RangeIndex: 76051 entries, 0 to 76050\n",
      "Data columns (total 3 columns):\n",
      " #   Column        Non-Null Count  Dtype \n",
      "---  ------        --------------  ----- \n",
      " 0   id            76051 non-null  object\n",
      " 1   user_id       76051 non-null  int64 \n",
      " 2   message_date  76051 non-null  object\n",
      "dtypes: int64(1), object(2)\n",
      "memory usage: 1.7+ MB\n"
     ]
    }
   ],
   "source": [
    "df_messages.info()"
   ]
  },
  {
   "cell_type": "code",
   "execution_count": 8,
   "metadata": {},
   "outputs": [
    {
     "data": {
      "text/html": [
       "<div>\n",
       "<style scoped>\n",
       "    .dataframe tbody tr th:only-of-type {\n",
       "        vertical-align: middle;\n",
       "    }\n",
       "\n",
       "    .dataframe tbody tr th {\n",
       "        vertical-align: top;\n",
       "    }\n",
       "\n",
       "    .dataframe thead th {\n",
       "        text-align: right;\n",
       "    }\n",
       "</style>\n",
       "<table border=\"1\" class=\"dataframe\">\n",
       "  <thead>\n",
       "    <tr style=\"text-align: right;\">\n",
       "      <th></th>\n",
       "      <th>id</th>\n",
       "      <th>user_id</th>\n",
       "      <th>message_date</th>\n",
       "    </tr>\n",
       "  </thead>\n",
       "  <tbody>\n",
       "    <tr>\n",
       "      <th>0</th>\n",
       "      <td>1000_125</td>\n",
       "      <td>1000</td>\n",
       "      <td>2018-12-27</td>\n",
       "    </tr>\n",
       "    <tr>\n",
       "      <th>1</th>\n",
       "      <td>1000_160</td>\n",
       "      <td>1000</td>\n",
       "      <td>2018-12-31</td>\n",
       "    </tr>\n",
       "    <tr>\n",
       "      <th>2</th>\n",
       "      <td>1000_223</td>\n",
       "      <td>1000</td>\n",
       "      <td>2018-12-31</td>\n",
       "    </tr>\n",
       "    <tr>\n",
       "      <th>3</th>\n",
       "      <td>1000_251</td>\n",
       "      <td>1000</td>\n",
       "      <td>2018-12-27</td>\n",
       "    </tr>\n",
       "    <tr>\n",
       "      <th>4</th>\n",
       "      <td>1000_255</td>\n",
       "      <td>1000</td>\n",
       "      <td>2018-12-26</td>\n",
       "    </tr>\n",
       "    <tr>\n",
       "      <th>5</th>\n",
       "      <td>1000_346</td>\n",
       "      <td>1000</td>\n",
       "      <td>2018-12-29</td>\n",
       "    </tr>\n",
       "    <tr>\n",
       "      <th>6</th>\n",
       "      <td>1000_386</td>\n",
       "      <td>1000</td>\n",
       "      <td>2018-12-30</td>\n",
       "    </tr>\n",
       "    <tr>\n",
       "      <th>7</th>\n",
       "      <td>1000_413</td>\n",
       "      <td>1000</td>\n",
       "      <td>2018-12-31</td>\n",
       "    </tr>\n",
       "    <tr>\n",
       "      <th>8</th>\n",
       "      <td>1000_502</td>\n",
       "      <td>1000</td>\n",
       "      <td>2018-12-27</td>\n",
       "    </tr>\n",
       "    <tr>\n",
       "      <th>9</th>\n",
       "      <td>1000_525</td>\n",
       "      <td>1000</td>\n",
       "      <td>2018-12-28</td>\n",
       "    </tr>\n",
       "  </tbody>\n",
       "</table>\n",
       "</div>"
      ],
      "text/plain": [
       "         id  user_id message_date\n",
       "0  1000_125     1000   2018-12-27\n",
       "1  1000_160     1000   2018-12-31\n",
       "2  1000_223     1000   2018-12-31\n",
       "3  1000_251     1000   2018-12-27\n",
       "4  1000_255     1000   2018-12-26\n",
       "5  1000_346     1000   2018-12-29\n",
       "6  1000_386     1000   2018-12-30\n",
       "7  1000_413     1000   2018-12-31\n",
       "8  1000_502     1000   2018-12-27\n",
       "9  1000_525     1000   2018-12-28"
      ]
     },
     "execution_count": 8,
     "metadata": {},
     "output_type": "execute_result"
    }
   ],
   "source": [
    "df_messages.head(10)"
   ]
  },
  {
   "cell_type": "markdown",
   "metadata": {},
   "source": [
    "En mensajes se aplicará el cambio de tipo de dato de message_date a tipo fecha."
   ]
  },
  {
   "cell_type": "markdown",
   "metadata": {},
   "source": [
    "* Planes de Magaline"
   ]
  },
  {
   "cell_type": "code",
   "execution_count": 9,
   "metadata": {},
   "outputs": [
    {
     "name": "stdout",
     "output_type": "stream",
     "text": [
      "<class 'pandas.core.frame.DataFrame'>\n",
      "RangeIndex: 2 entries, 0 to 1\n",
      "Data columns (total 8 columns):\n",
      " #   Column                 Non-Null Count  Dtype  \n",
      "---  ------                 --------------  -----  \n",
      " 0   messages_included      2 non-null      int64  \n",
      " 1   mb_per_month_included  2 non-null      int64  \n",
      " 2   minutes_included       2 non-null      int64  \n",
      " 3   usd_monthly_pay        2 non-null      int64  \n",
      " 4   usd_per_gb             2 non-null      int64  \n",
      " 5   usd_per_message        2 non-null      float64\n",
      " 6   usd_per_minute         2 non-null      float64\n",
      " 7   plan_name              2 non-null      object \n",
      "dtypes: float64(2), int64(5), object(1)\n",
      "memory usage: 256.0+ bytes\n"
     ]
    }
   ],
   "source": [
    "df_plans.info()"
   ]
  },
  {
   "cell_type": "code",
   "execution_count": 10,
   "metadata": {},
   "outputs": [
    {
     "data": {
      "text/html": [
       "<div>\n",
       "<style scoped>\n",
       "    .dataframe tbody tr th:only-of-type {\n",
       "        vertical-align: middle;\n",
       "    }\n",
       "\n",
       "    .dataframe tbody tr th {\n",
       "        vertical-align: top;\n",
       "    }\n",
       "\n",
       "    .dataframe thead th {\n",
       "        text-align: right;\n",
       "    }\n",
       "</style>\n",
       "<table border=\"1\" class=\"dataframe\">\n",
       "  <thead>\n",
       "    <tr style=\"text-align: right;\">\n",
       "      <th></th>\n",
       "      <th>messages_included</th>\n",
       "      <th>mb_per_month_included</th>\n",
       "      <th>minutes_included</th>\n",
       "      <th>usd_monthly_pay</th>\n",
       "      <th>usd_per_gb</th>\n",
       "      <th>usd_per_message</th>\n",
       "      <th>usd_per_minute</th>\n",
       "      <th>plan_name</th>\n",
       "    </tr>\n",
       "  </thead>\n",
       "  <tbody>\n",
       "    <tr>\n",
       "      <th>0</th>\n",
       "      <td>50</td>\n",
       "      <td>15360</td>\n",
       "      <td>500</td>\n",
       "      <td>20</td>\n",
       "      <td>10</td>\n",
       "      <td>0.03</td>\n",
       "      <td>0.03</td>\n",
       "      <td>surf</td>\n",
       "    </tr>\n",
       "    <tr>\n",
       "      <th>1</th>\n",
       "      <td>1000</td>\n",
       "      <td>30720</td>\n",
       "      <td>3000</td>\n",
       "      <td>70</td>\n",
       "      <td>7</td>\n",
       "      <td>0.01</td>\n",
       "      <td>0.01</td>\n",
       "      <td>ultimate</td>\n",
       "    </tr>\n",
       "  </tbody>\n",
       "</table>\n",
       "</div>"
      ],
      "text/plain": [
       "   messages_included  mb_per_month_included  minutes_included  \\\n",
       "0                 50                  15360               500   \n",
       "1               1000                  30720              3000   \n",
       "\n",
       "   usd_monthly_pay  usd_per_gb  usd_per_message  usd_per_minute plan_name  \n",
       "0               20          10             0.03            0.03      surf  \n",
       "1               70           7             0.01            0.01  ultimate  "
      ]
     },
     "execution_count": 10,
     "metadata": {},
     "output_type": "execute_result"
    }
   ],
   "source": [
    "df_plans.head(2)"
   ]
  },
  {
   "cell_type": "markdown",
   "metadata": {},
   "source": [
    "En la columna mb_per_month_included esta en megabytes por lo que tambien se debería aplicar la conversión a gigabytes."
   ]
  },
  {
   "cell_type": "markdown",
   "metadata": {},
   "source": [
    "* Usuarios"
   ]
  },
  {
   "cell_type": "code",
   "execution_count": 11,
   "metadata": {},
   "outputs": [
    {
     "name": "stdout",
     "output_type": "stream",
     "text": [
      "<class 'pandas.core.frame.DataFrame'>\n",
      "RangeIndex: 500 entries, 0 to 499\n",
      "Data columns (total 8 columns):\n",
      " #   Column      Non-Null Count  Dtype \n",
      "---  ------      --------------  ----- \n",
      " 0   user_id     500 non-null    int64 \n",
      " 1   first_name  500 non-null    object\n",
      " 2   last_name   500 non-null    object\n",
      " 3   age         500 non-null    int64 \n",
      " 4   city        500 non-null    object\n",
      " 5   reg_date    500 non-null    object\n",
      " 6   plan        500 non-null    object\n",
      " 7   churn_date  34 non-null     object\n",
      "dtypes: int64(2), object(6)\n",
      "memory usage: 31.4+ KB\n"
     ]
    }
   ],
   "source": [
    "df_users.info()"
   ]
  },
  {
   "cell_type": "code",
   "execution_count": 12,
   "metadata": {},
   "outputs": [
    {
     "data": {
      "text/html": [
       "<div>\n",
       "<style scoped>\n",
       "    .dataframe tbody tr th:only-of-type {\n",
       "        vertical-align: middle;\n",
       "    }\n",
       "\n",
       "    .dataframe tbody tr th {\n",
       "        vertical-align: top;\n",
       "    }\n",
       "\n",
       "    .dataframe thead th {\n",
       "        text-align: right;\n",
       "    }\n",
       "</style>\n",
       "<table border=\"1\" class=\"dataframe\">\n",
       "  <thead>\n",
       "    <tr style=\"text-align: right;\">\n",
       "      <th></th>\n",
       "      <th>user_id</th>\n",
       "      <th>first_name</th>\n",
       "      <th>last_name</th>\n",
       "      <th>age</th>\n",
       "      <th>city</th>\n",
       "      <th>reg_date</th>\n",
       "      <th>plan</th>\n",
       "      <th>churn_date</th>\n",
       "    </tr>\n",
       "  </thead>\n",
       "  <tbody>\n",
       "    <tr>\n",
       "      <th>0</th>\n",
       "      <td>1000</td>\n",
       "      <td>Anamaria</td>\n",
       "      <td>Bauer</td>\n",
       "      <td>45</td>\n",
       "      <td>Atlanta-Sandy Springs-Roswell, GA MSA</td>\n",
       "      <td>2018-12-24</td>\n",
       "      <td>ultimate</td>\n",
       "      <td>NaN</td>\n",
       "    </tr>\n",
       "    <tr>\n",
       "      <th>1</th>\n",
       "      <td>1001</td>\n",
       "      <td>Mickey</td>\n",
       "      <td>Wilkerson</td>\n",
       "      <td>28</td>\n",
       "      <td>Seattle-Tacoma-Bellevue, WA MSA</td>\n",
       "      <td>2018-08-13</td>\n",
       "      <td>surf</td>\n",
       "      <td>NaN</td>\n",
       "    </tr>\n",
       "    <tr>\n",
       "      <th>2</th>\n",
       "      <td>1002</td>\n",
       "      <td>Carlee</td>\n",
       "      <td>Hoffman</td>\n",
       "      <td>36</td>\n",
       "      <td>Las Vegas-Henderson-Paradise, NV MSA</td>\n",
       "      <td>2018-10-21</td>\n",
       "      <td>surf</td>\n",
       "      <td>NaN</td>\n",
       "    </tr>\n",
       "    <tr>\n",
       "      <th>3</th>\n",
       "      <td>1003</td>\n",
       "      <td>Reynaldo</td>\n",
       "      <td>Jenkins</td>\n",
       "      <td>52</td>\n",
       "      <td>Tulsa, OK MSA</td>\n",
       "      <td>2018-01-28</td>\n",
       "      <td>surf</td>\n",
       "      <td>NaN</td>\n",
       "    </tr>\n",
       "    <tr>\n",
       "      <th>4</th>\n",
       "      <td>1004</td>\n",
       "      <td>Leonila</td>\n",
       "      <td>Thompson</td>\n",
       "      <td>40</td>\n",
       "      <td>Seattle-Tacoma-Bellevue, WA MSA</td>\n",
       "      <td>2018-05-23</td>\n",
       "      <td>surf</td>\n",
       "      <td>NaN</td>\n",
       "    </tr>\n",
       "    <tr>\n",
       "      <th>5</th>\n",
       "      <td>1005</td>\n",
       "      <td>Livia</td>\n",
       "      <td>Shields</td>\n",
       "      <td>31</td>\n",
       "      <td>Dallas-Fort Worth-Arlington, TX MSA</td>\n",
       "      <td>2018-11-29</td>\n",
       "      <td>surf</td>\n",
       "      <td>NaN</td>\n",
       "    </tr>\n",
       "    <tr>\n",
       "      <th>6</th>\n",
       "      <td>1006</td>\n",
       "      <td>Jesusa</td>\n",
       "      <td>Bradford</td>\n",
       "      <td>73</td>\n",
       "      <td>San Francisco-Oakland-Berkeley, CA MSA</td>\n",
       "      <td>2018-11-27</td>\n",
       "      <td>ultimate</td>\n",
       "      <td>2018-12-18</td>\n",
       "    </tr>\n",
       "    <tr>\n",
       "      <th>7</th>\n",
       "      <td>1007</td>\n",
       "      <td>Eusebio</td>\n",
       "      <td>Welch</td>\n",
       "      <td>42</td>\n",
       "      <td>Grand Rapids-Kentwood, MI MSA</td>\n",
       "      <td>2018-07-11</td>\n",
       "      <td>surf</td>\n",
       "      <td>NaN</td>\n",
       "    </tr>\n",
       "    <tr>\n",
       "      <th>8</th>\n",
       "      <td>1008</td>\n",
       "      <td>Emely</td>\n",
       "      <td>Hoffman</td>\n",
       "      <td>53</td>\n",
       "      <td>Orlando-Kissimmee-Sanford, FL MSA</td>\n",
       "      <td>2018-08-03</td>\n",
       "      <td>ultimate</td>\n",
       "      <td>NaN</td>\n",
       "    </tr>\n",
       "    <tr>\n",
       "      <th>9</th>\n",
       "      <td>1009</td>\n",
       "      <td>Gerry</td>\n",
       "      <td>Little</td>\n",
       "      <td>19</td>\n",
       "      <td>San Jose-Sunnyvale-Santa Clara, CA MSA</td>\n",
       "      <td>2018-04-22</td>\n",
       "      <td>surf</td>\n",
       "      <td>NaN</td>\n",
       "    </tr>\n",
       "  </tbody>\n",
       "</table>\n",
       "</div>"
      ],
      "text/plain": [
       "   user_id first_name  last_name  age                                    city  \\\n",
       "0     1000   Anamaria      Bauer   45   Atlanta-Sandy Springs-Roswell, GA MSA   \n",
       "1     1001     Mickey  Wilkerson   28         Seattle-Tacoma-Bellevue, WA MSA   \n",
       "2     1002     Carlee    Hoffman   36    Las Vegas-Henderson-Paradise, NV MSA   \n",
       "3     1003   Reynaldo    Jenkins   52                           Tulsa, OK MSA   \n",
       "4     1004    Leonila   Thompson   40         Seattle-Tacoma-Bellevue, WA MSA   \n",
       "5     1005      Livia    Shields   31     Dallas-Fort Worth-Arlington, TX MSA   \n",
       "6     1006     Jesusa   Bradford   73  San Francisco-Oakland-Berkeley, CA MSA   \n",
       "7     1007    Eusebio      Welch   42           Grand Rapids-Kentwood, MI MSA   \n",
       "8     1008      Emely    Hoffman   53       Orlando-Kissimmee-Sanford, FL MSA   \n",
       "9     1009      Gerry     Little   19  San Jose-Sunnyvale-Santa Clara, CA MSA   \n",
       "\n",
       "     reg_date      plan  churn_date  \n",
       "0  2018-12-24  ultimate         NaN  \n",
       "1  2018-08-13      surf         NaN  \n",
       "2  2018-10-21      surf         NaN  \n",
       "3  2018-01-28      surf         NaN  \n",
       "4  2018-05-23      surf         NaN  \n",
       "5  2018-11-29      surf         NaN  \n",
       "6  2018-11-27  ultimate  2018-12-18  \n",
       "7  2018-07-11      surf         NaN  \n",
       "8  2018-08-03  ultimate         NaN  \n",
       "9  2018-04-22      surf         NaN  "
      ]
     },
     "execution_count": 12,
     "metadata": {},
     "output_type": "execute_result"
    }
   ],
   "source": [
    "df_users.head(10)"
   ]
  },
  {
   "cell_type": "markdown",
   "metadata": {},
   "source": [
    "Los campos de fecha de inicio y fin de sucripción de la tarifa se encuentra como tipo objeto, se tienen que cambiar a tipo fecha. \n",
    "Encontramos valores ausentes en la fecha de fin de susripción dado que en ese entonces cuando se recopilaron los datos esos clientes seguian con el plan vigente. "
   ]
  },
  {
   "cell_type": "markdown",
   "metadata": {},
   "source": [
    "**Conclusión:**\n",
    "* Cambio de tipo de dato a fecha para los archivos: Llamadas, SMS, Internet y Usuarios.\n",
    "* Conversión y redondeo de megabytes a gigabytes para los archivos:Internet y planes.\n",
    "* Redondeo de los minutos de las llamdas\n",
    "* Los valores ausentes del  archivo de usuarios en la columna de churn_date se interpreta como que esos clientes aun seguian en ese plan de tarifa cuando se levantó la información."
   ]
  },
  {
   "cell_type": "markdown",
   "metadata": {},
   "source": [
    "<div class=\"alert alert-block alert-success\">\n",
    "    \n",
    "<b>Comentario del revisor</b> <a class=\"tocSkip\"></a>\n",
    "    \n",
    "Buen trabajo, Sara.\n",
    "</div>"
   ]
  },
  {
   "cell_type": "markdown",
   "metadata": {},
   "source": [
    "## Preparación de los datos"
   ]
  },
  {
   "cell_type": "markdown",
   "metadata": {},
   "source": [
    "Procederemos primero a cambiar las columnas de fechas y la conversion de MB a GB que ya fueron identicados en los archivos anteriormente mencionados.\n",
    "\n",
    "Adicional en esta sección identificaremos errores o valores atípicos que pueden distorcionar el análisis para responder a los objetivos.\n",
    "\n",
    "Finalmente para cada usuario resumiremos la siguiente información:\n",
    "\n",
    "**3.1 El número de llamadas realizadas y minutos utilizados al mes**\n",
    "\n",
    "**3.2 La cantidad de los SMS enviados por mes.**\n",
    "\n",
    "**3.3 El volumen de datos por mes.**\n",
    "\n",
    "**3.4 Los ingresos mensuales de cada usuario**\n",
    "\n"
   ]
  },
  {
   "cell_type": "markdown",
   "metadata": {},
   "source": [
    "* Llamadas"
   ]
  },
  {
   "cell_type": "code",
   "execution_count": 13,
   "metadata": {},
   "outputs": [
    {
     "name": "stdout",
     "output_type": "stream",
     "text": [
      "0        2018-12-27\n",
      "1        2018-12-27\n",
      "2        2018-12-27\n",
      "3        2018-12-28\n",
      "4        2018-12-30\n",
      "            ...    \n",
      "137730   2018-11-21\n",
      "137731   2018-10-20\n",
      "137732   2018-09-21\n",
      "137733   2018-10-10\n",
      "137734   2018-12-29\n",
      "Name: call_date, Length: 137735, dtype: datetime64[ns]\n"
     ]
    }
   ],
   "source": [
    "#Cambio del tipo de dato de fecha\n",
    "df_calls['call_date']=pd.to_datetime(df_calls['call_date'],format='%Y/%m/%dT')\n",
    "print(df_calls['call_date'])"
   ]
  },
  {
   "cell_type": "markdown",
   "metadata": {},
   "source": [
    "* SMS"
   ]
  },
  {
   "cell_type": "code",
   "execution_count": 14,
   "metadata": {},
   "outputs": [
    {
     "name": "stdout",
     "output_type": "stream",
     "text": [
      "0       2018-12-27\n",
      "1       2018-12-31\n",
      "2       2018-12-31\n",
      "3       2018-12-27\n",
      "4       2018-12-26\n",
      "           ...    \n",
      "76046   2018-12-24\n",
      "76047   2018-12-24\n",
      "76048   2018-12-31\n",
      "76049   2018-12-24\n",
      "76050   2018-12-23\n",
      "Name: message_date, Length: 76051, dtype: datetime64[ns]\n"
     ]
    }
   ],
   "source": [
    "#Cambio del tipo de dato de fecha\n",
    "df_messages['message_date']=pd.to_datetime(df_messages['message_date'],format='%Y/%m/%dT')\n",
    "print(df_messages['message_date'])"
   ]
  },
  {
   "cell_type": "markdown",
   "metadata": {},
   "source": [
    "* Internet"
   ]
  },
  {
   "cell_type": "code",
   "execution_count": 15,
   "metadata": {},
   "outputs": [
    {
     "name": "stdout",
     "output_type": "stream",
     "text": [
      "0        2018-12-29\n",
      "1        2018-12-31\n",
      "2        2018-12-28\n",
      "3        2018-12-26\n",
      "4        2018-12-27\n",
      "            ...    \n",
      "104820   2018-10-20\n",
      "104821   2018-12-30\n",
      "104822   2018-09-22\n",
      "104823   2018-12-07\n",
      "104824   2018-12-24\n",
      "Name: session_date, Length: 104825, dtype: datetime64[ns]\n"
     ]
    }
   ],
   "source": [
    "#Cambio del tipo de dato de fecha\n",
    "df_internet['session_date']=pd.to_datetime(df_internet['session_date'],format='%Y/%m/%dT')\n",
    "print(df_internet['session_date'])"
   ]
  },
  {
   "cell_type": "markdown",
   "metadata": {},
   "source": [
    "* Usuarios"
   ]
  },
  {
   "cell_type": "code",
   "execution_count": 16,
   "metadata": {},
   "outputs": [
    {
     "name": "stdout",
     "output_type": "stream",
     "text": [
      "0     2018-12-24\n",
      "1     2018-08-13\n",
      "2     2018-10-21\n",
      "3     2018-01-28\n",
      "4     2018-05-23\n",
      "         ...    \n",
      "495   2018-09-04\n",
      "496   2018-02-20\n",
      "497   2018-12-10\n",
      "498   2018-02-04\n",
      "499   2018-05-06\n",
      "Name: reg_date, Length: 500, dtype: datetime64[ns]\n"
     ]
    }
   ],
   "source": [
    "#Cambio del tipo de dato de fecha\n",
    "df_users['reg_date']=pd.to_datetime(df_users['reg_date'],format='%Y/%m/%dT')\n",
    "print(df_users['reg_date'])"
   ]
  },
  {
   "cell_type": "code",
   "execution_count": 17,
   "metadata": {},
   "outputs": [
    {
     "data": {
      "text/plain": [
       "0      2022-08-01\n",
       "1      2022-08-01\n",
       "2      2022-08-01\n",
       "3      2022-08-01\n",
       "4      2022-08-01\n",
       "          ...    \n",
       "495    2022-08-01\n",
       "496    2022-08-01\n",
       "497    2022-08-01\n",
       "498    2022-08-01\n",
       "499    2022-08-01\n",
       "Name: churn_date, Length: 500, dtype: object"
      ]
     },
     "execution_count": 17,
     "metadata": {},
     "output_type": "execute_result"
    }
   ],
   "source": [
    "# Para los valores ausentes los rellenaremos con la fecha de corte del mes de agosto del 2022 para indicar que esos son los usuarios vigentes con los planes de suscripción.\n",
    "df_users['churn_date']=df_users['churn_date'].fillna('2022-08-01')\n",
    "df_users['churn_date']"
   ]
  },
  {
   "cell_type": "code",
   "execution_count": 18,
   "metadata": {},
   "outputs": [
    {
     "data": {
      "text/plain": [
       "0   2022-08-01\n",
       "1   2022-08-01\n",
       "2   2022-08-01\n",
       "3   2022-08-01\n",
       "4   2022-08-01\n",
       "5   2022-08-01\n",
       "6   2018-12-18\n",
       "7   2022-08-01\n",
       "8   2022-08-01\n",
       "9   2022-08-01\n",
       "Name: churn_date, dtype: datetime64[ns]"
      ]
     },
     "execution_count": 18,
     "metadata": {},
     "output_type": "execute_result"
    }
   ],
   "source": [
    "#Cambio del tipo de dato de fecha\n",
    "df_users['churn_date']=pd.to_datetime(df_users['churn_date'],format='%Y/%m/%d')\n",
    "df_users['churn_date'].head(10)"
   ]
  },
  {
   "cell_type": "markdown",
   "metadata": {},
   "source": [
    "* Planes de Megaline"
   ]
  },
  {
   "cell_type": "markdown",
   "metadata": {},
   "source": [
    "Dado que sabemos que para ambos planes ofrecemos 15 GB y 30 GB, aplicaremos este cambio en el archivo de planes. \n",
    "Realizaremos los mismos pasos para la conversión de MG a GB, crearemos el nombre de la columna: 'gb_per_month_included'"
   ]
  },
  {
   "cell_type": "code",
   "execution_count": 19,
   "metadata": {},
   "outputs": [
    {
     "data": {
      "text/plain": [
       "0    15\n",
       "1    30\n",
       "Name: gb_per_month_included, dtype: int64"
      ]
     },
     "execution_count": 19,
     "metadata": {},
     "output_type": "execute_result"
    }
   ],
   "source": [
    "df_plans['gb_per_month_included']=np.ceil(df_plans['mb_per_month_included']/1024)\n",
    "df_plans['gb_per_month_included']=df_plans['gb_per_month_included'].astype(int)\n",
    "df_plans['gb_per_month_included']"
   ]
  },
  {
   "cell_type": "markdown",
   "metadata": {},
   "source": [
    "Continuando al segundo punto, aplicaremos el método describe para observar los estadísticos para la duración de las llamadas."
   ]
  },
  {
   "cell_type": "code",
   "execution_count": 20,
   "metadata": {},
   "outputs": [
    {
     "data": {
      "text/html": [
       "<div>\n",
       "<style scoped>\n",
       "    .dataframe tbody tr th:only-of-type {\n",
       "        vertical-align: middle;\n",
       "    }\n",
       "\n",
       "    .dataframe tbody tr th {\n",
       "        vertical-align: top;\n",
       "    }\n",
       "\n",
       "    .dataframe thead th {\n",
       "        text-align: right;\n",
       "    }\n",
       "</style>\n",
       "<table border=\"1\" class=\"dataframe\">\n",
       "  <thead>\n",
       "    <tr style=\"text-align: right;\">\n",
       "      <th></th>\n",
       "      <th>user_id</th>\n",
       "      <th>duration</th>\n",
       "    </tr>\n",
       "  </thead>\n",
       "  <tbody>\n",
       "    <tr>\n",
       "      <th>count</th>\n",
       "      <td>137735.000000</td>\n",
       "      <td>137735.000000</td>\n",
       "    </tr>\n",
       "    <tr>\n",
       "      <th>mean</th>\n",
       "      <td>1247.658046</td>\n",
       "      <td>6.745927</td>\n",
       "    </tr>\n",
       "    <tr>\n",
       "      <th>std</th>\n",
       "      <td>139.416268</td>\n",
       "      <td>5.839241</td>\n",
       "    </tr>\n",
       "    <tr>\n",
       "      <th>min</th>\n",
       "      <td>1000.000000</td>\n",
       "      <td>0.000000</td>\n",
       "    </tr>\n",
       "    <tr>\n",
       "      <th>25%</th>\n",
       "      <td>1128.000000</td>\n",
       "      <td>1.290000</td>\n",
       "    </tr>\n",
       "    <tr>\n",
       "      <th>50%</th>\n",
       "      <td>1247.000000</td>\n",
       "      <td>5.980000</td>\n",
       "    </tr>\n",
       "    <tr>\n",
       "      <th>75%</th>\n",
       "      <td>1365.000000</td>\n",
       "      <td>10.690000</td>\n",
       "    </tr>\n",
       "    <tr>\n",
       "      <th>max</th>\n",
       "      <td>1499.000000</td>\n",
       "      <td>37.600000</td>\n",
       "    </tr>\n",
       "  </tbody>\n",
       "</table>\n",
       "</div>"
      ],
      "text/plain": [
       "             user_id       duration\n",
       "count  137735.000000  137735.000000\n",
       "mean     1247.658046       6.745927\n",
       "std       139.416268       5.839241\n",
       "min      1000.000000       0.000000\n",
       "25%      1128.000000       1.290000\n",
       "50%      1247.000000       5.980000\n",
       "75%      1365.000000      10.690000\n",
       "max      1499.000000      37.600000"
      ]
     },
     "execution_count": 20,
     "metadata": {},
     "output_type": "execute_result"
    }
   ],
   "source": [
    "df_calls.describe()"
   ]
  },
  {
   "cell_type": "markdown",
   "metadata": {},
   "source": [
    "La media de las llamadas son aproximadamente 7 minutos y la mediana es menor con 6 minutos, con estos datos la distrubucion de la duracion de las llamadas tendría un ligero sesgo hacia la derecha, siendo una asimetría positiva. \n",
    "\n",
    "Sin embargo observamos duraciones muy cortas en las llamadas con un mínimo de 0 minutos, esto se puede interpretar que fueron seguramente llamadas perdidas o que contestaron y al instante se colgó la llamada o también la duración del tiempo de marcación hasta que la otra línea(usuario) conteste, existen varias opciones para que tengamos estos datos atípicos.\n",
    "\n",
    "A continuación veremos la distribución de la duración de las llamadas para conocer cuantos clientes registran este tipo de caso.\n",
    "\n"
   ]
  },
  {
   "cell_type": "code",
   "execution_count": 21,
   "metadata": {
    "scrolled": false
   },
   "outputs": [
    {
     "data": {
      "image/png": "[encoded data removed]",
      "text/plain": [
       "<Figure size 864x648 with 4 Axes>"
      ]
     },
     "metadata": {
      "needs_background": "light"
     },
     "output_type": "display_data"
    }
   ],
   "source": [
    "# Histogramas incluyendo la duración de las llamadas menores a 1 minuto.\n",
    "df_calls_with0= df_calls.query('duration <1')\n",
    "df_calls_with0_h= df_calls_with0.hist(bins=20,grid=True,figsize=(12,9))"
   ]
  },
  {
   "cell_type": "code",
   "execution_count": 22,
   "metadata": {},
   "outputs": [
    {
     "data": {
      "text/plain": [
       "id           32559\n",
       "user_id      32559\n",
       "call_date    32559\n",
       "duration     32559\n",
       "dtype: int64"
      ]
     },
     "execution_count": 22,
     "metadata": {},
     "output_type": "execute_result"
    }
   ],
   "source": [
    "df_calls_with0.count()"
   ]
  },
  {
   "cell_type": "code",
   "execution_count": 23,
   "metadata": {},
   "outputs": [
    {
     "name": "stdout",
     "output_type": "stream",
     "text": [
      "id           23.638872\n",
      "user_id      23.638872\n",
      "call_date    23.638872\n",
      "duration     23.638872\n",
      "dtype: float64\n"
     ]
    }
   ],
   "source": [
    "porcentaje=(df_calls_with0.count()/len(df_calls))*100\n",
    "print(porcentaje)"
   ]
  },
  {
   "cell_type": "markdown",
   "metadata": {},
   "source": [
    "Tenemos 32.559 registros de llamadas con duración menor a 1 minuto que representan el 23% del total de registros.\n",
    "\n",
    "Dado que el objetivo es identificar cual tarifa de prepago es que el representa mayores ingresos y el compartamiento del cliente no nos van a servir incluir en nuestro análisis llamadas con muy poca duración por la razones mencionadas. Por lo que guardaremos el DataFrame filtrado de las llamadas a partir de 1 minuto de duración para el continuo análisis.\n",
    "\n",
    "A continuación obersaveremos los mismos histogramas pero a partir de 1 minuto de duración y observar la nueva distribución."
   ]
  },
  {
   "cell_type": "code",
   "execution_count": 24,
   "metadata": {
    "scrolled": false
   },
   "outputs": [
    {
     "data": {
      "image/png": "[encoded data removed]",
      "text/plain": [
       "<Figure size 864x648 with 4 Axes>"
      ]
     },
     "metadata": {
      "needs_background": "light"
     },
     "output_type": "display_data"
    }
   ],
   "source": [
    "#Histogramas incluyendo llamadas mayores a 0 minutos.\n",
    "df_calls_without0= df_calls.query('duration >=1')\n",
    "df_calls_without0_h= df_calls_without0.hist(bins=20,grid=True, figsize=(12,9), color='purple')"
   ]
  },
  {
   "cell_type": "code",
   "execution_count": 25,
   "metadata": {},
   "outputs": [
    {
     "data": {
      "text/plain": [
       "1.00     70\n",
       "1.01     58\n",
       "1.02     64\n",
       "1.03     56\n",
       "1.04     51\n",
       "         ..\n",
       "35.35     1\n",
       "35.74     1\n",
       "35.88     1\n",
       "36.24     1\n",
       "37.60     1\n",
       "Name: duration, Length: 2702, dtype: int64"
      ]
     },
     "execution_count": 25,
     "metadata": {},
     "output_type": "execute_result"
    }
   ],
   "source": [
    "df_calls=df_calls.query('duration >=1')\n",
    "df_calls['duration'].value_counts().sort_index()"
   ]
  },
  {
   "cell_type": "markdown",
   "metadata": {},
   "source": [
    "Finalmente tenemos nuestra Dataframe de la duración de llamdas de 1 minuto en adelante que nos servirá para el posterior análisis."
   ]
  },
  {
   "cell_type": "markdown",
   "metadata": {},
   "source": [
    "**3.1 El número de llamadas realizadas y minutos utilizados al mes por cada usuario**\n",
    "\n"
   ]
  },
  {
   "cell_type": "code",
   "execution_count": 26,
   "metadata": {},
   "outputs": [
    {
     "data": {
      "text/html": [
       "<div>\n",
       "<style scoped>\n",
       "    .dataframe tbody tr th:only-of-type {\n",
       "        vertical-align: middle;\n",
       "    }\n",
       "\n",
       "    .dataframe tbody tr th {\n",
       "        vertical-align: top;\n",
       "    }\n",
       "\n",
       "    .dataframe thead th {\n",
       "        text-align: right;\n",
       "    }\n",
       "</style>\n",
       "<table border=\"1\" class=\"dataframe\">\n",
       "  <thead>\n",
       "    <tr style=\"text-align: right;\">\n",
       "      <th></th>\n",
       "      <th></th>\n",
       "      <th>total_calls</th>\n",
       "    </tr>\n",
       "    <tr>\n",
       "      <th>user_id</th>\n",
       "      <th>month</th>\n",
       "      <th></th>\n",
       "    </tr>\n",
       "  </thead>\n",
       "  <tbody>\n",
       "    <tr>\n",
       "      <th>1000</th>\n",
       "      <th>12</th>\n",
       "      <td>16</td>\n",
       "    </tr>\n",
       "    <tr>\n",
       "      <th rowspan=\"4\" valign=\"top\">1001</th>\n",
       "      <th>8</th>\n",
       "      <td>21</td>\n",
       "    </tr>\n",
       "    <tr>\n",
       "      <th>9</th>\n",
       "      <td>38</td>\n",
       "    </tr>\n",
       "    <tr>\n",
       "      <th>10</th>\n",
       "      <td>45</td>\n",
       "    </tr>\n",
       "    <tr>\n",
       "      <th>11</th>\n",
       "      <td>44</td>\n",
       "    </tr>\n",
       "    <tr>\n",
       "      <th>...</th>\n",
       "      <th>...</th>\n",
       "      <td>...</td>\n",
       "    </tr>\n",
       "    <tr>\n",
       "      <th>1498</th>\n",
       "      <th>12</th>\n",
       "      <td>31</td>\n",
       "    </tr>\n",
       "    <tr>\n",
       "      <th rowspan=\"4\" valign=\"top\">1499</th>\n",
       "      <th>9</th>\n",
       "      <td>35</td>\n",
       "    </tr>\n",
       "    <tr>\n",
       "      <th>10</th>\n",
       "      <td>38</td>\n",
       "    </tr>\n",
       "    <tr>\n",
       "      <th>11</th>\n",
       "      <td>36</td>\n",
       "    </tr>\n",
       "    <tr>\n",
       "      <th>12</th>\n",
       "      <td>52</td>\n",
       "    </tr>\n",
       "  </tbody>\n",
       "</table>\n",
       "<p>2256 rows × 1 columns</p>\n",
       "</div>"
      ],
      "text/plain": [
       "               total_calls\n",
       "user_id month             \n",
       "1000    12              16\n",
       "1001    8               21\n",
       "        9               38\n",
       "        10              45\n",
       "        11              44\n",
       "...                    ...\n",
       "1498    12              31\n",
       "1499    9               35\n",
       "        10              38\n",
       "        11              36\n",
       "        12              52\n",
       "\n",
       "[2256 rows x 1 columns]"
      ]
     },
     "execution_count": 26,
     "metadata": {},
     "output_type": "execute_result"
    }
   ],
   "source": [
    "#Utilizaremos el método de dt.month para convertir el campo de fecha en el número del mes del año que corresponde.\n",
    "df_calls['month']=df_calls['call_date'].dt.month\n",
    "#Realizaremos una tabla dinámica para contar el número de llamadas realizadas por usuario y por mes.\n",
    "df_total_calls=df_calls.pivot_table(index=['user_id','month'],values='duration',aggfunc='count')\n",
    "#Para idenfiticar el cálculo cambiaremos de nombre a la columna.\n",
    "df_total_calls=df_total_calls.rename(columns={'duration':'total_calls'})\n",
    "df_total_calls"
   ]
  },
  {
   "cell_type": "code",
   "execution_count": 27,
   "metadata": {},
   "outputs": [
    {
     "data": {
      "text/html": [
       "<div>\n",
       "<style scoped>\n",
       "    .dataframe tbody tr th:only-of-type {\n",
       "        vertical-align: middle;\n",
       "    }\n",
       "\n",
       "    .dataframe tbody tr th {\n",
       "        vertical-align: top;\n",
       "    }\n",
       "\n",
       "    .dataframe thead th {\n",
       "        text-align: right;\n",
       "    }\n",
       "</style>\n",
       "<table border=\"1\" class=\"dataframe\">\n",
       "  <thead>\n",
       "    <tr style=\"text-align: right;\">\n",
       "      <th></th>\n",
       "      <th></th>\n",
       "      <th>duration_calls</th>\n",
       "    </tr>\n",
       "    <tr>\n",
       "      <th>user_id</th>\n",
       "      <th>month</th>\n",
       "      <th></th>\n",
       "    </tr>\n",
       "  </thead>\n",
       "  <tbody>\n",
       "    <tr>\n",
       "      <th>1000</th>\n",
       "      <th>12</th>\n",
       "      <td>116.83</td>\n",
       "    </tr>\n",
       "    <tr>\n",
       "      <th rowspan=\"4\" valign=\"top\">1001</th>\n",
       "      <th>8</th>\n",
       "      <td>170.60</td>\n",
       "    </tr>\n",
       "    <tr>\n",
       "      <th>9</th>\n",
       "      <td>297.69</td>\n",
       "    </tr>\n",
       "    <tr>\n",
       "      <th>10</th>\n",
       "      <td>372.31</td>\n",
       "    </tr>\n",
       "    <tr>\n",
       "      <th>11</th>\n",
       "      <td>401.53</td>\n",
       "    </tr>\n",
       "    <tr>\n",
       "      <th>...</th>\n",
       "      <th>...</th>\n",
       "      <td>...</td>\n",
       "    </tr>\n",
       "    <tr>\n",
       "      <th>1498</th>\n",
       "      <th>12</th>\n",
       "      <td>324.01</td>\n",
       "    </tr>\n",
       "    <tr>\n",
       "      <th rowspan=\"4\" valign=\"top\">1499</th>\n",
       "      <th>9</th>\n",
       "      <td>330.37</td>\n",
       "    </tr>\n",
       "    <tr>\n",
       "      <th>10</th>\n",
       "      <td>361.51</td>\n",
       "    </tr>\n",
       "    <tr>\n",
       "      <th>11</th>\n",
       "      <td>286.99</td>\n",
       "    </tr>\n",
       "    <tr>\n",
       "      <th>12</th>\n",
       "      <td>465.76</td>\n",
       "    </tr>\n",
       "  </tbody>\n",
       "</table>\n",
       "<p>2256 rows × 1 columns</p>\n",
       "</div>"
      ],
      "text/plain": [
       "               duration_calls\n",
       "user_id month                \n",
       "1000    12             116.83\n",
       "1001    8              170.60\n",
       "        9              297.69\n",
       "        10             372.31\n",
       "        11             401.53\n",
       "...                       ...\n",
       "1498    12             324.01\n",
       "1499    9              330.37\n",
       "        10             361.51\n",
       "        11             286.99\n",
       "        12             465.76\n",
       "\n",
       "[2256 rows x 1 columns]"
      ]
     },
     "execution_count": 27,
     "metadata": {},
     "output_type": "execute_result"
    }
   ],
   "source": [
    "#Realizaremos una tabla dinámica para sumar la duración de las llamadas realizadas por usuario y por mes.\n",
    "df_duration_calls=df_calls.pivot_table(index=['user_id','month'],values='duration',aggfunc='sum')\n",
    "\n",
    "#Para idenfiticar el cálculo cambiaremos de nombre a la columna.\n",
    "df_duration_calls=df_duration_calls.rename(columns={'duration':'duration_calls'})\n",
    "df_duration_calls"
   ]
  },
  {
   "cell_type": "code",
   "execution_count": 28,
   "metadata": {},
   "outputs": [
    {
     "data": {
      "text/plain": [
       "duration_calls    0\n",
       "dtype: int64"
      ]
     },
     "execution_count": 28,
     "metadata": {},
     "output_type": "execute_result"
    }
   ],
   "source": [
    "#Comprobamos si no tenemos valores ausentes\n",
    "df_duration_calls.isna().sum()"
   ]
  },
  {
   "cell_type": "markdown",
   "metadata": {},
   "source": [
    "**3.2 La cantidad de los SMS enviados por mes por cada usuario**\n",
    "\n"
   ]
  },
  {
   "cell_type": "code",
   "execution_count": 29,
   "metadata": {},
   "outputs": [
    {
     "data": {
      "text/html": [
       "<div>\n",
       "<style scoped>\n",
       "    .dataframe tbody tr th:only-of-type {\n",
       "        vertical-align: middle;\n",
       "    }\n",
       "\n",
       "    .dataframe tbody tr th {\n",
       "        vertical-align: top;\n",
       "    }\n",
       "\n",
       "    .dataframe thead th {\n",
       "        text-align: right;\n",
       "    }\n",
       "</style>\n",
       "<table border=\"1\" class=\"dataframe\">\n",
       "  <thead>\n",
       "    <tr style=\"text-align: right;\">\n",
       "      <th></th>\n",
       "      <th></th>\n",
       "      <th>total_messages</th>\n",
       "    </tr>\n",
       "    <tr>\n",
       "      <th>user_id</th>\n",
       "      <th>month</th>\n",
       "      <th></th>\n",
       "    </tr>\n",
       "  </thead>\n",
       "  <tbody>\n",
       "    <tr>\n",
       "      <th>1000</th>\n",
       "      <th>12</th>\n",
       "      <td>11</td>\n",
       "    </tr>\n",
       "    <tr>\n",
       "      <th rowspan=\"4\" valign=\"top\">1001</th>\n",
       "      <th>8</th>\n",
       "      <td>30</td>\n",
       "    </tr>\n",
       "    <tr>\n",
       "      <th>9</th>\n",
       "      <td>44</td>\n",
       "    </tr>\n",
       "    <tr>\n",
       "      <th>10</th>\n",
       "      <td>53</td>\n",
       "    </tr>\n",
       "    <tr>\n",
       "      <th>11</th>\n",
       "      <td>36</td>\n",
       "    </tr>\n",
       "    <tr>\n",
       "      <th>...</th>\n",
       "      <th>...</th>\n",
       "      <td>...</td>\n",
       "    </tr>\n",
       "    <tr>\n",
       "      <th rowspan=\"4\" valign=\"top\">1496</th>\n",
       "      <th>9</th>\n",
       "      <td>21</td>\n",
       "    </tr>\n",
       "    <tr>\n",
       "      <th>10</th>\n",
       "      <td>18</td>\n",
       "    </tr>\n",
       "    <tr>\n",
       "      <th>11</th>\n",
       "      <td>13</td>\n",
       "    </tr>\n",
       "    <tr>\n",
       "      <th>12</th>\n",
       "      <td>11</td>\n",
       "    </tr>\n",
       "    <tr>\n",
       "      <th>1497</th>\n",
       "      <th>12</th>\n",
       "      <td>50</td>\n",
       "    </tr>\n",
       "  </tbody>\n",
       "</table>\n",
       "<p>1806 rows × 1 columns</p>\n",
       "</div>"
      ],
      "text/plain": [
       "               total_messages\n",
       "user_id month                \n",
       "1000    12                 11\n",
       "1001    8                  30\n",
       "        9                  44\n",
       "        10                 53\n",
       "        11                 36\n",
       "...                       ...\n",
       "1496    9                  21\n",
       "        10                 18\n",
       "        11                 13\n",
       "        12                 11\n",
       "1497    12                 50\n",
       "\n",
       "[1806 rows x 1 columns]"
      ]
     },
     "execution_count": 29,
     "metadata": {},
     "output_type": "execute_result"
    }
   ],
   "source": [
    "#Utilizaremos el método de dt.month para convertir el campo de fecha en el número del mes del año que corresponde.\n",
    "df_messages['month']=df_messages['message_date'].dt.month\n",
    "\n",
    "#Realizaremos una tabla dinámica para contar la cantidad de SMS enviados por usuario y por mes.\n",
    "df_total_messages=df_messages.pivot_table(index=['user_id','month'],values='id',aggfunc='count')\n",
    "\n",
    "#Para idenfiticar el cálculo cambiaremos de nombre a la columna.\n",
    "df_total_messages=df_total_messages.rename(columns={'id':'total_messages'})\n",
    "df_total_messages"
   ]
  },
  {
   "cell_type": "code",
   "execution_count": 30,
   "metadata": {},
   "outputs": [
    {
     "data": {
      "text/plain": [
       "total_messages    0\n",
       "dtype: int64"
      ]
     },
     "execution_count": 30,
     "metadata": {},
     "output_type": "execute_result"
    }
   ],
   "source": [
    "#Comprobamos si no tenemos valores ausentes\n",
    "df_total_messages.isna().sum()"
   ]
  },
  {
   "cell_type": "markdown",
   "metadata": {},
   "source": [
    "**3.3 El volumen de datos por mes por cada usuario**\n",
    "\n"
   ]
  },
  {
   "cell_type": "code",
   "execution_count": 31,
   "metadata": {},
   "outputs": [
    {
     "data": {
      "text/html": [
       "<div>\n",
       "<style scoped>\n",
       "    .dataframe tbody tr th:only-of-type {\n",
       "        vertical-align: middle;\n",
       "    }\n",
       "\n",
       "    .dataframe tbody tr th {\n",
       "        vertical-align: top;\n",
       "    }\n",
       "\n",
       "    .dataframe thead th {\n",
       "        text-align: right;\n",
       "    }\n",
       "</style>\n",
       "<table border=\"1\" class=\"dataframe\">\n",
       "  <thead>\n",
       "    <tr style=\"text-align: right;\">\n",
       "      <th></th>\n",
       "      <th></th>\n",
       "      <th>mb_used</th>\n",
       "    </tr>\n",
       "    <tr>\n",
       "      <th>user_id</th>\n",
       "      <th>month</th>\n",
       "      <th></th>\n",
       "    </tr>\n",
       "  </thead>\n",
       "  <tbody>\n",
       "    <tr>\n",
       "      <th>1000</th>\n",
       "      <th>12</th>\n",
       "      <td>1901.47</td>\n",
       "    </tr>\n",
       "    <tr>\n",
       "      <th rowspan=\"4\" valign=\"top\">1001</th>\n",
       "      <th>8</th>\n",
       "      <td>6919.15</td>\n",
       "    </tr>\n",
       "    <tr>\n",
       "      <th>9</th>\n",
       "      <td>13314.82</td>\n",
       "    </tr>\n",
       "    <tr>\n",
       "      <th>10</th>\n",
       "      <td>22330.49</td>\n",
       "    </tr>\n",
       "    <tr>\n",
       "      <th>11</th>\n",
       "      <td>18504.30</td>\n",
       "    </tr>\n",
       "    <tr>\n",
       "      <th>...</th>\n",
       "      <th>...</th>\n",
       "      <td>...</td>\n",
       "    </tr>\n",
       "    <tr>\n",
       "      <th>1498</th>\n",
       "      <th>12</th>\n",
       "      <td>23137.69</td>\n",
       "    </tr>\n",
       "    <tr>\n",
       "      <th rowspan=\"4\" valign=\"top\">1499</th>\n",
       "      <th>9</th>\n",
       "      <td>12984.76</td>\n",
       "    </tr>\n",
       "    <tr>\n",
       "      <th>10</th>\n",
       "      <td>19492.43</td>\n",
       "    </tr>\n",
       "    <tr>\n",
       "      <th>11</th>\n",
       "      <td>16813.83</td>\n",
       "    </tr>\n",
       "    <tr>\n",
       "      <th>12</th>\n",
       "      <td>22059.21</td>\n",
       "    </tr>\n",
       "  </tbody>\n",
       "</table>\n",
       "<p>2277 rows × 1 columns</p>\n",
       "</div>"
      ],
      "text/plain": [
       "                mb_used\n",
       "user_id month          \n",
       "1000    12      1901.47\n",
       "1001    8       6919.15\n",
       "        9      13314.82\n",
       "        10     22330.49\n",
       "        11     18504.30\n",
       "...                 ...\n",
       "1498    12     23137.69\n",
       "1499    9      12984.76\n",
       "        10     19492.43\n",
       "        11     16813.83\n",
       "        12     22059.21\n",
       "\n",
       "[2277 rows x 1 columns]"
      ]
     },
     "execution_count": 31,
     "metadata": {},
     "output_type": "execute_result"
    }
   ],
   "source": [
    "#Utilizaremos el método de dt.month para convertir el campo de fecha en el número del mes del año que corresponde.\n",
    "df_internet['month']=df_internet['session_date'].dt.month\n",
    "\n",
    "#Realizaremos una tabla dinámica para sumar el volumen de datos consumidos por usuario y por mes.\n",
    "df_total_mb=df_internet.pivot_table(index=['user_id','month'],values='mb_used',aggfunc='sum')\n",
    "\n",
    "df_total_mb"
   ]
  },
  {
   "cell_type": "code",
   "execution_count": 32,
   "metadata": {},
   "outputs": [
    {
     "data": {
      "text/plain": [
       "mb_used    0\n",
       "dtype: int64"
      ]
     },
     "execution_count": 32,
     "metadata": {},
     "output_type": "execute_result"
    }
   ],
   "source": [
    "#Comprobamos si no tenemos valores ausentes\n",
    "df_total_mb.isna().sum()"
   ]
  },
  {
   "cell_type": "markdown",
   "metadata": {},
   "source": [
    "<div class=\"alert alert-block alert-success\">\n",
    "    \n",
    "<b>Comentario del revisor</b> <a class=\"tocSkip\"></a>\n",
    "    \n",
    "Buen trabajo.\n",
    "</div>"
   ]
  },
  {
   "cell_type": "markdown",
   "metadata": {},
   "source": [
    "**3.4 Los ingresos mensuales de cada usuario**"
   ]
  },
  {
   "cell_type": "markdown",
   "metadata": {},
   "source": [
    "Primero debemos realizar una concatenación de las tablas creadas anteriormente para tener la duración de llamadas, SMS enviados y volumen de datos consumidos por usuario y por mes.\n"
   ]
  },
  {
   "cell_type": "code",
   "execution_count": 33,
   "metadata": {},
   "outputs": [
    {
     "data": {
      "text/html": [
       "<div>\n",
       "<style scoped>\n",
       "    .dataframe tbody tr th:only-of-type {\n",
       "        vertical-align: middle;\n",
       "    }\n",
       "\n",
       "    .dataframe tbody tr th {\n",
       "        vertical-align: top;\n",
       "    }\n",
       "\n",
       "    .dataframe thead th {\n",
       "        text-align: right;\n",
       "    }\n",
       "</style>\n",
       "<table border=\"1\" class=\"dataframe\">\n",
       "  <thead>\n",
       "    <tr style=\"text-align: right;\">\n",
       "      <th></th>\n",
       "      <th></th>\n",
       "      <th>duration_calls</th>\n",
       "      <th>total_messages</th>\n",
       "      <th>mb_used</th>\n",
       "    </tr>\n",
       "    <tr>\n",
       "      <th>user_id</th>\n",
       "      <th>month</th>\n",
       "      <th></th>\n",
       "      <th></th>\n",
       "      <th></th>\n",
       "    </tr>\n",
       "  </thead>\n",
       "  <tbody>\n",
       "    <tr>\n",
       "      <th>1000</th>\n",
       "      <th>12</th>\n",
       "      <td>116.83</td>\n",
       "      <td>11.0</td>\n",
       "      <td>1901.47</td>\n",
       "    </tr>\n",
       "    <tr>\n",
       "      <th rowspan=\"4\" valign=\"top\">1001</th>\n",
       "      <th>8</th>\n",
       "      <td>170.60</td>\n",
       "      <td>30.0</td>\n",
       "      <td>6919.15</td>\n",
       "    </tr>\n",
       "    <tr>\n",
       "      <th>9</th>\n",
       "      <td>297.69</td>\n",
       "      <td>44.0</td>\n",
       "      <td>13314.82</td>\n",
       "    </tr>\n",
       "    <tr>\n",
       "      <th>10</th>\n",
       "      <td>372.31</td>\n",
       "      <td>53.0</td>\n",
       "      <td>22330.49</td>\n",
       "    </tr>\n",
       "    <tr>\n",
       "      <th>11</th>\n",
       "      <td>401.53</td>\n",
       "      <td>36.0</td>\n",
       "      <td>18504.30</td>\n",
       "    </tr>\n",
       "    <tr>\n",
       "      <th>...</th>\n",
       "      <th>...</th>\n",
       "      <td>...</td>\n",
       "      <td>...</td>\n",
       "      <td>...</td>\n",
       "    </tr>\n",
       "    <tr>\n",
       "      <th>1498</th>\n",
       "      <th>12</th>\n",
       "      <td>324.01</td>\n",
       "      <td>NaN</td>\n",
       "      <td>23137.69</td>\n",
       "    </tr>\n",
       "    <tr>\n",
       "      <th rowspan=\"4\" valign=\"top\">1499</th>\n",
       "      <th>9</th>\n",
       "      <td>330.37</td>\n",
       "      <td>NaN</td>\n",
       "      <td>12984.76</td>\n",
       "    </tr>\n",
       "    <tr>\n",
       "      <th>10</th>\n",
       "      <td>361.51</td>\n",
       "      <td>NaN</td>\n",
       "      <td>19492.43</td>\n",
       "    </tr>\n",
       "    <tr>\n",
       "      <th>11</th>\n",
       "      <td>286.99</td>\n",
       "      <td>NaN</td>\n",
       "      <td>16813.83</td>\n",
       "    </tr>\n",
       "    <tr>\n",
       "      <th>12</th>\n",
       "      <td>465.76</td>\n",
       "      <td>NaN</td>\n",
       "      <td>22059.21</td>\n",
       "    </tr>\n",
       "  </tbody>\n",
       "</table>\n",
       "<p>2293 rows × 3 columns</p>\n",
       "</div>"
      ],
      "text/plain": [
       "               duration_calls  total_messages   mb_used\n",
       "user_id month                                          \n",
       "1000    12             116.83            11.0   1901.47\n",
       "1001    8              170.60            30.0   6919.15\n",
       "        9              297.69            44.0  13314.82\n",
       "        10             372.31            53.0  22330.49\n",
       "        11             401.53            36.0  18504.30\n",
       "...                       ...             ...       ...\n",
       "1498    12             324.01             NaN  23137.69\n",
       "1499    9              330.37             NaN  12984.76\n",
       "        10             361.51             NaN  19492.43\n",
       "        11             286.99             NaN  16813.83\n",
       "        12             465.76             NaN  22059.21\n",
       "\n",
       "[2293 rows x 3 columns]"
      ]
     },
     "execution_count": 33,
     "metadata": {},
     "output_type": "execute_result"
    }
   ],
   "source": [
    "merged_data = pd.concat([df_duration_calls, df_total_messages,df_total_mb], axis=1)\n",
    "merged_data"
   ]
  },
  {
   "cell_type": "code",
   "execution_count": 34,
   "metadata": {},
   "outputs": [
    {
     "data": {
      "text/plain": [
       "duration_calls     37\n",
       "total_messages    487\n",
       "mb_used            16\n",
       "dtype: int64"
      ]
     },
     "execution_count": 34,
     "metadata": {},
     "output_type": "execute_result"
    }
   ],
   "source": [
    "#Comprobamos si no tenemos valores ausentes\n",
    "merged_data.isna().sum()"
   ]
  },
  {
   "cell_type": "markdown",
   "metadata": {},
   "source": [
    "Encontramos valores ausentes después de hacer la concatenación entre las 3 tablas, se puede deber a que no en todos los meses los usuarios hicieron consumos de sus minutos de llamadas, ni mensajes ni tampoco del volumen de datos \n",
    "Es por eso eso que esos valores serán reemplazados por 0 para indicar que no fueron consumidos. "
   ]
  },
  {
   "cell_type": "code",
   "execution_count": 35,
   "metadata": {},
   "outputs": [],
   "source": [
    "columns_to_fill=['duration_calls','total_messages','mb_used']\n",
    "for column in columns_to_fill:\n",
    "    merged_data[column]=merged_data[column].fillna(0)\n"
   ]
  },
  {
   "cell_type": "code",
   "execution_count": 36,
   "metadata": {},
   "outputs": [
    {
     "data": {
      "text/plain": [
       "duration_calls    0\n",
       "total_messages    0\n",
       "mb_used           0\n",
       "dtype: int64"
      ]
     },
     "execution_count": 36,
     "metadata": {},
     "output_type": "execute_result"
    }
   ],
   "source": [
    "#Comprobamos nuevamente si no tenemos valores ausentes\n",
    "merged_data.isna().sum()"
   ]
  },
  {
   "cell_type": "markdown",
   "metadata": {},
   "source": [
    "<div class=\"alert alert-info\"> <b>Comentario del estudiante:</b> Listo, gracias.</div>"
   ]
  },
  {
   "cell_type": "markdown",
   "metadata": {},
   "source": [
    "Como segundo paso para conocer los ingresos extras fuera del plan, es decir los minutos, SMS o datos que los clientes consumieron fuera de los límites del plan. Tendremos que unir nuestra tabla anterior que contiene el detalle de lo que fue consumido junto con el archivo de Usuarios y Planes de Megaline. \n",
    "\n",
    "Dado que en la primera sección imprimimos los nombres de las columnas de nuestros archivos, podemos ver que el archivo Usuarios y Planes de Megaline en la columna que identifica cual es el plan, tiene escrito de manera diferente por lo que tenemos que poner los nombres iguales antes para que en el merge pueda reconcoerlos."
   ]
  },
  {
   "cell_type": "code",
   "execution_count": 37,
   "metadata": {
    "scrolled": true
   },
   "outputs": [
    {
     "data": {
      "text/html": [
       "<div>\n",
       "<style scoped>\n",
       "    .dataframe tbody tr th:only-of-type {\n",
       "        vertical-align: middle;\n",
       "    }\n",
       "\n",
       "    .dataframe tbody tr th {\n",
       "        vertical-align: top;\n",
       "    }\n",
       "\n",
       "    .dataframe thead th {\n",
       "        text-align: right;\n",
       "    }\n",
       "</style>\n",
       "<table border=\"1\" class=\"dataframe\">\n",
       "  <thead>\n",
       "    <tr style=\"text-align: right;\">\n",
       "      <th></th>\n",
       "      <th>messages_included</th>\n",
       "      <th>mb_per_month_included</th>\n",
       "      <th>minutes_included</th>\n",
       "      <th>usd_monthly_pay</th>\n",
       "      <th>usd_per_gb</th>\n",
       "      <th>usd_per_message</th>\n",
       "      <th>usd_per_minute</th>\n",
       "      <th>plan</th>\n",
       "      <th>gb_per_month_included</th>\n",
       "    </tr>\n",
       "  </thead>\n",
       "  <tbody>\n",
       "    <tr>\n",
       "      <th>0</th>\n",
       "      <td>50</td>\n",
       "      <td>15360</td>\n",
       "      <td>500</td>\n",
       "      <td>20</td>\n",
       "      <td>10</td>\n",
       "      <td>0.03</td>\n",
       "      <td>0.03</td>\n",
       "      <td>surf</td>\n",
       "      <td>15</td>\n",
       "    </tr>\n",
       "    <tr>\n",
       "      <th>1</th>\n",
       "      <td>1000</td>\n",
       "      <td>30720</td>\n",
       "      <td>3000</td>\n",
       "      <td>70</td>\n",
       "      <td>7</td>\n",
       "      <td>0.01</td>\n",
       "      <td>0.01</td>\n",
       "      <td>ultimate</td>\n",
       "      <td>30</td>\n",
       "    </tr>\n",
       "  </tbody>\n",
       "</table>\n",
       "</div>"
      ],
      "text/plain": [
       "   messages_included  mb_per_month_included  minutes_included  \\\n",
       "0                 50                  15360               500   \n",
       "1               1000                  30720              3000   \n",
       "\n",
       "   usd_monthly_pay  usd_per_gb  usd_per_message  usd_per_minute      plan  \\\n",
       "0               20          10             0.03            0.03      surf   \n",
       "1               70           7             0.01            0.01  ultimate   \n",
       "\n",
       "   gb_per_month_included  \n",
       "0                     15  \n",
       "1                     30  "
      ]
     },
     "execution_count": 37,
     "metadata": {},
     "output_type": "execute_result"
    }
   ],
   "source": [
    "df_plans=df_plans.rename(columns={'plan_name':'plan'})\n",
    "df_plans"
   ]
  },
  {
   "cell_type": "code",
   "execution_count": 38,
   "metadata": {
    "scrolled": true
   },
   "outputs": [
    {
     "data": {
      "text/html": [
       "<div>\n",
       "<style scoped>\n",
       "    .dataframe tbody tr th:only-of-type {\n",
       "        vertical-align: middle;\n",
       "    }\n",
       "\n",
       "    .dataframe tbody tr th {\n",
       "        vertical-align: top;\n",
       "    }\n",
       "\n",
       "    .dataframe thead th {\n",
       "        text-align: right;\n",
       "    }\n",
       "</style>\n",
       "<table border=\"1\" class=\"dataframe\">\n",
       "  <thead>\n",
       "    <tr style=\"text-align: right;\">\n",
       "      <th></th>\n",
       "      <th></th>\n",
       "      <th>duration_calls</th>\n",
       "      <th>total_messages</th>\n",
       "      <th>mb_used</th>\n",
       "      <th>first_name</th>\n",
       "      <th>last_name</th>\n",
       "      <th>age</th>\n",
       "      <th>city</th>\n",
       "      <th>reg_date</th>\n",
       "      <th>plan</th>\n",
       "      <th>churn_date</th>\n",
       "    </tr>\n",
       "    <tr>\n",
       "      <th>user_id</th>\n",
       "      <th>month</th>\n",
       "      <th></th>\n",
       "      <th></th>\n",
       "      <th></th>\n",
       "      <th></th>\n",
       "      <th></th>\n",
       "      <th></th>\n",
       "      <th></th>\n",
       "      <th></th>\n",
       "      <th></th>\n",
       "      <th></th>\n",
       "    </tr>\n",
       "  </thead>\n",
       "  <tbody>\n",
       "    <tr>\n",
       "      <th>1000</th>\n",
       "      <th>12</th>\n",
       "      <td>116.83</td>\n",
       "      <td>11.0</td>\n",
       "      <td>1901.47</td>\n",
       "      <td>Anamaria</td>\n",
       "      <td>Bauer</td>\n",
       "      <td>45</td>\n",
       "      <td>Atlanta-Sandy Springs-Roswell, GA MSA</td>\n",
       "      <td>2018-12-24</td>\n",
       "      <td>ultimate</td>\n",
       "      <td>2022-08-01</td>\n",
       "    </tr>\n",
       "    <tr>\n",
       "      <th rowspan=\"4\" valign=\"top\">1001</th>\n",
       "      <th>8</th>\n",
       "      <td>170.60</td>\n",
       "      <td>30.0</td>\n",
       "      <td>6919.15</td>\n",
       "      <td>Mickey</td>\n",
       "      <td>Wilkerson</td>\n",
       "      <td>28</td>\n",
       "      <td>Seattle-Tacoma-Bellevue, WA MSA</td>\n",
       "      <td>2018-08-13</td>\n",
       "      <td>surf</td>\n",
       "      <td>2022-08-01</td>\n",
       "    </tr>\n",
       "    <tr>\n",
       "      <th>9</th>\n",
       "      <td>297.69</td>\n",
       "      <td>44.0</td>\n",
       "      <td>13314.82</td>\n",
       "      <td>Mickey</td>\n",
       "      <td>Wilkerson</td>\n",
       "      <td>28</td>\n",
       "      <td>Seattle-Tacoma-Bellevue, WA MSA</td>\n",
       "      <td>2018-08-13</td>\n",
       "      <td>surf</td>\n",
       "      <td>2022-08-01</td>\n",
       "    </tr>\n",
       "    <tr>\n",
       "      <th>10</th>\n",
       "      <td>372.31</td>\n",
       "      <td>53.0</td>\n",
       "      <td>22330.49</td>\n",
       "      <td>Mickey</td>\n",
       "      <td>Wilkerson</td>\n",
       "      <td>28</td>\n",
       "      <td>Seattle-Tacoma-Bellevue, WA MSA</td>\n",
       "      <td>2018-08-13</td>\n",
       "      <td>surf</td>\n",
       "      <td>2022-08-01</td>\n",
       "    </tr>\n",
       "    <tr>\n",
       "      <th>11</th>\n",
       "      <td>401.53</td>\n",
       "      <td>36.0</td>\n",
       "      <td>18504.30</td>\n",
       "      <td>Mickey</td>\n",
       "      <td>Wilkerson</td>\n",
       "      <td>28</td>\n",
       "      <td>Seattle-Tacoma-Bellevue, WA MSA</td>\n",
       "      <td>2018-08-13</td>\n",
       "      <td>surf</td>\n",
       "      <td>2022-08-01</td>\n",
       "    </tr>\n",
       "  </tbody>\n",
       "</table>\n",
       "</div>"
      ],
      "text/plain": [
       "               duration_calls  total_messages   mb_used first_name  last_name  \\\n",
       "user_id month                                                                   \n",
       "1000    12             116.83            11.0   1901.47   Anamaria      Bauer   \n",
       "1001    8              170.60            30.0   6919.15     Mickey  Wilkerson   \n",
       "        9              297.69            44.0  13314.82     Mickey  Wilkerson   \n",
       "        10             372.31            53.0  22330.49     Mickey  Wilkerson   \n",
       "        11             401.53            36.0  18504.30     Mickey  Wilkerson   \n",
       "\n",
       "               age                                   city   reg_date  \\\n",
       "user_id month                                                          \n",
       "1000    12      45  Atlanta-Sandy Springs-Roswell, GA MSA 2018-12-24   \n",
       "1001    8       28        Seattle-Tacoma-Bellevue, WA MSA 2018-08-13   \n",
       "        9       28        Seattle-Tacoma-Bellevue, WA MSA 2018-08-13   \n",
       "        10      28        Seattle-Tacoma-Bellevue, WA MSA 2018-08-13   \n",
       "        11      28        Seattle-Tacoma-Bellevue, WA MSA 2018-08-13   \n",
       "\n",
       "                   plan churn_date  \n",
       "user_id month                       \n",
       "1000    12     ultimate 2022-08-01  \n",
       "1001    8          surf 2022-08-01  \n",
       "        9          surf 2022-08-01  \n",
       "        10         surf 2022-08-01  \n",
       "        11         surf 2022-08-01  "
      ]
     },
     "execution_count": 38,
     "metadata": {},
     "output_type": "execute_result"
    }
   ],
   "source": [
    "#Realizamos la unión de las tablas primero con el archivo de Usuarios, para hacer el match a través de la columna de user_id.\n",
    "merged_data=merged_data.join(df_users.set_index('user_id'),on='user_id')\n",
    "merged_data.head(5)"
   ]
  },
  {
   "cell_type": "code",
   "execution_count": 39,
   "metadata": {
    "scrolled": false
   },
   "outputs": [
    {
     "data": {
      "text/html": [
       "<div>\n",
       "<style scoped>\n",
       "    .dataframe tbody tr th:only-of-type {\n",
       "        vertical-align: middle;\n",
       "    }\n",
       "\n",
       "    .dataframe tbody tr th {\n",
       "        vertical-align: top;\n",
       "    }\n",
       "\n",
       "    .dataframe thead th {\n",
       "        text-align: right;\n",
       "    }\n",
       "</style>\n",
       "<table border=\"1\" class=\"dataframe\">\n",
       "  <thead>\n",
       "    <tr style=\"text-align: right;\">\n",
       "      <th></th>\n",
       "      <th></th>\n",
       "      <th>duration_calls</th>\n",
       "      <th>total_messages</th>\n",
       "      <th>mb_used</th>\n",
       "      <th>first_name</th>\n",
       "      <th>last_name</th>\n",
       "      <th>age</th>\n",
       "      <th>city</th>\n",
       "      <th>reg_date</th>\n",
       "      <th>plan</th>\n",
       "      <th>churn_date</th>\n",
       "      <th>messages_included</th>\n",
       "      <th>mb_per_month_included</th>\n",
       "      <th>minutes_included</th>\n",
       "      <th>usd_monthly_pay</th>\n",
       "      <th>usd_per_gb</th>\n",
       "      <th>usd_per_message</th>\n",
       "      <th>usd_per_minute</th>\n",
       "      <th>gb_per_month_included</th>\n",
       "    </tr>\n",
       "    <tr>\n",
       "      <th>user_id</th>\n",
       "      <th>month</th>\n",
       "      <th></th>\n",
       "      <th></th>\n",
       "      <th></th>\n",
       "      <th></th>\n",
       "      <th></th>\n",
       "      <th></th>\n",
       "      <th></th>\n",
       "      <th></th>\n",
       "      <th></th>\n",
       "      <th></th>\n",
       "      <th></th>\n",
       "      <th></th>\n",
       "      <th></th>\n",
       "      <th></th>\n",
       "      <th></th>\n",
       "      <th></th>\n",
       "      <th></th>\n",
       "      <th></th>\n",
       "    </tr>\n",
       "  </thead>\n",
       "  <tbody>\n",
       "    <tr>\n",
       "      <th>1000</th>\n",
       "      <th>12</th>\n",
       "      <td>116.83</td>\n",
       "      <td>11.0</td>\n",
       "      <td>1901.47</td>\n",
       "      <td>Anamaria</td>\n",
       "      <td>Bauer</td>\n",
       "      <td>45</td>\n",
       "      <td>Atlanta-Sandy Springs-Roswell, GA MSA</td>\n",
       "      <td>2018-12-24</td>\n",
       "      <td>ultimate</td>\n",
       "      <td>2022-08-01</td>\n",
       "      <td>1000</td>\n",
       "      <td>30720</td>\n",
       "      <td>3000</td>\n",
       "      <td>70</td>\n",
       "      <td>7</td>\n",
       "      <td>0.01</td>\n",
       "      <td>0.01</td>\n",
       "      <td>30</td>\n",
       "    </tr>\n",
       "    <tr>\n",
       "      <th rowspan=\"5\" valign=\"top\">1001</th>\n",
       "      <th>8</th>\n",
       "      <td>170.60</td>\n",
       "      <td>30.0</td>\n",
       "      <td>6919.15</td>\n",
       "      <td>Mickey</td>\n",
       "      <td>Wilkerson</td>\n",
       "      <td>28</td>\n",
       "      <td>Seattle-Tacoma-Bellevue, WA MSA</td>\n",
       "      <td>2018-08-13</td>\n",
       "      <td>surf</td>\n",
       "      <td>2022-08-01</td>\n",
       "      <td>50</td>\n",
       "      <td>15360</td>\n",
       "      <td>500</td>\n",
       "      <td>20</td>\n",
       "      <td>10</td>\n",
       "      <td>0.03</td>\n",
       "      <td>0.03</td>\n",
       "      <td>15</td>\n",
       "    </tr>\n",
       "    <tr>\n",
       "      <th>9</th>\n",
       "      <td>297.69</td>\n",
       "      <td>44.0</td>\n",
       "      <td>13314.82</td>\n",
       "      <td>Mickey</td>\n",
       "      <td>Wilkerson</td>\n",
       "      <td>28</td>\n",
       "      <td>Seattle-Tacoma-Bellevue, WA MSA</td>\n",
       "      <td>2018-08-13</td>\n",
       "      <td>surf</td>\n",
       "      <td>2022-08-01</td>\n",
       "      <td>50</td>\n",
       "      <td>15360</td>\n",
       "      <td>500</td>\n",
       "      <td>20</td>\n",
       "      <td>10</td>\n",
       "      <td>0.03</td>\n",
       "      <td>0.03</td>\n",
       "      <td>15</td>\n",
       "    </tr>\n",
       "    <tr>\n",
       "      <th>10</th>\n",
       "      <td>372.31</td>\n",
       "      <td>53.0</td>\n",
       "      <td>22330.49</td>\n",
       "      <td>Mickey</td>\n",
       "      <td>Wilkerson</td>\n",
       "      <td>28</td>\n",
       "      <td>Seattle-Tacoma-Bellevue, WA MSA</td>\n",
       "      <td>2018-08-13</td>\n",
       "      <td>surf</td>\n",
       "      <td>2022-08-01</td>\n",
       "      <td>50</td>\n",
       "      <td>15360</td>\n",
       "      <td>500</td>\n",
       "      <td>20</td>\n",
       "      <td>10</td>\n",
       "      <td>0.03</td>\n",
       "      <td>0.03</td>\n",
       "      <td>15</td>\n",
       "    </tr>\n",
       "    <tr>\n",
       "      <th>11</th>\n",
       "      <td>401.53</td>\n",
       "      <td>36.0</td>\n",
       "      <td>18504.30</td>\n",
       "      <td>Mickey</td>\n",
       "      <td>Wilkerson</td>\n",
       "      <td>28</td>\n",
       "      <td>Seattle-Tacoma-Bellevue, WA MSA</td>\n",
       "      <td>2018-08-13</td>\n",
       "      <td>surf</td>\n",
       "      <td>2022-08-01</td>\n",
       "      <td>50</td>\n",
       "      <td>15360</td>\n",
       "      <td>500</td>\n",
       "      <td>20</td>\n",
       "      <td>10</td>\n",
       "      <td>0.03</td>\n",
       "      <td>0.03</td>\n",
       "      <td>15</td>\n",
       "    </tr>\n",
       "    <tr>\n",
       "      <th>12</th>\n",
       "      <td>392.06</td>\n",
       "      <td>44.0</td>\n",
       "      <td>19369.18</td>\n",
       "      <td>Mickey</td>\n",
       "      <td>Wilkerson</td>\n",
       "      <td>28</td>\n",
       "      <td>Seattle-Tacoma-Bellevue, WA MSA</td>\n",
       "      <td>2018-08-13</td>\n",
       "      <td>surf</td>\n",
       "      <td>2022-08-01</td>\n",
       "      <td>50</td>\n",
       "      <td>15360</td>\n",
       "      <td>500</td>\n",
       "      <td>20</td>\n",
       "      <td>10</td>\n",
       "      <td>0.03</td>\n",
       "      <td>0.03</td>\n",
       "      <td>15</td>\n",
       "    </tr>\n",
       "    <tr>\n",
       "      <th rowspan=\"3\" valign=\"top\">1002</th>\n",
       "      <th>10</th>\n",
       "      <td>53.80</td>\n",
       "      <td>15.0</td>\n",
       "      <td>6552.01</td>\n",
       "      <td>Carlee</td>\n",
       "      <td>Hoffman</td>\n",
       "      <td>36</td>\n",
       "      <td>Las Vegas-Henderson-Paradise, NV MSA</td>\n",
       "      <td>2018-10-21</td>\n",
       "      <td>surf</td>\n",
       "      <td>2022-08-01</td>\n",
       "      <td>50</td>\n",
       "      <td>15360</td>\n",
       "      <td>500</td>\n",
       "      <td>20</td>\n",
       "      <td>10</td>\n",
       "      <td>0.03</td>\n",
       "      <td>0.03</td>\n",
       "      <td>15</td>\n",
       "    </tr>\n",
       "    <tr>\n",
       "      <th>11</th>\n",
       "      <td>358.70</td>\n",
       "      <td>32.0</td>\n",
       "      <td>19345.08</td>\n",
       "      <td>Carlee</td>\n",
       "      <td>Hoffman</td>\n",
       "      <td>36</td>\n",
       "      <td>Las Vegas-Henderson-Paradise, NV MSA</td>\n",
       "      <td>2018-10-21</td>\n",
       "      <td>surf</td>\n",
       "      <td>2022-08-01</td>\n",
       "      <td>50</td>\n",
       "      <td>15360</td>\n",
       "      <td>500</td>\n",
       "      <td>20</td>\n",
       "      <td>10</td>\n",
       "      <td>0.03</td>\n",
       "      <td>0.03</td>\n",
       "      <td>15</td>\n",
       "    </tr>\n",
       "    <tr>\n",
       "      <th>12</th>\n",
       "      <td>363.24</td>\n",
       "      <td>41.0</td>\n",
       "      <td>14396.24</td>\n",
       "      <td>Carlee</td>\n",
       "      <td>Hoffman</td>\n",
       "      <td>36</td>\n",
       "      <td>Las Vegas-Henderson-Paradise, NV MSA</td>\n",
       "      <td>2018-10-21</td>\n",
       "      <td>surf</td>\n",
       "      <td>2022-08-01</td>\n",
       "      <td>50</td>\n",
       "      <td>15360</td>\n",
       "      <td>500</td>\n",
       "      <td>20</td>\n",
       "      <td>10</td>\n",
       "      <td>0.03</td>\n",
       "      <td>0.03</td>\n",
       "      <td>15</td>\n",
       "    </tr>\n",
       "    <tr>\n",
       "      <th>1003</th>\n",
       "      <th>12</th>\n",
       "      <td>1038.39</td>\n",
       "      <td>50.0</td>\n",
       "      <td>27044.14</td>\n",
       "      <td>Reynaldo</td>\n",
       "      <td>Jenkins</td>\n",
       "      <td>52</td>\n",
       "      <td>Tulsa, OK MSA</td>\n",
       "      <td>2018-01-28</td>\n",
       "      <td>surf</td>\n",
       "      <td>2022-08-01</td>\n",
       "      <td>50</td>\n",
       "      <td>15360</td>\n",
       "      <td>500</td>\n",
       "      <td>20</td>\n",
       "      <td>10</td>\n",
       "      <td>0.03</td>\n",
       "      <td>0.03</td>\n",
       "      <td>15</td>\n",
       "    </tr>\n",
       "  </tbody>\n",
       "</table>\n",
       "</div>"
      ],
      "text/plain": [
       "               duration_calls  total_messages   mb_used first_name  last_name  \\\n",
       "user_id month                                                                   \n",
       "1000    12             116.83            11.0   1901.47   Anamaria      Bauer   \n",
       "1001    8              170.60            30.0   6919.15     Mickey  Wilkerson   \n",
       "        9              297.69            44.0  13314.82     Mickey  Wilkerson   \n",
       "        10             372.31            53.0  22330.49     Mickey  Wilkerson   \n",
       "        11             401.53            36.0  18504.30     Mickey  Wilkerson   \n",
       "        12             392.06            44.0  19369.18     Mickey  Wilkerson   \n",
       "1002    10              53.80            15.0   6552.01     Carlee    Hoffman   \n",
       "        11             358.70            32.0  19345.08     Carlee    Hoffman   \n",
       "        12             363.24            41.0  14396.24     Carlee    Hoffman   \n",
       "1003    12            1038.39            50.0  27044.14   Reynaldo    Jenkins   \n",
       "\n",
       "               age                                   city   reg_date  \\\n",
       "user_id month                                                          \n",
       "1000    12      45  Atlanta-Sandy Springs-Roswell, GA MSA 2018-12-24   \n",
       "1001    8       28        Seattle-Tacoma-Bellevue, WA MSA 2018-08-13   \n",
       "        9       28        Seattle-Tacoma-Bellevue, WA MSA 2018-08-13   \n",
       "        10      28        Seattle-Tacoma-Bellevue, WA MSA 2018-08-13   \n",
       "        11      28        Seattle-Tacoma-Bellevue, WA MSA 2018-08-13   \n",
       "        12      28        Seattle-Tacoma-Bellevue, WA MSA 2018-08-13   \n",
       "1002    10      36   Las Vegas-Henderson-Paradise, NV MSA 2018-10-21   \n",
       "        11      36   Las Vegas-Henderson-Paradise, NV MSA 2018-10-21   \n",
       "        12      36   Las Vegas-Henderson-Paradise, NV MSA 2018-10-21   \n",
       "1003    12      52                          Tulsa, OK MSA 2018-01-28   \n",
       "\n",
       "                   plan churn_date  messages_included  mb_per_month_included  \\\n",
       "user_id month                                                                  \n",
       "1000    12     ultimate 2022-08-01               1000                  30720   \n",
       "1001    8          surf 2022-08-01                 50                  15360   \n",
       "        9          surf 2022-08-01                 50                  15360   \n",
       "        10         surf 2022-08-01                 50                  15360   \n",
       "        11         surf 2022-08-01                 50                  15360   \n",
       "        12         surf 2022-08-01                 50                  15360   \n",
       "1002    10         surf 2022-08-01                 50                  15360   \n",
       "        11         surf 2022-08-01                 50                  15360   \n",
       "        12         surf 2022-08-01                 50                  15360   \n",
       "1003    12         surf 2022-08-01                 50                  15360   \n",
       "\n",
       "               minutes_included  usd_monthly_pay  usd_per_gb  usd_per_message  \\\n",
       "user_id month                                                                   \n",
       "1000    12                 3000               70           7             0.01   \n",
       "1001    8                   500               20          10             0.03   \n",
       "        9                   500               20          10             0.03   \n",
       "        10                  500               20          10             0.03   \n",
       "        11                  500               20          10             0.03   \n",
       "        12                  500               20          10             0.03   \n",
       "1002    10                  500               20          10             0.03   \n",
       "        11                  500               20          10             0.03   \n",
       "        12                  500               20          10             0.03   \n",
       "1003    12                  500               20          10             0.03   \n",
       "\n",
       "               usd_per_minute  gb_per_month_included  \n",
       "user_id month                                         \n",
       "1000    12               0.01                     30  \n",
       "1001    8                0.03                     15  \n",
       "        9                0.03                     15  \n",
       "        10               0.03                     15  \n",
       "        11               0.03                     15  \n",
       "        12               0.03                     15  \n",
       "1002    10               0.03                     15  \n",
       "        11               0.03                     15  \n",
       "        12               0.03                     15  \n",
       "1003    12               0.03                     15  "
      ]
     },
     "execution_count": 39,
     "metadata": {},
     "output_type": "execute_result"
    }
   ],
   "source": [
    "#Realizamos la seguna unión de las tablas con el archivo de Planes de Megaline para hacer el match a través de la columna de plan.\n",
    "merged_data=merged_data.join(df_plans.set_index('plan'),on='plan')\n",
    "merged_data.head(10)"
   ]
  },
  {
   "cell_type": "markdown",
   "metadata": {},
   "source": [
    "Tenemos lista la tabla con las columnas que nos interesan para el cálculo del total de ingresos por usuario y por mes. \n",
    "\n",
    "\n",
    "\n"
   ]
  },
  {
   "cell_type": "markdown",
   "metadata": {},
   "source": [
    "Se procederá a realizar el redondeo de los minutos de las llamadas telefónicas y el volumen de internet de MB a GB."
   ]
  },
  {
   "cell_type": "code",
   "execution_count": 40,
   "metadata": {},
   "outputs": [
    {
     "data": {
      "text/plain": [
       "user_id  month\n",
       "1000     12       117\n",
       "1001     8        171\n",
       "         9        298\n",
       "         10       373\n",
       "         11       402\n",
       "                 ... \n",
       "1498     12       325\n",
       "1499     9        331\n",
       "         10       362\n",
       "         11       287\n",
       "         12       466\n",
       "Name: duration_calls, Length: 2293, dtype: int64"
      ]
     },
     "execution_count": 40,
     "metadata": {},
     "output_type": "execute_result"
    }
   ],
   "source": [
    "# Redondeamos la columna original de los minutos de las llamadas.\n",
    "merged_data['duration_calls']=np.ceil(merged_data['duration_calls'])\n",
    "merged_data['duration_calls']=merged_data['duration_calls'].astype(int)\n",
    "merged_data['duration_calls']"
   ]
  },
  {
   "cell_type": "markdown",
   "metadata": {},
   "source": [
    "Para la conversión de MG a GB dividiremos para 1024 y aproximaremos a su valor superior, dado que nos interesa saber cuantos Gigas consumieron en su plan y por mes, tambien se cambiará el tipo de dato de la columna que crearemos con el nombre de 'gb_used' a tipo entero."
   ]
  },
  {
   "cell_type": "code",
   "execution_count": 41,
   "metadata": {},
   "outputs": [
    {
     "data": {
      "text/plain": [
       "user_id  month\n",
       "1000     12        2\n",
       "1001     8         7\n",
       "         9        14\n",
       "         10       22\n",
       "         11       19\n",
       "                  ..\n",
       "1498     12       23\n",
       "1499     9        13\n",
       "         10       20\n",
       "         11       17\n",
       "         12       22\n",
       "Name: gb_used, Length: 2293, dtype: int64"
      ]
     },
     "execution_count": 41,
     "metadata": {},
     "output_type": "execute_result"
    }
   ],
   "source": [
    "#Crearemos una columna con el nombre gb_used para identificar esta conversión de MB a GB.\n",
    "merged_data['gb_used']= np.ceil(merged_data['mb_used'] / 1024)\n",
    "merged_data['gb_used'] = merged_data['gb_used'].astype(int)\n",
    "merged_data['gb_used']"
   ]
  },
  {
   "cell_type": "code",
   "execution_count": 42,
   "metadata": {},
   "outputs": [
    {
     "data": {
      "text/html": [
       "<div>\n",
       "<style scoped>\n",
       "    .dataframe tbody tr th:only-of-type {\n",
       "        vertical-align: middle;\n",
       "    }\n",
       "\n",
       "    .dataframe tbody tr th {\n",
       "        vertical-align: top;\n",
       "    }\n",
       "\n",
       "    .dataframe thead th {\n",
       "        text-align: right;\n",
       "    }\n",
       "</style>\n",
       "<table border=\"1\" class=\"dataframe\">\n",
       "  <thead>\n",
       "    <tr style=\"text-align: right;\">\n",
       "      <th></th>\n",
       "      <th></th>\n",
       "      <th>duration_calls</th>\n",
       "      <th>total_messages</th>\n",
       "      <th>mb_used</th>\n",
       "      <th>first_name</th>\n",
       "      <th>last_name</th>\n",
       "      <th>age</th>\n",
       "      <th>city</th>\n",
       "      <th>reg_date</th>\n",
       "      <th>plan</th>\n",
       "      <th>churn_date</th>\n",
       "      <th>messages_included</th>\n",
       "      <th>mb_per_month_included</th>\n",
       "      <th>minutes_included</th>\n",
       "      <th>usd_monthly_pay</th>\n",
       "      <th>usd_per_gb</th>\n",
       "      <th>usd_per_message</th>\n",
       "      <th>usd_per_minute</th>\n",
       "      <th>gb_per_month_included</th>\n",
       "      <th>gb_used</th>\n",
       "    </tr>\n",
       "    <tr>\n",
       "      <th>user_id</th>\n",
       "      <th>month</th>\n",
       "      <th></th>\n",
       "      <th></th>\n",
       "      <th></th>\n",
       "      <th></th>\n",
       "      <th></th>\n",
       "      <th></th>\n",
       "      <th></th>\n",
       "      <th></th>\n",
       "      <th></th>\n",
       "      <th></th>\n",
       "      <th></th>\n",
       "      <th></th>\n",
       "      <th></th>\n",
       "      <th></th>\n",
       "      <th></th>\n",
       "      <th></th>\n",
       "      <th></th>\n",
       "      <th></th>\n",
       "      <th></th>\n",
       "    </tr>\n",
       "  </thead>\n",
       "  <tbody>\n",
       "    <tr>\n",
       "      <th>1000</th>\n",
       "      <th>12</th>\n",
       "      <td>117</td>\n",
       "      <td>11.0</td>\n",
       "      <td>1901.47</td>\n",
       "      <td>Anamaria</td>\n",
       "      <td>Bauer</td>\n",
       "      <td>45</td>\n",
       "      <td>Atlanta-Sandy Springs-Roswell, GA MSA</td>\n",
       "      <td>2018-12-24</td>\n",
       "      <td>ultimate</td>\n",
       "      <td>2022-08-01</td>\n",
       "      <td>1000</td>\n",
       "      <td>30720</td>\n",
       "      <td>3000</td>\n",
       "      <td>70</td>\n",
       "      <td>7</td>\n",
       "      <td>0.01</td>\n",
       "      <td>0.01</td>\n",
       "      <td>30</td>\n",
       "      <td>2</td>\n",
       "    </tr>\n",
       "    <tr>\n",
       "      <th rowspan=\"3\" valign=\"top\">1001</th>\n",
       "      <th>8</th>\n",
       "      <td>171</td>\n",
       "      <td>30.0</td>\n",
       "      <td>6919.15</td>\n",
       "      <td>Mickey</td>\n",
       "      <td>Wilkerson</td>\n",
       "      <td>28</td>\n",
       "      <td>Seattle-Tacoma-Bellevue, WA MSA</td>\n",
       "      <td>2018-08-13</td>\n",
       "      <td>surf</td>\n",
       "      <td>2022-08-01</td>\n",
       "      <td>50</td>\n",
       "      <td>15360</td>\n",
       "      <td>500</td>\n",
       "      <td>20</td>\n",
       "      <td>10</td>\n",
       "      <td>0.03</td>\n",
       "      <td>0.03</td>\n",
       "      <td>15</td>\n",
       "      <td>7</td>\n",
       "    </tr>\n",
       "    <tr>\n",
       "      <th>9</th>\n",
       "      <td>298</td>\n",
       "      <td>44.0</td>\n",
       "      <td>13314.82</td>\n",
       "      <td>Mickey</td>\n",
       "      <td>Wilkerson</td>\n",
       "      <td>28</td>\n",
       "      <td>Seattle-Tacoma-Bellevue, WA MSA</td>\n",
       "      <td>2018-08-13</td>\n",
       "      <td>surf</td>\n",
       "      <td>2022-08-01</td>\n",
       "      <td>50</td>\n",
       "      <td>15360</td>\n",
       "      <td>500</td>\n",
       "      <td>20</td>\n",
       "      <td>10</td>\n",
       "      <td>0.03</td>\n",
       "      <td>0.03</td>\n",
       "      <td>15</td>\n",
       "      <td>14</td>\n",
       "    </tr>\n",
       "    <tr>\n",
       "      <th>10</th>\n",
       "      <td>373</td>\n",
       "      <td>53.0</td>\n",
       "      <td>22330.49</td>\n",
       "      <td>Mickey</td>\n",
       "      <td>Wilkerson</td>\n",
       "      <td>28</td>\n",
       "      <td>Seattle-Tacoma-Bellevue, WA MSA</td>\n",
       "      <td>2018-08-13</td>\n",
       "      <td>surf</td>\n",
       "      <td>2022-08-01</td>\n",
       "      <td>50</td>\n",
       "      <td>15360</td>\n",
       "      <td>500</td>\n",
       "      <td>20</td>\n",
       "      <td>10</td>\n",
       "      <td>0.03</td>\n",
       "      <td>0.03</td>\n",
       "      <td>15</td>\n",
       "      <td>22</td>\n",
       "    </tr>\n",
       "  </tbody>\n",
       "</table>\n",
       "</div>"
      ],
      "text/plain": [
       "               duration_calls  total_messages   mb_used first_name  last_name  \\\n",
       "user_id month                                                                   \n",
       "1000    12                117            11.0   1901.47   Anamaria      Bauer   \n",
       "1001    8                 171            30.0   6919.15     Mickey  Wilkerson   \n",
       "        9                 298            44.0  13314.82     Mickey  Wilkerson   \n",
       "        10                373            53.0  22330.49     Mickey  Wilkerson   \n",
       "\n",
       "               age                                   city   reg_date  \\\n",
       "user_id month                                                          \n",
       "1000    12      45  Atlanta-Sandy Springs-Roswell, GA MSA 2018-12-24   \n",
       "1001    8       28        Seattle-Tacoma-Bellevue, WA MSA 2018-08-13   \n",
       "        9       28        Seattle-Tacoma-Bellevue, WA MSA 2018-08-13   \n",
       "        10      28        Seattle-Tacoma-Bellevue, WA MSA 2018-08-13   \n",
       "\n",
       "                   plan churn_date  messages_included  mb_per_month_included  \\\n",
       "user_id month                                                                  \n",
       "1000    12     ultimate 2022-08-01               1000                  30720   \n",
       "1001    8          surf 2022-08-01                 50                  15360   \n",
       "        9          surf 2022-08-01                 50                  15360   \n",
       "        10         surf 2022-08-01                 50                  15360   \n",
       "\n",
       "               minutes_included  usd_monthly_pay  usd_per_gb  usd_per_message  \\\n",
       "user_id month                                                                   \n",
       "1000    12                 3000               70           7             0.01   \n",
       "1001    8                   500               20          10             0.03   \n",
       "        9                   500               20          10             0.03   \n",
       "        10                  500               20          10             0.03   \n",
       "\n",
       "               usd_per_minute  gb_per_month_included  gb_used  \n",
       "user_id month                                                  \n",
       "1000    12               0.01                     30        2  \n",
       "1001    8                0.03                     15        7  \n",
       "        9                0.03                     15       14  \n",
       "        10               0.03                     15       22  "
      ]
     },
     "execution_count": 42,
     "metadata": {},
     "output_type": "execute_result"
    }
   ],
   "source": [
    "#Comprobaremos si se efectuaron ambos cambios\n",
    "merged_data.head(4)"
   ]
  },
  {
   "cell_type": "markdown",
   "metadata": {},
   "source": [
    "Primero empezaremos con el cálculo de los consumos extras fuera del límite de su plan, lo haremos por cada canal y separar en minutos, mensajes y Gb a través de 3 funciones."
   ]
  },
  {
   "cell_type": "code",
   "execution_count": 43,
   "metadata": {},
   "outputs": [],
   "source": [
    "#Creamos una funcion para identificar los minutos extra consumidos por los clientes. \n",
    "def calls_extra(row):\n",
    "    \n",
    "    duration_calls=row['duration_calls']\n",
    "    plan= row['plan']\n",
    "    \n",
    "    if plan == 'surf':\n",
    "        if duration_calls >= 500:\n",
    "            return duration_calls-500\n",
    "    if plan == 'ultimate':\n",
    "        if duration_calls >=3000:\n",
    "            return duration_calls -3000\n",
    "    return 0"
   ]
  },
  {
   "cell_type": "code",
   "execution_count": 44,
   "metadata": {},
   "outputs": [
    {
     "data": {
      "text/plain": [
       "539"
      ]
     },
     "execution_count": 44,
     "metadata": {},
     "output_type": "execute_result"
    }
   ],
   "source": [
    "#Comprobamos la función con la fila 9 del DataFrame  que tenia mas minutos registrados.\n",
    "calls_extra(merged_data.iloc[9])"
   ]
  },
  {
   "cell_type": "code",
   "execution_count": 45,
   "metadata": {},
   "outputs": [],
   "source": [
    "#Aplicaremos la función al DataFrame y utilizaremos try y except para comprobar si funciona.\n",
    "try:\n",
    "    merged_data['calls_extra']=merged_data.apply(calls_extra, axis=1)\n",
    "    \n",
    "except:\n",
    "    print('Error de función')"
   ]
  },
  {
   "cell_type": "code",
   "execution_count": 46,
   "metadata": {},
   "outputs": [],
   "source": [
    "#Creamos una funcion para identificar los mensajes extras enviados por los clientes. \n",
    "def messages_extra(row):\n",
    "    \n",
    "    total_messages=row['total_messages']\n",
    "    plan= row['plan']\n",
    "    \n",
    "    if plan == 'surf':\n",
    "        if total_messages >= 50:\n",
    "            return total_messages-50\n",
    "    if plan == 'ultimate':\n",
    "        if total_messages >=1000:\n",
    "            return total_messages -1000\n",
    "    return 0"
   ]
  },
  {
   "cell_type": "code",
   "execution_count": 47,
   "metadata": {},
   "outputs": [
    {
     "data": {
      "text/plain": [
       "3.0"
      ]
     },
     "execution_count": 47,
     "metadata": {},
     "output_type": "execute_result"
    }
   ],
   "source": [
    "#Comprobamos la función con la fila 3 del DataFrame  que tenia mas mensajes enviados.\n",
    "messages_extra(merged_data.iloc[3])"
   ]
  },
  {
   "cell_type": "code",
   "execution_count": 48,
   "metadata": {},
   "outputs": [],
   "source": [
    "#Aplicaremos la función al DataFrame y utilizaremos try y except para comprobar si funciona.\n",
    "try:\n",
    "    merged_data['messages_extra']=merged_data.apply(messages_extra, axis=1)\n",
    "    \n",
    "except:\n",
    "    print('Error de función')"
   ]
  },
  {
   "cell_type": "code",
   "execution_count": 49,
   "metadata": {},
   "outputs": [],
   "source": [
    "#Creamos una funcion para identificar los GB extras consumidos por los clientes.\n",
    "def gb_extra(row):\n",
    "    \n",
    "    gb_used=row['gb_used']\n",
    "    plan= row['plan']\n",
    "    \n",
    "    if plan== 'surf':\n",
    "        if gb_used >= 15:\n",
    "            return gb_used-15\n",
    "    if plan == 'ultimate':\n",
    "        if gb_used >=30:\n",
    "            return gb_used -30\n",
    "    return 0"
   ]
  },
  {
   "cell_type": "code",
   "execution_count": 50,
   "metadata": {},
   "outputs": [
    {
     "data": {
      "text/plain": [
       "7"
      ]
     },
     "execution_count": 50,
     "metadata": {},
     "output_type": "execute_result"
    }
   ],
   "source": [
    "#Comprobamos la función con la fila 7 del DataFrame  que tenia mas mensajes enviados.\n",
    "gb_extra(merged_data.iloc[3])"
   ]
  },
  {
   "cell_type": "code",
   "execution_count": 51,
   "metadata": {},
   "outputs": [],
   "source": [
    "#Aplicaremos la función al DataFrame y utilizaremos try y except para comprobar si funciona.\n",
    "try:\n",
    "    merged_data['gb_extra']=merged_data.apply(gb_extra, axis=1)\n",
    "    \n",
    "except:\n",
    "    print('Error de función')"
   ]
  },
  {
   "cell_type": "code",
   "execution_count": 52,
   "metadata": {},
   "outputs": [
    {
     "data": {
      "text/html": [
       "<div>\n",
       "<style scoped>\n",
       "    .dataframe tbody tr th:only-of-type {\n",
       "        vertical-align: middle;\n",
       "    }\n",
       "\n",
       "    .dataframe tbody tr th {\n",
       "        vertical-align: top;\n",
       "    }\n",
       "\n",
       "    .dataframe thead th {\n",
       "        text-align: right;\n",
       "    }\n",
       "</style>\n",
       "<table border=\"1\" class=\"dataframe\">\n",
       "  <thead>\n",
       "    <tr style=\"text-align: right;\">\n",
       "      <th></th>\n",
       "      <th></th>\n",
       "      <th>duration_calls</th>\n",
       "      <th>total_messages</th>\n",
       "      <th>mb_used</th>\n",
       "      <th>first_name</th>\n",
       "      <th>last_name</th>\n",
       "      <th>age</th>\n",
       "      <th>city</th>\n",
       "      <th>reg_date</th>\n",
       "      <th>plan</th>\n",
       "      <th>churn_date</th>\n",
       "      <th>...</th>\n",
       "      <th>minutes_included</th>\n",
       "      <th>usd_monthly_pay</th>\n",
       "      <th>usd_per_gb</th>\n",
       "      <th>usd_per_message</th>\n",
       "      <th>usd_per_minute</th>\n",
       "      <th>gb_per_month_included</th>\n",
       "      <th>gb_used</th>\n",
       "      <th>calls_extra</th>\n",
       "      <th>messages_extra</th>\n",
       "      <th>gb_extra</th>\n",
       "    </tr>\n",
       "    <tr>\n",
       "      <th>user_id</th>\n",
       "      <th>month</th>\n",
       "      <th></th>\n",
       "      <th></th>\n",
       "      <th></th>\n",
       "      <th></th>\n",
       "      <th></th>\n",
       "      <th></th>\n",
       "      <th></th>\n",
       "      <th></th>\n",
       "      <th></th>\n",
       "      <th></th>\n",
       "      <th></th>\n",
       "      <th></th>\n",
       "      <th></th>\n",
       "      <th></th>\n",
       "      <th></th>\n",
       "      <th></th>\n",
       "      <th></th>\n",
       "      <th></th>\n",
       "      <th></th>\n",
       "      <th></th>\n",
       "      <th></th>\n",
       "    </tr>\n",
       "  </thead>\n",
       "  <tbody>\n",
       "    <tr>\n",
       "      <th>1000</th>\n",
       "      <th>12</th>\n",
       "      <td>117</td>\n",
       "      <td>11.0</td>\n",
       "      <td>1901.47</td>\n",
       "      <td>Anamaria</td>\n",
       "      <td>Bauer</td>\n",
       "      <td>45</td>\n",
       "      <td>Atlanta-Sandy Springs-Roswell, GA MSA</td>\n",
       "      <td>2018-12-24</td>\n",
       "      <td>ultimate</td>\n",
       "      <td>2022-08-01</td>\n",
       "      <td>...</td>\n",
       "      <td>3000</td>\n",
       "      <td>70</td>\n",
       "      <td>7</td>\n",
       "      <td>0.01</td>\n",
       "      <td>0.01</td>\n",
       "      <td>30</td>\n",
       "      <td>2</td>\n",
       "      <td>0</td>\n",
       "      <td>0.0</td>\n",
       "      <td>0</td>\n",
       "    </tr>\n",
       "    <tr>\n",
       "      <th rowspan=\"4\" valign=\"top\">1001</th>\n",
       "      <th>8</th>\n",
       "      <td>171</td>\n",
       "      <td>30.0</td>\n",
       "      <td>6919.15</td>\n",
       "      <td>Mickey</td>\n",
       "      <td>Wilkerson</td>\n",
       "      <td>28</td>\n",
       "      <td>Seattle-Tacoma-Bellevue, WA MSA</td>\n",
       "      <td>2018-08-13</td>\n",
       "      <td>surf</td>\n",
       "      <td>2022-08-01</td>\n",
       "      <td>...</td>\n",
       "      <td>500</td>\n",
       "      <td>20</td>\n",
       "      <td>10</td>\n",
       "      <td>0.03</td>\n",
       "      <td>0.03</td>\n",
       "      <td>15</td>\n",
       "      <td>7</td>\n",
       "      <td>0</td>\n",
       "      <td>0.0</td>\n",
       "      <td>0</td>\n",
       "    </tr>\n",
       "    <tr>\n",
       "      <th>9</th>\n",
       "      <td>298</td>\n",
       "      <td>44.0</td>\n",
       "      <td>13314.82</td>\n",
       "      <td>Mickey</td>\n",
       "      <td>Wilkerson</td>\n",
       "      <td>28</td>\n",
       "      <td>Seattle-Tacoma-Bellevue, WA MSA</td>\n",
       "      <td>2018-08-13</td>\n",
       "      <td>surf</td>\n",
       "      <td>2022-08-01</td>\n",
       "      <td>...</td>\n",
       "      <td>500</td>\n",
       "      <td>20</td>\n",
       "      <td>10</td>\n",
       "      <td>0.03</td>\n",
       "      <td>0.03</td>\n",
       "      <td>15</td>\n",
       "      <td>14</td>\n",
       "      <td>0</td>\n",
       "      <td>0.0</td>\n",
       "      <td>0</td>\n",
       "    </tr>\n",
       "    <tr>\n",
       "      <th>10</th>\n",
       "      <td>373</td>\n",
       "      <td>53.0</td>\n",
       "      <td>22330.49</td>\n",
       "      <td>Mickey</td>\n",
       "      <td>Wilkerson</td>\n",
       "      <td>28</td>\n",
       "      <td>Seattle-Tacoma-Bellevue, WA MSA</td>\n",
       "      <td>2018-08-13</td>\n",
       "      <td>surf</td>\n",
       "      <td>2022-08-01</td>\n",
       "      <td>...</td>\n",
       "      <td>500</td>\n",
       "      <td>20</td>\n",
       "      <td>10</td>\n",
       "      <td>0.03</td>\n",
       "      <td>0.03</td>\n",
       "      <td>15</td>\n",
       "      <td>22</td>\n",
       "      <td>0</td>\n",
       "      <td>3.0</td>\n",
       "      <td>7</td>\n",
       "    </tr>\n",
       "    <tr>\n",
       "      <th>11</th>\n",
       "      <td>402</td>\n",
       "      <td>36.0</td>\n",
       "      <td>18504.30</td>\n",
       "      <td>Mickey</td>\n",
       "      <td>Wilkerson</td>\n",
       "      <td>28</td>\n",
       "      <td>Seattle-Tacoma-Bellevue, WA MSA</td>\n",
       "      <td>2018-08-13</td>\n",
       "      <td>surf</td>\n",
       "      <td>2022-08-01</td>\n",
       "      <td>...</td>\n",
       "      <td>500</td>\n",
       "      <td>20</td>\n",
       "      <td>10</td>\n",
       "      <td>0.03</td>\n",
       "      <td>0.03</td>\n",
       "      <td>15</td>\n",
       "      <td>19</td>\n",
       "      <td>0</td>\n",
       "      <td>0.0</td>\n",
       "      <td>4</td>\n",
       "    </tr>\n",
       "  </tbody>\n",
       "</table>\n",
       "<p>5 rows × 22 columns</p>\n",
       "</div>"
      ],
      "text/plain": [
       "               duration_calls  total_messages   mb_used first_name  last_name  \\\n",
       "user_id month                                                                   \n",
       "1000    12                117            11.0   1901.47   Anamaria      Bauer   \n",
       "1001    8                 171            30.0   6919.15     Mickey  Wilkerson   \n",
       "        9                 298            44.0  13314.82     Mickey  Wilkerson   \n",
       "        10                373            53.0  22330.49     Mickey  Wilkerson   \n",
       "        11                402            36.0  18504.30     Mickey  Wilkerson   \n",
       "\n",
       "               age                                   city   reg_date  \\\n",
       "user_id month                                                          \n",
       "1000    12      45  Atlanta-Sandy Springs-Roswell, GA MSA 2018-12-24   \n",
       "1001    8       28        Seattle-Tacoma-Bellevue, WA MSA 2018-08-13   \n",
       "        9       28        Seattle-Tacoma-Bellevue, WA MSA 2018-08-13   \n",
       "        10      28        Seattle-Tacoma-Bellevue, WA MSA 2018-08-13   \n",
       "        11      28        Seattle-Tacoma-Bellevue, WA MSA 2018-08-13   \n",
       "\n",
       "                   plan churn_date  ...  minutes_included  usd_monthly_pay  \\\n",
       "user_id month                       ...                                      \n",
       "1000    12     ultimate 2022-08-01  ...              3000               70   \n",
       "1001    8          surf 2022-08-01  ...               500               20   \n",
       "        9          surf 2022-08-01  ...               500               20   \n",
       "        10         surf 2022-08-01  ...               500               20   \n",
       "        11         surf 2022-08-01  ...               500               20   \n",
       "\n",
       "               usd_per_gb  usd_per_message  usd_per_minute  \\\n",
       "user_id month                                                \n",
       "1000    12              7             0.01            0.01   \n",
       "1001    8              10             0.03            0.03   \n",
       "        9              10             0.03            0.03   \n",
       "        10             10             0.03            0.03   \n",
       "        11             10             0.03            0.03   \n",
       "\n",
       "               gb_per_month_included  gb_used  calls_extra  messages_extra  \\\n",
       "user_id month                                                                \n",
       "1000    12                        30        2            0             0.0   \n",
       "1001    8                         15        7            0             0.0   \n",
       "        9                         15       14            0             0.0   \n",
       "        10                        15       22            0             3.0   \n",
       "        11                        15       19            0             0.0   \n",
       "\n",
       "               gb_extra  \n",
       "user_id month            \n",
       "1000    12            0  \n",
       "1001    8             0  \n",
       "        9             0  \n",
       "        10            7  \n",
       "        11            4  \n",
       "\n",
       "[5 rows x 22 columns]"
      ]
     },
     "execution_count": 52,
     "metadata": {},
     "output_type": "execute_result"
    }
   ],
   "source": [
    "#Imprimimos las primeras 5 filas del DataFrame para ver las columnas que hemos agregado.\n",
    "merged_data.head(5)"
   ]
  },
  {
   "cell_type": "markdown",
   "metadata": {},
   "source": [
    "* Podemos ver en la tabla de resultados, que el primer usuario en el mes de diciembre no tuvo consumos adicionales fuera de su plan por cada canal porque estan valores en 0.\n",
    "\n",
    "* El cliente 1001 el mes de octubre tenía contratado su plan de Surf y vemos que excedió 3 mensajes y en 22 GB adicionales.\n",
    "\n",
    "* Con estas 3 columnas que hemos creado más adelante nos servirán para analizar el comportamiento de compra por cada plan.\n",
    "\n",
    "* Dado que tenemos identificado los minutos,mensajes y GB extras tenemos que resumirlos a términos de ingresos para Megaline, a continuación aplicaremos una función para cálcular el ingreso total. "
   ]
  },
  {
   "cell_type": "code",
   "execution_count": 53,
   "metadata": {},
   "outputs": [],
   "source": [
    "#Creamos otra función para conocer el ingreso total de cada cliente de acuerdo a las tarifas base de cada plan y los costos extras por canal.\n",
    "def Ingreso_Total(row):\n",
    "    \n",
    "    total_messages=row['total_messages']\n",
    "    plan= row['plan']\n",
    "    duration_calls=row['duration_calls']\n",
    "    plan= row['plan']\n",
    "    gb_used=row['gb_used']\n",
    "    plan= row['plan']\n",
    "    \n",
    "#Si el plan es surf aplicamos cargos adicionales: 0.03 centavos por cada minuto extra,0.03 por mensajes y $10 por cada GB y sumamos la tarifa base.       \n",
    "    if plan == 'surf':\n",
    "        if total_messages >= 50 and duration_calls >=500 and gb_used>=15:\n",
    "            return ((total_messages-50)*0.03+(duration_calls -500)*0.03+(gb_used-15)*10) + 20\n",
    "        \n",
    "        if total_messages < 50 and duration_calls >=500 and gb_used>=15:\n",
    "            return ((duration_calls -500)*0.03+(gb_used-15)*10) + 20\n",
    "        \n",
    "        if total_messages >= 50 and duration_calls <500 and gb_used>=15:\n",
    "            return ((total_messages-50)*0.03+(gb_used-15)*10) + 20\n",
    "        \n",
    "        if total_messages >= 50 and duration_calls >=500 and gb_used<15:\n",
    "            return ((total_messages-50)*0.03+(duration_calls -500)*0.03) + 20\n",
    "        \n",
    "        if total_messages < 50 and duration_calls <500 and gb_used<15:\n",
    "            return  20\n",
    "        \n",
    "        if total_messages >= 50 and duration_calls <500 and gb_used <15:\n",
    "            return ((total_messages-50)*0.03) + 20\n",
    "        \n",
    "        if total_messages < 50 and duration_calls <500 and gb_used >=15:\n",
    "            return ((gb_used-15)*10) + 20\n",
    "        \n",
    "        if total_messages < 50 and duration_calls >=500 and gb_used <15:\n",
    "            return ((duration_calls -500)*0.03) + 20\n",
    "                            \n",
    "                  \n",
    "#Si el plan es surf aplicamos cargos adicionales: 0.01 centavos por cada minuto extra,0.01 por mensajes y $7 por cada GB y sumamos la tarifa base.        \n",
    "    if plan == 'ultimate':\n",
    "        if total_messages >=1000 and duration_calls >=3000 and  gb_used >=30:\n",
    "            return ((total_messages -1000)*0.01+(duration_calls -3000)*0.01+(gb_used -30)*7)+70\n",
    "        \n",
    "        if total_messages < 1000 and duration_calls >=3000 and gb_used>=30:\n",
    "            return ((duration_calls -300)*0.01+(gb_used-30)*7) + 70\n",
    "        \n",
    "        if total_messages >= 1000 and duration_calls <3000 and gb_used>=30:\n",
    "            return ((total_messages-1000)*0.01+(gb_used-30)*7) + 70\n",
    "        \n",
    "        if total_messages >= 1000 and duration_calls >=3000 and gb_used<30:\n",
    "            return ((total_messages-1000)*0.01+(duration_calls -3000)*0.01) + 70\n",
    "        \n",
    "        if total_messages < 1000 and duration_calls <3000 and gb_used<30:\n",
    "            return  70\n",
    "        \n",
    "        if total_messages >= 1000 and duration_calls <3000 and gb_used <30:\n",
    "            return ((total_messages-1000)*0.01) + 70\n",
    "        \n",
    "        if total_messages < 1000 and duration_calls <3000 and gb_used >=30:\n",
    "            return ((gb_used-30)*7) + 70\n",
    "        \n",
    "        if total_messages < 1000 and duration_calls >=3000 and gb_used <30:\n",
    "            return ((duration_calls -3000)*0.01) + 70  \n",
    "        \n",
    "          \n",
    "    return 70"
   ]
  },
  {
   "cell_type": "code",
   "execution_count": 54,
   "metadata": {},
   "outputs": [],
   "source": [
    "try: \n",
    "    merged_data['Ingreso_Total']= merged_data.apply(Ingreso_Total, axis=1)\n",
    "except: \n",
    "    print('Error de función')"
   ]
  },
  {
   "cell_type": "code",
   "execution_count": 55,
   "metadata": {},
   "outputs": [
    {
     "data": {
      "text/html": [
       "<div>\n",
       "<style scoped>\n",
       "    .dataframe tbody tr th:only-of-type {\n",
       "        vertical-align: middle;\n",
       "    }\n",
       "\n",
       "    .dataframe tbody tr th {\n",
       "        vertical-align: top;\n",
       "    }\n",
       "\n",
       "    .dataframe thead th {\n",
       "        text-align: right;\n",
       "    }\n",
       "</style>\n",
       "<table border=\"1\" class=\"dataframe\">\n",
       "  <thead>\n",
       "    <tr style=\"text-align: right;\">\n",
       "      <th></th>\n",
       "      <th></th>\n",
       "      <th>duration_calls</th>\n",
       "      <th>total_messages</th>\n",
       "      <th>mb_used</th>\n",
       "      <th>first_name</th>\n",
       "      <th>last_name</th>\n",
       "      <th>age</th>\n",
       "      <th>city</th>\n",
       "      <th>reg_date</th>\n",
       "      <th>plan</th>\n",
       "      <th>churn_date</th>\n",
       "      <th>...</th>\n",
       "      <th>usd_monthly_pay</th>\n",
       "      <th>usd_per_gb</th>\n",
       "      <th>usd_per_message</th>\n",
       "      <th>usd_per_minute</th>\n",
       "      <th>gb_per_month_included</th>\n",
       "      <th>gb_used</th>\n",
       "      <th>calls_extra</th>\n",
       "      <th>messages_extra</th>\n",
       "      <th>gb_extra</th>\n",
       "      <th>Ingreso_Total</th>\n",
       "    </tr>\n",
       "    <tr>\n",
       "      <th>user_id</th>\n",
       "      <th>month</th>\n",
       "      <th></th>\n",
       "      <th></th>\n",
       "      <th></th>\n",
       "      <th></th>\n",
       "      <th></th>\n",
       "      <th></th>\n",
       "      <th></th>\n",
       "      <th></th>\n",
       "      <th></th>\n",
       "      <th></th>\n",
       "      <th></th>\n",
       "      <th></th>\n",
       "      <th></th>\n",
       "      <th></th>\n",
       "      <th></th>\n",
       "      <th></th>\n",
       "      <th></th>\n",
       "      <th></th>\n",
       "      <th></th>\n",
       "      <th></th>\n",
       "      <th></th>\n",
       "    </tr>\n",
       "  </thead>\n",
       "  <tbody>\n",
       "    <tr>\n",
       "      <th>1000</th>\n",
       "      <th>12</th>\n",
       "      <td>117</td>\n",
       "      <td>11.0</td>\n",
       "      <td>1901.47</td>\n",
       "      <td>Anamaria</td>\n",
       "      <td>Bauer</td>\n",
       "      <td>45</td>\n",
       "      <td>Atlanta-Sandy Springs-Roswell, GA MSA</td>\n",
       "      <td>2018-12-24</td>\n",
       "      <td>ultimate</td>\n",
       "      <td>2022-08-01</td>\n",
       "      <td>...</td>\n",
       "      <td>70</td>\n",
       "      <td>7</td>\n",
       "      <td>0.01</td>\n",
       "      <td>0.01</td>\n",
       "      <td>30</td>\n",
       "      <td>2</td>\n",
       "      <td>0</td>\n",
       "      <td>0.0</td>\n",
       "      <td>0</td>\n",
       "      <td>70.00</td>\n",
       "    </tr>\n",
       "    <tr>\n",
       "      <th rowspan=\"4\" valign=\"top\">1001</th>\n",
       "      <th>8</th>\n",
       "      <td>171</td>\n",
       "      <td>30.0</td>\n",
       "      <td>6919.15</td>\n",
       "      <td>Mickey</td>\n",
       "      <td>Wilkerson</td>\n",
       "      <td>28</td>\n",
       "      <td>Seattle-Tacoma-Bellevue, WA MSA</td>\n",
       "      <td>2018-08-13</td>\n",
       "      <td>surf</td>\n",
       "      <td>2022-08-01</td>\n",
       "      <td>...</td>\n",
       "      <td>20</td>\n",
       "      <td>10</td>\n",
       "      <td>0.03</td>\n",
       "      <td>0.03</td>\n",
       "      <td>15</td>\n",
       "      <td>7</td>\n",
       "      <td>0</td>\n",
       "      <td>0.0</td>\n",
       "      <td>0</td>\n",
       "      <td>20.00</td>\n",
       "    </tr>\n",
       "    <tr>\n",
       "      <th>9</th>\n",
       "      <td>298</td>\n",
       "      <td>44.0</td>\n",
       "      <td>13314.82</td>\n",
       "      <td>Mickey</td>\n",
       "      <td>Wilkerson</td>\n",
       "      <td>28</td>\n",
       "      <td>Seattle-Tacoma-Bellevue, WA MSA</td>\n",
       "      <td>2018-08-13</td>\n",
       "      <td>surf</td>\n",
       "      <td>2022-08-01</td>\n",
       "      <td>...</td>\n",
       "      <td>20</td>\n",
       "      <td>10</td>\n",
       "      <td>0.03</td>\n",
       "      <td>0.03</td>\n",
       "      <td>15</td>\n",
       "      <td>14</td>\n",
       "      <td>0</td>\n",
       "      <td>0.0</td>\n",
       "      <td>0</td>\n",
       "      <td>20.00</td>\n",
       "    </tr>\n",
       "    <tr>\n",
       "      <th>10</th>\n",
       "      <td>373</td>\n",
       "      <td>53.0</td>\n",
       "      <td>22330.49</td>\n",
       "      <td>Mickey</td>\n",
       "      <td>Wilkerson</td>\n",
       "      <td>28</td>\n",
       "      <td>Seattle-Tacoma-Bellevue, WA MSA</td>\n",
       "      <td>2018-08-13</td>\n",
       "      <td>surf</td>\n",
       "      <td>2022-08-01</td>\n",
       "      <td>...</td>\n",
       "      <td>20</td>\n",
       "      <td>10</td>\n",
       "      <td>0.03</td>\n",
       "      <td>0.03</td>\n",
       "      <td>15</td>\n",
       "      <td>22</td>\n",
       "      <td>0</td>\n",
       "      <td>3.0</td>\n",
       "      <td>7</td>\n",
       "      <td>90.09</td>\n",
       "    </tr>\n",
       "    <tr>\n",
       "      <th>11</th>\n",
       "      <td>402</td>\n",
       "      <td>36.0</td>\n",
       "      <td>18504.30</td>\n",
       "      <td>Mickey</td>\n",
       "      <td>Wilkerson</td>\n",
       "      <td>28</td>\n",
       "      <td>Seattle-Tacoma-Bellevue, WA MSA</td>\n",
       "      <td>2018-08-13</td>\n",
       "      <td>surf</td>\n",
       "      <td>2022-08-01</td>\n",
       "      <td>...</td>\n",
       "      <td>20</td>\n",
       "      <td>10</td>\n",
       "      <td>0.03</td>\n",
       "      <td>0.03</td>\n",
       "      <td>15</td>\n",
       "      <td>19</td>\n",
       "      <td>0</td>\n",
       "      <td>0.0</td>\n",
       "      <td>4</td>\n",
       "      <td>60.00</td>\n",
       "    </tr>\n",
       "  </tbody>\n",
       "</table>\n",
       "<p>5 rows × 23 columns</p>\n",
       "</div>"
      ],
      "text/plain": [
       "               duration_calls  total_messages   mb_used first_name  last_name  \\\n",
       "user_id month                                                                   \n",
       "1000    12                117            11.0   1901.47   Anamaria      Bauer   \n",
       "1001    8                 171            30.0   6919.15     Mickey  Wilkerson   \n",
       "        9                 298            44.0  13314.82     Mickey  Wilkerson   \n",
       "        10                373            53.0  22330.49     Mickey  Wilkerson   \n",
       "        11                402            36.0  18504.30     Mickey  Wilkerson   \n",
       "\n",
       "               age                                   city   reg_date  \\\n",
       "user_id month                                                          \n",
       "1000    12      45  Atlanta-Sandy Springs-Roswell, GA MSA 2018-12-24   \n",
       "1001    8       28        Seattle-Tacoma-Bellevue, WA MSA 2018-08-13   \n",
       "        9       28        Seattle-Tacoma-Bellevue, WA MSA 2018-08-13   \n",
       "        10      28        Seattle-Tacoma-Bellevue, WA MSA 2018-08-13   \n",
       "        11      28        Seattle-Tacoma-Bellevue, WA MSA 2018-08-13   \n",
       "\n",
       "                   plan churn_date  ...  usd_monthly_pay  usd_per_gb  \\\n",
       "user_id month                       ...                                \n",
       "1000    12     ultimate 2022-08-01  ...               70           7   \n",
       "1001    8          surf 2022-08-01  ...               20          10   \n",
       "        9          surf 2022-08-01  ...               20          10   \n",
       "        10         surf 2022-08-01  ...               20          10   \n",
       "        11         surf 2022-08-01  ...               20          10   \n",
       "\n",
       "               usd_per_message  usd_per_minute  gb_per_month_included  \\\n",
       "user_id month                                                           \n",
       "1000    12                0.01            0.01                     30   \n",
       "1001    8                 0.03            0.03                     15   \n",
       "        9                 0.03            0.03                     15   \n",
       "        10                0.03            0.03                     15   \n",
       "        11                0.03            0.03                     15   \n",
       "\n",
       "               gb_used  calls_extra  messages_extra  gb_extra  Ingreso_Total  \n",
       "user_id month                                                                 \n",
       "1000    12           2            0             0.0         0          70.00  \n",
       "1001    8            7            0             0.0         0          20.00  \n",
       "        9           14            0             0.0         0          20.00  \n",
       "        10          22            0             3.0         7          90.09  \n",
       "        11          19            0             0.0         4          60.00  \n",
       "\n",
       "[5 rows x 23 columns]"
      ]
     },
     "execution_count": 55,
     "metadata": {},
     "output_type": "execute_result"
    }
   ],
   "source": [
    "#Comprobamos que se haya añadido\n",
    "merged_data.head(5)"
   ]
  },
  {
   "cell_type": "markdown",
   "metadata": {},
   "source": [
    " A continuación para verificar aplicaremos la función a una fila y tambien por medio de iloc para comprobar los resultados."
   ]
  },
  {
   "cell_type": "code",
   "execution_count": 56,
   "metadata": {},
   "outputs": [
    {
     "data": {
      "text/plain": [
       "42.64"
      ]
     },
     "execution_count": 56,
     "metadata": {},
     "output_type": "execute_result"
    }
   ],
   "source": [
    "#Aplicamos la función con la fila 1998 del DataFrame\n",
    "Ingreso_Total(merged_data.iloc[1998])"
   ]
  },
  {
   "cell_type": "code",
   "execution_count": 57,
   "metadata": {},
   "outputs": [
    {
     "data": {
      "text/plain": [
       "duration_calls                                     588\n",
       "total_messages                                    28.0\n",
       "mb_used                                       17051.28\n",
       "first_name                                    Asuncion\n",
       "last_name                                       Conrad\n",
       "age                                                 66\n",
       "city                     Phoenix-Mesa-Chandler, AZ MSA\n",
       "reg_date                           2018-10-23 00:00:00\n",
       "plan                                              surf\n",
       "churn_date                         2022-08-01 00:00:00\n",
       "messages_included                                   50\n",
       "mb_per_month_included                            15360\n",
       "minutes_included                                   500\n",
       "usd_monthly_pay                                     20\n",
       "usd_per_gb                                          10\n",
       "usd_per_message                                   0.03\n",
       "usd_per_minute                                    0.03\n",
       "gb_per_month_included                               15\n",
       "gb_used                                             17\n",
       "calls_extra                                         88\n",
       "messages_extra                                     0.0\n",
       "gb_extra                                             2\n",
       "Ingreso_Total                                    42.64\n",
       "Name: (1428, 11), dtype: object"
      ]
     },
     "execution_count": 57,
     "metadata": {},
     "output_type": "execute_result"
    }
   ],
   "source": [
    "#Usamos iloc para ver el detalle de la fila 1998\n",
    "merged_data.iloc[1998]"
   ]
  },
  {
   "cell_type": "markdown",
   "metadata": {},
   "source": [
    "Listo, podemos ver con este ejemplo que se ha efectuado el cálculo. El cliente es del plan Surf, se pasó 88 minutos y 2 GB lo que se traduce en 22.64 dolares extras, adicional su tarifa base de 20 da un ingreso total de 42.64 dólares.\n"
   ]
  },
  {
   "cell_type": "markdown",
   "metadata": {},
   "source": [
    "<div class=\"alert alert-info\"> <b>Comentario del estudiante:</b> Listo, he creado 3 funciones por separado para conocer los consumos extras por canal y la ultima con el ingreso total(fijo + variable).</div>"
   ]
  },
  {
   "cell_type": "code",
   "execution_count": 58,
   "metadata": {},
   "outputs": [
    {
     "data": {
      "text/plain": [
       "duration_calls           0\n",
       "total_messages           0\n",
       "mb_used                  0\n",
       "first_name               0\n",
       "last_name                0\n",
       "age                      0\n",
       "city                     0\n",
       "reg_date                 0\n",
       "plan                     0\n",
       "churn_date               0\n",
       "messages_included        0\n",
       "mb_per_month_included    0\n",
       "minutes_included         0\n",
       "usd_monthly_pay          0\n",
       "usd_per_gb               0\n",
       "usd_per_message          0\n",
       "usd_per_minute           0\n",
       "gb_per_month_included    0\n",
       "gb_used                  0\n",
       "calls_extra              0\n",
       "messages_extra           0\n",
       "gb_extra                 0\n",
       "Ingreso_Total            0\n",
       "dtype: int64"
      ]
     },
     "execution_count": 58,
     "metadata": {},
     "output_type": "execute_result"
    }
   ],
   "source": [
    "#Finalmente volvemos a comprobar si no tenemos valores ausentes:\n",
    "merged_data.isna().sum()"
   ]
  },
  {
   "cell_type": "markdown",
   "metadata": {},
   "source": [
    "A través de la función hemos creado una nueva columna que contiene el total de ingresos por cada cliente y por cada mes y para contemplarlo graficamente realizaremos 2 gráficos de barra para observar en cual plan se obtiene mayores ingresos."
   ]
  },
  {
   "cell_type": "markdown",
   "metadata": {},
   "source": [
    "<div class=\"alert alert-info\"> <b>Comentario del estudiante:</b> Listo, gracias.</div>"
   ]
  },
  {
   "cell_type": "markdown",
   "metadata": {},
   "source": [
    "**Ingreso Total por tarifa:**"
   ]
  },
  {
   "cell_type": "code",
   "execution_count": 59,
   "metadata": {},
   "outputs": [
    {
     "data": {
      "image/png": "[encoded data removed]",
      "text/plain": [
       "<Figure size 432x288 with 1 Axes>"
      ]
     },
     "metadata": {
      "needs_background": "light"
     },
     "output_type": "display_data"
    }
   ],
   "source": [
    "merged_pivot1=merged_data.pivot_table(index='plan',values='Ingreso_Total',aggfunc='sum')\n",
    "merged_pivot_sort=merged_pivot1['Ingreso_Total'].sort_values(ascending=True)\n",
    "merged_pivot_bar=merged_pivot_sort.plot(kind='bar',title='Total de ingresos por tarifa en el 2018', grid=True)"
   ]
  },
  {
   "cell_type": "markdown",
   "metadata": {},
   "source": [
    "* Podemos observar una gran diferencia entre ambos planes, siendo Surf la principal tarifa que trae mayores ingresos totales de nuestra base de clientes en el 2018 con un total de 95.000 dólares.\n",
    "* La razón es porque el plan Surf tiene cargos adicionales mucho más altas que Ultimate cuando se pasan de los límites establecidos. \n",
    "* De igual manera Surf es la tarifa más económica a tan solo 20 dólares comparado con Ultimate por un valor de 70 dólares, por lo tanto hay mayores clientes en la tarfia de Surf que prefieren pagar los cargos extras que es un monto variable según su consumo en lugar de pagar un valor fijo de 70.\n",
    "* El equipo comercial se debería enfocar en la tarifa Surf porque tiene un potencial muy alto en rentabilidad y la diferencia con el plan Ultimate son 45.000 dólares aproximadamente."
   ]
  },
  {
   "cell_type": "markdown",
   "metadata": {},
   "source": [
    "**Ingreso Total por mes:**"
   ]
  },
  {
   "cell_type": "code",
   "execution_count": 60,
   "metadata": {},
   "outputs": [
    {
     "data": {
      "image/png": "[encoded data removed]",
      "text/plain": [
       "<Figure size 432x288 with 1 Axes>"
      ]
     },
     "metadata": {
      "needs_background": "light"
     },
     "output_type": "display_data"
    }
   ],
   "source": [
    "merged_pivot2=merged_data.pivot_table(index='month',values='Ingreso_Total',aggfunc='sum')\n",
    "merged_pivot_sort=merged_pivot2['Ingreso_Total'].sort_values(ascending=True)\n",
    "merged_pivot_bar=merged_pivot_sort.plot(kind='bar',title='Total de ingresos por mes', color='purple')"
   ]
  },
  {
   "cell_type": "markdown",
   "metadata": {},
   "source": [
    "* El mes de diciembre es el que registra mayores ingresos, esto se puede deber al comportamiento de los clientes en sus consumos por ser un mes de celebración y fiestas. Alcanza un ingreso máximo en el año de 34.000 dólares.\n",
    "* Por el contrario en el mes de enero hay un ingreso mínimo, y el primer trimestre estan por debajo de los 5.000 dólares\n",
    "* Existe una relacion directamente propocional al total de ingresos y el mes en el que se encuentre, a medida que se vaya avanzando en el año mayores consumos extras realizarán."
   ]
  },
  {
   "cell_type": "markdown",
   "metadata": {},
   "source": [
    "<div class=\"alert alert-info\"> <b>Comentario del estudiante:</b> Listo, gracias.</div>"
   ]
  },
  {
   "cell_type": "markdown",
   "metadata": {},
   "source": [
    "## Análisis de los datos"
   ]
  },
  {
   "cell_type": "markdown",
   "metadata": {},
   "source": [
    "**4.1 Estudio del compartamiento de consumo**"
   ]
  },
  {
   "cell_type": "markdown",
   "metadata": {},
   "source": [
    "Para poder encontrar el número de SMS, duración de llamadas y el volumen de datos que requieren los usuarios de cada tarifa en cada mes, procederemos a separar en 2 DataFrames por cada plan pero a partir de nuestra tabla general dejaremos unicamente las columnas que sean necesarias para el análisis."
   ]
  },
  {
   "cell_type": "code",
   "execution_count": 61,
   "metadata": {
    "scrolled": false
   },
   "outputs": [
    {
     "data": {
      "text/html": [
       "<div>\n",
       "<style scoped>\n",
       "    .dataframe tbody tr th:only-of-type {\n",
       "        vertical-align: middle;\n",
       "    }\n",
       "\n",
       "    .dataframe tbody tr th {\n",
       "        vertical-align: top;\n",
       "    }\n",
       "\n",
       "    .dataframe thead th {\n",
       "        text-align: right;\n",
       "    }\n",
       "</style>\n",
       "<table border=\"1\" class=\"dataframe\">\n",
       "  <thead>\n",
       "    <tr style=\"text-align: right;\">\n",
       "      <th></th>\n",
       "      <th></th>\n",
       "      <th>duration_calls</th>\n",
       "      <th>total_messages</th>\n",
       "      <th>city</th>\n",
       "      <th>plan</th>\n",
       "      <th>gb_used</th>\n",
       "      <th>calls_extra</th>\n",
       "      <th>messages_extra</th>\n",
       "      <th>gb_extra</th>\n",
       "      <th>Ingreso_Total</th>\n",
       "    </tr>\n",
       "    <tr>\n",
       "      <th>user_id</th>\n",
       "      <th>month</th>\n",
       "      <th></th>\n",
       "      <th></th>\n",
       "      <th></th>\n",
       "      <th></th>\n",
       "      <th></th>\n",
       "      <th></th>\n",
       "      <th></th>\n",
       "      <th></th>\n",
       "      <th></th>\n",
       "    </tr>\n",
       "  </thead>\n",
       "  <tbody>\n",
       "    <tr>\n",
       "      <th>1000</th>\n",
       "      <th>12</th>\n",
       "      <td>117</td>\n",
       "      <td>11.0</td>\n",
       "      <td>Atlanta-Sandy Springs-Roswell, GA MSA</td>\n",
       "      <td>ultimate</td>\n",
       "      <td>2</td>\n",
       "      <td>0</td>\n",
       "      <td>0.0</td>\n",
       "      <td>0</td>\n",
       "      <td>70.00</td>\n",
       "    </tr>\n",
       "    <tr>\n",
       "      <th rowspan=\"4\" valign=\"top\">1001</th>\n",
       "      <th>8</th>\n",
       "      <td>171</td>\n",
       "      <td>30.0</td>\n",
       "      <td>Seattle-Tacoma-Bellevue, WA MSA</td>\n",
       "      <td>surf</td>\n",
       "      <td>7</td>\n",
       "      <td>0</td>\n",
       "      <td>0.0</td>\n",
       "      <td>0</td>\n",
       "      <td>20.00</td>\n",
       "    </tr>\n",
       "    <tr>\n",
       "      <th>9</th>\n",
       "      <td>298</td>\n",
       "      <td>44.0</td>\n",
       "      <td>Seattle-Tacoma-Bellevue, WA MSA</td>\n",
       "      <td>surf</td>\n",
       "      <td>14</td>\n",
       "      <td>0</td>\n",
       "      <td>0.0</td>\n",
       "      <td>0</td>\n",
       "      <td>20.00</td>\n",
       "    </tr>\n",
       "    <tr>\n",
       "      <th>10</th>\n",
       "      <td>373</td>\n",
       "      <td>53.0</td>\n",
       "      <td>Seattle-Tacoma-Bellevue, WA MSA</td>\n",
       "      <td>surf</td>\n",
       "      <td>22</td>\n",
       "      <td>0</td>\n",
       "      <td>3.0</td>\n",
       "      <td>7</td>\n",
       "      <td>90.09</td>\n",
       "    </tr>\n",
       "    <tr>\n",
       "      <th>11</th>\n",
       "      <td>402</td>\n",
       "      <td>36.0</td>\n",
       "      <td>Seattle-Tacoma-Bellevue, WA MSA</td>\n",
       "      <td>surf</td>\n",
       "      <td>19</td>\n",
       "      <td>0</td>\n",
       "      <td>0.0</td>\n",
       "      <td>4</td>\n",
       "      <td>60.00</td>\n",
       "    </tr>\n",
       "  </tbody>\n",
       "</table>\n",
       "</div>"
      ],
      "text/plain": [
       "               duration_calls  total_messages  \\\n",
       "user_id month                                   \n",
       "1000    12                117            11.0   \n",
       "1001    8                 171            30.0   \n",
       "        9                 298            44.0   \n",
       "        10                373            53.0   \n",
       "        11                402            36.0   \n",
       "\n",
       "                                                city      plan  gb_used  \\\n",
       "user_id month                                                             \n",
       "1000    12     Atlanta-Sandy Springs-Roswell, GA MSA  ultimate        2   \n",
       "1001    8            Seattle-Tacoma-Bellevue, WA MSA      surf        7   \n",
       "        9            Seattle-Tacoma-Bellevue, WA MSA      surf       14   \n",
       "        10           Seattle-Tacoma-Bellevue, WA MSA      surf       22   \n",
       "        11           Seattle-Tacoma-Bellevue, WA MSA      surf       19   \n",
       "\n",
       "               calls_extra  messages_extra  gb_extra  Ingreso_Total  \n",
       "user_id month                                                        \n",
       "1000    12               0             0.0         0          70.00  \n",
       "1001    8                0             0.0         0          20.00  \n",
       "        9                0             0.0         0          20.00  \n",
       "        10               0             3.0         7          90.09  \n",
       "        11               0             0.0         4          60.00  "
      ]
     },
     "execution_count": 61,
     "metadata": {},
     "output_type": "execute_result"
    }
   ],
   "source": [
    "df=merged_data.drop(columns=['first_name','last_name','age','reg_date','churn_date','usd_per_minute','usd_per_message','usd_per_gb','minutes_included','messages_included','gb_per_month_included','mb_per_month_included','usd_monthly_pay','mb_used'])\n",
    "df.head(5)"
   ]
  },
  {
   "cell_type": "markdown",
   "metadata": {},
   "source": [
    "Analizaremos brevemente la distrubucion de los consumos de manera general y el compartamiento de los clientes en el 2018 y por cada plan."
   ]
  },
  {
   "cell_type": "code",
   "execution_count": 62,
   "metadata": {},
   "outputs": [
    {
     "data": {
      "image/png": "[encoded data removed]",
      "text/plain": [
       "<Figure size 864x648 with 9 Axes>"
      ]
     },
     "metadata": {
      "needs_background": "light"
     },
     "output_type": "display_data"
    }
   ],
   "source": [
    "df.hist(figsize=(12,9), color='purple', bins=30)\n",
    "plt.show()"
   ]
  },
  {
   "cell_type": "markdown",
   "metadata": {},
   "source": [
    "<div class=\"alert alert-info\"> <b>Comentario del estudiante:</b> Listo, gracias.</div>"
   ]
  },
  {
   "cell_type": "code",
   "execution_count": 63,
   "metadata": {},
   "outputs": [
    {
     "data": {
      "text/html": [
       "<div>\n",
       "<style scoped>\n",
       "    .dataframe tbody tr th:only-of-type {\n",
       "        vertical-align: middle;\n",
       "    }\n",
       "\n",
       "    .dataframe tbody tr th {\n",
       "        vertical-align: top;\n",
       "    }\n",
       "\n",
       "    .dataframe thead th {\n",
       "        text-align: right;\n",
       "    }\n",
       "</style>\n",
       "<table border=\"1\" class=\"dataframe\">\n",
       "  <thead>\n",
       "    <tr style=\"text-align: right;\">\n",
       "      <th></th>\n",
       "      <th>duration_calls</th>\n",
       "      <th>total_messages</th>\n",
       "      <th>gb_used</th>\n",
       "      <th>calls_extra</th>\n",
       "      <th>messages_extra</th>\n",
       "      <th>gb_extra</th>\n",
       "      <th>Ingreso_Total</th>\n",
       "    </tr>\n",
       "  </thead>\n",
       "  <tbody>\n",
       "    <tr>\n",
       "      <th>count</th>\n",
       "      <td>2293.000000</td>\n",
       "      <td>2293.000000</td>\n",
       "      <td>2293.000000</td>\n",
       "      <td>2293.000000</td>\n",
       "      <td>2293.000000</td>\n",
       "      <td>2293.000000</td>\n",
       "      <td>2293.000000</td>\n",
       "    </tr>\n",
       "    <tr>\n",
       "      <th>mean</th>\n",
       "      <td>404.436546</td>\n",
       "      <td>33.166594</td>\n",
       "      <td>16.870475</td>\n",
       "      <td>33.201483</td>\n",
       "      <td>4.810728</td>\n",
       "      <td>2.755342</td>\n",
       "      <td>64.082364</td>\n",
       "    </tr>\n",
       "    <tr>\n",
       "      <th>std</th>\n",
       "      <td>222.807009</td>\n",
       "      <td>34.070085</td>\n",
       "      <td>7.796174</td>\n",
       "      <td>93.435428</td>\n",
       "      <td>16.450516</td>\n",
       "      <td>4.884966</td>\n",
       "      <td>46.540735</td>\n",
       "    </tr>\n",
       "    <tr>\n",
       "      <th>min</th>\n",
       "      <td>0.000000</td>\n",
       "      <td>0.000000</td>\n",
       "      <td>0.000000</td>\n",
       "      <td>0.000000</td>\n",
       "      <td>0.000000</td>\n",
       "      <td>0.000000</td>\n",
       "      <td>20.000000</td>\n",
       "    </tr>\n",
       "    <tr>\n",
       "      <th>25%</th>\n",
       "      <td>249.000000</td>\n",
       "      <td>3.000000</td>\n",
       "      <td>12.000000</td>\n",
       "      <td>0.000000</td>\n",
       "      <td>0.000000</td>\n",
       "      <td>0.000000</td>\n",
       "      <td>22.490000</td>\n",
       "    </tr>\n",
       "    <tr>\n",
       "      <th>50%</th>\n",
       "      <td>399.000000</td>\n",
       "      <td>26.000000</td>\n",
       "      <td>17.000000</td>\n",
       "      <td>0.000000</td>\n",
       "      <td>0.000000</td>\n",
       "      <td>0.000000</td>\n",
       "      <td>70.000000</td>\n",
       "    </tr>\n",
       "    <tr>\n",
       "      <th>75%</th>\n",
       "      <td>539.000000</td>\n",
       "      <td>51.000000</td>\n",
       "      <td>21.000000</td>\n",
       "      <td>0.000000</td>\n",
       "      <td>0.000000</td>\n",
       "      <td>4.000000</td>\n",
       "      <td>70.000000</td>\n",
       "    </tr>\n",
       "    <tr>\n",
       "      <th>max</th>\n",
       "      <td>1426.000000</td>\n",
       "      <td>266.000000</td>\n",
       "      <td>70.000000</td>\n",
       "      <td>926.000000</td>\n",
       "      <td>216.000000</td>\n",
       "      <td>55.000000</td>\n",
       "      <td>588.570000</td>\n",
       "    </tr>\n",
       "  </tbody>\n",
       "</table>\n",
       "</div>"
      ],
      "text/plain": [
       "       duration_calls  total_messages      gb_used  calls_extra  \\\n",
       "count     2293.000000     2293.000000  2293.000000  2293.000000   \n",
       "mean       404.436546       33.166594    16.870475    33.201483   \n",
       "std        222.807009       34.070085     7.796174    93.435428   \n",
       "min          0.000000        0.000000     0.000000     0.000000   \n",
       "25%        249.000000        3.000000    12.000000     0.000000   \n",
       "50%        399.000000       26.000000    17.000000     0.000000   \n",
       "75%        539.000000       51.000000    21.000000     0.000000   \n",
       "max       1426.000000      266.000000    70.000000   926.000000   \n",
       "\n",
       "       messages_extra     gb_extra  Ingreso_Total  \n",
       "count     2293.000000  2293.000000    2293.000000  \n",
       "mean         4.810728     2.755342      64.082364  \n",
       "std         16.450516     4.884966      46.540735  \n",
       "min          0.000000     0.000000      20.000000  \n",
       "25%          0.000000     0.000000      22.490000  \n",
       "50%          0.000000     0.000000      70.000000  \n",
       "75%          0.000000     4.000000      70.000000  \n",
       "max        216.000000    55.000000     588.570000  "
      ]
     },
     "execution_count": 63,
     "metadata": {},
     "output_type": "execute_result"
    }
   ],
   "source": [
    "df.describe()"
   ]
  },
  {
   "cell_type": "markdown",
   "metadata": {},
   "source": [
    "* Toda la base de clientes registran duraciones de llamadas en promedio de 404 minutos en el 2018, con envíos en promedio de 33 mensajes y 17 GB.\n",
    "* En los gráficos y en la tabla podemos ver que tenemos un sesgo positivo y asimétrico para los 2 canales de minutos y mensajes dado que su media es mayor a a la mediana. Por el contrario en el volumen de datos la media es menor que la mediana por lo que tiene un sesgo negativo.\n",
    "* En promedio los minutos extras consumidos don de 33, 5 envíos de mensajes extras y 3 GB extras. \n",
    "* El canal que vemos que hay mas tendecia a consumir fuera de los límites establecidos son las llamadas\n"
   ]
  },
  {
   "cell_type": "markdown",
   "metadata": {},
   "source": [
    "**Surf**"
   ]
  },
  {
   "cell_type": "code",
   "execution_count": 64,
   "metadata": {},
   "outputs": [],
   "source": [
    "#Separacion en 2 DataFrames por cada tarifa.\n",
    "df_surf=df.query('plan==\"surf\"')\n",
    "df_ultimate= df.query('plan == \"ultimate\"')"
   ]
  },
  {
   "cell_type": "code",
   "execution_count": 65,
   "metadata": {},
   "outputs": [
    {
     "data": {
      "text/html": [
       "<div>\n",
       "<style scoped>\n",
       "    .dataframe tbody tr th:only-of-type {\n",
       "        vertical-align: middle;\n",
       "    }\n",
       "\n",
       "    .dataframe tbody tr th {\n",
       "        vertical-align: top;\n",
       "    }\n",
       "\n",
       "    .dataframe thead th {\n",
       "        text-align: right;\n",
       "    }\n",
       "</style>\n",
       "<table border=\"1\" class=\"dataframe\">\n",
       "  <thead>\n",
       "    <tr style=\"text-align: right;\">\n",
       "      <th></th>\n",
       "      <th>duration_calls</th>\n",
       "      <th>total_messages</th>\n",
       "      <th>gb_used</th>\n",
       "      <th>calls_extra</th>\n",
       "      <th>messages_extra</th>\n",
       "      <th>gb_extra</th>\n",
       "      <th>Ingreso_Total</th>\n",
       "    </tr>\n",
       "  </thead>\n",
       "  <tbody>\n",
       "    <tr>\n",
       "      <th>count</th>\n",
       "      <td>1573.000000</td>\n",
       "      <td>1573.000000</td>\n",
       "      <td>1573.000000</td>\n",
       "      <td>1573.000000</td>\n",
       "      <td>1573.000000</td>\n",
       "      <td>1573.000000</td>\n",
       "      <td>1573.000000</td>\n",
       "    </tr>\n",
       "    <tr>\n",
       "      <th>mean</th>\n",
       "      <td>404.006993</td>\n",
       "      <td>31.159568</td>\n",
       "      <td>16.670693</td>\n",
       "      <td>48.398601</td>\n",
       "      <td>7.012715</td>\n",
       "      <td>3.865226</td>\n",
       "      <td>60.314596</td>\n",
       "    </tr>\n",
       "    <tr>\n",
       "      <th>std</th>\n",
       "      <td>221.101264</td>\n",
       "      <td>33.566717</td>\n",
       "      <td>7.847522</td>\n",
       "      <td>109.511404</td>\n",
       "      <td>19.470891</td>\n",
       "      <td>5.445627</td>\n",
       "      <td>55.258395</td>\n",
       "    </tr>\n",
       "    <tr>\n",
       "      <th>min</th>\n",
       "      <td>0.000000</td>\n",
       "      <td>0.000000</td>\n",
       "      <td>0.000000</td>\n",
       "      <td>0.000000</td>\n",
       "      <td>0.000000</td>\n",
       "      <td>0.000000</td>\n",
       "      <td>20.000000</td>\n",
       "    </tr>\n",
       "    <tr>\n",
       "      <th>25%</th>\n",
       "      <td>255.000000</td>\n",
       "      <td>3.000000</td>\n",
       "      <td>12.000000</td>\n",
       "      <td>0.000000</td>\n",
       "      <td>0.000000</td>\n",
       "      <td>0.000000</td>\n",
       "      <td>20.000000</td>\n",
       "    </tr>\n",
       "    <tr>\n",
       "      <th>50%</th>\n",
       "      <td>401.000000</td>\n",
       "      <td>24.000000</td>\n",
       "      <td>17.000000</td>\n",
       "      <td>0.000000</td>\n",
       "      <td>0.000000</td>\n",
       "      <td>2.000000</td>\n",
       "      <td>40.150000</td>\n",
       "    </tr>\n",
       "    <tr>\n",
       "      <th>75%</th>\n",
       "      <td>543.000000</td>\n",
       "      <td>47.000000</td>\n",
       "      <td>21.000000</td>\n",
       "      <td>43.000000</td>\n",
       "      <td>0.000000</td>\n",
       "      <td>6.000000</td>\n",
       "      <td>80.000000</td>\n",
       "    </tr>\n",
       "    <tr>\n",
       "      <th>max</th>\n",
       "      <td>1426.000000</td>\n",
       "      <td>266.000000</td>\n",
       "      <td>70.000000</td>\n",
       "      <td>926.000000</td>\n",
       "      <td>216.000000</td>\n",
       "      <td>55.000000</td>\n",
       "      <td>588.570000</td>\n",
       "    </tr>\n",
       "  </tbody>\n",
       "</table>\n",
       "</div>"
      ],
      "text/plain": [
       "       duration_calls  total_messages      gb_used  calls_extra  \\\n",
       "count     1573.000000     1573.000000  1573.000000  1573.000000   \n",
       "mean       404.006993       31.159568    16.670693    48.398601   \n",
       "std        221.101264       33.566717     7.847522   109.511404   \n",
       "min          0.000000        0.000000     0.000000     0.000000   \n",
       "25%        255.000000        3.000000    12.000000     0.000000   \n",
       "50%        401.000000       24.000000    17.000000     0.000000   \n",
       "75%        543.000000       47.000000    21.000000    43.000000   \n",
       "max       1426.000000      266.000000    70.000000   926.000000   \n",
       "\n",
       "       messages_extra     gb_extra  Ingreso_Total  \n",
       "count     1573.000000  1573.000000    1573.000000  \n",
       "mean         7.012715     3.865226      60.314596  \n",
       "std         19.470891     5.445627      55.258395  \n",
       "min          0.000000     0.000000      20.000000  \n",
       "25%          0.000000     0.000000      20.000000  \n",
       "50%          0.000000     2.000000      40.150000  \n",
       "75%          0.000000     6.000000      80.000000  \n",
       "max        216.000000    55.000000     588.570000  "
      ]
     },
     "execution_count": 65,
     "metadata": {},
     "output_type": "execute_result"
    }
   ],
   "source": [
    "#Estadísticos que nos interesan: Media, Desviación estándar y varianza, encontrar tendencias de consumo\n",
    "df_surf.describe()"
   ]
  },
  {
   "cell_type": "markdown",
   "metadata": {},
   "source": [
    "* Los consumos promedios de los 3 canales para Surf estan dentro de los mismos resultado que sacamos anteriormente.\n",
    "* En Surf consumieron 48 minutos extras, 7 mensajes adicionales y casi 8 GB. Por lo que los clientes en este plan estan necesitando mayor cobertura porque se sobrepasan en mayor medida por lo que no les esta alcanzado los minutos, mensajes y GB que se ofrecen. \n",
    "* Podemos ver que alcanza como un ingreso más alto de 588 dólares."
   ]
  },
  {
   "cell_type": "code",
   "execution_count": 66,
   "metadata": {},
   "outputs": [
    {
     "data": {
      "text/plain": [
       "duration_calls    48854.690987\n",
       "total_messages     1126.008232\n",
       "gb_used              61.544449\n",
       "calls_extra       11985.123380\n",
       "messages_extra      378.874600\n",
       "gb_extra             29.636000\n",
       "Ingreso_Total      3051.548977\n",
       "dtype: float64"
      ]
     },
     "execution_count": 66,
     "metadata": {},
     "output_type": "execute_result"
    }
   ],
   "source": [
    "varianza_surf=np.var(df_surf)\n",
    "varianza_surf"
   ]
  },
  {
   "cell_type": "markdown",
   "metadata": {},
   "source": [
    "* Podemos ver que la desviación estándar es mayor en las duration_calls, quiere decir que tenemos valores que esten por ensima o por debajo de 221 minutos, lo que indica que estan muy alejados de la media que es 404.\n",
    "* Para los total:messages estan muy alejados los valores de la media que es 31 y con una desviacion estándar de 33 mensajes.\n",
    "* Finalmente los GB consumidos indican un mayor cercanía a la media que son 17 GB con + 0 - 7 GB.\n"
   ]
  },
  {
   "cell_type": "markdown",
   "metadata": {},
   "source": [
    "**Total de minutos requeridos por mes**"
   ]
  },
  {
   "cell_type": "code",
   "execution_count": 67,
   "metadata": {},
   "outputs": [
    {
     "data": {
      "image/png": "[encoded data removed]",
      "text/plain": [
       "<Figure size 432x288 with 1 Axes>"
      ]
     },
     "metadata": {
      "needs_background": "light"
     },
     "output_type": "display_data"
    }
   ],
   "source": [
    "df_surf_p= df_surf.pivot_table(index='month',values='duration_calls',aggfunc='sum')\n",
    "df_surf_p_sort=df_surf_p['duration_calls'].sort_values(ascending=True)\n",
    "df_surf_p_bar=df_surf_p_sort.plot(kind='bar',title='Total de minutos requeridos por mes', color='purple')"
   ]
  },
  {
   "cell_type": "markdown",
   "metadata": {},
   "source": [
    "**Total de mensajes requeridos por mes**"
   ]
  },
  {
   "cell_type": "code",
   "execution_count": 68,
   "metadata": {},
   "outputs": [
    {
     "data": {
      "image/png": "[encoded data removed]",
      "text/plain": [
       "<Figure size 432x288 with 1 Axes>"
      ]
     },
     "metadata": {
      "needs_background": "light"
     },
     "output_type": "display_data"
    }
   ],
   "source": [
    "df_surf_p= df_surf.pivot_table(index='month',values='total_messages',aggfunc='sum')\n",
    "df_surf_p_sort=df_surf_p['total_messages'].sort_values(ascending=True)\n",
    "df_surf_p_bar=df_surf_p_sort.plot(kind='bar',title='Total de mensajes requeridos por mes', color='purple')"
   ]
  },
  {
   "cell_type": "markdown",
   "metadata": {},
   "source": [
    "**Total de GB requeridos por mes**"
   ]
  },
  {
   "cell_type": "code",
   "execution_count": 69,
   "metadata": {},
   "outputs": [
    {
     "data": {
      "image/png": "[encoded data removed]",
      "text/plain": [
       "<Figure size 432x288 with 1 Axes>"
      ]
     },
     "metadata": {
      "needs_background": "light"
     },
     "output_type": "display_data"
    }
   ],
   "source": [
    "df_surf_p= df_surf.pivot_table(index='month',values='gb_used',aggfunc='sum')\n",
    "df_surf_p_sort=df_surf_p['gb_used'].sort_values(ascending=True)\n",
    "df_surf_p_bar=df_surf_p_sort.plot(kind='bar',title='Total de gb requeridos por mes', color='purple')"
   ]
  },
  {
   "cell_type": "markdown",
   "metadata": {},
   "source": [
    "**Conclusión: Surf**\n",
    "* Se necesitan aproximadamene 140.000 minutos para el mes de diciembre y un mínimo de 100 minutos en el mes de enero. \n",
    "* Se requieren 12.000 mensajes para el mes de diciembre y casi nulo de mensajes para el mes de Enero. \n",
    "* Para los datos se requieren 6.000 GB en el mes de diciembre y menos de 1000 GB desde Enero hasta Abril. \n",
    "* Podemos observar que el aumento de los consumos aumenta de un mes a otro y así sucesivamente hasta llegar a diciemebre donde se despunta los consumos por cada canal. \n",
    "* Con esta tendencia se podría proponer que la inversión en publicidad para la tarifa de Surf vaya aumentando a lo largo del año, puede ser trimestre a trimestre para que se acople al comportamiento de consumo de los clientes."
   ]
  },
  {
   "cell_type": "markdown",
   "metadata": {},
   "source": [
    "**Ultimate**"
   ]
  },
  {
   "cell_type": "code",
   "execution_count": 70,
   "metadata": {},
   "outputs": [
    {
     "data": {
      "text/html": [
       "<div>\n",
       "<style scoped>\n",
       "    .dataframe tbody tr th:only-of-type {\n",
       "        vertical-align: middle;\n",
       "    }\n",
       "\n",
       "    .dataframe tbody tr th {\n",
       "        vertical-align: top;\n",
       "    }\n",
       "\n",
       "    .dataframe thead th {\n",
       "        text-align: right;\n",
       "    }\n",
       "</style>\n",
       "<table border=\"1\" class=\"dataframe\">\n",
       "  <thead>\n",
       "    <tr style=\"text-align: right;\">\n",
       "      <th></th>\n",
       "      <th>duration_calls</th>\n",
       "      <th>total_messages</th>\n",
       "      <th>gb_used</th>\n",
       "      <th>calls_extra</th>\n",
       "      <th>messages_extra</th>\n",
       "      <th>gb_extra</th>\n",
       "      <th>Ingreso_Total</th>\n",
       "    </tr>\n",
       "  </thead>\n",
       "  <tbody>\n",
       "    <tr>\n",
       "      <th>count</th>\n",
       "      <td>720.00000</td>\n",
       "      <td>720.000000</td>\n",
       "      <td>720.000000</td>\n",
       "      <td>720.0</td>\n",
       "      <td>720.0</td>\n",
       "      <td>720.000000</td>\n",
       "      <td>720.000000</td>\n",
       "    </tr>\n",
       "    <tr>\n",
       "      <th>mean</th>\n",
       "      <td>405.37500</td>\n",
       "      <td>37.551389</td>\n",
       "      <td>17.306944</td>\n",
       "      <td>0.0</td>\n",
       "      <td>0.0</td>\n",
       "      <td>0.330556</td>\n",
       "      <td>72.313889</td>\n",
       "    </tr>\n",
       "    <tr>\n",
       "      <th>std</th>\n",
       "      <td>226.64119</td>\n",
       "      <td>34.767179</td>\n",
       "      <td>7.670108</td>\n",
       "      <td>0.0</td>\n",
       "      <td>0.0</td>\n",
       "      <td>1.627873</td>\n",
       "      <td>11.395108</td>\n",
       "    </tr>\n",
       "    <tr>\n",
       "      <th>min</th>\n",
       "      <td>0.00000</td>\n",
       "      <td>0.000000</td>\n",
       "      <td>0.000000</td>\n",
       "      <td>0.0</td>\n",
       "      <td>0.0</td>\n",
       "      <td>0.000000</td>\n",
       "      <td>70.000000</td>\n",
       "    </tr>\n",
       "    <tr>\n",
       "      <th>25%</th>\n",
       "      <td>246.00000</td>\n",
       "      <td>7.000000</td>\n",
       "      <td>13.000000</td>\n",
       "      <td>0.0</td>\n",
       "      <td>0.0</td>\n",
       "      <td>0.000000</td>\n",
       "      <td>70.000000</td>\n",
       "    </tr>\n",
       "    <tr>\n",
       "      <th>50%</th>\n",
       "      <td>397.00000</td>\n",
       "      <td>30.000000</td>\n",
       "      <td>17.000000</td>\n",
       "      <td>0.0</td>\n",
       "      <td>0.0</td>\n",
       "      <td>0.000000</td>\n",
       "      <td>70.000000</td>\n",
       "    </tr>\n",
       "    <tr>\n",
       "      <th>75%</th>\n",
       "      <td>531.00000</td>\n",
       "      <td>61.000000</td>\n",
       "      <td>21.000000</td>\n",
       "      <td>0.0</td>\n",
       "      <td>0.0</td>\n",
       "      <td>0.000000</td>\n",
       "      <td>70.000000</td>\n",
       "    </tr>\n",
       "    <tr>\n",
       "      <th>max</th>\n",
       "      <td>1289.00000</td>\n",
       "      <td>166.000000</td>\n",
       "      <td>46.000000</td>\n",
       "      <td>0.0</td>\n",
       "      <td>0.0</td>\n",
       "      <td>16.000000</td>\n",
       "      <td>182.000000</td>\n",
       "    </tr>\n",
       "  </tbody>\n",
       "</table>\n",
       "</div>"
      ],
      "text/plain": [
       "       duration_calls  total_messages     gb_used  calls_extra  \\\n",
       "count       720.00000      720.000000  720.000000        720.0   \n",
       "mean        405.37500       37.551389   17.306944          0.0   \n",
       "std         226.64119       34.767179    7.670108          0.0   \n",
       "min           0.00000        0.000000    0.000000          0.0   \n",
       "25%         246.00000        7.000000   13.000000          0.0   \n",
       "50%         397.00000       30.000000   17.000000          0.0   \n",
       "75%         531.00000       61.000000   21.000000          0.0   \n",
       "max        1289.00000      166.000000   46.000000          0.0   \n",
       "\n",
       "       messages_extra    gb_extra  Ingreso_Total  \n",
       "count           720.0  720.000000     720.000000  \n",
       "mean              0.0    0.330556      72.313889  \n",
       "std               0.0    1.627873      11.395108  \n",
       "min               0.0    0.000000      70.000000  \n",
       "25%               0.0    0.000000      70.000000  \n",
       "50%               0.0    0.000000      70.000000  \n",
       "75%               0.0    0.000000      70.000000  \n",
       "max               0.0   16.000000     182.000000  "
      ]
     },
     "execution_count": 70,
     "metadata": {},
     "output_type": "execute_result"
    }
   ],
   "source": [
    "#Estadísticos que nos interesan: Media, Desviación estándar y varianza , encontrar tendencias de consumo\n",
    "df_ultimate.describe()"
   ]
  },
  {
   "cell_type": "markdown",
   "metadata": {},
   "source": [
    "* En ultimate no existen consumos extras en minutos ni en mensajes, unicamente para el internet se sobrepasan en promedio 0.33 GB.\n",
    "* Podemos interpretar que en este plan ofrece amplios minutos, mensajes y GB por lo que los usuarios estan cómodos y por lo general no necesitan hacer consumos adicionales.\n",
    "* Los valores máximos en este plan son menores comparados con el plan de Surf dado que este plan es más limitado."
   ]
  },
  {
   "cell_type": "code",
   "execution_count": 71,
   "metadata": {},
   "outputs": [
    {
     "data": {
      "text/plain": [
       "duration_calls    51294.887153\n",
       "total_messages     1207.077915\n",
       "gb_used              58.748841\n",
       "calls_extra           0.000000\n",
       "messages_extra        0.000000\n",
       "gb_extra              2.646289\n",
       "Ingreso_Total       129.668140\n",
       "dtype: float64"
      ]
     },
     "execution_count": 71,
     "metadata": {},
     "output_type": "execute_result"
    }
   ],
   "source": [
    "varianza_ultimate=np.var(df_ultimate)\n",
    "varianza_ultimate"
   ]
  },
  {
   "cell_type": "markdown",
   "metadata": {},
   "source": [
    "* Podemos ver que la desviación estándar es mayor en las duration_calls, quiere decir que tenemos valores que esten por ensima o por debajo de 240 minutos, lo que indica que estan muy alejados de la media que es 430. Para los total:messages estan muy alejados los valores de la media que es 37 y con una desviacion estándar de 34 mensajes. Finalmente los GB consumidos indican un mayor cercanía a la media que son 41 GB con + 0 - 16 GB."
   ]
  },
  {
   "cell_type": "markdown",
   "metadata": {},
   "source": [
    "**Total de minutos requeridos por mes**"
   ]
  },
  {
   "cell_type": "code",
   "execution_count": 72,
   "metadata": {},
   "outputs": [
    {
     "data": {
      "image/png": "[encoded data removed]",
      "text/plain": [
       "<Figure size 432x288 with 1 Axes>"
      ]
     },
     "metadata": {
      "needs_background": "light"
     },
     "output_type": "display_data"
    }
   ],
   "source": [
    "df_ultimate_p= df_ultimate.pivot_table(index='month',values='duration_calls',aggfunc='sum')\n",
    "df_ultimate_p_sort=df_ultimate_p['duration_calls'].sort_values(ascending=True)\n",
    "df_ultimate_p_bar=df_ultimate_p_sort.plot(kind='bar',title='Total de minutos requeridos por mes')"
   ]
  },
  {
   "cell_type": "markdown",
   "metadata": {},
   "source": [
    "**Total de mensajes requeridos por mes**"
   ]
  },
  {
   "cell_type": "code",
   "execution_count": 73,
   "metadata": {},
   "outputs": [
    {
     "data": {
      "image/png": "[encoded data removed]",
      "text/plain": [
       "<Figure size 432x288 with 1 Axes>"
      ]
     },
     "metadata": {
      "needs_background": "light"
     },
     "output_type": "display_data"
    }
   ],
   "source": [
    "df_ultimate_p= df_ultimate.pivot_table(index='month',values='total_messages',aggfunc='sum')\n",
    "df_ultimate_p_sort=df_ultimate_p['total_messages'].sort_values(ascending=True)\n",
    "df_ultimate_p_bar=df_ultimate_p_sort.plot(kind='bar',title='Total de mensajes requeridos por mes')"
   ]
  },
  {
   "cell_type": "markdown",
   "metadata": {},
   "source": [
    "**Total de GB requeridos por mes**"
   ]
  },
  {
   "cell_type": "code",
   "execution_count": 74,
   "metadata": {},
   "outputs": [
    {
     "data": {
      "image/png": "[encoded data removed]",
      "text/plain": [
       "<Figure size 432x288 with 1 Axes>"
      ]
     },
     "metadata": {
      "needs_background": "light"
     },
     "output_type": "display_data"
    }
   ],
   "source": [
    "df_ultimate_p= df_ultimate.pivot_table(index='month',values='gb_used',aggfunc='sum')\n",
    "df_ultimate_p_sort=df_ultimate_p['gb_used'].sort_values(ascending=True)\n",
    "df_ultimate_p_bar=df_ultimate_p_sort.plot(kind='bar',title='Total de gb requeridos por mes')"
   ]
  },
  {
   "cell_type": "markdown",
   "metadata": {},
   "source": [
    "<div class=\"alert alert-info\"> <b>Comentario del estudiante:</b> Listo lo cambié gracias.</div>"
   ]
  },
  {
   "cell_type": "markdown",
   "metadata": {},
   "source": [
    "**Conclusión: Ultimate:**\n",
    "* Se necesitan aproximadamene 70.000 minutos para el mes de diciembre y un mínimo de 100 minutos en el mes de enero.\n",
    "\n",
    "* Se requieren casi 7.000 mensajes para el mes de diciembre y casi nulo de mensajes para el mes de Enero.\n",
    "\n",
    "* Para los datos se requieren casi 6.900 GB en el mes de diciembre y menos de 1000 GB desde Enero hasta Abril.\n",
    "\n",
    "* Podemos observar que el aumento de los consumos aumenta de un mes a otro y así sucesivamente hasta llegar a diciemebre donde se despunta los consumos por cada canal.\n",
    "\n",
    "* Con esta tendencia se podría proponer que la inversión en publicidad para la tarifa de Ultimate vaya aumentando a lo largo del año, puede ser trimestre a trimestre para que se acople al comportamiento de consumo de los clientes."
   ]
  },
  {
   "cell_type": "markdown",
   "metadata": {},
   "source": [
    "## Prueba de hipótesis"
   ]
  },
  {
   "cell_type": "markdown",
   "metadata": {},
   "source": [
    "**1. El ingreso promedio de los usuarios de las tarifas Ultimate y Surf difiere.**\n",
    "\n",
    "\n"
   ]
  },
  {
   "cell_type": "markdown",
   "metadata": {},
   "source": [
    "Para nuestra primera hipótesis primero identificamos la variable aleatoria que en este caso es el ingreso promedio de los usuarios de ambas tarifas.\n",
    "\n",
    "Segundo formularemos la hipótesis alternativa igual a lo que queremos comprobar que es cierto, es decir que el ingreso promedio de ambas tarifas difieren, y la hipotesis nula lo formularemos como lo contrario, el ingreso promedio de ambas tarifas son iguales. \n",
    "\n",
    "Para probar la hipótesis de que los ingresos medios de las dos tarifas son iguales aplicaremos el método scipy.stats.ttest_ind(array1, array2, equal_var).  \n",
    "\n",
    "El valor crítico que utilizaremos para contrarestar la hipótesis nula será el valor p porque nos servirá para comparar con el nivel de significancia y de acuerdo al resultado aceptar o rechazar la hipotesis.  "
   ]
  },
  {
   "cell_type": "markdown",
   "metadata": {},
   "source": [
    "\n",
    "* H₀= El ingreso promedio de los usuarios de las tarifas Ultimate y Surf son iguales.\n",
    "* H₁ = El ingreso promedio de los usuarios de las tarifas Ultimate y Surf difiere. \n"
   ]
  },
  {
   "cell_type": "code",
   "execution_count": 75,
   "metadata": {},
   "outputs": [
    {
     "data": {
      "text/plain": [
       "0        40.00\n",
       "1       308.31\n",
       "2      1052.99\n",
       "3      2022.45\n",
       "4      3636.17\n",
       "5      4745.30\n",
       "6      7527.22\n",
       "7     10296.58\n",
       "8     11239.81\n",
       "9     15413.00\n",
       "10    16305.41\n",
       "11    22287.62\n",
       "Name: Ingreso_Total, dtype: float64"
      ]
     },
     "execution_count": 75,
     "metadata": {},
     "output_type": "execute_result"
    }
   ],
   "source": [
    "#Creamos una lista con los ingresos totales promedio de la tarifa de surf.\n",
    "df_surf_income= df_surf.pivot_table(index='month',aggfunc='sum').reset_index()['Ingreso_Total']\n",
    "df_surf_income"
   ]
  },
  {
   "cell_type": "code",
   "execution_count": 76,
   "metadata": {},
   "outputs": [
    {
     "data": {
      "text/plain": [
       "0       280.0\n",
       "1       490.0\n",
       "2       896.0\n",
       "3      1533.0\n",
       "4      2051.0\n",
       "5      3367.0\n",
       "6      4242.0\n",
       "7      5173.0\n",
       "8      6195.0\n",
       "9      7665.0\n",
       "10     9107.0\n",
       "11    11067.0\n",
       "Name: Ingreso_Total, dtype: float64"
      ]
     },
     "execution_count": 76,
     "metadata": {},
     "output_type": "execute_result"
    }
   ],
   "source": [
    "#Creamos una lista con los ingresos totales promedio de la tarifa de ultimate.\n",
    "df_ultimate_income= df_ultimate.pivot_table(index='month',aggfunc='sum').reset_index()['Ingreso_Total']\n",
    "df_ultimate_income"
   ]
  },
  {
   "cell_type": "code",
   "execution_count": 77,
   "metadata": {},
   "outputs": [
    {
     "name": "stdout",
     "output_type": "stream",
     "text": [
      "p-value: 0.14626920472274685\n",
      "No rechazamos la hipótesis nula\n"
     ]
    }
   ],
   "source": [
    "# Estableceremos como nivel de significancia el valor alfa de 0.05\n",
    "# Si el valor p es menor que alfa (nivel de significancia) rechazaremos la hipótesis nula. \n",
    "\n",
    "alpha= 0.05\n",
    "results= st.ttest_ind(df_surf_income,df_ultimate_income,equal_var = False)\n",
    "\n",
    "print('p-value:', results.pvalue)\n",
    "\n",
    "if results.pvalue < alpha:\n",
    "    print(\"Rechazamos la hipótesis nula\")\n",
    "    \n",
    "else:\n",
    "    print(\"No rechazamos la hipótesis nula\")\n"
   ]
  },
  {
   "cell_type": "markdown",
   "metadata": {},
   "source": [
    "La probabildad de que nuestra estimación coincida con nuestra hipotesis nula es del 14%, y al ser mayor que el nivel de significancia, no debemos rechazamos la hipótesis nula que el promedio de los ingresos de ambos planes son iguales.\n"
   ]
  },
  {
   "cell_type": "markdown",
   "metadata": {},
   "source": [
    "<div class=\"alert alert-info\"> <b>Comentario del estudiante:</b> Corregido, gracias.</div>"
   ]
  },
  {
   "cell_type": "markdown",
   "metadata": {},
   "source": [
    "**2. El ingreso promedio de los usuarios en el área de estados Nueva York-Nueva Jersey es diferente al de los usuarios de otras regiones.**"
   ]
  },
  {
   "cell_type": "markdown",
   "metadata": {},
   "source": [
    "Para nuestra segunda  hipótesis primero identificamos la variable aleatoria que en este caso es el ingreso promedio de los usuarios de Nueva York/Nueva Yersey es diferente a los usarios de otras regiones.\n",
    "\n",
    "Segundo formularemos la hipótesis alternativa igual a lo que queremos comprobar que es cierto, es decir que el ingreso promedio de los uarios de Nueva York/Nueva Yersey es diferente a los usarios de otras regiones, y la hipotesis nula lo formularemos como lo contrario.\n",
    "\n",
    "Para probar la hipótesis aplicaremos el método scipy.stats.ttest_ind(array1, array2, equal_var).  \n",
    "\n",
    "El valor crítico que utilizaremos para contrarestar la hipótesis nula será el valor p porque nos servirá para comparar con el nivel de significancia y de acuerdo al resultado aceptar o rechazar la hipotesis.  "
   ]
  },
  {
   "cell_type": "markdown",
   "metadata": {},
   "source": [
    "\n",
    "* H₀= El ingreso promedio de los usuarios de Nueva York/Nueva Yersey es igual a los usarios de otras regiones\n",
    "* H₁ = El ingreso promedio de los usuarios de Nueva York/Nueva Yersey es diferente a los usarios de otras regiones\n"
   ]
  },
  {
   "cell_type": "code",
   "execution_count": 78,
   "metadata": {
    "scrolled": false
   },
   "outputs": [
    {
     "data": {
      "text/html": [
       "<div>\n",
       "<style scoped>\n",
       "    .dataframe tbody tr th:only-of-type {\n",
       "        vertical-align: middle;\n",
       "    }\n",
       "\n",
       "    .dataframe tbody tr th {\n",
       "        vertical-align: top;\n",
       "    }\n",
       "\n",
       "    .dataframe thead th {\n",
       "        text-align: right;\n",
       "    }\n",
       "</style>\n",
       "<table border=\"1\" class=\"dataframe\">\n",
       "  <thead>\n",
       "    <tr style=\"text-align: right;\">\n",
       "      <th></th>\n",
       "      <th></th>\n",
       "      <th>duration_calls</th>\n",
       "      <th>total_messages</th>\n",
       "      <th>city</th>\n",
       "      <th>plan</th>\n",
       "      <th>gb_used</th>\n",
       "      <th>calls_extra</th>\n",
       "      <th>messages_extra</th>\n",
       "      <th>gb_extra</th>\n",
       "      <th>Ingreso_Total</th>\n",
       "    </tr>\n",
       "    <tr>\n",
       "      <th>user_id</th>\n",
       "      <th>month</th>\n",
       "      <th></th>\n",
       "      <th></th>\n",
       "      <th></th>\n",
       "      <th></th>\n",
       "      <th></th>\n",
       "      <th></th>\n",
       "      <th></th>\n",
       "      <th></th>\n",
       "      <th></th>\n",
       "    </tr>\n",
       "  </thead>\n",
       "  <tbody>\n",
       "    <tr>\n",
       "      <th rowspan=\"2\" valign=\"top\">1014</th>\n",
       "      <th>11</th>\n",
       "      <td>150</td>\n",
       "      <td>9.0</td>\n",
       "      <td>New York-Newark-Jersey City, NY-NJ-PA MSA</td>\n",
       "      <td>surf</td>\n",
       "      <td>2</td>\n",
       "      <td>0</td>\n",
       "      <td>0.0</td>\n",
       "      <td>0</td>\n",
       "      <td>20.00</td>\n",
       "    </tr>\n",
       "    <tr>\n",
       "      <th>12</th>\n",
       "      <td>1050</td>\n",
       "      <td>64.0</td>\n",
       "      <td>New York-Newark-Jersey City, NY-NJ-PA MSA</td>\n",
       "      <td>surf</td>\n",
       "      <td>8</td>\n",
       "      <td>550</td>\n",
       "      <td>14.0</td>\n",
       "      <td>0</td>\n",
       "      <td>36.92</td>\n",
       "    </tr>\n",
       "    <tr>\n",
       "      <th rowspan=\"3\" valign=\"top\">1022</th>\n",
       "      <th>5</th>\n",
       "      <td>287</td>\n",
       "      <td>0.0</td>\n",
       "      <td>New York-Newark-Jersey City, NY-NJ-PA MSA</td>\n",
       "      <td>surf</td>\n",
       "      <td>5</td>\n",
       "      <td>0</td>\n",
       "      <td>0.0</td>\n",
       "      <td>0</td>\n",
       "      <td>20.00</td>\n",
       "    </tr>\n",
       "    <tr>\n",
       "      <th>6</th>\n",
       "      <td>453</td>\n",
       "      <td>0.0</td>\n",
       "      <td>New York-Newark-Jersey City, NY-NJ-PA MSA</td>\n",
       "      <td>surf</td>\n",
       "      <td>23</td>\n",
       "      <td>0</td>\n",
       "      <td>0.0</td>\n",
       "      <td>8</td>\n",
       "      <td>100.00</td>\n",
       "    </tr>\n",
       "    <tr>\n",
       "      <th>7</th>\n",
       "      <td>448</td>\n",
       "      <td>0.0</td>\n",
       "      <td>New York-Newark-Jersey City, NY-NJ-PA MSA</td>\n",
       "      <td>surf</td>\n",
       "      <td>10</td>\n",
       "      <td>0</td>\n",
       "      <td>0.0</td>\n",
       "      <td>0</td>\n",
       "      <td>20.00</td>\n",
       "    </tr>\n",
       "  </tbody>\n",
       "</table>\n",
       "</div>"
      ],
      "text/plain": [
       "               duration_calls  total_messages  \\\n",
       "user_id month                                   \n",
       "1014    11                150             9.0   \n",
       "        12               1050            64.0   \n",
       "1022    5                 287             0.0   \n",
       "        6                 453             0.0   \n",
       "        7                 448             0.0   \n",
       "\n",
       "                                                    city  plan  gb_used  \\\n",
       "user_id month                                                             \n",
       "1014    11     New York-Newark-Jersey City, NY-NJ-PA MSA  surf        2   \n",
       "        12     New York-Newark-Jersey City, NY-NJ-PA MSA  surf        8   \n",
       "1022    5      New York-Newark-Jersey City, NY-NJ-PA MSA  surf        5   \n",
       "        6      New York-Newark-Jersey City, NY-NJ-PA MSA  surf       23   \n",
       "        7      New York-Newark-Jersey City, NY-NJ-PA MSA  surf       10   \n",
       "\n",
       "               calls_extra  messages_extra  gb_extra  Ingreso_Total  \n",
       "user_id month                                                        \n",
       "1014    11               0             0.0         0          20.00  \n",
       "        12             550            14.0         0          36.92  \n",
       "1022    5                0             0.0         0          20.00  \n",
       "        6                0             0.0         8         100.00  \n",
       "        7                0             0.0         0          20.00  "
      ]
     },
     "execution_count": 78,
     "metadata": {},
     "output_type": "execute_result"
    }
   ],
   "source": [
    "#Filtramos los clientes que son de las regiones de Nueva Yersey y Nueva York\n",
    "df_ny_ny= df.query('city == \"New York-Newark-Jersey City, NY-NJ-PA MSA\"')\n",
    "df_ny_ny.head(5)"
   ]
  },
  {
   "cell_type": "code",
   "execution_count": 79,
   "metadata": {
    "scrolled": false
   },
   "outputs": [
    {
     "data": {
      "text/html": [
       "<div>\n",
       "<style scoped>\n",
       "    .dataframe tbody tr th:only-of-type {\n",
       "        vertical-align: middle;\n",
       "    }\n",
       "\n",
       "    .dataframe tbody tr th {\n",
       "        vertical-align: top;\n",
       "    }\n",
       "\n",
       "    .dataframe thead th {\n",
       "        text-align: right;\n",
       "    }\n",
       "</style>\n",
       "<table border=\"1\" class=\"dataframe\">\n",
       "  <thead>\n",
       "    <tr style=\"text-align: right;\">\n",
       "      <th></th>\n",
       "      <th></th>\n",
       "      <th>duration_calls</th>\n",
       "      <th>total_messages</th>\n",
       "      <th>city</th>\n",
       "      <th>plan</th>\n",
       "      <th>gb_used</th>\n",
       "      <th>calls_extra</th>\n",
       "      <th>messages_extra</th>\n",
       "      <th>gb_extra</th>\n",
       "      <th>Ingreso_Total</th>\n",
       "    </tr>\n",
       "    <tr>\n",
       "      <th>user_id</th>\n",
       "      <th>month</th>\n",
       "      <th></th>\n",
       "      <th></th>\n",
       "      <th></th>\n",
       "      <th></th>\n",
       "      <th></th>\n",
       "      <th></th>\n",
       "      <th></th>\n",
       "      <th></th>\n",
       "      <th></th>\n",
       "    </tr>\n",
       "  </thead>\n",
       "  <tbody>\n",
       "    <tr>\n",
       "      <th>1000</th>\n",
       "      <th>12</th>\n",
       "      <td>117</td>\n",
       "      <td>11.0</td>\n",
       "      <td>Atlanta-Sandy Springs-Roswell, GA MSA</td>\n",
       "      <td>ultimate</td>\n",
       "      <td>2</td>\n",
       "      <td>0</td>\n",
       "      <td>0.0</td>\n",
       "      <td>0</td>\n",
       "      <td>70.00</td>\n",
       "    </tr>\n",
       "    <tr>\n",
       "      <th rowspan=\"4\" valign=\"top\">1001</th>\n",
       "      <th>8</th>\n",
       "      <td>171</td>\n",
       "      <td>30.0</td>\n",
       "      <td>Seattle-Tacoma-Bellevue, WA MSA</td>\n",
       "      <td>surf</td>\n",
       "      <td>7</td>\n",
       "      <td>0</td>\n",
       "      <td>0.0</td>\n",
       "      <td>0</td>\n",
       "      <td>20.00</td>\n",
       "    </tr>\n",
       "    <tr>\n",
       "      <th>9</th>\n",
       "      <td>298</td>\n",
       "      <td>44.0</td>\n",
       "      <td>Seattle-Tacoma-Bellevue, WA MSA</td>\n",
       "      <td>surf</td>\n",
       "      <td>14</td>\n",
       "      <td>0</td>\n",
       "      <td>0.0</td>\n",
       "      <td>0</td>\n",
       "      <td>20.00</td>\n",
       "    </tr>\n",
       "    <tr>\n",
       "      <th>10</th>\n",
       "      <td>373</td>\n",
       "      <td>53.0</td>\n",
       "      <td>Seattle-Tacoma-Bellevue, WA MSA</td>\n",
       "      <td>surf</td>\n",
       "      <td>22</td>\n",
       "      <td>0</td>\n",
       "      <td>3.0</td>\n",
       "      <td>7</td>\n",
       "      <td>90.09</td>\n",
       "    </tr>\n",
       "    <tr>\n",
       "      <th>11</th>\n",
       "      <td>402</td>\n",
       "      <td>36.0</td>\n",
       "      <td>Seattle-Tacoma-Bellevue, WA MSA</td>\n",
       "      <td>surf</td>\n",
       "      <td>19</td>\n",
       "      <td>0</td>\n",
       "      <td>0.0</td>\n",
       "      <td>4</td>\n",
       "      <td>60.00</td>\n",
       "    </tr>\n",
       "  </tbody>\n",
       "</table>\n",
       "</div>"
      ],
      "text/plain": [
       "               duration_calls  total_messages  \\\n",
       "user_id month                                   \n",
       "1000    12                117            11.0   \n",
       "1001    8                 171            30.0   \n",
       "        9                 298            44.0   \n",
       "        10                373            53.0   \n",
       "        11                402            36.0   \n",
       "\n",
       "                                                city      plan  gb_used  \\\n",
       "user_id month                                                             \n",
       "1000    12     Atlanta-Sandy Springs-Roswell, GA MSA  ultimate        2   \n",
       "1001    8            Seattle-Tacoma-Bellevue, WA MSA      surf        7   \n",
       "        9            Seattle-Tacoma-Bellevue, WA MSA      surf       14   \n",
       "        10           Seattle-Tacoma-Bellevue, WA MSA      surf       22   \n",
       "        11           Seattle-Tacoma-Bellevue, WA MSA      surf       19   \n",
       "\n",
       "               calls_extra  messages_extra  gb_extra  Ingreso_Total  \n",
       "user_id month                                                        \n",
       "1000    12               0             0.0         0          70.00  \n",
       "1001    8                0             0.0         0          20.00  \n",
       "        9                0             0.0         0          20.00  \n",
       "        10               0             3.0         7          90.09  \n",
       "        11               0             0.0         4          60.00  "
      ]
     },
     "execution_count": 79,
     "metadata": {},
     "output_type": "execute_result"
    }
   ],
   "source": [
    "#Filtramos los clientes que no son  de las regiones de Nueva Yersey y Nueva York\n",
    "df_no_ny_ny= df.query('city != \"New York-Newark-Jersey City, NY-NJ-PA MSA\"')\n",
    "df_no_ny_ny.head(5)"
   ]
  },
  {
   "cell_type": "code",
   "execution_count": 80,
   "metadata": {},
   "outputs": [
    {
     "name": "stdout",
     "output_type": "stream",
     "text": [
      "Varianzas:\n",
      "Varianza del Dataframe de Nueva York y Nueva Yersey: 1890.016125348496\n",
      "Varianza del Dataframe de las demás regiones: 2216.62748860049\n",
      "\n",
      "Promedios:\n",
      "Promedio del Dataframe de Nueva York y Nueva Yersey: 59.597241379310354\n",
      "Promedio del Dataframe de las demás regiones: 64.96487473903966\n"
     ]
    }
   ],
   "source": [
    "#Compararemos los resultados de ambos DataFrame si el promedio y la varianza de sus ingresos totales son iguales\n",
    "df_ny_ny_income=df_ny_ny['Ingreso_Total']\n",
    "df_no_ny_ny_income=df_no_ny_ny['Ingreso_Total']\n",
    "\n",
    "print('Varianzas:')\n",
    "print('Varianza del Dataframe de Nueva York y Nueva Yersey:',df_ny_ny_income.var())\n",
    "print('Varianza del Dataframe de las demás regiones:',df_no_ny_ny_income.var())\n",
    "print()\n",
    "\n",
    "print('Promedios:')\n",
    "print('Promedio del Dataframe de Nueva York y Nueva Yersey:', df_ny_ny_income.mean())\n",
    "print('Promedio del Dataframe de las demás regiones:', df_no_ny_ny_income.mean())\n"
   ]
  },
  {
   "cell_type": "markdown",
   "metadata": {},
   "source": [
    "Dado que las varianzas en los 2 DataFrames que hemos separado son diferentes, utilizaremos el parámetro de equal_far = False"
   ]
  },
  {
   "cell_type": "code",
   "execution_count": 81,
   "metadata": {},
   "outputs": [
    {
     "name": "stdout",
     "output_type": "stream",
     "text": [
      "p-value: 0.031124262771906316\n",
      "Rechazamos la hipótesis nula\n"
     ]
    }
   ],
   "source": [
    "# Estableceremos como nivel de significancia el valor alfa de 0.05\n",
    "# Si el valor p es menor que alfa (nivel de significancia) rechazaremos la hipótesis nula. \n",
    "\n",
    "alpha= 0.05\n",
    "results= st.ttest_ind(df_ny_ny_income, df_no_ny_ny_income, equal_var = False)\n",
    "\n",
    "print('p-value:', results.pvalue)\n",
    "\n",
    "if results.pvalue < alpha:\n",
    "    print(\"Rechazamos la hipótesis nula\")\n",
    "    \n",
    "else:\n",
    "    print(\"No rechazamos la hipótesis nula\")\n"
   ]
  },
  {
   "cell_type": "markdown",
   "metadata": {},
   "source": [
    "La probabildad de que nuestra estimación coincida con nuestra hipótesis nula ( que el ingreso promedio al azar de los usuarios de Nueva York/Nueva Yersey sean iguales a los usuarios de las otras zonas) es del 3%, y al ser menor que el nivel de significancia debemos rechazar la hipótesis nula. \n"
   ]
  },
  {
   "cell_type": "markdown",
   "metadata": {},
   "source": [
    "<div class=\"alert alert-info\"> <b>Comentario del estudiante:</b> Corregido, gracias.</div>"
   ]
  },
  {
   "cell_type": "markdown",
   "metadata": {},
   "source": [
    "<div class=\"alert alert-block alert-warning\">\n",
    "    \n",
    "<b>Comentario del revisor</b> <a class=\"tocSkip\"></a>\n",
    "    \n",
    "Para ambas pruebas de hipótesis, te sugiero que hagas uso de las pruebas de igualdad de varianza de [Bartlett](https://docs.scipy.org/doc/scipy/reference/generated/scipy.stats.bartlett.html) o de [Levene](https://docs.scipy.org/doc/scipy/reference/generated/scipy.stats.levene.html). La conclusión sobre si las varianzas son iguales o diferentes será más robusta.\n",
    "</div>"
   ]
  },
  {
   "cell_type": "markdown",
   "metadata": {},
   "source": [
    "## Conclusión general"
   ]
  },
  {
   "cell_type": "markdown",
   "metadata": {},
   "source": [
    "1) Ingresos por Canal\n",
    "* El plan que registró mayores ingresos totales fue de Surf por un valor de: 95.000 dólares en el 2018.\n",
    "* Nuestro equipo comercial debería incrementar el presupuesto para pubicidad en el plan Surf dado que es el más rentable y especialmente en los últimos meses del año sobretodo en diciembre es cuando aumentan considerablemente los consumos extras. \n",
    "\n",
    "\n",
    "2) Comportamiento de consumo y tendencias\n",
    "\n",
    "* El comportamiento de consumo de los usuarios en cada canal es que prefieren y/o utilizan más el uso de datos de GB llegando a sobrepasar las 55GB extras, lo que se resume en ingresos más altos para el plan de Surf que el Ultimate.\n",
    "* Existe una mayor tendencia a que los clientes del plan de Surf sobrepasen los límites en cada canal, es decir que estan necesitando consumir mayores minutos, mensajes y GB dentro del plan base. \n",
    "* Los clientes bajo el plan de Ultimate su comportamiento es diferente porque no sobrepasan el consumo (a excepción de los GB), pero de manera general se concluye que no estarían necesitando minutos, mensajes y GB adicionales en el plan base.\n",
    "* De manera comparativa, la demanda para el plan Surf es mayor que la demanda para Utimate en los 3 canales. Es decir 140.000 minutos, 12.000 mensajes y 6.000 GB, mientras que en Ultimate son: 70.000 minutos, 7.000 mensajes y 6.900 GB. \n",
    "* Este compartamiento se puede explicar por la  diferencia de 50 dólares adicionales en el pago mensual que harian los usuarios si optan por el plan de Ultimate.\n",
    "\n",
    "\n",
    "3) Hipótesis\n",
    "* No se rechaza la hipótesis que el promedio de los ingresos totales de los planes son iguales ya que el valor de que nuestra estimacion coincida fue del 14%, un valor por encima del nivel de significancia.\n",
    "* La hipótesis que el promedio de los ingresos totales de usuarios de Nueva York/NuevaYersy es igual al de usuarios de otras regiones fue rechazada porque su probabilidad fue del 3% el cual es menor que el nivel de significancia."
   ]
  },
  {
   "cell_type": "markdown",
   "metadata": {},
   "source": [
    "<div class=\"alert alert-block alert-danger\">\n",
    " \n",
    "# Comentarios generales I\n",
    "\n",
    "    \n",
    "¡Buen trabajo, Sara! Has avanzado mucho en el uso de pandas, de python y ahora has incorporado conocimiento estadístico a tus análisis. ¡Felicitaciones! No obstante, debemos trabajar en un pequeño punto para que el proyecto sea aprobado. En la sección del cálculo del ingreso construiste una función que se puede mejorar sumando la tarifa base desde el principio y evitando el cálculo de métricas negativas en variables donde no son observables (llamadas, mensajes y datos).\n",
    "    \n",
    "Una vez esto sea corregido, revisa tus conclusiones y tu proyecto será aprobado.\n",
    " </div>"
   ]
  },
  {
   "cell_type": "markdown",
   "metadata": {},
   "source": [
    "<div class=\"alert alert-block alert-warning\">\n",
    " \n",
    "# Comentarios generales II\n",
    "\n",
    "    \n",
    "¡Bien hecho, Sara! Has corregido casi todo lo sugerido. Solo nos queda un punto relativo al orden del eje x en las últimas gráficas. Una vez esto sea corregido, tu proyecto será aprobado.\n",
    " </div>"
   ]
  },
  {
   "cell_type": "markdown",
   "metadata": {},
   "source": [
    "<div class=\"alert alert-block alert-success\">\n",
    " \n",
    "# Comentarios generales III\n",
    "\n",
    "    \n",
    "¡Gran trabajo, Sara! Has corregido todo lo sugerido y has aprobado tu proyecto número 4, a tan solo uno de culminar el primer módulo.\n",
    "    \n",
    "¡Felicitaciones! Sigue así. Vas por muy buen camino.\n",
    " </div>"
   ]
  }
 ],
 "metadata": {
  "ExecuteTimeLog": [
   {
    "duration": 3,
    "start_time": "2022-08-23T01:12:26.386Z"
   },
   {
    "duration": 2,
    "start_time": "2022-08-23T01:12:29.789Z"
   },
   {
    "duration": 55,
    "start_time": "2022-08-23T01:12:36.091Z"
   },
   {
    "duration": 53,
    "start_time": "2022-08-23T01:12:41.160Z"
   },
   {
    "duration": 444,
    "start_time": "2022-08-23T02:33:17.316Z"
   },
   {
    "duration": 130,
    "start_time": "2022-08-23T02:34:16.517Z"
   },
   {
    "duration": 891,
    "start_time": "2022-08-23T02:35:08.785Z"
   },
   {
    "duration": 400,
    "start_time": "2022-08-23T02:35:23.012Z"
   },
   {
    "duration": 21,
    "start_time": "2022-08-23T02:35:25.808Z"
   },
   {
    "duration": 30,
    "start_time": "2022-08-23T02:35:41.165Z"
   },
   {
    "duration": 19,
    "start_time": "2022-08-23T02:35:59.395Z"
   },
   {
    "duration": 19,
    "start_time": "2022-08-23T02:37:02.463Z"
   },
   {
    "duration": 16,
    "start_time": "2022-08-23T02:37:02.875Z"
   },
   {
    "duration": 14,
    "start_time": "2022-08-23T02:37:03.761Z"
   },
   {
    "duration": 11,
    "start_time": "2022-08-23T02:37:04.449Z"
   },
   {
    "duration": 11,
    "start_time": "2022-08-23T02:37:05.469Z"
   },
   {
    "duration": 20,
    "start_time": "2022-08-23T02:37:06.725Z"
   },
   {
    "duration": 14,
    "start_time": "2022-08-23T02:52:24.321Z"
   },
   {
    "duration": 10,
    "start_time": "2022-08-23T02:52:30.792Z"
   },
   {
    "duration": 8,
    "start_time": "2022-08-23T02:52:57.193Z"
   },
   {
    "duration": 58,
    "start_time": "2022-08-23T03:12:25.449Z"
   },
   {
    "duration": 85,
    "start_time": "2022-08-23T03:14:43.943Z"
   },
   {
    "duration": 8,
    "start_time": "2022-08-23T03:16:49.276Z"
   },
   {
    "duration": 20,
    "start_time": "2022-08-23T03:16:59.980Z"
   },
   {
    "duration": 10,
    "start_time": "2022-08-23T03:17:10.683Z"
   },
   {
    "duration": 10,
    "start_time": "2022-08-23T03:17:15.012Z"
   },
   {
    "duration": 12,
    "start_time": "2022-08-23T03:17:18.250Z"
   },
   {
    "duration": 10,
    "start_time": "2022-08-23T03:17:26.882Z"
   },
   {
    "duration": 56,
    "start_time": "2022-08-23T03:20:58.730Z"
   },
   {
    "duration": 51,
    "start_time": "2022-08-23T03:28:25.417Z"
   },
   {
    "duration": 44,
    "start_time": "2022-08-23T03:28:37.669Z"
   },
   {
    "duration": 14,
    "start_time": "2022-08-23T03:28:59.797Z"
   },
   {
    "duration": 72,
    "start_time": "2022-08-23T03:30:36.589Z"
   },
   {
    "duration": 54,
    "start_time": "2022-08-23T03:30:39.464Z"
   },
   {
    "duration": 59,
    "start_time": "2022-08-23T04:00:20.816Z"
   },
   {
    "duration": 52,
    "start_time": "2022-08-23T04:12:23.763Z"
   },
   {
    "duration": 1182,
    "start_time": "2022-08-23T04:18:33.894Z"
   },
   {
    "duration": 57,
    "start_time": "2022-08-23T04:18:42.084Z"
   },
   {
    "duration": 7,
    "start_time": "2022-08-23T04:55:29.586Z"
   },
   {
    "duration": 14,
    "start_time": "2022-08-23T04:55:44.539Z"
   },
   {
    "duration": 1098,
    "start_time": "2022-08-23T04:56:12.431Z"
   },
   {
    "duration": 24,
    "start_time": "2022-08-23T04:57:06.425Z"
   },
   {
    "duration": 18,
    "start_time": "2022-08-23T04:58:29.092Z"
   },
   {
    "duration": 8,
    "start_time": "2022-08-23T04:59:32.026Z"
   },
   {
    "duration": 7,
    "start_time": "2022-08-23T05:00:00.189Z"
   },
   {
    "duration": 7,
    "start_time": "2022-08-23T05:00:39.976Z"
   },
   {
    "duration": 7,
    "start_time": "2022-08-23T05:00:56.286Z"
   },
   {
    "duration": 7,
    "start_time": "2022-08-23T05:01:03.324Z"
   },
   {
    "duration": 7,
    "start_time": "2022-08-23T05:01:18.359Z"
   },
   {
    "duration": 7,
    "start_time": "2022-08-23T05:01:25.171Z"
   },
   {
    "duration": 7,
    "start_time": "2022-08-23T05:06:25.434Z"
   },
   {
    "duration": 6,
    "start_time": "2022-08-23T05:12:59.303Z"
   },
   {
    "duration": 7,
    "start_time": "2022-08-23T05:34:24.845Z"
   },
   {
    "duration": 7,
    "start_time": "2022-08-23T05:35:13.859Z"
   },
   {
    "duration": 56,
    "start_time": "2022-08-23T05:37:21.382Z"
   },
   {
    "duration": 53,
    "start_time": "2022-08-23T05:37:32.711Z"
   },
   {
    "duration": 9,
    "start_time": "2022-08-23T05:37:40.299Z"
   },
   {
    "duration": 8,
    "start_time": "2022-08-23T05:40:14.487Z"
   },
   {
    "duration": 8,
    "start_time": "2022-08-23T05:40:34.102Z"
   },
   {
    "duration": 11,
    "start_time": "2022-08-23T05:41:13.131Z"
   },
   {
    "duration": 19,
    "start_time": "2022-08-23T05:41:31.091Z"
   },
   {
    "duration": 44,
    "start_time": "2022-08-23T05:42:43.782Z"
   },
   {
    "duration": 7,
    "start_time": "2022-08-23T05:46:25.887Z"
   },
   {
    "duration": 6,
    "start_time": "2022-08-23T05:47:19.062Z"
   },
   {
    "duration": 7,
    "start_time": "2022-08-23T05:47:38.141Z"
   },
   {
    "duration": 60,
    "start_time": "2022-08-23T05:51:34.758Z"
   },
   {
    "duration": 26,
    "start_time": "2022-08-23T06:03:46.868Z"
   },
   {
    "duration": 190,
    "start_time": "2022-08-23T06:04:11.470Z"
   },
   {
    "duration": 11,
    "start_time": "2022-08-23T06:04:24.873Z"
   },
   {
    "duration": 7,
    "start_time": "2022-08-23T06:06:38.551Z"
   },
   {
    "duration": 5,
    "start_time": "2022-08-23T06:07:01.100Z"
   },
   {
    "duration": 8,
    "start_time": "2022-08-23T06:07:03.958Z"
   },
   {
    "duration": 11,
    "start_time": "2022-08-23T06:08:23.998Z"
   },
   {
    "duration": 6,
    "start_time": "2022-08-23T06:08:29.983Z"
   },
   {
    "duration": 24,
    "start_time": "2022-08-23T06:10:55.216Z"
   },
   {
    "duration": 24,
    "start_time": "2022-08-23T06:11:07.530Z"
   },
   {
    "duration": 47,
    "start_time": "2022-08-23T06:18:10.417Z"
   },
   {
    "duration": 50,
    "start_time": "2022-08-23T06:25:17.445Z"
   },
   {
    "duration": 18,
    "start_time": "2022-08-23T06:26:34.271Z"
   },
   {
    "duration": 19,
    "start_time": "2022-08-23T06:26:57.674Z"
   },
   {
    "duration": 19,
    "start_time": "2022-08-23T06:27:03.696Z"
   },
   {
    "duration": 48,
    "start_time": "2022-08-24T23:21:16.772Z"
   },
   {
    "duration": 8,
    "start_time": "2022-08-24T23:21:23.000Z"
   },
   {
    "duration": 1253,
    "start_time": "2022-08-24T23:21:27.781Z"
   },
   {
    "duration": 20,
    "start_time": "2022-08-24T23:21:29.305Z"
   },
   {
    "duration": 14,
    "start_time": "2022-08-24T23:21:29.818Z"
   },
   {
    "duration": 14,
    "start_time": "2022-08-24T23:21:31.218Z"
   },
   {
    "duration": 9,
    "start_time": "2022-08-24T23:21:31.632Z"
   },
   {
    "duration": 20,
    "start_time": "2022-08-24T23:21:32.815Z"
   },
   {
    "duration": 8,
    "start_time": "2022-08-24T23:21:33.196Z"
   },
   {
    "duration": 10,
    "start_time": "2022-08-24T23:21:34.327Z"
   },
   {
    "duration": 8,
    "start_time": "2022-08-24T23:21:34.693Z"
   },
   {
    "duration": 11,
    "start_time": "2022-08-24T23:21:36.297Z"
   },
   {
    "duration": 9,
    "start_time": "2022-08-24T23:21:37.792Z"
   },
   {
    "duration": 23,
    "start_time": "2022-08-24T23:21:41.986Z"
   },
   {
    "duration": 10,
    "start_time": "2022-08-24T23:21:42.383Z"
   },
   {
    "duration": 15,
    "start_time": "2022-08-24T23:21:43.264Z"
   },
   {
    "duration": 21,
    "start_time": "2022-08-24T23:21:44.117Z"
   },
   {
    "duration": 10,
    "start_time": "2022-08-24T23:21:45.038Z"
   },
   {
    "duration": 5,
    "start_time": "2022-08-24T23:21:45.869Z"
   },
   {
    "duration": 7,
    "start_time": "2022-08-24T23:21:46.279Z"
   },
   {
    "duration": 6,
    "start_time": "2022-08-24T23:21:47.597Z"
   },
   {
    "duration": 32,
    "start_time": "2022-08-24T23:21:48.516Z"
   },
   {
    "duration": 6,
    "start_time": "2022-08-24T23:21:49.958Z"
   },
   {
    "duration": 32,
    "start_time": "2022-08-24T23:21:50.804Z"
   },
   {
    "duration": 32,
    "start_time": "2022-08-24T23:22:23.037Z"
   },
   {
    "duration": 869,
    "start_time": "2022-08-24T23:23:34.949Z"
   },
   {
    "duration": 507,
    "start_time": "2022-08-24T23:24:12.444Z"
   },
   {
    "duration": 399,
    "start_time": "2022-08-24T23:25:28.153Z"
   },
   {
    "duration": 425,
    "start_time": "2022-08-24T23:25:45.482Z"
   },
   {
    "duration": 550,
    "start_time": "2022-08-24T23:26:10.133Z"
   },
   {
    "duration": 505,
    "start_time": "2022-08-24T23:26:15.581Z"
   },
   {
    "duration": 549,
    "start_time": "2022-08-24T23:26:23.621Z"
   },
   {
    "duration": 579,
    "start_time": "2022-08-24T23:26:29.891Z"
   },
   {
    "duration": 585,
    "start_time": "2022-08-24T23:26:34.632Z"
   },
   {
    "duration": 545,
    "start_time": "2022-08-24T23:26:39.048Z"
   },
   {
    "duration": 542,
    "start_time": "2022-08-24T23:26:45.152Z"
   },
   {
    "duration": 528,
    "start_time": "2022-08-24T23:27:09.085Z"
   },
   {
    "duration": 35,
    "start_time": "2022-08-24T23:30:11.050Z"
   },
   {
    "duration": 24,
    "start_time": "2022-08-24T23:30:49.915Z"
   },
   {
    "duration": 267,
    "start_time": "2022-08-24T23:31:07.227Z"
   },
   {
    "duration": 30,
    "start_time": "2022-08-24T23:31:29.339Z"
   },
   {
    "duration": 161,
    "start_time": "2022-08-24T23:31:39.312Z"
   },
   {
    "duration": 8,
    "start_time": "2022-08-25T00:00:21.182Z"
   },
   {
    "duration": 561,
    "start_time": "2022-08-25T00:10:14.377Z"
   },
   {
    "duration": 504,
    "start_time": "2022-08-25T00:10:24.496Z"
   },
   {
    "duration": 577,
    "start_time": "2022-08-25T00:10:36.393Z"
   },
   {
    "duration": 316,
    "start_time": "2022-08-25T00:12:44.249Z"
   },
   {
    "duration": 314,
    "start_time": "2022-08-25T00:13:10.016Z"
   },
   {
    "duration": 3,
    "start_time": "2022-08-25T00:13:10.814Z"
   },
   {
    "duration": 3,
    "start_time": "2022-08-25T00:13:45.117Z"
   },
   {
    "duration": 295,
    "start_time": "2022-08-25T00:13:45.554Z"
   },
   {
    "duration": 19,
    "start_time": "2022-08-25T00:13:46.486Z"
   },
   {
    "duration": 9,
    "start_time": "2022-08-25T00:13:46.680Z"
   },
   {
    "duration": 18,
    "start_time": "2022-08-25T00:13:47.238Z"
   },
   {
    "duration": 9,
    "start_time": "2022-08-25T00:13:47.427Z"
   },
   {
    "duration": 14,
    "start_time": "2022-08-25T00:13:47.991Z"
   },
   {
    "duration": 7,
    "start_time": "2022-08-25T00:13:48.179Z"
   },
   {
    "duration": 10,
    "start_time": "2022-08-25T00:13:48.786Z"
   },
   {
    "duration": 8,
    "start_time": "2022-08-25T00:13:48.957Z"
   },
   {
    "duration": 11,
    "start_time": "2022-08-25T00:13:49.532Z"
   },
   {
    "duration": 11,
    "start_time": "2022-08-25T00:13:49.705Z"
   },
   {
    "duration": 20,
    "start_time": "2022-08-25T00:13:52.618Z"
   },
   {
    "duration": 7,
    "start_time": "2022-08-25T00:14:59.365Z"
   },
   {
    "duration": 7,
    "start_time": "2022-08-25T00:16:03.341Z"
   },
   {
    "duration": 378,
    "start_time": "2022-08-27T19:37:47.577Z"
   },
   {
    "duration": 800,
    "start_time": "2022-08-27T19:37:48.133Z"
   },
   {
    "duration": 22,
    "start_time": "2022-08-27T19:37:50.289Z"
   },
   {
    "duration": 17,
    "start_time": "2022-08-27T19:37:58.023Z"
   },
   {
    "duration": 21,
    "start_time": "2022-08-27T19:38:00.506Z"
   },
   {
    "duration": 8,
    "start_time": "2022-08-27T19:38:01.080Z"
   },
   {
    "duration": 17,
    "start_time": "2022-08-27T19:38:02.802Z"
   },
   {
    "duration": 7,
    "start_time": "2022-08-27T19:38:03.380Z"
   },
   {
    "duration": 10,
    "start_time": "2022-08-27T19:38:04.988Z"
   },
   {
    "duration": 9,
    "start_time": "2022-08-27T19:38:05.471Z"
   },
   {
    "duration": 12,
    "start_time": "2022-08-27T19:38:07.079Z"
   },
   {
    "duration": 11,
    "start_time": "2022-08-27T19:38:07.564Z"
   },
   {
    "duration": 24,
    "start_time": "2022-08-27T19:38:10.754Z"
   },
   {
    "duration": 23,
    "start_time": "2022-08-27T19:38:11.237Z"
   },
   {
    "duration": 17,
    "start_time": "2022-08-27T19:38:12.298Z"
   },
   {
    "duration": 20,
    "start_time": "2022-08-27T19:38:13.295Z"
   },
   {
    "duration": 10,
    "start_time": "2022-08-27T19:38:14.286Z"
   },
   {
    "duration": 7,
    "start_time": "2022-08-27T19:38:15.884Z"
   },
   {
    "duration": 8,
    "start_time": "2022-08-27T19:38:16.421Z"
   },
   {
    "duration": 6,
    "start_time": "2022-08-27T19:38:17.923Z"
   },
   {
    "duration": 31,
    "start_time": "2022-08-27T19:38:18.920Z"
   },
   {
    "duration": 182,
    "start_time": "2022-08-27T19:38:19.944Z"
   },
   {
    "duration": 1012,
    "start_time": "2022-08-27T19:38:20.956Z"
   },
   {
    "duration": 599,
    "start_time": "2022-08-27T19:38:22.834Z"
   },
   {
    "duration": 16,
    "start_time": "2022-08-27T19:38:24.126Z"
   },
   {
    "duration": 562,
    "start_time": "2022-08-27T19:39:01.390Z"
   },
   {
    "duration": 566,
    "start_time": "2022-08-27T19:39:12.522Z"
   },
   {
    "duration": 666,
    "start_time": "2022-08-27T19:39:17.856Z"
   },
   {
    "duration": 15,
    "start_time": "2022-08-27T19:41:50.843Z"
   },
   {
    "duration": 20,
    "start_time": "2022-08-27T19:41:57.661Z"
   },
   {
    "duration": 11,
    "start_time": "2022-08-27T19:42:46.192Z"
   },
   {
    "duration": 6,
    "start_time": "2022-08-27T19:42:52.449Z"
   },
   {
    "duration": 8,
    "start_time": "2022-08-27T19:43:06.994Z"
   },
   {
    "duration": 18,
    "start_time": "2022-08-27T20:06:52.987Z"
   },
   {
    "duration": 73,
    "start_time": "2022-08-27T20:09:48.392Z"
   },
   {
    "duration": 5,
    "start_time": "2022-08-27T20:10:06.385Z"
   },
   {
    "duration": 16,
    "start_time": "2022-08-27T20:10:22.690Z"
   },
   {
    "duration": 22,
    "start_time": "2022-08-27T20:10:48.700Z"
   },
   {
    "duration": 21,
    "start_time": "2022-08-27T20:11:50.499Z"
   },
   {
    "duration": 13,
    "start_time": "2022-08-27T20:11:58.427Z"
   },
   {
    "duration": 419,
    "start_time": "2022-08-27T20:15:15.912Z"
   },
   {
    "duration": 291,
    "start_time": "2022-08-27T20:15:16.333Z"
   },
   {
    "duration": 18,
    "start_time": "2022-08-27T20:15:16.732Z"
   },
   {
    "duration": 17,
    "start_time": "2022-08-27T20:15:16.931Z"
   },
   {
    "duration": 16,
    "start_time": "2022-08-27T20:15:17.532Z"
   },
   {
    "duration": 9,
    "start_time": "2022-08-27T20:15:17.764Z"
   },
   {
    "duration": 14,
    "start_time": "2022-08-27T20:15:18.345Z"
   },
   {
    "duration": 8,
    "start_time": "2022-08-27T20:15:18.531Z"
   },
   {
    "duration": 10,
    "start_time": "2022-08-27T20:15:19.143Z"
   },
   {
    "duration": 9,
    "start_time": "2022-08-27T20:15:19.354Z"
   },
   {
    "duration": 10,
    "start_time": "2022-08-27T20:15:20.045Z"
   },
   {
    "duration": 10,
    "start_time": "2022-08-27T20:15:20.374Z"
   },
   {
    "duration": 22,
    "start_time": "2022-08-27T20:15:23.349Z"
   },
   {
    "duration": 8,
    "start_time": "2022-08-27T20:15:24.344Z"
   },
   {
    "duration": 15,
    "start_time": "2022-08-27T20:15:26.768Z"
   },
   {
    "duration": 19,
    "start_time": "2022-08-27T20:15:29.838Z"
   },
   {
    "duration": 9,
    "start_time": "2022-08-27T20:15:32.466Z"
   },
   {
    "duration": 13,
    "start_time": "2022-08-27T20:16:37.594Z"
   },
   {
    "duration": 5,
    "start_time": "2022-08-27T20:17:00.166Z"
   },
   {
    "duration": 14,
    "start_time": "2022-08-27T20:17:04.766Z"
   },
   {
    "duration": 15,
    "start_time": "2022-08-27T20:17:19.907Z"
   },
   {
    "duration": 13,
    "start_time": "2022-08-27T20:17:30.980Z"
   },
   {
    "duration": 11,
    "start_time": "2022-08-27T20:17:46.491Z"
   },
   {
    "duration": 5,
    "start_time": "2022-08-27T20:18:12.324Z"
   },
   {
    "duration": 5,
    "start_time": "2022-08-27T20:19:00.373Z"
   },
   {
    "duration": 59,
    "start_time": "2022-08-27T20:19:45.018Z"
   },
   {
    "duration": 16,
    "start_time": "2022-08-27T20:19:48.338Z"
   },
   {
    "duration": 12,
    "start_time": "2022-08-27T20:19:59.470Z"
   },
   {
    "duration": 14,
    "start_time": "2022-08-27T20:20:29.122Z"
   },
   {
    "duration": 7,
    "start_time": "2022-08-27T20:23:49.495Z"
   },
   {
    "duration": 17,
    "start_time": "2022-08-27T20:24:00.525Z"
   },
   {
    "duration": 15,
    "start_time": "2022-08-27T20:25:10.395Z"
   },
   {
    "duration": 1312,
    "start_time": "2022-08-27T20:25:15.447Z"
   },
   {
    "duration": 1520,
    "start_time": "2022-08-27T20:25:36.335Z"
   },
   {
    "duration": 1416,
    "start_time": "2022-08-27T20:25:51.554Z"
   },
   {
    "duration": 16,
    "start_time": "2022-08-27T20:26:11.866Z"
   },
   {
    "duration": 7407,
    "start_time": "2022-08-27T20:27:35.557Z"
   },
   {
    "duration": 1514,
    "start_time": "2022-08-27T20:28:02.364Z"
   },
   {
    "duration": 1476,
    "start_time": "2022-08-27T20:28:04.826Z"
   },
   {
    "duration": 1588,
    "start_time": "2022-08-27T20:28:27.991Z"
   },
   {
    "duration": 26,
    "start_time": "2022-08-27T20:29:04.805Z"
   },
   {
    "duration": 9,
    "start_time": "2022-08-27T20:29:50.789Z"
   },
   {
    "duration": 8,
    "start_time": "2022-08-27T20:29:58.189Z"
   },
   {
    "duration": 7,
    "start_time": "2022-08-27T20:30:35.512Z"
   },
   {
    "duration": 19,
    "start_time": "2022-08-27T20:30:40.433Z"
   },
   {
    "duration": 1257,
    "start_time": "2022-08-27T20:31:28.772Z"
   },
   {
    "duration": 28,
    "start_time": "2022-08-27T20:32:16.199Z"
   },
   {
    "duration": 3,
    "start_time": "2022-08-27T20:33:54.913Z"
   },
   {
    "duration": 314,
    "start_time": "2022-08-27T20:33:54.918Z"
   },
   {
    "duration": 17,
    "start_time": "2022-08-27T20:33:55.956Z"
   },
   {
    "duration": 8,
    "start_time": "2022-08-27T20:33:55.974Z"
   },
   {
    "duration": 15,
    "start_time": "2022-08-27T20:33:55.984Z"
   },
   {
    "duration": 8,
    "start_time": "2022-08-27T20:33:57.185Z"
   },
   {
    "duration": 21,
    "start_time": "2022-08-27T20:33:58.017Z"
   },
   {
    "duration": 10,
    "start_time": "2022-08-27T20:33:58.202Z"
   },
   {
    "duration": 11,
    "start_time": "2022-08-27T20:33:59.339Z"
   },
   {
    "duration": 9,
    "start_time": "2022-08-27T20:33:59.531Z"
   },
   {
    "duration": 12,
    "start_time": "2022-08-27T20:34:00.207Z"
   },
   {
    "duration": 10,
    "start_time": "2022-08-27T20:34:00.623Z"
   },
   {
    "duration": 24,
    "start_time": "2022-08-27T20:34:06.541Z"
   },
   {
    "duration": 10,
    "start_time": "2022-08-27T20:34:06.568Z"
   },
   {
    "duration": 13,
    "start_time": "2022-08-27T20:34:15.120Z"
   },
   {
    "duration": 17,
    "start_time": "2022-08-27T20:34:18.620Z"
   },
   {
    "duration": 9,
    "start_time": "2022-08-27T20:34:20.840Z"
   },
   {
    "duration": 8,
    "start_time": "2022-08-27T20:35:17.624Z"
   },
   {
    "duration": 37,
    "start_time": "2022-08-27T20:35:19.430Z"
   },
   {
    "duration": 930,
    "start_time": "2022-08-27T20:36:08.767Z"
   },
   {
    "duration": 24,
    "start_time": "2022-08-27T20:42:20.035Z"
   },
   {
    "duration": 21,
    "start_time": "2022-08-27T20:43:46.259Z"
   },
   {
    "duration": 11,
    "start_time": "2022-08-27T20:45:46.696Z"
   },
   {
    "duration": 8,
    "start_time": "2022-08-27T20:45:56.345Z"
   },
   {
    "duration": 9,
    "start_time": "2022-08-27T20:46:13.447Z"
   },
   {
    "duration": 63,
    "start_time": "2022-08-27T20:46:49.425Z"
   },
   {
    "duration": 8,
    "start_time": "2022-08-27T20:46:52.378Z"
   },
   {
    "duration": 9,
    "start_time": "2022-08-27T20:47:03.298Z"
   },
   {
    "duration": 7,
    "start_time": "2022-08-27T20:49:04.815Z"
   },
   {
    "duration": 8,
    "start_time": "2022-08-27T20:49:38.014Z"
   },
   {
    "duration": 8,
    "start_time": "2022-08-27T20:49:42.497Z"
   },
   {
    "duration": 3,
    "start_time": "2022-08-27T20:49:54.454Z"
   },
   {
    "duration": 305,
    "start_time": "2022-08-27T20:49:54.691Z"
   },
   {
    "duration": 22,
    "start_time": "2022-08-27T20:49:55.290Z"
   },
   {
    "duration": 9,
    "start_time": "2022-08-27T20:49:55.505Z"
   },
   {
    "duration": 22,
    "start_time": "2022-08-27T20:49:56.139Z"
   },
   {
    "duration": 9,
    "start_time": "2022-08-27T20:49:56.343Z"
   },
   {
    "duration": 15,
    "start_time": "2022-08-27T20:50:00.961Z"
   },
   {
    "duration": 9,
    "start_time": "2022-08-27T20:50:01.220Z"
   },
   {
    "duration": 11,
    "start_time": "2022-08-27T20:50:02.034Z"
   },
   {
    "duration": 9,
    "start_time": "2022-08-27T20:50:02.699Z"
   },
   {
    "duration": 11,
    "start_time": "2022-08-27T20:50:02.891Z"
   },
   {
    "duration": 10,
    "start_time": "2022-08-27T20:50:03.198Z"
   },
   {
    "duration": 24,
    "start_time": "2022-08-27T20:50:06.346Z"
   },
   {
    "duration": 10,
    "start_time": "2022-08-27T20:50:07.132Z"
   },
   {
    "duration": 23,
    "start_time": "2022-08-27T20:50:09.537Z"
   },
   {
    "duration": 23,
    "start_time": "2022-08-27T20:50:15.424Z"
   },
   {
    "duration": 30,
    "start_time": "2022-08-27T20:50:16.399Z"
   },
   {
    "duration": 9,
    "start_time": "2022-08-27T20:50:18.494Z"
   },
   {
    "duration": 8,
    "start_time": "2022-08-27T20:50:26.529Z"
   },
   {
    "duration": 30,
    "start_time": "2022-08-27T20:50:27.808Z"
   },
   {
    "duration": 588,
    "start_time": "2022-08-27T20:50:33.034Z"
   },
   {
    "duration": 522,
    "start_time": "2022-08-27T20:50:36.679Z"
   },
   {
    "duration": 589,
    "start_time": "2022-08-27T20:51:53.907Z"
   },
   {
    "duration": 679,
    "start_time": "2022-08-27T20:51:59.315Z"
   },
   {
    "duration": 570,
    "start_time": "2022-08-27T20:52:55.282Z"
   },
   {
    "duration": 640,
    "start_time": "2022-08-27T20:53:37.153Z"
   },
   {
    "duration": 649,
    "start_time": "2022-08-27T20:53:49.993Z"
   },
   {
    "duration": 13,
    "start_time": "2022-08-27T20:54:23.424Z"
   },
   {
    "duration": 9,
    "start_time": "2022-08-27T20:54:32.337Z"
   },
   {
    "duration": 12,
    "start_time": "2022-08-27T20:54:39.097Z"
   },
   {
    "duration": 185,
    "start_time": "2022-08-27T20:57:08.650Z"
   },
   {
    "duration": 682,
    "start_time": "2022-08-27T20:57:46.236Z"
   },
   {
    "duration": 558,
    "start_time": "2022-08-27T20:57:57.998Z"
   },
   {
    "duration": 12,
    "start_time": "2022-08-27T21:02:11.818Z"
   },
   {
    "duration": 584,
    "start_time": "2022-08-27T21:03:51.501Z"
   },
   {
    "duration": 22,
    "start_time": "2022-08-27T21:04:05.946Z"
   },
   {
    "duration": 107,
    "start_time": "2022-08-27T21:12:46.382Z"
   },
   {
    "duration": 21,
    "start_time": "2022-08-27T21:14:01.669Z"
   },
   {
    "duration": 10,
    "start_time": "2022-08-27T21:14:06.787Z"
   },
   {
    "duration": 11,
    "start_time": "2022-08-27T21:18:58.960Z"
   },
   {
    "duration": 4,
    "start_time": "2022-08-27T21:20:38.283Z"
   },
   {
    "duration": 23,
    "start_time": "2022-08-27T21:36:38.805Z"
   },
   {
    "duration": 19,
    "start_time": "2022-08-27T21:36:42.385Z"
   },
   {
    "duration": 79,
    "start_time": "2022-08-27T21:37:48.442Z"
   },
   {
    "duration": 104,
    "start_time": "2022-08-27T21:37:57.981Z"
   },
   {
    "duration": 24,
    "start_time": "2022-08-27T21:38:14.287Z"
   },
   {
    "duration": 21,
    "start_time": "2022-08-27T21:39:37.833Z"
   },
   {
    "duration": 17,
    "start_time": "2022-08-27T21:43:42.539Z"
   },
   {
    "duration": 18,
    "start_time": "2022-08-27T21:45:41.723Z"
   },
   {
    "duration": 19,
    "start_time": "2022-08-27T22:08:44.381Z"
   },
   {
    "duration": 16,
    "start_time": "2022-08-27T22:09:37.371Z"
   },
   {
    "duration": 16,
    "start_time": "2022-08-27T22:12:35.932Z"
   },
   {
    "duration": 16,
    "start_time": "2022-08-27T22:13:39.307Z"
   },
   {
    "duration": 14,
    "start_time": "2022-08-27T22:13:52.541Z"
   },
   {
    "duration": 50,
    "start_time": "2022-08-27T22:14:22.133Z"
   },
   {
    "duration": 51,
    "start_time": "2022-08-27T22:14:38.936Z"
   },
   {
    "duration": 15,
    "start_time": "2022-08-27T22:15:03.057Z"
   },
   {
    "duration": 14,
    "start_time": "2022-08-27T22:15:14.667Z"
   },
   {
    "duration": 12,
    "start_time": "2022-08-27T22:15:30.278Z"
   },
   {
    "duration": 15,
    "start_time": "2022-08-27T22:15:49.103Z"
   },
   {
    "duration": 75,
    "start_time": "2022-08-27T22:17:08.506Z"
   },
   {
    "duration": 13,
    "start_time": "2022-08-27T22:17:15.402Z"
   },
   {
    "duration": 24,
    "start_time": "2022-08-27T22:17:30.937Z"
   },
   {
    "duration": 7,
    "start_time": "2022-08-27T22:29:26.553Z"
   },
   {
    "duration": 18,
    "start_time": "2022-08-27T22:29:34.930Z"
   },
   {
    "duration": 23,
    "start_time": "2022-08-27T22:29:46.431Z"
   },
   {
    "duration": 25,
    "start_time": "2022-08-27T22:32:54.959Z"
   },
   {
    "duration": 22,
    "start_time": "2022-08-27T22:34:21.577Z"
   },
   {
    "duration": 21,
    "start_time": "2022-08-27T22:36:59.780Z"
   },
   {
    "duration": 94,
    "start_time": "2022-08-27T22:39:41.036Z"
   },
   {
    "duration": 75,
    "start_time": "2022-08-27T22:40:06.282Z"
   },
   {
    "duration": 83,
    "start_time": "2022-08-27T22:40:30.153Z"
   },
   {
    "duration": 33,
    "start_time": "2022-08-27T22:40:33.467Z"
   },
   {
    "duration": 24,
    "start_time": "2022-08-27T22:40:51.732Z"
   },
   {
    "duration": 46,
    "start_time": "2022-08-27T22:41:11.087Z"
   },
   {
    "duration": 16,
    "start_time": "2022-08-27T22:42:51.161Z"
   },
   {
    "duration": 27,
    "start_time": "2022-08-27T22:44:23.192Z"
   },
   {
    "duration": 23,
    "start_time": "2022-08-27T22:44:30.207Z"
   },
   {
    "duration": 1182,
    "start_time": "2022-08-27T22:45:29.351Z"
   },
   {
    "duration": 22,
    "start_time": "2022-08-27T22:45:43.356Z"
   },
   {
    "duration": 52,
    "start_time": "2022-08-27T22:50:39.259Z"
   },
   {
    "duration": 20,
    "start_time": "2022-08-27T22:52:14.067Z"
   },
   {
    "duration": 31,
    "start_time": "2022-08-27T22:52:31.127Z"
   },
   {
    "duration": 13,
    "start_time": "2022-08-27T22:53:30.500Z"
   },
   {
    "duration": 33,
    "start_time": "2022-08-27T22:53:32.326Z"
   },
   {
    "duration": 39,
    "start_time": "2022-08-27T22:58:07.113Z"
   },
   {
    "duration": 8,
    "start_time": "2022-08-27T23:00:12.822Z"
   },
   {
    "duration": 13,
    "start_time": "2022-08-27T23:00:21.304Z"
   },
   {
    "duration": 31,
    "start_time": "2022-08-27T23:02:29.317Z"
   },
   {
    "duration": 24,
    "start_time": "2022-08-27T23:03:45.749Z"
   },
   {
    "duration": 29,
    "start_time": "2022-08-27T23:04:00.495Z"
   },
   {
    "duration": 20,
    "start_time": "2022-08-27T23:04:37.045Z"
   },
   {
    "duration": 7,
    "start_time": "2022-08-27T23:09:33.533Z"
   },
   {
    "duration": 76,
    "start_time": "2022-08-27T23:09:55.056Z"
   },
   {
    "duration": 12,
    "start_time": "2022-08-27T23:12:37.182Z"
   },
   {
    "duration": 35,
    "start_time": "2022-08-27T23:16:14.855Z"
   },
   {
    "duration": 16,
    "start_time": "2022-08-27T23:19:01.211Z"
   },
   {
    "duration": 1143,
    "start_time": "2022-08-27T23:57:57.731Z"
   },
   {
    "duration": 1230,
    "start_time": "2022-08-27T23:58:15.525Z"
   },
   {
    "duration": 17,
    "start_time": "2022-08-28T00:00:01.237Z"
   },
   {
    "duration": 15,
    "start_time": "2022-08-28T00:00:26.868Z"
   },
   {
    "duration": 10,
    "start_time": "2022-08-28T00:03:19.953Z"
   },
   {
    "duration": 717,
    "start_time": "2022-08-28T00:04:14.799Z"
   },
   {
    "duration": 11,
    "start_time": "2022-08-28T00:04:21.325Z"
   },
   {
    "duration": 27,
    "start_time": "2022-08-28T00:04:47.669Z"
   },
   {
    "duration": 10,
    "start_time": "2022-08-28T00:18:53.980Z"
   },
   {
    "duration": 11,
    "start_time": "2022-08-28T00:19:08.628Z"
   },
   {
    "duration": 11,
    "start_time": "2022-08-28T00:19:26.714Z"
   },
   {
    "duration": 13,
    "start_time": "2022-08-28T00:19:42.069Z"
   },
   {
    "duration": 1716,
    "start_time": "2022-08-28T00:20:38.600Z"
   },
   {
    "duration": 11,
    "start_time": "2022-08-28T00:20:47.439Z"
   },
   {
    "duration": 1395,
    "start_time": "2022-08-28T00:20:55.724Z"
   },
   {
    "duration": 1416,
    "start_time": "2022-08-28T00:21:09.016Z"
   },
   {
    "duration": 2,
    "start_time": "2022-08-28T00:21:34.499Z"
   },
   {
    "duration": 295,
    "start_time": "2022-08-28T00:21:34.732Z"
   },
   {
    "duration": 17,
    "start_time": "2022-08-28T00:21:35.274Z"
   },
   {
    "duration": 8,
    "start_time": "2022-08-28T00:21:35.468Z"
   },
   {
    "duration": 22,
    "start_time": "2022-08-28T00:21:36.043Z"
   },
   {
    "duration": 9,
    "start_time": "2022-08-28T00:21:36.254Z"
   },
   {
    "duration": 14,
    "start_time": "2022-08-28T00:21:36.869Z"
   },
   {
    "duration": 8,
    "start_time": "2022-08-28T00:21:37.034Z"
   },
   {
    "duration": 11,
    "start_time": "2022-08-28T00:21:37.616Z"
   },
   {
    "duration": 9,
    "start_time": "2022-08-28T00:21:37.839Z"
   },
   {
    "duration": 10,
    "start_time": "2022-08-28T00:21:38.477Z"
   },
   {
    "duration": 10,
    "start_time": "2022-08-28T00:21:38.655Z"
   },
   {
    "duration": 22,
    "start_time": "2022-08-28T00:21:39.915Z"
   },
   {
    "duration": 9,
    "start_time": "2022-08-28T00:21:40.156Z"
   },
   {
    "duration": 15,
    "start_time": "2022-08-28T00:21:40.615Z"
   },
   {
    "duration": 17,
    "start_time": "2022-08-28T00:21:41.887Z"
   },
   {
    "duration": 8,
    "start_time": "2022-08-28T00:21:44.784Z"
   },
   {
    "duration": 6,
    "start_time": "2022-08-28T00:21:53.159Z"
   },
   {
    "duration": 28,
    "start_time": "2022-08-28T00:21:54.192Z"
   },
   {
    "duration": 475,
    "start_time": "2022-08-28T00:21:55.842Z"
   },
   {
    "duration": 10,
    "start_time": "2022-08-28T00:21:57.348Z"
   },
   {
    "duration": 9,
    "start_time": "2022-08-28T00:21:59.832Z"
   },
   {
    "duration": 31,
    "start_time": "2022-08-28T00:22:07.256Z"
   },
   {
    "duration": 460,
    "start_time": "2022-08-28T00:22:14.931Z"
   },
   {
    "duration": 314,
    "start_time": "2022-08-28T00:22:28.742Z"
   },
   {
    "duration": 343,
    "start_time": "2022-08-28T00:22:42.906Z"
   },
   {
    "duration": 12,
    "start_time": "2022-08-28T00:22:49.977Z"
   },
   {
    "duration": 1478,
    "start_time": "2022-08-28T00:23:23.501Z"
   },
   {
    "duration": 14,
    "start_time": "2022-08-28T00:23:34.370Z"
   },
   {
    "duration": 11,
    "start_time": "2022-08-28T00:24:36.539Z"
   },
   {
    "duration": 28,
    "start_time": "2022-08-28T00:24:57.029Z"
   },
   {
    "duration": 13,
    "start_time": "2022-08-28T00:24:58.081Z"
   },
   {
    "duration": 10,
    "start_time": "2022-08-28T00:24:58.118Z"
   },
   {
    "duration": 13,
    "start_time": "2022-08-28T00:25:09.783Z"
   },
   {
    "duration": 18,
    "start_time": "2022-08-28T00:25:30.316Z"
   },
   {
    "duration": 28,
    "start_time": "2022-08-28T00:25:38.084Z"
   },
   {
    "duration": 17,
    "start_time": "2022-08-28T00:25:41.008Z"
   },
   {
    "duration": 11,
    "start_time": "2022-08-28T00:26:23.012Z"
   },
   {
    "duration": 38,
    "start_time": "2022-08-28T00:26:33.532Z"
   },
   {
    "duration": 48,
    "start_time": "2022-08-28T00:28:11.433Z"
   },
   {
    "duration": 77,
    "start_time": "2022-08-28T00:28:34.781Z"
   },
   {
    "duration": 12,
    "start_time": "2022-08-28T00:28:37.700Z"
   },
   {
    "duration": 17,
    "start_time": "2022-08-28T00:38:04.380Z"
   },
   {
    "duration": 18,
    "start_time": "2022-08-28T00:38:21.061Z"
   },
   {
    "duration": 37,
    "start_time": "2022-08-28T00:38:40.203Z"
   },
   {
    "duration": 2,
    "start_time": "2022-08-28T01:08:47.162Z"
   },
   {
    "duration": 299,
    "start_time": "2022-08-28T01:08:51.345Z"
   },
   {
    "duration": 17,
    "start_time": "2022-08-28T01:08:53.301Z"
   },
   {
    "duration": 8,
    "start_time": "2022-08-28T01:08:55.616Z"
   },
   {
    "duration": 15,
    "start_time": "2022-08-28T01:08:57.696Z"
   },
   {
    "duration": 8,
    "start_time": "2022-08-28T01:08:57.765Z"
   },
   {
    "duration": 12,
    "start_time": "2022-08-28T01:08:58.799Z"
   },
   {
    "duration": 7,
    "start_time": "2022-08-28T01:08:59.469Z"
   },
   {
    "duration": 9,
    "start_time": "2022-08-28T01:09:01.481Z"
   },
   {
    "duration": 8,
    "start_time": "2022-08-28T01:09:02.179Z"
   },
   {
    "duration": 10,
    "start_time": "2022-08-28T01:09:05.095Z"
   },
   {
    "duration": 10,
    "start_time": "2022-08-28T01:09:06.512Z"
   },
   {
    "duration": 20,
    "start_time": "2022-08-28T01:09:10.327Z"
   },
   {
    "duration": 9,
    "start_time": "2022-08-28T01:09:11.184Z"
   },
   {
    "duration": 14,
    "start_time": "2022-08-28T01:09:14.170Z"
   },
   {
    "duration": 17,
    "start_time": "2022-08-28T01:09:17.417Z"
   },
   {
    "duration": 7,
    "start_time": "2022-08-28T01:09:18.997Z"
   },
   {
    "duration": 8,
    "start_time": "2022-08-28T01:11:55.412Z"
   },
   {
    "duration": 7,
    "start_time": "2022-08-28T01:12:13.792Z"
   },
   {
    "duration": 6,
    "start_time": "2022-08-28T01:12:17.807Z"
   },
   {
    "duration": 26,
    "start_time": "2022-08-28T01:12:22.299Z"
   },
   {
    "duration": 456,
    "start_time": "2022-08-28T01:12:26.951Z"
   },
   {
    "duration": 11,
    "start_time": "2022-08-28T01:12:31.818Z"
   },
   {
    "duration": 10,
    "start_time": "2022-08-28T01:12:32.669Z"
   },
   {
    "duration": 20,
    "start_time": "2022-08-28T01:13:25.576Z"
   },
   {
    "duration": 54,
    "start_time": "2022-08-28T01:13:32.257Z"
   },
   {
    "duration": 11,
    "start_time": "2022-08-28T01:16:16.568Z"
   },
   {
    "duration": 16,
    "start_time": "2022-08-28T01:16:22.265Z"
   },
   {
    "duration": 21,
    "start_time": "2022-08-28T01:24:57.182Z"
   },
   {
    "duration": 18,
    "start_time": "2022-08-28T01:25:20.649Z"
   },
   {
    "duration": 19,
    "start_time": "2022-08-28T01:25:47.578Z"
   },
   {
    "duration": 3,
    "start_time": "2022-08-28T03:22:06.023Z"
   },
   {
    "duration": 321,
    "start_time": "2022-08-28T03:22:06.504Z"
   },
   {
    "duration": 17,
    "start_time": "2022-08-28T03:22:07.272Z"
   },
   {
    "duration": 9,
    "start_time": "2022-08-28T03:22:07.499Z"
   },
   {
    "duration": 16,
    "start_time": "2022-08-28T03:22:08.175Z"
   },
   {
    "duration": 10,
    "start_time": "2022-08-28T03:22:08.417Z"
   },
   {
    "duration": 20,
    "start_time": "2022-08-28T03:22:09.032Z"
   },
   {
    "duration": 10,
    "start_time": "2022-08-28T03:22:09.258Z"
   },
   {
    "duration": 15,
    "start_time": "2022-08-28T03:22:11.713Z"
   },
   {
    "duration": 11,
    "start_time": "2022-08-28T03:22:11.927Z"
   },
   {
    "duration": 14,
    "start_time": "2022-08-28T03:22:12.566Z"
   },
   {
    "duration": 14,
    "start_time": "2022-08-28T03:22:12.778Z"
   },
   {
    "duration": 32,
    "start_time": "2022-08-28T03:22:14.295Z"
   },
   {
    "duration": 8,
    "start_time": "2022-08-28T03:22:14.866Z"
   },
   {
    "duration": 15,
    "start_time": "2022-08-28T03:22:16.645Z"
   },
   {
    "duration": 17,
    "start_time": "2022-08-28T03:22:17.526Z"
   },
   {
    "duration": 8,
    "start_time": "2022-08-28T03:22:18.487Z"
   },
   {
    "duration": 6,
    "start_time": "2022-08-28T03:22:29.879Z"
   },
   {
    "duration": 8,
    "start_time": "2022-08-28T03:22:30.792Z"
   },
   {
    "duration": 7,
    "start_time": "2022-08-28T03:22:34.233Z"
   },
   {
    "duration": 29,
    "start_time": "2022-08-28T03:22:34.980Z"
   },
   {
    "duration": 514,
    "start_time": "2022-08-28T03:22:36.283Z"
   },
   {
    "duration": 10,
    "start_time": "2022-08-28T03:22:38.105Z"
   },
   {
    "duration": 12,
    "start_time": "2022-08-28T03:27:57.890Z"
   },
   {
    "duration": 14,
    "start_time": "2022-08-28T03:28:32.110Z"
   },
   {
    "duration": 12,
    "start_time": "2022-08-28T03:28:47.848Z"
   },
   {
    "duration": 11,
    "start_time": "2022-08-28T03:28:54.926Z"
   },
   {
    "duration": 8,
    "start_time": "2022-08-28T03:30:46.178Z"
   },
   {
    "duration": 53,
    "start_time": "2022-08-28T03:31:02.987Z"
   },
   {
    "duration": 17,
    "start_time": "2022-08-28T03:33:59.396Z"
   },
   {
    "duration": 28,
    "start_time": "2022-08-28T03:34:07.265Z"
   },
   {
    "duration": 33,
    "start_time": "2022-08-28T03:37:26.508Z"
   },
   {
    "duration": 30,
    "start_time": "2022-08-28T03:39:19.542Z"
   },
   {
    "duration": 39,
    "start_time": "2022-08-28T03:40:26.842Z"
   },
   {
    "duration": 37,
    "start_time": "2022-08-28T03:41:08.669Z"
   },
   {
    "duration": 41,
    "start_time": "2022-08-28T03:41:15.051Z"
   },
   {
    "duration": 29,
    "start_time": "2022-08-28T03:47:39.821Z"
   },
   {
    "duration": 31,
    "start_time": "2022-08-28T03:49:25.717Z"
   },
   {
    "duration": 7,
    "start_time": "2022-08-28T03:53:41.903Z"
   },
   {
    "duration": 7,
    "start_time": "2022-08-28T03:54:27.020Z"
   },
   {
    "duration": 35,
    "start_time": "2022-08-28T03:54:34.824Z"
   },
   {
    "duration": 7,
    "start_time": "2022-08-28T03:55:53.493Z"
   },
   {
    "duration": 10,
    "start_time": "2022-08-28T03:59:13.078Z"
   },
   {
    "duration": 7,
    "start_time": "2022-08-28T03:59:19.211Z"
   },
   {
    "duration": 25,
    "start_time": "2022-08-28T04:01:57.035Z"
   },
   {
    "duration": 7,
    "start_time": "2022-08-28T04:08:13.707Z"
   },
   {
    "duration": 17,
    "start_time": "2022-08-28T04:09:14.943Z"
   },
   {
    "duration": 12,
    "start_time": "2022-08-28T04:09:40.737Z"
   },
   {
    "duration": 13,
    "start_time": "2022-08-28T04:10:29.251Z"
   },
   {
    "duration": 12,
    "start_time": "2022-08-28T04:10:44.338Z"
   },
   {
    "duration": 13,
    "start_time": "2022-08-28T04:11:00.784Z"
   },
   {
    "duration": 12,
    "start_time": "2022-08-28T04:11:26.733Z"
   },
   {
    "duration": 12,
    "start_time": "2022-08-28T04:11:53.714Z"
   },
   {
    "duration": 13,
    "start_time": "2022-08-28T04:12:05.332Z"
   },
   {
    "duration": 14,
    "start_time": "2022-08-28T04:12:39.906Z"
   },
   {
    "duration": 13,
    "start_time": "2022-08-28T04:13:07.555Z"
   },
   {
    "duration": 13,
    "start_time": "2022-08-28T04:13:21.766Z"
   },
   {
    "duration": 12,
    "start_time": "2022-08-28T04:13:31.560Z"
   },
   {
    "duration": 13,
    "start_time": "2022-08-28T04:13:35.173Z"
   },
   {
    "duration": 7,
    "start_time": "2022-08-28T04:13:42.341Z"
   },
   {
    "duration": 13,
    "start_time": "2022-08-28T04:13:46.325Z"
   },
   {
    "duration": 23,
    "start_time": "2022-08-28T04:14:04.787Z"
   },
   {
    "duration": 3,
    "start_time": "2022-08-28T04:14:37.616Z"
   },
   {
    "duration": 294,
    "start_time": "2022-08-28T04:14:38.003Z"
   },
   {
    "duration": 18,
    "start_time": "2022-08-28T04:14:38.610Z"
   },
   {
    "duration": 8,
    "start_time": "2022-08-28T04:14:38.871Z"
   },
   {
    "duration": 15,
    "start_time": "2022-08-28T04:14:40.786Z"
   },
   {
    "duration": 8,
    "start_time": "2022-08-28T04:14:41.053Z"
   },
   {
    "duration": 15,
    "start_time": "2022-08-28T04:14:41.752Z"
   },
   {
    "duration": 8,
    "start_time": "2022-08-28T04:14:41.952Z"
   },
   {
    "duration": 9,
    "start_time": "2022-08-28T04:14:42.644Z"
   },
   {
    "duration": 8,
    "start_time": "2022-08-28T04:14:42.896Z"
   },
   {
    "duration": 10,
    "start_time": "2022-08-28T04:14:43.552Z"
   },
   {
    "duration": 9,
    "start_time": "2022-08-28T04:14:43.767Z"
   },
   {
    "duration": 21,
    "start_time": "2022-08-28T04:14:45.019Z"
   },
   {
    "duration": 8,
    "start_time": "2022-08-28T04:14:45.203Z"
   },
   {
    "duration": 14,
    "start_time": "2022-08-28T04:14:45.629Z"
   },
   {
    "duration": 20,
    "start_time": "2022-08-28T04:14:46.043Z"
   },
   {
    "duration": 7,
    "start_time": "2022-08-28T04:14:46.419Z"
   },
   {
    "duration": 6,
    "start_time": "2022-08-28T04:14:46.821Z"
   },
   {
    "duration": 7,
    "start_time": "2022-08-28T04:14:47.017Z"
   },
   {
    "duration": 7,
    "start_time": "2022-08-28T04:14:47.661Z"
   },
   {
    "duration": 27,
    "start_time": "2022-08-28T04:14:48.110Z"
   },
   {
    "duration": 546,
    "start_time": "2022-08-28T04:14:48.563Z"
   },
   {
    "duration": 9,
    "start_time": "2022-08-28T04:14:49.111Z"
   },
   {
    "duration": 14,
    "start_time": "2022-08-28T04:14:49.203Z"
   },
   {
    "duration": 30,
    "start_time": "2022-08-28T04:14:49.615Z"
   },
   {
    "duration": 31,
    "start_time": "2022-08-28T04:14:50.124Z"
   },
   {
    "duration": 32,
    "start_time": "2022-08-28T04:14:51.782Z"
   },
   {
    "duration": 32,
    "start_time": "2022-08-28T04:14:52.582Z"
   },
   {
    "duration": 26,
    "start_time": "2022-08-28T04:14:56.618Z"
   },
   {
    "duration": 24,
    "start_time": "2022-08-28T04:14:57.692Z"
   },
   {
    "duration": 13,
    "start_time": "2022-08-28T04:15:30.318Z"
   },
   {
    "duration": 12,
    "start_time": "2022-08-28T04:15:43.294Z"
   },
   {
    "duration": 2,
    "start_time": "2022-08-28T04:15:52.410Z"
   },
   {
    "duration": 285,
    "start_time": "2022-08-28T04:15:52.603Z"
   },
   {
    "duration": 17,
    "start_time": "2022-08-28T04:15:53.245Z"
   },
   {
    "duration": 9,
    "start_time": "2022-08-28T04:15:53.421Z"
   },
   {
    "duration": 15,
    "start_time": "2022-08-28T04:15:54.023Z"
   },
   {
    "duration": 8,
    "start_time": "2022-08-28T04:15:54.202Z"
   },
   {
    "duration": 13,
    "start_time": "2022-08-28T04:15:54.817Z"
   },
   {
    "duration": 7,
    "start_time": "2022-08-28T04:15:55.017Z"
   },
   {
    "duration": 10,
    "start_time": "2022-08-28T04:15:55.643Z"
   },
   {
    "duration": 8,
    "start_time": "2022-08-28T04:15:55.843Z"
   },
   {
    "duration": 10,
    "start_time": "2022-08-28T04:15:56.445Z"
   },
   {
    "duration": 9,
    "start_time": "2022-08-28T04:15:56.854Z"
   },
   {
    "duration": 19,
    "start_time": "2022-08-28T04:15:58.501Z"
   },
   {
    "duration": 7,
    "start_time": "2022-08-28T04:15:58.723Z"
   },
   {
    "duration": 13,
    "start_time": "2022-08-28T04:15:59.225Z"
   },
   {
    "duration": 16,
    "start_time": "2022-08-28T04:15:59.643Z"
   },
   {
    "duration": 8,
    "start_time": "2022-08-28T04:16:00.066Z"
   },
   {
    "duration": 6,
    "start_time": "2022-08-28T04:16:00.500Z"
   },
   {
    "duration": 7,
    "start_time": "2022-08-28T04:16:00.892Z"
   },
   {
    "duration": 6,
    "start_time": "2022-08-28T04:16:02.497Z"
   },
   {
    "duration": 26,
    "start_time": "2022-08-28T04:16:02.933Z"
   },
   {
    "duration": 492,
    "start_time": "2022-08-28T04:16:03.326Z"
   },
   {
    "duration": 10,
    "start_time": "2022-08-28T04:16:03.819Z"
   },
   {
    "duration": 13,
    "start_time": "2022-08-28T04:16:04.042Z"
   },
   {
    "duration": 32,
    "start_time": "2022-08-28T04:16:04.463Z"
   },
   {
    "duration": 30,
    "start_time": "2022-08-28T04:16:04.667Z"
   },
   {
    "duration": 29,
    "start_time": "2022-08-28T04:16:05.266Z"
   },
   {
    "duration": 34,
    "start_time": "2022-08-28T04:16:06.501Z"
   },
   {
    "duration": 26,
    "start_time": "2022-08-28T04:16:12.218Z"
   },
   {
    "duration": 23,
    "start_time": "2022-08-28T04:16:13.217Z"
   },
   {
    "duration": 9,
    "start_time": "2022-08-28T04:17:43.397Z"
   },
   {
    "duration": 8,
    "start_time": "2022-08-28T04:18:21.060Z"
   },
   {
    "duration": 12,
    "start_time": "2022-08-28T04:18:23.730Z"
   },
   {
    "duration": 33,
    "start_time": "2022-08-28T04:19:31.656Z"
   },
   {
    "duration": 32,
    "start_time": "2022-08-28T04:19:46.053Z"
   },
   {
    "duration": 28,
    "start_time": "2022-08-28T04:20:45.543Z"
   },
   {
    "duration": 32,
    "start_time": "2022-08-28T04:21:29.047Z"
   },
   {
    "duration": 2,
    "start_time": "2022-08-28T04:21:37.677Z"
   },
   {
    "duration": 287,
    "start_time": "2022-08-28T04:21:37.897Z"
   },
   {
    "duration": 18,
    "start_time": "2022-08-28T04:21:38.511Z"
   },
   {
    "duration": 9,
    "start_time": "2022-08-28T04:21:39.052Z"
   },
   {
    "duration": 16,
    "start_time": "2022-08-28T04:21:39.324Z"
   },
   {
    "duration": 9,
    "start_time": "2022-08-28T04:21:39.527Z"
   },
   {
    "duration": 14,
    "start_time": "2022-08-28T04:21:40.316Z"
   },
   {
    "duration": 8,
    "start_time": "2022-08-28T04:21:40.527Z"
   },
   {
    "duration": 10,
    "start_time": "2022-08-28T04:21:41.340Z"
   },
   {
    "duration": 8,
    "start_time": "2022-08-28T04:21:41.560Z"
   },
   {
    "duration": 10,
    "start_time": "2022-08-28T04:21:42.156Z"
   },
   {
    "duration": 10,
    "start_time": "2022-08-28T04:21:42.365Z"
   },
   {
    "duration": 19,
    "start_time": "2022-08-28T04:21:43.573Z"
   },
   {
    "duration": 8,
    "start_time": "2022-08-28T04:21:43.772Z"
   },
   {
    "duration": 13,
    "start_time": "2022-08-28T04:21:44.181Z"
   },
   {
    "duration": 17,
    "start_time": "2022-08-28T04:21:44.580Z"
   },
   {
    "duration": 8,
    "start_time": "2022-08-28T04:21:44.989Z"
   },
   {
    "duration": 6,
    "start_time": "2022-08-28T04:21:45.413Z"
   },
   {
    "duration": 6,
    "start_time": "2022-08-28T04:21:45.621Z"
   },
   {
    "duration": 6,
    "start_time": "2022-08-28T04:21:46.237Z"
   },
   {
    "duration": 26,
    "start_time": "2022-08-28T04:21:46.629Z"
   },
   {
    "duration": 537,
    "start_time": "2022-08-28T04:21:47.653Z"
   },
   {
    "duration": 15,
    "start_time": "2022-08-28T04:21:48.191Z"
   },
   {
    "duration": 14,
    "start_time": "2022-08-28T04:21:48.507Z"
   },
   {
    "duration": 31,
    "start_time": "2022-08-28T04:21:53.771Z"
   },
   {
    "duration": 30,
    "start_time": "2022-08-28T04:21:54.927Z"
   },
   {
    "duration": 29,
    "start_time": "2022-08-28T04:21:56.228Z"
   },
   {
    "duration": 30,
    "start_time": "2022-08-28T04:21:57.633Z"
   },
   {
    "duration": 26,
    "start_time": "2022-08-28T04:22:00.563Z"
   },
   {
    "duration": 15,
    "start_time": "2022-08-28T04:22:05.431Z"
   },
   {
    "duration": 15,
    "start_time": "2022-08-28T04:23:04.040Z"
   },
   {
    "duration": 12,
    "start_time": "2022-08-28T04:24:29.587Z"
   },
   {
    "duration": 10,
    "start_time": "2022-08-28T04:24:42.209Z"
   },
   {
    "duration": 10,
    "start_time": "2022-08-28T04:27:55.662Z"
   },
   {
    "duration": 15,
    "start_time": "2022-08-28T04:28:11.193Z"
   },
   {
    "duration": 25,
    "start_time": "2022-08-28T04:28:12.350Z"
   },
   {
    "duration": 17,
    "start_time": "2022-08-28T04:28:20.167Z"
   },
   {
    "duration": 19,
    "start_time": "2022-08-28T04:32:09.184Z"
   },
   {
    "duration": 20,
    "start_time": "2022-08-28T04:35:10.764Z"
   },
   {
    "duration": 18,
    "start_time": "2022-08-28T04:35:17.274Z"
   },
   {
    "duration": 14,
    "start_time": "2022-08-28T04:36:37.764Z"
   },
   {
    "duration": 2,
    "start_time": "2022-08-28T04:36:50.692Z"
   },
   {
    "duration": 302,
    "start_time": "2022-08-28T04:36:51.084Z"
   },
   {
    "duration": 20,
    "start_time": "2022-08-28T04:36:51.739Z"
   },
   {
    "duration": 9,
    "start_time": "2022-08-28T04:36:51.925Z"
   },
   {
    "duration": 17,
    "start_time": "2022-08-28T04:36:52.532Z"
   },
   {
    "duration": 8,
    "start_time": "2022-08-28T04:36:52.701Z"
   },
   {
    "duration": 13,
    "start_time": "2022-08-28T04:36:53.329Z"
   },
   {
    "duration": 7,
    "start_time": "2022-08-28T04:36:53.539Z"
   },
   {
    "duration": 10,
    "start_time": "2022-08-28T04:36:54.157Z"
   },
   {
    "duration": 9,
    "start_time": "2022-08-28T04:36:54.374Z"
   },
   {
    "duration": 10,
    "start_time": "2022-08-28T04:36:54.970Z"
   },
   {
    "duration": 10,
    "start_time": "2022-08-28T04:36:55.171Z"
   },
   {
    "duration": 20,
    "start_time": "2022-08-28T04:36:56.445Z"
   },
   {
    "duration": 8,
    "start_time": "2022-08-28T04:36:56.601Z"
   },
   {
    "duration": 15,
    "start_time": "2022-08-28T04:36:57.028Z"
   },
   {
    "duration": 23,
    "start_time": "2022-08-28T04:36:57.492Z"
   },
   {
    "duration": 8,
    "start_time": "2022-08-28T04:36:57.883Z"
   },
   {
    "duration": 5,
    "start_time": "2022-08-28T04:36:58.282Z"
   },
   {
    "duration": 6,
    "start_time": "2022-08-28T04:36:58.506Z"
   },
   {
    "duration": 6,
    "start_time": "2022-08-28T04:36:59.098Z"
   },
   {
    "duration": 27,
    "start_time": "2022-08-28T04:36:59.530Z"
   },
   {
    "duration": 485,
    "start_time": "2022-08-28T04:36:59.950Z"
   },
   {
    "duration": 9,
    "start_time": "2022-08-28T04:37:00.437Z"
   },
   {
    "duration": 14,
    "start_time": "2022-08-28T04:37:00.590Z"
   },
   {
    "duration": 34,
    "start_time": "2022-08-28T04:37:01.019Z"
   },
   {
    "duration": 31,
    "start_time": "2022-08-28T04:37:02.321Z"
   },
   {
    "duration": 30,
    "start_time": "2022-08-28T04:37:04.539Z"
   },
   {
    "duration": 31,
    "start_time": "2022-08-28T04:37:07.991Z"
   },
   {
    "duration": 9,
    "start_time": "2022-08-28T04:37:11.144Z"
   },
   {
    "duration": 26,
    "start_time": "2022-08-28T04:37:17.537Z"
   },
   {
    "duration": 15,
    "start_time": "2022-08-28T04:37:20.629Z"
   },
   {
    "duration": 15,
    "start_time": "2022-08-28T04:37:55.967Z"
   },
   {
    "duration": 15,
    "start_time": "2022-08-28T04:39:14.417Z"
   },
   {
    "duration": 14,
    "start_time": "2022-08-28T04:39:23.436Z"
   },
   {
    "duration": 16,
    "start_time": "2022-08-28T04:42:03.128Z"
   },
   {
    "duration": 13,
    "start_time": "2022-08-28T04:42:15.667Z"
   },
   {
    "duration": 29,
    "start_time": "2022-08-28T04:44:06.326Z"
   },
   {
    "duration": 24,
    "start_time": "2022-08-28T04:44:24.470Z"
   },
   {
    "duration": 14,
    "start_time": "2022-08-28T04:44:29.613Z"
   },
   {
    "duration": 2,
    "start_time": "2022-08-28T04:47:04.999Z"
   },
   {
    "duration": 280,
    "start_time": "2022-08-28T04:47:05.312Z"
   },
   {
    "duration": 17,
    "start_time": "2022-08-28T04:47:05.902Z"
   },
   {
    "duration": 9,
    "start_time": "2022-08-28T04:47:06.113Z"
   },
   {
    "duration": 16,
    "start_time": "2022-08-28T04:47:06.693Z"
   },
   {
    "duration": 9,
    "start_time": "2022-08-28T04:47:06.893Z"
   },
   {
    "duration": 13,
    "start_time": "2022-08-28T04:47:07.515Z"
   },
   {
    "duration": 7,
    "start_time": "2022-08-28T04:47:07.699Z"
   },
   {
    "duration": 10,
    "start_time": "2022-08-28T04:47:08.335Z"
   },
   {
    "duration": 9,
    "start_time": "2022-08-28T04:47:08.564Z"
   },
   {
    "duration": 10,
    "start_time": "2022-08-28T04:47:09.198Z"
   },
   {
    "duration": 11,
    "start_time": "2022-08-28T04:47:09.419Z"
   },
   {
    "duration": 21,
    "start_time": "2022-08-28T04:47:10.814Z"
   },
   {
    "duration": 9,
    "start_time": "2022-08-28T04:47:11.026Z"
   },
   {
    "duration": 15,
    "start_time": "2022-08-28T04:47:11.446Z"
   },
   {
    "duration": 19,
    "start_time": "2022-08-28T04:47:11.877Z"
   },
   {
    "duration": 8,
    "start_time": "2022-08-28T04:47:12.269Z"
   },
   {
    "duration": 6,
    "start_time": "2022-08-28T04:47:12.689Z"
   },
   {
    "duration": 7,
    "start_time": "2022-08-28T04:47:12.895Z"
   },
   {
    "duration": 6,
    "start_time": "2022-08-28T04:47:13.558Z"
   },
   {
    "duration": 28,
    "start_time": "2022-08-28T04:47:13.974Z"
   },
   {
    "duration": 564,
    "start_time": "2022-08-28T04:47:14.384Z"
   },
   {
    "duration": 10,
    "start_time": "2022-08-28T04:47:14.975Z"
   },
   {
    "duration": 14,
    "start_time": "2022-08-28T04:47:15.488Z"
   },
   {
    "duration": 32,
    "start_time": "2022-08-28T04:47:19.504Z"
   },
   {
    "duration": 23,
    "start_time": "2022-08-28T04:47:30.609Z"
   },
   {
    "duration": 33,
    "start_time": "2022-08-28T04:47:34.086Z"
   },
   {
    "duration": 31,
    "start_time": "2022-08-28T04:47:37.774Z"
   },
   {
    "duration": 9,
    "start_time": "2022-08-28T04:47:45.816Z"
   },
   {
    "duration": 26,
    "start_time": "2022-08-28T04:47:50.679Z"
   },
   {
    "duration": 13,
    "start_time": "2022-08-28T04:47:55.358Z"
   },
   {
    "duration": 17,
    "start_time": "2022-08-28T04:49:58.233Z"
   },
   {
    "duration": 20,
    "start_time": "2022-08-28T04:50:51.297Z"
   },
   {
    "duration": 15,
    "start_time": "2022-08-28T04:55:11.661Z"
   },
   {
    "duration": 8,
    "start_time": "2022-08-28T05:04:28.122Z"
   },
   {
    "duration": 18,
    "start_time": "2022-08-28T05:04:36.656Z"
   },
   {
    "duration": 16,
    "start_time": "2022-08-28T05:05:05.277Z"
   },
   {
    "duration": 21,
    "start_time": "2022-08-28T05:05:17.356Z"
   },
   {
    "duration": 20,
    "start_time": "2022-08-28T05:08:00.291Z"
   },
   {
    "duration": 74,
    "start_time": "2022-08-28T05:12:36.439Z"
   },
   {
    "duration": 79,
    "start_time": "2022-08-28T05:12:43.219Z"
   },
   {
    "duration": 106,
    "start_time": "2022-08-28T05:12:53.263Z"
   },
   {
    "duration": 78,
    "start_time": "2022-08-28T05:15:26.970Z"
   },
   {
    "duration": 3,
    "start_time": "2022-08-28T05:17:04.317Z"
   },
   {
    "duration": 11,
    "start_time": "2022-08-28T05:18:17.448Z"
   },
   {
    "duration": 12,
    "start_time": "2022-08-28T05:28:37.431Z"
   },
   {
    "duration": 22,
    "start_time": "2022-08-28T05:28:50.046Z"
   },
   {
    "duration": 23,
    "start_time": "2022-08-28T05:30:12.725Z"
   },
   {
    "duration": 9,
    "start_time": "2022-08-28T05:32:18.293Z"
   },
   {
    "duration": 25,
    "start_time": "2022-08-28T05:32:27.420Z"
   },
   {
    "duration": 20,
    "start_time": "2022-08-28T05:46:43.587Z"
   },
   {
    "duration": 22,
    "start_time": "2022-08-28T05:47:30.538Z"
   },
   {
    "duration": 3,
    "start_time": "2022-08-28T05:48:27.147Z"
   },
   {
    "duration": 283,
    "start_time": "2022-08-28T05:48:27.387Z"
   },
   {
    "duration": 20,
    "start_time": "2022-08-28T05:48:28.044Z"
   },
   {
    "duration": 8,
    "start_time": "2022-08-28T05:48:28.252Z"
   },
   {
    "duration": 15,
    "start_time": "2022-08-28T05:48:28.860Z"
   },
   {
    "duration": 8,
    "start_time": "2022-08-28T05:48:29.094Z"
   },
   {
    "duration": 15,
    "start_time": "2022-08-28T05:48:29.748Z"
   },
   {
    "duration": 8,
    "start_time": "2022-08-28T05:48:29.962Z"
   },
   {
    "duration": 12,
    "start_time": "2022-08-28T05:48:30.617Z"
   },
   {
    "duration": 9,
    "start_time": "2022-08-28T05:48:30.787Z"
   },
   {
    "duration": 11,
    "start_time": "2022-08-28T05:48:31.523Z"
   },
   {
    "duration": 11,
    "start_time": "2022-08-28T05:48:31.721Z"
   },
   {
    "duration": 23,
    "start_time": "2022-08-28T05:48:32.980Z"
   },
   {
    "duration": 10,
    "start_time": "2022-08-28T05:48:33.206Z"
   },
   {
    "duration": 14,
    "start_time": "2022-08-28T05:48:33.660Z"
   },
   {
    "duration": 18,
    "start_time": "2022-08-28T05:48:34.112Z"
   },
   {
    "duration": 8,
    "start_time": "2022-08-28T05:48:34.492Z"
   },
   {
    "duration": 6,
    "start_time": "2022-08-28T05:48:34.746Z"
   },
   {
    "duration": 7,
    "start_time": "2022-08-28T05:48:34.933Z"
   },
   {
    "duration": 7,
    "start_time": "2022-08-28T05:48:35.646Z"
   },
   {
    "duration": 25,
    "start_time": "2022-08-28T05:48:36.096Z"
   },
   {
    "duration": 477,
    "start_time": "2022-08-28T05:48:36.557Z"
   },
   {
    "duration": 9,
    "start_time": "2022-08-28T05:48:37.036Z"
   },
   {
    "duration": 13,
    "start_time": "2022-08-28T05:48:37.181Z"
   },
   {
    "duration": 35,
    "start_time": "2022-08-28T05:48:37.623Z"
   },
   {
    "duration": 21,
    "start_time": "2022-08-28T05:48:40.066Z"
   },
   {
    "duration": 30,
    "start_time": "2022-08-28T05:48:42.474Z"
   },
   {
    "duration": 30,
    "start_time": "2022-08-28T05:48:43.818Z"
   },
   {
    "duration": 9,
    "start_time": "2022-08-28T05:48:45.782Z"
   },
   {
    "duration": 26,
    "start_time": "2022-08-28T05:48:48.571Z"
   },
   {
    "duration": 16,
    "start_time": "2022-08-28T05:48:52.078Z"
   },
   {
    "duration": 19,
    "start_time": "2022-08-28T05:48:55.629Z"
   },
   {
    "duration": 20,
    "start_time": "2022-08-28T05:49:06.299Z"
   },
   {
    "duration": 32,
    "start_time": "2022-08-28T05:51:11.193Z"
   },
   {
    "duration": 37,
    "start_time": "2022-08-28T06:00:35.442Z"
   },
   {
    "duration": 2,
    "start_time": "2022-08-28T06:04:23.593Z"
   },
   {
    "duration": 281,
    "start_time": "2022-08-28T06:04:23.826Z"
   },
   {
    "duration": 17,
    "start_time": "2022-08-28T06:04:24.409Z"
   },
   {
    "duration": 9,
    "start_time": "2022-08-28T06:04:24.595Z"
   },
   {
    "duration": 16,
    "start_time": "2022-08-28T06:04:25.267Z"
   },
   {
    "duration": 8,
    "start_time": "2022-08-28T06:04:25.327Z"
   },
   {
    "duration": 15,
    "start_time": "2022-08-28T06:04:25.851Z"
   },
   {
    "duration": 7,
    "start_time": "2022-08-28T06:04:26.065Z"
   },
   {
    "duration": 10,
    "start_time": "2022-08-28T06:04:26.733Z"
   },
   {
    "duration": 9,
    "start_time": "2022-08-28T06:04:26.916Z"
   },
   {
    "duration": 10,
    "start_time": "2022-08-28T06:04:27.570Z"
   },
   {
    "duration": 10,
    "start_time": "2022-08-28T06:04:27.785Z"
   },
   {
    "duration": 20,
    "start_time": "2022-08-28T06:04:29.099Z"
   },
   {
    "duration": 8,
    "start_time": "2022-08-28T06:04:29.281Z"
   },
   {
    "duration": 15,
    "start_time": "2022-08-28T06:04:29.720Z"
   },
   {
    "duration": 18,
    "start_time": "2022-08-28T06:04:30.148Z"
   },
   {
    "duration": 8,
    "start_time": "2022-08-28T06:04:30.553Z"
   },
   {
    "duration": 7,
    "start_time": "2022-08-28T06:04:30.968Z"
   },
   {
    "duration": 7,
    "start_time": "2022-08-28T06:04:31.183Z"
   },
   {
    "duration": 7,
    "start_time": "2022-08-28T06:04:31.809Z"
   },
   {
    "duration": 31,
    "start_time": "2022-08-28T06:04:32.268Z"
   },
   {
    "duration": 614,
    "start_time": "2022-08-28T06:04:32.705Z"
   },
   {
    "duration": 10,
    "start_time": "2022-08-28T06:04:33.321Z"
   },
   {
    "duration": 14,
    "start_time": "2022-08-28T06:04:33.360Z"
   },
   {
    "duration": 32,
    "start_time": "2022-08-28T06:04:33.831Z"
   },
   {
    "duration": 22,
    "start_time": "2022-08-28T06:04:33.997Z"
   },
   {
    "duration": 31,
    "start_time": "2022-08-28T06:04:34.436Z"
   },
   {
    "duration": 30,
    "start_time": "2022-08-28T06:04:34.820Z"
   },
   {
    "duration": 10,
    "start_time": "2022-08-28T06:04:35.244Z"
   },
   {
    "duration": 29,
    "start_time": "2022-08-28T06:04:36.623Z"
   },
   {
    "duration": 18,
    "start_time": "2022-08-28T06:04:37.419Z"
   },
   {
    "duration": 21,
    "start_time": "2022-08-28T06:04:39.978Z"
   },
   {
    "duration": 34,
    "start_time": "2022-08-28T06:04:40.651Z"
   },
   {
    "duration": 35,
    "start_time": "2022-08-28T06:06:23.627Z"
   },
   {
    "duration": 1099,
    "start_time": "2022-08-28T06:07:44.436Z"
   },
   {
    "duration": 11,
    "start_time": "2022-08-28T06:10:03.425Z"
   },
   {
    "duration": 1126,
    "start_time": "2022-08-28T06:10:12.404Z"
   },
   {
    "duration": 1133,
    "start_time": "2022-08-28T06:11:19.944Z"
   },
   {
    "duration": 1247,
    "start_time": "2022-08-28T06:11:40.140Z"
   },
   {
    "duration": 34,
    "start_time": "2022-08-28T06:12:16.193Z"
   },
   {
    "duration": 13,
    "start_time": "2022-08-28T06:13:10.877Z"
   },
   {
    "duration": 116,
    "start_time": "2022-08-28T06:30:10.152Z"
   },
   {
    "duration": 79,
    "start_time": "2022-08-28T06:30:34.536Z"
   },
   {
    "duration": 25,
    "start_time": "2022-08-28T06:34:14.103Z"
   },
   {
    "duration": 114,
    "start_time": "2022-08-28T06:40:18.583Z"
   },
   {
    "duration": 91,
    "start_time": "2022-08-28T06:40:24.758Z"
   },
   {
    "duration": 105,
    "start_time": "2022-08-28T06:42:27.326Z"
   },
   {
    "duration": 104,
    "start_time": "2022-08-28T06:44:16.871Z"
   },
   {
    "duration": 74,
    "start_time": "2022-08-28T06:52:08.820Z"
   },
   {
    "duration": 81,
    "start_time": "2022-08-28T06:52:37.096Z"
   },
   {
    "duration": 14,
    "start_time": "2022-08-28T06:52:44.736Z"
   },
   {
    "duration": 243,
    "start_time": "2022-08-28T06:53:07.378Z"
   },
   {
    "duration": 16,
    "start_time": "2022-08-28T06:53:47.778Z"
   },
   {
    "duration": 5784,
    "start_time": "2022-08-28T06:54:29.393Z"
   },
   {
    "duration": 143,
    "start_time": "2022-08-28T06:55:27.106Z"
   },
   {
    "duration": 5402,
    "start_time": "2022-08-28T06:56:10.351Z"
   },
   {
    "duration": 5321,
    "start_time": "2022-08-28T06:56:22.613Z"
   },
   {
    "duration": 10,
    "start_time": "2022-08-28T07:04:10.634Z"
   },
   {
    "duration": 22,
    "start_time": "2022-08-28T07:04:18.539Z"
   },
   {
    "duration": 22,
    "start_time": "2022-08-28T07:05:01.707Z"
   },
   {
    "duration": 9,
    "start_time": "2022-08-28T07:05:55.551Z"
   },
   {
    "duration": 17,
    "start_time": "2022-08-28T07:05:59.656Z"
   },
   {
    "duration": 16,
    "start_time": "2022-08-28T07:06:34.476Z"
   },
   {
    "duration": 30,
    "start_time": "2022-08-28T07:06:47.167Z"
   },
   {
    "duration": 5,
    "start_time": "2022-08-28T07:08:12.130Z"
   },
   {
    "duration": 8,
    "start_time": "2022-08-28T07:08:20.824Z"
   },
   {
    "duration": 100,
    "start_time": "2022-08-28T07:09:48.478Z"
   },
   {
    "duration": 135,
    "start_time": "2022-08-28T07:10:40.591Z"
   },
   {
    "duration": 710,
    "start_time": "2022-08-28T07:10:55.549Z"
   },
   {
    "duration": 1066,
    "start_time": "2022-08-28T07:11:09.117Z"
   },
   {
    "duration": 77,
    "start_time": "2022-08-28T07:11:24.690Z"
   },
   {
    "duration": 91,
    "start_time": "2022-08-28T07:11:35.863Z"
   },
   {
    "duration": 3,
    "start_time": "2022-08-28T07:11:57.734Z"
   },
   {
    "duration": 745,
    "start_time": "2022-08-28T07:12:02.974Z"
   },
   {
    "duration": 879,
    "start_time": "2022-08-28T07:12:12.621Z"
   },
   {
    "duration": 732,
    "start_time": "2022-08-28T07:12:36.587Z"
   },
   {
    "duration": 143,
    "start_time": "2022-08-28T07:22:47.945Z"
   },
   {
    "duration": 62,
    "start_time": "2022-08-28T07:24:56.926Z"
   },
   {
    "duration": 769,
    "start_time": "2022-08-28T18:02:08.533Z"
   },
   {
    "duration": 833,
    "start_time": "2022-08-28T18:02:09.304Z"
   },
   {
    "duration": 23,
    "start_time": "2022-08-28T18:02:11.034Z"
   },
   {
    "duration": 14,
    "start_time": "2022-08-28T18:02:12.136Z"
   },
   {
    "duration": 18,
    "start_time": "2022-08-28T18:02:13.288Z"
   },
   {
    "duration": 9,
    "start_time": "2022-08-28T18:02:14.219Z"
   },
   {
    "duration": 16,
    "start_time": "2022-08-28T18:02:15.528Z"
   },
   {
    "duration": 9,
    "start_time": "2022-08-28T18:02:15.968Z"
   },
   {
    "duration": 12,
    "start_time": "2022-08-28T18:02:17.818Z"
   },
   {
    "duration": 11,
    "start_time": "2022-08-28T18:02:18.264Z"
   },
   {
    "duration": 12,
    "start_time": "2022-08-28T18:02:31.980Z"
   },
   {
    "duration": 11,
    "start_time": "2022-08-28T18:02:32.923Z"
   },
   {
    "duration": 25,
    "start_time": "2022-08-28T18:02:38.030Z"
   },
   {
    "duration": 9,
    "start_time": "2022-08-28T18:02:39.922Z"
   },
   {
    "duration": 17,
    "start_time": "2022-08-28T18:03:14.310Z"
   },
   {
    "duration": 21,
    "start_time": "2022-08-28T18:03:15.917Z"
   },
   {
    "duration": 9,
    "start_time": "2022-08-28T18:03:26.940Z"
   },
   {
    "duration": 6,
    "start_time": "2022-08-28T18:03:40.469Z"
   },
   {
    "duration": 8,
    "start_time": "2022-08-28T18:03:41.589Z"
   },
   {
    "duration": 8,
    "start_time": "2022-08-28T18:04:04.597Z"
   },
   {
    "duration": 35,
    "start_time": "2022-08-28T18:04:09.484Z"
   },
   {
    "duration": 70,
    "start_time": "2022-08-28T18:08:34.310Z"
   },
   {
    "duration": 3,
    "start_time": "2022-08-28T18:08:41.072Z"
   },
   {
    "duration": 322,
    "start_time": "2022-08-28T18:08:41.586Z"
   },
   {
    "duration": 20,
    "start_time": "2022-08-28T18:08:42.283Z"
   },
   {
    "duration": 9,
    "start_time": "2022-08-28T18:08:42.385Z"
   },
   {
    "duration": 20,
    "start_time": "2022-08-28T18:08:43.004Z"
   },
   {
    "duration": 10,
    "start_time": "2022-08-28T18:08:43.227Z"
   },
   {
    "duration": 16,
    "start_time": "2022-08-28T18:08:43.802Z"
   },
   {
    "duration": 9,
    "start_time": "2022-08-28T18:08:43.964Z"
   },
   {
    "duration": 11,
    "start_time": "2022-08-28T18:08:44.556Z"
   },
   {
    "duration": 10,
    "start_time": "2022-08-28T18:08:44.744Z"
   },
   {
    "duration": 11,
    "start_time": "2022-08-28T18:08:45.280Z"
   },
   {
    "duration": 11,
    "start_time": "2022-08-28T18:08:45.564Z"
   },
   {
    "duration": 24,
    "start_time": "2022-08-28T18:08:46.848Z"
   },
   {
    "duration": 10,
    "start_time": "2022-08-28T18:08:47.235Z"
   },
   {
    "duration": 16,
    "start_time": "2022-08-28T18:08:48.834Z"
   },
   {
    "duration": 19,
    "start_time": "2022-08-28T18:08:49.588Z"
   },
   {
    "duration": 9,
    "start_time": "2022-08-28T18:08:53.003Z"
   },
   {
    "duration": 6,
    "start_time": "2022-08-28T18:08:53.794Z"
   },
   {
    "duration": 7,
    "start_time": "2022-08-28T18:08:53.976Z"
   },
   {
    "duration": 7,
    "start_time": "2022-08-28T18:08:54.907Z"
   },
   {
    "duration": 34,
    "start_time": "2022-08-28T18:08:56.391Z"
   },
   {
    "duration": 667,
    "start_time": "2022-08-28T18:08:57.956Z"
   },
   {
    "duration": 11,
    "start_time": "2022-08-28T18:08:59.631Z"
   },
   {
    "duration": 30,
    "start_time": "2022-08-28T18:09:00.811Z"
   },
   {
    "duration": 12,
    "start_time": "2022-08-28T18:09:25.685Z"
   },
   {
    "duration": 44,
    "start_time": "2022-08-28T18:09:55.812Z"
   },
   {
    "duration": 11,
    "start_time": "2022-08-28T18:09:59.002Z"
   },
   {
    "duration": 5,
    "start_time": "2022-08-28T18:14:34.647Z"
   },
   {
    "duration": 4,
    "start_time": "2022-08-28T18:14:47.709Z"
   },
   {
    "duration": 5,
    "start_time": "2022-08-28T18:14:58.038Z"
   },
   {
    "duration": 66,
    "start_time": "2022-08-28T18:17:40.040Z"
   },
   {
    "duration": 45,
    "start_time": "2022-08-28T18:19:33.653Z"
   },
   {
    "duration": 100,
    "start_time": "2022-08-28T18:20:27.686Z"
   },
   {
    "duration": 38,
    "start_time": "2022-08-28T18:21:54.231Z"
   },
   {
    "duration": 39,
    "start_time": "2022-08-28T18:22:39.149Z"
   },
   {
    "duration": 10,
    "start_time": "2022-08-28T18:32:46.314Z"
   },
   {
    "duration": 32,
    "start_time": "2022-08-28T18:32:53.976Z"
   },
   {
    "duration": 11,
    "start_time": "2022-08-28T18:32:55.655Z"
   },
   {
    "duration": 19,
    "start_time": "2022-08-28T18:32:56.883Z"
   },
   {
    "duration": 13,
    "start_time": "2022-08-28T18:35:05.371Z"
   },
   {
    "duration": 3,
    "start_time": "2022-08-28T18:35:16.622Z"
   },
   {
    "duration": 333,
    "start_time": "2022-08-28T18:35:16.798Z"
   },
   {
    "duration": 25,
    "start_time": "2022-08-28T18:35:17.906Z"
   },
   {
    "duration": 8,
    "start_time": "2022-08-28T18:35:17.933Z"
   },
   {
    "duration": 20,
    "start_time": "2022-08-28T18:35:18.036Z"
   },
   {
    "duration": 9,
    "start_time": "2022-08-28T18:35:18.180Z"
   },
   {
    "duration": 17,
    "start_time": "2022-08-28T18:35:18.721Z"
   },
   {
    "duration": 8,
    "start_time": "2022-08-28T18:35:18.898Z"
   },
   {
    "duration": 11,
    "start_time": "2022-08-28T18:35:19.387Z"
   },
   {
    "duration": 9,
    "start_time": "2022-08-28T18:35:19.579Z"
   },
   {
    "duration": 11,
    "start_time": "2022-08-28T18:35:20.099Z"
   },
   {
    "duration": 11,
    "start_time": "2022-08-28T18:35:20.273Z"
   },
   {
    "duration": 25,
    "start_time": "2022-08-28T18:35:21.422Z"
   },
   {
    "duration": 8,
    "start_time": "2022-08-28T18:35:21.787Z"
   },
   {
    "duration": 16,
    "start_time": "2022-08-28T18:35:22.026Z"
   },
   {
    "duration": 19,
    "start_time": "2022-08-28T18:35:22.382Z"
   },
   {
    "duration": 10,
    "start_time": "2022-08-28T18:35:23.037Z"
   },
   {
    "duration": 6,
    "start_time": "2022-08-28T18:35:23.122Z"
   },
   {
    "duration": 7,
    "start_time": "2022-08-28T18:35:23.288Z"
   },
   {
    "duration": 7,
    "start_time": "2022-08-28T18:35:23.903Z"
   },
   {
    "duration": 32,
    "start_time": "2022-08-28T18:35:24.250Z"
   },
   {
    "duration": 566,
    "start_time": "2022-08-28T18:35:24.634Z"
   },
   {
    "duration": 15,
    "start_time": "2022-08-28T18:35:25.202Z"
   },
   {
    "duration": 10,
    "start_time": "2022-08-28T18:35:25.219Z"
   },
   {
    "duration": 629,
    "start_time": "2022-08-28T18:35:25.961Z"
   },
   {
    "duration": 28,
    "start_time": "2022-08-28T18:35:26.593Z"
   },
   {
    "duration": 38,
    "start_time": "2022-08-28T18:35:27.080Z"
   },
   {
    "duration": 21,
    "start_time": "2022-08-28T18:35:27.120Z"
   },
   {
    "duration": 37,
    "start_time": "2022-08-28T18:35:27.143Z"
   },
   {
    "duration": 38,
    "start_time": "2022-08-28T18:35:27.752Z"
   },
   {
    "duration": 30,
    "start_time": "2022-08-28T18:35:30.521Z"
   },
   {
    "duration": 10,
    "start_time": "2022-08-28T18:35:31.733Z"
   },
   {
    "duration": 18,
    "start_time": "2022-08-28T18:35:32.521Z"
   },
   {
    "duration": 20,
    "start_time": "2022-08-28T18:35:37.157Z"
   },
   {
    "duration": 737,
    "start_time": "2022-08-28T18:50:35.983Z"
   },
   {
    "duration": 35,
    "start_time": "2022-08-28T18:51:02.034Z"
   },
   {
    "duration": 91,
    "start_time": "2022-08-28T18:51:03.919Z"
   },
   {
    "duration": 170,
    "start_time": "2022-08-28T18:51:14.540Z"
   },
   {
    "duration": 14,
    "start_time": "2022-08-28T18:53:49.041Z"
   },
   {
    "duration": 4,
    "start_time": "2022-08-28T18:55:09.052Z"
   },
   {
    "duration": 5,
    "start_time": "2022-08-28T18:55:14.632Z"
   },
   {
    "duration": 67,
    "start_time": "2022-08-28T18:56:01.928Z"
   },
   {
    "duration": 28,
    "start_time": "2022-08-28T18:56:22.839Z"
   },
   {
    "duration": 6,
    "start_time": "2022-08-28T18:56:43.281Z"
   },
   {
    "duration": 73,
    "start_time": "2022-08-28T18:56:45.726Z"
   },
   {
    "duration": 27,
    "start_time": "2022-08-28T18:56:46.934Z"
   },
   {
    "duration": 18,
    "start_time": "2022-08-28T19:11:11.143Z"
   },
   {
    "duration": 126,
    "start_time": "2022-08-28T19:11:26.025Z"
   },
   {
    "duration": 60,
    "start_time": "2022-08-28T19:13:03.051Z"
   },
   {
    "duration": 170,
    "start_time": "2022-08-28T19:13:08.628Z"
   },
   {
    "duration": 10,
    "start_time": "2022-08-28T19:17:49.382Z"
   },
   {
    "duration": 137,
    "start_time": "2022-08-28T19:18:21.728Z"
   },
   {
    "duration": 11,
    "start_time": "2022-08-28T19:18:55.572Z"
   },
   {
    "duration": 12,
    "start_time": "2022-08-28T19:19:01.565Z"
   },
   {
    "duration": 163,
    "start_time": "2022-08-28T19:19:30.421Z"
   },
   {
    "duration": 10,
    "start_time": "2022-08-28T19:20:20.074Z"
   },
   {
    "duration": 1560,
    "start_time": "2022-08-28T19:20:29.826Z"
   },
   {
    "duration": 49,
    "start_time": "2022-08-28T19:21:05.518Z"
   },
   {
    "duration": 19,
    "start_time": "2022-08-28T19:21:50.026Z"
   },
   {
    "duration": 10,
    "start_time": "2022-08-28T19:22:30.049Z"
   },
   {
    "duration": 21,
    "start_time": "2022-08-28T19:22:35.434Z"
   },
   {
    "duration": 4,
    "start_time": "2022-08-28T19:27:34.569Z"
   },
   {
    "duration": 7,
    "start_time": "2022-08-28T19:27:36.277Z"
   },
   {
    "duration": 920,
    "start_time": "2022-08-28T19:27:40.941Z"
   },
   {
    "duration": 5,
    "start_time": "2022-08-28T19:27:54.227Z"
   },
   {
    "duration": 788,
    "start_time": "2022-08-28T19:28:14.031Z"
   },
   {
    "duration": 153,
    "start_time": "2022-08-28T19:29:01.530Z"
   },
   {
    "duration": 71,
    "start_time": "2022-08-28T19:38:57.933Z"
   },
   {
    "duration": 55,
    "start_time": "2022-08-28T19:40:34.746Z"
   },
   {
    "duration": 107,
    "start_time": "2022-08-28T19:42:16.329Z"
   },
   {
    "duration": 124,
    "start_time": "2022-08-28T19:43:09.573Z"
   },
   {
    "duration": 200,
    "start_time": "2022-08-28T19:43:17.344Z"
   },
   {
    "duration": 126,
    "start_time": "2022-08-28T19:43:35.324Z"
   },
   {
    "duration": 11,
    "start_time": "2022-08-28T19:43:53.765Z"
   },
   {
    "duration": 128,
    "start_time": "2022-08-28T19:44:15.395Z"
   },
   {
    "duration": 172,
    "start_time": "2022-08-28T19:44:16.556Z"
   },
   {
    "duration": 31,
    "start_time": "2022-08-28T19:44:18.618Z"
   },
   {
    "duration": 127,
    "start_time": "2022-08-28T19:44:19.404Z"
   },
   {
    "duration": 155,
    "start_time": "2022-08-28T19:44:31.669Z"
   },
   {
    "duration": 122,
    "start_time": "2022-08-28T19:45:02.062Z"
   },
   {
    "duration": 48,
    "start_time": "2022-08-28T19:49:48.886Z"
   },
   {
    "duration": 74,
    "start_time": "2022-08-28T19:57:48.624Z"
   },
   {
    "duration": 54,
    "start_time": "2022-08-28T20:08:31.654Z"
   },
   {
    "duration": 10,
    "start_time": "2022-08-28T20:16:23.556Z"
   },
   {
    "duration": 25,
    "start_time": "2022-08-28T20:16:27.683Z"
   },
   {
    "duration": 13,
    "start_time": "2022-08-28T20:16:28.989Z"
   },
   {
    "duration": 55,
    "start_time": "2022-08-28T20:16:32.090Z"
   },
   {
    "duration": 36,
    "start_time": "2022-08-28T20:17:10.382Z"
   },
   {
    "duration": 12,
    "start_time": "2022-08-28T20:17:55.806Z"
   },
   {
    "duration": 1268,
    "start_time": "2022-08-28T20:21:29.479Z"
   },
   {
    "duration": 1046,
    "start_time": "2022-08-28T20:21:44.567Z"
   },
   {
    "duration": 52,
    "start_time": "2022-08-28T20:22:51.384Z"
   },
   {
    "duration": 39,
    "start_time": "2022-08-28T20:22:58.357Z"
   },
   {
    "duration": 2360,
    "start_time": "2022-08-28T20:28:01.087Z"
   },
   {
    "duration": 8,
    "start_time": "2022-08-28T20:28:56.796Z"
   },
   {
    "duration": 10,
    "start_time": "2022-08-28T20:29:44.574Z"
   },
   {
    "duration": 983,
    "start_time": "2022-08-28T20:31:19.591Z"
   },
   {
    "duration": 37,
    "start_time": "2022-08-28T20:31:26.789Z"
   },
   {
    "duration": 1215,
    "start_time": "2022-08-28T20:31:37.405Z"
   },
   {
    "duration": 9,
    "start_time": "2022-08-28T20:34:56.521Z"
   },
   {
    "duration": 8,
    "start_time": "2022-08-28T20:35:19.026Z"
   },
   {
    "duration": 6,
    "start_time": "2022-08-28T20:35:27.207Z"
   },
   {
    "duration": 1014,
    "start_time": "2022-08-28T20:48:49.808Z"
   },
   {
    "duration": 1548,
    "start_time": "2022-08-28T20:49:03.406Z"
   },
   {
    "duration": 1344,
    "start_time": "2022-08-28T20:49:12.592Z"
   },
   {
    "duration": 1307,
    "start_time": "2022-08-28T20:56:59.845Z"
   },
   {
    "duration": 1464,
    "start_time": "2022-08-28T20:58:49.452Z"
   },
   {
    "duration": 210,
    "start_time": "2022-08-28T21:00:20.439Z"
   },
   {
    "duration": 1192,
    "start_time": "2022-08-28T21:00:49.224Z"
   },
   {
    "duration": 399,
    "start_time": "2022-08-28T21:01:04.374Z"
   },
   {
    "duration": 225,
    "start_time": "2022-08-28T21:01:37.423Z"
   },
   {
    "duration": 426,
    "start_time": "2022-08-28T21:02:13.590Z"
   },
   {
    "duration": 396,
    "start_time": "2022-08-28T21:02:22.962Z"
   },
   {
    "duration": 365,
    "start_time": "2022-08-28T21:02:31.754Z"
   },
   {
    "duration": 548,
    "start_time": "2022-08-28T21:02:54.061Z"
   },
   {
    "duration": 588,
    "start_time": "2022-08-28T21:03:12.627Z"
   },
   {
    "duration": 561,
    "start_time": "2022-08-28T21:03:23.659Z"
   },
   {
    "duration": 831,
    "start_time": "2022-08-28T21:03:38.484Z"
   },
   {
    "duration": 69,
    "start_time": "2022-08-28T21:04:21.909Z"
   },
   {
    "duration": 730,
    "start_time": "2022-08-28T21:05:23.022Z"
   },
   {
    "duration": 1321,
    "start_time": "2022-08-28T21:05:39.375Z"
   },
   {
    "duration": 17,
    "start_time": "2022-08-28T21:13:53.144Z"
   },
   {
    "duration": 909,
    "start_time": "2022-08-28T21:14:24.377Z"
   },
   {
    "duration": 670,
    "start_time": "2022-08-28T21:14:53.694Z"
   },
   {
    "duration": 656,
    "start_time": "2022-08-28T21:14:59.333Z"
   },
   {
    "duration": 27,
    "start_time": "2022-08-28T21:15:24.757Z"
   },
   {
    "duration": 1106,
    "start_time": "2022-08-28T21:16:44.254Z"
   },
   {
    "duration": 8,
    "start_time": "2022-08-28T21:16:54.001Z"
   },
   {
    "duration": 1176,
    "start_time": "2022-08-28T21:16:55.274Z"
   },
   {
    "duration": 833,
    "start_time": "2022-08-28T21:17:14.847Z"
   },
   {
    "duration": 73,
    "start_time": "2022-08-28T21:17:59.598Z"
   },
   {
    "duration": 887,
    "start_time": "2022-08-28T21:18:15.376Z"
   },
   {
    "duration": 47,
    "start_time": "2022-08-28T21:29:13.829Z"
   },
   {
    "duration": 16,
    "start_time": "2022-08-28T21:32:39.735Z"
   },
   {
    "duration": 31,
    "start_time": "2022-08-28T21:33:12.295Z"
   },
   {
    "duration": 762,
    "start_time": "2022-08-28T21:36:45.326Z"
   },
   {
    "duration": 200,
    "start_time": "2022-08-28T21:37:05.879Z"
   },
   {
    "duration": 177,
    "start_time": "2022-08-28T21:37:28.603Z"
   },
   {
    "duration": 163,
    "start_time": "2022-08-28T21:38:24.489Z"
   },
   {
    "duration": 167,
    "start_time": "2022-08-28T21:38:47.869Z"
   },
   {
    "duration": 76,
    "start_time": "2022-08-28T21:48:26.705Z"
   },
   {
    "duration": 27,
    "start_time": "2022-08-28T21:50:31.534Z"
   },
   {
    "duration": 8,
    "start_time": "2022-08-28T21:50:55.172Z"
   },
   {
    "duration": 5,
    "start_time": "2022-08-28T22:38:34.573Z"
   },
   {
    "duration": 4,
    "start_time": "2022-08-28T22:40:05.440Z"
   },
   {
    "duration": 153,
    "start_time": "2022-08-28T22:59:28.385Z"
   },
   {
    "duration": 160,
    "start_time": "2022-08-28T23:00:00.409Z"
   },
   {
    "duration": 162,
    "start_time": "2022-08-28T23:00:22.808Z"
   },
   {
    "duration": 159,
    "start_time": "2022-08-28T23:00:27.717Z"
   },
   {
    "duration": 7,
    "start_time": "2022-08-28T23:01:13.243Z"
   },
   {
    "duration": 9,
    "start_time": "2022-08-28T23:01:27.675Z"
   },
   {
    "duration": 27,
    "start_time": "2022-08-28T23:01:31.364Z"
   },
   {
    "duration": 50,
    "start_time": "2022-08-28T23:12:22.097Z"
   },
   {
    "duration": 16,
    "start_time": "2022-08-29T00:11:52.771Z"
   },
   {
    "duration": 9,
    "start_time": "2022-08-29T00:12:12.335Z"
   },
   {
    "duration": 17,
    "start_time": "2022-08-29T00:13:07.677Z"
   },
   {
    "duration": 10,
    "start_time": "2022-08-29T00:13:24.007Z"
   },
   {
    "duration": 15,
    "start_time": "2022-08-29T00:13:30.588Z"
   },
   {
    "duration": 15,
    "start_time": "2022-08-29T00:15:56.124Z"
   },
   {
    "duration": 16,
    "start_time": "2022-08-29T00:18:14.215Z"
   },
   {
    "duration": 14,
    "start_time": "2022-08-29T00:20:04.721Z"
   },
   {
    "duration": 14,
    "start_time": "2022-08-29T00:20:37.599Z"
   },
   {
    "duration": 8,
    "start_time": "2022-08-29T00:23:49.574Z"
   },
   {
    "duration": 8,
    "start_time": "2022-08-29T00:24:04.772Z"
   },
   {
    "duration": 418,
    "start_time": "2022-08-29T00:24:13.595Z"
   },
   {
    "duration": 32,
    "start_time": "2022-08-29T00:24:17.811Z"
   },
   {
    "duration": 3,
    "start_time": "2022-08-29T00:24:40.295Z"
   },
   {
    "duration": 4,
    "start_time": "2022-08-29T00:24:43.745Z"
   },
   {
    "duration": 14,
    "start_time": "2022-08-29T00:43:06.590Z"
   },
   {
    "duration": 27,
    "start_time": "2022-08-29T03:01:56.176Z"
   },
   {
    "duration": 28,
    "start_time": "2022-08-29T03:04:55.068Z"
   },
   {
    "duration": 12,
    "start_time": "2022-08-29T03:12:21.861Z"
   },
   {
    "duration": 7,
    "start_time": "2022-08-29T03:12:29.857Z"
   },
   {
    "duration": 8,
    "start_time": "2022-08-29T03:12:44.347Z"
   },
   {
    "duration": 4,
    "start_time": "2022-08-29T03:15:27.761Z"
   },
   {
    "duration": 5,
    "start_time": "2022-08-29T03:16:30.999Z"
   },
   {
    "duration": 7,
    "start_time": "2022-08-29T03:16:33.244Z"
   },
   {
    "duration": 5,
    "start_time": "2022-08-29T03:16:34.721Z"
   },
   {
    "duration": 5,
    "start_time": "2022-08-29T03:17:14.523Z"
   },
   {
    "duration": 51,
    "start_time": "2022-08-29T03:18:38.699Z"
   },
   {
    "duration": 8,
    "start_time": "2022-08-29T03:18:58.897Z"
   },
   {
    "duration": 6,
    "start_time": "2022-08-29T03:19:06.112Z"
   },
   {
    "duration": 5,
    "start_time": "2022-08-29T03:20:43.664Z"
   },
   {
    "duration": 6,
    "start_time": "2022-08-29T03:23:32.278Z"
   },
   {
    "duration": 8,
    "start_time": "2022-08-29T03:30:16.915Z"
   },
   {
    "duration": 5,
    "start_time": "2022-08-29T03:32:57.610Z"
   },
   {
    "duration": 8,
    "start_time": "2022-08-29T03:32:59.581Z"
   },
   {
    "duration": 90,
    "start_time": "2022-08-29T03:34:23.461Z"
   },
   {
    "duration": 77,
    "start_time": "2022-08-29T03:34:57.151Z"
   },
   {
    "duration": 11,
    "start_time": "2022-08-29T03:35:01.850Z"
   },
   {
    "duration": 58,
    "start_time": "2022-08-29T03:35:12.114Z"
   },
   {
    "duration": 4,
    "start_time": "2022-08-29T03:35:24.562Z"
   },
   {
    "duration": 51,
    "start_time": "2022-08-29T03:35:26.597Z"
   },
   {
    "duration": 48,
    "start_time": "2022-08-29T03:35:30.796Z"
   },
   {
    "duration": 5,
    "start_time": "2022-08-29T03:35:38.290Z"
   },
   {
    "duration": 9,
    "start_time": "2022-08-29T03:35:39.942Z"
   },
   {
    "duration": 8,
    "start_time": "2022-08-29T03:36:00.733Z"
   },
   {
    "duration": 9,
    "start_time": "2022-08-29T03:36:03.266Z"
   },
   {
    "duration": 9,
    "start_time": "2022-08-29T03:36:22.921Z"
   },
   {
    "duration": 83,
    "start_time": "2022-08-29T03:36:23.315Z"
   },
   {
    "duration": 43,
    "start_time": "2022-08-29T03:36:27.576Z"
   },
   {
    "duration": 8,
    "start_time": "2022-08-29T03:36:33.579Z"
   },
   {
    "duration": 10,
    "start_time": "2022-08-29T03:37:52.678Z"
   },
   {
    "duration": 49,
    "start_time": "2022-08-29T03:37:56.504Z"
   },
   {
    "duration": 19,
    "start_time": "2022-08-29T03:39:16.652Z"
   },
   {
    "duration": 3,
    "start_time": "2022-08-29T03:39:42.171Z"
   },
   {
    "duration": 315,
    "start_time": "2022-08-29T03:39:42.404Z"
   },
   {
    "duration": 22,
    "start_time": "2022-08-29T03:39:43.148Z"
   },
   {
    "duration": 9,
    "start_time": "2022-08-29T03:39:43.420Z"
   },
   {
    "duration": 19,
    "start_time": "2022-08-29T03:39:44.385Z"
   },
   {
    "duration": 9,
    "start_time": "2022-08-29T03:39:44.678Z"
   },
   {
    "duration": 16,
    "start_time": "2022-08-29T03:39:44.987Z"
   },
   {
    "duration": 8,
    "start_time": "2022-08-29T03:39:45.195Z"
   },
   {
    "duration": 11,
    "start_time": "2022-08-29T03:39:45.821Z"
   },
   {
    "duration": 9,
    "start_time": "2022-08-29T03:39:46.232Z"
   },
   {
    "duration": 13,
    "start_time": "2022-08-29T03:39:46.945Z"
   },
   {
    "duration": 15,
    "start_time": "2022-08-29T03:39:47.196Z"
   },
   {
    "duration": 23,
    "start_time": "2022-08-29T03:39:48.566Z"
   },
   {
    "duration": 9,
    "start_time": "2022-08-29T03:39:48.862Z"
   },
   {
    "duration": 15,
    "start_time": "2022-08-29T03:39:49.357Z"
   },
   {
    "duration": 19,
    "start_time": "2022-08-29T03:39:49.609Z"
   },
   {
    "duration": 10,
    "start_time": "2022-08-29T03:39:50.022Z"
   },
   {
    "duration": 8,
    "start_time": "2022-08-29T03:39:50.481Z"
   },
   {
    "duration": 8,
    "start_time": "2022-08-29T03:39:50.688Z"
   },
   {
    "duration": 7,
    "start_time": "2022-08-29T03:39:51.328Z"
   },
   {
    "duration": 33,
    "start_time": "2022-08-29T03:39:51.742Z"
   },
   {
    "duration": 910,
    "start_time": "2022-08-29T03:39:51.932Z"
   },
   {
    "duration": 10,
    "start_time": "2022-08-29T03:39:52.844Z"
   },
   {
    "duration": 10,
    "start_time": "2022-08-29T03:39:52.856Z"
   },
   {
    "duration": 613,
    "start_time": "2022-08-29T03:39:52.869Z"
   },
   {
    "duration": 30,
    "start_time": "2022-08-29T03:39:53.484Z"
   },
   {
    "duration": 37,
    "start_time": "2022-08-29T03:39:53.690Z"
   },
   {
    "duration": 24,
    "start_time": "2022-08-29T03:39:55.345Z"
   },
   {
    "duration": 35,
    "start_time": "2022-08-29T03:39:59.308Z"
   },
   {
    "duration": 34,
    "start_time": "2022-08-29T03:40:07.865Z"
   },
   {
    "duration": 8,
    "start_time": "2022-08-29T03:40:39.865Z"
   },
   {
    "duration": 6,
    "start_time": "2022-08-29T03:41:27.033Z"
   },
   {
    "duration": 6,
    "start_time": "2022-08-29T03:41:54.221Z"
   },
   {
    "duration": 5,
    "start_time": "2022-08-29T03:42:11.496Z"
   },
   {
    "duration": 29,
    "start_time": "2022-08-29T03:42:19.053Z"
   },
   {
    "duration": 8,
    "start_time": "2022-08-29T03:42:32.389Z"
   },
   {
    "duration": 6,
    "start_time": "2022-08-29T03:42:35.383Z"
   },
   {
    "duration": 9,
    "start_time": "2022-08-29T03:44:25.969Z"
   },
   {
    "duration": 5,
    "start_time": "2022-08-29T03:44:26.891Z"
   },
   {
    "duration": 6,
    "start_time": "2022-08-29T03:44:27.732Z"
   },
   {
    "duration": 10,
    "start_time": "2022-08-29T03:44:36.899Z"
   },
   {
    "duration": 19,
    "start_time": "2022-08-29T03:44:43.212Z"
   },
   {
    "duration": 19,
    "start_time": "2022-08-29T03:44:48.749Z"
   },
   {
    "duration": 8,
    "start_time": "2022-08-29T03:45:04.521Z"
   },
   {
    "duration": 34,
    "start_time": "2022-08-29T03:45:38.893Z"
   },
   {
    "duration": 6,
    "start_time": "2022-08-29T03:45:45.447Z"
   },
   {
    "duration": 89,
    "start_time": "2022-08-29T03:45:47.123Z"
   },
   {
    "duration": 30,
    "start_time": "2022-08-29T03:45:48.104Z"
   },
   {
    "duration": 8,
    "start_time": "2022-08-29T03:45:51.999Z"
   },
   {
    "duration": 38,
    "start_time": "2022-08-29T03:46:03.919Z"
   },
   {
    "duration": 149,
    "start_time": "2022-08-29T03:47:41.709Z"
   },
   {
    "duration": 205,
    "start_time": "2022-08-29T03:48:10.291Z"
   },
   {
    "duration": 217,
    "start_time": "2022-08-29T03:48:24.209Z"
   },
   {
    "duration": 43,
    "start_time": "2022-08-29T03:49:21.339Z"
   },
   {
    "duration": 120,
    "start_time": "2022-08-29T03:49:27.947Z"
   },
   {
    "duration": 108,
    "start_time": "2022-08-29T03:52:06.896Z"
   },
   {
    "duration": 143,
    "start_time": "2022-08-29T03:52:33.155Z"
   },
   {
    "duration": 16,
    "start_time": "2022-08-29T03:54:19.472Z"
   },
   {
    "duration": 742,
    "start_time": "2022-08-29T03:54:30.277Z"
   },
   {
    "duration": 29,
    "start_time": "2022-08-29T03:54:45.260Z"
   },
   {
    "duration": 11,
    "start_time": "2022-08-29T04:00:55.879Z"
   },
   {
    "duration": 197,
    "start_time": "2022-08-29T04:01:02.924Z"
   },
   {
    "duration": 147,
    "start_time": "2022-08-29T04:01:11.777Z"
   },
   {
    "duration": 216,
    "start_time": "2022-08-29T04:01:15.788Z"
   },
   {
    "duration": 32,
    "start_time": "2022-08-29T04:01:23.818Z"
   },
   {
    "duration": 7,
    "start_time": "2022-08-29T04:01:41.225Z"
   },
   {
    "duration": 8,
    "start_time": "2022-08-29T04:02:10.613Z"
   },
   {
    "duration": 3,
    "start_time": "2022-08-29T04:02:45.716Z"
   },
   {
    "duration": 46,
    "start_time": "2022-08-29T04:02:50.323Z"
   },
   {
    "duration": 8,
    "start_time": "2022-08-29T04:03:04.641Z"
   },
   {
    "duration": 9,
    "start_time": "2022-08-29T04:03:42.767Z"
   },
   {
    "duration": 31,
    "start_time": "2022-08-29T04:04:06.992Z"
   },
   {
    "duration": 39,
    "start_time": "2022-08-29T04:04:14.694Z"
   },
   {
    "duration": 47,
    "start_time": "2022-08-29T04:04:25.569Z"
   },
   {
    "duration": 44,
    "start_time": "2022-08-29T04:04:51.808Z"
   },
   {
    "duration": 9,
    "start_time": "2022-08-29T04:05:11.387Z"
   },
   {
    "duration": 12,
    "start_time": "2022-08-29T04:05:14.335Z"
   },
   {
    "duration": 45,
    "start_time": "2022-08-29T04:05:39.928Z"
   },
   {
    "duration": 47,
    "start_time": "2022-08-29T04:06:02.672Z"
   },
   {
    "duration": 9,
    "start_time": "2022-08-29T04:07:17.798Z"
   },
   {
    "duration": 107,
    "start_time": "2022-08-29T04:07:19.365Z"
   },
   {
    "duration": 33,
    "start_time": "2022-08-29T04:07:20.062Z"
   },
   {
    "duration": 32,
    "start_time": "2022-08-29T04:07:42.070Z"
   },
   {
    "duration": 46,
    "start_time": "2022-08-29T04:07:47.328Z"
   },
   {
    "duration": 8,
    "start_time": "2022-08-29T04:08:04.077Z"
   },
   {
    "duration": 17,
    "start_time": "2022-08-29T04:08:15.168Z"
   },
   {
    "duration": 57,
    "start_time": "2022-08-29T04:08:43.931Z"
   },
   {
    "duration": 11,
    "start_time": "2022-08-29T04:09:38.162Z"
   },
   {
    "duration": 121,
    "start_time": "2022-08-29T04:09:39.950Z"
   },
   {
    "duration": 56,
    "start_time": "2022-08-29T04:09:40.691Z"
   },
   {
    "duration": 45,
    "start_time": "2022-08-29T04:09:52.805Z"
   },
   {
    "duration": 55,
    "start_time": "2022-08-29T04:09:59.251Z"
   },
   {
    "duration": 16,
    "start_time": "2022-08-29T04:10:05.087Z"
   },
   {
    "duration": 10,
    "start_time": "2022-08-29T04:10:12.647Z"
   },
   {
    "duration": 10,
    "start_time": "2022-08-29T04:11:03.223Z"
   },
   {
    "duration": 127,
    "start_time": "2022-08-29T04:11:03.763Z"
   },
   {
    "duration": 49,
    "start_time": "2022-08-29T04:11:05.225Z"
   },
   {
    "duration": 52,
    "start_time": "2022-08-29T04:11:15.961Z"
   },
   {
    "duration": 17,
    "start_time": "2022-08-29T04:11:22.631Z"
   },
   {
    "duration": 11,
    "start_time": "2022-08-29T04:11:25.801Z"
   },
   {
    "duration": 16,
    "start_time": "2022-08-29T04:14:51.735Z"
   },
   {
    "duration": 33,
    "start_time": "2022-08-29T04:14:57.777Z"
   },
   {
    "duration": 14,
    "start_time": "2022-08-29T04:15:05.161Z"
   },
   {
    "duration": 18,
    "start_time": "2022-08-29T04:15:22.939Z"
   },
   {
    "duration": 20,
    "start_time": "2022-08-29T04:15:39.673Z"
   },
   {
    "duration": 9,
    "start_time": "2022-08-29T04:15:45.653Z"
   },
   {
    "duration": 583,
    "start_time": "2022-08-29T04:16:19.810Z"
   },
   {
    "duration": 3,
    "start_time": "2022-08-29T04:17:41.516Z"
   },
   {
    "duration": 405,
    "start_time": "2022-08-29T04:17:41.984Z"
   },
   {
    "duration": 34,
    "start_time": "2022-08-29T04:17:42.690Z"
   },
   {
    "duration": 13,
    "start_time": "2022-08-29T04:17:42.850Z"
   },
   {
    "duration": 35,
    "start_time": "2022-08-29T04:17:43.437Z"
   },
   {
    "duration": 15,
    "start_time": "2022-08-29T04:17:43.696Z"
   },
   {
    "duration": 19,
    "start_time": "2022-08-29T04:17:44.266Z"
   },
   {
    "duration": 10,
    "start_time": "2022-08-29T04:17:44.476Z"
   },
   {
    "duration": 20,
    "start_time": "2022-08-29T04:17:45.042Z"
   },
   {
    "duration": 11,
    "start_time": "2022-08-29T04:17:45.233Z"
   },
   {
    "duration": 15,
    "start_time": "2022-08-29T04:17:45.846Z"
   },
   {
    "duration": 15,
    "start_time": "2022-08-29T04:17:46.058Z"
   },
   {
    "duration": 28,
    "start_time": "2022-08-29T04:17:47.080Z"
   },
   {
    "duration": 12,
    "start_time": "2022-08-29T04:17:47.321Z"
   },
   {
    "duration": 24,
    "start_time": "2022-08-29T04:17:50.591Z"
   },
   {
    "duration": 20,
    "start_time": "2022-08-29T04:17:52.942Z"
   },
   {
    "duration": 13,
    "start_time": "2022-08-29T04:17:55.438Z"
   },
   {
    "duration": 6,
    "start_time": "2022-08-29T04:18:06.455Z"
   },
   {
    "duration": 10,
    "start_time": "2022-08-29T04:18:53.503Z"
   },
   {
    "duration": 10,
    "start_time": "2022-08-29T04:19:03.476Z"
   },
   {
    "duration": 7,
    "start_time": "2022-08-29T04:20:11.661Z"
   },
   {
    "duration": 8,
    "start_time": "2022-08-29T04:20:16.494Z"
   },
   {
    "duration": 10,
    "start_time": "2022-08-29T04:20:20.211Z"
   },
   {
    "duration": 43,
    "start_time": "2022-08-29T04:20:20.915Z"
   },
   {
    "duration": 615,
    "start_time": "2022-08-29T04:20:21.337Z"
   },
   {
    "duration": 10,
    "start_time": "2022-08-29T04:20:21.955Z"
   },
   {
    "duration": 16,
    "start_time": "2022-08-29T04:20:21.966Z"
   },
   {
    "duration": 734,
    "start_time": "2022-08-29T04:20:23.450Z"
   },
   {
    "duration": 24,
    "start_time": "2022-08-29T04:20:24.186Z"
   },
   {
    "duration": 37,
    "start_time": "2022-08-29T04:20:24.871Z"
   },
   {
    "duration": 28,
    "start_time": "2022-08-29T04:20:25.742Z"
   },
   {
    "duration": 6,
    "start_time": "2022-08-29T04:20:26.356Z"
   },
   {
    "duration": 6,
    "start_time": "2022-08-29T04:20:47.874Z"
   },
   {
    "duration": 38,
    "start_time": "2022-08-29T04:20:49.026Z"
   },
   {
    "duration": 11,
    "start_time": "2022-08-29T04:20:53.211Z"
   },
   {
    "duration": 6,
    "start_time": "2022-08-29T04:21:02.766Z"
   },
   {
    "duration": 41,
    "start_time": "2022-08-29T04:21:03.476Z"
   },
   {
    "duration": 8,
    "start_time": "2022-08-29T04:21:03.740Z"
   },
   {
    "duration": 38,
    "start_time": "2022-08-29T04:21:10.002Z"
   },
   {
    "duration": 7,
    "start_time": "2022-08-29T04:21:10.450Z"
   },
   {
    "duration": 31,
    "start_time": "2022-08-29T04:21:16.337Z"
   },
   {
    "duration": 8,
    "start_time": "2022-08-29T04:21:21.333Z"
   },
   {
    "duration": 6,
    "start_time": "2022-08-29T04:23:32.755Z"
   },
   {
    "duration": 6,
    "start_time": "2022-08-29T04:23:33.285Z"
   },
   {
    "duration": 7,
    "start_time": "2022-08-29T04:23:41.753Z"
   },
   {
    "duration": 16,
    "start_time": "2022-08-29T04:23:46.319Z"
   },
   {
    "duration": 17,
    "start_time": "2022-08-29T04:23:54.343Z"
   },
   {
    "duration": 22,
    "start_time": "2022-08-29T04:23:55.427Z"
   },
   {
    "duration": 15,
    "start_time": "2022-08-29T04:24:06.992Z"
   },
   {
    "duration": 4,
    "start_time": "2022-08-29T04:24:17.393Z"
   },
   {
    "duration": 328,
    "start_time": "2022-08-29T04:24:17.591Z"
   },
   {
    "duration": 21,
    "start_time": "2022-08-29T04:24:18.163Z"
   },
   {
    "duration": 10,
    "start_time": "2022-08-29T04:24:18.354Z"
   },
   {
    "duration": 20,
    "start_time": "2022-08-29T04:24:18.927Z"
   },
   {
    "duration": 10,
    "start_time": "2022-08-29T04:24:19.118Z"
   },
   {
    "duration": 22,
    "start_time": "2022-08-29T04:24:19.698Z"
   },
   {
    "duration": 8,
    "start_time": "2022-08-29T04:24:19.849Z"
   },
   {
    "duration": 13,
    "start_time": "2022-08-29T04:24:20.426Z"
   },
   {
    "duration": 13,
    "start_time": "2022-08-29T04:24:20.618Z"
   },
   {
    "duration": 16,
    "start_time": "2022-08-29T04:24:21.159Z"
   },
   {
    "duration": 20,
    "start_time": "2022-08-29T04:24:21.681Z"
   },
   {
    "duration": 23,
    "start_time": "2022-08-29T04:24:22.465Z"
   },
   {
    "duration": 9,
    "start_time": "2022-08-29T04:24:22.647Z"
   },
   {
    "duration": 16,
    "start_time": "2022-08-29T04:24:23.035Z"
   },
   {
    "duration": 22,
    "start_time": "2022-08-29T04:24:23.418Z"
   },
   {
    "duration": 9,
    "start_time": "2022-08-29T04:24:23.771Z"
   },
   {
    "duration": 8,
    "start_time": "2022-08-29T04:24:24.129Z"
   },
   {
    "duration": 11,
    "start_time": "2022-08-29T04:24:24.323Z"
   },
   {
    "duration": 10,
    "start_time": "2022-08-29T04:24:24.726Z"
   },
   {
    "duration": 6,
    "start_time": "2022-08-29T04:24:25.336Z"
   },
   {
    "duration": 32,
    "start_time": "2022-08-29T04:24:25.722Z"
   },
   {
    "duration": 592,
    "start_time": "2022-08-29T04:24:26.159Z"
   },
   {
    "duration": 10,
    "start_time": "2022-08-29T04:24:26.753Z"
   },
   {
    "duration": 10,
    "start_time": "2022-08-29T04:24:26.865Z"
   },
   {
    "duration": 685,
    "start_time": "2022-08-29T04:24:27.249Z"
   },
   {
    "duration": 14,
    "start_time": "2022-08-29T04:24:27.936Z"
   },
   {
    "duration": 42,
    "start_time": "2022-08-29T04:24:28.405Z"
   },
   {
    "duration": 23,
    "start_time": "2022-08-29T04:24:28.565Z"
   },
   {
    "duration": 6,
    "start_time": "2022-08-29T04:24:28.746Z"
   },
   {
    "duration": 44,
    "start_time": "2022-08-29T04:24:30.008Z"
   },
   {
    "duration": 8,
    "start_time": "2022-08-29T04:24:30.904Z"
   },
   {
    "duration": 36,
    "start_time": "2022-08-29T04:24:31.940Z"
   },
   {
    "duration": 6,
    "start_time": "2022-08-29T04:24:32.378Z"
   },
   {
    "duration": 527,
    "start_time": "2022-08-29T04:24:34.212Z"
   },
   {
    "duration": 7,
    "start_time": "2022-08-29T04:24:34.979Z"
   },
   {
    "duration": 6,
    "start_time": "2022-08-29T04:24:36.493Z"
   },
   {
    "duration": 6,
    "start_time": "2022-08-29T04:24:36.959Z"
   },
   {
    "duration": 11,
    "start_time": "2022-08-29T04:24:38.528Z"
   },
   {
    "duration": 19,
    "start_time": "2022-08-29T04:24:39.464Z"
   },
   {
    "duration": 22,
    "start_time": "2022-08-29T04:24:40.587Z"
   },
   {
    "duration": 37,
    "start_time": "2022-08-29T04:25:28.026Z"
   },
   {
    "duration": 7,
    "start_time": "2022-08-29T04:25:38.173Z"
   },
   {
    "duration": 70,
    "start_time": "2022-08-29T04:25:39.917Z"
   },
   {
    "duration": 41,
    "start_time": "2022-08-29T04:25:40.993Z"
   },
   {
    "duration": 767,
    "start_time": "2022-08-29T04:25:55.433Z"
   },
   {
    "duration": 9,
    "start_time": "2022-08-29T04:26:10.135Z"
   },
   {
    "duration": 11,
    "start_time": "2022-08-29T04:26:33.812Z"
   },
   {
    "duration": 163,
    "start_time": "2022-08-29T04:26:37.203Z"
   },
   {
    "duration": 159,
    "start_time": "2022-08-29T04:26:44.630Z"
   },
   {
    "duration": 37,
    "start_time": "2022-08-29T04:26:48.195Z"
   },
   {
    "duration": 16,
    "start_time": "2022-08-29T04:27:27.391Z"
   },
   {
    "duration": 13,
    "start_time": "2022-08-29T04:27:55.711Z"
   },
   {
    "duration": 168,
    "start_time": "2022-08-29T04:28:04.920Z"
   },
   {
    "duration": 126,
    "start_time": "2022-08-29T04:28:06.262Z"
   },
   {
    "duration": 17,
    "start_time": "2022-08-29T04:28:13.027Z"
   },
   {
    "duration": 9,
    "start_time": "2022-08-29T04:28:15.167Z"
   },
   {
    "duration": 837,
    "start_time": "2022-08-29T04:28:39.845Z"
   },
   {
    "duration": 33,
    "start_time": "2022-08-29T04:28:49.221Z"
   },
   {
    "duration": 9,
    "start_time": "2022-08-29T04:29:13.066Z"
   },
   {
    "duration": 173,
    "start_time": "2022-08-29T04:29:14.286Z"
   },
   {
    "duration": 157,
    "start_time": "2022-08-29T04:29:14.958Z"
   },
   {
    "duration": 187,
    "start_time": "2022-08-29T04:29:15.636Z"
   },
   {
    "duration": 29,
    "start_time": "2022-08-29T04:29:33.371Z"
   },
   {
    "duration": 8,
    "start_time": "2022-08-29T04:29:37.683Z"
   },
   {
    "duration": 7,
    "start_time": "2022-08-29T04:29:43.355Z"
   },
   {
    "duration": 155,
    "start_time": "2022-08-29T04:30:48.037Z"
   },
   {
    "duration": 157,
    "start_time": "2022-08-29T04:30:48.530Z"
   },
   {
    "duration": 170,
    "start_time": "2022-08-29T04:30:49.209Z"
   },
   {
    "duration": 160,
    "start_time": "2022-08-29T04:32:42.763Z"
   },
   {
    "duration": 156,
    "start_time": "2022-08-29T04:32:43.860Z"
   },
   {
    "duration": 159,
    "start_time": "2022-08-29T04:32:45.126Z"
   },
   {
    "duration": 28,
    "start_time": "2022-08-29T04:33:55.838Z"
   },
   {
    "duration": 7,
    "start_time": "2022-08-29T04:34:01.406Z"
   },
   {
    "duration": 15,
    "start_time": "2022-08-29T04:34:10.845Z"
   },
   {
    "duration": 15,
    "start_time": "2022-08-29T04:34:15.064Z"
   },
   {
    "duration": 5,
    "start_time": "2022-08-29T04:34:20.896Z"
   },
   {
    "duration": 26,
    "start_time": "2022-08-29T04:34:40.916Z"
   },
   {
    "duration": 31,
    "start_time": "2022-08-29T04:34:52.233Z"
   },
   {
    "duration": 7,
    "start_time": "2022-08-29T04:34:55.449Z"
   },
   {
    "duration": 5,
    "start_time": "2022-08-29T04:34:58.766Z"
   },
   {
    "duration": 11,
    "start_time": "2022-08-29T04:37:57.275Z"
   },
   {
    "duration": 7,
    "start_time": "2022-08-29T04:38:02.863Z"
   },
   {
    "duration": 6,
    "start_time": "2022-08-29T04:38:06.714Z"
   },
   {
    "duration": 18,
    "start_time": "2022-08-29T04:41:02.967Z"
   },
   {
    "duration": 20,
    "start_time": "2022-08-29T04:41:08.541Z"
   },
   {
    "duration": 977,
    "start_time": "2022-08-29T08:37:08.740Z"
   },
   {
    "duration": 302,
    "start_time": "2022-08-29T08:37:09.720Z"
   },
   {
    "duration": 18,
    "start_time": "2022-08-29T08:37:10.023Z"
   },
   {
    "duration": 15,
    "start_time": "2022-08-29T08:37:10.043Z"
   },
   {
    "duration": 19,
    "start_time": "2022-08-29T08:37:10.060Z"
   },
   {
    "duration": 9,
    "start_time": "2022-08-29T08:37:10.080Z"
   },
   {
    "duration": 22,
    "start_time": "2022-08-29T08:37:10.090Z"
   },
   {
    "duration": 8,
    "start_time": "2022-08-29T08:37:10.113Z"
   },
   {
    "duration": 12,
    "start_time": "2022-08-29T08:37:10.122Z"
   },
   {
    "duration": 12,
    "start_time": "2022-08-29T08:37:10.135Z"
   },
   {
    "duration": 9,
    "start_time": "2022-08-29T08:37:10.149Z"
   },
   {
    "duration": 9,
    "start_time": "2022-08-29T08:37:10.160Z"
   },
   {
    "duration": 48,
    "start_time": "2022-08-29T08:37:10.171Z"
   },
   {
    "duration": 8,
    "start_time": "2022-08-29T08:37:10.223Z"
   },
   {
    "duration": 18,
    "start_time": "2022-08-29T08:37:10.232Z"
   },
   {
    "duration": 18,
    "start_time": "2022-08-29T08:37:10.252Z"
   },
   {
    "duration": 10,
    "start_time": "2022-08-29T08:37:10.271Z"
   },
   {
    "duration": 27,
    "start_time": "2022-08-29T08:37:10.282Z"
   },
   {
    "duration": 10,
    "start_time": "2022-08-29T08:37:10.311Z"
   },
   {
    "duration": 13,
    "start_time": "2022-08-29T08:37:10.323Z"
   },
   {
    "duration": 9,
    "start_time": "2022-08-29T08:37:10.338Z"
   },
   {
    "duration": 37,
    "start_time": "2022-08-29T08:37:10.348Z"
   },
   {
    "duration": 568,
    "start_time": "2022-08-29T08:37:10.387Z"
   },
   {
    "duration": 9,
    "start_time": "2022-08-29T08:37:10.957Z"
   },
   {
    "duration": 9,
    "start_time": "2022-08-29T08:37:10.967Z"
   },
   {
    "duration": 551,
    "start_time": "2022-08-29T08:37:10.978Z"
   },
   {
    "duration": 16,
    "start_time": "2022-08-29T08:37:11.531Z"
   },
   {
    "duration": 37,
    "start_time": "2022-08-29T08:37:11.549Z"
   },
   {
    "duration": 24,
    "start_time": "2022-08-29T08:37:11.606Z"
   },
   {
    "duration": 4,
    "start_time": "2022-08-29T08:37:11.632Z"
   },
   {
    "duration": 39,
    "start_time": "2022-08-29T08:37:11.638Z"
   },
   {
    "duration": 5,
    "start_time": "2022-08-29T08:37:11.678Z"
   },
   {
    "duration": 56,
    "start_time": "2022-08-29T08:37:11.684Z"
   },
   {
    "duration": 4,
    "start_time": "2022-08-29T08:37:11.742Z"
   },
   {
    "duration": 31,
    "start_time": "2022-08-29T08:37:11.748Z"
   },
   {
    "duration": 6,
    "start_time": "2022-08-29T08:37:11.780Z"
   },
   {
    "duration": 23,
    "start_time": "2022-08-29T08:37:11.787Z"
   },
   {
    "duration": 10,
    "start_time": "2022-08-29T08:37:11.812Z"
   },
   {
    "duration": 10,
    "start_time": "2022-08-29T08:37:11.824Z"
   },
   {
    "duration": 17,
    "start_time": "2022-08-29T08:37:11.835Z"
   },
   {
    "duration": 19,
    "start_time": "2022-08-29T08:37:11.855Z"
   },
   {
    "duration": 57,
    "start_time": "2022-08-29T08:37:11.875Z"
   },
   {
    "duration": 5,
    "start_time": "2022-08-29T08:37:11.934Z"
   },
   {
    "duration": 70,
    "start_time": "2022-08-29T08:37:11.941Z"
   },
   {
    "duration": 25,
    "start_time": "2022-08-29T08:37:12.013Z"
   },
   {
    "duration": 4,
    "start_time": "2022-08-29T08:37:18.306Z"
   },
   {
    "duration": 129,
    "start_time": "2022-08-29T08:38:59.540Z"
   },
   {
    "duration": 1211,
    "start_time": "2022-08-29T22:43:05.203Z"
   },
   {
    "duration": 837,
    "start_time": "2022-08-29T22:43:06.416Z"
   },
   {
    "duration": 28,
    "start_time": "2022-08-29T22:43:07.340Z"
   },
   {
    "duration": 14,
    "start_time": "2022-08-29T22:43:07.772Z"
   },
   {
    "duration": 19,
    "start_time": "2022-08-29T22:43:10.315Z"
   },
   {
    "duration": 9,
    "start_time": "2022-08-29T22:43:11.830Z"
   },
   {
    "duration": 16,
    "start_time": "2022-08-29T22:43:14.494Z"
   },
   {
    "duration": 7,
    "start_time": "2022-08-29T22:43:14.739Z"
   },
   {
    "duration": 10,
    "start_time": "2022-08-29T22:43:17.304Z"
   },
   {
    "duration": 10,
    "start_time": "2022-08-29T22:43:18.972Z"
   },
   {
    "duration": 12,
    "start_time": "2022-08-29T22:43:21.973Z"
   },
   {
    "duration": 13,
    "start_time": "2022-08-29T22:43:23.259Z"
   },
   {
    "duration": 3,
    "start_time": "2022-08-29T22:56:12.958Z"
   },
   {
    "duration": 296,
    "start_time": "2022-08-29T22:56:13.546Z"
   },
   {
    "duration": 22,
    "start_time": "2022-08-29T22:56:14.102Z"
   },
   {
    "duration": 10,
    "start_time": "2022-08-29T22:56:14.322Z"
   },
   {
    "duration": 17,
    "start_time": "2022-08-29T22:56:14.967Z"
   },
   {
    "duration": 8,
    "start_time": "2022-08-29T22:56:15.171Z"
   },
   {
    "duration": 15,
    "start_time": "2022-08-29T22:56:15.810Z"
   },
   {
    "duration": 9,
    "start_time": "2022-08-29T22:56:16.003Z"
   },
   {
    "duration": 13,
    "start_time": "2022-08-29T22:56:16.624Z"
   },
   {
    "duration": 8,
    "start_time": "2022-08-29T22:56:16.975Z"
   },
   {
    "duration": 10,
    "start_time": "2022-08-29T22:56:17.931Z"
   },
   {
    "duration": 68,
    "start_time": "2022-08-29T22:56:17.943Z"
   },
   {
    "duration": 23,
    "start_time": "2022-08-29T22:56:28.158Z"
   },
   {
    "duration": 16,
    "start_time": "2022-08-29T22:56:57.931Z"
   },
   {
    "duration": 19,
    "start_time": "2022-08-29T22:57:05.148Z"
   },
   {
    "duration": 6,
    "start_time": "2022-08-29T22:57:10.407Z"
   },
   {
    "duration": 8,
    "start_time": "2022-08-29T22:57:12.345Z"
   },
   {
    "duration": 7,
    "start_time": "2022-08-29T22:57:14.010Z"
   },
   {
    "duration": 30,
    "start_time": "2022-08-29T22:57:19.644Z"
   },
   {
    "duration": 24,
    "start_time": "2022-08-29T22:57:22.723Z"
   },
   {
    "duration": 458,
    "start_time": "2022-08-29T22:58:56.830Z"
   },
   {
    "duration": 10,
    "start_time": "2022-08-29T22:59:08.858Z"
   },
   {
    "duration": 10,
    "start_time": "2022-08-29T22:59:12.944Z"
   },
   {
    "duration": 483,
    "start_time": "2022-08-29T22:59:43.995Z"
   },
   {
    "duration": 440,
    "start_time": "2022-08-29T22:59:57.285Z"
   },
   {
    "duration": 511,
    "start_time": "2022-08-29T23:01:00.588Z"
   },
   {
    "duration": 22,
    "start_time": "2022-08-29T23:01:14.452Z"
   },
   {
    "duration": 49,
    "start_time": "2022-08-29T23:03:52.097Z"
   },
   {
    "duration": 30,
    "start_time": "2022-08-29T23:04:58.979Z"
   },
   {
    "duration": 21,
    "start_time": "2022-08-29T23:05:25.375Z"
   },
   {
    "duration": 5,
    "start_time": "2022-08-29T23:05:38.357Z"
   },
   {
    "duration": 31,
    "start_time": "2022-08-29T23:05:44.979Z"
   },
   {
    "duration": 6,
    "start_time": "2022-08-29T23:05:47.672Z"
   },
   {
    "duration": 95,
    "start_time": "2022-08-29T23:05:57.468Z"
   },
   {
    "duration": 32,
    "start_time": "2022-08-29T23:06:18.654Z"
   },
   {
    "duration": 6,
    "start_time": "2022-08-29T23:06:27.248Z"
   },
   {
    "duration": 28,
    "start_time": "2022-08-29T23:06:42.642Z"
   },
   {
    "duration": 6,
    "start_time": "2022-08-29T23:08:26.117Z"
   },
   {
    "duration": 9,
    "start_time": "2022-08-29T23:10:30.719Z"
   },
   {
    "duration": 4,
    "start_time": "2022-08-29T23:10:58.162Z"
   },
   {
    "duration": 6,
    "start_time": "2022-08-29T23:11:09.261Z"
   },
   {
    "duration": 42,
    "start_time": "2022-08-29T23:14:57.645Z"
   },
   {
    "duration": 9,
    "start_time": "2022-08-29T23:15:20.863Z"
   },
   {
    "duration": 64,
    "start_time": "2022-08-29T23:16:33.038Z"
   },
   {
    "duration": 874,
    "start_time": "2022-08-29T23:19:13.027Z"
   },
   {
    "duration": 4,
    "start_time": "2022-08-29T23:21:08.637Z"
   },
   {
    "duration": 6,
    "start_time": "2022-08-29T23:21:09.137Z"
   },
   {
    "duration": 9,
    "start_time": "2022-08-29T23:21:11.388Z"
   },
   {
    "duration": 18,
    "start_time": "2022-08-29T23:21:13.350Z"
   },
   {
    "duration": 19,
    "start_time": "2022-08-29T23:21:16.237Z"
   },
   {
    "duration": 784,
    "start_time": "2022-08-29T23:21:39.243Z"
   },
   {
    "duration": 14,
    "start_time": "2022-08-29T23:21:55.695Z"
   },
   {
    "duration": 2,
    "start_time": "2022-08-29T23:22:02.322Z"
   },
   {
    "duration": 295,
    "start_time": "2022-08-29T23:22:02.727Z"
   },
   {
    "duration": 18,
    "start_time": "2022-08-29T23:22:03.355Z"
   },
   {
    "duration": 8,
    "start_time": "2022-08-29T23:22:04.331Z"
   },
   {
    "duration": 16,
    "start_time": "2022-08-29T23:22:05.770Z"
   },
   {
    "duration": 9,
    "start_time": "2022-08-29T23:22:05.989Z"
   },
   {
    "duration": 13,
    "start_time": "2022-08-29T23:22:06.933Z"
   },
   {
    "duration": 7,
    "start_time": "2022-08-29T23:22:07.141Z"
   },
   {
    "duration": 11,
    "start_time": "2022-08-29T23:22:09.044Z"
   },
   {
    "duration": 9,
    "start_time": "2022-08-29T23:22:09.302Z"
   },
   {
    "duration": 10,
    "start_time": "2022-08-29T23:22:11.323Z"
   },
   {
    "duration": 10,
    "start_time": "2022-08-29T23:22:13.154Z"
   },
   {
    "duration": 35,
    "start_time": "2022-08-29T23:22:18.916Z"
   },
   {
    "duration": 13,
    "start_time": "2022-08-29T23:22:26.389Z"
   },
   {
    "duration": 17,
    "start_time": "2022-08-29T23:22:28.256Z"
   },
   {
    "duration": 6,
    "start_time": "2022-08-29T23:22:33.927Z"
   },
   {
    "duration": 6,
    "start_time": "2022-08-29T23:22:34.601Z"
   },
   {
    "duration": 7,
    "start_time": "2022-08-29T23:22:35.104Z"
   },
   {
    "duration": 7,
    "start_time": "2022-08-29T23:22:37.106Z"
   },
   {
    "duration": 22,
    "start_time": "2022-08-29T23:22:37.985Z"
   },
   {
    "duration": 449,
    "start_time": "2022-08-29T23:22:39.171Z"
   },
   {
    "duration": 10,
    "start_time": "2022-08-29T23:22:41.072Z"
   },
   {
    "duration": 9,
    "start_time": "2022-08-29T23:22:41.578Z"
   },
   {
    "duration": 449,
    "start_time": "2022-08-29T23:22:42.784Z"
   },
   {
    "duration": 21,
    "start_time": "2022-08-29T23:22:44.076Z"
   },
   {
    "duration": 34,
    "start_time": "2022-08-29T23:22:49.215Z"
   },
   {
    "duration": 26,
    "start_time": "2022-08-29T23:22:50.612Z"
   },
   {
    "duration": 25,
    "start_time": "2022-08-29T23:22:56.100Z"
   },
   {
    "duration": 6,
    "start_time": "2022-08-29T23:23:00.287Z"
   },
   {
    "duration": 32,
    "start_time": "2022-08-29T23:23:02.695Z"
   },
   {
    "duration": 5,
    "start_time": "2022-08-29T23:23:04.754Z"
   },
   {
    "duration": 129,
    "start_time": "2022-08-29T23:23:06.681Z"
   },
   {
    "duration": 7,
    "start_time": "2022-08-29T23:23:09.036Z"
   },
   {
    "duration": 31,
    "start_time": "2022-08-29T23:23:13.811Z"
   },
   {
    "duration": 6,
    "start_time": "2022-08-29T23:23:16.785Z"
   },
   {
    "duration": 5,
    "start_time": "2022-08-29T23:23:19.319Z"
   },
   {
    "duration": 5,
    "start_time": "2022-08-29T23:23:20.189Z"
   },
   {
    "duration": 10,
    "start_time": "2022-08-29T23:23:27.465Z"
   },
   {
    "duration": 15,
    "start_time": "2022-08-29T23:23:33.673Z"
   },
   {
    "duration": 20,
    "start_time": "2022-08-29T23:23:35.831Z"
   },
   {
    "duration": 9,
    "start_time": "2022-08-29T23:23:50.729Z"
   },
   {
    "duration": 28,
    "start_time": "2022-08-29T23:24:44.695Z"
   },
   {
    "duration": 9,
    "start_time": "2022-08-29T23:27:00.138Z"
   },
   {
    "duration": 26,
    "start_time": "2022-08-29T23:27:11.408Z"
   },
   {
    "duration": 71,
    "start_time": "2022-08-29T23:28:50.888Z"
   },
   {
    "duration": 46,
    "start_time": "2022-08-29T23:49:14.701Z"
   },
   {
    "duration": 4,
    "start_time": "2022-08-29T23:49:32.212Z"
   },
   {
    "duration": 4,
    "start_time": "2022-08-29T23:49:54.749Z"
   },
   {
    "duration": 3,
    "start_time": "2022-08-29T23:50:50.001Z"
   },
   {
    "duration": 4,
    "start_time": "2022-08-29T23:50:50.914Z"
   },
   {
    "duration": 4,
    "start_time": "2022-08-29T23:51:17.081Z"
   },
   {
    "duration": 2,
    "start_time": "2022-08-29T23:53:57.814Z"
   },
   {
    "duration": 290,
    "start_time": "2022-08-29T23:53:58.223Z"
   },
   {
    "duration": 24,
    "start_time": "2022-08-29T23:53:58.783Z"
   },
   {
    "duration": 8,
    "start_time": "2022-08-29T23:53:59.002Z"
   },
   {
    "duration": 22,
    "start_time": "2022-08-29T23:53:59.576Z"
   },
   {
    "duration": 8,
    "start_time": "2022-08-29T23:53:59.770Z"
   },
   {
    "duration": 13,
    "start_time": "2022-08-29T23:54:00.339Z"
   },
   {
    "duration": 7,
    "start_time": "2022-08-29T23:54:00.541Z"
   },
   {
    "duration": 10,
    "start_time": "2022-08-29T23:54:01.120Z"
   },
   {
    "duration": 8,
    "start_time": "2022-08-29T23:54:01.296Z"
   },
   {
    "duration": 11,
    "start_time": "2022-08-29T23:54:01.854Z"
   },
   {
    "duration": 14,
    "start_time": "2022-08-29T23:54:02.053Z"
   },
   {
    "duration": 20,
    "start_time": "2022-08-29T23:54:03.442Z"
   },
   {
    "duration": 15,
    "start_time": "2022-08-29T23:54:05.437Z"
   },
   {
    "duration": 16,
    "start_time": "2022-08-29T23:54:06.397Z"
   },
   {
    "duration": 5,
    "start_time": "2022-08-29T23:54:08.256Z"
   },
   {
    "duration": 6,
    "start_time": "2022-08-29T23:54:08.524Z"
   },
   {
    "duration": 7,
    "start_time": "2022-08-29T23:54:09.032Z"
   },
   {
    "duration": 6,
    "start_time": "2022-08-29T23:54:09.277Z"
   },
   {
    "duration": 21,
    "start_time": "2022-08-29T23:54:09.657Z"
   },
   {
    "duration": 468,
    "start_time": "2022-08-29T23:54:10.049Z"
   },
   {
    "duration": 15,
    "start_time": "2022-08-29T23:54:10.575Z"
   },
   {
    "duration": 22,
    "start_time": "2022-08-29T23:54:10.591Z"
   },
   {
    "duration": 457,
    "start_time": "2022-08-29T23:54:10.910Z"
   },
   {
    "duration": 28,
    "start_time": "2022-08-29T23:54:11.368Z"
   },
   {
    "duration": 34,
    "start_time": "2022-08-29T23:54:12.397Z"
   },
   {
    "duration": 24,
    "start_time": "2022-08-29T23:54:13.725Z"
   },
   {
    "duration": 6,
    "start_time": "2022-08-29T23:54:16.152Z"
   },
   {
    "duration": 35,
    "start_time": "2022-08-29T23:54:17.702Z"
   },
   {
    "duration": 5,
    "start_time": "2022-08-29T23:54:19.951Z"
   },
   {
    "duration": 35,
    "start_time": "2022-08-29T23:54:20.517Z"
   },
   {
    "duration": 5,
    "start_time": "2022-08-29T23:54:20.848Z"
   },
   {
    "duration": 28,
    "start_time": "2022-08-29T23:54:24.641Z"
   },
   {
    "duration": 6,
    "start_time": "2022-08-29T23:54:26.859Z"
   },
   {
    "duration": 4,
    "start_time": "2022-08-29T23:54:28.233Z"
   },
   {
    "duration": 6,
    "start_time": "2022-08-29T23:54:28.900Z"
   },
   {
    "duration": 9,
    "start_time": "2022-08-29T23:54:31.974Z"
   },
   {
    "duration": 18,
    "start_time": "2022-08-29T23:54:38.138Z"
   },
   {
    "duration": 21,
    "start_time": "2022-08-29T23:54:43.505Z"
   },
   {
    "duration": 9,
    "start_time": "2022-08-29T23:55:18.948Z"
   },
   {
    "duration": 10,
    "start_time": "2022-08-29T23:55:20.650Z"
   },
   {
    "duration": 17,
    "start_time": "2022-08-29T23:55:38.346Z"
   },
   {
    "duration": 3,
    "start_time": "2022-08-29T23:56:34.941Z"
   },
   {
    "duration": 4,
    "start_time": "2022-08-29T23:56:35.588Z"
   },
   {
    "duration": 7,
    "start_time": "2022-08-30T00:00:00.002Z"
   },
   {
    "duration": 3,
    "start_time": "2022-08-30T00:00:03.473Z"
   },
   {
    "duration": 5,
    "start_time": "2022-08-30T00:00:04.199Z"
   },
   {
    "duration": 5,
    "start_time": "2022-08-30T00:00:28.306Z"
   },
   {
    "duration": 3,
    "start_time": "2022-08-30T00:01:54.867Z"
   },
   {
    "duration": 5,
    "start_time": "2022-08-30T00:01:55.421Z"
   },
   {
    "duration": 3,
    "start_time": "2022-08-30T00:05:17.883Z"
   },
   {
    "duration": 4,
    "start_time": "2022-08-30T00:05:18.366Z"
   },
   {
    "duration": 3,
    "start_time": "2022-08-30T00:05:19.030Z"
   },
   {
    "duration": 4,
    "start_time": "2022-08-30T00:05:19.556Z"
   },
   {
    "duration": 3,
    "start_time": "2022-08-30T00:05:21.002Z"
   },
   {
    "duration": 4,
    "start_time": "2022-08-30T00:05:21.458Z"
   },
   {
    "duration": 39,
    "start_time": "2022-08-30T00:06:47.054Z"
   },
   {
    "duration": 27,
    "start_time": "2022-08-30T00:06:53.955Z"
   },
   {
    "duration": 986,
    "start_time": "2022-08-30T00:09:39.864Z"
   },
   {
    "duration": 3,
    "start_time": "2022-08-30T00:10:13.701Z"
   },
   {
    "duration": 110,
    "start_time": "2022-08-30T00:10:17.050Z"
   },
   {
    "duration": 27,
    "start_time": "2022-08-30T00:10:18.698Z"
   },
   {
    "duration": 9,
    "start_time": "2022-08-30T00:12:30.960Z"
   },
   {
    "duration": 3,
    "start_time": "2022-08-30T00:13:06.431Z"
   },
   {
    "duration": 34,
    "start_time": "2022-08-30T00:13:08.312Z"
   },
   {
    "duration": 28,
    "start_time": "2022-08-30T00:13:09.271Z"
   },
   {
    "duration": 4,
    "start_time": "2022-08-30T00:22:44.684Z"
   },
   {
    "duration": 5,
    "start_time": "2022-08-30T00:22:45.474Z"
   },
   {
    "duration": 4,
    "start_time": "2022-08-30T00:22:46.974Z"
   },
   {
    "duration": 33,
    "start_time": "2022-08-30T00:22:47.026Z"
   },
   {
    "duration": 34,
    "start_time": "2022-08-30T00:22:50.991Z"
   },
   {
    "duration": 29,
    "start_time": "2022-08-30T00:22:51.949Z"
   },
   {
    "duration": 5,
    "start_time": "2022-08-30T00:25:20.173Z"
   },
   {
    "duration": 4,
    "start_time": "2022-08-30T00:25:55.701Z"
   },
   {
    "duration": 18,
    "start_time": "2022-08-30T00:26:28.880Z"
   },
   {
    "duration": 4,
    "start_time": "2022-08-30T00:27:05.378Z"
   },
   {
    "duration": 4,
    "start_time": "2022-08-30T00:29:08.040Z"
   },
   {
    "duration": 777,
    "start_time": "2022-08-30T00:29:21.272Z"
   },
   {
    "duration": 4,
    "start_time": "2022-08-30T00:29:31.023Z"
   },
   {
    "duration": 4,
    "start_time": "2022-08-30T00:31:08.757Z"
   },
   {
    "duration": 4,
    "start_time": "2022-08-30T00:31:18.576Z"
   },
   {
    "duration": 35,
    "start_time": "2022-08-30T00:31:47.261Z"
   },
   {
    "duration": 7,
    "start_time": "2022-08-30T00:32:03.888Z"
   },
   {
    "duration": 29,
    "start_time": "2022-08-30T00:32:07.023Z"
   },
   {
    "duration": 37,
    "start_time": "2022-08-30T00:32:54.358Z"
   },
   {
    "duration": 22,
    "start_time": "2022-08-30T00:33:11.694Z"
   },
   {
    "duration": 23,
    "start_time": "2022-08-30T00:33:24.612Z"
   },
   {
    "duration": 3,
    "start_time": "2022-08-30T00:34:15.963Z"
   },
   {
    "duration": 5,
    "start_time": "2022-08-30T00:34:16.620Z"
   },
   {
    "duration": 4,
    "start_time": "2022-08-30T00:34:54.822Z"
   },
   {
    "duration": 36,
    "start_time": "2022-08-30T00:35:26.154Z"
   },
   {
    "duration": 8,
    "start_time": "2022-08-30T00:35:35.591Z"
   },
   {
    "duration": 39,
    "start_time": "2022-08-30T00:35:38.894Z"
   },
   {
    "duration": 22,
    "start_time": "2022-08-30T00:35:48.782Z"
   },
   {
    "duration": 6,
    "start_time": "2022-08-30T00:38:01.488Z"
   },
   {
    "duration": 60,
    "start_time": "2022-08-30T00:38:02.539Z"
   },
   {
    "duration": 26,
    "start_time": "2022-08-30T00:38:03.637Z"
   },
   {
    "duration": 8,
    "start_time": "2022-08-30T00:39:17.813Z"
   },
   {
    "duration": 4,
    "start_time": "2022-08-30T00:54:13.466Z"
   },
   {
    "duration": 8,
    "start_time": "2022-08-30T00:54:15.003Z"
   },
   {
    "duration": 8,
    "start_time": "2022-08-30T00:54:24.741Z"
   },
   {
    "duration": 8,
    "start_time": "2022-08-30T00:55:25.355Z"
   },
   {
    "duration": 8,
    "start_time": "2022-08-30T00:55:29.255Z"
   },
   {
    "duration": 5,
    "start_time": "2022-08-30T00:55:38.225Z"
   },
   {
    "duration": 9,
    "start_time": "2022-08-30T00:55:38.961Z"
   },
   {
    "duration": 777,
    "start_time": "2022-08-30T00:57:27.806Z"
   },
   {
    "duration": 5,
    "start_time": "2022-08-30T00:58:02.296Z"
   },
   {
    "duration": 746,
    "start_time": "2022-08-30T00:58:02.967Z"
   },
   {
    "duration": 745,
    "start_time": "2022-08-30T00:58:20.465Z"
   },
   {
    "duration": 5,
    "start_time": "2022-08-30T01:00:45.624Z"
   },
   {
    "duration": 845,
    "start_time": "2022-08-30T01:00:46.376Z"
   },
   {
    "duration": 9,
    "start_time": "2022-08-30T01:00:54.917Z"
   },
   {
    "duration": 8,
    "start_time": "2022-08-30T01:00:59.689Z"
   },
   {
    "duration": 4,
    "start_time": "2022-08-30T01:03:23.742Z"
   },
   {
    "duration": 742,
    "start_time": "2022-08-30T01:03:32.991Z"
   },
   {
    "duration": 3,
    "start_time": "2022-08-30T01:04:24.898Z"
   },
   {
    "duration": 1169,
    "start_time": "2022-08-30T01:04:25.450Z"
   },
   {
    "duration": 4,
    "start_time": "2022-08-30T01:06:00.105Z"
   },
   {
    "duration": 11,
    "start_time": "2022-08-30T01:06:00.760Z"
   },
   {
    "duration": 805,
    "start_time": "2022-08-30T01:06:28.733Z"
   },
   {
    "duration": 3,
    "start_time": "2022-08-30T01:06:45.664Z"
   },
   {
    "duration": 728,
    "start_time": "2022-08-30T01:06:46.093Z"
   },
   {
    "duration": 3,
    "start_time": "2022-08-30T01:07:05.743Z"
   },
   {
    "duration": 906,
    "start_time": "2022-08-30T01:07:06.400Z"
   },
   {
    "duration": 3,
    "start_time": "2022-08-30T01:07:48.662Z"
   },
   {
    "duration": 6781,
    "start_time": "2022-08-30T01:07:49.224Z"
   },
   {
    "duration": 3,
    "start_time": "2022-08-30T01:08:07.616Z"
   },
   {
    "duration": 950,
    "start_time": "2022-08-30T01:08:08.336Z"
   },
   {
    "duration": 2,
    "start_time": "2022-08-30T01:08:17.856Z"
   },
   {
    "duration": 4,
    "start_time": "2022-08-30T01:08:18.496Z"
   },
   {
    "duration": 4,
    "start_time": "2022-08-30T01:09:19.500Z"
   },
   {
    "duration": 3,
    "start_time": "2022-08-30T01:09:25.481Z"
   },
   {
    "duration": 694,
    "start_time": "2022-08-30T01:09:26.272Z"
   },
   {
    "duration": 6,
    "start_time": "2022-08-30T01:10:49.213Z"
   },
   {
    "duration": 9,
    "start_time": "2022-08-30T01:10:51.236Z"
   },
   {
    "duration": 770,
    "start_time": "2022-08-30T01:11:07.563Z"
   },
   {
    "duration": 5,
    "start_time": "2022-08-30T01:12:03.144Z"
   },
   {
    "duration": 9,
    "start_time": "2022-08-30T01:12:04.268Z"
   },
   {
    "duration": 4,
    "start_time": "2022-08-30T01:13:16.739Z"
   },
   {
    "duration": 8,
    "start_time": "2022-08-30T01:13:17.240Z"
   },
   {
    "duration": 6,
    "start_time": "2022-08-30T01:13:17.324Z"
   },
   {
    "duration": 5,
    "start_time": "2022-08-30T01:13:24.472Z"
   },
   {
    "duration": 8,
    "start_time": "2022-08-30T01:13:25.031Z"
   },
   {
    "duration": 13,
    "start_time": "2022-08-30T01:13:53.685Z"
   },
   {
    "duration": 45,
    "start_time": "2022-08-30T01:16:13.497Z"
   },
   {
    "duration": 47,
    "start_time": "2022-08-30T01:16:19.812Z"
   },
   {
    "duration": 46,
    "start_time": "2022-08-30T01:16:36.240Z"
   },
   {
    "duration": 50,
    "start_time": "2022-08-30T01:16:41.288Z"
   },
   {
    "duration": 41,
    "start_time": "2022-08-30T01:17:09.755Z"
   },
   {
    "duration": 58,
    "start_time": "2022-08-30T01:17:15.107Z"
   },
   {
    "duration": 75,
    "start_time": "2022-08-30T01:17:29.281Z"
   },
   {
    "duration": 48,
    "start_time": "2022-08-30T01:18:11.712Z"
   },
   {
    "duration": 44,
    "start_time": "2022-08-30T01:18:40.997Z"
   },
   {
    "duration": 3,
    "start_time": "2022-08-30T01:18:51.854Z"
   },
   {
    "duration": 12,
    "start_time": "2022-08-30T01:19:09.840Z"
   },
   {
    "duration": 12,
    "start_time": "2022-08-30T01:19:26.409Z"
   },
   {
    "duration": 3,
    "start_time": "2022-08-30T01:19:29.722Z"
   },
   {
    "duration": 14,
    "start_time": "2022-08-30T01:19:32.040Z"
   },
   {
    "duration": 3,
    "start_time": "2022-08-30T01:19:54.180Z"
   },
   {
    "duration": 10,
    "start_time": "2022-08-30T01:19:54.659Z"
   },
   {
    "duration": 2,
    "start_time": "2022-08-30T01:20:45.269Z"
   },
   {
    "duration": 11,
    "start_time": "2022-08-30T01:20:46.044Z"
   },
   {
    "duration": 3,
    "start_time": "2022-08-30T01:20:52.735Z"
   },
   {
    "duration": 4,
    "start_time": "2022-08-30T01:20:53.171Z"
   },
   {
    "duration": 10,
    "start_time": "2022-08-30T01:21:08.550Z"
   },
   {
    "duration": 4,
    "start_time": "2022-08-30T01:21:14.049Z"
   },
   {
    "duration": 11,
    "start_time": "2022-08-30T01:21:37.719Z"
   },
   {
    "duration": 3,
    "start_time": "2022-08-30T01:22:05.691Z"
   },
   {
    "duration": 11,
    "start_time": "2022-08-30T01:22:06.202Z"
   },
   {
    "duration": 3,
    "start_time": "2022-08-30T01:22:23.467Z"
   },
   {
    "duration": 3,
    "start_time": "2022-08-30T01:22:24.374Z"
   },
   {
    "duration": 3,
    "start_time": "2022-08-30T01:22:29.393Z"
   },
   {
    "duration": 3,
    "start_time": "2022-08-30T01:22:36.918Z"
   },
   {
    "duration": 4,
    "start_time": "2022-08-30T01:22:37.478Z"
   },
   {
    "duration": 4,
    "start_time": "2022-08-30T01:23:34.646Z"
   },
   {
    "duration": 4,
    "start_time": "2022-08-30T01:23:51.283Z"
   },
   {
    "duration": 3,
    "start_time": "2022-08-30T01:24:06.936Z"
   },
   {
    "duration": 3,
    "start_time": "2022-08-30T01:24:22.881Z"
   },
   {
    "duration": 4,
    "start_time": "2022-08-30T01:24:25.718Z"
   },
   {
    "duration": 4,
    "start_time": "2022-08-30T01:24:51.473Z"
   },
   {
    "duration": 4,
    "start_time": "2022-08-30T01:25:49.251Z"
   },
   {
    "duration": 3,
    "start_time": "2022-08-30T01:25:52.365Z"
   },
   {
    "duration": 3,
    "start_time": "2022-08-30T01:25:57.512Z"
   },
   {
    "duration": 4,
    "start_time": "2022-08-30T01:26:00.072Z"
   },
   {
    "duration": 3,
    "start_time": "2022-08-30T01:27:30.818Z"
   },
   {
    "duration": 4,
    "start_time": "2022-08-30T01:27:31.610Z"
   },
   {
    "duration": 5,
    "start_time": "2022-08-30T01:27:34.385Z"
   },
   {
    "duration": 4,
    "start_time": "2022-08-30T01:28:07.009Z"
   },
   {
    "duration": 1022,
    "start_time": "2022-08-30T01:28:07.800Z"
   },
   {
    "duration": 4,
    "start_time": "2022-08-30T01:29:24.118Z"
   },
   {
    "duration": 3,
    "start_time": "2022-08-30T01:29:47.576Z"
   },
   {
    "duration": 4,
    "start_time": "2022-08-30T01:29:50.968Z"
   },
   {
    "duration": 4,
    "start_time": "2022-08-30T01:29:51.821Z"
   },
   {
    "duration": 5,
    "start_time": "2022-08-30T01:30:26.170Z"
   },
   {
    "duration": 9,
    "start_time": "2022-08-30T01:30:31.749Z"
   },
   {
    "duration": 4,
    "start_time": "2022-08-30T01:31:38.964Z"
   },
   {
    "duration": 9,
    "start_time": "2022-08-30T01:31:39.839Z"
   },
   {
    "duration": 5,
    "start_time": "2022-08-30T01:31:47.432Z"
   },
   {
    "duration": 9,
    "start_time": "2022-08-30T01:31:52.143Z"
   },
   {
    "duration": 7,
    "start_time": "2022-08-30T01:32:24.001Z"
   },
   {
    "duration": 9,
    "start_time": "2022-08-30T01:32:25.127Z"
   },
   {
    "duration": 3,
    "start_time": "2022-08-30T01:34:35.128Z"
   },
   {
    "duration": 5,
    "start_time": "2022-08-30T01:34:35.646Z"
   },
   {
    "duration": 4,
    "start_time": "2022-08-30T01:36:43.985Z"
   },
   {
    "duration": 3,
    "start_time": "2022-08-30T01:37:02.811Z"
   },
   {
    "duration": 5,
    "start_time": "2022-08-30T01:37:34.705Z"
   },
   {
    "duration": 4,
    "start_time": "2022-08-30T01:37:39.900Z"
   },
   {
    "duration": 3,
    "start_time": "2022-08-30T01:49:48.548Z"
   },
   {
    "duration": 5,
    "start_time": "2022-08-30T01:49:49.051Z"
   },
   {
    "duration": 5,
    "start_time": "2022-08-30T01:49:49.837Z"
   },
   {
    "duration": 36,
    "start_time": "2022-08-30T01:49:53.174Z"
   },
   {
    "duration": 26,
    "start_time": "2022-08-30T01:49:53.672Z"
   },
   {
    "duration": 3,
    "start_time": "2022-08-30T01:50:02.420Z"
   },
   {
    "duration": 5,
    "start_time": "2022-08-30T01:50:02.680Z"
   },
   {
    "duration": 3,
    "start_time": "2022-08-30T01:50:03.790Z"
   },
   {
    "duration": 32,
    "start_time": "2022-08-30T01:50:05.776Z"
   },
   {
    "duration": 23,
    "start_time": "2022-08-30T01:50:06.806Z"
   },
   {
    "duration": 58,
    "start_time": "2022-08-30T02:01:20.571Z"
   },
   {
    "duration": 66,
    "start_time": "2022-08-30T02:01:37.243Z"
   },
   {
    "duration": 8,
    "start_time": "2022-08-30T02:01:47.803Z"
   },
   {
    "duration": 822,
    "start_time": "2022-08-30T02:02:08.451Z"
   },
   {
    "duration": 9,
    "start_time": "2022-08-30T02:02:29.226Z"
   },
   {
    "duration": 12,
    "start_time": "2022-08-30T02:02:30.904Z"
   },
   {
    "duration": 9,
    "start_time": "2022-08-30T02:03:12.989Z"
   },
   {
    "duration": 11,
    "start_time": "2022-08-30T02:03:13.502Z"
   },
   {
    "duration": 9,
    "start_time": "2022-08-30T02:03:34.954Z"
   },
   {
    "duration": 11,
    "start_time": "2022-08-30T02:03:35.562Z"
   },
   {
    "duration": 5,
    "start_time": "2022-08-30T02:10:52.868Z"
   },
   {
    "duration": 7,
    "start_time": "2022-08-30T02:11:07.852Z"
   },
   {
    "duration": 12,
    "start_time": "2022-08-30T02:11:12.891Z"
   },
   {
    "duration": 129,
    "start_time": "2022-08-30T02:11:24.243Z"
   },
   {
    "duration": 12,
    "start_time": "2022-08-30T02:11:24.800Z"
   },
   {
    "duration": 4,
    "start_time": "2022-08-30T02:11:44.616Z"
   },
   {
    "duration": 11,
    "start_time": "2022-08-30T02:11:46.144Z"
   },
   {
    "duration": 3,
    "start_time": "2022-08-30T02:12:30.358Z"
   },
   {
    "duration": 3,
    "start_time": "2022-08-30T02:12:36.264Z"
   },
   {
    "duration": 5,
    "start_time": "2022-08-30T02:12:48.822Z"
   },
   {
    "duration": 5,
    "start_time": "2022-08-30T03:00:04.035Z"
   },
   {
    "duration": 9,
    "start_time": "2022-08-30T03:00:04.988Z"
   },
   {
    "duration": 704,
    "start_time": "2022-08-30T03:00:18.955Z"
   },
   {
    "duration": 4,
    "start_time": "2022-08-30T03:04:10.673Z"
   },
   {
    "duration": 10,
    "start_time": "2022-08-30T03:04:11.187Z"
   },
   {
    "duration": 5,
    "start_time": "2022-08-30T03:04:23.169Z"
   },
   {
    "duration": 4,
    "start_time": "2022-08-30T03:07:53.354Z"
   },
   {
    "duration": 5,
    "start_time": "2022-08-30T03:08:07.605Z"
   },
   {
    "duration": 5,
    "start_time": "2022-08-30T03:08:16.203Z"
   },
   {
    "duration": 5,
    "start_time": "2022-08-30T03:08:19.847Z"
   },
   {
    "duration": 35,
    "start_time": "2022-08-30T03:09:19.857Z"
   },
   {
    "duration": 36,
    "start_time": "2022-08-30T03:09:20.788Z"
   },
   {
    "duration": 3,
    "start_time": "2022-08-30T03:10:56.776Z"
   },
   {
    "duration": 6,
    "start_time": "2022-08-30T03:10:57.238Z"
   },
   {
    "duration": 5,
    "start_time": "2022-08-30T03:10:58.673Z"
   },
   {
    "duration": 42,
    "start_time": "2022-08-30T03:11:01.752Z"
   },
   {
    "duration": 24,
    "start_time": "2022-08-30T03:11:02.466Z"
   },
   {
    "duration": 4,
    "start_time": "2022-08-30T03:15:01.830Z"
   },
   {
    "duration": 8,
    "start_time": "2022-08-30T03:15:23.306Z"
   },
   {
    "duration": 3,
    "start_time": "2022-08-30T03:15:30.969Z"
   },
   {
    "duration": 9,
    "start_time": "2022-08-30T03:15:31.499Z"
   },
   {
    "duration": 4,
    "start_time": "2022-08-30T03:16:00.887Z"
   },
   {
    "duration": 6,
    "start_time": "2022-08-30T03:16:08.923Z"
   },
   {
    "duration": 5,
    "start_time": "2022-08-30T03:16:11.385Z"
   },
   {
    "duration": 4,
    "start_time": "2022-08-30T03:16:13.468Z"
   },
   {
    "duration": 6,
    "start_time": "2022-08-30T03:16:16.780Z"
   },
   {
    "duration": 5,
    "start_time": "2022-08-30T03:16:19.670Z"
   },
   {
    "duration": 4,
    "start_time": "2022-08-30T03:16:43.587Z"
   },
   {
    "duration": 38,
    "start_time": "2022-08-30T03:17:24.394Z"
   },
   {
    "duration": 34,
    "start_time": "2022-08-30T03:17:32.318Z"
   },
   {
    "duration": 4,
    "start_time": "2022-08-30T03:18:02.470Z"
   },
   {
    "duration": 39,
    "start_time": "2022-08-30T03:18:03.098Z"
   },
   {
    "duration": 4,
    "start_time": "2022-08-30T03:18:17.155Z"
   },
   {
    "duration": 5,
    "start_time": "2022-08-30T03:18:17.682Z"
   },
   {
    "duration": 2,
    "start_time": "2022-08-30T03:18:18.427Z"
   },
   {
    "duration": 38,
    "start_time": "2022-08-30T03:18:19.318Z"
   },
   {
    "duration": 4,
    "start_time": "2022-08-30T03:18:51.292Z"
   },
   {
    "duration": 4,
    "start_time": "2022-08-30T03:18:51.783Z"
   },
   {
    "duration": 34,
    "start_time": "2022-08-30T03:18:52.450Z"
   },
   {
    "duration": 4,
    "start_time": "2022-08-30T03:19:18.315Z"
   },
   {
    "duration": 6,
    "start_time": "2022-08-30T03:19:28.831Z"
   },
   {
    "duration": 4,
    "start_time": "2022-08-30T03:19:30.200Z"
   },
   {
    "duration": 34,
    "start_time": "2022-08-30T03:19:46.926Z"
   },
   {
    "duration": 48,
    "start_time": "2022-08-30T03:19:49.453Z"
   },
   {
    "duration": 3,
    "start_time": "2022-08-30T03:23:56.410Z"
   },
   {
    "duration": 4,
    "start_time": "2022-08-30T03:24:14.168Z"
   },
   {
    "duration": 5,
    "start_time": "2022-08-30T03:24:56.105Z"
   },
   {
    "duration": 3,
    "start_time": "2022-08-30T03:25:38.955Z"
   },
   {
    "duration": 6,
    "start_time": "2022-08-30T03:25:39.707Z"
   },
   {
    "duration": 38,
    "start_time": "2022-08-30T03:25:48.188Z"
   },
   {
    "duration": 23,
    "start_time": "2022-08-30T03:25:50.192Z"
   },
   {
    "duration": 9,
    "start_time": "2022-08-30T03:28:44.895Z"
   },
   {
    "duration": 3,
    "start_time": "2022-08-30T03:28:46.920Z"
   },
   {
    "duration": 5,
    "start_time": "2022-08-30T03:28:47.441Z"
   },
   {
    "duration": 32,
    "start_time": "2022-08-30T03:29:52.680Z"
   },
   {
    "duration": 3,
    "start_time": "2022-08-30T03:31:18.946Z"
   },
   {
    "duration": 6,
    "start_time": "2022-08-30T03:31:19.756Z"
   },
   {
    "duration": 38,
    "start_time": "2022-08-30T03:31:26.572Z"
   },
   {
    "duration": 5,
    "start_time": "2022-08-30T03:32:16.940Z"
   },
   {
    "duration": 58,
    "start_time": "2022-08-30T03:32:17.801Z"
   },
   {
    "duration": 40,
    "start_time": "2022-08-30T03:32:18.875Z"
   },
   {
    "duration": 24,
    "start_time": "2022-08-30T03:33:36.037Z"
   },
   {
    "duration": 2,
    "start_time": "2022-08-30T03:44:25.995Z"
   },
   {
    "duration": 277,
    "start_time": "2022-08-30T03:44:26.365Z"
   },
   {
    "duration": 18,
    "start_time": "2022-08-30T03:44:26.976Z"
   },
   {
    "duration": 8,
    "start_time": "2022-08-30T03:44:27.165Z"
   },
   {
    "duration": 17,
    "start_time": "2022-08-30T03:44:27.756Z"
   },
   {
    "duration": 9,
    "start_time": "2022-08-30T03:44:27.826Z"
   },
   {
    "duration": 13,
    "start_time": "2022-08-30T03:44:28.416Z"
   },
   {
    "duration": 7,
    "start_time": "2022-08-30T03:44:28.626Z"
   },
   {
    "duration": 10,
    "start_time": "2022-08-30T03:44:29.311Z"
   },
   {
    "duration": 15,
    "start_time": "2022-08-30T03:44:29.536Z"
   },
   {
    "duration": 19,
    "start_time": "2022-08-30T03:44:30.171Z"
   },
   {
    "duration": 20,
    "start_time": "2022-08-30T03:44:30.437Z"
   },
   {
    "duration": 34,
    "start_time": "2022-08-30T03:44:31.929Z"
   },
   {
    "duration": 15,
    "start_time": "2022-08-30T03:44:32.769Z"
   },
   {
    "duration": 20,
    "start_time": "2022-08-30T03:44:33.194Z"
   },
   {
    "duration": 6,
    "start_time": "2022-08-30T03:44:34.741Z"
   },
   {
    "duration": 5,
    "start_time": "2022-08-30T03:44:35.538Z"
   },
   {
    "duration": 8,
    "start_time": "2022-08-30T03:44:36.119Z"
   },
   {
    "duration": 11,
    "start_time": "2022-08-30T03:44:36.903Z"
   },
   {
    "duration": 22,
    "start_time": "2022-08-30T03:44:37.304Z"
   },
   {
    "duration": 416,
    "start_time": "2022-08-30T03:44:38.477Z"
   },
   {
    "duration": 10,
    "start_time": "2022-08-30T03:44:39.345Z"
   },
   {
    "duration": 9,
    "start_time": "2022-08-30T03:44:39.760Z"
   },
   {
    "duration": 552,
    "start_time": "2022-08-30T03:44:40.262Z"
   },
   {
    "duration": 15,
    "start_time": "2022-08-30T03:44:40.816Z"
   },
   {
    "duration": 35,
    "start_time": "2022-08-30T03:44:41.110Z"
   },
   {
    "duration": 27,
    "start_time": "2022-08-30T03:44:41.297Z"
   },
   {
    "duration": 6,
    "start_time": "2022-08-30T03:44:45.800Z"
   },
   {
    "duration": 42,
    "start_time": "2022-08-30T03:44:47.493Z"
   },
   {
    "duration": 5,
    "start_time": "2022-08-30T03:44:48.355Z"
   },
   {
    "duration": 33,
    "start_time": "2022-08-30T03:44:50.463Z"
   },
   {
    "duration": 6,
    "start_time": "2022-08-30T03:44:52.129Z"
   },
   {
    "duration": 27,
    "start_time": "2022-08-30T03:44:55.001Z"
   },
   {
    "duration": 6,
    "start_time": "2022-08-30T03:44:55.801Z"
   },
   {
    "duration": 4,
    "start_time": "2022-08-30T03:44:57.424Z"
   },
   {
    "duration": 6,
    "start_time": "2022-08-30T03:44:58.750Z"
   },
   {
    "duration": 13,
    "start_time": "2022-08-30T03:45:02.591Z"
   },
   {
    "duration": 29,
    "start_time": "2022-08-30T03:45:03.553Z"
   },
   {
    "duration": 22,
    "start_time": "2022-08-30T03:45:05.156Z"
   },
   {
    "duration": 10,
    "start_time": "2022-08-30T03:45:09.661Z"
   },
   {
    "duration": 9,
    "start_time": "2022-08-30T03:45:14.325Z"
   },
   {
    "duration": 18,
    "start_time": "2022-08-30T03:45:18.974Z"
   },
   {
    "duration": 5,
    "start_time": "2022-08-30T04:10:11.531Z"
   },
   {
    "duration": 4,
    "start_time": "2022-08-30T04:10:13.761Z"
   },
   {
    "duration": 5,
    "start_time": "2022-08-30T04:10:28.179Z"
   },
   {
    "duration": 5,
    "start_time": "2022-08-30T04:11:15.581Z"
   },
   {
    "duration": 5,
    "start_time": "2022-08-30T04:17:28.112Z"
   },
   {
    "duration": 18,
    "start_time": "2022-08-30T04:18:37.932Z"
   },
   {
    "duration": 18,
    "start_time": "2022-08-30T04:19:19.212Z"
   },
   {
    "duration": 3,
    "start_time": "2022-08-30T04:19:20.437Z"
   },
   {
    "duration": 5,
    "start_time": "2022-08-30T04:19:21.757Z"
   },
   {
    "duration": 4,
    "start_time": "2022-08-30T04:19:22.435Z"
   },
   {
    "duration": 34,
    "start_time": "2022-08-30T04:19:23.031Z"
   },
   {
    "duration": 5,
    "start_time": "2022-08-30T04:19:25.215Z"
   },
   {
    "duration": 4,
    "start_time": "2022-08-30T04:21:19.575Z"
   },
   {
    "duration": 32,
    "start_time": "2022-08-30T04:21:21.293Z"
   },
   {
    "duration": 4,
    "start_time": "2022-08-30T04:21:23.322Z"
   },
   {
    "duration": 4,
    "start_time": "2022-08-30T04:21:25.809Z"
   },
   {
    "duration": 38,
    "start_time": "2022-08-30T04:21:29.445Z"
   },
   {
    "duration": 31,
    "start_time": "2022-08-30T04:21:30.513Z"
   },
   {
    "duration": 3,
    "start_time": "2022-08-30T04:21:30.594Z"
   },
   {
    "duration": 5,
    "start_time": "2022-08-30T04:21:31.925Z"
   },
   {
    "duration": 4,
    "start_time": "2022-08-30T04:21:35.722Z"
   },
   {
    "duration": 34,
    "start_time": "2022-08-30T04:21:41.805Z"
   },
   {
    "duration": 31,
    "start_time": "2022-08-30T04:21:42.730Z"
   },
   {
    "duration": 4,
    "start_time": "2022-08-30T04:21:43.986Z"
   },
   {
    "duration": 7,
    "start_time": "2022-08-30T04:21:47.523Z"
   },
   {
    "duration": 45,
    "start_time": "2022-08-30T04:21:49.271Z"
   },
   {
    "duration": 37,
    "start_time": "2022-08-30T04:21:50.240Z"
   },
   {
    "duration": 4,
    "start_time": "2022-08-30T04:22:00.731Z"
   },
   {
    "duration": 4,
    "start_time": "2022-08-30T04:22:01.594Z"
   },
   {
    "duration": 4,
    "start_time": "2022-08-30T04:22:02.496Z"
   },
   {
    "duration": 42,
    "start_time": "2022-08-30T04:22:04.470Z"
   },
   {
    "duration": 25,
    "start_time": "2022-08-30T04:22:05.521Z"
   },
   {
    "duration": 4,
    "start_time": "2022-08-30T04:22:17.368Z"
   },
   {
    "duration": 753,
    "start_time": "2022-08-30T04:22:19.557Z"
   },
   {
    "duration": 3,
    "start_time": "2022-08-30T04:22:38.386Z"
   },
   {
    "duration": 4,
    "start_time": "2022-08-30T04:22:39.085Z"
   },
   {
    "duration": 38,
    "start_time": "2022-08-30T04:22:39.801Z"
   },
   {
    "duration": 3,
    "start_time": "2022-08-30T04:22:53.543Z"
   },
   {
    "duration": 6,
    "start_time": "2022-08-30T04:22:54.200Z"
   },
   {
    "duration": 45,
    "start_time": "2022-08-30T04:22:56.538Z"
   },
   {
    "duration": 33,
    "start_time": "2022-08-30T04:23:02.855Z"
   },
   {
    "duration": 5,
    "start_time": "2022-08-30T04:23:30.765Z"
   },
   {
    "duration": 4,
    "start_time": "2022-08-30T04:23:31.722Z"
   },
   {
    "duration": 5,
    "start_time": "2022-08-30T04:24:18.635Z"
   },
   {
    "duration": 42,
    "start_time": "2022-08-30T04:29:42.767Z"
   },
   {
    "duration": 4,
    "start_time": "2022-08-30T04:30:42.992Z"
   },
   {
    "duration": 4,
    "start_time": "2022-08-30T04:30:46.168Z"
   },
   {
    "duration": 5,
    "start_time": "2022-08-30T04:31:40.585Z"
   },
   {
    "duration": 5,
    "start_time": "2022-08-30T04:31:45.674Z"
   },
   {
    "duration": 5,
    "start_time": "2022-08-30T04:31:49.873Z"
   },
   {
    "duration": 37,
    "start_time": "2022-08-30T04:33:57.938Z"
   },
   {
    "duration": 41,
    "start_time": "2022-08-30T04:34:23.171Z"
   },
   {
    "duration": 6,
    "start_time": "2022-08-30T04:34:53.635Z"
   },
   {
    "duration": 5,
    "start_time": "2022-08-30T04:35:13.811Z"
   },
   {
    "duration": 5,
    "start_time": "2022-08-30T04:35:16.914Z"
   },
   {
    "duration": 6,
    "start_time": "2022-08-30T04:35:26.144Z"
   },
   {
    "duration": 5,
    "start_time": "2022-08-30T04:35:53.641Z"
   },
   {
    "duration": 8,
    "start_time": "2022-08-30T04:43:13.184Z"
   },
   {
    "duration": 6,
    "start_time": "2022-08-30T04:43:23.377Z"
   },
   {
    "duration": 5,
    "start_time": "2022-08-30T04:43:32.144Z"
   },
   {
    "duration": 8,
    "start_time": "2022-08-30T04:43:37.463Z"
   },
   {
    "duration": 6,
    "start_time": "2022-08-30T04:43:42.330Z"
   },
   {
    "duration": 5,
    "start_time": "2022-08-30T04:43:45.598Z"
   },
   {
    "duration": 5,
    "start_time": "2022-08-30T04:43:53.131Z"
   },
   {
    "duration": 5,
    "start_time": "2022-08-30T04:43:59.977Z"
   },
   {
    "duration": 5,
    "start_time": "2022-08-30T04:44:35.656Z"
   },
   {
    "duration": 7,
    "start_time": "2022-08-30T04:46:30.077Z"
   },
   {
    "duration": 6,
    "start_time": "2022-08-30T04:46:31.627Z"
   },
   {
    "duration": 7,
    "start_time": "2022-08-30T04:47:21.204Z"
   },
   {
    "duration": 4,
    "start_time": "2022-08-30T04:47:21.917Z"
   },
   {
    "duration": 4,
    "start_time": "2022-08-30T04:47:31.442Z"
   },
   {
    "duration": 7,
    "start_time": "2022-08-30T04:47:34.495Z"
   },
   {
    "duration": 6,
    "start_time": "2022-08-30T04:47:42.197Z"
   },
   {
    "duration": 5,
    "start_time": "2022-08-30T04:47:45.786Z"
   },
   {
    "duration": 5,
    "start_time": "2022-08-30T04:47:54.085Z"
   },
   {
    "duration": 4,
    "start_time": "2022-08-30T04:48:01.902Z"
   },
   {
    "duration": 15,
    "start_time": "2022-08-30T04:54:41.266Z"
   },
   {
    "duration": 6,
    "start_time": "2022-08-30T04:54:43.342Z"
   },
   {
    "duration": 11,
    "start_time": "2022-08-30T04:58:38.372Z"
   },
   {
    "duration": 5,
    "start_time": "2022-08-30T04:58:39.075Z"
   },
   {
    "duration": 10,
    "start_time": "2022-08-30T04:58:57.458Z"
   },
   {
    "duration": 5,
    "start_time": "2022-08-30T04:58:58.004Z"
   },
   {
    "duration": 9,
    "start_time": "2022-08-30T04:59:07.205Z"
   },
   {
    "duration": 6,
    "start_time": "2022-08-30T04:59:07.889Z"
   },
   {
    "duration": 8,
    "start_time": "2022-08-30T04:59:14.172Z"
   },
   {
    "duration": 5,
    "start_time": "2022-08-30T04:59:14.706Z"
   },
   {
    "duration": 9,
    "start_time": "2022-08-30T05:01:35.143Z"
   },
   {
    "duration": 4,
    "start_time": "2022-08-30T05:01:35.748Z"
   },
   {
    "duration": 4,
    "start_time": "2022-08-30T05:02:06.707Z"
   },
   {
    "duration": 6,
    "start_time": "2022-08-30T05:02:11.779Z"
   },
   {
    "duration": 5,
    "start_time": "2022-08-30T05:02:29.447Z"
   },
   {
    "duration": 5,
    "start_time": "2022-08-30T05:02:30.529Z"
   },
   {
    "duration": 4,
    "start_time": "2022-08-30T05:02:39.857Z"
   },
   {
    "duration": 6,
    "start_time": "2022-08-30T05:02:40.875Z"
   },
   {
    "duration": 5,
    "start_time": "2022-08-30T05:02:54.211Z"
   },
   {
    "duration": 6,
    "start_time": "2022-08-30T05:02:55.112Z"
   },
   {
    "duration": 5,
    "start_time": "2022-08-30T05:04:14.541Z"
   },
   {
    "duration": 6,
    "start_time": "2022-08-30T05:04:15.445Z"
   },
   {
    "duration": 5,
    "start_time": "2022-08-30T05:28:46.422Z"
   },
   {
    "duration": 7,
    "start_time": "2022-08-30T05:28:47.237Z"
   },
   {
    "duration": 5,
    "start_time": "2022-08-30T05:28:58.443Z"
   },
   {
    "duration": 6,
    "start_time": "2022-08-30T05:29:01.703Z"
   },
   {
    "duration": 5,
    "start_time": "2022-08-30T05:29:11.737Z"
   },
   {
    "duration": 7,
    "start_time": "2022-08-30T05:29:12.486Z"
   },
   {
    "duration": 23,
    "start_time": "2022-08-30T05:31:50.418Z"
   },
   {
    "duration": 1201,
    "start_time": "2022-08-31T02:53:17.426Z"
   },
   {
    "duration": 1209,
    "start_time": "2022-08-31T02:53:18.629Z"
   },
   {
    "duration": 22,
    "start_time": "2022-08-31T02:53:19.840Z"
   },
   {
    "duration": 12,
    "start_time": "2022-08-31T02:53:19.864Z"
   },
   {
    "duration": 20,
    "start_time": "2022-08-31T02:53:19.877Z"
   },
   {
    "duration": 10,
    "start_time": "2022-08-31T02:53:19.899Z"
   },
   {
    "duration": 23,
    "start_time": "2022-08-31T02:53:20.318Z"
   },
   {
    "duration": 10,
    "start_time": "2022-08-31T02:53:20.520Z"
   },
   {
    "duration": 11,
    "start_time": "2022-08-31T02:53:21.085Z"
   },
   {
    "duration": 10,
    "start_time": "2022-08-31T02:53:21.306Z"
   },
   {
    "duration": 10,
    "start_time": "2022-08-31T02:53:21.953Z"
   },
   {
    "duration": 13,
    "start_time": "2022-08-31T02:53:22.161Z"
   },
   {
    "duration": 27,
    "start_time": "2022-08-31T02:53:23.624Z"
   },
   {
    "duration": 17,
    "start_time": "2022-08-31T02:53:24.440Z"
   },
   {
    "duration": 18,
    "start_time": "2022-08-31T02:53:25.011Z"
   },
   {
    "duration": 6,
    "start_time": "2022-08-31T02:53:25.808Z"
   },
   {
    "duration": 8,
    "start_time": "2022-08-31T02:53:26.016Z"
   },
   {
    "duration": 8,
    "start_time": "2022-08-31T02:53:26.183Z"
   },
   {
    "duration": 7,
    "start_time": "2022-08-31T02:53:26.775Z"
   },
   {
    "duration": 24,
    "start_time": "2022-08-31T02:53:27.362Z"
   },
   {
    "duration": 515,
    "start_time": "2022-08-31T02:53:27.815Z"
   },
   {
    "duration": 10,
    "start_time": "2022-08-31T02:53:28.333Z"
   },
   {
    "duration": 10,
    "start_time": "2022-08-31T02:53:28.344Z"
   },
   {
    "duration": 481,
    "start_time": "2022-08-31T02:53:28.687Z"
   },
   {
    "duration": 27,
    "start_time": "2022-08-31T02:53:29.171Z"
   },
   {
    "duration": 37,
    "start_time": "2022-08-31T02:53:29.918Z"
   },
   {
    "duration": 30,
    "start_time": "2022-08-31T02:54:54.286Z"
   },
   {
    "duration": 25,
    "start_time": "2022-08-31T02:54:55.008Z"
   },
   {
    "duration": 8,
    "start_time": "2022-08-31T02:54:58.405Z"
   },
   {
    "duration": 36,
    "start_time": "2022-08-31T02:55:02.108Z"
   },
   {
    "duration": 6,
    "start_time": "2022-08-31T02:55:02.978Z"
   },
   {
    "duration": 44,
    "start_time": "2022-08-31T02:55:04.108Z"
   },
   {
    "duration": 6,
    "start_time": "2022-08-31T02:55:04.654Z"
   },
   {
    "duration": 105,
    "start_time": "2022-08-31T02:55:15.320Z"
   },
   {
    "duration": 6,
    "start_time": "2022-08-31T02:55:26.871Z"
   },
   {
    "duration": 4,
    "start_time": "2022-08-31T02:55:28.881Z"
   },
   {
    "duration": 6,
    "start_time": "2022-08-31T02:55:30.455Z"
   },
   {
    "duration": 11,
    "start_time": "2022-08-31T02:55:48.827Z"
   },
   {
    "duration": 23,
    "start_time": "2022-08-31T02:55:51.847Z"
   },
   {
    "duration": 23,
    "start_time": "2022-08-31T02:55:53.246Z"
   },
   {
    "duration": 8,
    "start_time": "2022-08-31T02:56:24.679Z"
   },
   {
    "duration": 9,
    "start_time": "2022-08-31T02:56:33.517Z"
   },
   {
    "duration": 17,
    "start_time": "2022-08-31T02:56:59.467Z"
   },
   {
    "duration": 92,
    "start_time": "2022-08-31T02:57:23.483Z"
   },
   {
    "duration": 18,
    "start_time": "2022-08-31T02:57:26.313Z"
   },
   {
    "duration": 4,
    "start_time": "2022-08-31T02:59:08.608Z"
   },
   {
    "duration": 5,
    "start_time": "2022-08-31T03:00:13.960Z"
   },
   {
    "duration": 11,
    "start_time": "2022-08-31T03:00:56.317Z"
   },
   {
    "duration": 37,
    "start_time": "2022-08-31T03:01:11.754Z"
   },
   {
    "duration": 35,
    "start_time": "2022-08-31T03:01:24.013Z"
   },
   {
    "duration": 20,
    "start_time": "2022-08-31T03:01:55.581Z"
   },
   {
    "duration": 3,
    "start_time": "2022-08-31T03:03:18.393Z"
   },
   {
    "duration": 4,
    "start_time": "2022-08-31T03:03:20.514Z"
   },
   {
    "duration": 4,
    "start_time": "2022-08-31T03:03:42.873Z"
   },
   {
    "duration": 4,
    "start_time": "2022-08-31T03:04:15.334Z"
   },
   {
    "duration": 36,
    "start_time": "2022-08-31T03:04:16.663Z"
   },
   {
    "duration": 27,
    "start_time": "2022-08-31T03:04:18.737Z"
   },
   {
    "duration": 4,
    "start_time": "2022-08-31T03:06:12.266Z"
   },
   {
    "duration": 5,
    "start_time": "2022-08-31T03:06:12.921Z"
   },
   {
    "duration": 35,
    "start_time": "2022-08-31T03:06:13.971Z"
   },
   {
    "duration": 33,
    "start_time": "2022-08-31T03:06:58.458Z"
   },
   {
    "duration": 28,
    "start_time": "2022-08-31T03:07:09.859Z"
   },
   {
    "duration": 26,
    "start_time": "2022-08-31T03:07:30.887Z"
   },
   {
    "duration": 12,
    "start_time": "2022-08-31T03:08:36.323Z"
   },
   {
    "duration": 14,
    "start_time": "2022-08-31T03:09:06.403Z"
   },
   {
    "duration": 5,
    "start_time": "2022-08-31T03:09:14.701Z"
   },
   {
    "duration": 5,
    "start_time": "2022-08-31T03:10:08.197Z"
   },
   {
    "duration": 4,
    "start_time": "2022-08-31T03:10:39.997Z"
   },
   {
    "duration": 5,
    "start_time": "2022-08-31T03:10:44.607Z"
   },
   {
    "duration": 4,
    "start_time": "2022-08-31T03:10:52.478Z"
   },
   {
    "duration": 5,
    "start_time": "2022-08-31T03:11:01.714Z"
   },
   {
    "duration": 65,
    "start_time": "2022-08-31T03:12:01.881Z"
   },
   {
    "duration": 24,
    "start_time": "2022-08-31T03:12:31.103Z"
   },
   {
    "duration": 5,
    "start_time": "2022-08-31T03:12:53.657Z"
   },
   {
    "duration": 53,
    "start_time": "2022-08-31T03:14:45.358Z"
   },
   {
    "duration": 7,
    "start_time": "2022-08-31T03:15:37.317Z"
   },
   {
    "duration": 9,
    "start_time": "2022-08-31T03:17:14.452Z"
   },
   {
    "duration": 5,
    "start_time": "2022-08-31T03:17:17.723Z"
   },
   {
    "duration": 53,
    "start_time": "2022-08-31T03:18:23.677Z"
   },
   {
    "duration": 73,
    "start_time": "2022-08-31T03:18:26.264Z"
   },
   {
    "duration": 12,
    "start_time": "2022-08-31T03:30:39.934Z"
   },
   {
    "duration": 103,
    "start_time": "2022-08-31T03:31:15.795Z"
   },
   {
    "duration": 104,
    "start_time": "2022-08-31T03:31:28.397Z"
   },
   {
    "duration": 108,
    "start_time": "2022-08-31T03:31:43.036Z"
   },
   {
    "duration": 163,
    "start_time": "2022-08-31T03:34:01.538Z"
   },
   {
    "duration": 148,
    "start_time": "2022-08-31T03:34:52.831Z"
   },
   {
    "duration": 817,
    "start_time": "2022-08-31T03:37:29.097Z"
   },
   {
    "duration": 20,
    "start_time": "2022-08-31T03:42:04.019Z"
   },
   {
    "duration": 15,
    "start_time": "2022-08-31T03:42:47.286Z"
   },
   {
    "duration": 753,
    "start_time": "2022-08-31T03:43:29.098Z"
   },
   {
    "duration": 923,
    "start_time": "2022-08-31T03:43:47.699Z"
   },
   {
    "duration": 1001,
    "start_time": "2022-08-31T03:44:08.439Z"
   },
   {
    "duration": 867,
    "start_time": "2022-08-31T03:44:47.532Z"
   },
   {
    "duration": 27,
    "start_time": "2022-08-31T03:45:17.489Z"
   },
   {
    "duration": 36,
    "start_time": "2022-08-31T03:49:01.582Z"
   },
   {
    "duration": 29,
    "start_time": "2022-08-31T03:49:40.720Z"
   },
   {
    "duration": 105,
    "start_time": "2022-08-31T04:34:11.276Z"
   },
   {
    "duration": 8,
    "start_time": "2022-08-31T04:41:09.542Z"
   },
   {
    "duration": 146,
    "start_time": "2022-08-31T04:41:49.643Z"
   },
   {
    "duration": 253,
    "start_time": "2022-08-31T04:41:53.765Z"
   },
   {
    "duration": 150,
    "start_time": "2022-08-31T04:42:12.896Z"
   },
   {
    "duration": 148,
    "start_time": "2022-08-31T04:42:20.947Z"
   },
   {
    "duration": 17,
    "start_time": "2022-08-31T04:42:25.987Z"
   },
   {
    "duration": 144,
    "start_time": "2022-08-31T04:42:30.124Z"
   },
   {
    "duration": 794,
    "start_time": "2022-08-31T04:43:49.151Z"
   },
   {
    "duration": 28,
    "start_time": "2022-08-31T04:43:52.266Z"
   },
   {
    "duration": 31,
    "start_time": "2022-08-31T04:43:53.652Z"
   },
   {
    "duration": 28,
    "start_time": "2022-08-31T04:43:54.492Z"
   },
   {
    "duration": 7,
    "start_time": "2022-08-31T04:43:57.677Z"
   },
   {
    "duration": 142,
    "start_time": "2022-08-31T04:43:59.120Z"
   },
   {
    "duration": 271,
    "start_time": "2022-08-31T04:44:00.733Z"
   },
   {
    "duration": 142,
    "start_time": "2022-08-31T04:44:04.500Z"
   },
   {
    "duration": 33,
    "start_time": "2022-08-31T04:46:31.369Z"
   },
   {
    "duration": 8,
    "start_time": "2022-08-31T04:46:40.766Z"
   },
   {
    "duration": 29,
    "start_time": "2022-08-31T04:49:53.151Z"
   },
   {
    "duration": 27,
    "start_time": "2022-08-31T04:50:23.361Z"
   },
   {
    "duration": 28,
    "start_time": "2022-08-31T04:55:01.617Z"
   },
   {
    "duration": 8,
    "start_time": "2022-08-31T04:57:32.324Z"
   },
   {
    "duration": 29,
    "start_time": "2022-08-31T04:57:38.575Z"
   },
   {
    "duration": 75,
    "start_time": "2022-08-31T04:58:51.415Z"
   },
   {
    "duration": 29,
    "start_time": "2022-08-31T05:02:27.336Z"
   },
   {
    "duration": 77,
    "start_time": "2022-08-31T05:17:01.310Z"
   },
   {
    "duration": 57,
    "start_time": "2022-08-31T05:17:21.981Z"
   },
   {
    "duration": 150,
    "start_time": "2022-08-31T05:29:39.729Z"
   },
   {
    "duration": 138,
    "start_time": "2022-08-31T05:29:41.390Z"
   },
   {
    "duration": 17,
    "start_time": "2022-08-31T05:30:09.621Z"
   },
   {
    "duration": 14,
    "start_time": "2022-08-31T05:30:21.475Z"
   },
   {
    "duration": 5,
    "start_time": "2022-08-31T05:30:35.450Z"
   },
   {
    "duration": 14,
    "start_time": "2022-08-31T05:30:59.773Z"
   },
   {
    "duration": 15,
    "start_time": "2022-08-31T05:31:00.715Z"
   },
   {
    "duration": 5,
    "start_time": "2022-08-31T05:31:03.470Z"
   },
   {
    "duration": 12,
    "start_time": "2022-08-31T05:31:54.322Z"
   },
   {
    "duration": 12,
    "start_time": "2022-08-31T05:32:34.910Z"
   },
   {
    "duration": 861,
    "start_time": "2022-08-31T05:32:36.324Z"
   },
   {
    "duration": 26,
    "start_time": "2022-08-31T05:32:39.826Z"
   },
   {
    "duration": 8,
    "start_time": "2022-08-31T05:32:47.129Z"
   },
   {
    "duration": 27,
    "start_time": "2022-08-31T05:32:48.036Z"
   },
   {
    "duration": 7,
    "start_time": "2022-08-31T05:32:49.025Z"
   },
   {
    "duration": 148,
    "start_time": "2022-08-31T05:32:49.649Z"
   },
   {
    "duration": 259,
    "start_time": "2022-08-31T05:32:50.059Z"
   },
   {
    "duration": 137,
    "start_time": "2022-08-31T05:32:50.448Z"
   },
   {
    "duration": 26,
    "start_time": "2022-08-31T05:32:51.209Z"
   },
   {
    "duration": 8,
    "start_time": "2022-08-31T05:32:51.662Z"
   },
   {
    "duration": 154,
    "start_time": "2022-08-31T05:32:52.271Z"
   },
   {
    "duration": 159,
    "start_time": "2022-08-31T05:32:52.675Z"
   },
   {
    "duration": 138,
    "start_time": "2022-08-31T05:32:53.080Z"
   },
   {
    "duration": 14,
    "start_time": "2022-08-31T05:32:58.151Z"
   },
   {
    "duration": 12,
    "start_time": "2022-08-31T05:33:17.418Z"
   },
   {
    "duration": 13,
    "start_time": "2022-08-31T05:33:27.302Z"
   },
   {
    "duration": 5,
    "start_time": "2022-08-31T05:33:32.112Z"
   },
   {
    "duration": 20,
    "start_time": "2022-08-31T05:38:07.995Z"
   },
   {
    "duration": 15,
    "start_time": "2022-08-31T05:38:12.587Z"
   },
   {
    "duration": 7,
    "start_time": "2022-08-31T05:38:50.035Z"
   },
   {
    "duration": 5,
    "start_time": "2022-08-31T05:38:59.399Z"
   },
   {
    "duration": 1181,
    "start_time": "2022-09-01T23:03:13.108Z"
   },
   {
    "duration": 812,
    "start_time": "2022-09-01T23:03:14.291Z"
   },
   {
    "duration": 20,
    "start_time": "2022-09-01T23:03:15.104Z"
   },
   {
    "duration": 11,
    "start_time": "2022-09-01T23:03:15.126Z"
   },
   {
    "duration": 16,
    "start_time": "2022-09-01T23:03:15.138Z"
   },
   {
    "duration": 12,
    "start_time": "2022-09-01T23:03:15.156Z"
   },
   {
    "duration": 14,
    "start_time": "2022-09-01T23:03:15.354Z"
   },
   {
    "duration": 7,
    "start_time": "2022-09-01T23:03:15.513Z"
   },
   {
    "duration": 12,
    "start_time": "2022-09-01T23:03:16.014Z"
   },
   {
    "duration": 8,
    "start_time": "2022-09-01T23:03:16.185Z"
   },
   {
    "duration": 10,
    "start_time": "2022-09-01T23:03:16.714Z"
   },
   {
    "duration": 10,
    "start_time": "2022-09-01T23:03:16.892Z"
   },
   {
    "duration": 23,
    "start_time": "2022-09-01T23:03:18.177Z"
   },
   {
    "duration": 14,
    "start_time": "2022-09-01T23:03:18.674Z"
   },
   {
    "duration": 22,
    "start_time": "2022-09-01T23:03:19.003Z"
   },
   {
    "duration": 6,
    "start_time": "2022-09-01T23:03:19.549Z"
   },
   {
    "duration": 11,
    "start_time": "2022-09-01T23:03:19.687Z"
   },
   {
    "duration": 7,
    "start_time": "2022-09-01T23:03:19.845Z"
   },
   {
    "duration": 7,
    "start_time": "2022-09-01T23:03:20.505Z"
   },
   {
    "duration": 22,
    "start_time": "2022-09-01T23:03:20.871Z"
   },
   {
    "duration": 470,
    "start_time": "2022-09-01T23:03:21.242Z"
   },
   {
    "duration": 10,
    "start_time": "2022-09-01T23:03:21.714Z"
   },
   {
    "duration": 16,
    "start_time": "2022-09-01T23:03:21.725Z"
   },
   {
    "duration": 417,
    "start_time": "2022-09-01T23:03:22.023Z"
   },
   {
    "duration": 16,
    "start_time": "2022-09-01T23:03:22.441Z"
   },
   {
    "duration": 32,
    "start_time": "2022-09-01T23:03:22.691Z"
   },
   {
    "duration": 21,
    "start_time": "2022-09-01T23:03:22.898Z"
   },
   {
    "duration": 5,
    "start_time": "2022-09-01T23:03:23.084Z"
   },
   {
    "duration": 34,
    "start_time": "2022-09-01T23:03:23.677Z"
   },
   {
    "duration": 5,
    "start_time": "2022-09-01T23:03:23.875Z"
   },
   {
    "duration": 34,
    "start_time": "2022-09-01T23:03:24.269Z"
   },
   {
    "duration": 6,
    "start_time": "2022-09-01T23:03:24.440Z"
   },
   {
    "duration": 26,
    "start_time": "2022-09-01T23:03:25.205Z"
   },
   {
    "duration": 6,
    "start_time": "2022-09-01T23:03:25.368Z"
   },
   {
    "duration": 4,
    "start_time": "2022-09-01T23:03:25.726Z"
   },
   {
    "duration": 6,
    "start_time": "2022-09-01T23:03:25.908Z"
   },
   {
    "duration": 9,
    "start_time": "2022-09-01T23:03:26.468Z"
   },
   {
    "duration": 15,
    "start_time": "2022-09-01T23:03:26.658Z"
   },
   {
    "duration": 22,
    "start_time": "2022-09-01T23:03:26.816Z"
   },
   {
    "duration": 7,
    "start_time": "2022-09-01T23:03:27.404Z"
   },
   {
    "duration": 8,
    "start_time": "2022-09-01T23:03:27.798Z"
   },
   {
    "duration": 15,
    "start_time": "2022-09-01T23:03:27.973Z"
   },
   {
    "duration": 3,
    "start_time": "2022-09-01T23:03:28.366Z"
   },
   {
    "duration": 4,
    "start_time": "2022-09-01T23:03:28.571Z"
   },
   {
    "duration": 34,
    "start_time": "2022-09-01T23:03:28.776Z"
   },
   {
    "duration": 4,
    "start_time": "2022-09-01T23:03:28.967Z"
   },
   {
    "duration": 5,
    "start_time": "2022-09-01T23:03:29.167Z"
   },
   {
    "duration": 94,
    "start_time": "2022-09-01T23:03:29.374Z"
   },
   {
    "duration": 4,
    "start_time": "2022-09-01T23:03:29.544Z"
   },
   {
    "duration": 5,
    "start_time": "2022-09-01T23:03:29.732Z"
   },
   {
    "duration": 32,
    "start_time": "2022-09-01T23:03:29.909Z"
   },
   {
    "duration": 23,
    "start_time": "2022-09-01T23:03:30.087Z"
   },
   {
    "duration": 10,
    "start_time": "2022-09-01T23:03:30.484Z"
   },
   {
    "duration": 55,
    "start_time": "2022-09-01T23:03:30.682Z"
   },
   {
    "duration": 25,
    "start_time": "2022-09-01T23:03:30.858Z"
   },
   {
    "duration": 4,
    "start_time": "2022-09-01T23:03:31.270Z"
   },
   {
    "duration": 6,
    "start_time": "2022-09-01T23:03:31.629Z"
   },
   {
    "duration": 7,
    "start_time": "2022-09-01T23:03:32.575Z"
   },
   {
    "duration": 109,
    "start_time": "2022-09-01T23:03:33.064Z"
   },
   {
    "duration": 165,
    "start_time": "2022-09-01T23:03:33.657Z"
   },
   {
    "duration": 14,
    "start_time": "2022-09-01T23:03:34.868Z"
   },
   {
    "duration": 755,
    "start_time": "2022-09-01T23:03:35.265Z"
   },
   {
    "duration": 34,
    "start_time": "2022-09-01T23:03:36.021Z"
   },
   {
    "duration": 7,
    "start_time": "2022-09-01T23:03:36.190Z"
   },
   {
    "duration": 27,
    "start_time": "2022-09-01T23:03:36.389Z"
   },
   {
    "duration": 7,
    "start_time": "2022-09-01T23:03:36.783Z"
   },
   {
    "duration": 142,
    "start_time": "2022-09-01T23:03:37.374Z"
   },
   {
    "duration": 218,
    "start_time": "2022-09-01T23:03:37.767Z"
   },
   {
    "duration": 130,
    "start_time": "2022-09-01T23:03:38.158Z"
   },
   {
    "duration": 25,
    "start_time": "2022-09-01T23:03:38.800Z"
   },
   {
    "duration": 6,
    "start_time": "2022-09-01T23:03:39.197Z"
   },
   {
    "duration": 135,
    "start_time": "2022-09-01T23:03:39.783Z"
   },
   {
    "duration": 149,
    "start_time": "2022-09-01T23:03:40.180Z"
   },
   {
    "duration": 131,
    "start_time": "2022-09-01T23:03:40.570Z"
   },
   {
    "duration": 13,
    "start_time": "2022-09-01T23:04:17.236Z"
   },
   {
    "duration": 13,
    "start_time": "2022-09-01T23:04:17.439Z"
   },
   {
    "duration": 4,
    "start_time": "2022-09-01T23:04:17.624Z"
   },
   {
    "duration": 14,
    "start_time": "2022-09-01T23:04:18.816Z"
   },
   {
    "duration": 15,
    "start_time": "2022-09-01T23:04:19.010Z"
   },
   {
    "duration": 6,
    "start_time": "2022-09-01T23:04:19.216Z"
   },
   {
    "duration": 4,
    "start_time": "2022-09-01T23:04:19.624Z"
   }
  ],
  "kernelspec": {
   "display_name": "Python 3 (ipykernel)",
   "language": "python",
   "name": "python3"
  },
  "language_info": {
   "codemirror_mode": {
    "name": "ipython",
    "version": 3
   },
   "file_extension": ".py",
   "mimetype": "text/x-python",
   "name": "python",
   "nbconvert_exporter": "python",
   "pygments_lexer": "ipython3",
   "version": "3.9.5"
  },
  "toc": {
   "base_numbering": 1,
   "nav_menu": {},
   "number_sections": true,
   "sideBar": true,
   "skip_h1_title": true,
   "title_cell": "Table of Contents",
   "title_sidebar": "Contents",
   "toc_cell": false,
   "toc_position": {},
   "toc_section_display": true,
   "toc_window_display": false
  }
 },
 "nbformat": 4,
 "nbformat_minor": 2
}
