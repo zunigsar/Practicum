{
 "cells": [
  {
   "cell_type": "markdown",
   "metadata": {},
   "source": [
    "# Ice:Tienda online de videojuegos"
   ]
  },
  {
   "cell_type": "markdown",
   "metadata": {},
   "source": [
    "# Contents\n",
    "* [1.- Introducción y Objetivos.](#objetivo)\n",
    "* [2.-Importacion de los archivos](#importacion)\n",
    "* [3.-Preparación de los datos](#preparación)\n",
    "* [4.- Análisis de los datos](#análisis)\n",
    "* [5. Perfil de usuario para cada región](#perfil)\n",
    "* [6.- Prueba de hipótesis](#pruebas)\n",
    "* [7.- Conclusión General](#conclusiongeneral)"
   ]
  },
  {
   "cell_type": "markdown",
   "metadata": {},
   "source": [
    "# 1. Introducción y Objetivos"
   ]
  },
  {
   "cell_type": "markdown",
   "metadata": {},
   "source": [
    "Ice es una tienda online de videojuegos que está presente en las regiones de: Norte América, Europa y Japón y en demás países.\n",
    "El objetivo es identificar patrones de comportamiento, vida util de los videojuegos, cuáles son los videojuegos más populares, que nos permitan pronosticar si nuestros videojuegos tendrán exito comercial o no. \n",
    "\n",
    "Actualmente estamos en diciembre del 2016 y tenemos recopilado la base de datos con los nombres de los videojuegos, plataformas, año de lanzamiento del juego, género, ventas en millones de dólares por cada región,reseñas de los usuarios y expertos que nos permitirán realizar la planificación de las campañas publicitarias para el próximo año. \n",
    "\n"
   ]
  },
  {
   "cell_type": "markdown",
   "metadata": {},
   "source": [
    "# 2. Importación de los archivos"
   ]
  },
  {
   "cell_type": "markdown",
   "metadata": {},
   "source": [
    "Importaremos las siguientes librerías"
   ]
  },
  {
   "cell_type": "code",
   "execution_count": 44,
   "metadata": {},
   "outputs": [],
   "source": [
    "import matplotlib.pyplot as plt\n",
    "from scipy import stats as st\n",
    "from scipy.stats import levene\n",
    "import numpy as np\n",
    "import pandas as pd\n",
    "import seaborn as sns"
   ]
  },
  {
   "cell_type": "markdown",
   "metadata": {},
   "source": [
    "Insertamos la ruta del archivo"
   ]
  },
  {
   "cell_type": "code",
   "execution_count": 45,
   "metadata": {},
   "outputs": [],
   "source": [
    "games=pd.read_csv('/datasets/games.csv')"
   ]
  },
  {
   "cell_type": "markdown",
   "metadata": {},
   "source": [
    "Vemos la información del archivo"
   ]
  },
  {
   "cell_type": "code",
   "execution_count": 46,
   "metadata": {},
   "outputs": [
    {
     "name": "stdout",
     "output_type": "stream",
     "text": [
      "<class 'pandas.core.frame.DataFrame'>\n",
      "RangeIndex: 16715 entries, 0 to 16714\n",
      "Data columns (total 11 columns):\n",
      " #   Column           Non-Null Count  Dtype  \n",
      "---  ------           --------------  -----  \n",
      " 0   Name             16713 non-null  object \n",
      " 1   Platform         16715 non-null  object \n",
      " 2   Year_of_Release  16446 non-null  float64\n",
      " 3   Genre            16713 non-null  object \n",
      " 4   NA_sales         16715 non-null  float64\n",
      " 5   EU_sales         16715 non-null  float64\n",
      " 6   JP_sales         16715 non-null  float64\n",
      " 7   Other_sales      16715 non-null  float64\n",
      " 8   Critic_Score     8137 non-null   float64\n",
      " 9   User_Score       10014 non-null  object \n",
      " 10  Rating           9949 non-null   object \n",
      "dtypes: float64(6), object(5)\n",
      "memory usage: 1.4+ MB\n"
     ]
    }
   ],
   "source": [
    "games.info()"
   ]
  },
  {
   "cell_type": "markdown",
   "metadata": {},
   "source": [
    "Mostramos las primeras 4 filas para ver los datos "
   ]
  },
  {
   "cell_type": "code",
   "execution_count": 47,
   "metadata": {},
   "outputs": [
    {
     "data": {
      "text/html": [
       "<div>\n",
       "<style scoped>\n",
       "    .dataframe tbody tr th:only-of-type {\n",
       "        vertical-align: middle;\n",
       "    }\n",
       "\n",
       "    .dataframe tbody tr th {\n",
       "        vertical-align: top;\n",
       "    }\n",
       "\n",
       "    .dataframe thead th {\n",
       "        text-align: right;\n",
       "    }\n",
       "</style>\n",
       "<table border=\"1\" class=\"dataframe\">\n",
       "  <thead>\n",
       "    <tr style=\"text-align: right;\">\n",
       "      <th></th>\n",
       "      <th>Name</th>\n",
       "      <th>Platform</th>\n",
       "      <th>Year_of_Release</th>\n",
       "      <th>Genre</th>\n",
       "      <th>NA_sales</th>\n",
       "      <th>EU_sales</th>\n",
       "      <th>JP_sales</th>\n",
       "      <th>Other_sales</th>\n",
       "      <th>Critic_Score</th>\n",
       "      <th>User_Score</th>\n",
       "      <th>Rating</th>\n",
       "    </tr>\n",
       "  </thead>\n",
       "  <tbody>\n",
       "    <tr>\n",
       "      <th>0</th>\n",
       "      <td>Wii Sports</td>\n",
       "      <td>Wii</td>\n",
       "      <td>2006.0</td>\n",
       "      <td>Sports</td>\n",
       "      <td>41.36</td>\n",
       "      <td>28.96</td>\n",
       "      <td>3.77</td>\n",
       "      <td>8.45</td>\n",
       "      <td>76.0</td>\n",
       "      <td>8</td>\n",
       "      <td>E</td>\n",
       "    </tr>\n",
       "    <tr>\n",
       "      <th>1</th>\n",
       "      <td>Super Mario Bros.</td>\n",
       "      <td>NES</td>\n",
       "      <td>1985.0</td>\n",
       "      <td>Platform</td>\n",
       "      <td>29.08</td>\n",
       "      <td>3.58</td>\n",
       "      <td>6.81</td>\n",
       "      <td>0.77</td>\n",
       "      <td>NaN</td>\n",
       "      <td>NaN</td>\n",
       "      <td>NaN</td>\n",
       "    </tr>\n",
       "    <tr>\n",
       "      <th>2</th>\n",
       "      <td>Mario Kart Wii</td>\n",
       "      <td>Wii</td>\n",
       "      <td>2008.0</td>\n",
       "      <td>Racing</td>\n",
       "      <td>15.68</td>\n",
       "      <td>12.76</td>\n",
       "      <td>3.79</td>\n",
       "      <td>3.29</td>\n",
       "      <td>82.0</td>\n",
       "      <td>8.3</td>\n",
       "      <td>E</td>\n",
       "    </tr>\n",
       "    <tr>\n",
       "      <th>3</th>\n",
       "      <td>Wii Sports Resort</td>\n",
       "      <td>Wii</td>\n",
       "      <td>2009.0</td>\n",
       "      <td>Sports</td>\n",
       "      <td>15.61</td>\n",
       "      <td>10.93</td>\n",
       "      <td>3.28</td>\n",
       "      <td>2.95</td>\n",
       "      <td>80.0</td>\n",
       "      <td>8</td>\n",
       "      <td>E</td>\n",
       "    </tr>\n",
       "  </tbody>\n",
       "</table>\n",
       "</div>"
      ],
      "text/plain": [
       "                Name Platform  Year_of_Release     Genre  NA_sales  EU_sales  \\\n",
       "0         Wii Sports      Wii           2006.0    Sports     41.36     28.96   \n",
       "1  Super Mario Bros.      NES           1985.0  Platform     29.08      3.58   \n",
       "2     Mario Kart Wii      Wii           2008.0    Racing     15.68     12.76   \n",
       "3  Wii Sports Resort      Wii           2009.0    Sports     15.61     10.93   \n",
       "\n",
       "   JP_sales  Other_sales  Critic_Score User_Score Rating  \n",
       "0      3.77         8.45          76.0          8      E  \n",
       "1      6.81         0.77           NaN        NaN    NaN  \n",
       "2      3.79         3.29          82.0        8.3      E  \n",
       "3      3.28         2.95          80.0          8      E  "
      ]
     },
     "execution_count": 47,
     "metadata": {},
     "output_type": "execute_result"
    }
   ],
   "source": [
    "games.head(4)"
   ]
  },
  {
   "cell_type": "markdown",
   "metadata": {},
   "source": [
    "* El tamaño del archivo es de 16.715 filas con 11 columnas. \n",
    "* Existen valores ausentes en 6 columnas: Name, Year_of_Release, Genre, Critic_Score, User_Score y Rating. \n",
    "* Year_of_Release se encuentra como float, y hasta rellenar los valores ausentes se podra hacer el cambio a tipo int. \n",
    "* Los valores de las ventas se encuentran en millones de dólares por lo que dejaremos el tipo de dato como float.\n"
   ]
  },
  {
   "cell_type": "markdown",
   "metadata": {},
   "source": [
    "<div class=\"alert alert-block alert-success\">\n",
    "    \n",
    "<b>Comentario del revisor</b> <a class=\"tocSkip\"></a>\n",
    "    \n",
    "Buen inicio, Sara. Esto nos permitirá tener una idea más clara de los datos y de lo que podemos hacer con ellos.\n",
    "</div>"
   ]
  },
  {
   "cell_type": "markdown",
   "metadata": {},
   "source": [
    "# 3. Preparación de los datos"
   ]
  },
  {
   "cell_type": "markdown",
   "metadata": {},
   "source": [
    "**3.1 Reemplazo de los nombres de las columnas a minúsculas**"
   ]
  },
  {
   "cell_type": "code",
   "execution_count": 48,
   "metadata": {},
   "outputs": [],
   "source": [
    "columns = games.columns\n",
    "games.set_axis(columns.str.lower(), axis='columns', inplace=True)\n"
   ]
  },
  {
   "cell_type": "markdown",
   "metadata": {},
   "source": [
    "<div class=\"alert alert-block alert-success\">\n",
    "    \n",
    "<b>Comentario del revisor</b> <a class=\"tocSkip\"></a>\n",
    "    \n",
    "Buen trabajo.\n",
    "</div>"
   ]
  },
  {
   "cell_type": "markdown",
   "metadata": {},
   "source": [
    "**3.3 Valores Ausentes**"
   ]
  },
  {
   "cell_type": "markdown",
   "metadata": {},
   "source": [
    "Procederemos a calcular cuánto es el porcentaje que representan los valores ausentes.\n"
   ]
  },
  {
   "cell_type": "code",
   "execution_count": 49,
   "metadata": {},
   "outputs": [
    {
     "name": "stdout",
     "output_type": "stream",
     "text": [
      "El porcentaje de valores nulos es: 53%\n",
      "\n",
      "<class 'pandas.core.frame.DataFrame'>\n",
      "Int64Index: 8837 entries, 1 to 16714\n",
      "Data columns (total 11 columns):\n",
      " #   Column           Non-Null Count  Dtype  \n",
      "---  ------           --------------  -----  \n",
      " 0   name             8835 non-null   object \n",
      " 1   platform         8837 non-null   object \n",
      " 2   year_of_release  8568 non-null   float64\n",
      " 3   genre            8835 non-null   object \n",
      " 4   na_sales         8837 non-null   float64\n",
      " 5   eu_sales         8837 non-null   float64\n",
      " 6   jp_sales         8837 non-null   float64\n",
      " 7   other_sales      8837 non-null   float64\n",
      " 8   critic_score     259 non-null    float64\n",
      " 9   user_score       2136 non-null   object \n",
      " 10  rating           2071 non-null   object \n",
      "dtypes: float64(6), object(5)\n",
      "memory usage: 828.5+ KB\n"
     ]
    }
   ],
   "source": [
    "games_null = games[games.isna().any(1)]\n",
    "\n",
    "games_null_rate = len(games_null) / len(games)\n",
    "\n",
    "print(f\"El porcentaje de valores nulos es: {games_null_rate:.0%}\")\n",
    "print()\n",
    "\n",
    "games_null.info()"
   ]
  },
  {
   "cell_type": "markdown",
   "metadata": {},
   "source": [
    "El 53% del total de nuestros datos estan ausentes, es más de la mitad de la información que a continuación vamos a evaluar la posibilida de reemplazar sus valores ausentes o no ya que pueden distorcionar los datos y también por el hecho de que no tenemos forma de como saber que valor es el que debe estar."
   ]
  },
  {
   "cell_type": "markdown",
   "metadata": {},
   "source": [
    "**Year_of_Release**\n",
    "\n",
    "Realizaremos dos gráficas de barras con sus valores ausentes para conocer cuántos videojuegos pertenecen cada género y por plataforma."
   ]
  },
  {
   "cell_type": "code",
   "execution_count": 50,
   "metadata": {},
   "outputs": [
    {
     "data": {
      "text/plain": [
       "<AxesSubplot:title={'center':'Número de videojuegos por plataforma'}, xlabel='genre'>"
      ]
     },
     "execution_count": 50,
     "metadata": {},
     "output_type": "execute_result"
    },
    {
     "data": {
      "image/png": "[encoded data removed]",
      "text/plain": [
       "<Figure size 576x288 with 1 Axes>"
      ]
     },
     "metadata": {
      "needs_background": "light"
     },
     "output_type": "display_data"
    }
   ],
   "source": [
    "# Por género\n",
    "year_va=games[(games['year_of_release'].isna())].pivot_table(index=['genre'],values='name',aggfunc='count').sort_values(by='name',ascending=True).plot(kind='bar', color='purple',figsize=(8,4),title='Número de videojuegos por plataforma')\n",
    "year_va\n"
   ]
  },
  {
   "cell_type": "code",
   "execution_count": 51,
   "metadata": {},
   "outputs": [
    {
     "data": {
      "text/plain": [
       "<AxesSubplot:title={'center':'Número de videojuegos por plataforma'}, xlabel='platform'>"
      ]
     },
     "execution_count": 51,
     "metadata": {},
     "output_type": "execute_result"
    },
    {
     "data": {
      "image/png": "[encoded data removed]",
      "text/plain": [
       "<Figure size 576x288 with 1 Axes>"
      ]
     },
     "metadata": {
      "needs_background": "light"
     },
     "output_type": "display_data"
    }
   ],
   "source": [
    "# Por plataforma\n",
    "year_va=games[(games['year_of_release'].isna())].pivot_table(index=['platform'],values='name',aggfunc='count').sort_values(by='name',ascending=True).plot(kind='bar', color='purple',figsize=(8,4),title='Número de videojuegos por plataforma')\n",
    "year_va\n"
   ]
  },
  {
   "cell_type": "markdown",
   "metadata": {},
   "source": [
    "* En los dos gráficos encontramos una gran variedad en los valores ausentes del año del lanzamiento, sin embargo predomina más para aquellos videojuegos del género acción en las plataformas de Wii y PS2.\n",
    "* Podemos llegar a una posible razón, que seguramente fueron videojuegos y plataformas muy antiguos o recién se encontraba en la etapa incial de desarrollo y descubrimiento dentro  del ciclo de vida del videojuego.\n",
    "* Dado que puede haber juegos que no se repitan en el dataset y no tienen identificado el año de lanzamiento, procederemos a dejar los datos originalmente."
   ]
  },
  {
   "cell_type": "markdown",
   "metadata": {},
   "source": [
    "**User_Score**\n",
    "\n"
   ]
  },
  {
   "cell_type": "markdown",
   "metadata": {},
   "source": [
    "Primero veremos que valores tenemos en esta columna."
   ]
  },
  {
   "cell_type": "code",
   "execution_count": 52,
   "metadata": {},
   "outputs": [
    {
     "data": {
      "text/plain": [
       "tbd    2424\n",
       "7.8     324\n",
       "8       290\n",
       "8.2     282\n",
       "8.3     254\n",
       "       ... \n",
       "2.3       2\n",
       "1.5       2\n",
       "1.1       2\n",
       "0         1\n",
       "9.7       1\n",
       "Name: user_score, Length: 96, dtype: int64"
      ]
     },
     "execution_count": 52,
     "metadata": {},
     "output_type": "execute_result"
    }
   ],
   "source": [
    "games['user_score'].value_counts()\n"
   ]
  },
  {
   "cell_type": "markdown",
   "metadata": {},
   "source": [
    "Existen 2424 datos que tienen el nombre de \"To be determined\", que se espera en algún momento que el usuario envíe la calificación y que por el momento está pendiente, mantendremos esos valores así y a los valores ausentes lo cambiaremos por nan.\n"
   ]
  },
  {
   "cell_type": "code",
   "execution_count": 53,
   "metadata": {},
   "outputs": [
    {
     "data": {
      "text/plain": [
       "0      8\n",
       "1    nan\n",
       "2    8.3\n",
       "3      8\n",
       "4    nan\n",
       "5    nan\n",
       "6    8.5\n",
       "7    6.6\n",
       "8    8.4\n",
       "9    nan\n",
       "Name: user_score, dtype: object"
      ]
     },
     "execution_count": 53,
     "metadata": {},
     "output_type": "execute_result"
    }
   ],
   "source": [
    "games['user_score']=games['user_score'].fillna('nan')\n",
    "games['user_score'].head(10)"
   ]
  },
  {
   "cell_type": "markdown",
   "metadata": {},
   "source": [
    "**Critic_score**\n",
    "\n",
    "Realizaremos una gráfica de barras con sus valores ausentes para conocer en que años se refleja una mayor ausencia en la calificación del experto y un segundo gráfico para conocer la distribución por plataformas."
   ]
  },
  {
   "cell_type": "code",
   "execution_count": 54,
   "metadata": {},
   "outputs": [
    {
     "data": {
      "text/plain": [
       "<AxesSubplot:title={'center':'Número de videojuegos por año'}, xlabel='year_of_release'>"
      ]
     },
     "execution_count": 54,
     "metadata": {},
     "output_type": "execute_result"
    },
    {
     "data": {
      "image/png": "[encoded data removed]",
      "text/plain": [
       "<Figure size 720x288 with 1 Axes>"
      ]
     },
     "metadata": {
      "needs_background": "light"
     },
     "output_type": "display_data"
    }
   ],
   "source": [
    "#Por año\n",
    "critic_va=games[(games['critic_score'].isna())].pivot_table(index='year_of_release',values='name',aggfunc='count').sort_values(by='year_of_release',ascending=True).plot(kind='bar',color='purple',title= 'Número de videojuegos por año',figsize=(10,4))\n",
    "critic_va\n",
    "    "
   ]
  },
  {
   "cell_type": "code",
   "execution_count": 55,
   "metadata": {},
   "outputs": [
    {
     "data": {
      "text/plain": [
       "<AxesSubplot:title={'center':'Número de videojuegos por plataformas'}, xlabel='platform'>"
      ]
     },
     "execution_count": 55,
     "metadata": {},
     "output_type": "execute_result"
    },
    {
     "data": {
      "image/png": "[encoded data removed]",
      "text/plain": [
       "<Figure size 648x288 with 1 Axes>"
      ]
     },
     "metadata": {
      "needs_background": "light"
     },
     "output_type": "display_data"
    }
   ],
   "source": [
    "#Por plataforma\n",
    "critic_va=games[(games['critic_score'].isna())].pivot_table(index='platform',values='name',aggfunc='count').sort_values(by='name',ascending=True).plot(kind='bar',color='purple',title= 'Número de videojuegos por plataformas',figsize=(9,4))\n",
    "critic_va\n",
    "    "
   ]
  },
  {
   "cell_type": "markdown",
   "metadata": {},
   "source": [
    "* En el primer gráfico se observa una tendecia de picos entre 1995 a 2000 y otro en 2008 y 2011.\n",
    "* En el segundo gráfico vemos que es mayor la ausencia de los puntajes para la plataforma de DS, sería interesante si más adelante observamos si corresponde a una antigua plataforma y tambien puede influir por el juego y ya no les interesa dar la calificación.\n",
    "* No se reemplazarán los valores ausentes porque es una nota muy subjetivo que va a depender de cada criterio de las personas/expertos."
   ]
  },
  {
   "cell_type": "markdown",
   "metadata": {},
   "source": [
    "**Rating**\n",
    "\n"
   ]
  },
  {
   "cell_type": "markdown",
   "metadata": {},
   "source": [
    "Primero mostraremos los valores no ausentes de la columna, para conocer que tipos de calificaciones hay según la Junta de clasificación de software de entretenimiento"
   ]
  },
  {
   "cell_type": "code",
   "execution_count": 56,
   "metadata": {},
   "outputs": [
    {
     "data": {
      "text/plain": [
       "E       3990\n",
       "T       2961\n",
       "M       1563\n",
       "E10+    1420\n",
       "EC         8\n",
       "K-A        3\n",
       "RP         3\n",
       "AO         1\n",
       "Name: rating, dtype: int64"
      ]
     },
     "execution_count": 56,
     "metadata": {},
     "output_type": "execute_result"
    }
   ],
   "source": [
    "games['rating'].value_counts()"
   ]
  },
  {
   "cell_type": "markdown",
   "metadata": {},
   "source": [
    "Tenemos 8 tipos de calificaciones, siendo las más comunes E, T, M, E10+."
   ]
  },
  {
   "cell_type": "markdown",
   "metadata": {},
   "source": [
    "Realizaremos un grafico de barras con los valores ausentes de rating para observar la distribución por plataforma."
   ]
  },
  {
   "cell_type": "code",
   "execution_count": 57,
   "metadata": {
    "scrolled": true
   },
   "outputs": [
    {
     "data": {
      "text/plain": [
       "<AxesSubplot:title={'center':'Número de videojuegos por plataforma'}, xlabel='platform'>"
      ]
     },
     "execution_count": 57,
     "metadata": {},
     "output_type": "execute_result"
    },
    {
     "data": {
      "image/png": "[encoded data removed]",
      "text/plain": [
       "<Figure size 648x288 with 1 Axes>"
      ]
     },
     "metadata": {
      "needs_background": "light"
     },
     "output_type": "display_data"
    }
   ],
   "source": [
    "# Por plataforma\n",
    "rating_va=games[(games['rating'].isna())].pivot_table(index='platform',values='name',aggfunc='count').sort_values(by='name',ascending=True).plot(kind='bar',color='purple', title= 'Número de videojuegos por plataforma',figsize=(9,4))\n",
    "rating_va"
   ]
  },
  {
   "cell_type": "markdown",
   "metadata": {},
   "source": [
    "Realizaremos otro grafico de barras con los valores ausentes de rating para observar la distribución por género del videojuego."
   ]
  },
  {
   "cell_type": "code",
   "execution_count": 58,
   "metadata": {},
   "outputs": [
    {
     "data": {
      "text/plain": [
       "<AxesSubplot:title={'center':'Número de videjuegos por género'}, xlabel='genre'>"
      ]
     },
     "execution_count": 58,
     "metadata": {},
     "output_type": "execute_result"
    },
    {
     "data": {
      "image/png": "[encoded data removed]",
      "text/plain": [
       "<Figure size 432x288 with 1 Axes>"
      ]
     },
     "metadata": {
      "needs_background": "light"
     },
     "output_type": "display_data"
    }
   ],
   "source": [
    "#Por género del videojuego\n",
    "rating_va=games[(games['rating'].isna())].pivot_table(index='genre',values='name',aggfunc='count').sort_values(by='name',ascending=True).plot(kind='bar', color='purple',title='Número de videjuegos por género')\n",
    "rating_va"
   ]
  },
  {
   "cell_type": "markdown",
   "metadata": {},
   "source": [
    "* En el primer gráfico hay mas valores ausentes para los videojuegos de acción y para la plataforma PS, mientras las que son de puzzle son las menores. \n",
    "* El relleno de valores ausentes claramente afectará a que lleguemos a los resultados reales, por lo que trabajaremos con los datos disponibles."
   ]
  },
  {
   "cell_type": "markdown",
   "metadata": {},
   "source": [
    "**Conclusiones intermedias:**\n",
    "    "
   ]
  },
  {
   "cell_type": "markdown",
   "metadata": {},
   "source": [
    "* Encontramos que los valores ausentes de los años de lanzamiento estaba más relacionado a que era juegos deportivos y de acción en las platafomas de X360 Y PS2.\n",
    "* Para la calificación de los expertos y de la junta sus valores ausentes son más en las plataforma PS y DS la cual se investigará más adeltante si son nuevas o antiguas.\n",
    "* Se decidió que no se reemplazará los valores ausentes porque son datos que son muy subjetivos de acuerdo a la experiencia y concocimiento de expertos y la junta.\n",
    "* Los años de lanzamiento no fueron rellenao, debido a que no se pueden completar con el dataset porque hay varios juegos que son únicos sin el registro de los años de lanzamiento.\n"
   ]
  },
  {
   "cell_type": "markdown",
   "metadata": {},
   "source": [
    "**3.4 Cálculo de las ventas totales**"
   ]
  },
  {
   "cell_type": "markdown",
   "metadata": {},
   "source": [
    "Calcularemos las ventas totales de todas las regiones y de los demás  países para cada juego y lo colacaremos en una nueva columna."
   ]
  },
  {
   "cell_type": "code",
   "execution_count": 59,
   "metadata": {},
   "outputs": [],
   "source": [
    "def ingresos_totales (row):\n",
    "    america=row['na_sales']\n",
    "    europa=row['eu_sales']\n",
    "    japon=row['jp_sales']\n",
    "    other=row['other_sales']\n",
    "    \n",
    "    return america+europa+japon+other\n",
    "    "
   ]
  },
  {
   "cell_type": "code",
   "execution_count": 60,
   "metadata": {},
   "outputs": [
    {
     "data": {
      "text/plain": [
       "32.77"
      ]
     },
     "execution_count": 60,
     "metadata": {},
     "output_type": "execute_result"
    }
   ],
   "source": [
    "ingresos_totales(games.iloc[3])"
   ]
  },
  {
   "cell_type": "code",
   "execution_count": 61,
   "metadata": {},
   "outputs": [],
   "source": [
    "try:\n",
    "    games['ingresos_totales']=games.apply(ingresos_totales,axis=1)\n",
    "except: \n",
    "    print('Error de función')"
   ]
  },
  {
   "cell_type": "code",
   "execution_count": 62,
   "metadata": {},
   "outputs": [
    {
     "data": {
      "text/html": [
       "<div>\n",
       "<style scoped>\n",
       "    .dataframe tbody tr th:only-of-type {\n",
       "        vertical-align: middle;\n",
       "    }\n",
       "\n",
       "    .dataframe tbody tr th {\n",
       "        vertical-align: top;\n",
       "    }\n",
       "\n",
       "    .dataframe thead th {\n",
       "        text-align: right;\n",
       "    }\n",
       "</style>\n",
       "<table border=\"1\" class=\"dataframe\">\n",
       "  <thead>\n",
       "    <tr style=\"text-align: right;\">\n",
       "      <th></th>\n",
       "      <th>name</th>\n",
       "      <th>platform</th>\n",
       "      <th>year_of_release</th>\n",
       "      <th>genre</th>\n",
       "      <th>na_sales</th>\n",
       "      <th>eu_sales</th>\n",
       "      <th>jp_sales</th>\n",
       "      <th>other_sales</th>\n",
       "      <th>critic_score</th>\n",
       "      <th>user_score</th>\n",
       "      <th>rating</th>\n",
       "      <th>ingresos_totales</th>\n",
       "    </tr>\n",
       "  </thead>\n",
       "  <tbody>\n",
       "    <tr>\n",
       "      <th>0</th>\n",
       "      <td>Wii Sports</td>\n",
       "      <td>Wii</td>\n",
       "      <td>2006.0</td>\n",
       "      <td>Sports</td>\n",
       "      <td>41.36</td>\n",
       "      <td>28.96</td>\n",
       "      <td>3.77</td>\n",
       "      <td>8.45</td>\n",
       "      <td>76.0</td>\n",
       "      <td>8</td>\n",
       "      <td>E</td>\n",
       "      <td>82.54</td>\n",
       "    </tr>\n",
       "    <tr>\n",
       "      <th>1</th>\n",
       "      <td>Super Mario Bros.</td>\n",
       "      <td>NES</td>\n",
       "      <td>1985.0</td>\n",
       "      <td>Platform</td>\n",
       "      <td>29.08</td>\n",
       "      <td>3.58</td>\n",
       "      <td>6.81</td>\n",
       "      <td>0.77</td>\n",
       "      <td>NaN</td>\n",
       "      <td>nan</td>\n",
       "      <td>NaN</td>\n",
       "      <td>40.24</td>\n",
       "    </tr>\n",
       "    <tr>\n",
       "      <th>2</th>\n",
       "      <td>Mario Kart Wii</td>\n",
       "      <td>Wii</td>\n",
       "      <td>2008.0</td>\n",
       "      <td>Racing</td>\n",
       "      <td>15.68</td>\n",
       "      <td>12.76</td>\n",
       "      <td>3.79</td>\n",
       "      <td>3.29</td>\n",
       "      <td>82.0</td>\n",
       "      <td>8.3</td>\n",
       "      <td>E</td>\n",
       "      <td>35.52</td>\n",
       "    </tr>\n",
       "    <tr>\n",
       "      <th>3</th>\n",
       "      <td>Wii Sports Resort</td>\n",
       "      <td>Wii</td>\n",
       "      <td>2009.0</td>\n",
       "      <td>Sports</td>\n",
       "      <td>15.61</td>\n",
       "      <td>10.93</td>\n",
       "      <td>3.28</td>\n",
       "      <td>2.95</td>\n",
       "      <td>80.0</td>\n",
       "      <td>8</td>\n",
       "      <td>E</td>\n",
       "      <td>32.77</td>\n",
       "    </tr>\n",
       "    <tr>\n",
       "      <th>4</th>\n",
       "      <td>Pokemon Red/Pokemon Blue</td>\n",
       "      <td>GB</td>\n",
       "      <td>1996.0</td>\n",
       "      <td>Role-Playing</td>\n",
       "      <td>11.27</td>\n",
       "      <td>8.89</td>\n",
       "      <td>10.22</td>\n",
       "      <td>1.00</td>\n",
       "      <td>NaN</td>\n",
       "      <td>nan</td>\n",
       "      <td>NaN</td>\n",
       "      <td>31.38</td>\n",
       "    </tr>\n",
       "  </tbody>\n",
       "</table>\n",
       "</div>"
      ],
      "text/plain": [
       "                       name platform  year_of_release         genre  na_sales  \\\n",
       "0                Wii Sports      Wii           2006.0        Sports     41.36   \n",
       "1         Super Mario Bros.      NES           1985.0      Platform     29.08   \n",
       "2            Mario Kart Wii      Wii           2008.0        Racing     15.68   \n",
       "3         Wii Sports Resort      Wii           2009.0        Sports     15.61   \n",
       "4  Pokemon Red/Pokemon Blue       GB           1996.0  Role-Playing     11.27   \n",
       "\n",
       "   eu_sales  jp_sales  other_sales  critic_score user_score rating  \\\n",
       "0     28.96      3.77         8.45          76.0          8      E   \n",
       "1      3.58      6.81         0.77           NaN        nan    NaN   \n",
       "2     12.76      3.79         3.29          82.0        8.3      E   \n",
       "3     10.93      3.28         2.95          80.0          8      E   \n",
       "4      8.89     10.22         1.00           NaN        nan    NaN   \n",
       "\n",
       "   ingresos_totales  \n",
       "0             82.54  \n",
       "1             40.24  \n",
       "2             35.52  \n",
       "3             32.77  \n",
       "4             31.38  "
      ]
     },
     "execution_count": 62,
     "metadata": {},
     "output_type": "execute_result"
    }
   ],
   "source": [
    "#Mostramos las primeras 10 filas para comprobar que se ha creado la columna\n",
    "games.head(5)"
   ]
  },
  {
   "cell_type": "markdown",
   "metadata": {},
   "source": [
    "# 4. Análisis de los datos"
   ]
  },
  {
   "cell_type": "markdown",
   "metadata": {},
   "source": [
    "**Primero queremos sabercuántos juegos fueron lanzados en diferentes años. Esto nos dará la claridad para ver como han ido evolucionando la cantidad de videojuegos a lo largo de los años.**"
   ]
  },
  {
   "cell_type": "code",
   "execution_count": 63,
   "metadata": {},
   "outputs": [
    {
     "data": {
      "image/png": "[encoded data removed]",
      "text/plain": [
       "<Figure size 864x288 with 1 Axes>"
      ]
     },
     "metadata": {
      "needs_background": "light"
     },
     "output_type": "display_data"
    }
   ],
   "source": [
    "bar1=games.pivot_table(index='year_of_release', values='name',aggfunc='count').plot(kind='bar',color='purple',grid=True,figsize=(12,4))"
   ]
  },
  {
   "cell_type": "markdown",
   "metadata": {},
   "source": [
    "* Podemos observar claramente que hemos tenido una evolución en el desarrollo e implementación de la tecnología con el pasar de los años que es proporcional al incremento que hay en el número de videojuegos lanzados.\n",
    "* Nuestra base de datos incuye un periodo que va desde 1980 al 2016 donde existen picos alcanzados entre el 2008 y el 2009 llegando a los 1400 videojuegos.\n",
    "* A partir del año 2012 hasta el 2016 vemos un recesión significativa llegando a un número mínimo de 600 videojuegos.  \n"
   ]
  },
  {
   "cell_type": "markdown",
   "metadata": {},
   "source": [
    "**Oservaremos a través de un grafico de barra cómo varían las ventas de una plataforma a otra.**"
   ]
  },
  {
   "cell_type": "code",
   "execution_count": 64,
   "metadata": {},
   "outputs": [
    {
     "data": {
      "text/plain": [
       "<AxesSubplot:xlabel='platform'>"
      ]
     },
     "execution_count": 64,
     "metadata": {},
     "output_type": "execute_result"
    },
    {
     "data": {
      "image/png": "[encoded data removed]",
      "text/plain": [
       "<Figure size 648x360 with 1 Axes>"
      ]
     },
     "metadata": {
      "needs_background": "light"
     },
     "output_type": "display_data"
    }
   ],
   "source": [
    "#¿Cómo varían las ventas de una plataforma a otra?\n",
    "sales=games.pivot_table(index='platform',values='ingresos_totales', aggfunc='sum').sort_values(by='ingresos_totales',ascending=True)\n",
    "sales.plot(kind='bar',color='purple', grid=True, figsize=(9,5))"
   ]
  },
  {
   "cell_type": "markdown",
   "metadata": {},
   "source": [
    "* Las platafomas con mayores ventas totales registradas en millones de dólares a lo largo de los años son PS2,X360,PS3 y Wii registrando valores por encima de los 800 millones y llegando a un pico de 1200 millones para PS2."
   ]
  },
  {
   "cell_type": "markdown",
   "metadata": {},
   "source": [
    "**Para las plataformas con mayores ventas totales construiremos una distribución basada en los datos de cada año.**"
   ]
  },
  {
   "cell_type": "code",
   "execution_count": 65,
   "metadata": {},
   "outputs": [],
   "source": [
    "popular=games.query('platform == (\"PS2\",\"X360\",\"PS3\",\"Wii\")')"
   ]
  },
  {
   "cell_type": "code",
   "execution_count": 66,
   "metadata": {},
   "outputs": [
    {
     "data": {
      "text/plain": [
       "<AxesSubplot:title={'center':'Plataformas con mayores ingresos distribución por años'}, xlabel='year_of_release'>"
      ]
     },
     "execution_count": 66,
     "metadata": {},
     "output_type": "execute_result"
    },
    {
     "data": {
      "image/png": "[encoded data removed]",
      "text/plain": [
       "<Figure size 576x360 with 1 Axes>"
      ]
     },
     "metadata": {
      "needs_background": "light"
     },
     "output_type": "display_data"
    }
   ],
   "source": [
    "#Distribución basada en los datos de cada año de las plataformas con mayores ventas totales\n",
    "grafico=popular.pivot_table(index='year_of_release',values='ingresos_totales',columns='platform',aggfunc='sum').plot(style='o-',title='Plataformas con mayores ingresos distribución por años',figsize=(8,5))\n",
    "grafico"
   ]
  },
  {
   "cell_type": "markdown",
   "metadata": {},
   "source": [
    "**PS2:** Fue la que registró mayores ventas que desde su fecha de lanzamiento hasta alcanzar su pico fueron 2 años, y \n",
    "7 años para ir decreciendo sus ingresos hasta finalmente desaparecer en el 2011.\n",
    "\n",
    "**PS3:** Tardó 5 años desde su lanzamientoen 2006 hasta alcanzar el máximo de ingresos y  5 años en desaparecer.\n",
    "\n",
    "**Wii:** En su lanzamieno en 2006 registró un buen nivel de ventas pero solo hasta 3 años registró su maximo valor y 3 años despúes ya sus ventas fueron por debajo de 25 millones. Despues de 10 años de su lanzamiento sus ventas ya son mínimas.\n",
    "\n",
    "**X360:** Durante los primeros 5 años registró un pico en sus ventas y durante 4 años despúes fue decreciendo hasta llegar a 20 millones.\n",
    "\n",
    "Las plataformas que solían ser populares pero a la fecha ya no tienen ventas o muy mínimas son las 4 identificadas.\n",
    "\n",
    "Por lo general las plataformas tienen 5 años desde su lanzamiento hasta llegar a su pico máximo de ventas y tienen una vida útil de 10 años hasta desaparecer. \n",
    "\n",
    "Podemos ver que al 2016 ya no registran ventas estas plataformas, pese a que fueron las que más ventas alcanzaron en su vida útil comparado con las demás y además que sabemos que no tenemos datos completos del año 2016 puede que afecte los resultados a ver valores menores a los reales."
   ]
  },
  {
   "cell_type": "markdown",
   "metadata": {},
   "source": [
    "**Determinaremos que período nos aporta mejores insights para construir el modelo de predicción para el 2017**\n",
    "\n",
    "Dado que desde el 2000 empieza el crecimiento en las ventas de las plataformas, filtraremos a partir de ese periodo para observar la distribución hasta el 2016."
   ]
  },
  {
   "cell_type": "code",
   "execution_count": 67,
   "metadata": {},
   "outputs": [
    {
     "data": {
      "image/png": "[encoded data removed]",
      "text/plain": [
       "<Figure size 1008x576 with 1 Axes>"
      ]
     },
     "metadata": {
      "needs_background": "light"
     },
     "output_type": "display_data"
    }
   ],
   "source": [
    "#Distribución de las ventas a lo largo de los años para cada plataforma.\n",
    "sales=games.query('year_of_release >2000').pivot_table(index='year_of_release',values='ingresos_totales',columns='platform', aggfunc='sum').plot(style='o-', grid=True, figsize=(14,8))"
   ]
  },
  {
   "cell_type": "code",
   "execution_count": 68,
   "metadata": {},
   "outputs": [
    {
     "data": {
      "text/html": [
       "<div>\n",
       "<style scoped>\n",
       "    .dataframe tbody tr th:only-of-type {\n",
       "        vertical-align: middle;\n",
       "    }\n",
       "\n",
       "    .dataframe tbody tr th {\n",
       "        vertical-align: top;\n",
       "    }\n",
       "\n",
       "    .dataframe thead th {\n",
       "        text-align: right;\n",
       "    }\n",
       "</style>\n",
       "<table border=\"1\" class=\"dataframe\">\n",
       "  <thead>\n",
       "    <tr style=\"text-align: right;\">\n",
       "      <th></th>\n",
       "      <th>ingresos_totales</th>\n",
       "    </tr>\n",
       "    <tr>\n",
       "      <th>platform</th>\n",
       "      <th></th>\n",
       "    </tr>\n",
       "  </thead>\n",
       "  <tbody>\n",
       "    <tr>\n",
       "      <th>PSP</th>\n",
       "      <td>0.12</td>\n",
       "    </tr>\n",
       "    <tr>\n",
       "      <th>Wii</th>\n",
       "      <td>1.14</td>\n",
       "    </tr>\n",
       "    <tr>\n",
       "      <th>PSV</th>\n",
       "      <td>6.25</td>\n",
       "    </tr>\n",
       "    <tr>\n",
       "      <th>PC</th>\n",
       "      <td>8.52</td>\n",
       "    </tr>\n",
       "    <tr>\n",
       "      <th>X360</th>\n",
       "      <td>11.96</td>\n",
       "    </tr>\n",
       "    <tr>\n",
       "      <th>WiiU</th>\n",
       "      <td>16.35</td>\n",
       "    </tr>\n",
       "    <tr>\n",
       "      <th>PS3</th>\n",
       "      <td>16.82</td>\n",
       "    </tr>\n",
       "    <tr>\n",
       "      <th>3DS</th>\n",
       "      <td>27.78</td>\n",
       "    </tr>\n",
       "    <tr>\n",
       "      <th>XOne</th>\n",
       "      <td>60.14</td>\n",
       "    </tr>\n",
       "    <tr>\n",
       "      <th>PS4</th>\n",
       "      <td>118.90</td>\n",
       "    </tr>\n",
       "  </tbody>\n",
       "</table>\n",
       "</div>"
      ],
      "text/plain": [
       "          ingresos_totales\n",
       "platform                  \n",
       "PSP                   0.12\n",
       "Wii                   1.14\n",
       "PSV                   6.25\n",
       "PC                    8.52\n",
       "X360                 11.96\n",
       "WiiU                 16.35\n",
       "PS3                  16.82\n",
       "3DS                  27.78\n",
       "XOne                 60.14\n",
       "PS4                 118.90"
      ]
     },
     "execution_count": 68,
     "metadata": {},
     "output_type": "execute_result"
    }
   ],
   "source": [
    "#Top ventas en el 2015\n",
    "sales=games.query('year_of_release == 2015').pivot_table(index='platform',values='ingresos_totales', aggfunc='sum').sort_values(by='ingresos_totales',ascending=True)\n",
    "sales"
   ]
  },
  {
   "cell_type": "markdown",
   "metadata": {},
   "source": [
    "Usamos un gráfico de puntos para visualizar la tendencia en las ventas identificado por cada color para cada plataforma.\n",
    "* Como vimos en el primer gráfico de las ventas totales vs el periodo, observamos que hay un descenso a partir del 2012 y se ha mantenido esa misma tendencia hasta el 2016 de estar entre 600 y 500 millones de dólares. \n",
    "* Adicional nos dimos cuenta que la vida útil de una plataforma desde su lanzamiento es de alrededor de 8 a 10 años hasta desaparecer, y tarda 5 años en llegar a su pico máximo.\n",
    "* En este último gráfico vemos como las plataformas desde su lanzamiento en el 2001 llegan a desaparecer en el 2007 como fue el caso de GBA. \n",
    "* Por estos motivos tomaremos un periodo desde el 2013 en adelante para el modelo predictivo del próximo año. \n",
    "* Adicional observamos en esta tabla que las que registran mayores ventas en el 2015 son PS4, XOne, 3DS y PS3."
   ]
  },
  {
   "cell_type": "markdown",
   "metadata": {},
   "source": [
    "**Queremos saber cuales son las plataformas líderes en ventas, que son potencialmente rentables e identificar cuáles crecen y cuáles se reducen.**\n",
    "\n",
    "Como escogimos ya nuestro periodo de análisis que será desde el 2013 en adelante, realizaremos un gráfico para identificar que plataformas son las líderes de ventas, cuando fue su lanzamiento, obsevar su tendencia de ventas como sus ventas promedio.\n",
    "Con estos parámetros establecidos podremos a escoger cuáles son las plataformas potencialente rentables para el 2017."
   ]
  },
  {
   "cell_type": "code",
   "execution_count": 69,
   "metadata": {},
   "outputs": [
    {
     "data": {
      "text/plain": [
       "<AxesSubplot:xlabel='year_of_release'>"
      ]
     },
     "execution_count": 69,
     "metadata": {},
     "output_type": "execute_result"
    },
    {
     "data": {
      "image/png": "[encoded data removed]",
      "text/plain": [
       "<Figure size 576x360 with 1 Axes>"
      ]
     },
     "metadata": {
      "needs_background": "light"
     },
     "output_type": "display_data"
    }
   ],
   "source": [
    "#¿Qué plataformas son líderes en ventas? ¿Cuáles crecen y cuáles se reducen?\n",
    "sales=games.query('year_of_release >=2013').pivot_table(index='year_of_release',values='ingresos_totales',columns='platform', aggfunc='sum').plot(style='o-', grid=True, figsize=(8,5))\n",
    "sales"
   ]
  },
  {
   "cell_type": "markdown",
   "metadata": {},
   "source": [
    "* Las plataformas que llevan la delantera en el total de sus ventas son PS4, XOne y 3DS vendiendo por encima de 18 millones en el 2016, pese a que tiene información incompleta en ese año.\n",
    "* Para PS4 y XOne podemos ver que desde su fecha de lanzamiento fue en el 2013 por lo que se espera que su pico de ventas sea en el 2017, ya que todavía se encuentra en el periodo de crecimiento hasta llegar a la madurez el próximo año.\n",
    "* Por otro lado la plataforma 3DS fue lanzada en el 2011 por lo que se espera que al culminar este año 106 sus ventas alcancen un pico.\n",
    "* Es muy notorio que para la plataforma PS3 alcanzó el pico en el 2013 pero para el 2014 bajó considerablemente por el lanzamiento de la PS4 debido a que era la última versión con mejores avances, tecnología, etc y llegando a desaparecer completamente para el 2015.\n",
    "* Resumiendo hemos identificado a 2 plataformas con mayor potencial y rentabilidad para el próximo año que es la PS4, XOne y 3DS."
   ]
  },
  {
   "cell_type": "markdown",
   "metadata": {},
   "source": [
    "**Crearemos un diagrama de caja para las ventas globales de todos los juegos, desglosados por las 3 plataformas con mayores ingresos en el 2015**"
   ]
  },
  {
   "cell_type": "code",
   "execution_count": 70,
   "metadata": {},
   "outputs": [],
   "source": [
    "#Guardaremos nuestro dataframe sin valores ausentes dentro de otra variable que tendrá el periodo de análisis que nos interesa.\n",
    "games_2013=games.query('year_of_release >=2013').reset_index(drop=True)\n"
   ]
  },
  {
   "cell_type": "code",
   "execution_count": 71,
   "metadata": {},
   "outputs": [
    {
     "data": {
      "image/png": "[encoded data removed]",
      "text/plain": [
       "<Figure size 720x504 with 1 Axes>"
      ]
     },
     "metadata": {
      "needs_background": "light"
     },
     "output_type": "display_data"
    },
    {
     "data": {
      "image/png": "[encoded data removed]",
      "text/plain": [
       "<Figure size 720x504 with 1 Axes>"
      ]
     },
     "metadata": {
      "needs_background": "light"
     },
     "output_type": "display_data"
    },
    {
     "data": {
      "image/png": "[encoded data removed]",
      "text/plain": [
       "<Figure size 720x504 with 1 Axes>"
      ]
     },
     "metadata": {
      "needs_background": "light"
     },
     "output_type": "display_data"
    }
   ],
   "source": [
    "#Diagrama de caja para PS4,XOne y PC\n",
    "sales_per_game= games_2013.query('platform== (\"PS4\",\"XOne\",\"3DS\")').pivot_table(index='platform',values='ingresos_totales')\n",
    "for plataforma, datos in games_2013.query('platform== (\"PS4\",\"XOne\",\"3DS\")').groupby(\"platform\"):\n",
    "    datos.boxplot(by='platform', column='ingresos_totales',figsize=(10,7))\n",
    "    plt.title(plataforma)\n",
    "    plt.show()"
   ]
  },
  {
   "cell_type": "markdown",
   "metadata": {},
   "source": [
    "* El ingreso promedio por los videojuegos para las 3 plataformas no tienen una diferencia significativa podríamos decir deacuerdo a las gráficas están por debajo de 1 millón.\n",
    "* La PS4 registra mayores valores atípicos en la venta de posibles videojuegos que sean más caros llegando a un valor máximo de más de 14 millones.\n",
    "* El valor de ingreso por videojuegos máximo para XOne es 7.5 y para 3DS es 14.5. \n"
   ]
  },
  {
   "cell_type": "markdown",
   "metadata": {},
   "source": [
    "**Reseñas de los usuarios y profesionales Vs las ventas de la plataforma.**"
   ]
  },
  {
   "cell_type": "markdown",
   "metadata": {},
   "source": [
    "En esta ocasión queremos ver que correlación existe entre las reseñas de los usuarios y los profesionales sobre las ventas de la plataforma de PS4 que fue la que identificamos que tiene mayores ventas registradas para nuestro periodo de análisis."
   ]
  },
  {
   "cell_type": "markdown",
   "metadata": {},
   "source": [
    "* User_score y Critic_score vs Ingresos totales\n"
   ]
  },
  {
   "cell_type": "code",
   "execution_count": 82,
   "metadata": {},
   "outputs": [
    {
     "data": {
      "text/plain": [
       "0    8.2\n",
       "1    8.1\n",
       "2    8.3\n",
       "3    2.6\n",
       "4    2.6\n",
       "5    4.3\n",
       "6    5.7\n",
       "7    5.0\n",
       "8    6.5\n",
       "9    9.1\n",
       "Name: user_score, dtype: float64"
      ]
     },
     "execution_count": 82,
     "metadata": {},
     "output_type": "execute_result"
    }
   ],
   "source": [
    "#utillizamos el segmentador para no tomar en cuenta a los valores nan y tbd y cambiamos el tipo de dato a float\n",
    "games_2013=games_2013.query('user_score !=(\"nan\",\"tbd\")').reset_index(drop=True)\n",
    "games_2013['user_score']=games_2013['user_score'].astype(float)\n",
    "games_2013['user_score'].head(10)"
   ]
  },
  {
   "cell_type": "code",
   "execution_count": 86,
   "metadata": {},
   "outputs": [
    {
     "data": {
      "text/plain": [
       "<AxesSubplot:>"
      ]
     },
     "execution_count": 86,
     "metadata": {},
     "output_type": "execute_result"
    },
    {
     "data": {
      "image/png": "[encoded data removed]",
      "text/plain": [
       "<Figure size 432x288 with 2 Axes>"
      ]
     },
     "metadata": {
      "needs_background": "light"
     },
     "output_type": "display_data"
    }
   ],
   "source": [
    "#Heatmap para el análisis de correlación \n",
    "\n",
    "sns.heatmap(games_2013.query('platform == \"PS4\"').corr()[['user_score','critic_score']], vmin = -1, vmax = +1, annot = True, cmap = 'coolwarm')"
   ]
  },
  {
   "cell_type": "markdown",
   "metadata": {},
   "source": [
    "* A través del mapa de calor observamos que la correlación es más fuerte entre la crítica del experto que pueden impactar para bien o mal en los ingresos totales de la empresa porque su correlación positiva es más fuerte con 0.41. Es decir que es un punto que tenemos que evaluar con el equipo y asegurarnos que para futuras calificaciones va a ser un inlfuyente en la rentabilidad.\n",
    "\n",
    "\n",
    "* Se puede concluir que la calificación que otorge el usuario no va a influir en los ingresos porque su correlación es muy pequeña y negativa de -0.032, de esta manera descartamos que esta variable tenga un alto impacto en la rentabilidad.\n"
   ]
  },
  {
   "cell_type": "markdown",
   "metadata": {},
   "source": [
    "**Comparación ventas por plataformas**"
   ]
  },
  {
   "cell_type": "markdown",
   "metadata": {},
   "source": [
    "Teniendo en cuenta las conclusiones a las que hemos llegado hasta ahora, compararemos las ventas en las plataformas que identificamos desde el 2013 en adelante.\n"
   ]
  },
  {
   "cell_type": "code",
   "execution_count": 87,
   "metadata": {},
   "outputs": [
    {
     "data": {
      "image/png": "[encoded data removed]",
      "text/plain": [
       "<Figure size 648x360 with 1 Axes>"
      ]
     },
     "metadata": {
      "needs_background": "light"
     },
     "output_type": "display_data"
    }
   ],
   "source": [
    "#Comparación de las ventas en otras plataformas.\n",
    "graph3=games_2013.pivot_table(index='platform',values='ingresos_totales', aggfunc='sum').sort_values(by='ingresos_totales',ascending=True).plot(kind='bar',color='purple', grid=True, figsize=(9,5))"
   ]
  },
  {
   "cell_type": "markdown",
   "metadata": {},
   "source": [
    "* La PS4 es la plataforma más popular y preferible por los usuarios para jugar los videojuegos y del punto de vista del neogcio es la que representa mayor potencial en la rentabilidad alcanzando 250 millones de dólares.\n",
    "* En segundo lugar se encuentra PS3 seguido de la XOne que registran ingresos por encima de 140 millones. \n",
    "* Para nuestro modelo del 2017 un videojuego tendría más éxito comercial para la plataforma de PS4, XOne y PS3 también pero en menor medida ya que como lo confirmamos anteriomente estas 2 primeras son las que se han encuentrado en la etapa de crecimiento y ya para el 2017 y 2018 llegara a su etapa de madurez y se espera que alcancé su mayor valor histórico en ingresos totales. Sin embargo para la PS3 su lanzamiento fue en el 2006 pero ya se encuentró en la etapa de recesión desde el 2013."
   ]
  },
  {
   "cell_type": "markdown",
   "metadata": {},
   "source": [
    "Compararemos las ventas de los 5 juegos con más ingresos para cada plataforma."
   ]
  },
  {
   "cell_type": "code",
   "execution_count": 90,
   "metadata": {},
   "outputs": [
    {
     "data": {
      "text/html": [
       "<div>\n",
       "<style scoped>\n",
       "    .dataframe tbody tr th:only-of-type {\n",
       "        vertical-align: middle;\n",
       "    }\n",
       "\n",
       "    .dataframe tbody tr th {\n",
       "        vertical-align: top;\n",
       "    }\n",
       "\n",
       "    .dataframe thead th {\n",
       "        text-align: right;\n",
       "    }\n",
       "</style>\n",
       "<table border=\"1\" class=\"dataframe\">\n",
       "  <thead>\n",
       "    <tr style=\"text-align: right;\">\n",
       "      <th></th>\n",
       "      <th>ingresos_totales</th>\n",
       "    </tr>\n",
       "    <tr>\n",
       "      <th>name</th>\n",
       "      <th></th>\n",
       "    </tr>\n",
       "  </thead>\n",
       "  <tbody>\n",
       "    <tr>\n",
       "      <th>Grand Theft Auto V</th>\n",
       "      <td>12.62</td>\n",
       "    </tr>\n",
       "    <tr>\n",
       "      <th>FIFA 16</th>\n",
       "      <td>8.58</td>\n",
       "    </tr>\n",
       "    <tr>\n",
       "      <th>Call of Duty: Advanced Warfare</th>\n",
       "      <td>7.66</td>\n",
       "    </tr>\n",
       "    <tr>\n",
       "      <th>FIFA 17</th>\n",
       "      <td>7.60</td>\n",
       "    </tr>\n",
       "    <tr>\n",
       "      <th>Fallout 4</th>\n",
       "      <td>7.17</td>\n",
       "    </tr>\n",
       "  </tbody>\n",
       "</table>\n",
       "</div>"
      ],
      "text/plain": [
       "                                ingresos_totales\n",
       "name                                            \n",
       "Grand Theft Auto V                         12.62\n",
       "FIFA 16                                     8.58\n",
       "Call of Duty: Advanced Warfare              7.66\n",
       "FIFA 17                                     7.60\n",
       "Fallout 4                                   7.17"
      ]
     },
     "execution_count": 90,
     "metadata": {},
     "output_type": "execute_result"
    }
   ],
   "source": [
    "#Top 5 juegos con mas ventas en PS4\n",
    "games_ps4=games_2013.query('platform== \"PS4\"').pivot_table(index='name',values='ingresos_totales',aggfunc='sum').sort_values(by='ingresos_totales',ascending=False)\n",
    "games_ps4.head(5)"
   ]
  },
  {
   "cell_type": "markdown",
   "metadata": {},
   "source": [
    "* El juego con mayores ventas es Grand Theft con ventas por encima de 10 millones."
   ]
  },
  {
   "cell_type": "code",
   "execution_count": 91,
   "metadata": {},
   "outputs": [
    {
     "data": {
      "text/html": [
       "<div>\n",
       "<style scoped>\n",
       "    .dataframe tbody tr th:only-of-type {\n",
       "        vertical-align: middle;\n",
       "    }\n",
       "\n",
       "    .dataframe tbody tr th {\n",
       "        vertical-align: top;\n",
       "    }\n",
       "\n",
       "    .dataframe thead th {\n",
       "        text-align: right;\n",
       "    }\n",
       "</style>\n",
       "<table border=\"1\" class=\"dataframe\">\n",
       "  <thead>\n",
       "    <tr style=\"text-align: right;\">\n",
       "      <th></th>\n",
       "      <th>ingresos_totales</th>\n",
       "    </tr>\n",
       "    <tr>\n",
       "      <th>name</th>\n",
       "      <th></th>\n",
       "    </tr>\n",
       "  </thead>\n",
       "  <tbody>\n",
       "    <tr>\n",
       "      <th>Grand Theft Auto V</th>\n",
       "      <td>5.47</td>\n",
       "    </tr>\n",
       "    <tr>\n",
       "      <th>Call of Duty: Advanced Warfare</th>\n",
       "      <td>5.26</td>\n",
       "    </tr>\n",
       "    <tr>\n",
       "      <th>Halo 5: Guardians</th>\n",
       "      <td>4.49</td>\n",
       "    </tr>\n",
       "    <tr>\n",
       "      <th>Fallout 4</th>\n",
       "      <td>4.22</td>\n",
       "    </tr>\n",
       "    <tr>\n",
       "      <th>Assassin's Creed: Unity</th>\n",
       "      <td>3.50</td>\n",
       "    </tr>\n",
       "  </tbody>\n",
       "</table>\n",
       "</div>"
      ],
      "text/plain": [
       "                                ingresos_totales\n",
       "name                                            \n",
       "Grand Theft Auto V                          5.47\n",
       "Call of Duty: Advanced Warfare              5.26\n",
       "Halo 5: Guardians                           4.49\n",
       "Fallout 4                                   4.22\n",
       "Assassin's Creed: Unity                     3.50"
      ]
     },
     "execution_count": 91,
     "metadata": {},
     "output_type": "execute_result"
    }
   ],
   "source": [
    "#Top 5 juegos con mas ventas en XOne\n",
    "games_xone=games_2013.query('platform== \"XOne\"').pivot_table(index='name',values='ingresos_totales',aggfunc='sum').sort_values(by='ingresos_totales',ascending=False)\n",
    "games_xone.head(5)"
   ]
  },
  {
   "cell_type": "markdown",
   "metadata": {},
   "source": [
    "* Los juegos que encontramos en común con PS4 es Grand Theft, podemos ver que ocupan el mismo ranking pero estos juegos son más rentables venderlos en la plataforma de PS4.\n"
   ]
  },
  {
   "cell_type": "code",
   "execution_count": 92,
   "metadata": {},
   "outputs": [
    {
     "data": {
      "text/html": [
       "<div>\n",
       "<style scoped>\n",
       "    .dataframe tbody tr th:only-of-type {\n",
       "        vertical-align: middle;\n",
       "    }\n",
       "\n",
       "    .dataframe tbody tr th {\n",
       "        vertical-align: top;\n",
       "    }\n",
       "\n",
       "    .dataframe thead th {\n",
       "        text-align: right;\n",
       "    }\n",
       "</style>\n",
       "<table border=\"1\" class=\"dataframe\">\n",
       "  <thead>\n",
       "    <tr style=\"text-align: right;\">\n",
       "      <th></th>\n",
       "      <th>ingresos_totales</th>\n",
       "    </tr>\n",
       "    <tr>\n",
       "      <th>name</th>\n",
       "      <th></th>\n",
       "    </tr>\n",
       "  </thead>\n",
       "  <tbody>\n",
       "    <tr>\n",
       "      <th>Luigi's Mansion: Dark Moon</th>\n",
       "      <td>4.59</td>\n",
       "    </tr>\n",
       "    <tr>\n",
       "      <th>Monster Hunter 4 Ultimate</th>\n",
       "      <td>3.89</td>\n",
       "    </tr>\n",
       "    <tr>\n",
       "      <th>The Legend of Zelda: A Link Between Worlds</th>\n",
       "      <td>3.10</td>\n",
       "    </tr>\n",
       "    <tr>\n",
       "      <th>Animal Crossing: Happy Home Designer</th>\n",
       "      <td>3.05</td>\n",
       "    </tr>\n",
       "    <tr>\n",
       "      <th>The Legend of Zelda: Majora's Mask 3D</th>\n",
       "      <td>2.34</td>\n",
       "    </tr>\n",
       "  </tbody>\n",
       "</table>\n",
       "</div>"
      ],
      "text/plain": [
       "                                            ingresos_totales\n",
       "name                                                        \n",
       "Luigi's Mansion: Dark Moon                              4.59\n",
       "Monster Hunter 4 Ultimate                               3.89\n",
       "The Legend of Zelda: A Link Between Worlds              3.10\n",
       "Animal Crossing: Happy Home Designer                    3.05\n",
       "The Legend of Zelda: Majora's Mask 3D                   2.34"
      ]
     },
     "execution_count": 92,
     "metadata": {},
     "output_type": "execute_result"
    }
   ],
   "source": [
    "#Top 5 juegos con mas ventas en 3DS\n",
    "games_3ds=games_2013.query('platform== \"3DS\"').pivot_table(index='name',values='ingresos_totales',aggfunc='sum').sort_values(by='ingresos_totales',ascending=False)\n",
    "games_3ds.head(5)"
   ]
  },
  {
   "cell_type": "markdown",
   "metadata": {},
   "source": [
    "* Para la plataforma de 3DS podemos ver que en el top 5 de juegos no coincide con ninguna de las otras plataformas.\n",
    "* Hay 2 juegos que son muy potenciales como Luigi's y Monster Hunter."
   ]
  },
  {
   "cell_type": "code",
   "execution_count": 93,
   "metadata": {},
   "outputs": [
    {
     "data": {
      "text/html": [
       "<div>\n",
       "<style scoped>\n",
       "    .dataframe tbody tr th:only-of-type {\n",
       "        vertical-align: middle;\n",
       "    }\n",
       "\n",
       "    .dataframe tbody tr th {\n",
       "        vertical-align: top;\n",
       "    }\n",
       "\n",
       "    .dataframe thead th {\n",
       "        text-align: right;\n",
       "    }\n",
       "</style>\n",
       "<table border=\"1\" class=\"dataframe\">\n",
       "  <thead>\n",
       "    <tr style=\"text-align: right;\">\n",
       "      <th></th>\n",
       "      <th>ingresos_totales_x</th>\n",
       "      <th>ingresos_totales_y</th>\n",
       "      <th>ingresos_totales</th>\n",
       "    </tr>\n",
       "    <tr>\n",
       "      <th>name</th>\n",
       "      <th></th>\n",
       "      <th></th>\n",
       "      <th></th>\n",
       "    </tr>\n",
       "  </thead>\n",
       "  <tbody>\n",
       "    <tr>\n",
       "      <th>Grand Theft Auto V</th>\n",
       "      <td>12.62</td>\n",
       "      <td>5.47</td>\n",
       "      <td>NaN</td>\n",
       "    </tr>\n",
       "    <tr>\n",
       "      <th>FIFA 16</th>\n",
       "      <td>8.58</td>\n",
       "      <td>3.25</td>\n",
       "      <td>NaN</td>\n",
       "    </tr>\n",
       "    <tr>\n",
       "      <th>Call of Duty: Advanced Warfare</th>\n",
       "      <td>7.66</td>\n",
       "      <td>5.26</td>\n",
       "      <td>NaN</td>\n",
       "    </tr>\n",
       "    <tr>\n",
       "      <th>FIFA 17</th>\n",
       "      <td>7.60</td>\n",
       "      <td>2.65</td>\n",
       "      <td>NaN</td>\n",
       "    </tr>\n",
       "    <tr>\n",
       "      <th>Fallout 4</th>\n",
       "      <td>7.17</td>\n",
       "      <td>4.22</td>\n",
       "      <td>NaN</td>\n",
       "    </tr>\n",
       "  </tbody>\n",
       "</table>\n",
       "</div>"
      ],
      "text/plain": [
       "                                ingresos_totales_x  ingresos_totales_y  \\\n",
       "name                                                                     \n",
       "Grand Theft Auto V                           12.62                5.47   \n",
       "FIFA 16                                       8.58                3.25   \n",
       "Call of Duty: Advanced Warfare                7.66                5.26   \n",
       "FIFA 17                                       7.60                2.65   \n",
       "Fallout 4                                     7.17                4.22   \n",
       "\n",
       "                                ingresos_totales  \n",
       "name                                              \n",
       "Grand Theft Auto V                           NaN  \n",
       "FIFA 16                                      NaN  \n",
       "Call of Duty: Advanced Warfare               NaN  \n",
       "FIFA 17                                      NaN  \n",
       "Fallout 4                                    NaN  "
      ]
     },
     "execution_count": 93,
     "metadata": {},
     "output_type": "execute_result"
    }
   ],
   "source": [
    "#comparación \n",
    "ps4yxone= games_ps4.merge(right=games_xone,on='name',how='left')\n",
    "merge= ps4yxone.merge(right=games_3ds,on='name',how='left')\n",
    "merge.head(5)"
   ]
  },
  {
   "cell_type": "markdown",
   "metadata": {},
   "source": [
    "* En esta tabla comparativa dado que PS4 es la que tiene mayores ingresos hicimos el merge en base a los juegos del top 5 y podemos ver que para la plataforma Xone no tiene el mismo valor para el usuario que se relfeja en el impacto económico. \n",
    "* POr otro lado vemos que para 3DS son compatibles otros juegos y que son totalmente diferentes a los de PS4 y XOne. \n",
    "* A manera de conclusión los juegos mas rentables y lo que deberíamos enfocarnos en la publicidad son: \n",
    "\n",
    "\n",
    "    PS4: Grand Theft y FIFA 16\t\n",
    "    XOne: Grand Theft Auto V\ty  Call of Duty: Advanced Warfare\n",
    "    3DS: Luigi's Mansion: Dark Moon y Monster Hunter 4 Ultimate\t"
   ]
  },
  {
   "cell_type": "markdown",
   "metadata": {},
   "source": [
    "**Distribución de los ingresos totales por género de los videojuegos.**"
   ]
  },
  {
   "cell_type": "code",
   "execution_count": 94,
   "metadata": {},
   "outputs": [
    {
     "data": {
      "image/png": "[encoded data removed]",
      "text/plain": [
       "<Figure size 648x360 with 1 Axes>"
      ]
     },
     "metadata": {
      "needs_background": "light"
     },
     "output_type": "display_data"
    }
   ],
   "source": [
    "genero= games_2013.pivot_table(index='genre',values='ingresos_totales', aggfunc='sum').sort_values(by='ingresos_totales',ascending=True).plot(kind='bar',color='purple', grid=True, figsize=(9,5))"
   ]
  },
  {
   "cell_type": "markdown",
   "metadata": {},
   "source": [
    "* El género que mayor se vende en el mercado son videojuegos de Acción, ya que es el más popular y el más atractivo para los clientes, con ingresos por encima de los 280 millones.\n",
    "* De igual manera los géneros de Shooter y Sports registran ingresos entre 150 y 280 millones desde el 2013 en adelante.\n",
    "* Los videojuegos de Puzzle, Strategy y Adventure son los últimos géneros que les interesa a la mayoría de los clientes, siendo los menos populares con ingresos menores a 50 millones resultando en no ser potencialmente rentables de inversión."
   ]
  },
  {
   "cell_type": "markdown",
   "metadata": {},
   "source": [
    "**Conclusiones intermedias:**"
   ]
  },
  {
   "cell_type": "markdown",
   "metadata": {},
   "source": [
    "* El ciclo de crecimiento de una platafoma desde que ingresa al mercado hasta que llegue a sus ventas máximas son de 5 años, y a partir del sexto año empieza a decrecer hasta despues de 4 o 5 años en desaparecer totalmente.\n",
    "* El periodo que nos va a servir para el pronóstico del próximo año se escogió desde el 2013 -2016, dado que con el punto anterior las plataformas que hayan sido lanzadas en el 2013 estarán ya muy próximas para que en el 2017 o 2018 lleguen a su pico de ventas.\n",
    "* Las plataformas que identificamos que fueron lanzadas en el 2013, siendo las más populares y con mayores ingresos fueron: PS4, XOne y 3DS.\n",
    "* En los diagramas de caja observamos que no existió diferencias significativas en los ingresos promedios de las 3 plataformas, encontrándose por debajo del 1 millón, pero la PS4 se encontró que tenía ingresos atípicos hasta llegar a los 14 millones, esto se puede explicar a que sean algunos videojuegos que son preferidos por los usuarios y se compensa por el volumen de unidades.\n",
    "* Osbervamos que  existe una correlación muy mínima y negativa entre los ingresos y las críticas de los usuarios. \n",
    "* Para las criticas de los expertos y los ingresos hay una correlación positiva, que a medida que los videojuegos obtengan una buena puntuación por los expertos puede que aumenten los ingresos.\n",
    "* Los géneros más poupulares y rentables son de Acción y Shooter. \n",
    "* En resumen para el próximo año un proyecto rentable será invertir en videojuegos de acción y shooter que sean compatibles para las plataformas de PS4,XOne, 3DS. \n",
    "* Los juegos más rentables por cada plataformas y que deberiamos enfocarnos en aumentar la publicidad son: \n",
    "\n",
    "     PS4: Grand Theft y FIFA 16\t\n",
    "    XOne: Grand Theft Auto V\ty  Call of Duty: Advanced Warfare\n",
    "    3DS: Luigi's Mansion: Dark Moon y Monster Hunter 4 Ultimate\t"
   ]
  },
  {
   "cell_type": "markdown",
   "metadata": {},
   "source": [
    "<div class=\"alert alert-block alert-warning\">\n",
    "    \n",
    "<b>Comentario del revisor</b> <a class=\"tocSkip\"></a>\n",
    "    \n",
    "Muy buen trabajo en esta sección. Podría sugerir algunos elementos para complementarla:\n",
    "    \n",
    "1. Análisis por juegos relevantes.\n",
    "2. Heatmaps para el análisis de correlación (seaborn es una buena opción).\n",
    "3. Transformación logarítmica de las variables de calificación para observar mejor el comportamiento de las mismas.\n",
    "</div>"
   ]
  },
  {
   "cell_type": "markdown",
   "metadata": {},
   "source": [
    "# 5. Perfil de usuario para cada región\n"
   ]
  },
  {
   "cell_type": "markdown",
   "metadata": {},
   "source": [
    "**Veremos la distribucion a lo largo de los años en las ventas para las 3 regiones: Norteamérica, Europa y Japon, y tambien para las ventas en otras regiones**"
   ]
  },
  {
   "cell_type": "code",
   "execution_count": 95,
   "metadata": {},
   "outputs": [
    {
     "data": {
      "text/plain": [
       "<AxesSubplot:title={'center':'Ingresos por regiones'}, xlabel='year_of_release'>"
      ]
     },
     "execution_count": 95,
     "metadata": {},
     "output_type": "execute_result"
    },
    {
     "data": {
      "image/png": "[encoded data removed]",
      "text/plain": [
       "<Figure size 720x360 with 1 Axes>"
      ]
     },
     "metadata": {
      "needs_background": "light"
     },
     "output_type": "display_data"
    }
   ],
   "source": [
    "region_sales= games_2013.pivot_table(index='year_of_release',values=['na_sales','eu_sales','jp_sales','other_sales'],aggfunc='sum').sort_values(by='na_sales',ascending='True').plot(style='o-',title='Ingresos por regiones',figsize=(10,5))\n",
    "region_sales"
   ]
  },
  {
   "cell_type": "code",
   "execution_count": 96,
   "metadata": {},
   "outputs": [
    {
     "data": {
      "text/plain": [
       "346.0"
      ]
     },
     "execution_count": 96,
     "metadata": {},
     "output_type": "execute_result"
    }
   ],
   "source": [
    "games_2013['na_sales'].sum().round()"
   ]
  },
  {
   "cell_type": "code",
   "execution_count": 97,
   "metadata": {},
   "outputs": [
    {
     "data": {
      "text/plain": [
       "311.0"
      ]
     },
     "execution_count": 97,
     "metadata": {},
     "output_type": "execute_result"
    }
   ],
   "source": [
    "games_2013['eu_sales'].sum().round()"
   ]
  },
  {
   "cell_type": "code",
   "execution_count": 98,
   "metadata": {},
   "outputs": [
    {
     "data": {
      "text/plain": [
       "96.0"
      ]
     },
     "execution_count": 98,
     "metadata": {},
     "output_type": "execute_result"
    }
   ],
   "source": [
    "games_2013['other_sales'].sum().round()"
   ]
  },
  {
   "cell_type": "code",
   "execution_count": 99,
   "metadata": {},
   "outputs": [
    {
     "data": {
      "text/plain": [
       "54.0"
      ]
     },
     "execution_count": 99,
     "metadata": {},
     "output_type": "execute_result"
    }
   ],
   "source": [
    "games_2013['jp_sales'].sum().round()"
   ]
  },
  {
   "cell_type": "markdown",
   "metadata": {},
   "source": [
    "* Norteamérica es la región donde se registran las mayores ventas totales desde el 2013. \n",
    "* En segundo lugar: Europa, tercer lugar otros y en cuarto lugar Japón. \n",
    "* Ciertamente podemos ver en el gráfico que durante el transcurso hasta el 2016 vemos un decrecimiento en las ventas en todas las regiones, por lo que nos hace confirmar que no nos encontramos en una de las mejores épocas, como un complemento se debería investigar tambien cómo se encuentra la industria de videjuegos, principales competidores en cada región y observar si se trata de un comportamiento general de recesión."
   ]
  },
  {
   "cell_type": "markdown",
   "metadata": {},
   "source": [
    "**Para cada región: NorteAmérica, Europa y Japón primero se determinará las 5 plataformas principales y rentables.**"
   ]
  },
  {
   "cell_type": "code",
   "execution_count": 100,
   "metadata": {},
   "outputs": [
    {
     "data": {
      "text/plain": [
       "<AxesSubplot:title={'center':'Venta por plataformas para cada región'}, xlabel='platform'>"
      ]
     },
     "execution_count": 100,
     "metadata": {},
     "output_type": "execute_result"
    },
    {
     "data": {
      "image/png": "[encoded data removed]",
      "text/plain": [
       "<Figure size 576x360 with 1 Axes>"
      ]
     },
     "metadata": {
      "needs_background": "light"
     },
     "output_type": "display_data"
    }
   ],
   "source": [
    "platform_per_region=games_2013.pivot_table(index='platform',values=['na_sales','eu_sales','jp_sales'],aggfunc='sum').plot(kind='bar',figsize=(8,5),title='Venta por plataformas para cada región')\n",
    "platform_per_region"
   ]
  },
  {
   "cell_type": "markdown",
   "metadata": {},
   "source": [
    "  **Norteamérica**\n",
    "* Para los clientes de esta región las ventas de PS4 y XOne son las que más ventas se registran para los videojuegos, alcanzando entre 80 y 85 millones.\n",
    "* El top 5 son: PS4, XOne, X360, PS3 y 3DS.\n"
   ]
  },
  {
   "cell_type": "markdown",
   "metadata": {},
   "source": [
    "  **Europa**\n",
    "* Las plataforma que registra más ventas en esta región es PS4 con 140 millones, se ve claramente la gran diferencia con las ventas de las demás plataformas.\n",
    "* El top 5 son: PS4, PS3, XOne, X360 y 3DS. \n"
   ]
  },
  {
   "cell_type": "markdown",
   "metadata": {},
   "source": [
    "**Japón**\n",
    "\n",
    "* En Japón la plataforma que más rentable es la 3DS alcanzando 18 millones \n",
    "* EL top 5 son: 3DS, PS3, PSV, PS4 y WiiU.\n",
    "* En esta región a diferencia de las demás es la que menor ventas registra por plataforma."
   ]
  },
  {
   "cell_type": "markdown",
   "metadata": {},
   "source": [
    "Depués de observar la gráfica con la identificación de cada región, podemos observar que los clientes van a variar el gusto y la preferencia de las plataformas dependiendo donde se encuentren geográficamente. \n",
    "\n",
    "Por ejemplo nos dimos cuenta que tanto clientes de Norteamérica como Europa prefieren los videojuegos en la plataforma PS4, pero en Europa se muestra más fuerte esta preferencia porque es la única que alcanza los 100 millones de dólares, mientras que en Norteamérica tambien los clientes se van por otras plataformas como XOne y X360.\n",
    "\n",
    "Para los clientes de Japón la cuota de mercado es menor comparado con las 2 regiones. Podemos ver que en este país seguramente se debe debido a las diferentes comportamientos de los clientes como otras preferencias en las plataformas para los videojuegos. De igual manera puede ser por la competencia que existe y está mas enfocado en su cultura, o tambien porque no disponen de tanto tiempo libre para jugar. Mientras que en las otras regiones las cuotas de mercado son más rentables, en especial para Europa y Norteamerica con la PS4 que son semejantes en los gustos y preferencias de los clientes. \n"
   ]
  },
  {
   "cell_type": "markdown",
   "metadata": {},
   "source": [
    "**Los cinco géneros principales por cada región.**"
   ]
  },
  {
   "cell_type": "code",
   "execution_count": 101,
   "metadata": {},
   "outputs": [
    {
     "data": {
      "text/plain": [
       "<AxesSubplot:title={'center':'Venta por género de videojuego para cada región'}, xlabel='genre'>"
      ]
     },
     "execution_count": 101,
     "metadata": {},
     "output_type": "execute_result"
    },
    {
     "data": {
      "image/png": "[encoded data removed]",
      "text/plain": [
       "<Figure size 576x360 with 1 Axes>"
      ]
     },
     "metadata": {
      "needs_background": "light"
     },
     "output_type": "display_data"
    }
   ],
   "source": [
    "genre_per_region=games_2013.pivot_table(index='genre',values=['na_sales','eu_sales','jp_sales'],aggfunc='sum').plot(kind='bar',figsize=(8,5),title='Venta por género de videojuego para cada región')\n",
    "genre_per_region"
   ]
  },
  {
   "cell_type": "markdown",
   "metadata": {},
   "source": [
    "**Norteamérica**\n",
    "* El género de Acción y Shooter son los más vendidos, por encima de 90 millones. \n",
    "* El top 5 son: Acción, Shooter,Sports, Role-playing y PLatform. "
   ]
  },
  {
   "cell_type": "markdown",
   "metadata": {},
   "source": [
    "**Europa**\n",
    "* Al igual que la anterior región, Acción y Shooter son los principales géneros llegando a los 75 - 100 millones \n",
    "* EL top 5 son: Acción, Shooter, Sports, Role-Playing y Racing. "
   ]
  },
  {
   "cell_type": "markdown",
   "metadata": {},
   "source": [
    "**Japón**\n",
    "* El top 5 son : Accion,Role-Playing, Shooter, PLatform,Misc y Fighting"
   ]
  },
  {
   "cell_type": "markdown",
   "metadata": {},
   "source": [
    "Por medio del gráfico podemos concluir que el género de Acción es el que predomina para todas las regiones, sin embargo la cuota de mercado para Norteamérica es la mayor con 140 millones, seguido de europa con 100 millones, y en último lugar para Japón con 18 millones.\n",
    "\n",
    "Norteamérica y Europa comparten el mismo top 4 en los géneros, mientras que en Japón el género Role_playing es el que más prefieren y tambien se diferencia de las otras regiones porque en Japón dentro de su top 5 estan géneros como Fighting y Misc, por lo contrario estos géneros son los menos preferidos para Norteamérica y Europa. "
   ]
  },
  {
   "cell_type": "markdown",
   "metadata": {},
   "source": [
    "**Compararemos si las clasificaciones de ESRB afectan a las ventas en regiones individuales.**"
   ]
  },
  {
   "cell_type": "markdown",
   "metadata": {},
   "source": [
    "Hemos investigado para tener la descripción de a que grupo etario corresponde cada clasificación\n",
    "\n",
    "E10: Mayores a 10 años\n",
    "\n",
    "E: Everyone \n",
    "\n",
    "T: Teen desde los 12 años\n",
    "\n",
    "M : Mature entre 16 y 17 años.\n",
    "    "
   ]
  },
  {
   "cell_type": "code",
   "execution_count": 102,
   "metadata": {},
   "outputs": [
    {
     "data": {
      "text/plain": [
       "<AxesSubplot:title={'center':'Ventas por rating para cada región'}, xlabel='rating'>"
      ]
     },
     "execution_count": 102,
     "metadata": {},
     "output_type": "execute_result"
    },
    {
     "data": {
      "image/png": "[encoded data removed]",
      "text/plain": [
       "<Figure size 576x360 with 1 Axes>"
      ]
     },
     "metadata": {
      "needs_background": "light"
     },
     "output_type": "display_data"
    }
   ],
   "source": [
    "esrb_per_region=games_2013.pivot_table(index='rating',values=['na_sales','eu_sales','jp_sales'],aggfunc='sum').plot(kind='bar',figsize=(8,5),title='Ventas por rating para cada región')\n",
    "esrb_per_region"
   ]
  },
  {
   "cell_type": "markdown",
   "metadata": {},
   "source": [
    "**Norteamérica**\n",
    "\n",
    "* En esta región los juegos clasificados como Mature son los que predominan en las ventas alcanzando los 158 millones, y como vimos anteriormente que el género preferido es Acción, corresponde y se alinean estos 2 factores a que la mayor fuente de ingresos provenga de este grupo objetivo de personas de 16 y 18 años que prefieren dicho género.\n",
    "\n",
    "* Los videojuegos para niños a partir de 10 años, adolescentes y para todo público son menores las ventas en gran medida que estan por debajo de los 70 millones, y se relaciona con el tercer género preferido que son los Deportes que estan dentro de estas categorías."
   ]
  },
  {
   "cell_type": "markdown",
   "metadata": {},
   "source": [
    "**Europa**\n",
    "* Observamos la misma tendencia que en Norteamérica para los usuarios de Europa. \n",
    "* Esto tiene que ver a que como hemos visto anteriormente, ambas regiones comparten gustos y preferencias bastante similares, por lo que los juegos de Mature y de Acción son también la principal fuente de ingreso en Europa. \n"
   ]
  },
  {
   "cell_type": "markdown",
   "metadata": {},
   "source": [
    "**Japón**\n",
    "* En Japón la clasificación representa en mayores ingresos para el grupo de adolescentes, todo público y mature principalmente ya que registran ingresos en un rango de 15 a 18 millones. \n",
    "* Podemos concluir con los gráficos de la sección anterior que los adolescentes y el público en general juegan más videojuegos de acción y de role-playing. \n",
    "* Los juegos de niños de 10 años en adelante son los que menores ingresos representan por debajo de 10 millones.\n"
   ]
  },
  {
   "cell_type": "markdown",
   "metadata": {},
   "source": [
    "**Compararemos los juegos más populares por región.**"
   ]
  },
  {
   "cell_type": "code",
   "execution_count": 103,
   "metadata": {},
   "outputs": [
    {
     "data": {
      "text/html": [
       "<div>\n",
       "<style scoped>\n",
       "    .dataframe tbody tr th:only-of-type {\n",
       "        vertical-align: middle;\n",
       "    }\n",
       "\n",
       "    .dataframe tbody tr th {\n",
       "        vertical-align: top;\n",
       "    }\n",
       "\n",
       "    .dataframe thead th {\n",
       "        text-align: right;\n",
       "    }\n",
       "</style>\n",
       "<table border=\"1\" class=\"dataframe\">\n",
       "  <thead>\n",
       "    <tr style=\"text-align: right;\">\n",
       "      <th></th>\n",
       "      <th>na_sales</th>\n",
       "    </tr>\n",
       "    <tr>\n",
       "      <th>name</th>\n",
       "      <th></th>\n",
       "    </tr>\n",
       "  </thead>\n",
       "  <tbody>\n",
       "    <tr>\n",
       "      <th>Grand Theft Auto V</th>\n",
       "      <td>23.84</td>\n",
       "    </tr>\n",
       "    <tr>\n",
       "      <th>Call of Duty: Ghosts</th>\n",
       "      <td>14.71</td>\n",
       "    </tr>\n",
       "    <tr>\n",
       "      <th>Call of Duty: Advanced Warfare</th>\n",
       "      <td>10.51</td>\n",
       "    </tr>\n",
       "    <tr>\n",
       "      <th>Destiny</th>\n",
       "      <td>6.62</td>\n",
       "    </tr>\n",
       "    <tr>\n",
       "      <th>Battlefield 4</th>\n",
       "      <td>6.44</td>\n",
       "    </tr>\n",
       "  </tbody>\n",
       "</table>\n",
       "</div>"
      ],
      "text/plain": [
       "                                na_sales\n",
       "name                                    \n",
       "Grand Theft Auto V                 23.84\n",
       "Call of Duty: Ghosts               14.71\n",
       "Call of Duty: Advanced Warfare     10.51\n",
       "Destiny                             6.62\n",
       "Battlefield 4                       6.44"
      ]
     },
     "execution_count": 103,
     "metadata": {},
     "output_type": "execute_result"
    }
   ],
   "source": [
    "#norteamerica\n",
    "games_per_region=games_2013.pivot_table(index='name',values='na_sales',aggfunc='sum').sort_values(by='na_sales',ascending=False)\n",
    "games_per_region.head(5)\n"
   ]
  },
  {
   "cell_type": "code",
   "execution_count": 104,
   "metadata": {},
   "outputs": [
    {
     "data": {
      "text/html": [
       "<div>\n",
       "<style scoped>\n",
       "    .dataframe tbody tr th:only-of-type {\n",
       "        vertical-align: middle;\n",
       "    }\n",
       "\n",
       "    .dataframe tbody tr th {\n",
       "        vertical-align: top;\n",
       "    }\n",
       "\n",
       "    .dataframe thead th {\n",
       "        text-align: right;\n",
       "    }\n",
       "</style>\n",
       "<table border=\"1\" class=\"dataframe\">\n",
       "  <thead>\n",
       "    <tr style=\"text-align: right;\">\n",
       "      <th></th>\n",
       "      <th>eu_sales</th>\n",
       "    </tr>\n",
       "    <tr>\n",
       "      <th>name</th>\n",
       "      <th></th>\n",
       "    </tr>\n",
       "  </thead>\n",
       "  <tbody>\n",
       "    <tr>\n",
       "      <th>Grand Theft Auto V</th>\n",
       "      <td>23.42</td>\n",
       "    </tr>\n",
       "    <tr>\n",
       "      <th>FIFA 15</th>\n",
       "      <td>12.02</td>\n",
       "    </tr>\n",
       "    <tr>\n",
       "      <th>FIFA 16</th>\n",
       "      <td>11.09</td>\n",
       "    </tr>\n",
       "    <tr>\n",
       "      <th>FIFA 14</th>\n",
       "      <td>10.74</td>\n",
       "    </tr>\n",
       "    <tr>\n",
       "      <th>FIFA 17</th>\n",
       "      <td>8.74</td>\n",
       "    </tr>\n",
       "  </tbody>\n",
       "</table>\n",
       "</div>"
      ],
      "text/plain": [
       "                    eu_sales\n",
       "name                        \n",
       "Grand Theft Auto V     23.42\n",
       "FIFA 15                12.02\n",
       "FIFA 16                11.09\n",
       "FIFA 14                10.74\n",
       "FIFA 17                 8.74"
      ]
     },
     "execution_count": 104,
     "metadata": {},
     "output_type": "execute_result"
    }
   ],
   "source": [
    "#europa\n",
    "games_per_region=games_2013.pivot_table(index='name',values='eu_sales',aggfunc='sum').sort_values(by='eu_sales',ascending=False)\n",
    "games_per_region.head(5)\n"
   ]
  },
  {
   "cell_type": "code",
   "execution_count": 105,
   "metadata": {},
   "outputs": [
    {
     "data": {
      "text/html": [
       "<div>\n",
       "<style scoped>\n",
       "    .dataframe tbody tr th:only-of-type {\n",
       "        vertical-align: middle;\n",
       "    }\n",
       "\n",
       "    .dataframe tbody tr th {\n",
       "        vertical-align: top;\n",
       "    }\n",
       "\n",
       "    .dataframe thead th {\n",
       "        text-align: right;\n",
       "    }\n",
       "</style>\n",
       "<table border=\"1\" class=\"dataframe\">\n",
       "  <thead>\n",
       "    <tr style=\"text-align: right;\">\n",
       "      <th></th>\n",
       "      <th>jp_sales</th>\n",
       "    </tr>\n",
       "    <tr>\n",
       "      <th>name</th>\n",
       "      <th></th>\n",
       "    </tr>\n",
       "  </thead>\n",
       "  <tbody>\n",
       "    <tr>\n",
       "      <th>Monster Hunter 4 Ultimate</th>\n",
       "      <td>2.62</td>\n",
       "    </tr>\n",
       "    <tr>\n",
       "      <th>Splatoon</th>\n",
       "      <td>1.46</td>\n",
       "    </tr>\n",
       "    <tr>\n",
       "      <th>Grand Theft Auto V</th>\n",
       "      <td>1.42</td>\n",
       "    </tr>\n",
       "    <tr>\n",
       "      <th>Animal Crossing: Happy Home Designer</th>\n",
       "      <td>1.40</td>\n",
       "    </tr>\n",
       "    <tr>\n",
       "      <th>Mario Kart 8</th>\n",
       "      <td>1.28</td>\n",
       "    </tr>\n",
       "  </tbody>\n",
       "</table>\n",
       "</div>"
      ],
      "text/plain": [
       "                                      jp_sales\n",
       "name                                          \n",
       "Monster Hunter 4 Ultimate                 2.62\n",
       "Splatoon                                  1.46\n",
       "Grand Theft Auto V                        1.42\n",
       "Animal Crossing: Happy Home Designer      1.40\n",
       "Mario Kart 8                              1.28"
      ]
     },
     "execution_count": 105,
     "metadata": {},
     "output_type": "execute_result"
    }
   ],
   "source": [
    "#japón\n",
    "games_per_region=games_2013.pivot_table(index='name',values='jp_sales',aggfunc='sum').sort_values(by='jp_sales',ascending=False)\n",
    "games_per_region.head(5)\n"
   ]
  },
  {
   "cell_type": "markdown",
   "metadata": {},
   "source": [
    "* Para Norteamérica y Europa dentro del top 5 de juegos mas populares comparte a 2 juegos en común:Grand Theft que registran ventas muy similares de 23 millones cada región.\n",
    "* Evaluamos que en Europa les jugsta más los juegos de fútbol porque se encuentran desde FIFA14-17 por encima de los 8 millones, mientras que en las otras 2 regiones no son muy preferidas.\n",
    "* En Japón podemos ver que son juegos únicos y diferentes que de las otras regiones, Monster Hunter Y el líder de videojuegos con un tope de 2.62 millones."
   ]
  },
  {
   "cell_type": "markdown",
   "metadata": {},
   "source": [
    "**Conclusiones intermedias:**\n",
    "    "
   ]
  },
  {
   "cell_type": "markdown",
   "metadata": {},
   "source": [
    "* Para la región de Norteamérica y Europa los usuarios tienen muy similares preferencias y comportamiento de consumo de los videojuegos. Por ejemplo sus preferencias en los géneros tienen el mismo top 4: acción, shooter, sports y role-playing. En cuánto a las plataformas la PS4 es la que predomina en ambas regiones y adicional las ventas vs la clasificación del grupo etario son mayores para mature lo que complementa a que sea este el grupo objetivo que más rentabilidad representa.\n",
    "\n",
    "\n",
    "* Por otro lado los usuarios de Japón tienen diferencias en cuánto a su preferencia en la plataforma para jugar sus videojuegos siendo la preferible 3DS que es la que genera mayores ingresos. Mientras que  si analizamos su género preferido comparten una similitud con las 2 regiones y es la de acción, y en cuanto a las clasificaciones de edad en Japón el grupo objetivo que es más rentable son los adolescentes. \n",
    "\n",
    "\n",
    "* Finalmente para nuestro proyecto que implementaremos el próximo año debemos hacerlo personalizado por cada región de acuerdo a los patrones de preferencias de los usuarios y que se relacionan en el mayor nivel de ingresos que hemos recibido, los perfiles son: \n",
    "\n",
    "**Juegos y plataformas más relevantes en cada región**\n",
    "\n",
    "**Norteamérica:** Enfocarnos en videojuegos de acción y shooter como: Grand Theft Auto V, Call of Duty: Ghos,Call of Duty: Advanced Warfare\t, Destiny\t y Battlefield 4\t, disponibles en las plataformas de PS4 y Xone, X360, PS3 y 3DS, dirigido a un grupo objetivo de mature.\n",
    " \n",
    " \n",
    "**Europa:** Inversión en videojuegos de acción y shooter como: Grand Theft Auto V, FIFA 15, FIFA 16,\tFIFA 14, FIFA 17, disponibles en la plataformas PS4, PS3, XOne, X360 y 3DS dirigido aun grupo objetivo de mature.\n",
    "  \n",
    "  \n",
    "**Japón:** Desarrollo de videojuegos de role-playing y acción  como:Monster Hunter 4 Ultimate,Splatoon,Grand Theft Auto V\t, Animal Crossing: Happy Home Designer,Mario Kart 8\tque esten disponible en las plataformas 3DS, PS3, PSV, PS4 y WiiU, para un grupo objetivo de adolescentes."
   ]
  },
  {
   "cell_type": "markdown",
   "metadata": {},
   "source": [
    "# 6. Prueba de hipótesis"
   ]
  },
  {
   "cell_type": "markdown",
   "metadata": {},
   "source": [
    "**4.1 Las calificaciones promedio de los usuarios para las plataformas Xbox One y PC son las mismas.**\n"
   ]
  },
  {
   "cell_type": "markdown",
   "metadata": {},
   "source": [
    "Para las pruebas de las dos hipótesis utilizaremos las pruebas de igualdad de varianza de Levene la cual prueba que las muestras provienen de las poblaciones con iguales varianzas. Por lo que formulamos la hipótesis alternativa igual a lo que queremos comprobar que es cierto, es decir los usuarios para las plataformas de XboxOne y PC son las mismas y  la hipóteis nula lo contrario.\n",
    "\n",
    "Estableceremos el nivel de significancia en 0.05 para comprobarlo con el valor p que obtengamos del método."
   ]
  },
  {
   "cell_type": "markdown",
   "metadata": {},
   "source": [
    "* H₀= Las calificaciones promedio de los usuarios para las plataformas Xbox One y PC son diferentes.\n",
    "* H₁ = Las calificaciones promedio de los usuarios para las plataformas Xbox One y PC son las mismas."
   ]
  },
  {
   "cell_type": "code",
   "execution_count": 106,
   "metadata": {},
   "outputs": [
    {
     "data": {
      "text/plain": [
       "14      7.9\n",
       "16      5.4\n",
       "19      6.4\n",
       "26      6.2\n",
       "41      4.1\n",
       "       ... \n",
       "1182    6.8\n",
       "1184    6.0\n",
       "1186    8.2\n",
       "1187    6.6\n",
       "1190    6.7\n",
       "Name: user_score, Length: 182, dtype: float64"
      ]
     },
     "execution_count": 106,
     "metadata": {},
     "output_type": "execute_result"
    }
   ],
   "source": [
    "#Lista de las calificaciones del usuario para XOne\n",
    "df_xbox_user_score= games_2013.query('platform== \"XOne\"')\n",
    "df_xbox_user_score1= df_xbox_user_score['user_score']\n",
    "df_xbox_user_score1"
   ]
  },
  {
   "cell_type": "code",
   "execution_count": 107,
   "metadata": {},
   "outputs": [
    {
     "data": {
      "text/plain": [
       "56      3.9\n",
       "123     7.9\n",
       "145     2.2\n",
       "156     6.0\n",
       "166     5.4\n",
       "       ... \n",
       "1169    8.3\n",
       "1171    6.8\n",
       "1176    7.9\n",
       "1178    1.4\n",
       "1191    7.6\n",
       "Name: user_score, Length: 155, dtype: float64"
      ]
     },
     "execution_count": 107,
     "metadata": {},
     "output_type": "execute_result"
    }
   ],
   "source": [
    "#Lista de las calificaciones del usuario para PC\n",
    "df_pc_user_score= games_2013.query('platform== \"PC\"')\n",
    "df_pc_user_score1= df_pc_user_score['user_score']\n",
    "df_pc_user_score1"
   ]
  },
  {
   "cell_type": "code",
   "execution_count": 108,
   "metadata": {},
   "outputs": [
    {
     "name": "stdout",
     "output_type": "stream",
     "text": [
      "p-value: 0.003897553110130418\n",
      "Rechaza la igualdad de varianzas\n"
     ]
    }
   ],
   "source": [
    "#Método de Levene \n",
    "stat, p = levene(df_xbox_user_score1, df_pc_user_score1)\n",
    "\n",
    "print('p-value:', p)\n",
    "\n",
    "if p < 0.05:\n",
    "    print('Rechaza la igualdad de varianzas')\n",
    "if p > 0.05:\n",
    "    print('No se rechaza la igualdad de varianzas')\n"
   ]
  },
  {
   "cell_type": "code",
   "execution_count": 109,
   "metadata": {},
   "outputs": [
    {
     "data": {
      "text/plain": [
       "[1.9069968429360695, 3.035892752408882]"
      ]
     },
     "execution_count": 109,
     "metadata": {},
     "output_type": "execute_result"
    }
   ],
   "source": [
    "[np.var(x, ddof=1) for x in [df_xbox_user_score1, df_pc_user_score1]]"
   ]
  },
  {
   "cell_type": "code",
   "execution_count": 110,
   "metadata": {},
   "outputs": [
    {
     "name": "stdout",
     "output_type": "stream",
     "text": [
      "Promedios:\n",
      "Promedio del Dataframe de Xbox One: 6.521428571428572\n",
      "Promedio del Dataframe de PC: 6.2696774193548395\n"
     ]
    }
   ],
   "source": [
    "#Promedios de las 2 listas\n",
    "print('Promedios:')\n",
    "print('Promedio del Dataframe de Xbox One:', df_xbox_user_score1.mean())\n",
    "print('Promedio del Dataframe de PC:', df_pc_user_score1.mean())"
   ]
  },
  {
   "cell_type": "code",
   "execution_count": 111,
   "metadata": {},
   "outputs": [
    {
     "name": "stdout",
     "output_type": "stream",
     "text": [
      "p-value: 0.14012658403611647\n",
      "No rechazamos la hipótesis nula\n"
     ]
    }
   ],
   "source": [
    "#Prueba de las medias\n",
    "alpha= 0.05\n",
    "results= st.ttest_ind(df_xbox_user_score1, df_pc_user_score1, equal_var = True)\n",
    "\n",
    "print('p-value:', results.pvalue)\n",
    "\n",
    "if results.pvalue < alpha:\n",
    "    print(\"Rechazamos la hipótesis nula\")\n",
    "    \n",
    "else:\n",
    "    print(\"No rechazamos la hipótesis nula\")"
   ]
  },
  {
   "cell_type": "markdown",
   "metadata": {},
   "source": [
    "* A través del método de Levene, el valor p indica que al ser de 0.03% y ser menor que el nivel de significancia se debe rechazar la igualdad de varianzas y se concluye que si hay diferencias entre las variaciones de la población como podemos ver los resultados de 1.90 y 3.03\n",
    "\n",
    "* En las pruebas de las medias el valor p es mayor al nivel de significancia por lo tanto no se rechaza la hipotesis nula acerca de que los promedios de los usuarios para las plataformas XOne y PC son diferentes.\n"
   ]
  },
  {
   "cell_type": "markdown",
   "metadata": {},
   "source": [
    "**4.2 Las calificaciones promedio de los usuarios para los géneros de Acción y Deportes son diferentes.**"
   ]
  },
  {
   "cell_type": "markdown",
   "metadata": {},
   "source": [
    "* H₀= Las calificaciones promedio de los usuarios para los género de acción y deportes son diferentes.\n",
    "* H₁ = Las calificaciones promedio de los usuarios para los género de acción y deportes son iguales."
   ]
  },
  {
   "cell_type": "code",
   "execution_count": 112,
   "metadata": {},
   "outputs": [
    {
     "data": {
      "text/plain": [
       "0       8.2\n",
       "1       8.1\n",
       "2       8.3\n",
       "12      9.1\n",
       "14      7.9\n",
       "       ... \n",
       "1184    6.0\n",
       "1188    8.5\n",
       "1189    5.1\n",
       "1190    6.7\n",
       "1191    7.6\n",
       "Name: user_score, Length: 389, dtype: float64"
      ]
     },
     "execution_count": 112,
     "metadata": {},
     "output_type": "execute_result"
    }
   ],
   "source": [
    "#Lista de las calificaciones del usuario para acción\n",
    "df_accion_user_score= games_2013.query('genre== \"Action\"')\n",
    "df_accion_user_score1=df_accion_user_score['user_score']\n",
    "df_accion_user_score1"
   ]
  },
  {
   "cell_type": "code",
   "execution_count": 113,
   "metadata": {},
   "outputs": [
    {
     "data": {
      "text/plain": [
       "5       4.3\n",
       "7       5.0\n",
       "10      4.3\n",
       "11      5.7\n",
       "25      4.5\n",
       "       ... \n",
       "1149    8.8\n",
       "1151    6.9\n",
       "1167    4.5\n",
       "1178    1.4\n",
       "1187    6.6\n",
       "Name: user_score, Length: 160, dtype: float64"
      ]
     },
     "execution_count": 113,
     "metadata": {},
     "output_type": "execute_result"
    }
   ],
   "source": [
    "#Lista de las calificaciones del usuario para deportes\n",
    "df_deportes_user_score=games_2013.query('genre== \"Sports\"')\n",
    "df_deportes_user_score1=df_deportes_user_score['user_score']\n",
    "df_deportes_user_score1"
   ]
  },
  {
   "cell_type": "code",
   "execution_count": 114,
   "metadata": {},
   "outputs": [
    {
     "name": "stdout",
     "output_type": "stream",
     "text": [
      "p-value: 4.2566688218274047e-07\n",
      "Rechaza la igualdad de varianzas\n"
     ]
    }
   ],
   "source": [
    "#Método de Levene\n",
    "stat, p = levene(df_accion_user_score1, df_deportes_user_score1)\n",
    "\n",
    "print('p-value:', p)\n",
    "\n",
    "if p < 0.05:\n",
    "    print('Rechaza la igualdad de varianzas')\n",
    "if p > 0.05:\n",
    "    print('No se rechaza la igualdad de varianzas')\n"
   ]
  },
  {
   "cell_type": "code",
   "execution_count": 115,
   "metadata": {},
   "outputs": [
    {
     "data": {
      "text/plain": [
       "[1.7693609042482705, 3.180612814465409]"
      ]
     },
     "execution_count": 115,
     "metadata": {},
     "output_type": "execute_result"
    }
   ],
   "source": [
    "[np.var(x, ddof=1) for x in [df_accion_user_score1, df_deportes_user_score1]]"
   ]
  },
  {
   "cell_type": "code",
   "execution_count": 116,
   "metadata": {},
   "outputs": [
    {
     "name": "stdout",
     "output_type": "stream",
     "text": [
      "Promedios:\n",
      "Promedio de videojuegos de acción: 6.837532133676092\n",
      "Promedio de videojuegos de deportes: 5.238124999999999\n"
     ]
    }
   ],
   "source": [
    "#Promedios de las 2 listas\n",
    "print('Promedios:')\n",
    "print('Promedio de videojuegos de acción:', df_accion_user_score1.mean())\n",
    "print('Promedio de videojuegos de deportes:', df_deportes_user_score1.mean())"
   ]
  },
  {
   "cell_type": "code",
   "execution_count": 117,
   "metadata": {},
   "outputs": [
    {
     "name": "stdout",
     "output_type": "stream",
     "text": [
      "p-value: 1.4460039700704315e-20\n",
      "Rechazamos la hipótesis nula\n"
     ]
    }
   ],
   "source": [
    "#Prueba de las medias\n",
    "alpha= 0.05\n",
    "results= st.ttest_ind(df_accion_user_score1, df_deportes_user_score1, equal_var = False)\n",
    "\n",
    "print('p-value:', results.pvalue)\n",
    "\n",
    "if results.pvalue < alpha:\n",
    "    print(\"Rechazamos la hipótesis nula\")\n",
    "    \n",
    "else:\n",
    "    print(\"No rechazamos la hipótesis nula\")"
   ]
  },
  {
   "cell_type": "markdown",
   "metadata": {},
   "source": [
    "* A través del método de Levene, el valor p indica que al ser menor que el nivel de significancia se debe rechazar que las varianzas poblacionales son iguales y se concluye que si hay diferencias entre las variaciones de la población como podemos ver los resultados de 1.76 y 3.18\n",
    "\n",
    "* En la prueba de medias el valor p es menor al nivel de significancia por lo tanto se rechaza la hipótesis de que las calificaciones promedio de los usuarios para los género de acción y deportes sean diferentes.\n",
    "\n",
    "\n"
   ]
  },
  {
   "cell_type": "markdown",
   "metadata": {},
   "source": [
    "# 7. Conclusión General"
   ]
  },
  {
   "cell_type": "markdown",
   "metadata": {},
   "source": [
    "**1) Modelo para el 2017**\n",
    "\n",
    "* En el análisis de las plataformas más rentables desde el 2013 en adelante encontramos que de manera general la empresa obtuvo mayores ingresos en los videojuegos para las plataformas PS4, XOne y3DS dado que la vida útil son de 5 años hasta llegar a su madurez ya que su lanzamiento fue en el 2013, pero a pesar de que 3DS fue lanzado en el 2011 es una plataforma con potencial para Japón.\n",
    "\n",
    "\n",
    "* Para estas 3 plataformas encontramos que tienen valores atípicos en sus ingresos máximos y se puede deber a que sean específicamente juegos del género de acción y shooter ya que son los más rentables y preferidos para los usuarios y que los valores altos se reflejen por el volumen en las cantidades compradas. \n",
    "\n",
    "\n",
    "* Analizamos que esos valores atípicos en los ingresos máximos para la plataforma PS4 y Xone el juego más popular fue: Call of Duty: Black Ops 3, y para la 3DS fue Pokemon X/Pokemon.\n",
    "\n",
    "\n",
    "* La calificación del experto en nuestros videojuegos tiene un correlación medianamente que impacta al nivel de ingresos, es por eso que también se debería reforzar la importancia de este puntaje en cuánto a la calidad del producto.\n",
    "\n",
    "\n",
    "* A nivel regional osbervamos que Norteamerica registra los mayores niveles de ingreso, por lo que deberíamos invertir especialmente en videojuegos de género acción y shooter como: Grand Theft Auto V, Call of Duty: Ghos,Call of Duty: Advanced Warfare\t, Destiny\t y Battlefield 4, disponibles en las plataformas de PS4 y Xone, X360, PS3 y 3DS, dirigido a un grupo objetivo de mature.\n",
    "\n",
    "\n",
    "* Para Europa se encuentra en el segundo lugar en el nivel de ingresos, las campañas publicitarias deberían enfocarse en videojuegos de género acción y shooter como: Grand Theft Auto V, FIFA 15, FIFA 16,\tFIFA 14, FIFA 17 disponibles en la plataformas PS4, PS3, XOne, X360 y 3DS dirigido aun grupo objetivo de mature.\n",
    "\n",
    "\n",
    "* Japón en la región que registra menores ingresos, es un país que representa un reto comercial y estratégico para potencializar las ventas  ya que vimos que existen diferencias en las preferencias con las otras regiones en cuanto a los juegos, plataformas y géneros.  Se debería invertir en videojuegos de role-playing y acción  como:Monster Hunter 4 Ultimate,Splatoon,Grand Theft Auto V\t, Animal Crossing: Happy Home Designer,Mario Kart 8, que esten disponible en las plataformas 3DS, PS3, PSV, PS4 y WiiU, para un grupo objetivo de adolescentes.\n",
    "\n",
    "\n",
    "**2) Hipótesis:** Empleamos el método de las pruebas de las medias y el de Levene para las varianzas\n",
    "\n",
    "* No se rechaza la hipótesis que el promedio de la calificación de los usuarios para XboxOne y PC sean diferentes, dado la probabilidad de que nuestra estimación coincida con la hipótesis nula fue del 14%.\n",
    "\n",
    "* La hipótesis que el promedio de la calificación de los usuarios para el género de acción y deportes son diferentes fue rechazada porque su probabilidad fue menor al nivel de significancia.\n"
   ]
  },
  {
   "cell_type": "markdown",
   "metadata": {},
   "source": [
    "<div class=\"alert alert-block alert-danger\">\n",
    "    \n",
    "# Comentarios generales\n",
    "    \n",
    "<b>Comentario del revisor</b> <a class=\"tocSkip\"></a>\n",
    "\n",
    "Buen trabajo, Sara. Es necesario corregir la manipulación y limpieza de datos inicial para después corregir lo sugerido en las secciones posteriores. Ten en cuenta que, dado que la eliminación de datos fue grande, las conclusiones y las valores que las sustentan cambiarán.\n",
    "    \n",
    "Si tienes dudas, puedes escribir por este medio o consultar con tus tutores.\n",
    "    \n",
    "PD.: la selección de los años es correcta.\n",
    "</div>"
   ]
  },
  {
   "cell_type": "markdown",
   "metadata": {},
   "source": [
    "<div class=\"alert alert-block alert-warning\">\n",
    "    \n",
    "# Comentarios generales 2\n",
    "    \n",
    "<b>Comentario del revisor</b> <a class=\"tocSkip\"></a>\n",
    "\n",
    "Buen trabajo, Sara. Nos quedan dos detalles relacionados con las pruebas de hipótesis y el proyecto será aprobado.\n",
    "</div>"
   ]
  },
  {
   "cell_type": "markdown",
   "metadata": {},
   "source": [
    "<div class=\"alert alert-block alert-danger\">\n",
    "    \n",
    "# Comentarios generales 3\n",
    "    \n",
    "<b>Comentario del revisor</b> <a class=\"tocSkip\"></a>\n",
    "\n",
    "Bien hecho, Sara. Ha sido corregido satisfactoriamente el problema de la prueba de hipótesis pero aún conservas un problema con la variable user_score. Al rellenar con cero, el cálculo de la media en las pruebas de hipótesis va a desviarse mucho de la realidad. Lo mejor es dejar los valores faltantes como `nan` sin importar el tipo de dato. Al final será más robusta la prueba de hipótesis.\n",
    "</div>"
   ]
  },
  {
   "cell_type": "markdown",
   "metadata": {},
   "source": [
    "<div class=\"alert alert-block alert-success\">\n",
    "    \n",
    "# Comentarios generales 4\n",
    "    \n",
    "<b>Comentario del revisor</b> <a class=\"tocSkip\"></a>\n",
    "\n",
    "¡Gran trabajo, Sara! Has aprobado tu proyecto integrado y concluido el primer módulo satisfactoriamente.\n",
    "    \n",
    "¡Felicitaciones!\n",
    "</div>"
   ]
  }
 ],
 "metadata": {
  "ExecuteTimeLog": [
   {
    "duration": 190,
    "start_time": "2022-09-01T04:22:52.465Z"
   },
   {
    "duration": 1298,
    "start_time": "2022-09-01T04:23:03.997Z"
   },
   {
    "duration": 3,
    "start_time": "2022-09-01T04:23:11.067Z"
   },
   {
    "duration": 96,
    "start_time": "2022-09-01T04:25:44.717Z"
   },
   {
    "duration": 45,
    "start_time": "2022-09-01T04:26:19.635Z"
   },
   {
    "duration": 14,
    "start_time": "2022-09-01T04:26:37.044Z"
   },
   {
    "duration": 2,
    "start_time": "2022-09-01T04:26:39.966Z"
   },
   {
    "duration": 17,
    "start_time": "2022-09-01T04:26:40.565Z"
   },
   {
    "duration": 14,
    "start_time": "2022-09-01T04:29:52.350Z"
   },
   {
    "duration": 180,
    "start_time": "2022-09-01T04:31:49.024Z"
   },
   {
    "duration": 446,
    "start_time": "2022-09-01T04:32:18.197Z"
   },
   {
    "duration": 49,
    "start_time": "2022-09-01T04:32:24.595Z"
   },
   {
    "duration": 8,
    "start_time": "2022-09-01T04:33:07.527Z"
   },
   {
    "duration": 15,
    "start_time": "2022-09-01T04:33:10.342Z"
   },
   {
    "duration": 80,
    "start_time": "2022-09-01T04:33:59.985Z"
   },
   {
    "duration": 22,
    "start_time": "2022-09-01T04:49:24.078Z"
   },
   {
    "duration": 13,
    "start_time": "2022-09-01T04:49:29.221Z"
   },
   {
    "duration": 97,
    "start_time": "2022-09-01T04:51:57.332Z"
   },
   {
    "duration": 80,
    "start_time": "2022-09-01T04:52:15.464Z"
   },
   {
    "duration": 99,
    "start_time": "2022-09-01T04:53:13.907Z"
   },
   {
    "duration": 13,
    "start_time": "2022-09-01T04:54:41.069Z"
   },
   {
    "duration": 96,
    "start_time": "2022-09-01T04:55:15.494Z"
   },
   {
    "duration": 4,
    "start_time": "2022-09-01T04:55:31.793Z"
   },
   {
    "duration": 75,
    "start_time": "2022-09-01T04:56:15.862Z"
   },
   {
    "duration": 71,
    "start_time": "2022-09-01T04:59:21.307Z"
   },
   {
    "duration": 7,
    "start_time": "2022-09-01T04:59:25.548Z"
   },
   {
    "duration": 14,
    "start_time": "2022-09-01T05:00:14.348Z"
   },
   {
    "duration": 33,
    "start_time": "2022-09-01T05:00:50.415Z"
   },
   {
    "duration": 4,
    "start_time": "2022-09-01T05:00:59.324Z"
   },
   {
    "duration": 49,
    "start_time": "2022-09-01T05:00:59.702Z"
   },
   {
    "duration": 15,
    "start_time": "2022-09-01T05:01:00.065Z"
   },
   {
    "duration": 13,
    "start_time": "2022-09-01T05:01:00.464Z"
   },
   {
    "duration": 4,
    "start_time": "2022-09-01T05:01:02.257Z"
   },
   {
    "duration": 19,
    "start_time": "2022-09-01T05:01:04.876Z"
   },
   {
    "duration": 16,
    "start_time": "2022-09-01T05:03:28.349Z"
   },
   {
    "duration": 3,
    "start_time": "2022-09-01T05:03:52.540Z"
   },
   {
    "duration": 50,
    "start_time": "2022-09-01T05:03:52.944Z"
   },
   {
    "duration": 13,
    "start_time": "2022-09-01T05:03:53.346Z"
   },
   {
    "duration": 13,
    "start_time": "2022-09-01T05:03:53.701Z"
   },
   {
    "duration": 3,
    "start_time": "2022-09-01T05:03:54.861Z"
   },
   {
    "duration": 13,
    "start_time": "2022-09-01T05:03:55.469Z"
   },
   {
    "duration": 10,
    "start_time": "2022-09-01T05:04:22.828Z"
   },
   {
    "duration": 12,
    "start_time": "2022-09-01T05:06:23.214Z"
   },
   {
    "duration": 17,
    "start_time": "2022-09-01T05:07:23.310Z"
   },
   {
    "duration": 96,
    "start_time": "2022-09-01T05:09:38.474Z"
   },
   {
    "duration": 76,
    "start_time": "2022-09-01T05:18:36.514Z"
   },
   {
    "duration": 23,
    "start_time": "2022-09-01T05:25:00.104Z"
   },
   {
    "duration": 19,
    "start_time": "2022-09-01T05:28:35.677Z"
   },
   {
    "duration": 16,
    "start_time": "2022-09-01T05:29:05.804Z"
   },
   {
    "duration": 76,
    "start_time": "2022-09-01T05:31:45.216Z"
   },
   {
    "duration": 14,
    "start_time": "2022-09-01T05:32:05.360Z"
   },
   {
    "duration": 8,
    "start_time": "2022-09-01T05:32:23.039Z"
   },
   {
    "duration": 3,
    "start_time": "2022-09-01T05:32:32.172Z"
   },
   {
    "duration": 15,
    "start_time": "2022-09-01T05:32:48.365Z"
   },
   {
    "duration": 6,
    "start_time": "2022-09-01T05:35:21.504Z"
   },
   {
    "duration": 9,
    "start_time": "2022-09-01T05:35:29.001Z"
   },
   {
    "duration": 5,
    "start_time": "2022-09-01T05:36:13.269Z"
   },
   {
    "duration": 3,
    "start_time": "2022-09-01T05:38:08.057Z"
   },
   {
    "duration": 27,
    "start_time": "2022-09-01T05:39:08.068Z"
   },
   {
    "duration": 3,
    "start_time": "2022-09-01T05:40:21.662Z"
   },
   {
    "duration": 4,
    "start_time": "2022-09-01T05:40:41.056Z"
   },
   {
    "duration": 3,
    "start_time": "2022-09-01T05:40:43.713Z"
   },
   {
    "duration": 3,
    "start_time": "2022-09-01T05:40:47.814Z"
   },
   {
    "duration": 3,
    "start_time": "2022-09-01T05:41:02.493Z"
   },
   {
    "duration": 5,
    "start_time": "2022-09-01T05:41:03.044Z"
   },
   {
    "duration": 21,
    "start_time": "2022-09-01T05:41:51.716Z"
   },
   {
    "duration": 23,
    "start_time": "2022-09-01T05:41:56.904Z"
   },
   {
    "duration": 19,
    "start_time": "2022-09-01T05:43:07.043Z"
   },
   {
    "duration": 26,
    "start_time": "2022-09-01T05:43:11.716Z"
   },
   {
    "duration": 3,
    "start_time": "2022-09-01T05:43:15.710Z"
   },
   {
    "duration": 5,
    "start_time": "2022-09-01T05:43:16.264Z"
   },
   {
    "duration": 5,
    "start_time": "2022-09-01T05:43:25.984Z"
   },
   {
    "duration": 23,
    "start_time": "2022-09-01T05:43:31.117Z"
   },
   {
    "duration": 75,
    "start_time": "2022-09-01T05:44:21.685Z"
   },
   {
    "duration": 100,
    "start_time": "2022-09-01T05:46:46.221Z"
   },
   {
    "duration": 18,
    "start_time": "2022-09-01T06:02:14.730Z"
   },
   {
    "duration": 115,
    "start_time": "2022-09-01T06:04:49.520Z"
   },
   {
    "duration": 188,
    "start_time": "2022-09-01T06:05:39.473Z"
   },
   {
    "duration": 16,
    "start_time": "2022-09-01T06:06:12.913Z"
   },
   {
    "duration": 277,
    "start_time": "2022-09-01T06:06:25.663Z"
   },
   {
    "duration": 19,
    "start_time": "2022-09-01T06:06:56.291Z"
   },
   {
    "duration": 18,
    "start_time": "2022-09-01T06:07:18.959Z"
   },
   {
    "duration": 25,
    "start_time": "2022-09-01T06:07:53.558Z"
   },
   {
    "duration": 73,
    "start_time": "2022-09-01T06:08:07.721Z"
   },
   {
    "duration": 95404,
    "start_time": "2022-09-01T06:08:10.493Z"
   },
   {
    "duration": 75,
    "start_time": "2022-09-01T06:10:13.885Z"
   },
   {
    "duration": 94120,
    "start_time": "2022-09-01T06:10:23.163Z"
   },
   {
    "duration": 14,
    "start_time": "2022-09-01T06:11:57.284Z"
   },
   {
    "duration": 87,
    "start_time": "2022-09-01T06:12:55.329Z"
   },
   {
    "duration": 146,
    "start_time": "2022-09-01T06:13:06.237Z"
   },
   {
    "duration": 4,
    "start_time": "2022-09-01T06:13:36.089Z"
   },
   {
    "duration": 75,
    "start_time": "2022-09-01T06:13:45.813Z"
   },
   {
    "duration": 266,
    "start_time": "2022-09-01T06:16:01.325Z"
   },
   {
    "duration": 202,
    "start_time": "2022-09-01T06:16:35.184Z"
   },
   {
    "duration": 203,
    "start_time": "2022-09-01T06:16:41.869Z"
   },
   {
    "duration": 93814,
    "start_time": "2022-09-01T06:16:46.124Z"
   },
   {
    "duration": 223,
    "start_time": "2022-09-01T06:18:41.570Z"
   },
   {
    "duration": 95709,
    "start_time": "2022-09-01T06:20:40.816Z"
   },
   {
    "duration": 390,
    "start_time": "2022-09-01T06:22:16.527Z"
   },
   {
    "duration": 7,
    "start_time": "2022-09-01T06:23:27.462Z"
   },
   {
    "duration": 4,
    "start_time": "2022-09-01T06:23:42.013Z"
   },
   {
    "duration": 144,
    "start_time": "2022-09-01T06:24:38.588Z"
   },
   {
    "duration": 24,
    "start_time": "2022-09-01T06:24:55.913Z"
   },
   {
    "duration": 17,
    "start_time": "2022-09-01T06:25:01.918Z"
   },
   {
    "duration": 4,
    "start_time": "2022-09-01T06:25:08.655Z"
   },
   {
    "duration": 268,
    "start_time": "2022-09-01T06:26:51.056Z"
   },
   {
    "duration": 296,
    "start_time": "2022-09-01T06:27:15.925Z"
   },
   {
    "duration": 293,
    "start_time": "2022-09-01T06:27:25.429Z"
   },
   {
    "duration": 15,
    "start_time": "2022-09-01T06:27:45.730Z"
   },
   {
    "duration": 18,
    "start_time": "2022-09-01T06:27:51.495Z"
   },
   {
    "duration": 24,
    "start_time": "2022-09-01T06:28:16.666Z"
   },
   {
    "duration": 10,
    "start_time": "2022-09-01T06:28:25.236Z"
   },
   {
    "duration": 15,
    "start_time": "2022-09-01T06:28:48.767Z"
   },
   {
    "duration": 300,
    "start_time": "2022-09-01T06:29:42.070Z"
   },
   {
    "duration": 310,
    "start_time": "2022-09-01T06:29:54.755Z"
   },
   {
    "duration": 294,
    "start_time": "2022-09-01T06:30:00.288Z"
   },
   {
    "duration": 340,
    "start_time": "2022-09-01T06:30:06.670Z"
   },
   {
    "duration": 295,
    "start_time": "2022-09-01T06:30:15.403Z"
   },
   {
    "duration": 317,
    "start_time": "2022-09-01T06:30:22.188Z"
   },
   {
    "duration": 27,
    "start_time": "2022-09-01T06:30:30.654Z"
   },
   {
    "duration": 310,
    "start_time": "2022-09-01T06:30:33.612Z"
   },
   {
    "duration": 5,
    "start_time": "2022-09-01T06:31:20.460Z"
   },
   {
    "duration": 4,
    "start_time": "2022-09-01T06:31:30.510Z"
   },
   {
    "duration": 53,
    "start_time": "2022-09-01T06:31:30.955Z"
   },
   {
    "duration": 15,
    "start_time": "2022-09-01T06:31:31.427Z"
   },
   {
    "duration": 13,
    "start_time": "2022-09-01T06:31:32.260Z"
   },
   {
    "duration": 5,
    "start_time": "2022-09-01T06:31:35.506Z"
   },
   {
    "duration": 17,
    "start_time": "2022-09-01T06:31:38.507Z"
   },
   {
    "duration": 20,
    "start_time": "2022-09-01T06:31:40.084Z"
   },
   {
    "duration": 19,
    "start_time": "2022-09-01T06:31:41.457Z"
   },
   {
    "duration": 3,
    "start_time": "2022-09-01T06:31:41.929Z"
   },
   {
    "duration": 4,
    "start_time": "2022-09-01T06:31:42.209Z"
   },
   {
    "duration": 108,
    "start_time": "2022-09-01T06:31:42.421Z"
   },
   {
    "duration": 15,
    "start_time": "2022-09-01T06:31:42.603Z"
   },
   {
    "duration": 323,
    "start_time": "2022-09-01T06:31:45.103Z"
   },
   {
    "duration": 6,
    "start_time": "2022-09-01T06:32:11.654Z"
   },
   {
    "duration": 23,
    "start_time": "2022-09-01T06:34:09.770Z"
   },
   {
    "duration": 19,
    "start_time": "2022-09-01T06:34:49.555Z"
   },
   {
    "duration": 26,
    "start_time": "2022-09-01T06:35:06.804Z"
   },
   {
    "duration": 3,
    "start_time": "2022-09-01T06:35:29.704Z"
   },
   {
    "duration": 53,
    "start_time": "2022-09-01T06:35:30.111Z"
   },
   {
    "duration": 13,
    "start_time": "2022-09-01T06:35:30.538Z"
   },
   {
    "duration": 14,
    "start_time": "2022-09-01T06:35:30.929Z"
   },
   {
    "duration": 3,
    "start_time": "2022-09-01T06:35:31.719Z"
   },
   {
    "duration": 24,
    "start_time": "2022-09-01T06:35:32.179Z"
   },
   {
    "duration": 21,
    "start_time": "2022-09-01T06:36:31.937Z"
   },
   {
    "duration": 19,
    "start_time": "2022-09-01T06:36:41.355Z"
   },
   {
    "duration": 18,
    "start_time": "2022-09-01T06:36:54.598Z"
   },
   {
    "duration": 19,
    "start_time": "2022-09-01T06:36:55.855Z"
   },
   {
    "duration": 3,
    "start_time": "2022-09-01T06:36:56.954Z"
   },
   {
    "duration": 4,
    "start_time": "2022-09-01T06:36:57.554Z"
   },
   {
    "duration": 92,
    "start_time": "2022-09-01T06:36:58.487Z"
   },
   {
    "duration": 15,
    "start_time": "2022-09-01T06:36:59.495Z"
   },
   {
    "duration": 255,
    "start_time": "2022-09-01T06:37:03.049Z"
   },
   {
    "duration": 301,
    "start_time": "2022-09-01T06:37:22.373Z"
   },
   {
    "duration": 267,
    "start_time": "2022-09-01T06:37:31.508Z"
   },
   {
    "duration": 252,
    "start_time": "2022-09-01T06:37:43.438Z"
   },
   {
    "duration": 257,
    "start_time": "2022-09-01T06:37:48.469Z"
   },
   {
    "duration": 8,
    "start_time": "2022-09-01T06:38:36.839Z"
   },
   {
    "duration": 76,
    "start_time": "2022-09-01T06:43:59.395Z"
   },
   {
    "duration": 12,
    "start_time": "2022-09-01T06:50:37.992Z"
   },
   {
    "duration": 218,
    "start_time": "2022-09-01T06:51:01.126Z"
   },
   {
    "duration": 15,
    "start_time": "2022-09-01T06:51:49.718Z"
   },
   {
    "duration": 231,
    "start_time": "2022-09-01T06:52:00.426Z"
   },
   {
    "duration": 147,
    "start_time": "2022-09-01T06:52:42.979Z"
   },
   {
    "duration": 228,
    "start_time": "2022-09-01T06:53:00.265Z"
   },
   {
    "duration": 224,
    "start_time": "2022-09-01T06:53:10.608Z"
   },
   {
    "duration": 205,
    "start_time": "2022-09-01T06:53:15.230Z"
   },
   {
    "duration": 221,
    "start_time": "2022-09-01T06:53:43.723Z"
   },
   {
    "duration": 222,
    "start_time": "2022-09-01T06:53:51.662Z"
   },
   {
    "duration": 190,
    "start_time": "2022-09-01T07:01:45.287Z"
   },
   {
    "duration": 45,
    "start_time": "2022-09-01T07:04:17.576Z"
   },
   {
    "duration": 92,
    "start_time": "2022-09-01T07:04:27.238Z"
   },
   {
    "duration": 201,
    "start_time": "2022-09-01T07:04:32.899Z"
   },
   {
    "duration": 420,
    "start_time": "2022-09-01T07:05:01.308Z"
   },
   {
    "duration": 176,
    "start_time": "2022-09-01T07:07:05.328Z"
   },
   {
    "duration": 80,
    "start_time": "2022-09-01T07:07:30.530Z"
   },
   {
    "duration": 82,
    "start_time": "2022-09-01T07:07:36.272Z"
   },
   {
    "duration": 22,
    "start_time": "2022-09-01T07:07:43.802Z"
   },
   {
    "duration": 375,
    "start_time": "2022-09-01T07:07:58.831Z"
   },
   {
    "duration": 353,
    "start_time": "2022-09-01T07:08:10.439Z"
   },
   {
    "duration": 391,
    "start_time": "2022-09-01T07:08:25.507Z"
   },
   {
    "duration": 350,
    "start_time": "2022-09-01T07:08:32.820Z"
   },
   {
    "duration": 1040,
    "start_time": "2022-09-01T23:18:49.610Z"
   },
   {
    "duration": 91,
    "start_time": "2022-09-01T23:18:50.652Z"
   },
   {
    "duration": 14,
    "start_time": "2022-09-01T23:18:50.745Z"
   },
   {
    "duration": 17,
    "start_time": "2022-09-01T23:18:53.377Z"
   },
   {
    "duration": 4,
    "start_time": "2022-09-01T23:19:00.772Z"
   },
   {
    "duration": 19,
    "start_time": "2022-09-01T23:19:23.163Z"
   },
   {
    "duration": 16,
    "start_time": "2022-09-01T23:20:05.556Z"
   },
   {
    "duration": 18,
    "start_time": "2022-09-01T23:20:29.265Z"
   },
   {
    "duration": 3,
    "start_time": "2022-09-01T23:20:33.912Z"
   },
   {
    "duration": 4,
    "start_time": "2022-09-01T23:20:34.283Z"
   },
   {
    "duration": 82,
    "start_time": "2022-09-01T23:20:34.965Z"
   },
   {
    "duration": 81,
    "start_time": "2022-09-01T23:36:44.707Z"
   },
   {
    "duration": 13,
    "start_time": "2022-09-01T23:36:45.036Z"
   },
   {
    "duration": 251,
    "start_time": "2022-09-01T23:36:46.140Z"
   },
   {
    "duration": 194,
    "start_time": "2022-09-01T23:36:46.711Z"
   },
   {
    "duration": 173,
    "start_time": "2022-09-01T23:36:46.930Z"
   },
   {
    "duration": 301,
    "start_time": "2022-09-01T23:36:47.112Z"
   },
   {
    "duration": 378,
    "start_time": "2022-09-01T23:36:52.353Z"
   },
   {
    "duration": 111,
    "start_time": "2022-09-01T23:38:07.046Z"
   },
   {
    "duration": 101,
    "start_time": "2022-09-01T23:38:31.293Z"
   },
   {
    "duration": 105,
    "start_time": "2022-09-01T23:38:52.699Z"
   },
   {
    "duration": 21,
    "start_time": "2022-09-01T23:39:36.077Z"
   },
   {
    "duration": 3,
    "start_time": "2022-09-01T23:40:01.502Z"
   },
   {
    "duration": 51,
    "start_time": "2022-09-01T23:40:01.882Z"
   },
   {
    "duration": 13,
    "start_time": "2022-09-01T23:40:02.418Z"
   },
   {
    "duration": 12,
    "start_time": "2022-09-01T23:40:02.799Z"
   },
   {
    "duration": 4,
    "start_time": "2022-09-01T23:40:03.724Z"
   },
   {
    "duration": 23,
    "start_time": "2022-09-01T23:40:04.106Z"
   },
   {
    "duration": 19,
    "start_time": "2022-09-01T23:40:04.299Z"
   },
   {
    "duration": 16,
    "start_time": "2022-09-01T23:40:04.524Z"
   },
   {
    "duration": 18,
    "start_time": "2022-09-01T23:40:05.459Z"
   },
   {
    "duration": 8,
    "start_time": "2022-09-01T23:40:06.050Z"
   },
   {
    "duration": 17,
    "start_time": "2022-09-01T23:40:06.372Z"
   },
   {
    "duration": 3,
    "start_time": "2022-09-01T23:40:07.834Z"
   },
   {
    "duration": 4,
    "start_time": "2022-09-01T23:40:08.232Z"
   },
   {
    "duration": 99,
    "start_time": "2022-09-01T23:40:08.611Z"
   },
   {
    "duration": 14,
    "start_time": "2022-09-01T23:40:09.059Z"
   },
   {
    "duration": 269,
    "start_time": "2022-09-01T23:40:11.315Z"
   },
   {
    "duration": 3,
    "start_time": "2022-09-01T23:40:22.131Z"
   },
   {
    "duration": 48,
    "start_time": "2022-09-01T23:40:22.754Z"
   },
   {
    "duration": 13,
    "start_time": "2022-09-01T23:40:24.506Z"
   },
   {
    "duration": 18,
    "start_time": "2022-09-01T23:40:25.681Z"
   },
   {
    "duration": 18,
    "start_time": "2022-09-01T23:40:34.244Z"
   },
   {
    "duration": 7,
    "start_time": "2022-09-01T23:40:37.501Z"
   },
   {
    "duration": 7,
    "start_time": "2022-09-01T23:40:42.572Z"
   },
   {
    "duration": 17,
    "start_time": "2022-09-01T23:40:42.948Z"
   },
   {
    "duration": 2,
    "start_time": "2022-09-01T23:40:45.795Z"
   },
   {
    "duration": 732,
    "start_time": "2022-09-01T23:40:46.107Z"
   },
   {
    "duration": 0,
    "start_time": "2022-09-01T23:40:46.841Z"
   },
   {
    "duration": 0,
    "start_time": "2022-09-01T23:40:46.842Z"
   },
   {
    "duration": 3,
    "start_time": "2022-09-01T23:41:00.725Z"
   },
   {
    "duration": 1116,
    "start_time": "2022-09-01T23:41:01.165Z"
   },
   {
    "duration": 7,
    "start_time": "2022-09-01T23:41:02.373Z"
   },
   {
    "duration": 3,
    "start_time": "2022-09-01T23:41:15.051Z"
   },
   {
    "duration": 54,
    "start_time": "2022-09-01T23:41:15.460Z"
   },
   {
    "duration": 14,
    "start_time": "2022-09-01T23:41:15.868Z"
   },
   {
    "duration": 12,
    "start_time": "2022-09-01T23:41:17.307Z"
   },
   {
    "duration": 4,
    "start_time": "2022-09-01T23:41:20.680Z"
   },
   {
    "duration": 17,
    "start_time": "2022-09-01T23:41:29.381Z"
   },
   {
    "duration": 21,
    "start_time": "2022-09-01T23:41:32.589Z"
   },
   {
    "duration": 3,
    "start_time": "2022-09-01T23:41:34.772Z"
   },
   {
    "duration": 4,
    "start_time": "2022-09-01T23:41:35.623Z"
   },
   {
    "duration": 97,
    "start_time": "2022-09-01T23:41:36.581Z"
   },
   {
    "duration": 16,
    "start_time": "2022-09-01T23:41:37.363Z"
   },
   {
    "duration": 262,
    "start_time": "2022-09-01T23:41:40.357Z"
   },
   {
    "duration": 235,
    "start_time": "2022-09-01T23:41:42.850Z"
   },
   {
    "duration": 177,
    "start_time": "2022-09-01T23:41:43.168Z"
   },
   {
    "duration": 298,
    "start_time": "2022-09-01T23:41:43.577Z"
   },
   {
    "duration": 27,
    "start_time": "2022-09-01T23:41:50.192Z"
   },
   {
    "duration": 15,
    "start_time": "2022-09-01T23:42:26.405Z"
   },
   {
    "duration": 275,
    "start_time": "2022-09-01T23:42:32.591Z"
   },
   {
    "duration": 113,
    "start_time": "2022-09-01T23:42:38.597Z"
   },
   {
    "duration": 106,
    "start_time": "2022-09-01T23:42:41.103Z"
   },
   {
    "duration": 111,
    "start_time": "2022-09-01T23:42:44.397Z"
   },
   {
    "duration": 102,
    "start_time": "2022-09-01T23:44:05.785Z"
   },
   {
    "duration": 7,
    "start_time": "2022-09-01T23:44:25.854Z"
   },
   {
    "duration": 104,
    "start_time": "2022-09-01T23:44:39.719Z"
   },
   {
    "duration": 104,
    "start_time": "2022-09-01T23:44:45.085Z"
   },
   {
    "duration": 20,
    "start_time": "2022-09-01T23:46:13.078Z"
   },
   {
    "duration": 3,
    "start_time": "2022-09-01T23:46:20.765Z"
   },
   {
    "duration": 49,
    "start_time": "2022-09-01T23:46:21.486Z"
   },
   {
    "duration": 13,
    "start_time": "2022-09-01T23:46:23.143Z"
   },
   {
    "duration": 12,
    "start_time": "2022-09-01T23:46:25.295Z"
   },
   {
    "duration": 3,
    "start_time": "2022-09-01T23:46:28.219Z"
   },
   {
    "duration": 17,
    "start_time": "2022-09-01T23:46:32.829Z"
   },
   {
    "duration": 8,
    "start_time": "2022-09-01T23:46:33.283Z"
   },
   {
    "duration": 17,
    "start_time": "2022-09-01T23:46:33.471Z"
   },
   {
    "duration": 3,
    "start_time": "2022-09-01T23:46:33.909Z"
   },
   {
    "duration": 4,
    "start_time": "2022-09-01T23:46:34.057Z"
   },
   {
    "duration": 84,
    "start_time": "2022-09-01T23:46:34.923Z"
   },
   {
    "duration": 13,
    "start_time": "2022-09-01T23:46:35.237Z"
   },
   {
    "duration": 234,
    "start_time": "2022-09-01T23:46:36.304Z"
   },
   {
    "duration": 264,
    "start_time": "2022-09-01T23:46:40.257Z"
   },
   {
    "duration": 191,
    "start_time": "2022-09-01T23:46:42.778Z"
   },
   {
    "duration": 170,
    "start_time": "2022-09-01T23:46:44.591Z"
   },
   {
    "duration": 21,
    "start_time": "2022-09-01T23:46:49.837Z"
   },
   {
    "duration": 285,
    "start_time": "2022-09-01T23:46:56.512Z"
   },
   {
    "duration": 21,
    "start_time": "2022-09-01T23:47:09.776Z"
   },
   {
    "duration": 45,
    "start_time": "2022-09-01T23:47:17.249Z"
   },
   {
    "duration": 238,
    "start_time": "2022-09-01T23:47:47.353Z"
   },
   {
    "duration": 55822,
    "start_time": "2022-09-01T23:47:53.755Z"
   },
   {
    "duration": 174,
    "start_time": "2022-09-01T23:49:22.167Z"
   },
   {
    "duration": 141,
    "start_time": "2022-09-01T23:50:01.569Z"
   },
   {
    "duration": 73,
    "start_time": "2022-09-01T23:50:30.049Z"
   },
   {
    "duration": 129,
    "start_time": "2022-09-01T23:50:35.744Z"
   },
   {
    "duration": 128,
    "start_time": "2022-09-01T23:51:37.322Z"
   },
   {
    "duration": 28,
    "start_time": "2022-09-01T23:53:57.601Z"
   },
   {
    "duration": 27,
    "start_time": "2022-09-01T23:54:20.588Z"
   },
   {
    "duration": 219,
    "start_time": "2022-09-01T23:54:48.353Z"
   },
   {
    "duration": 223,
    "start_time": "2022-09-01T23:55:17.864Z"
   },
   {
    "duration": 224,
    "start_time": "2022-09-01T23:56:09.381Z"
   },
   {
    "duration": 143,
    "start_time": "2022-09-01T23:56:50.342Z"
   },
   {
    "duration": 134,
    "start_time": "2022-09-01T23:57:21.169Z"
   },
   {
    "duration": 21,
    "start_time": "2022-09-01T23:57:36.963Z"
   },
   {
    "duration": 36,
    "start_time": "2022-09-01T23:57:57.457Z"
   },
   {
    "duration": 56721,
    "start_time": "2022-09-01T23:59:08.755Z"
   },
   {
    "duration": 37,
    "start_time": "2022-09-02T00:00:42.370Z"
   },
   {
    "duration": 137,
    "start_time": "2022-09-02T00:00:45.011Z"
   },
   {
    "duration": 21,
    "start_time": "2022-09-02T00:01:16.570Z"
   },
   {
    "duration": 135,
    "start_time": "2022-09-02T00:01:19.581Z"
   },
   {
    "duration": 129,
    "start_time": "2022-09-02T00:01:31.816Z"
   },
   {
    "duration": 65,
    "start_time": "2022-09-02T00:03:46.371Z"
   },
   {
    "duration": 95,
    "start_time": "2022-09-02T00:03:50.546Z"
   },
   {
    "duration": 68,
    "start_time": "2022-09-02T00:04:04.839Z"
   },
   {
    "duration": 106,
    "start_time": "2022-09-02T00:04:09.886Z"
   },
   {
    "duration": 112,
    "start_time": "2022-09-02T00:04:18.520Z"
   },
   {
    "duration": 366,
    "start_time": "2022-09-02T00:04:37.063Z"
   },
   {
    "duration": 186,
    "start_time": "2022-09-02T00:04:45.243Z"
   },
   {
    "duration": 292,
    "start_time": "2022-09-02T00:04:50.853Z"
   },
   {
    "duration": 142,
    "start_time": "2022-09-02T00:05:08.922Z"
   },
   {
    "duration": 178,
    "start_time": "2022-09-02T00:06:11.551Z"
   },
   {
    "duration": 181,
    "start_time": "2022-09-02T00:06:49.373Z"
   },
   {
    "duration": 25,
    "start_time": "2022-09-02T00:10:26.482Z"
   },
   {
    "duration": 3,
    "start_time": "2022-09-02T03:18:38.115Z"
   },
   {
    "duration": 11,
    "start_time": "2022-09-02T03:18:38.786Z"
   },
   {
    "duration": 7,
    "start_time": "2022-09-02T03:18:39.582Z"
   },
   {
    "duration": 3,
    "start_time": "2022-09-02T03:18:52.682Z"
   },
   {
    "duration": 4,
    "start_time": "2022-09-02T03:18:53.174Z"
   },
   {
    "duration": 100,
    "start_time": "2022-09-02T03:18:53.976Z"
   },
   {
    "duration": 14,
    "start_time": "2022-09-02T03:18:55.043Z"
   },
   {
    "duration": 241,
    "start_time": "2022-09-02T03:19:03.408Z"
   },
   {
    "duration": 181,
    "start_time": "2022-09-02T03:21:32.773Z"
   },
   {
    "duration": 166,
    "start_time": "2022-09-02T03:21:56.809Z"
   },
   {
    "duration": 291,
    "start_time": "2022-09-02T03:21:59.841Z"
   },
   {
    "duration": 12,
    "start_time": "2022-09-02T03:27:52.630Z"
   },
   {
    "duration": 14,
    "start_time": "2022-09-02T03:27:59.335Z"
   },
   {
    "duration": 22,
    "start_time": "2022-09-02T03:28:17.707Z"
   },
   {
    "duration": 14,
    "start_time": "2022-09-02T03:29:03.151Z"
   },
   {
    "duration": 46,
    "start_time": "2022-09-02T03:30:13.566Z"
   },
   {
    "duration": 119,
    "start_time": "2022-09-02T03:31:32.590Z"
   },
   {
    "duration": 86,
    "start_time": "2022-09-02T03:31:49.285Z"
   },
   {
    "duration": 72,
    "start_time": "2022-09-02T03:31:54.126Z"
   },
   {
    "duration": 128,
    "start_time": "2022-09-02T03:32:01.965Z"
   },
   {
    "duration": 116,
    "start_time": "2022-09-02T03:32:07.574Z"
   },
   {
    "duration": 115,
    "start_time": "2022-09-02T03:32:13.193Z"
   },
   {
    "duration": 120,
    "start_time": "2022-09-02T03:32:19.200Z"
   },
   {
    "duration": 118,
    "start_time": "2022-09-02T03:32:25.061Z"
   },
   {
    "duration": 117,
    "start_time": "2022-09-02T03:32:40.018Z"
   },
   {
    "duration": 127,
    "start_time": "2022-09-02T03:33:10.447Z"
   },
   {
    "duration": 147,
    "start_time": "2022-09-02T03:33:59.438Z"
   },
   {
    "duration": 128,
    "start_time": "2022-09-02T03:34:07.713Z"
   },
   {
    "duration": 13,
    "start_time": "2022-09-02T03:34:43.459Z"
   },
   {
    "duration": 158,
    "start_time": "2022-09-02T03:35:04.268Z"
   },
   {
    "duration": 164,
    "start_time": "2022-09-02T03:41:23.230Z"
   },
   {
    "duration": 156,
    "start_time": "2022-09-02T03:42:37.510Z"
   },
   {
    "duration": 4358,
    "start_time": "2022-09-02T03:51:07.291Z"
   },
   {
    "duration": 163,
    "start_time": "2022-09-02T03:51:20.210Z"
   },
   {
    "duration": 243,
    "start_time": "2022-09-02T03:51:37.773Z"
   },
   {
    "duration": 271,
    "start_time": "2022-09-02T03:52:11.195Z"
   },
   {
    "duration": 242,
    "start_time": "2022-09-02T03:52:18.160Z"
   },
   {
    "duration": 45,
    "start_time": "2022-09-02T04:15:27.029Z"
   },
   {
    "duration": 260,
    "start_time": "2022-09-02T04:17:35.538Z"
   },
   {
    "duration": 49,
    "start_time": "2022-09-02T04:18:59.805Z"
   },
   {
    "duration": 17,
    "start_time": "2022-09-02T04:22:39.539Z"
   },
   {
    "duration": 231,
    "start_time": "2022-09-02T04:23:12.229Z"
   },
   {
    "duration": 220,
    "start_time": "2022-09-02T04:24:00.818Z"
   },
   {
    "duration": 62,
    "start_time": "2022-09-02T04:28:53.041Z"
   },
   {
    "duration": 59,
    "start_time": "2022-09-02T04:37:10.624Z"
   },
   {
    "duration": 16,
    "start_time": "2022-09-02T04:39:45.103Z"
   },
   {
    "duration": 224,
    "start_time": "2022-09-02T04:40:09.185Z"
   },
   {
    "duration": 224,
    "start_time": "2022-09-02T04:40:32.898Z"
   },
   {
    "duration": 174,
    "start_time": "2022-09-02T04:41:20.302Z"
   },
   {
    "duration": 223,
    "start_time": "2022-09-02T04:41:28.878Z"
   },
   {
    "duration": 380,
    "start_time": "2022-09-02T04:45:55.428Z"
   },
   {
    "duration": 81,
    "start_time": "2022-09-02T04:51:28.824Z"
   },
   {
    "duration": 8,
    "start_time": "2022-09-02T04:51:54.095Z"
   },
   {
    "duration": 52,
    "start_time": "2022-09-02T04:52:46.016Z"
   },
   {
    "duration": 58,
    "start_time": "2022-09-02T04:53:37.668Z"
   },
   {
    "duration": 50,
    "start_time": "2022-09-02T04:54:08.139Z"
   },
   {
    "duration": 76,
    "start_time": "2022-09-02T05:01:15.477Z"
   },
   {
    "duration": 45,
    "start_time": "2022-09-02T05:01:18.002Z"
   },
   {
    "duration": 7,
    "start_time": "2022-09-02T05:02:02.417Z"
   },
   {
    "duration": 47,
    "start_time": "2022-09-02T05:17:36.018Z"
   },
   {
    "duration": 8,
    "start_time": "2022-09-02T05:19:13.871Z"
   },
   {
    "duration": 224,
    "start_time": "2022-09-02T05:19:24.410Z"
   },
   {
    "duration": 236,
    "start_time": "2022-09-02T05:19:58.844Z"
   },
   {
    "duration": 203,
    "start_time": "2022-09-02T05:20:35.423Z"
   },
   {
    "duration": 62,
    "start_time": "2022-09-02T05:22:35.856Z"
   },
   {
    "duration": 53,
    "start_time": "2022-09-02T05:23:20.512Z"
   },
   {
    "duration": 83,
    "start_time": "2022-09-02T05:23:25.541Z"
   },
   {
    "duration": 48,
    "start_time": "2022-09-02T05:30:29.119Z"
   },
   {
    "duration": 98,
    "start_time": "2022-09-02T05:34:42.130Z"
   },
   {
    "duration": 86,
    "start_time": "2022-09-02T05:34:44.693Z"
   },
   {
    "duration": 43,
    "start_time": "2022-09-02T05:35:44.407Z"
   },
   {
    "duration": 19,
    "start_time": "2022-09-02T05:37:44.293Z"
   },
   {
    "duration": 168,
    "start_time": "2022-09-02T05:37:57.034Z"
   },
   {
    "duration": 69,
    "start_time": "2022-09-02T05:40:25.651Z"
   },
   {
    "duration": 26,
    "start_time": "2022-09-02T05:43:54.536Z"
   },
   {
    "duration": 3,
    "start_time": "2022-09-02T05:44:32.337Z"
   },
   {
    "duration": 5,
    "start_time": "2022-09-02T05:44:32.980Z"
   },
   {
    "duration": 102,
    "start_time": "2022-09-02T05:44:34.011Z"
   },
   {
    "duration": 14,
    "start_time": "2022-09-02T05:44:35.289Z"
   },
   {
    "duration": 20,
    "start_time": "2022-09-02T05:44:58.412Z"
   },
   {
    "duration": 202,
    "start_time": "2022-09-02T05:51:55.710Z"
   },
   {
    "duration": 173,
    "start_time": "2022-09-02T05:53:59.052Z"
   },
   {
    "duration": 173,
    "start_time": "2022-09-02T05:54:15.709Z"
   },
   {
    "duration": 188,
    "start_time": "2022-09-02T05:54:21.842Z"
   },
   {
    "duration": 208,
    "start_time": "2022-09-02T05:54:30.103Z"
   },
   {
    "duration": 198,
    "start_time": "2022-09-02T05:54:35.968Z"
   },
   {
    "duration": 203,
    "start_time": "2022-09-02T05:55:50.660Z"
   },
   {
    "duration": 53,
    "start_time": "2022-09-02T05:58:55.559Z"
   },
   {
    "duration": 8,
    "start_time": "2022-09-02T06:14:48.142Z"
   },
   {
    "duration": 8,
    "start_time": "2022-09-02T06:14:51.136Z"
   },
   {
    "duration": 68,
    "start_time": "2022-09-02T06:16:06.874Z"
   },
   {
    "duration": 437,
    "start_time": "2022-09-02T06:16:20.715Z"
   },
   {
    "duration": 6,
    "start_time": "2022-09-02T06:18:01.804Z"
   },
   {
    "duration": 186,
    "start_time": "2022-09-02T06:18:40.288Z"
   },
   {
    "duration": 301,
    "start_time": "2022-09-02T06:18:52.407Z"
   },
   {
    "duration": 159,
    "start_time": "2022-09-02T06:19:59.105Z"
   },
   {
    "duration": 294,
    "start_time": "2022-09-02T06:20:38.111Z"
   },
   {
    "duration": 189,
    "start_time": "2022-09-02T06:20:45.026Z"
   },
   {
    "duration": 242,
    "start_time": "2022-09-02T06:21:51.969Z"
   },
   {
    "duration": 174,
    "start_time": "2022-09-02T06:22:18.614Z"
   },
   {
    "duration": 161,
    "start_time": "2022-09-02T06:22:42.624Z"
   },
   {
    "duration": 233,
    "start_time": "2022-09-02T06:23:08.886Z"
   },
   {
    "duration": 168,
    "start_time": "2022-09-02T06:23:24.221Z"
   },
   {
    "duration": 176,
    "start_time": "2022-09-02T06:23:58.078Z"
   },
   {
    "duration": 167,
    "start_time": "2022-09-02T06:24:07.441Z"
   },
   {
    "duration": 213,
    "start_time": "2022-09-02T06:25:37.034Z"
   },
   {
    "duration": 225,
    "start_time": "2022-09-02T06:25:46.788Z"
   },
   {
    "duration": 237,
    "start_time": "2022-09-02T06:26:13.028Z"
   },
   {
    "duration": 21,
    "start_time": "2022-09-02T06:27:43.513Z"
   },
   {
    "duration": 158,
    "start_time": "2022-09-02T06:28:39.936Z"
   },
   {
    "duration": 1041,
    "start_time": "2022-09-02T06:33:19.597Z"
   },
   {
    "duration": 1424,
    "start_time": "2022-09-02T23:32:45.790Z"
   },
   {
    "duration": 211,
    "start_time": "2022-09-02T23:32:47.216Z"
   },
   {
    "duration": 16,
    "start_time": "2022-09-02T23:32:47.429Z"
   },
   {
    "duration": 24,
    "start_time": "2022-09-02T23:33:06.800Z"
   },
   {
    "duration": 3,
    "start_time": "2022-09-02T23:33:08.856Z"
   },
   {
    "duration": 19,
    "start_time": "2022-09-02T23:33:24.024Z"
   },
   {
    "duration": 104,
    "start_time": "2022-09-02T23:33:25.918Z"
   },
   {
    "duration": 8,
    "start_time": "2022-09-02T23:33:54.352Z"
   },
   {
    "duration": 30,
    "start_time": "2022-09-02T23:33:59.476Z"
   },
   {
    "duration": 23,
    "start_time": "2022-09-02T23:34:00.388Z"
   },
   {
    "duration": 18,
    "start_time": "2022-09-02T23:34:00.944Z"
   },
   {
    "duration": 24,
    "start_time": "2022-09-02T23:34:09.443Z"
   },
   {
    "duration": 18,
    "start_time": "2022-09-02T23:34:11.672Z"
   },
   {
    "duration": 3,
    "start_time": "2022-09-02T23:34:16.831Z"
   },
   {
    "duration": 65,
    "start_time": "2022-09-02T23:34:17.265Z"
   },
   {
    "duration": 14,
    "start_time": "2022-09-02T23:34:17.676Z"
   },
   {
    "duration": 14,
    "start_time": "2022-09-02T23:34:18.072Z"
   },
   {
    "duration": 4,
    "start_time": "2022-09-02T23:34:18.881Z"
   },
   {
    "duration": 32,
    "start_time": "2022-09-02T23:34:19.559Z"
   },
   {
    "duration": 20,
    "start_time": "2022-09-02T23:34:23.347Z"
   },
   {
    "duration": 20,
    "start_time": "2022-09-02T23:34:26.815Z"
   },
   {
    "duration": 207,
    "start_time": "2022-09-02T23:34:35.599Z"
   },
   {
    "duration": 3,
    "start_time": "2022-09-02T23:34:56.516Z"
   },
   {
    "duration": 72,
    "start_time": "2022-09-02T23:34:57.515Z"
   },
   {
    "duration": 20,
    "start_time": "2022-09-02T23:34:58.459Z"
   },
   {
    "duration": 15,
    "start_time": "2022-09-02T23:35:02.184Z"
   },
   {
    "duration": 4,
    "start_time": "2022-09-02T23:35:07.679Z"
   },
   {
    "duration": 19,
    "start_time": "2022-09-02T23:35:15.426Z"
   },
   {
    "duration": 256,
    "start_time": "2022-09-02T23:35:53.478Z"
   },
   {
    "duration": 286,
    "start_time": "2022-09-02T23:35:59.492Z"
   },
   {
    "duration": 226,
    "start_time": "2022-09-02T23:36:00.898Z"
   },
   {
    "duration": 7,
    "start_time": "2022-09-02T23:36:03.263Z"
   },
   {
    "duration": 236,
    "start_time": "2022-09-02T23:36:04.790Z"
   },
   {
    "duration": 206,
    "start_time": "2022-09-02T23:36:05.866Z"
   },
   {
    "duration": 19,
    "start_time": "2022-09-02T23:36:09.054Z"
   },
   {
    "duration": 4,
    "start_time": "2022-09-02T23:36:12.670Z"
   },
   {
    "duration": 5,
    "start_time": "2022-09-02T23:36:13.574Z"
   },
   {
    "duration": 114,
    "start_time": "2022-09-02T23:36:14.288Z"
   },
   {
    "duration": 16,
    "start_time": "2022-09-02T23:36:14.575Z"
   },
   {
    "duration": 277,
    "start_time": "2022-09-02T23:36:16.135Z"
   },
   {
    "duration": 301,
    "start_time": "2022-09-02T23:36:24.398Z"
   },
   {
    "duration": 7,
    "start_time": "2022-09-02T23:36:27.589Z"
   },
   {
    "duration": 203,
    "start_time": "2022-09-02T23:36:28.248Z"
   },
   {
    "duration": 353,
    "start_time": "2022-09-02T23:36:31.217Z"
   },
   {
    "duration": 76,
    "start_time": "2022-09-03T01:07:50.181Z"
   },
   {
    "duration": 339,
    "start_time": "2022-09-03T01:08:50.605Z"
   },
   {
    "duration": 70,
    "start_time": "2022-09-03T01:09:42.543Z"
   },
   {
    "duration": 176,
    "start_time": "2022-09-03T01:12:28.606Z"
   },
   {
    "duration": 260,
    "start_time": "2022-09-03T01:13:47.775Z"
   },
   {
    "duration": 27,
    "start_time": "2022-09-03T01:16:15.652Z"
   },
   {
    "duration": 187,
    "start_time": "2022-09-03T01:16:51.352Z"
   },
   {
    "duration": 192,
    "start_time": "2022-09-03T01:18:06.257Z"
   },
   {
    "duration": 197,
    "start_time": "2022-09-03T01:20:10.974Z"
   },
   {
    "duration": 203,
    "start_time": "2022-09-03T01:21:03.608Z"
   },
   {
    "duration": 281,
    "start_time": "2022-09-03T01:22:08.956Z"
   },
   {
    "duration": 174,
    "start_time": "2022-09-03T01:26:21.431Z"
   },
   {
    "duration": 97,
    "start_time": "2022-09-03T01:31:20.769Z"
   },
   {
    "duration": 196,
    "start_time": "2022-09-03T01:36:16.591Z"
   },
   {
    "duration": 388,
    "start_time": "2022-09-03T01:38:21.076Z"
   },
   {
    "duration": 175,
    "start_time": "2022-09-03T01:41:03.513Z"
   },
   {
    "duration": 204,
    "start_time": "2022-09-03T01:41:55.537Z"
   },
   {
    "duration": 171,
    "start_time": "2022-09-03T01:43:26.270Z"
   },
   {
    "duration": 201,
    "start_time": "2022-09-03T01:44:13.534Z"
   },
   {
    "duration": 178,
    "start_time": "2022-09-03T01:44:37.062Z"
   },
   {
    "duration": 362,
    "start_time": "2022-09-03T01:49:28.347Z"
   },
   {
    "duration": 378,
    "start_time": "2022-09-03T01:49:45.135Z"
   },
   {
    "duration": 80,
    "start_time": "2022-09-03T02:12:02.232Z"
   },
   {
    "duration": 173,
    "start_time": "2022-09-03T02:13:40.736Z"
   },
   {
    "duration": 301,
    "start_time": "2022-09-03T02:18:02.249Z"
   },
   {
    "duration": 15,
    "start_time": "2022-09-03T02:22:40.744Z"
   },
   {
    "duration": 101,
    "start_time": "2022-09-03T02:24:26.430Z"
   },
   {
    "duration": 102,
    "start_time": "2022-09-03T02:25:12.551Z"
   },
   {
    "duration": 206245,
    "start_time": "2022-09-03T02:28:17.314Z"
   },
   {
    "duration": 6,
    "start_time": "2022-09-03T02:31:43.561Z"
   },
   {
    "duration": 127,
    "start_time": "2022-09-03T02:31:43.569Z"
   },
   {
    "duration": 24,
    "start_time": "2022-09-03T02:31:52.128Z"
   },
   {
    "duration": 27,
    "start_time": "2022-09-03T02:32:20.608Z"
   },
   {
    "duration": 27,
    "start_time": "2022-09-03T02:32:32.852Z"
   },
   {
    "duration": 18,
    "start_time": "2022-09-03T02:32:40.374Z"
   },
   {
    "duration": 26,
    "start_time": "2022-09-03T02:33:32.544Z"
   },
   {
    "duration": 7,
    "start_time": "2022-09-03T02:33:38.948Z"
   },
   {
    "duration": 27,
    "start_time": "2022-09-03T02:37:58.448Z"
   },
   {
    "duration": 21,
    "start_time": "2022-09-03T02:39:05.369Z"
   },
   {
    "duration": 20,
    "start_time": "2022-09-03T02:39:24.691Z"
   },
   {
    "duration": 20,
    "start_time": "2022-09-03T02:40:27.746Z"
   },
   {
    "duration": 27,
    "start_time": "2022-09-03T02:40:41.812Z"
   },
   {
    "duration": 6,
    "start_time": "2022-09-03T02:40:50.280Z"
   },
   {
    "duration": 30,
    "start_time": "2022-09-03T02:40:59.013Z"
   },
   {
    "duration": 20,
    "start_time": "2022-09-03T02:41:02.915Z"
   },
   {
    "duration": 27,
    "start_time": "2022-09-03T02:41:28.268Z"
   },
   {
    "duration": 34,
    "start_time": "2022-09-03T02:41:38.600Z"
   },
   {
    "duration": 35,
    "start_time": "2022-09-03T02:42:04.332Z"
   },
   {
    "duration": 13914,
    "start_time": "2022-09-03T02:42:43.184Z"
   },
   {
    "duration": 10,
    "start_time": "2022-09-03T02:44:07.103Z"
   },
   {
    "duration": 34,
    "start_time": "2022-09-03T02:44:48.070Z"
   },
   {
    "duration": 23,
    "start_time": "2022-09-03T02:45:51.567Z"
   },
   {
    "duration": 10,
    "start_time": "2022-09-03T02:46:02.541Z"
   },
   {
    "duration": 14088,
    "start_time": "2022-09-03T02:53:18.738Z"
   },
   {
    "duration": 433,
    "start_time": "2022-09-03T02:53:51.244Z"
   },
   {
    "duration": 6,
    "start_time": "2022-09-03T02:55:24.261Z"
   },
   {
    "duration": 1503,
    "start_time": "2022-09-03T02:59:59.783Z"
   },
   {
    "duration": 73,
    "start_time": "2022-09-03T03:08:40.302Z"
   },
   {
    "duration": 84,
    "start_time": "2022-09-03T03:14:32.443Z"
   },
   {
    "duration": 1563,
    "start_time": "2022-09-03T03:17:32.791Z"
   },
   {
    "duration": 716,
    "start_time": "2022-09-03T03:18:02.589Z"
   },
   {
    "duration": 732,
    "start_time": "2022-09-03T03:18:42.472Z"
   },
   {
    "duration": 755,
    "start_time": "2022-09-03T03:18:50.085Z"
   },
   {
    "duration": 816,
    "start_time": "2022-09-03T03:18:56.484Z"
   },
   {
    "duration": 807,
    "start_time": "2022-09-03T03:20:04.712Z"
   },
   {
    "duration": 4,
    "start_time": "2022-09-03T03:26:22.080Z"
   },
   {
    "duration": 5,
    "start_time": "2022-09-03T03:26:29.372Z"
   },
   {
    "duration": 10,
    "start_time": "2022-09-03T03:27:05.764Z"
   },
   {
    "duration": 5,
    "start_time": "2022-09-03T03:27:12.162Z"
   },
   {
    "duration": 13,
    "start_time": "2022-09-03T03:27:13.023Z"
   },
   {
    "duration": 27,
    "start_time": "2022-09-03T03:27:55.705Z"
   },
   {
    "duration": 10,
    "start_time": "2022-09-03T03:28:03.246Z"
   },
   {
    "duration": 72,
    "start_time": "2022-09-03T03:28:09.130Z"
   },
   {
    "duration": 9,
    "start_time": "2022-09-03T03:28:15.179Z"
   },
   {
    "duration": 125,
    "start_time": "2022-09-03T03:28:24.066Z"
   },
   {
    "duration": 4,
    "start_time": "2022-09-03T03:28:31.008Z"
   },
   {
    "duration": 31,
    "start_time": "2022-09-03T03:28:45.953Z"
   },
   {
    "duration": 5,
    "start_time": "2022-09-03T03:28:54.691Z"
   },
   {
    "duration": 5,
    "start_time": "2022-09-03T03:29:00.930Z"
   },
   {
    "duration": 6,
    "start_time": "2022-09-03T03:29:20.104Z"
   },
   {
    "duration": 5,
    "start_time": "2022-09-03T03:29:20.797Z"
   },
   {
    "duration": 9,
    "start_time": "2022-09-03T03:29:26.912Z"
   },
   {
    "duration": 7,
    "start_time": "2022-09-03T03:29:33.313Z"
   },
   {
    "duration": 12,
    "start_time": "2022-09-03T03:29:36.270Z"
   },
   {
    "duration": 6,
    "start_time": "2022-09-03T03:31:03.061Z"
   },
   {
    "duration": 12,
    "start_time": "2022-09-03T03:31:03.614Z"
   },
   {
    "duration": 5,
    "start_time": "2022-09-03T03:32:09.984Z"
   },
   {
    "duration": 12,
    "start_time": "2022-09-03T03:32:10.538Z"
   },
   {
    "duration": 12,
    "start_time": "2022-09-03T03:32:17.817Z"
   },
   {
    "duration": 5,
    "start_time": "2022-09-03T03:33:57.780Z"
   },
   {
    "duration": 13,
    "start_time": "2022-09-03T03:33:58.203Z"
   },
   {
    "duration": 5,
    "start_time": "2022-09-03T03:34:26.983Z"
   },
   {
    "duration": 13,
    "start_time": "2022-09-03T03:34:29.148Z"
   },
   {
    "duration": 12,
    "start_time": "2022-09-03T03:34:42.853Z"
   },
   {
    "duration": 520,
    "start_time": "2022-09-03T03:35:37.169Z"
   },
   {
    "duration": 4,
    "start_time": "2022-09-03T03:35:56.990Z"
   },
   {
    "duration": 13,
    "start_time": "2022-09-03T03:36:00.561Z"
   },
   {
    "duration": 4,
    "start_time": "2022-09-03T03:36:05.675Z"
   },
   {
    "duration": 4,
    "start_time": "2022-09-03T03:36:06.580Z"
   },
   {
    "duration": 414,
    "start_time": "2022-09-03T03:48:42.729Z"
   },
   {
    "duration": 283,
    "start_time": "2022-09-03T03:50:24.139Z"
   },
   {
    "duration": 329,
    "start_time": "2022-09-03T03:50:31.742Z"
   },
   {
    "duration": 401,
    "start_time": "2022-09-03T04:01:23.806Z"
   },
   {
    "duration": 391,
    "start_time": "2022-09-03T04:01:28.288Z"
   },
   {
    "duration": 365,
    "start_time": "2022-09-03T04:01:35.709Z"
   },
   {
    "duration": 384,
    "start_time": "2022-09-03T04:01:40.745Z"
   },
   {
    "duration": 79,
    "start_time": "2022-09-03T04:17:25.067Z"
   },
   {
    "duration": 9,
    "start_time": "2022-09-03T04:18:55.012Z"
   },
   {
    "duration": 3,
    "start_time": "2022-09-03T04:20:01.982Z"
   },
   {
    "duration": 4,
    "start_time": "2022-09-03T04:20:39.607Z"
   },
   {
    "duration": 7,
    "start_time": "2022-09-03T04:20:49.103Z"
   },
   {
    "duration": 8,
    "start_time": "2022-09-03T04:21:23.713Z"
   },
   {
    "duration": 3,
    "start_time": "2022-09-03T04:21:50.339Z"
   },
   {
    "duration": 52,
    "start_time": "2022-09-03T04:21:51.249Z"
   },
   {
    "duration": 15,
    "start_time": "2022-09-03T04:21:54.366Z"
   },
   {
    "duration": 4,
    "start_time": "2022-09-03T04:23:00.367Z"
   },
   {
    "duration": 14,
    "start_time": "2022-09-03T04:23:56.028Z"
   },
   {
    "duration": 7,
    "start_time": "2022-09-03T04:24:38.686Z"
   },
   {
    "duration": 9,
    "start_time": "2022-09-03T04:25:51.831Z"
   },
   {
    "duration": 15,
    "start_time": "2022-09-03T04:26:17.901Z"
   },
   {
    "duration": 13,
    "start_time": "2022-09-03T04:26:33.216Z"
   },
   {
    "duration": 13,
    "start_time": "2022-09-03T04:26:51.205Z"
   },
   {
    "duration": 92,
    "start_time": "2022-09-03T04:27:35.211Z"
   },
   {
    "duration": 76,
    "start_time": "2022-09-03T04:29:19.755Z"
   },
   {
    "duration": 77,
    "start_time": "2022-09-03T04:30:54.846Z"
   },
   {
    "duration": 18,
    "start_time": "2022-09-03T04:31:27.982Z"
   },
   {
    "duration": 206,
    "start_time": "2022-09-03T04:31:37.616Z"
   },
   {
    "duration": 451,
    "start_time": "2022-09-03T04:31:38.851Z"
   },
   {
    "duration": 265,
    "start_time": "2022-09-03T04:32:43.887Z"
   },
   {
    "duration": 270,
    "start_time": "2022-09-03T04:32:54.441Z"
   },
   {
    "duration": 203,
    "start_time": "2022-09-03T04:32:55.474Z"
   },
   {
    "duration": 8,
    "start_time": "2022-09-03T04:32:58.039Z"
   },
   {
    "duration": 231,
    "start_time": "2022-09-03T04:32:59.977Z"
   },
   {
    "duration": 217,
    "start_time": "2022-09-03T04:33:01.082Z"
   },
   {
    "duration": 19,
    "start_time": "2022-09-03T04:33:02.296Z"
   },
   {
    "duration": 3,
    "start_time": "2022-09-03T04:33:03.498Z"
   },
   {
    "duration": 6,
    "start_time": "2022-09-03T04:33:03.766Z"
   },
   {
    "duration": 97,
    "start_time": "2022-09-03T04:33:04.037Z"
   },
   {
    "duration": 15,
    "start_time": "2022-09-03T04:33:04.782Z"
   },
   {
    "duration": 282,
    "start_time": "2022-09-03T04:33:06.649Z"
   },
   {
    "duration": 210,
    "start_time": "2022-09-03T04:33:13.939Z"
   },
   {
    "duration": 10,
    "start_time": "2022-09-03T04:34:09.426Z"
   },
   {
    "duration": 233,
    "start_time": "2022-09-03T04:34:11.930Z"
   },
   {
    "duration": 388,
    "start_time": "2022-09-03T04:34:18.586Z"
   },
   {
    "duration": 268,
    "start_time": "2022-09-03T04:34:22.788Z"
   },
   {
    "duration": 301,
    "start_time": "2022-09-03T04:34:27.586Z"
   },
   {
    "duration": 6,
    "start_time": "2022-09-03T04:34:58.615Z"
   },
   {
    "duration": 424,
    "start_time": "2022-09-03T04:34:59.848Z"
   },
   {
    "duration": 4,
    "start_time": "2022-09-03T04:35:15.978Z"
   },
   {
    "duration": 4,
    "start_time": "2022-09-03T04:35:36.466Z"
   },
   {
    "duration": 5,
    "start_time": "2022-09-03T04:36:00.695Z"
   },
   {
    "duration": 5,
    "start_time": "2022-09-03T04:36:13.864Z"
   },
   {
    "duration": 7,
    "start_time": "2022-09-03T04:40:36.792Z"
   },
   {
    "duration": 5,
    "start_time": "2022-09-03T04:40:38.363Z"
   },
   {
    "duration": 4,
    "start_time": "2022-09-03T04:40:42.449Z"
   },
   {
    "duration": 217,
    "start_time": "2022-09-03T04:40:53.911Z"
   },
   {
    "duration": 194,
    "start_time": "2022-09-03T04:41:07.519Z"
   },
   {
    "duration": 195,
    "start_time": "2022-09-03T04:41:15.685Z"
   },
   {
    "duration": 160,
    "start_time": "2022-09-03T04:41:24.948Z"
   },
   {
    "duration": 164,
    "start_time": "2022-09-03T04:41:33.833Z"
   },
   {
    "duration": 152,
    "start_time": "2022-09-03T04:41:39.053Z"
   },
   {
    "duration": 9,
    "start_time": "2022-09-03T04:42:21.392Z"
   },
   {
    "duration": 10,
    "start_time": "2022-09-03T04:42:27.558Z"
   },
   {
    "duration": 9,
    "start_time": "2022-09-03T04:42:49.086Z"
   },
   {
    "duration": 9,
    "start_time": "2022-09-03T04:43:50.413Z"
   },
   {
    "duration": 147,
    "start_time": "2022-09-03T04:44:48.309Z"
   },
   {
    "duration": 151,
    "start_time": "2022-09-03T04:45:13.935Z"
   },
   {
    "duration": 152,
    "start_time": "2022-09-03T04:45:17.295Z"
   },
   {
    "duration": 155,
    "start_time": "2022-09-03T04:45:27.789Z"
   },
   {
    "duration": 78,
    "start_time": "2022-09-03T04:57:10.155Z"
   },
   {
    "duration": 293,
    "start_time": "2022-09-03T05:01:33.068Z"
   },
   {
    "duration": 333,
    "start_time": "2022-09-03T05:01:48.256Z"
   },
   {
    "duration": 7,
    "start_time": "2022-09-03T05:01:59.844Z"
   },
   {
    "duration": 5,
    "start_time": "2022-09-03T05:02:00.612Z"
   },
   {
    "duration": 450,
    "start_time": "2022-09-03T05:02:51.705Z"
   },
   {
    "duration": 11,
    "start_time": "2022-09-03T05:04:09.744Z"
   },
   {
    "duration": 68,
    "start_time": "2022-09-03T05:06:56.617Z"
   },
   {
    "duration": 72,
    "start_time": "2022-09-03T05:08:59.807Z"
   },
   {
    "duration": 14,
    "start_time": "2022-09-03T05:09:39.712Z"
   },
   {
    "duration": 172,
    "start_time": "2022-09-03T05:09:47.072Z"
   },
   {
    "duration": 121,
    "start_time": "2022-09-03T05:14:05.504Z"
   },
   {
    "duration": 18,
    "start_time": "2022-09-03T05:23:39.649Z"
   },
   {
    "duration": 172,
    "start_time": "2022-09-03T05:23:56.067Z"
   },
   {
    "duration": 167,
    "start_time": "2022-09-03T05:25:05.618Z"
   },
   {
    "duration": 104,
    "start_time": "2022-09-03T05:30:52.338Z"
   },
   {
    "duration": 213,
    "start_time": "2022-09-03T05:32:01.306Z"
   },
   {
    "duration": 142,
    "start_time": "2022-09-03T05:36:55.412Z"
   },
   {
    "duration": 70,
    "start_time": "2022-09-03T05:38:39.372Z"
   },
   {
    "duration": 19,
    "start_time": "2022-09-03T05:43:28.177Z"
   },
   {
    "duration": 222,
    "start_time": "2022-09-03T05:43:41.086Z"
   },
   {
    "duration": 782,
    "start_time": "2022-09-03T05:45:18.206Z"
   },
   {
    "duration": 450,
    "start_time": "2022-09-03T05:45:20.440Z"
   },
   {
    "duration": 3,
    "start_time": "2022-09-03T05:49:01.649Z"
   },
   {
    "duration": 16,
    "start_time": "2022-09-03T05:51:19.643Z"
   },
   {
    "duration": 17,
    "start_time": "2022-09-03T05:51:41.851Z"
   },
   {
    "duration": 15,
    "start_time": "2022-09-03T05:52:37.916Z"
   },
   {
    "duration": 21,
    "start_time": "2022-09-03T05:53:09.706Z"
   },
   {
    "duration": 39,
    "start_time": "2022-09-03T05:53:20.756Z"
   },
   {
    "duration": 24,
    "start_time": "2022-09-03T05:54:28.995Z"
   },
   {
    "duration": 17,
    "start_time": "2022-09-03T05:54:44.929Z"
   },
   {
    "duration": 23,
    "start_time": "2022-09-03T05:55:41.916Z"
   },
   {
    "duration": 28,
    "start_time": "2022-09-03T05:55:51.764Z"
   },
   {
    "duration": 6,
    "start_time": "2022-09-03T05:56:16.109Z"
   },
   {
    "duration": 13,
    "start_time": "2022-09-03T05:58:58.379Z"
   },
   {
    "duration": 13,
    "start_time": "2022-09-03T05:59:43.353Z"
   },
   {
    "duration": 15,
    "start_time": "2022-09-03T06:00:26.855Z"
   },
   {
    "duration": 23,
    "start_time": "2022-09-03T06:00:50.948Z"
   },
   {
    "duration": 26,
    "start_time": "2022-09-03T06:01:37.778Z"
   },
   {
    "duration": 13,
    "start_time": "2022-09-03T06:02:03.664Z"
   },
   {
    "duration": 19,
    "start_time": "2022-09-03T06:02:25.950Z"
   },
   {
    "duration": 13,
    "start_time": "2022-09-03T06:03:33.421Z"
   },
   {
    "duration": 11,
    "start_time": "2022-09-03T06:03:44.129Z"
   },
   {
    "duration": 6,
    "start_time": "2022-09-03T06:04:41.741Z"
   },
   {
    "duration": 15,
    "start_time": "2022-09-03T06:05:50.709Z"
   },
   {
    "duration": 11,
    "start_time": "2022-09-03T06:06:17.748Z"
   },
   {
    "duration": 23,
    "start_time": "2022-09-03T06:06:32.615Z"
   },
   {
    "duration": 19,
    "start_time": "2022-09-03T06:06:59.513Z"
   },
   {
    "duration": 17,
    "start_time": "2022-09-03T06:07:37.602Z"
   },
   {
    "duration": 17,
    "start_time": "2022-09-03T06:07:46.027Z"
   },
   {
    "duration": 14,
    "start_time": "2022-09-03T06:07:58.014Z"
   },
   {
    "duration": 12,
    "start_time": "2022-09-03T06:07:58.919Z"
   },
   {
    "duration": 12,
    "start_time": "2022-09-03T06:08:03.320Z"
   },
   {
    "duration": 15,
    "start_time": "2022-09-03T06:08:07.509Z"
   },
   {
    "duration": 6,
    "start_time": "2022-09-03T06:08:28.623Z"
   },
   {
    "duration": 27,
    "start_time": "2022-09-03T06:12:40.220Z"
   },
   {
    "duration": 6,
    "start_time": "2022-09-03T06:13:45.854Z"
   },
   {
    "duration": 26,
    "start_time": "2022-09-03T06:16:32.704Z"
   },
   {
    "duration": 6,
    "start_time": "2022-09-03T06:16:38.057Z"
   },
   {
    "duration": 29,
    "start_time": "2022-09-03T06:21:17.218Z"
   },
   {
    "duration": 5,
    "start_time": "2022-09-03T06:21:43.057Z"
   },
   {
    "duration": 81,
    "start_time": "2022-09-03T18:52:30.427Z"
   },
   {
    "duration": 3,
    "start_time": "2022-09-03T18:58:06.734Z"
   },
   {
    "duration": 55,
    "start_time": "2022-09-03T18:58:07.871Z"
   },
   {
    "duration": 14,
    "start_time": "2022-09-03T18:58:08.906Z"
   },
   {
    "duration": 16,
    "start_time": "2022-09-03T18:58:09.965Z"
   },
   {
    "duration": 4,
    "start_time": "2022-09-03T18:58:13.079Z"
   },
   {
    "duration": 7,
    "start_time": "2022-09-03T18:58:15.949Z"
   },
   {
    "duration": 13,
    "start_time": "2022-09-03T18:58:18.086Z"
   },
   {
    "duration": 16,
    "start_time": "2022-09-03T18:58:23.510Z"
   },
   {
    "duration": 268,
    "start_time": "2022-09-03T18:58:32.598Z"
   },
   {
    "duration": 230,
    "start_time": "2022-09-03T18:58:51.500Z"
   },
   {
    "duration": 74,
    "start_time": "2022-09-03T18:59:55.460Z"
   },
   {
    "duration": 201,
    "start_time": "2022-09-03T19:00:04.252Z"
   },
   {
    "duration": 257,
    "start_time": "2022-09-03T19:03:11.569Z"
   },
   {
    "duration": 263,
    "start_time": "2022-09-03T19:04:16.055Z"
   },
   {
    "duration": 199,
    "start_time": "2022-09-03T19:04:53.074Z"
   },
   {
    "duration": 205,
    "start_time": "2022-09-03T19:08:47.634Z"
   },
   {
    "duration": 83,
    "start_time": "2022-09-03T19:09:32.597Z"
   },
   {
    "duration": 204,
    "start_time": "2022-09-03T19:11:21.559Z"
   },
   {
    "duration": 12,
    "start_time": "2022-09-03T19:14:28.972Z"
   },
   {
    "duration": 8,
    "start_time": "2022-09-03T19:14:47.142Z"
   },
   {
    "duration": 24,
    "start_time": "2022-09-03T19:14:50.543Z"
   },
   {
    "duration": 27,
    "start_time": "2022-09-03T19:14:51.303Z"
   },
   {
    "duration": 22,
    "start_time": "2022-09-03T19:14:56.407Z"
   },
   {
    "duration": 327,
    "start_time": "2022-09-03T19:15:00.877Z"
   },
   {
    "duration": 19,
    "start_time": "2022-09-03T19:23:59.566Z"
   },
   {
    "duration": 18,
    "start_time": "2022-09-03T19:24:12.710Z"
   },
   {
    "duration": 70,
    "start_time": "2022-09-03T19:24:17.982Z"
   },
   {
    "duration": 9,
    "start_time": "2022-09-03T19:24:22.293Z"
   },
   {
    "duration": 9,
    "start_time": "2022-09-03T19:25:20.095Z"
   },
   {
    "duration": 4,
    "start_time": "2022-09-03T19:26:15.151Z"
   },
   {
    "duration": 12,
    "start_time": "2022-09-03T19:28:01.042Z"
   },
   {
    "duration": 4,
    "start_time": "2022-09-03T19:28:14.593Z"
   },
   {
    "duration": 51,
    "start_time": "2022-09-03T19:28:15.038Z"
   },
   {
    "duration": 14,
    "start_time": "2022-09-03T19:28:15.397Z"
   },
   {
    "duration": 14,
    "start_time": "2022-09-03T19:28:15.883Z"
   },
   {
    "duration": 3,
    "start_time": "2022-09-03T19:28:17.284Z"
   },
   {
    "duration": 7,
    "start_time": "2022-09-03T19:28:20.443Z"
   },
   {
    "duration": 13,
    "start_time": "2022-09-03T19:28:21.935Z"
   },
   {
    "duration": 31,
    "start_time": "2022-09-03T19:28:25.159Z"
   },
   {
    "duration": 19,
    "start_time": "2022-09-03T19:28:29.368Z"
   },
   {
    "duration": 15,
    "start_time": "2022-09-03T19:28:32.065Z"
   },
   {
    "duration": 12,
    "start_time": "2022-09-03T19:28:37.268Z"
   },
   {
    "duration": 261,
    "start_time": "2022-09-03T19:29:51.462Z"
   },
   {
    "duration": 18,
    "start_time": "2022-09-03T19:30:02.335Z"
   },
   {
    "duration": 15,
    "start_time": "2022-09-03T19:30:42.189Z"
   },
   {
    "duration": 9,
    "start_time": "2022-09-03T19:31:08.970Z"
   },
   {
    "duration": 19,
    "start_time": "2022-09-03T19:31:25.760Z"
   },
   {
    "duration": 288,
    "start_time": "2022-09-03T19:31:52.083Z"
   },
   {
    "duration": 124,
    "start_time": "2022-09-03T19:32:19.208Z"
   },
   {
    "duration": 278,
    "start_time": "2022-09-03T19:32:24.603Z"
   },
   {
    "duration": 295,
    "start_time": "2022-09-03T19:32:32.641Z"
   },
   {
    "duration": 340,
    "start_time": "2022-09-03T19:32:41.099Z"
   },
   {
    "duration": 389,
    "start_time": "2022-09-03T19:34:15.469Z"
   },
   {
    "duration": 298,
    "start_time": "2022-09-03T19:35:15.056Z"
   },
   {
    "duration": 290,
    "start_time": "2022-09-03T19:35:35.647Z"
   },
   {
    "duration": 327,
    "start_time": "2022-09-03T19:35:44.980Z"
   },
   {
    "duration": 264,
    "start_time": "2022-09-03T19:36:20.677Z"
   },
   {
    "duration": 268,
    "start_time": "2022-09-03T19:38:06.799Z"
   },
   {
    "duration": 415,
    "start_time": "2022-09-03T19:38:35.035Z"
   },
   {
    "duration": 270,
    "start_time": "2022-09-03T19:38:54.082Z"
   },
   {
    "duration": 301,
    "start_time": "2022-09-03T19:39:09.858Z"
   },
   {
    "duration": 176,
    "start_time": "2022-09-03T19:39:20.876Z"
   },
   {
    "duration": 366,
    "start_time": "2022-09-03T19:40:41.268Z"
   },
   {
    "duration": 175,
    "start_time": "2022-09-03T19:41:09.084Z"
   },
   {
    "duration": 3,
    "start_time": "2022-09-03T19:42:07.270Z"
   },
   {
    "duration": 53,
    "start_time": "2022-09-03T19:42:08.148Z"
   },
   {
    "duration": 16,
    "start_time": "2022-09-03T19:42:10.240Z"
   },
   {
    "duration": 13,
    "start_time": "2022-09-03T19:42:12.112Z"
   },
   {
    "duration": 3,
    "start_time": "2022-09-03T19:42:14.940Z"
   },
   {
    "duration": 9,
    "start_time": "2022-09-03T19:42:16.225Z"
   },
   {
    "duration": 17,
    "start_time": "2022-09-03T19:42:18.129Z"
   },
   {
    "duration": 17,
    "start_time": "2022-09-03T19:42:44.877Z"
   },
   {
    "duration": 22,
    "start_time": "2022-09-03T19:42:55.541Z"
   },
   {
    "duration": 170,
    "start_time": "2022-09-03T19:43:56.778Z"
   },
   {
    "duration": 185,
    "start_time": "2022-09-03T19:44:50.822Z"
   },
   {
    "duration": 182,
    "start_time": "2022-09-03T19:45:21.724Z"
   },
   {
    "duration": 178,
    "start_time": "2022-09-03T19:45:39.230Z"
   },
   {
    "duration": 325,
    "start_time": "2022-09-03T19:48:25.295Z"
   },
   {
    "duration": 449,
    "start_time": "2022-09-03T19:49:01.409Z"
   },
   {
    "duration": 293,
    "start_time": "2022-09-03T19:49:10.822Z"
   },
   {
    "duration": 308,
    "start_time": "2022-09-03T19:49:17.847Z"
   },
   {
    "duration": 309,
    "start_time": "2022-09-03T19:49:31.820Z"
   },
   {
    "duration": 266,
    "start_time": "2022-09-03T19:49:48.391Z"
   },
   {
    "duration": 9,
    "start_time": "2022-09-03T19:50:08.529Z"
   },
   {
    "duration": 279,
    "start_time": "2022-09-03T19:50:10.964Z"
   },
   {
    "duration": 172,
    "start_time": "2022-09-03T19:50:28.285Z"
   },
   {
    "duration": 18,
    "start_time": "2022-09-03T19:52:56.155Z"
   },
   {
    "duration": 17,
    "start_time": "2022-09-03T19:53:14.376Z"
   },
   {
    "duration": 3,
    "start_time": "2022-09-03T19:53:17.783Z"
   },
   {
    "duration": 5,
    "start_time": "2022-09-03T19:53:18.214Z"
   },
   {
    "duration": 89,
    "start_time": "2022-09-03T19:53:18.955Z"
   },
   {
    "duration": 13,
    "start_time": "2022-09-03T19:53:19.661Z"
   },
   {
    "duration": 273,
    "start_time": "2022-09-03T19:53:30.442Z"
   },
   {
    "duration": 201,
    "start_time": "2022-09-03T19:53:37.654Z"
   },
   {
    "duration": 6,
    "start_time": "2022-09-03T19:53:49.171Z"
   },
   {
    "duration": 200,
    "start_time": "2022-09-03T19:53:50.049Z"
   },
   {
    "duration": 547,
    "start_time": "2022-09-03T19:54:00.238Z"
   },
   {
    "duration": 256,
    "start_time": "2022-09-03T19:54:04.662Z"
   },
   {
    "duration": 159,
    "start_time": "2022-09-03T19:54:07.004Z"
   },
   {
    "duration": 8,
    "start_time": "2022-09-03T19:56:06.525Z"
   },
   {
    "duration": 34,
    "start_time": "2022-09-03T19:56:07.227Z"
   },
   {
    "duration": 353,
    "start_time": "2022-09-03T19:56:22.431Z"
   },
   {
    "duration": 188,
    "start_time": "2022-09-03T19:56:33.335Z"
   },
   {
    "duration": 10,
    "start_time": "2022-09-03T19:56:36.466Z"
   },
   {
    "duration": 147,
    "start_time": "2022-09-03T19:56:44.862Z"
   },
   {
    "duration": 157,
    "start_time": "2022-09-03T19:56:55.793Z"
   },
   {
    "duration": 177,
    "start_time": "2022-09-03T19:57:02.286Z"
   },
   {
    "duration": 14,
    "start_time": "2022-09-03T20:02:14.572Z"
   },
   {
    "duration": 167,
    "start_time": "2022-09-03T20:02:43.512Z"
   },
   {
    "duration": 164,
    "start_time": "2022-09-03T20:02:59.762Z"
   },
   {
    "duration": 163,
    "start_time": "2022-09-03T20:03:54.140Z"
   },
   {
    "duration": 181,
    "start_time": "2022-09-03T20:04:06.778Z"
   },
   {
    "duration": 169,
    "start_time": "2022-09-03T20:04:14.014Z"
   },
   {
    "duration": 30,
    "start_time": "2022-09-03T20:05:34.562Z"
   },
   {
    "duration": 28,
    "start_time": "2022-09-03T20:05:50.618Z"
   },
   {
    "duration": 26,
    "start_time": "2022-09-03T20:06:04.682Z"
   },
   {
    "duration": 44,
    "start_time": "2022-09-03T20:06:16.668Z"
   },
   {
    "duration": 20,
    "start_time": "2022-09-03T20:06:25.382Z"
   },
   {
    "duration": 16,
    "start_time": "2022-09-03T20:06:44.125Z"
   },
   {
    "duration": 786,
    "start_time": "2022-09-03T20:08:35.017Z"
   },
   {
    "duration": 176,
    "start_time": "2022-09-03T20:09:21.696Z"
   },
   {
    "duration": 184,
    "start_time": "2022-09-03T20:11:25.138Z"
   },
   {
    "duration": 49,
    "start_time": "2022-09-03T21:52:12.168Z"
   },
   {
    "duration": 1389,
    "start_time": "2022-09-03T21:52:18.404Z"
   },
   {
    "duration": 94,
    "start_time": "2022-09-03T21:52:19.795Z"
   },
   {
    "duration": 15,
    "start_time": "2022-09-03T21:52:19.890Z"
   },
   {
    "duration": 18,
    "start_time": "2022-09-03T21:52:19.906Z"
   },
   {
    "duration": 3,
    "start_time": "2022-09-03T21:52:21.474Z"
   },
   {
    "duration": 8,
    "start_time": "2022-09-03T21:52:22.217Z"
   },
   {
    "duration": 14,
    "start_time": "2022-09-03T21:52:22.588Z"
   },
   {
    "duration": 23,
    "start_time": "2022-09-03T21:52:23.146Z"
   },
   {
    "duration": 199,
    "start_time": "2022-09-03T21:52:23.727Z"
   },
   {
    "duration": 224,
    "start_time": "2022-09-03T21:52:23.928Z"
   },
   {
    "duration": 332,
    "start_time": "2022-09-03T21:52:24.706Z"
   },
   {
    "duration": 348,
    "start_time": "2022-09-03T21:52:25.275Z"
   },
   {
    "duration": 304,
    "start_time": "2022-09-03T21:52:25.625Z"
   },
   {
    "duration": 7,
    "start_time": "2022-09-03T21:52:26.307Z"
   },
   {
    "duration": 364,
    "start_time": "2022-09-03T21:52:26.928Z"
   },
   {
    "duration": 214,
    "start_time": "2022-09-03T21:52:27.314Z"
   },
   {
    "duration": 18,
    "start_time": "2022-09-03T21:52:28.129Z"
   },
   {
    "duration": 3,
    "start_time": "2022-09-03T21:52:28.737Z"
   },
   {
    "duration": 5,
    "start_time": "2022-09-03T21:52:28.939Z"
   },
   {
    "duration": 102,
    "start_time": "2022-09-03T21:52:29.183Z"
   },
   {
    "duration": 16,
    "start_time": "2022-09-03T21:52:29.377Z"
   },
   {
    "duration": 263,
    "start_time": "2022-09-03T21:52:29.735Z"
   },
   {
    "duration": 215,
    "start_time": "2022-09-03T21:52:30.456Z"
   },
   {
    "duration": 7,
    "start_time": "2022-09-03T21:52:31.099Z"
   },
   {
    "duration": 215,
    "start_time": "2022-09-03T21:52:31.315Z"
   },
   {
    "duration": 420,
    "start_time": "2022-09-03T21:52:32.241Z"
   },
   {
    "duration": 267,
    "start_time": "2022-09-03T21:52:32.875Z"
   },
   {
    "duration": 5,
    "start_time": "2022-09-03T21:52:33.595Z"
   },
   {
    "duration": 503,
    "start_time": "2022-09-03T21:52:33.732Z"
   },
   {
    "duration": 164,
    "start_time": "2022-09-03T21:52:34.990Z"
   },
   {
    "duration": 9,
    "start_time": "2022-09-03T21:52:35.263Z"
   },
   {
    "duration": 165,
    "start_time": "2022-09-03T21:52:35.998Z"
   },
   {
    "duration": 179,
    "start_time": "2022-09-03T21:52:36.800Z"
   },
   {
    "duration": 202,
    "start_time": "2022-09-03T21:52:37.729Z"
   },
   {
    "duration": 177,
    "start_time": "2022-09-03T21:52:38.734Z"
   },
   {
    "duration": 219,
    "start_time": "2022-09-03T21:52:38.969Z"
   },
   {
    "duration": 193,
    "start_time": "2022-09-03T21:52:39.190Z"
   },
   {
    "duration": 185,
    "start_time": "2022-09-03T21:52:45.269Z"
   },
   {
    "duration": 168,
    "start_time": "2022-09-03T21:52:45.825Z"
   },
   {
    "duration": 203,
    "start_time": "2022-09-03T21:52:46.900Z"
   },
   {
    "duration": 188,
    "start_time": "2022-09-03T21:53:21.286Z"
   },
   {
    "duration": 181,
    "start_time": "2022-09-03T21:54:09.203Z"
   },
   {
    "duration": 70,
    "start_time": "2022-09-03T21:57:03.401Z"
   },
   {
    "duration": 42,
    "start_time": "2022-09-03T21:59:20.642Z"
   },
   {
    "duration": 48,
    "start_time": "2022-09-03T22:00:53.682Z"
   },
   {
    "duration": 57,
    "start_time": "2022-09-03T22:07:25.861Z"
   },
   {
    "duration": 50,
    "start_time": "2022-09-03T22:07:28.060Z"
   },
   {
    "duration": 194,
    "start_time": "2022-09-03T22:17:40.840Z"
   },
   {
    "duration": 312,
    "start_time": "2022-09-03T22:19:12.654Z"
   },
   {
    "duration": 239,
    "start_time": "2022-09-03T22:19:24.153Z"
   },
   {
    "duration": 223,
    "start_time": "2022-09-03T22:19:47.797Z"
   },
   {
    "duration": 203,
    "start_time": "2022-09-03T22:20:14.959Z"
   },
   {
    "duration": 246,
    "start_time": "2022-09-03T22:20:54.285Z"
   },
   {
    "duration": 220,
    "start_time": "2022-09-03T22:21:05.427Z"
   },
   {
    "duration": 77,
    "start_time": "2022-09-03T22:22:33.240Z"
   },
   {
    "duration": 52,
    "start_time": "2022-09-03T22:24:00.833Z"
   },
   {
    "duration": 70,
    "start_time": "2022-09-03T22:25:20.898Z"
   },
   {
    "duration": 47,
    "start_time": "2022-09-03T22:25:23.526Z"
   },
   {
    "duration": 45,
    "start_time": "2022-09-03T22:30:43.647Z"
   },
   {
    "duration": 1051,
    "start_time": "2022-09-03T22:38:45.173Z"
   },
   {
    "duration": 149,
    "start_time": "2022-09-03T22:39:31.901Z"
   },
   {
    "duration": 164,
    "start_time": "2022-09-03T22:40:30.001Z"
   },
   {
    "duration": 175,
    "start_time": "2022-09-03T22:41:09.601Z"
   },
   {
    "duration": 169,
    "start_time": "2022-09-03T22:41:53.578Z"
   },
   {
    "duration": 165,
    "start_time": "2022-09-03T22:42:20.120Z"
   },
   {
    "duration": 173,
    "start_time": "2022-09-03T22:42:24.359Z"
   },
   {
    "duration": 165,
    "start_time": "2022-09-03T22:42:29.133Z"
   },
   {
    "duration": 165,
    "start_time": "2022-09-03T22:43:03.824Z"
   },
   {
    "duration": 48,
    "start_time": "2022-09-03T23:06:07.783Z"
   },
   {
    "duration": 41,
    "start_time": "2022-09-03T23:12:47.689Z"
   },
   {
    "duration": 52,
    "start_time": "2022-09-03T23:19:33.735Z"
   },
   {
    "duration": 49,
    "start_time": "2022-09-03T23:19:48.185Z"
   },
   {
    "duration": 46,
    "start_time": "2022-09-03T23:20:26.213Z"
   },
   {
    "duration": 43,
    "start_time": "2022-09-03T23:20:28.660Z"
   },
   {
    "duration": 207,
    "start_time": "2022-09-03T23:23:07.268Z"
   },
   {
    "duration": 93,
    "start_time": "2022-09-03T23:25:58.474Z"
   },
   {
    "duration": 13,
    "start_time": "2022-09-03T23:58:31.689Z"
   },
   {
    "duration": 188,
    "start_time": "2022-09-03T23:59:09.456Z"
   },
   {
    "duration": 25,
    "start_time": "2022-09-04T00:03:34.705Z"
   },
   {
    "duration": 8,
    "start_time": "2022-09-04T00:04:02.252Z"
   },
   {
    "duration": 9,
    "start_time": "2022-09-04T00:04:34.211Z"
   },
   {
    "duration": 9,
    "start_time": "2022-09-04T00:05:19.196Z"
   },
   {
    "duration": 6,
    "start_time": "2022-09-04T00:05:26.479Z"
   },
   {
    "duration": 5,
    "start_time": "2022-09-04T00:06:18.268Z"
   },
   {
    "duration": 52,
    "start_time": "2022-09-04T00:07:12.772Z"
   },
   {
    "duration": 38,
    "start_time": "2022-09-04T00:07:21.517Z"
   },
   {
    "duration": 47,
    "start_time": "2022-09-04T00:07:39.407Z"
   },
   {
    "duration": 86,
    "start_time": "2022-09-04T00:07:45.348Z"
   },
   {
    "duration": 9,
    "start_time": "2022-09-04T00:07:53.381Z"
   },
   {
    "duration": 7,
    "start_time": "2022-09-04T00:07:59.951Z"
   },
   {
    "duration": 14,
    "start_time": "2022-09-04T00:10:32.838Z"
   },
   {
    "duration": 15,
    "start_time": "2022-09-04T00:10:44.270Z"
   },
   {
    "duration": 9,
    "start_time": "2022-09-04T00:10:56.168Z"
   },
   {
    "duration": 5,
    "start_time": "2022-09-04T00:11:03.602Z"
   },
   {
    "duration": 7,
    "start_time": "2022-09-04T00:12:00.391Z"
   },
   {
    "duration": 5,
    "start_time": "2022-09-04T00:12:27.055Z"
   },
   {
    "duration": 52,
    "start_time": "2022-09-04T00:18:14.682Z"
   },
   {
    "duration": 16,
    "start_time": "2022-09-04T00:20:54.195Z"
   },
   {
    "duration": 5,
    "start_time": "2022-09-04T00:20:57.971Z"
   },
   {
    "duration": 26,
    "start_time": "2022-09-04T00:22:12.808Z"
   },
   {
    "duration": 9,
    "start_time": "2022-09-04T00:22:17.123Z"
   },
   {
    "duration": 10,
    "start_time": "2022-09-04T00:22:52.393Z"
   },
   {
    "duration": 7,
    "start_time": "2022-09-04T00:23:10.030Z"
   },
   {
    "duration": 5,
    "start_time": "2022-09-04T00:23:22.276Z"
   },
   {
    "duration": 7,
    "start_time": "2022-09-04T00:30:17.105Z"
   },
   {
    "duration": 6,
    "start_time": "2022-09-04T00:30:33.861Z"
   },
   {
    "duration": 5,
    "start_time": "2022-09-04T00:30:36.910Z"
   },
   {
    "duration": 6,
    "start_time": "2022-09-04T00:31:16.834Z"
   },
   {
    "duration": 5,
    "start_time": "2022-09-04T00:31:29.162Z"
   },
   {
    "duration": 5,
    "start_time": "2022-09-04T00:38:16.051Z"
   },
   {
    "duration": 5,
    "start_time": "2022-09-04T00:38:23.951Z"
   },
   {
    "duration": 6,
    "start_time": "2022-09-04T00:38:28.224Z"
   },
   {
    "duration": 5,
    "start_time": "2022-09-04T00:38:42.374Z"
   },
   {
    "duration": 5,
    "start_time": "2022-09-04T00:47:37.250Z"
   },
   {
    "duration": 49,
    "start_time": "2022-09-04T01:19:15.435Z"
   },
   {
    "duration": 85616,
    "start_time": "2022-09-04T01:19:34.539Z"
   },
   {
    "duration": 928,
    "start_time": "2022-09-04T01:21:33.848Z"
   },
   {
    "duration": 166,
    "start_time": "2022-09-04T01:23:12.736Z"
   },
   {
    "duration": 162,
    "start_time": "2022-09-04T01:23:25.423Z"
   },
   {
    "duration": 181,
    "start_time": "2022-09-04T01:23:34.829Z"
   },
   {
    "duration": 181,
    "start_time": "2022-09-04T01:24:00.644Z"
   },
   {
    "duration": 196,
    "start_time": "2022-09-04T01:24:33.383Z"
   },
   {
    "duration": 21,
    "start_time": "2022-09-04T01:27:59.984Z"
   },
   {
    "duration": 15,
    "start_time": "2022-09-04T01:28:16.007Z"
   },
   {
    "duration": 47,
    "start_time": "2022-09-04T01:28:48.056Z"
   },
   {
    "duration": 183,
    "start_time": "2022-09-04T01:29:12.982Z"
   },
   {
    "duration": 208,
    "start_time": "2022-09-04T01:29:21.218Z"
   },
   {
    "duration": 201,
    "start_time": "2022-09-04T01:29:28.431Z"
   },
   {
    "duration": 191,
    "start_time": "2022-09-04T01:29:34.863Z"
   },
   {
    "duration": 203,
    "start_time": "2022-09-04T01:30:06.495Z"
   },
   {
    "duration": 191,
    "start_time": "2022-09-04T01:32:27.018Z"
   },
   {
    "duration": 4,
    "start_time": "2022-09-04T01:32:58.633Z"
   },
   {
    "duration": 832,
    "start_time": "2022-09-04T01:33:06.658Z"
   },
   {
    "duration": 5,
    "start_time": "2022-09-04T01:33:09.441Z"
   },
   {
    "duration": 5,
    "start_time": "2022-09-04T01:33:17.525Z"
   },
   {
    "duration": 5,
    "start_time": "2022-09-04T01:33:31.504Z"
   },
   {
    "duration": 5,
    "start_time": "2022-09-04T01:33:56.976Z"
   },
   {
    "duration": 5,
    "start_time": "2022-09-04T01:34:00.869Z"
   },
   {
    "duration": 4,
    "start_time": "2022-09-04T01:34:05.809Z"
   },
   {
    "duration": 4,
    "start_time": "2022-09-04T01:34:15.728Z"
   },
   {
    "duration": 93,
    "start_time": "2022-09-04T01:39:44.894Z"
   },
   {
    "duration": 19,
    "start_time": "2022-09-04T02:15:43.533Z"
   },
   {
    "duration": 1003,
    "start_time": "2022-09-04T02:16:02.421Z"
   },
   {
    "duration": 48,
    "start_time": "2022-09-04T02:17:46.744Z"
   },
   {
    "duration": 66,
    "start_time": "2022-09-07T01:46:39.686Z"
   },
   {
    "duration": 61,
    "start_time": "2022-09-07T01:46:52.980Z"
   },
   {
    "duration": 658,
    "start_time": "2022-09-07T01:48:21.246Z"
   },
   {
    "duration": 561,
    "start_time": "2022-09-07T01:48:24.750Z"
   },
   {
    "duration": 91,
    "start_time": "2022-09-07T01:48:25.313Z"
   },
   {
    "duration": 13,
    "start_time": "2022-09-07T01:48:25.406Z"
   },
   {
    "duration": 16,
    "start_time": "2022-09-07T01:48:25.421Z"
   },
   {
    "duration": 3,
    "start_time": "2022-09-07T01:48:25.439Z"
   },
   {
    "duration": 11,
    "start_time": "2022-09-07T01:48:25.444Z"
   },
   {
    "duration": 16,
    "start_time": "2022-09-07T01:48:25.456Z"
   },
   {
    "duration": 16,
    "start_time": "2022-09-07T01:48:25.474Z"
   },
   {
    "duration": 219,
    "start_time": "2022-09-07T01:48:25.491Z"
   },
   {
    "duration": 200,
    "start_time": "2022-09-07T01:48:25.713Z"
   },
   {
    "duration": 307,
    "start_time": "2022-09-07T01:48:25.914Z"
   },
   {
    "duration": 290,
    "start_time": "2022-09-07T01:48:26.222Z"
   },
   {
    "duration": 264,
    "start_time": "2022-09-07T01:48:26.514Z"
   },
   {
    "duration": 6,
    "start_time": "2022-09-07T01:48:26.780Z"
   },
   {
    "duration": 316,
    "start_time": "2022-09-07T01:48:26.788Z"
   },
   {
    "duration": 174,
    "start_time": "2022-09-07T01:48:27.106Z"
   },
   {
    "duration": 15,
    "start_time": "2022-09-07T01:48:27.282Z"
   },
   {
    "duration": 2,
    "start_time": "2022-09-07T01:48:27.299Z"
   },
   {
    "duration": 8,
    "start_time": "2022-09-07T01:48:27.302Z"
   },
   {
    "duration": 100,
    "start_time": "2022-09-07T01:48:27.312Z"
   },
   {
    "duration": 13,
    "start_time": "2022-09-07T01:48:27.414Z"
   },
   {
    "duration": 235,
    "start_time": "2022-09-07T01:48:27.438Z"
   },
   {
    "duration": 195,
    "start_time": "2022-09-07T01:48:27.675Z"
   },
   {
    "duration": 5,
    "start_time": "2022-09-07T01:48:27.872Z"
   },
   {
    "duration": 189,
    "start_time": "2022-09-07T01:48:27.879Z"
   },
   {
    "duration": 363,
    "start_time": "2022-09-07T01:48:28.070Z"
   },
   {
    "duration": 236,
    "start_time": "2022-09-07T01:48:28.435Z"
   },
   {
    "duration": 5,
    "start_time": "2022-09-07T01:48:28.674Z"
   },
   {
    "duration": 466,
    "start_time": "2022-09-07T01:48:28.680Z"
   },
   {
    "duration": 141,
    "start_time": "2022-09-07T01:48:29.148Z"
   },
   {
    "duration": 9,
    "start_time": "2022-09-07T01:48:29.290Z"
   },
   {
    "duration": 146,
    "start_time": "2022-09-07T01:48:29.300Z"
   },
   {
    "duration": 149,
    "start_time": "2022-09-07T01:48:29.448Z"
   },
   {
    "duration": 179,
    "start_time": "2022-09-07T01:48:29.599Z"
   },
   {
    "duration": 190,
    "start_time": "2022-09-07T01:48:29.780Z"
   },
   {
    "duration": 4,
    "start_time": "2022-09-07T01:48:29.972Z"
   },
   {
    "duration": 10,
    "start_time": "2022-09-07T01:48:29.978Z"
   },
   {
    "duration": 10,
    "start_time": "2022-09-07T01:48:29.990Z"
   },
   {
    "duration": 13,
    "start_time": "2022-09-07T01:48:30.001Z"
   },
   {
    "duration": 170,
    "start_time": "2022-09-07T01:48:30.015Z"
   },
   {
    "duration": 161,
    "start_time": "2022-09-07T01:48:30.187Z"
   },
   {
    "duration": 159,
    "start_time": "2022-09-07T01:48:30.350Z"
   },
   {
    "duration": 178,
    "start_time": "2022-09-07T01:48:30.511Z"
   },
   {
    "duration": 174,
    "start_time": "2022-09-07T01:48:30.690Z"
   },
   {
    "duration": 181,
    "start_time": "2022-09-07T01:48:30.866Z"
   },
   {
    "duration": 138,
    "start_time": "2022-09-07T01:48:31.049Z"
   },
   {
    "duration": 229,
    "start_time": "2022-09-07T01:48:31.188Z"
   },
   {
    "duration": 140,
    "start_time": "2022-09-07T01:48:31.419Z"
   },
   {
    "duration": 7,
    "start_time": "2022-09-07T01:48:31.560Z"
   },
   {
    "duration": 11,
    "start_time": "2022-09-07T01:48:31.569Z"
   },
   {
    "duration": 7,
    "start_time": "2022-09-07T01:48:33.944Z"
   },
   {
    "duration": 6,
    "start_time": "2022-09-07T01:48:34.283Z"
   },
   {
    "duration": 1280,
    "start_time": "2022-09-07T03:14:40.993Z"
   },
   {
    "duration": 95,
    "start_time": "2022-09-07T03:14:42.275Z"
   },
   {
    "duration": 15,
    "start_time": "2022-09-07T03:14:43.543Z"
   },
   {
    "duration": 17,
    "start_time": "2022-09-07T03:14:45.698Z"
   },
   {
    "duration": 4,
    "start_time": "2022-09-07T03:14:51.991Z"
   },
   {
    "duration": 102,
    "start_time": "2022-09-07T03:17:00.152Z"
   },
   {
    "duration": 7798,
    "start_time": "2022-09-07T03:20:50.575Z"
   },
   {
    "duration": 38,
    "start_time": "2022-09-07T03:22:41.160Z"
   },
   {
    "duration": 28,
    "start_time": "2022-09-07T03:23:12.699Z"
   },
   {
    "duration": 28,
    "start_time": "2022-09-07T03:23:31.795Z"
   },
   {
    "duration": 26,
    "start_time": "2022-09-07T03:23:50.218Z"
   },
   {
    "duration": 25,
    "start_time": "2022-09-07T03:29:55.193Z"
   },
   {
    "duration": 3,
    "start_time": "2022-09-07T03:31:07.207Z"
   },
   {
    "duration": 5,
    "start_time": "2022-09-07T03:31:08.081Z"
   },
   {
    "duration": 5,
    "start_time": "2022-09-07T03:32:25.030Z"
   },
   {
    "duration": 4,
    "start_time": "2022-09-07T03:32:53.614Z"
   },
   {
    "duration": 1176,
    "start_time": "2022-09-07T03:33:08.513Z"
   },
   {
    "duration": 3189,
    "start_time": "2022-09-07T03:33:57.197Z"
   },
   {
    "duration": 791,
    "start_time": "2022-09-07T03:34:18.649Z"
   },
   {
    "duration": 5,
    "start_time": "2022-09-07T03:35:42.562Z"
   },
   {
    "duration": 1195,
    "start_time": "2022-09-07T03:37:05.214Z"
   },
   {
    "duration": 4,
    "start_time": "2022-09-07T03:37:38.178Z"
   },
   {
    "duration": 947,
    "start_time": "2022-09-07T03:38:10.388Z"
   },
   {
    "duration": 15,
    "start_time": "2022-09-07T03:40:32.150Z"
   },
   {
    "duration": 19,
    "start_time": "2022-09-07T03:40:55.928Z"
   },
   {
    "duration": 3,
    "start_time": "2022-09-07T03:41:10.736Z"
   },
   {
    "duration": 15,
    "start_time": "2022-09-07T03:41:12.967Z"
   },
   {
    "duration": 1303,
    "start_time": "2022-09-07T03:42:23.029Z"
   },
   {
    "duration": 52,
    "start_time": "2022-09-07T03:51:10.366Z"
   },
   {
    "duration": 49,
    "start_time": "2022-09-07T03:51:31.320Z"
   },
   {
    "duration": 3,
    "start_time": "2022-09-07T03:51:47.536Z"
   },
   {
    "duration": 50,
    "start_time": "2022-09-07T03:51:49.302Z"
   },
   {
    "duration": 16,
    "start_time": "2022-09-07T03:51:50.377Z"
   },
   {
    "duration": 13,
    "start_time": "2022-09-07T03:51:51.607Z"
   },
   {
    "duration": 3,
    "start_time": "2022-09-07T03:51:53.496Z"
   },
   {
    "duration": 11,
    "start_time": "2022-09-07T03:51:55.354Z"
   },
   {
    "duration": 26,
    "start_time": "2022-09-07T03:51:57.612Z"
   },
   {
    "duration": 63,
    "start_time": "2022-09-07T03:52:01.267Z"
   },
   {
    "duration": 197,
    "start_time": "2022-09-07T03:52:14.356Z"
   },
   {
    "duration": 46,
    "start_time": "2022-09-07T03:52:53.312Z"
   },
   {
    "duration": 171,
    "start_time": "2022-09-07T03:53:09.360Z"
   },
   {
    "duration": 8,
    "start_time": "2022-09-07T03:56:29.289Z"
   },
   {
    "duration": 14,
    "start_time": "2022-09-07T03:56:46.397Z"
   },
   {
    "duration": 22,
    "start_time": "2022-09-07T04:01:03.499Z"
   },
   {
    "duration": 14,
    "start_time": "2022-09-07T04:02:03.432Z"
   },
   {
    "duration": 13,
    "start_time": "2022-09-07T04:02:06.107Z"
   },
   {
    "duration": 3,
    "start_time": "2022-09-07T04:02:09.909Z"
   },
   {
    "duration": 8,
    "start_time": "2022-09-07T04:02:16.878Z"
   },
   {
    "duration": 28,
    "start_time": "2022-09-07T04:02:27.773Z"
   },
   {
    "duration": 22,
    "start_time": "2022-09-07T04:02:31.807Z"
   },
   {
    "duration": 24,
    "start_time": "2022-09-07T04:02:32.354Z"
   },
   {
    "duration": 4,
    "start_time": "2022-09-07T04:02:40.855Z"
   },
   {
    "duration": 51,
    "start_time": "2022-09-07T04:02:41.385Z"
   },
   {
    "duration": 14,
    "start_time": "2022-09-07T04:02:41.803Z"
   },
   {
    "duration": 13,
    "start_time": "2022-09-07T04:02:42.737Z"
   },
   {
    "duration": 3,
    "start_time": "2022-09-07T04:02:44.755Z"
   },
   {
    "duration": 8,
    "start_time": "2022-09-07T04:02:46.587Z"
   },
   {
    "duration": 25,
    "start_time": "2022-09-07T04:02:48.034Z"
   },
   {
    "duration": 201,
    "start_time": "2022-09-07T04:02:49.267Z"
   },
   {
    "duration": 218,
    "start_time": "2022-09-07T04:02:50.410Z"
   },
   {
    "duration": 7,
    "start_time": "2022-09-07T04:02:51.449Z"
   },
   {
    "duration": 3,
    "start_time": "2022-09-07T04:03:01.593Z"
   },
   {
    "duration": 51,
    "start_time": "2022-09-07T04:03:03.405Z"
   },
   {
    "duration": 14,
    "start_time": "2022-09-07T04:03:04.156Z"
   },
   {
    "duration": 12,
    "start_time": "2022-09-07T04:03:04.557Z"
   },
   {
    "duration": 3,
    "start_time": "2022-09-07T04:03:06.255Z"
   },
   {
    "duration": 7,
    "start_time": "2022-09-07T04:03:09.443Z"
   },
   {
    "duration": 17,
    "start_time": "2022-09-07T04:03:11.198Z"
   },
   {
    "duration": 183,
    "start_time": "2022-09-07T04:03:12.639Z"
   },
   {
    "duration": 201,
    "start_time": "2022-09-07T04:03:14.176Z"
   },
   {
    "duration": 11,
    "start_time": "2022-09-07T04:03:23.793Z"
   },
   {
    "duration": 16,
    "start_time": "2022-09-07T04:03:25.820Z"
   },
   {
    "duration": 23,
    "start_time": "2022-09-07T04:03:40.194Z"
   },
   {
    "duration": 6,
    "start_time": "2022-09-07T04:04:25.438Z"
   },
   {
    "duration": 25,
    "start_time": "2022-09-07T04:04:39.031Z"
   },
   {
    "duration": 7,
    "start_time": "2022-09-07T04:04:59.763Z"
   },
   {
    "duration": 9,
    "start_time": "2022-09-07T04:05:12.435Z"
   },
   {
    "duration": 2,
    "start_time": "2022-09-07T04:05:52.299Z"
   },
   {
    "duration": 54,
    "start_time": "2022-09-07T04:05:52.786Z"
   },
   {
    "duration": 13,
    "start_time": "2022-09-07T04:05:53.212Z"
   },
   {
    "duration": 13,
    "start_time": "2022-09-07T04:05:55.299Z"
   },
   {
    "duration": 4,
    "start_time": "2022-09-07T04:05:57.226Z"
   },
   {
    "duration": 7,
    "start_time": "2022-09-07T04:06:01.551Z"
   },
   {
    "duration": 9,
    "start_time": "2022-09-07T04:06:04.658Z"
   },
   {
    "duration": 174,
    "start_time": "2022-09-07T04:06:13.111Z"
   },
   {
    "duration": 205,
    "start_time": "2022-09-07T04:06:13.933Z"
   },
   {
    "duration": 8,
    "start_time": "2022-09-07T04:06:14.654Z"
   },
   {
    "duration": 14,
    "start_time": "2022-09-07T04:06:16.416Z"
   },
   {
    "duration": 21,
    "start_time": "2022-09-07T04:06:19.108Z"
   },
   {
    "duration": 21,
    "start_time": "2022-09-07T04:07:19.761Z"
   },
   {
    "duration": 18,
    "start_time": "2022-09-07T04:07:55.673Z"
   },
   {
    "duration": 16,
    "start_time": "2022-09-07T04:08:14.460Z"
   },
   {
    "duration": 20,
    "start_time": "2022-09-07T04:08:29.131Z"
   },
   {
    "duration": 7,
    "start_time": "2022-09-07T04:09:07.287Z"
   },
   {
    "duration": 15,
    "start_time": "2022-09-07T04:09:11.491Z"
   },
   {
    "duration": 461,
    "start_time": "2022-09-07T04:09:17.406Z"
   },
   {
    "duration": 321,
    "start_time": "2022-09-07T04:10:32.223Z"
   },
   {
    "duration": 279,
    "start_time": "2022-09-07T04:10:46.937Z"
   },
   {
    "duration": 8,
    "start_time": "2022-09-07T04:12:05.889Z"
   },
   {
    "duration": 369,
    "start_time": "2022-09-07T04:12:16.007Z"
   },
   {
    "duration": 193,
    "start_time": "2022-09-07T04:12:21.780Z"
   },
   {
    "duration": 4,
    "start_time": "2022-09-07T04:15:07.757Z"
   },
   {
    "duration": 12,
    "start_time": "2022-09-07T04:17:59.909Z"
   },
   {
    "duration": 14,
    "start_time": "2022-09-07T04:18:03.192Z"
   },
   {
    "duration": 197,
    "start_time": "2022-09-07T04:18:49.040Z"
   },
   {
    "duration": 269,
    "start_time": "2022-09-07T04:18:58.296Z"
   },
   {
    "duration": 9,
    "start_time": "2022-09-07T04:19:26.135Z"
   },
   {
    "duration": 9,
    "start_time": "2022-09-07T04:19:37.997Z"
   },
   {
    "duration": 18,
    "start_time": "2022-09-07T04:19:49.888Z"
   },
   {
    "duration": 5,
    "start_time": "2022-09-07T04:20:41.694Z"
   },
   {
    "duration": 13,
    "start_time": "2022-09-07T04:20:46.208Z"
   },
   {
    "duration": 4,
    "start_time": "2022-09-07T04:25:20.183Z"
   },
   {
    "duration": 11,
    "start_time": "2022-09-07T04:25:20.807Z"
   },
   {
    "duration": 5,
    "start_time": "2022-09-07T04:25:32.977Z"
   },
   {
    "duration": 3,
    "start_time": "2022-09-07T04:25:35.411Z"
   },
   {
    "duration": 215,
    "start_time": "2022-09-07T04:25:41.267Z"
   },
   {
    "duration": 318,
    "start_time": "2022-09-07T04:25:48.879Z"
   },
   {
    "duration": 7,
    "start_time": "2022-09-07T04:25:51.050Z"
   },
   {
    "duration": 13,
    "start_time": "2022-09-07T04:25:57.217Z"
   },
   {
    "duration": 25,
    "start_time": "2022-09-07T04:47:41.727Z"
   },
   {
    "duration": 11,
    "start_time": "2022-09-07T04:48:05.901Z"
   },
   {
    "duration": 12,
    "start_time": "2022-09-07T04:48:13.766Z"
   },
   {
    "duration": 206,
    "start_time": "2022-09-07T04:48:34.668Z"
   },
   {
    "duration": 8,
    "start_time": "2022-09-07T04:49:10.054Z"
   },
   {
    "duration": 4,
    "start_time": "2022-09-07T04:49:19.251Z"
   },
   {
    "duration": 49,
    "start_time": "2022-09-07T04:49:20.982Z"
   },
   {
    "duration": 13,
    "start_time": "2022-09-07T04:49:21.988Z"
   },
   {
    "duration": 26,
    "start_time": "2022-09-07T04:49:22.836Z"
   },
   {
    "duration": 3,
    "start_time": "2022-09-07T04:49:24.409Z"
   },
   {
    "duration": 18,
    "start_time": "2022-09-07T04:49:26.585Z"
   },
   {
    "duration": 188,
    "start_time": "2022-09-07T04:49:30.189Z"
   },
   {
    "duration": 214,
    "start_time": "2022-09-07T04:49:30.890Z"
   },
   {
    "duration": 7,
    "start_time": "2022-09-07T04:49:32.657Z"
   },
   {
    "duration": 8,
    "start_time": "2022-09-07T04:49:42.154Z"
   },
   {
    "duration": 9,
    "start_time": "2022-09-07T04:49:47.373Z"
   },
   {
    "duration": 210,
    "start_time": "2022-09-07T04:50:04.954Z"
   },
   {
    "duration": 9,
    "start_time": "2022-09-07T04:50:49.750Z"
   },
   {
    "duration": 14,
    "start_time": "2022-09-07T04:50:52.818Z"
   },
   {
    "duration": 10,
    "start_time": "2022-09-07T04:51:09.854Z"
   },
   {
    "duration": 17,
    "start_time": "2022-09-07T04:51:21.708Z"
   },
   {
    "duration": 366,
    "start_time": "2022-09-07T04:51:38.772Z"
   },
   {
    "duration": 19,
    "start_time": "2022-09-07T04:51:58.523Z"
   },
   {
    "duration": 24,
    "start_time": "2022-09-07T04:52:51.124Z"
   },
   {
    "duration": 4,
    "start_time": "2022-09-07T04:59:07.568Z"
   },
   {
    "duration": 5,
    "start_time": "2022-09-07T04:59:08.030Z"
   },
   {
    "duration": 241,
    "start_time": "2022-09-07T04:59:09.467Z"
   },
   {
    "duration": 26,
    "start_time": "2022-09-07T04:59:10.225Z"
   },
   {
    "duration": 3,
    "start_time": "2022-09-07T05:01:53.988Z"
   },
   {
    "duration": 64,
    "start_time": "2022-09-07T05:02:41.688Z"
   },
   {
    "duration": 110,
    "start_time": "2022-09-07T05:02:47.756Z"
   },
   {
    "duration": 69,
    "start_time": "2022-09-07T05:03:04.517Z"
   },
   {
    "duration": 342,
    "start_time": "2022-09-07T05:06:03.616Z"
   },
   {
    "duration": 292,
    "start_time": "2022-09-07T05:08:14.488Z"
   },
   {
    "duration": 9,
    "start_time": "2022-09-07T05:09:35.925Z"
   },
   {
    "duration": 183,
    "start_time": "2022-09-07T05:09:40.802Z"
   },
   {
    "duration": 178,
    "start_time": "2022-09-07T05:10:36.860Z"
   },
   {
    "duration": 10,
    "start_time": "2022-09-07T05:11:03.663Z"
   },
   {
    "duration": 17,
    "start_time": "2022-09-07T05:11:08.388Z"
   },
   {
    "duration": 13,
    "start_time": "2022-09-07T05:11:47.221Z"
   },
   {
    "duration": 14,
    "start_time": "2022-09-07T05:12:00.310Z"
   },
   {
    "duration": 19,
    "start_time": "2022-09-07T05:12:16.253Z"
   },
   {
    "duration": 324,
    "start_time": "2022-09-07T05:12:24.008Z"
   },
   {
    "duration": 177,
    "start_time": "2022-09-07T05:12:37.301Z"
   },
   {
    "duration": 49,
    "start_time": "2022-09-07T05:12:48.153Z"
   },
   {
    "duration": 362,
    "start_time": "2022-09-07T05:12:52.066Z"
   },
   {
    "duration": 3,
    "start_time": "2022-09-07T05:14:51.520Z"
   },
   {
    "duration": 52,
    "start_time": "2022-09-07T05:14:52.234Z"
   },
   {
    "duration": 15,
    "start_time": "2022-09-07T05:14:52.667Z"
   },
   {
    "duration": 13,
    "start_time": "2022-09-07T05:14:55.211Z"
   },
   {
    "duration": 4,
    "start_time": "2022-09-07T05:14:58.474Z"
   },
   {
    "duration": 24,
    "start_time": "2022-09-07T05:15:02.840Z"
   },
   {
    "duration": 198,
    "start_time": "2022-09-07T05:15:15.895Z"
   },
   {
    "duration": 195,
    "start_time": "2022-09-07T05:15:17.101Z"
   },
   {
    "duration": 7,
    "start_time": "2022-09-07T05:15:22.410Z"
   },
   {
    "duration": 19,
    "start_time": "2022-09-07T05:15:23.597Z"
   },
   {
    "duration": 349,
    "start_time": "2022-09-07T05:15:24.154Z"
   },
   {
    "duration": 297,
    "start_time": "2022-09-07T05:15:24.506Z"
   },
   {
    "duration": 7,
    "start_time": "2022-09-07T05:15:24.932Z"
   },
   {
    "duration": 306,
    "start_time": "2022-09-07T05:15:25.663Z"
   },
   {
    "duration": 223,
    "start_time": "2022-09-07T05:15:26.033Z"
   },
   {
    "duration": 5,
    "start_time": "2022-09-07T05:15:27.999Z"
   },
   {
    "duration": 6,
    "start_time": "2022-09-07T05:15:28.184Z"
   },
   {
    "duration": 242,
    "start_time": "2022-09-07T05:15:28.391Z"
   },
   {
    "duration": 23,
    "start_time": "2022-09-07T05:15:28.634Z"
   },
   {
    "duration": 343,
    "start_time": "2022-09-07T05:15:30.720Z"
   },
   {
    "duration": 290,
    "start_time": "2022-09-07T05:15:38.089Z"
   },
   {
    "duration": 7,
    "start_time": "2022-09-07T05:15:42.901Z"
   },
   {
    "duration": 183,
    "start_time": "2022-09-07T05:15:43.778Z"
   },
   {
    "duration": 203,
    "start_time": "2022-09-07T05:15:48.254Z"
   },
   {
    "duration": 185,
    "start_time": "2022-09-07T05:16:22.277Z"
   },
   {
    "duration": 66,
    "start_time": "2022-09-07T05:16:38.089Z"
   },
   {
    "duration": 212,
    "start_time": "2022-09-07T05:16:42.540Z"
   },
   {
    "duration": 390,
    "start_time": "2022-09-07T05:21:56.752Z"
   },
   {
    "duration": 19,
    "start_time": "2022-09-07T05:24:48.292Z"
   },
   {
    "duration": 25,
    "start_time": "2022-09-07T05:25:11.316Z"
   },
   {
    "duration": 24,
    "start_time": "2022-09-07T05:25:29.877Z"
   },
   {
    "duration": 41,
    "start_time": "2022-09-07T05:25:50.476Z"
   },
   {
    "duration": 16,
    "start_time": "2022-09-07T05:26:36.802Z"
   },
   {
    "duration": 29,
    "start_time": "2022-09-07T05:26:59.039Z"
   },
   {
    "duration": 16,
    "start_time": "2022-09-07T05:28:00.293Z"
   },
   {
    "duration": 10,
    "start_time": "2022-09-07T05:30:39.829Z"
   },
   {
    "duration": 11,
    "start_time": "2022-09-07T05:30:58.250Z"
   },
   {
    "duration": 9,
    "start_time": "2022-09-07T05:31:32.889Z"
   },
   {
    "duration": 9,
    "start_time": "2022-09-07T05:31:48.623Z"
   },
   {
    "duration": 293,
    "start_time": "2022-09-07T05:32:20.350Z"
   },
   {
    "duration": 281,
    "start_time": "2022-09-07T05:32:33.714Z"
   },
   {
    "duration": 7,
    "start_time": "2022-09-07T05:38:09.166Z"
   },
   {
    "duration": 383,
    "start_time": "2022-09-07T05:38:22.920Z"
   },
   {
    "duration": 601,
    "start_time": "2022-09-07T05:38:31.403Z"
   },
   {
    "duration": 13,
    "start_time": "2022-09-07T05:39:36.797Z"
   },
   {
    "duration": 13,
    "start_time": "2022-09-07T05:40:02.672Z"
   },
   {
    "duration": 134,
    "start_time": "2022-09-07T05:43:00.238Z"
   },
   {
    "duration": 51,
    "start_time": "2022-09-07T05:44:23.967Z"
   },
   {
    "duration": 14,
    "start_time": "2022-09-07T05:45:45.368Z"
   },
   {
    "duration": 1101,
    "start_time": "2022-09-07T05:45:55.450Z"
   },
   {
    "duration": 5,
    "start_time": "2022-09-07T05:46:04.130Z"
   },
   {
    "duration": 13,
    "start_time": "2022-09-07T05:46:07.353Z"
   },
   {
    "duration": 19,
    "start_time": "2022-09-07T05:46:17.091Z"
   },
   {
    "duration": 11,
    "start_time": "2022-09-07T05:53:03.554Z"
   },
   {
    "duration": 708,
    "start_time": "2022-09-07T05:53:12.154Z"
   },
   {
    "duration": 330,
    "start_time": "2022-09-07T05:54:21.836Z"
   },
   {
    "duration": 331,
    "start_time": "2022-09-07T05:55:57.173Z"
   },
   {
    "duration": 330,
    "start_time": "2022-09-07T05:57:02.673Z"
   },
   {
    "duration": 670,
    "start_time": "2022-09-07T05:59:13.865Z"
   },
   {
    "duration": 170,
    "start_time": "2022-09-07T06:05:05.254Z"
   },
   {
    "duration": 185,
    "start_time": "2022-09-07T06:08:42.725Z"
   },
   {
    "duration": 202,
    "start_time": "2022-09-07T06:10:06.364Z"
   },
   {
    "duration": 25213,
    "start_time": "2022-09-07T06:12:03.310Z"
   },
   {
    "duration": 19,
    "start_time": "2022-09-07T06:16:20.854Z"
   },
   {
    "duration": 31,
    "start_time": "2022-09-07T06:18:21.484Z"
   },
   {
    "duration": 27,
    "start_time": "2022-09-07T06:18:39.414Z"
   },
   {
    "duration": 17,
    "start_time": "2022-09-07T06:18:55.976Z"
   },
   {
    "duration": 18,
    "start_time": "2022-09-07T06:19:06.078Z"
   },
   {
    "duration": 13,
    "start_time": "2022-09-07T06:20:17.664Z"
   },
   {
    "duration": 47,
    "start_time": "2022-09-07T06:20:26.835Z"
   },
   {
    "duration": 17,
    "start_time": "2022-09-07T06:20:35.001Z"
   },
   {
    "duration": 32,
    "start_time": "2022-09-07T06:22:13.600Z"
   },
   {
    "duration": 21,
    "start_time": "2022-09-07T06:23:07.068Z"
   },
   {
    "duration": 8,
    "start_time": "2022-09-07T06:24:16.337Z"
   },
   {
    "duration": 9,
    "start_time": "2022-09-07T06:24:30.090Z"
   },
   {
    "duration": 7,
    "start_time": "2022-09-07T06:24:37.750Z"
   },
   {
    "duration": 24,
    "start_time": "2022-09-07T06:24:44.958Z"
   },
   {
    "duration": 21,
    "start_time": "2022-09-07T06:24:54.694Z"
   },
   {
    "duration": 16196,
    "start_time": "2022-09-07T06:25:22.323Z"
   },
   {
    "duration": 22,
    "start_time": "2022-09-07T06:29:32.209Z"
   },
   {
    "duration": 62,
    "start_time": "2022-09-07T06:29:39.863Z"
   },
   {
    "duration": 20,
    "start_time": "2022-09-07T06:30:11.451Z"
   },
   {
    "duration": 16,
    "start_time": "2022-09-07T06:30:55.069Z"
   },
   {
    "duration": 16,
    "start_time": "2022-09-07T06:31:06.212Z"
   },
   {
    "duration": 22,
    "start_time": "2022-09-07T06:32:08.234Z"
   },
   {
    "duration": 18,
    "start_time": "2022-09-07T06:32:13.263Z"
   },
   {
    "duration": 24,
    "start_time": "2022-09-07T06:32:18.366Z"
   },
   {
    "duration": 78,
    "start_time": "2022-09-07T06:33:15.102Z"
   },
   {
    "duration": 16,
    "start_time": "2022-09-07T06:37:41.695Z"
   },
   {
    "duration": 15,
    "start_time": "2022-09-07T06:37:56.621Z"
   },
   {
    "duration": 12,
    "start_time": "2022-09-07T06:38:33.969Z"
   },
   {
    "duration": 27,
    "start_time": "2022-09-07T06:39:43.844Z"
   },
   {
    "duration": 17,
    "start_time": "2022-09-07T06:39:51.367Z"
   },
   {
    "duration": 25,
    "start_time": "2022-09-07T06:39:58.691Z"
   },
   {
    "duration": 23,
    "start_time": "2022-09-07T06:40:16.062Z"
   },
   {
    "duration": 15,
    "start_time": "2022-09-07T06:41:19.370Z"
   },
   {
    "duration": 95,
    "start_time": "2022-09-07T06:42:31.160Z"
   },
   {
    "duration": 50,
    "start_time": "2022-09-07T06:44:02.376Z"
   },
   {
    "duration": 95,
    "start_time": "2022-09-07T06:45:23.720Z"
   },
   {
    "duration": 122,
    "start_time": "2022-09-07T06:49:21.476Z"
   },
   {
    "duration": 190,
    "start_time": "2022-09-07T06:49:39.795Z"
   },
   {
    "duration": 13,
    "start_time": "2022-09-07T06:59:29.369Z"
   },
   {
    "duration": 231,
    "start_time": "2022-09-07T07:00:10.179Z"
   },
   {
    "duration": 195,
    "start_time": "2022-09-07T07:01:56.625Z"
   },
   {
    "duration": 184,
    "start_time": "2022-09-07T07:03:09.463Z"
   },
   {
    "duration": 173,
    "start_time": "2022-09-07T07:03:22.326Z"
   },
   {
    "duration": 9,
    "start_time": "2022-09-07T07:09:28.481Z"
   },
   {
    "duration": 11,
    "start_time": "2022-09-07T07:09:36.031Z"
   },
   {
    "duration": 8,
    "start_time": "2022-09-07T07:09:45.890Z"
   },
   {
    "duration": 14,
    "start_time": "2022-09-07T07:09:48.972Z"
   },
   {
    "duration": 10,
    "start_time": "2022-09-07T07:10:01.477Z"
   },
   {
    "duration": 10,
    "start_time": "2022-09-07T07:10:16.268Z"
   },
   {
    "duration": 9,
    "start_time": "2022-09-07T07:10:17.184Z"
   },
   {
    "duration": 5,
    "start_time": "2022-09-07T07:10:25.411Z"
   },
   {
    "duration": 6,
    "start_time": "2022-09-07T07:10:41.609Z"
   },
   {
    "duration": 9,
    "start_time": "2022-09-07T07:11:26.358Z"
   },
   {
    "duration": 10,
    "start_time": "2022-09-07T07:11:35.384Z"
   },
   {
    "duration": 9,
    "start_time": "2022-09-07T07:11:36.579Z"
   },
   {
    "duration": 10,
    "start_time": "2022-09-07T07:12:46.164Z"
   },
   {
    "duration": 7,
    "start_time": "2022-09-07T07:12:53.271Z"
   },
   {
    "duration": 5,
    "start_time": "2022-09-07T07:13:29.509Z"
   },
   {
    "duration": 1385,
    "start_time": "2022-09-07T21:20:49.180Z"
   },
   {
    "duration": 456,
    "start_time": "2022-09-07T21:20:50.568Z"
   },
   {
    "duration": 15,
    "start_time": "2022-09-07T21:20:51.025Z"
   },
   {
    "duration": 21,
    "start_time": "2022-09-07T21:20:51.043Z"
   },
   {
    "duration": 4,
    "start_time": "2022-09-07T21:20:52.819Z"
   },
   {
    "duration": 19,
    "start_time": "2022-09-07T21:20:54.109Z"
   },
   {
    "duration": 210,
    "start_time": "2022-09-07T21:20:55.627Z"
   },
   {
    "duration": 211,
    "start_time": "2022-09-07T21:20:56.371Z"
   },
   {
    "duration": 8,
    "start_time": "2022-09-07T21:20:58.556Z"
   },
   {
    "duration": 19,
    "start_time": "2022-09-07T21:21:00.063Z"
   },
   {
    "duration": 351,
    "start_time": "2022-09-07T21:21:04.141Z"
   },
   {
    "duration": 304,
    "start_time": "2022-09-07T21:21:04.694Z"
   },
   {
    "duration": 7,
    "start_time": "2022-09-07T21:21:12.100Z"
   },
   {
    "duration": 302,
    "start_time": "2022-09-07T21:21:13.700Z"
   },
   {
    "duration": 260,
    "start_time": "2022-09-07T21:21:14.976Z"
   },
   {
    "duration": 4,
    "start_time": "2022-09-07T21:21:22.145Z"
   },
   {
    "duration": 5,
    "start_time": "2022-09-07T21:21:22.333Z"
   },
   {
    "duration": 266,
    "start_time": "2022-09-07T21:21:22.572Z"
   },
   {
    "duration": 15,
    "start_time": "2022-09-07T21:21:22.840Z"
   },
   {
    "duration": 358,
    "start_time": "2022-09-07T21:21:27.035Z"
   },
   {
    "duration": 317,
    "start_time": "2022-09-07T21:21:28.769Z"
   },
   {
    "duration": 8,
    "start_time": "2022-09-07T21:21:30.193Z"
   },
   {
    "duration": 208,
    "start_time": "2022-09-07T21:21:30.483Z"
   },
   {
    "duration": 481,
    "start_time": "2022-09-07T21:21:32.118Z"
   },
   {
    "duration": 21,
    "start_time": "2022-09-07T21:21:34.358Z"
   },
   {
    "duration": 310,
    "start_time": "2022-09-07T21:21:36.623Z"
   },
   {
    "duration": 6,
    "start_time": "2022-09-07T21:21:45.390Z"
   },
   {
    "duration": 493,
    "start_time": "2022-09-07T21:21:47.252Z"
   },
   {
    "duration": 432,
    "start_time": "2022-09-07T21:21:50.742Z"
   },
   {
    "duration": 208,
    "start_time": "2022-09-07T21:21:53.932Z"
   },
   {
    "duration": 22,
    "start_time": "2022-09-07T21:21:55.978Z"
   },
   {
    "duration": 18,
    "start_time": "2022-09-07T21:21:57.215Z"
   },
   {
    "duration": 23,
    "start_time": "2022-09-07T21:21:58.392Z"
   },
   {
    "duration": 18,
    "start_time": "2022-09-07T21:21:59.684Z"
   },
   {
    "duration": 215,
    "start_time": "2022-09-07T21:22:09.226Z"
   },
   {
    "duration": 212,
    "start_time": "2022-09-07T21:22:20.020Z"
   },
   {
    "duration": 5,
    "start_time": "2022-09-07T21:22:26.122Z"
   },
   {
    "duration": 5,
    "start_time": "2022-09-07T21:22:27.065Z"
   },
   {
    "duration": 5,
    "start_time": "2022-09-07T21:22:28.329Z"
   },
   {
    "duration": 6,
    "start_time": "2022-09-07T21:22:29.421Z"
   },
   {
    "duration": 195,
    "start_time": "2022-09-07T21:22:55.050Z"
   },
   {
    "duration": 115,
    "start_time": "2022-09-07T21:26:04.716Z"
   },
   {
    "duration": 12,
    "start_time": "2022-09-07T21:26:11.096Z"
   },
   {
    "duration": 10,
    "start_time": "2022-09-07T21:26:34.954Z"
   },
   {
    "duration": 8,
    "start_time": "2022-09-07T21:26:38.910Z"
   },
   {
    "duration": 7116,
    "start_time": "2022-09-07T21:32:06.887Z"
   },
   {
    "duration": 6840,
    "start_time": "2022-09-07T21:32:29.469Z"
   },
   {
    "duration": 7322,
    "start_time": "2022-09-07T21:33:05.621Z"
   },
   {
    "duration": 7163,
    "start_time": "2022-09-07T21:33:56.364Z"
   },
   {
    "duration": 33005,
    "start_time": "2022-09-07T21:34:12.583Z"
   },
   {
    "duration": 0,
    "start_time": "2022-09-07T21:37:17.602Z"
   },
   {
    "duration": 31801,
    "start_time": "2022-09-07T21:37:31.440Z"
   },
   {
    "duration": 137,
    "start_time": "2022-09-07T21:38:36.869Z"
   },
   {
    "duration": 4,
    "start_time": "2022-09-07T21:44:30.229Z"
   },
   {
    "duration": 7248,
    "start_time": "2022-09-07T21:44:33.764Z"
   },
   {
    "duration": 13,
    "start_time": "2022-09-07T21:45:21.244Z"
   },
   {
    "duration": 15,
    "start_time": "2022-09-07T21:46:19.273Z"
   },
   {
    "duration": 15,
    "start_time": "2022-09-07T21:46:30.844Z"
   },
   {
    "duration": 10,
    "start_time": "2022-09-07T21:46:37.273Z"
   },
   {
    "duration": 5,
    "start_time": "2022-09-07T21:46:46.403Z"
   },
   {
    "duration": 8,
    "start_time": "2022-09-07T21:46:59.311Z"
   },
   {
    "duration": 10,
    "start_time": "2022-09-07T21:47:07.761Z"
   },
   {
    "duration": 13,
    "start_time": "2022-09-07T21:47:15.848Z"
   },
   {
    "duration": 15,
    "start_time": "2022-09-07T21:47:27.808Z"
   },
   {
    "duration": 15,
    "start_time": "2022-09-07T21:47:39.264Z"
   },
   {
    "duration": 249,
    "start_time": "2022-09-07T21:47:59.280Z"
   },
   {
    "duration": 223,
    "start_time": "2022-09-07T21:48:49.736Z"
   },
   {
    "duration": 247,
    "start_time": "2022-09-07T21:49:02.032Z"
   },
   {
    "duration": 75,
    "start_time": "2022-09-07T21:49:17.922Z"
   },
   {
    "duration": 255,
    "start_time": "2022-09-07T21:49:33.457Z"
   },
   {
    "duration": 306,
    "start_time": "2022-09-07T21:49:42.411Z"
   },
   {
    "duration": 313,
    "start_time": "2022-09-07T21:50:11.821Z"
   },
   {
    "duration": 69,
    "start_time": "2022-09-07T21:51:32.338Z"
   },
   {
    "duration": 178370,
    "start_time": "2022-09-07T21:51:54.922Z"
   },
   {
    "duration": 266,
    "start_time": "2022-09-07T21:54:53.294Z"
   },
   {
    "duration": 248,
    "start_time": "2022-09-07T21:55:37.761Z"
   },
   {
    "duration": 272,
    "start_time": "2022-09-07T21:57:09.926Z"
   },
   {
    "duration": 20,
    "start_time": "2022-09-07T21:58:09.356Z"
   },
   {
    "duration": 234,
    "start_time": "2022-09-07T21:58:13.444Z"
   },
   {
    "duration": 241,
    "start_time": "2022-09-07T21:58:43.980Z"
   },
   {
    "duration": 274,
    "start_time": "2022-09-07T21:59:16.693Z"
   },
   {
    "duration": 77,
    "start_time": "2022-09-07T21:59:31.075Z"
   },
   {
    "duration": 321,
    "start_time": "2022-09-07T21:59:34.663Z"
   },
   {
    "duration": 293,
    "start_time": "2022-09-07T22:01:17.662Z"
   },
   {
    "duration": 98,
    "start_time": "2022-09-07T22:01:24.884Z"
   },
   {
    "duration": 248,
    "start_time": "2022-09-07T22:02:48.529Z"
   },
   {
    "duration": 508,
    "start_time": "2022-09-07T22:05:07.290Z"
   },
   {
    "duration": 128,
    "start_time": "2022-09-07T22:05:15.388Z"
   },
   {
    "duration": 280,
    "start_time": "2022-09-07T22:36:26.842Z"
   },
   {
    "duration": 304,
    "start_time": "2022-09-07T22:43:57.150Z"
   },
   {
    "duration": 91,
    "start_time": "2022-09-07T22:46:29.547Z"
   },
   {
    "duration": 74,
    "start_time": "2022-09-07T22:46:31.499Z"
   },
   {
    "duration": 194,
    "start_time": "2022-09-07T22:52:45.682Z"
   },
   {
    "duration": 226,
    "start_time": "2022-09-07T22:57:35.483Z"
   },
   {
    "duration": 28,
    "start_time": "2022-09-07T22:58:21.880Z"
   },
   {
    "duration": 17,
    "start_time": "2022-09-07T22:59:44.804Z"
   },
   {
    "duration": 17,
    "start_time": "2022-09-07T22:59:52.816Z"
   },
   {
    "duration": 14,
    "start_time": "2022-09-07T22:59:58.122Z"
   },
   {
    "duration": 20,
    "start_time": "2022-09-07T23:01:10.852Z"
   },
   {
    "duration": 15,
    "start_time": "2022-09-07T23:01:26.704Z"
   },
   {
    "duration": 15,
    "start_time": "2022-09-07T23:01:42.747Z"
   },
   {
    "duration": 87,
    "start_time": "2022-09-07T23:06:52.887Z"
   },
   {
    "duration": 10,
    "start_time": "2022-09-07T23:18:03.163Z"
   },
   {
    "duration": 11,
    "start_time": "2022-09-07T23:18:03.916Z"
   },
   {
    "duration": 5,
    "start_time": "2022-09-07T23:18:06.480Z"
   },
   {
    "duration": 6,
    "start_time": "2022-09-07T23:18:09.259Z"
   },
   {
    "duration": 6,
    "start_time": "2022-09-07T23:18:40.342Z"
   },
   {
    "duration": 4,
    "start_time": "2022-09-07T23:22:17.233Z"
   },
   {
    "duration": 9,
    "start_time": "2022-09-07T23:24:12.768Z"
   },
   {
    "duration": 8,
    "start_time": "2022-09-07T23:24:14.854Z"
   },
   {
    "duration": 5,
    "start_time": "2022-09-07T23:24:18.346Z"
   },
   {
    "duration": 6,
    "start_time": "2022-09-07T23:24:43.422Z"
   },
   {
    "duration": 6,
    "start_time": "2022-09-07T23:24:52.867Z"
   },
   {
    "duration": 5,
    "start_time": "2022-09-07T23:28:16.960Z"
   },
   {
    "duration": 5,
    "start_time": "2022-09-07T23:31:09.919Z"
   },
   {
    "duration": 5,
    "start_time": "2022-09-07T23:35:56.662Z"
   },
   {
    "duration": 5,
    "start_time": "2022-09-07T23:36:11.506Z"
   },
   {
    "duration": 6,
    "start_time": "2022-09-07T23:36:57.345Z"
   },
   {
    "duration": 6,
    "start_time": "2022-09-07T23:43:10.127Z"
   },
   {
    "duration": 10,
    "start_time": "2022-09-07T23:53:27.910Z"
   },
   {
    "duration": 9,
    "start_time": "2022-09-07T23:53:28.622Z"
   },
   {
    "duration": 5,
    "start_time": "2022-09-07T23:53:29.535Z"
   },
   {
    "duration": 5,
    "start_time": "2022-09-07T23:53:33.085Z"
   },
   {
    "duration": 6,
    "start_time": "2022-09-07T23:53:35.400Z"
   },
   {
    "duration": 13,
    "start_time": "2022-09-07T23:59:09.547Z"
   },
   {
    "duration": 11,
    "start_time": "2022-09-07T23:59:09.912Z"
   },
   {
    "duration": 6,
    "start_time": "2022-09-07T23:59:10.370Z"
   },
   {
    "duration": 5,
    "start_time": "2022-09-07T23:59:11.528Z"
   },
   {
    "duration": 5,
    "start_time": "2022-09-08T00:02:01.343Z"
   },
   {
    "duration": 9,
    "start_time": "2022-09-08T00:02:07.286Z"
   },
   {
    "duration": 6,
    "start_time": "2022-09-08T00:03:27.936Z"
   },
   {
    "duration": 6,
    "start_time": "2022-09-08T00:03:53.751Z"
   },
   {
    "duration": 209,
    "start_time": "2022-09-08T00:35:36.703Z"
   },
   {
    "duration": 1280,
    "start_time": "2022-09-08T22:59:37.691Z"
   },
   {
    "duration": 98,
    "start_time": "2022-09-08T22:59:38.974Z"
   },
   {
    "duration": 14,
    "start_time": "2022-09-08T22:59:39.141Z"
   },
   {
    "duration": 15,
    "start_time": "2022-09-08T22:59:40.013Z"
   },
   {
    "duration": 3,
    "start_time": "2022-09-08T22:59:40.999Z"
   },
   {
    "duration": 16,
    "start_time": "2022-09-08T22:59:42.001Z"
   },
   {
    "duration": 185,
    "start_time": "2022-09-08T22:59:42.727Z"
   },
   {
    "duration": 190,
    "start_time": "2022-09-08T22:59:42.942Z"
   },
   {
    "duration": 7,
    "start_time": "2022-09-08T22:59:43.700Z"
   },
   {
    "duration": 18,
    "start_time": "2022-09-08T22:59:44.069Z"
   },
   {
    "duration": 300,
    "start_time": "2022-09-08T22:59:44.440Z"
   },
   {
    "duration": 273,
    "start_time": "2022-09-08T22:59:44.742Z"
   },
   {
    "duration": 6,
    "start_time": "2022-09-08T22:59:45.407Z"
   },
   {
    "duration": 264,
    "start_time": "2022-09-08T22:59:45.984Z"
   },
   {
    "duration": 230,
    "start_time": "2022-09-08T22:59:46.355Z"
   },
   {
    "duration": 3,
    "start_time": "2022-09-08T22:59:47.511Z"
   },
   {
    "duration": 5,
    "start_time": "2022-09-08T22:59:47.717Z"
   },
   {
    "duration": 208,
    "start_time": "2022-09-08T22:59:47.910Z"
   },
   {
    "duration": 14,
    "start_time": "2022-09-08T22:59:48.416Z"
   },
   {
    "duration": 303,
    "start_time": "2022-09-08T22:59:49.123Z"
   },
   {
    "duration": 262,
    "start_time": "2022-09-08T22:59:49.904Z"
   },
   {
    "duration": 7,
    "start_time": "2022-09-08T22:59:50.502Z"
   },
   {
    "duration": 187,
    "start_time": "2022-09-08T22:59:50.701Z"
   },
   {
    "duration": 399,
    "start_time": "2022-09-08T22:59:51.325Z"
   },
   {
    "duration": 15,
    "start_time": "2022-09-08T22:59:51.726Z"
   },
   {
    "duration": 247,
    "start_time": "2022-09-08T22:59:52.380Z"
   },
   {
    "duration": 6,
    "start_time": "2022-09-08T22:59:52.987Z"
   },
   {
    "duration": 452,
    "start_time": "2022-09-08T22:59:53.205Z"
   },
   {
    "duration": 412,
    "start_time": "2022-09-08T22:59:54.387Z"
   },
   {
    "duration": 162,
    "start_time": "2022-09-08T22:59:55.316Z"
   },
   {
    "duration": 15,
    "start_time": "2022-09-08T22:59:55.973Z"
   },
   {
    "duration": 15,
    "start_time": "2022-09-08T22:59:56.363Z"
   },
   {
    "duration": 15,
    "start_time": "2022-09-08T22:59:56.773Z"
   },
   {
    "duration": 15,
    "start_time": "2022-09-08T22:59:57.155Z"
   },
   {
    "duration": 174,
    "start_time": "2022-09-08T22:59:57.797Z"
   },
   {
    "duration": 170,
    "start_time": "2022-09-08T22:59:59.443Z"
   },
   {
    "duration": 4,
    "start_time": "2022-09-08T22:59:59.700Z"
   },
   {
    "duration": 4,
    "start_time": "2022-09-08T22:59:59.925Z"
   },
   {
    "duration": 5,
    "start_time": "2022-09-08T23:00:00.151Z"
   },
   {
    "duration": 4,
    "start_time": "2022-09-08T23:00:00.365Z"
   },
   {
    "duration": 218,
    "start_time": "2022-09-08T23:00:01.000Z"
   },
   {
    "duration": 234,
    "start_time": "2022-09-08T23:00:02.524Z"
   },
   {
    "duration": 161,
    "start_time": "2022-09-08T23:00:04.240Z"
   },
   {
    "duration": 14,
    "start_time": "2022-09-08T23:00:05.295Z"
   },
   {
    "duration": 13,
    "start_time": "2022-09-08T23:00:05.514Z"
   },
   {
    "duration": 18,
    "start_time": "2022-09-08T23:00:05.718Z"
   },
   {
    "duration": 8,
    "start_time": "2022-09-08T23:05:09.231Z"
   },
   {
    "duration": 9,
    "start_time": "2022-09-08T23:05:10.113Z"
   },
   {
    "duration": 5,
    "start_time": "2022-09-08T23:05:13.078Z"
   },
   {
    "duration": 4,
    "start_time": "2022-09-08T23:05:16.121Z"
   },
   {
    "duration": 5,
    "start_time": "2022-09-08T23:05:21.119Z"
   },
   {
    "duration": 8,
    "start_time": "2022-09-08T23:05:49.318Z"
   },
   {
    "duration": 8,
    "start_time": "2022-09-08T23:05:50.263Z"
   },
   {
    "duration": 6,
    "start_time": "2022-09-08T23:05:52.347Z"
   },
   {
    "duration": 4,
    "start_time": "2022-09-08T23:05:59.950Z"
   },
   {
    "duration": 5,
    "start_time": "2022-09-08T23:06:07.294Z"
   },
   {
    "duration": 5,
    "start_time": "2022-09-08T23:06:46.887Z"
   },
   {
    "duration": 8,
    "start_time": "2022-09-08T23:07:59.529Z"
   },
   {
    "duration": 9,
    "start_time": "2022-09-08T23:08:01.153Z"
   },
   {
    "duration": 5,
    "start_time": "2022-09-08T23:08:05.863Z"
   },
   {
    "duration": 4,
    "start_time": "2022-09-08T23:08:08.564Z"
   },
   {
    "duration": 5,
    "start_time": "2022-09-08T23:08:09.847Z"
   },
   {
    "duration": 5,
    "start_time": "2022-09-08T23:08:13.603Z"
   },
   {
    "duration": 8,
    "start_time": "2022-09-08T23:08:34.066Z"
   },
   {
    "duration": 8,
    "start_time": "2022-09-08T23:08:34.925Z"
   },
   {
    "duration": 6,
    "start_time": "2022-09-08T23:08:38.882Z"
   },
   {
    "duration": 5,
    "start_time": "2022-09-08T23:08:42.339Z"
   },
   {
    "duration": 4,
    "start_time": "2022-09-08T23:08:44.890Z"
   },
   {
    "duration": 5,
    "start_time": "2022-09-08T23:08:48.069Z"
   },
   {
    "duration": 1642,
    "start_time": "2022-09-10T16:00:12.250Z"
   },
   {
    "duration": 183,
    "start_time": "2022-09-10T16:00:13.894Z"
   },
   {
    "duration": 16,
    "start_time": "2022-09-10T16:00:14.079Z"
   },
   {
    "duration": 23,
    "start_time": "2022-09-10T16:00:14.178Z"
   },
   {
    "duration": 4,
    "start_time": "2022-09-10T16:00:17.078Z"
   },
   {
    "duration": 18,
    "start_time": "2022-09-10T16:00:20.152Z"
   },
   {
    "duration": 225,
    "start_time": "2022-09-10T16:00:20.942Z"
   },
   {
    "duration": 238,
    "start_time": "2022-09-10T16:00:21.169Z"
   },
   {
    "duration": 9,
    "start_time": "2022-09-10T16:00:23.030Z"
   },
   {
    "duration": 8,
    "start_time": "2022-09-10T16:02:08.938Z"
   },
   {
    "duration": 3,
    "start_time": "2022-09-10T16:02:24.022Z"
   },
   {
    "duration": 53,
    "start_time": "2022-09-10T16:02:24.396Z"
   },
   {
    "duration": 14,
    "start_time": "2022-09-10T16:02:24.752Z"
   },
   {
    "duration": 16,
    "start_time": "2022-09-10T16:02:25.500Z"
   },
   {
    "duration": 4,
    "start_time": "2022-09-10T16:02:26.099Z"
   },
   {
    "duration": 22,
    "start_time": "2022-09-10T16:02:26.839Z"
   },
   {
    "duration": 203,
    "start_time": "2022-09-10T16:02:29.714Z"
   },
   {
    "duration": 200,
    "start_time": "2022-09-10T16:02:30.338Z"
   },
   {
    "duration": 9,
    "start_time": "2022-09-10T16:02:35.283Z"
   },
   {
    "duration": 7,
    "start_time": "2022-09-10T16:02:49.101Z"
   },
   {
    "duration": 6,
    "start_time": "2022-09-10T16:03:03.343Z"
   },
   {
    "duration": 353,
    "start_time": "2022-09-10T16:03:04.320Z"
   },
   {
    "duration": 301,
    "start_time": "2022-09-10T16:03:07.000Z"
   },
   {
    "duration": 7,
    "start_time": "2022-09-10T16:03:09.643Z"
   },
   {
    "duration": 358,
    "start_time": "2022-09-10T16:03:10.537Z"
   },
   {
    "duration": 193,
    "start_time": "2022-09-10T16:03:12.221Z"
   },
   {
    "duration": 3,
    "start_time": "2022-09-10T16:03:16.982Z"
   },
   {
    "duration": 5,
    "start_time": "2022-09-10T16:03:17.212Z"
   },
   {
    "duration": 256,
    "start_time": "2022-09-10T16:03:17.373Z"
   },
   {
    "duration": 16,
    "start_time": "2022-09-10T16:03:17.631Z"
   },
   {
    "duration": 371,
    "start_time": "2022-09-10T16:03:40.233Z"
   },
   {
    "duration": 324,
    "start_time": "2022-09-10T16:03:43.066Z"
   },
   {
    "duration": 7,
    "start_time": "2022-09-10T16:03:46.453Z"
   },
   {
    "duration": 230,
    "start_time": "2022-09-10T16:03:47.086Z"
   },
   {
    "duration": 464,
    "start_time": "2022-09-10T16:03:49.581Z"
   },
   {
    "duration": 17,
    "start_time": "2022-09-10T16:03:51.936Z"
   },
   {
    "duration": 296,
    "start_time": "2022-09-10T16:03:53.301Z"
   },
   {
    "duration": 6,
    "start_time": "2022-09-10T16:03:56.133Z"
   },
   {
    "duration": 552,
    "start_time": "2022-09-10T16:03:57.068Z"
   },
   {
    "duration": 8,
    "start_time": "2022-09-10T16:04:53.111Z"
   },
   {
    "duration": 9,
    "start_time": "2022-09-10T16:06:11.051Z"
   },
   {
    "duration": 110,
    "start_time": "2022-09-10T16:06:18.246Z"
   },
   {
    "duration": 15,
    "start_time": "2022-09-10T16:07:07.576Z"
   },
   {
    "duration": 2,
    "start_time": "2022-09-10T16:07:23.712Z"
   },
   {
    "duration": 50,
    "start_time": "2022-09-10T16:07:24.247Z"
   },
   {
    "duration": 15,
    "start_time": "2022-09-10T16:07:24.597Z"
   },
   {
    "duration": 14,
    "start_time": "2022-09-10T16:07:24.965Z"
   },
   {
    "duration": 3,
    "start_time": "2022-09-10T16:07:25.947Z"
   },
   {
    "duration": 19,
    "start_time": "2022-09-10T16:07:26.718Z"
   },
   {
    "duration": 193,
    "start_time": "2022-09-10T16:07:27.851Z"
   },
   {
    "duration": 214,
    "start_time": "2022-09-10T16:07:28.296Z"
   },
   {
    "duration": 11,
    "start_time": "2022-09-10T16:07:30.112Z"
   },
   {
    "duration": 7,
    "start_time": "2022-09-10T16:07:32.517Z"
   },
   {
    "duration": 334,
    "start_time": "2022-09-10T16:07:33.545Z"
   },
   {
    "duration": 284,
    "start_time": "2022-09-10T16:07:33.947Z"
   },
   {
    "duration": 7,
    "start_time": "2022-09-10T16:07:34.763Z"
   },
   {
    "duration": 289,
    "start_time": "2022-09-10T16:07:35.149Z"
   },
   {
    "duration": 211,
    "start_time": "2022-09-10T16:07:35.444Z"
   },
   {
    "duration": 4,
    "start_time": "2022-09-10T16:07:36.885Z"
   },
   {
    "duration": 5,
    "start_time": "2022-09-10T16:07:37.146Z"
   },
   {
    "duration": 255,
    "start_time": "2022-09-10T16:07:37.360Z"
   },
   {
    "duration": 15,
    "start_time": "2022-09-10T16:07:37.617Z"
   },
   {
    "duration": 422,
    "start_time": "2022-09-10T16:07:38.853Z"
   },
   {
    "duration": 327,
    "start_time": "2022-09-10T16:07:40.513Z"
   },
   {
    "duration": 8,
    "start_time": "2022-09-10T16:07:42.668Z"
   },
   {
    "duration": 193,
    "start_time": "2022-09-10T16:07:43.149Z"
   },
   {
    "duration": 398,
    "start_time": "2022-09-10T16:07:44.045Z"
   },
   {
    "duration": 29,
    "start_time": "2022-09-10T16:07:44.445Z"
   },
   {
    "duration": 290,
    "start_time": "2022-09-10T16:07:45.448Z"
   },
   {
    "duration": 7,
    "start_time": "2022-09-10T16:07:46.247Z"
   },
   {
    "duration": 514,
    "start_time": "2022-09-10T16:07:46.538Z"
   },
   {
    "duration": 15,
    "start_time": "2022-09-10T16:07:54.450Z"
   },
   {
    "duration": 25,
    "start_time": "2022-09-10T16:08:14.092Z"
   },
   {
    "duration": 8,
    "start_time": "2022-09-10T16:08:25.521Z"
   },
   {
    "duration": 26,
    "start_time": "2022-09-10T16:08:26.718Z"
   },
   {
    "duration": 8,
    "start_time": "2022-09-10T16:08:52.620Z"
   },
   {
    "duration": 23,
    "start_time": "2022-09-10T16:08:57.758Z"
   },
   {
    "duration": 15,
    "start_time": "2022-09-10T16:09:05.280Z"
   },
   {
    "duration": 15,
    "start_time": "2022-09-10T16:09:24.055Z"
   },
   {
    "duration": 437,
    "start_time": "2022-09-10T16:09:31.491Z"
   },
   {
    "duration": 16,
    "start_time": "2022-09-10T16:09:47.004Z"
   },
   {
    "duration": 11,
    "start_time": "2022-09-10T16:10:37.145Z"
   },
   {
    "duration": 12,
    "start_time": "2022-09-10T16:10:45.512Z"
   },
   {
    "duration": 25,
    "start_time": "2022-09-10T16:10:50.449Z"
   },
   {
    "duration": 324,
    "start_time": "2022-09-10T16:10:53.214Z"
   },
   {
    "duration": 363,
    "start_time": "2022-09-10T16:11:05.617Z"
   },
   {
    "duration": 176,
    "start_time": "2022-09-10T16:14:37.938Z"
   },
   {
    "duration": 17,
    "start_time": "2022-09-10T16:15:32.662Z"
   },
   {
    "duration": 17,
    "start_time": "2022-09-10T16:15:36.142Z"
   },
   {
    "duration": 17,
    "start_time": "2022-09-10T16:16:00.006Z"
   },
   {
    "duration": 16,
    "start_time": "2022-09-10T16:16:38.264Z"
   },
   {
    "duration": 16,
    "start_time": "2022-09-10T16:17:05.586Z"
   },
   {
    "duration": 15,
    "start_time": "2022-09-10T16:18:48.603Z"
   },
   {
    "duration": 309,
    "start_time": "2022-09-10T16:21:07.723Z"
   },
   {
    "duration": 238,
    "start_time": "2022-09-10T16:23:40.190Z"
   },
   {
    "duration": 4,
    "start_time": "2022-09-10T16:23:43.882Z"
   },
   {
    "duration": 5,
    "start_time": "2022-09-10T16:23:44.866Z"
   },
   {
    "duration": 4,
    "start_time": "2022-09-10T16:23:45.610Z"
   },
   {
    "duration": 4,
    "start_time": "2022-09-10T16:23:46.286Z"
   },
   {
    "duration": 236,
    "start_time": "2022-09-10T16:23:59.834Z"
   },
   {
    "duration": 264,
    "start_time": "2022-09-10T16:25:51.020Z"
   },
   {
    "duration": 171,
    "start_time": "2022-09-10T16:30:37.003Z"
   },
   {
    "duration": 15,
    "start_time": "2022-09-10T16:32:18.551Z"
   },
   {
    "duration": 14,
    "start_time": "2022-09-10T16:32:21.440Z"
   },
   {
    "duration": 15,
    "start_time": "2022-09-10T16:32:23.594Z"
   },
   {
    "duration": 8,
    "start_time": "2022-09-10T16:36:52.184Z"
   },
   {
    "duration": 8,
    "start_time": "2022-09-10T16:36:57.289Z"
   },
   {
    "duration": 5,
    "start_time": "2022-09-10T16:37:03.327Z"
   },
   {
    "duration": 5,
    "start_time": "2022-09-10T16:37:12.181Z"
   },
   {
    "duration": 5,
    "start_time": "2022-09-10T16:37:16.536Z"
   },
   {
    "duration": 6,
    "start_time": "2022-09-10T16:37:23.985Z"
   },
   {
    "duration": 8,
    "start_time": "2022-09-10T16:39:07.144Z"
   },
   {
    "duration": 9,
    "start_time": "2022-09-10T16:39:08.803Z"
   },
   {
    "duration": 5,
    "start_time": "2022-09-10T16:39:21.399Z"
   },
   {
    "duration": 5,
    "start_time": "2022-09-10T16:39:27.235Z"
   },
   {
    "duration": 5,
    "start_time": "2022-09-10T16:39:30.708Z"
   },
   {
    "duration": 7,
    "start_time": "2022-09-10T16:39:36.460Z"
   }
  ],
  "kernelspec": {
   "display_name": "Python 3 (ipykernel)",
   "language": "python",
   "name": "python3"
  },
  "language_info": {
   "codemirror_mode": {
    "name": "ipython",
    "version": 3
   },
   "file_extension": ".py",
   "mimetype": "text/x-python",
   "name": "python",
   "nbconvert_exporter": "python",
   "pygments_lexer": "ipython3",
   "version": "3.9.5"
  },
  "toc": {
   "base_numbering": 1,
   "nav_menu": {},
   "number_sections": true,
   "sideBar": true,
   "skip_h1_title": true,
   "title_cell": "Table of Contents",
   "title_sidebar": "Contents",
   "toc_cell": false,
   "toc_position": {},
   "toc_section_display": true,
   "toc_window_display": false
  }
 },
 "nbformat": 4,
 "nbformat_minor": 2
}
