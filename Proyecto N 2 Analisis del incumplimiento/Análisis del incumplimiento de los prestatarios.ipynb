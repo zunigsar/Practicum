{
 "cells": [
  {
   "cell_type": "markdown",
   "metadata": {},
   "source": [
    "# Análisis del riesgo de incumplimiento de los prestatarios\n",
    "\n"
   ]
  },
  {
   "cell_type": "markdown",
   "metadata": {},
   "source": [
    "# Contents <a id='back'></a>\n",
    "\n",
    "* [1 Abre el archivo de datos y mira la información general.](#intro)\n",
    "* [2 Ejercicio 1. Exploración de datos](#data_review)\n",
    "    * [Conclusión intermedia](#data_review_conclusions)\n",
    "    * [Posibles razones por las que hay valores ausentes en los datos](data)\n",
    "    * [Conclusión intermedia](data)\n",
    "    *  [Conclusiones](data)\n",
    "* [3 Transformación de datos](#data_preprocessing)\n",
    "    * [Conclusiones](#header_style)\n",
    "    * [Trabajar con valores ausentes](#hypotheses)\n",
    "    * [3.1 Restaurar valores ausentes en total_income](#activity)\n",
    "    * [3.2 Restaurar valores ausentes en days_employed](#week)\n",
    "* [4 Clasificación de datos](#end)\n",
    "* [5 Comprobación de las hipótesis](#end)\n",
    "    * [¿Existe una correlación entre tener hijos y pagar a tiempo?](#end)\n",
    "    * [¿Existe una correlación entre la situación familiar y el pago a tiempo?](#end)\n",
    "    *[¿Existe una correlación entre el nivel de ingresos y el pago a tiempo?](#end)\n",
    "    *[¿Cómo afecta el propósito del crédito a la tasa de incumplimiento?](#end)\n",
    "* [Conclusiones Generales](#end)\n",
    "    \n",
    "    \n",
    "    "
   ]
  },
  {
   "cell_type": "markdown",
   "metadata": {},
   "source": [
    "<div class=\"alert alert-success\">\n",
    "<b>✔️ Comentario del revisor:</b> \n",
    "    \n",
    "Gracias que anadiste el plan"
   ]
  },
  {
   "cell_type": "markdown",
   "metadata": {},
   "source": [
    "## Abre el archivo de datos y mira la información general. \n",
    "\n",
    "[Empieza con la importación de las librerías y la carga de los datos. Es posible que te des cuenta de que necesitas librerías adicionales a medida que avanzas, lo cual es totalmente normal, solo asegúrate de actualizar esta sección cuando lo hagas.]"
   ]
  },
  {
   "cell_type": "code",
   "execution_count": null,
   "metadata": {},
   "outputs": [],
   "source": [
    "import pandas as pd\n",
    "df= pd.read_csv('/datasets/credit_scoring_eng.csv')\n",
    "\n",
    "\n"
   ]
  },
  {
   "cell_type": "markdown",
   "metadata": {},
   "source": [
    "## Ejercicio 1. Exploración de datos\n",
    "\n",
    "**Descripción de los datos**\n",
    "- `children` - el número de hijos en la familia\n",
    "- `days_employed` - experiencia laboral en días\n",
    "- `dob_years` - la edad del cliente en años\n",
    "- `education` - la educación del cliente\n",
    "- `education_id` - identificador de educación\n",
    "- `family_status` - estado civil\n",
    "- `family_status_id` - identificador de estado civil\n",
    "- `gender` - género del cliente\n",
    "- `income_type` - tipo de empleo\n",
    "- `debt` - ¿había alguna deuda en el pago de un préstamo?\n",
    "- `total_income` - ingreso mensual\n",
    "- `purpose` - el propósito de obtener un préstamo\n",
    "\n"
   ]
  },
  {
   "cell_type": "markdown",
   "metadata": {},
   "source": [
    "Para explorar nuestros datos, se procederá a ver cuántas columnas y filas tienen e imprimir las\n",
    "primeras 10 filas para identificar como se encuentra la calidad de los datos y posibles problemas \n",
    "con los datos."
   ]
  },
  {
   "cell_type": "code",
   "execution_count": 4,
   "metadata": {},
   "outputs": [
    {
     "name": "stdout",
     "output_type": "stream",
     "text": [
      "(21525, 12)\n"
     ]
    }
   ],
   "source": [
    "print(df.shape)\n"
   ]
  },
  {
   "cell_type": "code",
   "execution_count": 5,
   "metadata": {
    "scrolled": true
   },
   "outputs": [
    {
     "name": "stdout",
     "output_type": "stream",
     "text": [
      "   children  days_employed  dob_years            education  education_id  \\\n",
      "0         1   -8437.673028         42    bachelor's degree             0   \n",
      "1         1   -4024.803754         36  secondary education             1   \n",
      "2         0   -5623.422610         33  Secondary Education             1   \n",
      "3         3   -4124.747207         32  secondary education             1   \n",
      "4         0  340266.072047         53  secondary education             1   \n",
      "5         0    -926.185831         27    bachelor's degree             0   \n",
      "6         0   -2879.202052         43    bachelor's degree             0   \n",
      "7         0    -152.779569         50  SECONDARY EDUCATION             1   \n",
      "8         2   -6929.865299         35    BACHELOR'S DEGREE             0   \n",
      "9         0   -2188.756445         41  secondary education             1   \n",
      "\n",
      "       family_status  family_status_id gender income_type  debt  total_income  \\\n",
      "0            married                 0      F    employee     0     40620.102   \n",
      "1            married                 0      F    employee     0     17932.802   \n",
      "2            married                 0      M    employee     0     23341.752   \n",
      "3            married                 0      M    employee     0     42820.568   \n",
      "4  civil partnership                 1      F     retiree     0     25378.572   \n",
      "5  civil partnership                 1      M    business     0     40922.170   \n",
      "6            married                 0      F    business     0     38484.156   \n",
      "7            married                 0      M    employee     0     21731.829   \n",
      "8  civil partnership                 1      F    employee     0     15337.093   \n",
      "9            married                 0      M    employee     0     23108.150   \n",
      "\n",
      "                               purpose  \n",
      "0                purchase of the house  \n",
      "1                         car purchase  \n",
      "2                purchase of the house  \n",
      "3              supplementary education  \n",
      "4                    to have a wedding  \n",
      "5                purchase of the house  \n",
      "6                 housing transactions  \n",
      "7                            education  \n",
      "8                     having a wedding  \n",
      "9  purchase of the house for my family  \n"
     ]
    }
   ],
   "source": [
    "\n",
    "print(df.head(10))\n"
   ]
  },
  {
   "cell_type": "markdown",
   "metadata": {},
   "source": [
    "De acuerdo a la muestra de las primeras 10 filas de nuestros datos. Se han detectado problemas en la siguientes columnas: \n",
    "\n",
    "-days_employed: A simple vista se interpreta que los datos están erróneos porque están en días negativos lo cual está fuera de contexto. Adicional se observa que en la fila 4 el número de días: 340266.072047 es significativamente imposible porque serían más de 1000 años trabajando para alcanzar ese dato. \n",
    "\n",
    "-education: Existen valores que tienen la misma información pero está en diferente formato, es decir están en mayúsculas y minúsculas. Más adeltante se procederá con las correcciones y estandarización del formato para todos los elementos. \n",
    "-children: \n",
    "\n",
    "-total_income: El formato de los ingresos se encuentra como float, para trabajar con los datos es necesario poder cambiarlo a número entero para tener valores cerrados. \n",
    "\n",
    "-purpose: Los registros del propósito de pedir un préstamo son similares pero están registrados de diferente manera. Por ejemplo en la fila 4 y 8 la idea es la mismo: tener su boda, pero el sistema lo lee como si fueran 2 diferentes razones. Es por eso que se necesitaría realizar una agrupación de las celdas que contienen el propósito en común a través de una investigación y conocimiento de los datos ingresados con el fin de reemplazarlos por un valor único en un mismo formato de texto. \n",
    "\n",
    "Para obtener un mayor diagnóstico sobre la calidad de los datos con la que vamos a trabajar, vamos a obtener tener la información de la base de datos.\n",
    "\n",
    "Este paso nos permite identificar si existen valores ausentes/duplicados y comparar el número de filas y columnas que obtuvimos en el paso anterior. \n",
    "\n",
    "De igual manera revisar si python está reconociendo el tipo de datos de cada columna de acuerdo al contexto y formato que debería estar ingresado. \n",
    "\n"
   ]
  },
  {
   "cell_type": "code",
   "execution_count": 6,
   "metadata": {
    "scrolled": false
   },
   "outputs": [
    {
     "name": "stdout",
     "output_type": "stream",
     "text": [
      "<class 'pandas.core.frame.DataFrame'>\n",
      "RangeIndex: 21525 entries, 0 to 21524\n",
      "Data columns (total 12 columns):\n",
      " #   Column            Non-Null Count  Dtype  \n",
      "---  ------            --------------  -----  \n",
      " 0   children          21525 non-null  int64  \n",
      " 1   days_employed     19351 non-null  float64\n",
      " 2   dob_years         21525 non-null  int64  \n",
      " 3   education         21525 non-null  object \n",
      " 4   education_id      21525 non-null  int64  \n",
      " 5   family_status     21525 non-null  object \n",
      " 6   family_status_id  21525 non-null  int64  \n",
      " 7   gender            21525 non-null  object \n",
      " 8   income_type       21525 non-null  object \n",
      " 9   debt              21525 non-null  int64  \n",
      " 10  total_income      19351 non-null  float64\n",
      " 11  purpose           21525 non-null  object \n",
      "dtypes: float64(2), int64(5), object(5)\n",
      "memory usage: 2.0+ MB\n"
     ]
    }
   ],
   "source": [
    "\n",
    "df.info()"
   ]
  },
  {
   "cell_type": "markdown",
   "metadata": {},
   "source": [
    "En base a los resultados tenemos un registro total de 21.525 filas y 12 columnas. Por otro lado existe el mismo número de valores ausentes cuantitativos en las 2 únicas columnas: days_employed y total_income. \n",
    "\n",
    "Es un punto importante que vamos a evaluar en esta sección si la ausencia de datos está relacionada con las demás variables del conjunto de datos y si existe o no aleatoriedad en los datos para encontrar un patrón. \n",
    "\n",
    "Como siguiente paso vamos a filtrar la tabla con los valores ausentes de ambas columnas para ver las características de las demás variables que si tenemos registros y obtener el número total de valores ausentes. "
   ]
  },
  {
   "cell_type": "code",
   "execution_count": 7,
   "metadata": {},
   "outputs": [
    {
     "data": {
      "text/html": [
       "<div>\n",
       "<style scoped>\n",
       "    .dataframe tbody tr th:only-of-type {\n",
       "        vertical-align: middle;\n",
       "    }\n",
       "\n",
       "    .dataframe tbody tr th {\n",
       "        vertical-align: top;\n",
       "    }\n",
       "\n",
       "    .dataframe thead th {\n",
       "        text-align: right;\n",
       "    }\n",
       "</style>\n",
       "<table border=\"1\" class=\"dataframe\">\n",
       "  <thead>\n",
       "    <tr style=\"text-align: right;\">\n",
       "      <th></th>\n",
       "      <th>children</th>\n",
       "      <th>days_employed</th>\n",
       "      <th>dob_years</th>\n",
       "      <th>education</th>\n",
       "      <th>education_id</th>\n",
       "      <th>family_status</th>\n",
       "      <th>family_status_id</th>\n",
       "      <th>gender</th>\n",
       "      <th>income_type</th>\n",
       "      <th>debt</th>\n",
       "      <th>total_income</th>\n",
       "      <th>purpose</th>\n",
       "    </tr>\n",
       "  </thead>\n",
       "  <tbody>\n",
       "    <tr>\n",
       "      <th>12</th>\n",
       "      <td>0</td>\n",
       "      <td>NaN</td>\n",
       "      <td>65</td>\n",
       "      <td>secondary education</td>\n",
       "      <td>1</td>\n",
       "      <td>civil partnership</td>\n",
       "      <td>1</td>\n",
       "      <td>M</td>\n",
       "      <td>retiree</td>\n",
       "      <td>0</td>\n",
       "      <td>NaN</td>\n",
       "      <td>to have a wedding</td>\n",
       "    </tr>\n",
       "    <tr>\n",
       "      <th>26</th>\n",
       "      <td>0</td>\n",
       "      <td>NaN</td>\n",
       "      <td>41</td>\n",
       "      <td>secondary education</td>\n",
       "      <td>1</td>\n",
       "      <td>married</td>\n",
       "      <td>0</td>\n",
       "      <td>M</td>\n",
       "      <td>civil servant</td>\n",
       "      <td>0</td>\n",
       "      <td>NaN</td>\n",
       "      <td>education</td>\n",
       "    </tr>\n",
       "    <tr>\n",
       "      <th>29</th>\n",
       "      <td>0</td>\n",
       "      <td>NaN</td>\n",
       "      <td>63</td>\n",
       "      <td>secondary education</td>\n",
       "      <td>1</td>\n",
       "      <td>unmarried</td>\n",
       "      <td>4</td>\n",
       "      <td>F</td>\n",
       "      <td>retiree</td>\n",
       "      <td>0</td>\n",
       "      <td>NaN</td>\n",
       "      <td>building a real estate</td>\n",
       "    </tr>\n",
       "    <tr>\n",
       "      <th>41</th>\n",
       "      <td>0</td>\n",
       "      <td>NaN</td>\n",
       "      <td>50</td>\n",
       "      <td>secondary education</td>\n",
       "      <td>1</td>\n",
       "      <td>married</td>\n",
       "      <td>0</td>\n",
       "      <td>F</td>\n",
       "      <td>civil servant</td>\n",
       "      <td>0</td>\n",
       "      <td>NaN</td>\n",
       "      <td>second-hand car purchase</td>\n",
       "    </tr>\n",
       "    <tr>\n",
       "      <th>55</th>\n",
       "      <td>0</td>\n",
       "      <td>NaN</td>\n",
       "      <td>54</td>\n",
       "      <td>secondary education</td>\n",
       "      <td>1</td>\n",
       "      <td>civil partnership</td>\n",
       "      <td>1</td>\n",
       "      <td>F</td>\n",
       "      <td>retiree</td>\n",
       "      <td>1</td>\n",
       "      <td>NaN</td>\n",
       "      <td>to have a wedding</td>\n",
       "    </tr>\n",
       "    <tr>\n",
       "      <th>...</th>\n",
       "      <td>...</td>\n",
       "      <td>...</td>\n",
       "      <td>...</td>\n",
       "      <td>...</td>\n",
       "      <td>...</td>\n",
       "      <td>...</td>\n",
       "      <td>...</td>\n",
       "      <td>...</td>\n",
       "      <td>...</td>\n",
       "      <td>...</td>\n",
       "      <td>...</td>\n",
       "      <td>...</td>\n",
       "    </tr>\n",
       "    <tr>\n",
       "      <th>21489</th>\n",
       "      <td>2</td>\n",
       "      <td>NaN</td>\n",
       "      <td>47</td>\n",
       "      <td>Secondary Education</td>\n",
       "      <td>1</td>\n",
       "      <td>married</td>\n",
       "      <td>0</td>\n",
       "      <td>M</td>\n",
       "      <td>business</td>\n",
       "      <td>0</td>\n",
       "      <td>NaN</td>\n",
       "      <td>purchase of a car</td>\n",
       "    </tr>\n",
       "    <tr>\n",
       "      <th>21495</th>\n",
       "      <td>1</td>\n",
       "      <td>NaN</td>\n",
       "      <td>50</td>\n",
       "      <td>secondary education</td>\n",
       "      <td>1</td>\n",
       "      <td>civil partnership</td>\n",
       "      <td>1</td>\n",
       "      <td>F</td>\n",
       "      <td>employee</td>\n",
       "      <td>0</td>\n",
       "      <td>NaN</td>\n",
       "      <td>wedding ceremony</td>\n",
       "    </tr>\n",
       "    <tr>\n",
       "      <th>21497</th>\n",
       "      <td>0</td>\n",
       "      <td>NaN</td>\n",
       "      <td>48</td>\n",
       "      <td>BACHELOR'S DEGREE</td>\n",
       "      <td>0</td>\n",
       "      <td>married</td>\n",
       "      <td>0</td>\n",
       "      <td>F</td>\n",
       "      <td>business</td>\n",
       "      <td>0</td>\n",
       "      <td>NaN</td>\n",
       "      <td>building a property</td>\n",
       "    </tr>\n",
       "    <tr>\n",
       "      <th>21502</th>\n",
       "      <td>1</td>\n",
       "      <td>NaN</td>\n",
       "      <td>42</td>\n",
       "      <td>secondary education</td>\n",
       "      <td>1</td>\n",
       "      <td>married</td>\n",
       "      <td>0</td>\n",
       "      <td>F</td>\n",
       "      <td>employee</td>\n",
       "      <td>0</td>\n",
       "      <td>NaN</td>\n",
       "      <td>building a real estate</td>\n",
       "    </tr>\n",
       "    <tr>\n",
       "      <th>21510</th>\n",
       "      <td>2</td>\n",
       "      <td>NaN</td>\n",
       "      <td>28</td>\n",
       "      <td>secondary education</td>\n",
       "      <td>1</td>\n",
       "      <td>married</td>\n",
       "      <td>0</td>\n",
       "      <td>F</td>\n",
       "      <td>employee</td>\n",
       "      <td>0</td>\n",
       "      <td>NaN</td>\n",
       "      <td>car purchase</td>\n",
       "    </tr>\n",
       "  </tbody>\n",
       "</table>\n",
       "<p>2174 rows × 12 columns</p>\n",
       "</div>"
      ],
      "text/plain": [
       "       children  days_employed  dob_years            education  education_id  \\\n",
       "12            0            NaN         65  secondary education             1   \n",
       "26            0            NaN         41  secondary education             1   \n",
       "29            0            NaN         63  secondary education             1   \n",
       "41            0            NaN         50  secondary education             1   \n",
       "55            0            NaN         54  secondary education             1   \n",
       "...         ...            ...        ...                  ...           ...   \n",
       "21489         2            NaN         47  Secondary Education             1   \n",
       "21495         1            NaN         50  secondary education             1   \n",
       "21497         0            NaN         48    BACHELOR'S DEGREE             0   \n",
       "21502         1            NaN         42  secondary education             1   \n",
       "21510         2            NaN         28  secondary education             1   \n",
       "\n",
       "           family_status  family_status_id gender    income_type  debt  \\\n",
       "12     civil partnership                 1      M        retiree     0   \n",
       "26               married                 0      M  civil servant     0   \n",
       "29             unmarried                 4      F        retiree     0   \n",
       "41               married                 0      F  civil servant     0   \n",
       "55     civil partnership                 1      F        retiree     1   \n",
       "...                  ...               ...    ...            ...   ...   \n",
       "21489            married                 0      M       business     0   \n",
       "21495  civil partnership                 1      F       employee     0   \n",
       "21497            married                 0      F       business     0   \n",
       "21502            married                 0      F       employee     0   \n",
       "21510            married                 0      F       employee     0   \n",
       "\n",
       "       total_income                   purpose  \n",
       "12              NaN         to have a wedding  \n",
       "26              NaN                 education  \n",
       "29              NaN    building a real estate  \n",
       "41              NaN  second-hand car purchase  \n",
       "55              NaN         to have a wedding  \n",
       "...             ...                       ...  \n",
       "21489           NaN         purchase of a car  \n",
       "21495           NaN          wedding ceremony  \n",
       "21497           NaN       building a property  \n",
       "21502           NaN    building a real estate  \n",
       "21510           NaN              car purchase  \n",
       "\n",
       "[2174 rows x 12 columns]"
      ]
     },
     "execution_count": 7,
     "metadata": {},
     "output_type": "execute_result"
    }
   ],
   "source": [
    "\n",
    "df[(df['days_employed'].isna())& (df['total_income'].isna())]\n"
   ]
  },
  {
   "cell_type": "markdown",
   "metadata": {},
   "source": [
    "De acuerdo al registro en nuestra tabla filtrada,el número de valores ausentes parece ser simétricos entre ambas columnas, es decir 2174 filas en común.\n",
    "\n",
    "No podemos estar seguros dado que una suposición porque aplicamos dos filtros o condiciones a la tabla, pero pueden existir más valores ausentes en cada columna. \n",
    "\n",
    "Es un punto que vamos a comprobar a continuación a través del método isna() y sum () para contar si el número de filas ausentes en cada columna concide con el dato anterior.  \n",
    "\n"
   ]
  },
  {
   "cell_type": "code",
   "execution_count": 8,
   "metadata": {},
   "outputs": [
    {
     "data": {
      "text/plain": [
       "days_employed    2174\n",
       "total_income     2174\n",
       "dtype: int64"
      ]
     },
     "execution_count": 8,
     "metadata": {},
     "output_type": "execute_result"
    }
   ],
   "source": [
    "\n",
    "df[['days_employed', 'total_income']].isna().sum()\n",
    "\n"
   ]
  },
  {
   "cell_type": "markdown",
   "metadata": {},
   "source": [
    "**Conclusión intermedia**\n",
    "\n"
   ]
  },
  {
   "cell_type": "markdown",
   "metadata": {},
   "source": [
    "La tabla filtrada indica que para la columna days_employed y total_income tienen el mismo número de filas con valores ausentes, un total de 2.174 registros como NAN. \n",
    "\n",
    "Posteriormente se realiza una comprobación con filtros múltiples correspondientes a ambas columnas, con el objetivo de validar si sus valores ausentes son simétricos. Finalmente obtenemos el mismo resultado de 2.174 de valores ausentes, asegurando que el número de filas de la tabla filrada es pareja y simétrica con el número de valores ausentes. \n",
    "\n",
    "El porcentaje de valores ausentes representa el 10% del DataFrame y se considera una gran proporción. La naturaleza de este error se pudo deber a errores técnicos y para trabajar con los datos completos será necesario rellenar esos valores ausentes, y adicional ejecutar un análisis sobre si las demás características de los clientes estan relacionados o influyeron en que se obtengan 2.174 registros ausentes.\n",
    "\n",
    "Una hipótesis puede ser que el tipo de empleo de un cliente pueda ser un factor influyente para que exista valores ausentes en sus ingresos totales. El análisis lo podemos profundizar si combinamos con la variable: family_status para estudiar los perfiles de los clientes.\n"
   ]
  },
  {
   "cell_type": "code",
   "execution_count": 9,
   "metadata": {},
   "outputs": [
    {
     "name": "stdout",
     "output_type": "stream",
     "text": [
      "Porcentaje de valores ausentes: 10%\n"
     ]
    }
   ],
   "source": [
    "days_blank = df['days_employed'].isna().sum()\n",
    "filas_totales = len(df)\n",
    "porcentaje_valores_ausentes = (days_blank/filas_totales)\n",
    "print(f'Porcentaje de valores ausentes: {porcentaje_valores_ausentes:.0%}')"
   ]
  },
  {
   "cell_type": "markdown",
   "metadata": {},
   "source": [
    "<div class=\"alert alert-warning\">\n",
    "<b>⚠️ Comentario del revisor:</b>\n",
    "    \n",
    "Esta sustitución puede generar problemas cuando se vaya a hacer tratamiento. Sugiero que los dejes en formato `NaN` ya que `pandas` los identifica facilmente y trae incorporadas algunas funciones que trabajan sobre este tipo específico de datos.\n",
    "</div>"
   ]
  },
  {
   "cell_type": "code",
   "execution_count": 10,
   "metadata": {},
   "outputs": [
    {
     "data": {
      "text/html": [
       "<div>\n",
       "<style scoped>\n",
       "    .dataframe tbody tr th:only-of-type {\n",
       "        vertical-align: middle;\n",
       "    }\n",
       "\n",
       "    .dataframe tbody tr th {\n",
       "        vertical-align: top;\n",
       "    }\n",
       "\n",
       "    .dataframe thead th {\n",
       "        text-align: right;\n",
       "    }\n",
       "</style>\n",
       "<table border=\"1\" class=\"dataframe\">\n",
       "  <thead>\n",
       "    <tr style=\"text-align: right;\">\n",
       "      <th></th>\n",
       "      <th>income_type</th>\n",
       "      <th>education</th>\n",
       "      <th>family_status</th>\n",
       "    </tr>\n",
       "  </thead>\n",
       "  <tbody>\n",
       "    <tr>\n",
       "      <th>12</th>\n",
       "      <td>retiree</td>\n",
       "      <td>secondary education</td>\n",
       "      <td>civil partnership</td>\n",
       "    </tr>\n",
       "    <tr>\n",
       "      <th>26</th>\n",
       "      <td>civil servant</td>\n",
       "      <td>secondary education</td>\n",
       "      <td>married</td>\n",
       "    </tr>\n",
       "    <tr>\n",
       "      <th>29</th>\n",
       "      <td>retiree</td>\n",
       "      <td>secondary education</td>\n",
       "      <td>unmarried</td>\n",
       "    </tr>\n",
       "    <tr>\n",
       "      <th>41</th>\n",
       "      <td>civil servant</td>\n",
       "      <td>secondary education</td>\n",
       "      <td>married</td>\n",
       "    </tr>\n",
       "    <tr>\n",
       "      <th>55</th>\n",
       "      <td>retiree</td>\n",
       "      <td>secondary education</td>\n",
       "      <td>civil partnership</td>\n",
       "    </tr>\n",
       "    <tr>\n",
       "      <th>...</th>\n",
       "      <td>...</td>\n",
       "      <td>...</td>\n",
       "      <td>...</td>\n",
       "    </tr>\n",
       "    <tr>\n",
       "      <th>21489</th>\n",
       "      <td>business</td>\n",
       "      <td>Secondary Education</td>\n",
       "      <td>married</td>\n",
       "    </tr>\n",
       "    <tr>\n",
       "      <th>21495</th>\n",
       "      <td>employee</td>\n",
       "      <td>secondary education</td>\n",
       "      <td>civil partnership</td>\n",
       "    </tr>\n",
       "    <tr>\n",
       "      <th>21497</th>\n",
       "      <td>business</td>\n",
       "      <td>BACHELOR'S DEGREE</td>\n",
       "      <td>married</td>\n",
       "    </tr>\n",
       "    <tr>\n",
       "      <th>21502</th>\n",
       "      <td>employee</td>\n",
       "      <td>secondary education</td>\n",
       "      <td>married</td>\n",
       "    </tr>\n",
       "    <tr>\n",
       "      <th>21510</th>\n",
       "      <td>employee</td>\n",
       "      <td>secondary education</td>\n",
       "      <td>married</td>\n",
       "    </tr>\n",
       "  </tbody>\n",
       "</table>\n",
       "<p>2174 rows × 3 columns</p>\n",
       "</div>"
      ],
      "text/plain": [
       "         income_type            education      family_status\n",
       "12           retiree  secondary education  civil partnership\n",
       "26     civil servant  secondary education            married\n",
       "29           retiree  secondary education          unmarried\n",
       "41     civil servant  secondary education            married\n",
       "55           retiree  secondary education  civil partnership\n",
       "...              ...                  ...                ...\n",
       "21489       business  Secondary Education            married\n",
       "21495       employee  secondary education  civil partnership\n",
       "21497       business    BACHELOR'S DEGREE            married\n",
       "21502       employee  secondary education            married\n",
       "21510       employee  secondary education            married\n",
       "\n",
       "[2174 rows x 3 columns]"
      ]
     },
     "execution_count": 10,
     "metadata": {},
     "output_type": "execute_result"
    }
   ],
   "source": [
    "df_filtered= df[(df['total_income'].isna())]\n",
    "df_filtered[['income_type', 'education', 'family_status']]\n"
   ]
  },
  {
   "cell_type": "markdown",
   "metadata": {},
   "source": [
    "Vamos a comprobar la distribución individual."
   ]
  },
  {
   "cell_type": "code",
   "execution_count": 11,
   "metadata": {},
   "outputs": [
    {
     "name": "stdout",
     "output_type": "stream",
     "text": [
      "employee         1105\n",
      "business          508\n",
      "retiree           413\n",
      "civil servant     147\n",
      "entrepreneur        1\n",
      "Name: income_type, dtype: int64\n"
     ]
    }
   ],
   "source": [
    "\n",
    "df_filtered = df[(df['total_income'].isna())]\n",
    "print(df_filtered['income_type'].value_counts())\n",
    "\n"
   ]
  },
  {
   "cell_type": "code",
   "execution_count": 12,
   "metadata": {},
   "outputs": [
    {
     "name": "stdout",
     "output_type": "stream",
     "text": [
      "secondary education    1408\n",
      "bachelor's degree       496\n",
      "SECONDARY EDUCATION      67\n",
      "Secondary Education      65\n",
      "some college             55\n",
      "Bachelor's Degree        25\n",
      "BACHELOR'S DEGREE        23\n",
      "primary education        19\n",
      "Some College              7\n",
      "SOME COLLEGE              7\n",
      "PRIMARY EDUCATION         1\n",
      "Primary Education         1\n",
      "Name: education, dtype: int64\n"
     ]
    }
   ],
   "source": [
    "print(df_filtered['education'].value_counts())"
   ]
  },
  {
   "cell_type": "code",
   "execution_count": 13,
   "metadata": {},
   "outputs": [
    {
     "name": "stdout",
     "output_type": "stream",
     "text": [
      "married              1237\n",
      "civil partnership     442\n",
      "unmarried             288\n",
      "divorced              112\n",
      "widow / widower        95\n",
      "Name: family_status, dtype: int64\n"
     ]
    }
   ],
   "source": [
    "print(df_filtered['family_status'].value_counts())"
   ]
  },
  {
   "cell_type": "markdown",
   "metadata": {},
   "source": [
    "\n",
    "\n",
    "**Posibles razones por las que hay valores ausentes en los datos**\n",
    "\n"
   ]
  },
  {
   "cell_type": "markdown",
   "metadata": {},
   "source": [
    "Una idea de porque tengamos los valores ausentes luego de revisar la distribución sobre nuestras 3 características: tipo de ingreso, educación y estado civil, es si analizamos los perfiles más comunes de los clientes. \n",
    "\n",
    "Es decir que la mayoría son casados y tienen un nivel de educación secundario, por lo que podrían trabajar en empleos informales que no lleven el registro de la información faltante su salario y los días de experiencia laboral. \n",
    "\n",
    "Con esta suposición se podría asumir que existen posibles patrones que llevan a que los valores ausentes no sean aleatorios porque están relacionados con las demás variables.\n",
    "\n",
    "A continución comprobaremo la disribución de valores ausentes en el DataFrame, para revisar cuales otras características podrían servir de análisis para encontrar patrones."
   ]
  },
  {
   "cell_type": "markdown",
   "metadata": {},
   "source": [
    "<div class=\"alert alert-success\">\n",
    "    <b>✔️ Comentario del revisor:</b> Buenos resultados!"
   ]
  },
  {
   "cell_type": "code",
   "execution_count": 14,
   "metadata": {},
   "outputs": [
    {
     "data": {
      "text/html": [
       "<div>\n",
       "<style scoped>\n",
       "    .dataframe tbody tr th:only-of-type {\n",
       "        vertical-align: middle;\n",
       "    }\n",
       "\n",
       "    .dataframe tbody tr th {\n",
       "        vertical-align: top;\n",
       "    }\n",
       "\n",
       "    .dataframe thead th {\n",
       "        text-align: right;\n",
       "    }\n",
       "</style>\n",
       "<table border=\"1\" class=\"dataframe\">\n",
       "  <thead>\n",
       "    <tr style=\"text-align: right;\">\n",
       "      <th></th>\n",
       "      <th>children</th>\n",
       "      <th>days_employed</th>\n",
       "      <th>dob_years</th>\n",
       "      <th>education</th>\n",
       "      <th>education_id</th>\n",
       "      <th>family_status</th>\n",
       "      <th>family_status_id</th>\n",
       "      <th>gender</th>\n",
       "      <th>income_type</th>\n",
       "      <th>debt</th>\n",
       "      <th>total_income</th>\n",
       "      <th>purpose</th>\n",
       "    </tr>\n",
       "  </thead>\n",
       "  <tbody>\n",
       "    <tr>\n",
       "      <th>12</th>\n",
       "      <td>0</td>\n",
       "      <td>NaN</td>\n",
       "      <td>65</td>\n",
       "      <td>secondary education</td>\n",
       "      <td>1</td>\n",
       "      <td>civil partnership</td>\n",
       "      <td>1</td>\n",
       "      <td>M</td>\n",
       "      <td>retiree</td>\n",
       "      <td>0</td>\n",
       "      <td>NaN</td>\n",
       "      <td>to have a wedding</td>\n",
       "    </tr>\n",
       "    <tr>\n",
       "      <th>26</th>\n",
       "      <td>0</td>\n",
       "      <td>NaN</td>\n",
       "      <td>41</td>\n",
       "      <td>secondary education</td>\n",
       "      <td>1</td>\n",
       "      <td>married</td>\n",
       "      <td>0</td>\n",
       "      <td>M</td>\n",
       "      <td>civil servant</td>\n",
       "      <td>0</td>\n",
       "      <td>NaN</td>\n",
       "      <td>education</td>\n",
       "    </tr>\n",
       "    <tr>\n",
       "      <th>29</th>\n",
       "      <td>0</td>\n",
       "      <td>NaN</td>\n",
       "      <td>63</td>\n",
       "      <td>secondary education</td>\n",
       "      <td>1</td>\n",
       "      <td>unmarried</td>\n",
       "      <td>4</td>\n",
       "      <td>F</td>\n",
       "      <td>retiree</td>\n",
       "      <td>0</td>\n",
       "      <td>NaN</td>\n",
       "      <td>building a real estate</td>\n",
       "    </tr>\n",
       "    <tr>\n",
       "      <th>41</th>\n",
       "      <td>0</td>\n",
       "      <td>NaN</td>\n",
       "      <td>50</td>\n",
       "      <td>secondary education</td>\n",
       "      <td>1</td>\n",
       "      <td>married</td>\n",
       "      <td>0</td>\n",
       "      <td>F</td>\n",
       "      <td>civil servant</td>\n",
       "      <td>0</td>\n",
       "      <td>NaN</td>\n",
       "      <td>second-hand car purchase</td>\n",
       "    </tr>\n",
       "    <tr>\n",
       "      <th>55</th>\n",
       "      <td>0</td>\n",
       "      <td>NaN</td>\n",
       "      <td>54</td>\n",
       "      <td>secondary education</td>\n",
       "      <td>1</td>\n",
       "      <td>civil partnership</td>\n",
       "      <td>1</td>\n",
       "      <td>F</td>\n",
       "      <td>retiree</td>\n",
       "      <td>1</td>\n",
       "      <td>NaN</td>\n",
       "      <td>to have a wedding</td>\n",
       "    </tr>\n",
       "    <tr>\n",
       "      <th>...</th>\n",
       "      <td>...</td>\n",
       "      <td>...</td>\n",
       "      <td>...</td>\n",
       "      <td>...</td>\n",
       "      <td>...</td>\n",
       "      <td>...</td>\n",
       "      <td>...</td>\n",
       "      <td>...</td>\n",
       "      <td>...</td>\n",
       "      <td>...</td>\n",
       "      <td>...</td>\n",
       "      <td>...</td>\n",
       "    </tr>\n",
       "    <tr>\n",
       "      <th>21489</th>\n",
       "      <td>2</td>\n",
       "      <td>NaN</td>\n",
       "      <td>47</td>\n",
       "      <td>Secondary Education</td>\n",
       "      <td>1</td>\n",
       "      <td>married</td>\n",
       "      <td>0</td>\n",
       "      <td>M</td>\n",
       "      <td>business</td>\n",
       "      <td>0</td>\n",
       "      <td>NaN</td>\n",
       "      <td>purchase of a car</td>\n",
       "    </tr>\n",
       "    <tr>\n",
       "      <th>21495</th>\n",
       "      <td>1</td>\n",
       "      <td>NaN</td>\n",
       "      <td>50</td>\n",
       "      <td>secondary education</td>\n",
       "      <td>1</td>\n",
       "      <td>civil partnership</td>\n",
       "      <td>1</td>\n",
       "      <td>F</td>\n",
       "      <td>employee</td>\n",
       "      <td>0</td>\n",
       "      <td>NaN</td>\n",
       "      <td>wedding ceremony</td>\n",
       "    </tr>\n",
       "    <tr>\n",
       "      <th>21497</th>\n",
       "      <td>0</td>\n",
       "      <td>NaN</td>\n",
       "      <td>48</td>\n",
       "      <td>BACHELOR'S DEGREE</td>\n",
       "      <td>0</td>\n",
       "      <td>married</td>\n",
       "      <td>0</td>\n",
       "      <td>F</td>\n",
       "      <td>business</td>\n",
       "      <td>0</td>\n",
       "      <td>NaN</td>\n",
       "      <td>building a property</td>\n",
       "    </tr>\n",
       "    <tr>\n",
       "      <th>21502</th>\n",
       "      <td>1</td>\n",
       "      <td>NaN</td>\n",
       "      <td>42</td>\n",
       "      <td>secondary education</td>\n",
       "      <td>1</td>\n",
       "      <td>married</td>\n",
       "      <td>0</td>\n",
       "      <td>F</td>\n",
       "      <td>employee</td>\n",
       "      <td>0</td>\n",
       "      <td>NaN</td>\n",
       "      <td>building a real estate</td>\n",
       "    </tr>\n",
       "    <tr>\n",
       "      <th>21510</th>\n",
       "      <td>2</td>\n",
       "      <td>NaN</td>\n",
       "      <td>28</td>\n",
       "      <td>secondary education</td>\n",
       "      <td>1</td>\n",
       "      <td>married</td>\n",
       "      <td>0</td>\n",
       "      <td>F</td>\n",
       "      <td>employee</td>\n",
       "      <td>0</td>\n",
       "      <td>NaN</td>\n",
       "      <td>car purchase</td>\n",
       "    </tr>\n",
       "  </tbody>\n",
       "</table>\n",
       "<p>2174 rows × 12 columns</p>\n",
       "</div>"
      ],
      "text/plain": [
       "       children  days_employed  dob_years            education  education_id  \\\n",
       "12            0            NaN         65  secondary education             1   \n",
       "26            0            NaN         41  secondary education             1   \n",
       "29            0            NaN         63  secondary education             1   \n",
       "41            0            NaN         50  secondary education             1   \n",
       "55            0            NaN         54  secondary education             1   \n",
       "...         ...            ...        ...                  ...           ...   \n",
       "21489         2            NaN         47  Secondary Education             1   \n",
       "21495         1            NaN         50  secondary education             1   \n",
       "21497         0            NaN         48    BACHELOR'S DEGREE             0   \n",
       "21502         1            NaN         42  secondary education             1   \n",
       "21510         2            NaN         28  secondary education             1   \n",
       "\n",
       "           family_status  family_status_id gender    income_type  debt  \\\n",
       "12     civil partnership                 1      M        retiree     0   \n",
       "26               married                 0      M  civil servant     0   \n",
       "29             unmarried                 4      F        retiree     0   \n",
       "41               married                 0      F  civil servant     0   \n",
       "55     civil partnership                 1      F        retiree     1   \n",
       "...                  ...               ...    ...            ...   ...   \n",
       "21489            married                 0      M       business     0   \n",
       "21495  civil partnership                 1      F       employee     0   \n",
       "21497            married                 0      F       business     0   \n",
       "21502            married                 0      F       employee     0   \n",
       "21510            married                 0      F       employee     0   \n",
       "\n",
       "       total_income                   purpose  \n",
       "12              NaN         to have a wedding  \n",
       "26              NaN                 education  \n",
       "29              NaN    building a real estate  \n",
       "41              NaN  second-hand car purchase  \n",
       "55              NaN         to have a wedding  \n",
       "...             ...                       ...  \n",
       "21489           NaN         purchase of a car  \n",
       "21495           NaN          wedding ceremony  \n",
       "21497           NaN       building a property  \n",
       "21502           NaN    building a real estate  \n",
       "21510           NaN              car purchase  \n",
       "\n",
       "[2174 rows x 12 columns]"
      ]
     },
     "execution_count": 14,
     "metadata": {},
     "output_type": "execute_result"
    }
   ],
   "source": [
    "\n",
    "df[(df['total_income'].isna())]\n"
   ]
  },
  {
   "cell_type": "markdown",
   "metadata": {},
   "source": [
    "**Conclusión intermedia**\n",
    "\n"
   ]
  },
  {
   "cell_type": "markdown",
   "metadata": {},
   "source": [
    "Las edades de los clientes podría ser una características más que se podrían evaluar como es la distribución de sus valores ausentes. Es mas probable que la distribución se concentre más en clientes jovenes que tal vez aun no han conseguido un trabajo.  "
   ]
  },
  {
   "cell_type": "code",
   "execution_count": 15,
   "metadata": {
    "scrolled": true
   },
   "outputs": [
    {
     "data": {
      "text/plain": [
       "dob_years\n",
       "34           69\n",
       "40           66\n",
       "31           65\n",
       "42           65\n",
       "35           64\n",
       "36           63\n",
       "47           59\n",
       "41           59\n",
       "30           58\n",
       "28           57\n",
       "58           56\n",
       "57           56\n",
       "54           55\n",
       "38           54\n",
       "56           54\n",
       "52           53\n",
       "37           53\n",
       "33           51\n",
       "50           51\n",
       "39           51\n",
       "51           50\n",
       "49           50\n",
       "45           50\n",
       "29           50\n",
       "43           50\n",
       "55           48\n",
       "46           48\n",
       "48           46\n",
       "44           44\n",
       "53           44\n",
       "60           39\n",
       "62           38\n",
       "61           38\n",
       "64           37\n",
       "32           37\n",
       "27           36\n",
       "23           36\n",
       "26           35\n",
       "59           34\n",
       "63           29\n",
       "25           23\n",
       "24           21\n",
       "66           20\n",
       "65           20\n",
       "21           18\n",
       "22           17\n",
       "67           16\n",
       "0            10\n",
       "68            9\n",
       "20            5\n",
       "69            5\n",
       "71            5\n",
       "70            3\n",
       "72            2\n",
       "19            1\n",
       "73            1\n",
       "dtype: int64"
      ]
     },
     "execution_count": 15,
     "metadata": {},
     "output_type": "execute_result"
    }
   ],
   "source": [
    "df_filtered= df[(df['total_income'].isna())]\n",
    "df_filtered[['dob_years']].value_counts()"
   ]
  },
  {
   "cell_type": "markdown",
   "metadata": {},
   "source": [
    "Los valores ausentes dependen de ciertas variables que hemos analizado en conjunto para determinar ciertos patrones en su perfil como clientes que interfieren en la información que esta faltando como puede ser su nivel de educación, su tipo de ingreso y estado civil.\n",
    "\n",
    "Al realizar la comprobación únicamente con la edad de los clientes, no es muy clara la interpretación en la tabla dado que no estan agrupados las edades en rangos que permita analizar posibles patrones.  Sin embargo son los clientes de 30-34 años aproximadamente que representan una mayor cantidad. Es un punto que más adelante se profundizará según la clasificación de las edades. \n",
    "\n",
    "De igual manera para confirmar las razones de la ausencia de los datos, es realizar investigaciones y trabajo en equipo con el equipo proveedor de la información para ampliar nuestras posibilidades de interpretación en la información y conocer el contexto en este caso. "
   ]
  },
  {
   "cell_type": "markdown",
   "metadata": {},
   "source": [
    "**Conclusiones**\n"
   ]
  },
  {
   "cell_type": "markdown",
   "metadata": {},
   "source": [
    "Los valores ausentes dependen de ciertas variables que hemos analizado en conjunto para determinar ciertos patrones en su perfil como clientes que interfieren en la información que esta faltando.\n",
    "\n",
    "Adicional en este tipo de casos es recomendable rellenar esos valores ausentes tomando en cuenta que no deberían tener un impacto significativo en el análisis. En el caso de los valores ausentes tipo cuantitativos se reemplazarán dependiendo si lo datos son átipicos o no con la mediana o la media.\n",
    "\n",
    "A continuación se abodara la etapa de tranformacion de los datos, seguamente tendremos que identificar y eliminar registros duplicados, valores ausentes, diferentes registros y artefactos incorrectos. "
   ]
  },
  {
   "cell_type": "markdown",
   "metadata": {},
   "source": [
    "<div class=\"alert alert-success\">\n",
    "<b>✔️ Comentario del revisor:</b> Correcto, muy bien!"
   ]
  },
  {
   "cell_type": "markdown",
   "metadata": {},
   "source": [
    "## Transformación de datos\n",
    "\n"
   ]
  },
  {
   "cell_type": "markdown",
   "metadata": {},
   "source": [
    "Tal como se identificó al inicio de nuestro docuemento, encontramos problemas en los valores de las columnas de nuestro DataFrame. En esta sección repasaremos por cada columna para ir depurando los datos y preparando para presentar los resultados. "
   ]
  },
  {
   "cell_type": "markdown",
   "metadata": {},
   "source": [
    "Primero identidicaremos los valores de la columna educación para posteriormente corregir la ortografía y dejar estandarizado el texto de cada valor en minúsculas."
   ]
  },
  {
   "cell_type": "markdown",
   "metadata": {},
   "source": [
    "*Education*"
   ]
  },
  {
   "cell_type": "code",
   "execution_count": 16,
   "metadata": {},
   "outputs": [
    {
     "name": "stdout",
     "output_type": "stream",
     "text": [
      "secondary education    13750\n",
      "bachelor's degree       4718\n",
      "SECONDARY EDUCATION      772\n",
      "Secondary Education      711\n",
      "some college             668\n",
      "BACHELOR'S DEGREE        274\n",
      "Bachelor's Degree        268\n",
      "primary education        250\n",
      "Some College              47\n",
      "SOME COLLEGE              29\n",
      "PRIMARY EDUCATION         17\n",
      "Primary Education         15\n",
      "graduate degree            4\n",
      "Graduate Degree            1\n",
      "GRADUATE DEGREE            1\n",
      "Name: education, dtype: int64\n"
     ]
    }
   ],
   "source": [
    "\n",
    "print(df['education'].value_counts())"
   ]
  },
  {
   "cell_type": "markdown",
   "metadata": {},
   "source": [
    "Arreglaremos los registros a través del método str.lower()"
   ]
  },
  {
   "cell_type": "code",
   "execution_count": 17,
   "metadata": {
    "scrolled": true
   },
   "outputs": [],
   "source": [
    "df['education'] = df['education'].str.lower()\n"
   ]
  },
  {
   "cell_type": "markdown",
   "metadata": {},
   "source": [
    "Comprobaremos todos los valores en la columna para asegurarnos de que los hayamos corregido."
   ]
  },
  {
   "cell_type": "code",
   "execution_count": 18,
   "metadata": {},
   "outputs": [
    {
     "name": "stdout",
     "output_type": "stream",
     "text": [
      "secondary education    15233\n",
      "bachelor's degree       5260\n",
      "some college             744\n",
      "primary education        282\n",
      "graduate degree            6\n",
      "Name: education, dtype: int64\n"
     ]
    }
   ],
   "source": [
    "\n",
    "print(df['education'].value_counts())\n"
   ]
  },
  {
   "cell_type": "markdown",
   "metadata": {},
   "source": [
    "<div class=\"alert alert-success\">\n",
    "<b>✔️ Comentario del revisor:</b>\n",
    "    \n",
    "Si, podemos hacerlo en esa manera, muy bien.\n",
    "</div>"
   ]
  },
  {
   "cell_type": "markdown",
   "metadata": {},
   "source": [
    "*Children*"
   ]
  },
  {
   "cell_type": "markdown",
   "metadata": {},
   "source": [
    "Continuando con la correción, en la columna children veremos como está distribuido los valores. "
   ]
  },
  {
   "cell_type": "code",
   "execution_count": 19,
   "metadata": {
    "scrolled": true
   },
   "outputs": [
    {
     "name": "stdout",
     "output_type": "stream",
     "text": [
      " 0     14149\n",
      " 1      4818\n",
      " 2      2055\n",
      " 3       330\n",
      " 20       76\n",
      "-1        47\n",
      " 4        41\n",
      " 5         9\n",
      "Name: children, dtype: int64\n"
     ]
    }
   ],
   "source": [
    "\n",
    "print(df['children'].value_counts())"
   ]
  },
  {
   "cell_type": "markdown",
   "metadata": {},
   "source": [
    "\n",
    "En la distribución encontramos errores en el registro de -1 hijo con una frecuencia de 47 y otro caso con 20 hijos y frecuencia de 76. Procedemos a calcular que porcentaje nos representa estos datos problemáticos sobre la columna y es un 1%, es un ratio bajo pero es posible que hayan ocurrido por un error humanos o de procedimiento.\n",
    "\n",
    "En este caso se procederá a reemplazar los 123 datos erróneos a través del uso de la mediana en los valores de la columna. La razón de esta decisión es porque existen una gran brecha entre el número de hijos mínimo: -1 y el número de hijos máximo: 20, por lo tanto son datos átipicos que distorcionan y alteran los resultados. \n",
    "\n",
    "\n"
   ]
  },
  {
   "cell_type": "markdown",
   "metadata": {},
   "source": [
    "<div class=\"alert alert-success\">\n",
    "<b>✔️ Comentario del revisor:</b>\n",
    "    \n",
    "Correcto\n",
    "</div>"
   ]
  },
  {
   "cell_type": "code",
   "execution_count": 20,
   "metadata": {},
   "outputs": [
    {
     "name": "stdout",
     "output_type": "stream",
     "text": [
      "Porcentaje de datos problemáticos:1%\n"
     ]
    }
   ],
   "source": [
    "error_value_1= df.loc[df.loc[:,'children']== 20] ['children'].count()\n",
    "error_value_2= df.loc[df.loc[:,'children']== -1] ['children'].count()\n",
    "porcentaje= (error_value_1 + error_value_2) /(len(df['children']))\n",
    "print(f'Porcentaje de datos problemáticos:{porcentaje:.0%}')"
   ]
  },
  {
   "cell_type": "code",
   "execution_count": 21,
   "metadata": {},
   "outputs": [],
   "source": [
    "children_median= int(df['children'].median())\n",
    "df['children']= df['children'].replace(20,children_median)\n",
    "df['children']= df['children'].replace(-1,children_median)"
   ]
  },
  {
   "cell_type": "markdown",
   "metadata": {},
   "source": [
    "Comprobaremos en  la columna `children` de nuevo para asegurarnos de que todo está arreglado"
   ]
  },
  {
   "cell_type": "code",
   "execution_count": 22,
   "metadata": {},
   "outputs": [
    {
     "data": {
      "text/plain": [
       "0    14272\n",
       "1     4818\n",
       "2     2055\n",
       "3      330\n",
       "4       41\n",
       "5        9\n",
       "Name: children, dtype: int64"
      ]
     },
     "execution_count": 22,
     "metadata": {},
     "output_type": "execute_result"
    }
   ],
   "source": [
    "\n",
    "df['children'].value_counts()\n"
   ]
  },
  {
   "cell_type": "markdown",
   "metadata": {},
   "source": [
    "*Days_employed*\n"
   ]
  },
  {
   "cell_type": "markdown",
   "metadata": {},
   "source": [
    "En la columna days_employed, encontramos registros con el signo negativo. No existen días de experiencia laboral en negativo, por lo que más adelante se evaluará y se reemplazará esos valores. \n",
    "\n"
   ]
  },
  {
   "cell_type": "code",
   "execution_count": 23,
   "metadata": {},
   "outputs": [
    {
     "data": {
      "text/plain": [
       "-327.685916     1\n",
       "-1580.622577    1\n",
       "-4122.460569    1\n",
       "-2828.237691    1\n",
       "-2636.090517    1\n",
       "               ..\n",
       "-7120.517564    1\n",
       "-2146.884040    1\n",
       "-881.454684     1\n",
       "-794.666350     1\n",
       "-3382.113891    1\n",
       "Name: days_employed, Length: 19351, dtype: int64"
      ]
     },
     "execution_count": 23,
     "metadata": {},
     "output_type": "execute_result"
    }
   ],
   "source": [
    "\n",
    "df['days_employed'].value_counts()"
   ]
  },
  {
   "cell_type": "markdown",
   "metadata": {},
   "source": [
    "Encontraremos cual es el valor mínimo y máximo."
   ]
  },
  {
   "cell_type": "code",
   "execution_count": 24,
   "metadata": {},
   "outputs": [
    {
     "data": {
      "text/plain": [
       "401755"
      ]
     },
     "execution_count": 24,
     "metadata": {},
     "output_type": "execute_result"
    }
   ],
   "source": [
    "int(df['days_employed'].max())\n"
   ]
  },
  {
   "cell_type": "code",
   "execution_count": 25,
   "metadata": {},
   "outputs": [
    {
     "data": {
      "text/plain": [
       "-18388"
      ]
     },
     "execution_count": 25,
     "metadata": {},
     "output_type": "execute_result"
    }
   ],
   "source": [
    "int(df['days_employed'].min())"
   ]
  },
  {
   "cell_type": "markdown",
   "metadata": {},
   "source": [
    "Abordaremos en el conjunto de datos cuales son valores problemáticos, es decir aquellos clientes que tengan los días de experiencia en negativo."
   ]
  },
  {
   "cell_type": "code",
   "execution_count": 26,
   "metadata": {},
   "outputs": [
    {
     "data": {
      "text/html": [
       "<div>\n",
       "<style scoped>\n",
       "    .dataframe tbody tr th:only-of-type {\n",
       "        vertical-align: middle;\n",
       "    }\n",
       "\n",
       "    .dataframe tbody tr th {\n",
       "        vertical-align: top;\n",
       "    }\n",
       "\n",
       "    .dataframe thead th {\n",
       "        text-align: right;\n",
       "    }\n",
       "</style>\n",
       "<table border=\"1\" class=\"dataframe\">\n",
       "  <thead>\n",
       "    <tr style=\"text-align: right;\">\n",
       "      <th></th>\n",
       "      <th>children</th>\n",
       "      <th>days_employed</th>\n",
       "      <th>dob_years</th>\n",
       "      <th>education</th>\n",
       "      <th>education_id</th>\n",
       "      <th>family_status</th>\n",
       "      <th>family_status_id</th>\n",
       "      <th>gender</th>\n",
       "      <th>income_type</th>\n",
       "      <th>debt</th>\n",
       "      <th>total_income</th>\n",
       "      <th>purpose</th>\n",
       "    </tr>\n",
       "  </thead>\n",
       "  <tbody>\n",
       "    <tr>\n",
       "      <th>0</th>\n",
       "      <td>1</td>\n",
       "      <td>-8437.673028</td>\n",
       "      <td>42</td>\n",
       "      <td>bachelor's degree</td>\n",
       "      <td>0</td>\n",
       "      <td>married</td>\n",
       "      <td>0</td>\n",
       "      <td>F</td>\n",
       "      <td>employee</td>\n",
       "      <td>0</td>\n",
       "      <td>40620.102</td>\n",
       "      <td>purchase of the house</td>\n",
       "    </tr>\n",
       "    <tr>\n",
       "      <th>1</th>\n",
       "      <td>1</td>\n",
       "      <td>-4024.803754</td>\n",
       "      <td>36</td>\n",
       "      <td>secondary education</td>\n",
       "      <td>1</td>\n",
       "      <td>married</td>\n",
       "      <td>0</td>\n",
       "      <td>F</td>\n",
       "      <td>employee</td>\n",
       "      <td>0</td>\n",
       "      <td>17932.802</td>\n",
       "      <td>car purchase</td>\n",
       "    </tr>\n",
       "    <tr>\n",
       "      <th>2</th>\n",
       "      <td>0</td>\n",
       "      <td>-5623.422610</td>\n",
       "      <td>33</td>\n",
       "      <td>secondary education</td>\n",
       "      <td>1</td>\n",
       "      <td>married</td>\n",
       "      <td>0</td>\n",
       "      <td>M</td>\n",
       "      <td>employee</td>\n",
       "      <td>0</td>\n",
       "      <td>23341.752</td>\n",
       "      <td>purchase of the house</td>\n",
       "    </tr>\n",
       "    <tr>\n",
       "      <th>3</th>\n",
       "      <td>3</td>\n",
       "      <td>-4124.747207</td>\n",
       "      <td>32</td>\n",
       "      <td>secondary education</td>\n",
       "      <td>1</td>\n",
       "      <td>married</td>\n",
       "      <td>0</td>\n",
       "      <td>M</td>\n",
       "      <td>employee</td>\n",
       "      <td>0</td>\n",
       "      <td>42820.568</td>\n",
       "      <td>supplementary education</td>\n",
       "    </tr>\n",
       "    <tr>\n",
       "      <th>5</th>\n",
       "      <td>0</td>\n",
       "      <td>-926.185831</td>\n",
       "      <td>27</td>\n",
       "      <td>bachelor's degree</td>\n",
       "      <td>0</td>\n",
       "      <td>civil partnership</td>\n",
       "      <td>1</td>\n",
       "      <td>M</td>\n",
       "      <td>business</td>\n",
       "      <td>0</td>\n",
       "      <td>40922.170</td>\n",
       "      <td>purchase of the house</td>\n",
       "    </tr>\n",
       "    <tr>\n",
       "      <th>...</th>\n",
       "      <td>...</td>\n",
       "      <td>...</td>\n",
       "      <td>...</td>\n",
       "      <td>...</td>\n",
       "      <td>...</td>\n",
       "      <td>...</td>\n",
       "      <td>...</td>\n",
       "      <td>...</td>\n",
       "      <td>...</td>\n",
       "      <td>...</td>\n",
       "      <td>...</td>\n",
       "      <td>...</td>\n",
       "    </tr>\n",
       "    <tr>\n",
       "      <th>21519</th>\n",
       "      <td>1</td>\n",
       "      <td>-2351.431934</td>\n",
       "      <td>37</td>\n",
       "      <td>graduate degree</td>\n",
       "      <td>4</td>\n",
       "      <td>divorced</td>\n",
       "      <td>3</td>\n",
       "      <td>M</td>\n",
       "      <td>employee</td>\n",
       "      <td>0</td>\n",
       "      <td>18551.846</td>\n",
       "      <td>buy commercial real estate</td>\n",
       "    </tr>\n",
       "    <tr>\n",
       "      <th>21520</th>\n",
       "      <td>1</td>\n",
       "      <td>-4529.316663</td>\n",
       "      <td>43</td>\n",
       "      <td>secondary education</td>\n",
       "      <td>1</td>\n",
       "      <td>civil partnership</td>\n",
       "      <td>1</td>\n",
       "      <td>F</td>\n",
       "      <td>business</td>\n",
       "      <td>0</td>\n",
       "      <td>35966.698</td>\n",
       "      <td>housing transactions</td>\n",
       "    </tr>\n",
       "    <tr>\n",
       "      <th>21522</th>\n",
       "      <td>1</td>\n",
       "      <td>-2113.346888</td>\n",
       "      <td>38</td>\n",
       "      <td>secondary education</td>\n",
       "      <td>1</td>\n",
       "      <td>civil partnership</td>\n",
       "      <td>1</td>\n",
       "      <td>M</td>\n",
       "      <td>employee</td>\n",
       "      <td>1</td>\n",
       "      <td>14347.610</td>\n",
       "      <td>property</td>\n",
       "    </tr>\n",
       "    <tr>\n",
       "      <th>21523</th>\n",
       "      <td>3</td>\n",
       "      <td>-3112.481705</td>\n",
       "      <td>38</td>\n",
       "      <td>secondary education</td>\n",
       "      <td>1</td>\n",
       "      <td>married</td>\n",
       "      <td>0</td>\n",
       "      <td>M</td>\n",
       "      <td>employee</td>\n",
       "      <td>1</td>\n",
       "      <td>39054.888</td>\n",
       "      <td>buying my own car</td>\n",
       "    </tr>\n",
       "    <tr>\n",
       "      <th>21524</th>\n",
       "      <td>2</td>\n",
       "      <td>-1984.507589</td>\n",
       "      <td>40</td>\n",
       "      <td>secondary education</td>\n",
       "      <td>1</td>\n",
       "      <td>married</td>\n",
       "      <td>0</td>\n",
       "      <td>F</td>\n",
       "      <td>employee</td>\n",
       "      <td>0</td>\n",
       "      <td>13127.587</td>\n",
       "      <td>to buy a car</td>\n",
       "    </tr>\n",
       "  </tbody>\n",
       "</table>\n",
       "<p>15906 rows × 12 columns</p>\n",
       "</div>"
      ],
      "text/plain": [
       "       children  days_employed  dob_years            education  education_id  \\\n",
       "0             1   -8437.673028         42    bachelor's degree             0   \n",
       "1             1   -4024.803754         36  secondary education             1   \n",
       "2             0   -5623.422610         33  secondary education             1   \n",
       "3             3   -4124.747207         32  secondary education             1   \n",
       "5             0    -926.185831         27    bachelor's degree             0   \n",
       "...         ...            ...        ...                  ...           ...   \n",
       "21519         1   -2351.431934         37      graduate degree             4   \n",
       "21520         1   -4529.316663         43  secondary education             1   \n",
       "21522         1   -2113.346888         38  secondary education             1   \n",
       "21523         3   -3112.481705         38  secondary education             1   \n",
       "21524         2   -1984.507589         40  secondary education             1   \n",
       "\n",
       "           family_status  family_status_id gender income_type  debt  \\\n",
       "0                married                 0      F    employee     0   \n",
       "1                married                 0      F    employee     0   \n",
       "2                married                 0      M    employee     0   \n",
       "3                married                 0      M    employee     0   \n",
       "5      civil partnership                 1      M    business     0   \n",
       "...                  ...               ...    ...         ...   ...   \n",
       "21519           divorced                 3      M    employee     0   \n",
       "21520  civil partnership                 1      F    business     0   \n",
       "21522  civil partnership                 1      M    employee     1   \n",
       "21523            married                 0      M    employee     1   \n",
       "21524            married                 0      F    employee     0   \n",
       "\n",
       "       total_income                     purpose  \n",
       "0         40620.102       purchase of the house  \n",
       "1         17932.802                car purchase  \n",
       "2         23341.752       purchase of the house  \n",
       "3         42820.568     supplementary education  \n",
       "5         40922.170       purchase of the house  \n",
       "...             ...                         ...  \n",
       "21519     18551.846  buy commercial real estate  \n",
       "21520     35966.698        housing transactions  \n",
       "21522     14347.610                    property  \n",
       "21523     39054.888           buying my own car  \n",
       "21524     13127.587                to buy a car  \n",
       "\n",
       "[15906 rows x 12 columns]"
      ]
     },
     "execution_count": 26,
     "metadata": {},
     "output_type": "execute_result"
    }
   ],
   "source": [
    "df[df['days_employed'] <0]"
   ]
  },
  {
   "cell_type": "markdown",
   "metadata": {},
   "source": [
    "Según la tabla filtrada encontramos 15.906 filas con los días ingresados con el signo negativo.\n",
    "Pasaremos a una segunda comprobación para cada columna."
   ]
  },
  {
   "cell_type": "code",
   "execution_count": 27,
   "metadata": {},
   "outputs": [
    {
     "data": {
      "text/plain": [
       "children            15906\n",
       "days_employed       15906\n",
       "dob_years           15906\n",
       "education           15906\n",
       "education_id        15906\n",
       "family_status       15906\n",
       "family_status_id    15906\n",
       "gender              15906\n",
       "income_type         15906\n",
       "debt                15906\n",
       "total_income        15906\n",
       "purpose             15906\n",
       "dtype: int64"
      ]
     },
     "execution_count": 27,
     "metadata": {},
     "output_type": "execute_result"
    }
   ],
   "source": [
    "df[df['days_employed'] <0].count()\n"
   ]
  },
  {
   "cell_type": "markdown",
   "metadata": {},
   "source": [
    "Dado que representa una gran cantidad de datos probemáticos, calcularemos cuanto es el porcentaje sobre nuestro conjunto de datos."
   ]
  },
  {
   "cell_type": "code",
   "execution_count": 28,
   "metadata": {},
   "outputs": [
    {
     "name": "stdout",
     "output_type": "stream",
     "text": [
      "Porcentaje de datos problemáticos: 82%\n"
     ]
    }
   ],
   "source": [
    "porcentaje= df[df['days_employed'] <0]['children'].count() / len(df['days_employed'].value_counts())\n",
    "print(f'Porcentaje de datos problemáticos: {porcentaje:.0%}')"
   ]
  },
  {
   "cell_type": "markdown",
   "metadata": {},
   "source": [
    "Encontramos que nuestros datos problemáticos representan un 82% sobre nuestra columna total, es un gran valor que seguramente se debió a un problema técnico y como error se adicionó el signo negativo antes del número. \n",
    "A continuación se procederá a cambiar los valores negativos en positivos con el método abs()."
   ]
  },
  {
   "cell_type": "code",
   "execution_count": 29,
   "metadata": {},
   "outputs": [
    {
     "data": {
      "text/html": [
       "<div>\n",
       "<style scoped>\n",
       "    .dataframe tbody tr th:only-of-type {\n",
       "        vertical-align: middle;\n",
       "    }\n",
       "\n",
       "    .dataframe tbody tr th {\n",
       "        vertical-align: top;\n",
       "    }\n",
       "\n",
       "    .dataframe thead th {\n",
       "        text-align: right;\n",
       "    }\n",
       "</style>\n",
       "<table border=\"1\" class=\"dataframe\">\n",
       "  <thead>\n",
       "    <tr style=\"text-align: right;\">\n",
       "      <th></th>\n",
       "      <th>children</th>\n",
       "      <th>days_employed</th>\n",
       "      <th>dob_years</th>\n",
       "      <th>education</th>\n",
       "      <th>education_id</th>\n",
       "      <th>family_status</th>\n",
       "      <th>family_status_id</th>\n",
       "      <th>gender</th>\n",
       "      <th>income_type</th>\n",
       "      <th>debt</th>\n",
       "      <th>total_income</th>\n",
       "      <th>purpose</th>\n",
       "    </tr>\n",
       "  </thead>\n",
       "  <tbody>\n",
       "    <tr>\n",
       "      <th>0</th>\n",
       "      <td>1</td>\n",
       "      <td>8437.673028</td>\n",
       "      <td>42</td>\n",
       "      <td>bachelor's degree</td>\n",
       "      <td>0</td>\n",
       "      <td>married</td>\n",
       "      <td>0</td>\n",
       "      <td>F</td>\n",
       "      <td>employee</td>\n",
       "      <td>0</td>\n",
       "      <td>40620.102</td>\n",
       "      <td>purchase of the house</td>\n",
       "    </tr>\n",
       "    <tr>\n",
       "      <th>1</th>\n",
       "      <td>1</td>\n",
       "      <td>4024.803754</td>\n",
       "      <td>36</td>\n",
       "      <td>secondary education</td>\n",
       "      <td>1</td>\n",
       "      <td>married</td>\n",
       "      <td>0</td>\n",
       "      <td>F</td>\n",
       "      <td>employee</td>\n",
       "      <td>0</td>\n",
       "      <td>17932.802</td>\n",
       "      <td>car purchase</td>\n",
       "    </tr>\n",
       "    <tr>\n",
       "      <th>2</th>\n",
       "      <td>0</td>\n",
       "      <td>5623.422610</td>\n",
       "      <td>33</td>\n",
       "      <td>secondary education</td>\n",
       "      <td>1</td>\n",
       "      <td>married</td>\n",
       "      <td>0</td>\n",
       "      <td>M</td>\n",
       "      <td>employee</td>\n",
       "      <td>0</td>\n",
       "      <td>23341.752</td>\n",
       "      <td>purchase of the house</td>\n",
       "    </tr>\n",
       "    <tr>\n",
       "      <th>3</th>\n",
       "      <td>3</td>\n",
       "      <td>4124.747207</td>\n",
       "      <td>32</td>\n",
       "      <td>secondary education</td>\n",
       "      <td>1</td>\n",
       "      <td>married</td>\n",
       "      <td>0</td>\n",
       "      <td>M</td>\n",
       "      <td>employee</td>\n",
       "      <td>0</td>\n",
       "      <td>42820.568</td>\n",
       "      <td>supplementary education</td>\n",
       "    </tr>\n",
       "    <tr>\n",
       "      <th>4</th>\n",
       "      <td>0</td>\n",
       "      <td>340266.072047</td>\n",
       "      <td>53</td>\n",
       "      <td>secondary education</td>\n",
       "      <td>1</td>\n",
       "      <td>civil partnership</td>\n",
       "      <td>1</td>\n",
       "      <td>F</td>\n",
       "      <td>retiree</td>\n",
       "      <td>0</td>\n",
       "      <td>25378.572</td>\n",
       "      <td>to have a wedding</td>\n",
       "    </tr>\n",
       "    <tr>\n",
       "      <th>5</th>\n",
       "      <td>0</td>\n",
       "      <td>926.185831</td>\n",
       "      <td>27</td>\n",
       "      <td>bachelor's degree</td>\n",
       "      <td>0</td>\n",
       "      <td>civil partnership</td>\n",
       "      <td>1</td>\n",
       "      <td>M</td>\n",
       "      <td>business</td>\n",
       "      <td>0</td>\n",
       "      <td>40922.170</td>\n",
       "      <td>purchase of the house</td>\n",
       "    </tr>\n",
       "    <tr>\n",
       "      <th>6</th>\n",
       "      <td>0</td>\n",
       "      <td>2879.202052</td>\n",
       "      <td>43</td>\n",
       "      <td>bachelor's degree</td>\n",
       "      <td>0</td>\n",
       "      <td>married</td>\n",
       "      <td>0</td>\n",
       "      <td>F</td>\n",
       "      <td>business</td>\n",
       "      <td>0</td>\n",
       "      <td>38484.156</td>\n",
       "      <td>housing transactions</td>\n",
       "    </tr>\n",
       "    <tr>\n",
       "      <th>7</th>\n",
       "      <td>0</td>\n",
       "      <td>152.779569</td>\n",
       "      <td>50</td>\n",
       "      <td>secondary education</td>\n",
       "      <td>1</td>\n",
       "      <td>married</td>\n",
       "      <td>0</td>\n",
       "      <td>M</td>\n",
       "      <td>employee</td>\n",
       "      <td>0</td>\n",
       "      <td>21731.829</td>\n",
       "      <td>education</td>\n",
       "    </tr>\n",
       "    <tr>\n",
       "      <th>8</th>\n",
       "      <td>2</td>\n",
       "      <td>6929.865299</td>\n",
       "      <td>35</td>\n",
       "      <td>bachelor's degree</td>\n",
       "      <td>0</td>\n",
       "      <td>civil partnership</td>\n",
       "      <td>1</td>\n",
       "      <td>F</td>\n",
       "      <td>employee</td>\n",
       "      <td>0</td>\n",
       "      <td>15337.093</td>\n",
       "      <td>having a wedding</td>\n",
       "    </tr>\n",
       "    <tr>\n",
       "      <th>9</th>\n",
       "      <td>0</td>\n",
       "      <td>2188.756445</td>\n",
       "      <td>41</td>\n",
       "      <td>secondary education</td>\n",
       "      <td>1</td>\n",
       "      <td>married</td>\n",
       "      <td>0</td>\n",
       "      <td>M</td>\n",
       "      <td>employee</td>\n",
       "      <td>0</td>\n",
       "      <td>23108.150</td>\n",
       "      <td>purchase of the house for my family</td>\n",
       "    </tr>\n",
       "    <tr>\n",
       "      <th>10</th>\n",
       "      <td>2</td>\n",
       "      <td>4171.483647</td>\n",
       "      <td>36</td>\n",
       "      <td>bachelor's degree</td>\n",
       "      <td>0</td>\n",
       "      <td>married</td>\n",
       "      <td>0</td>\n",
       "      <td>M</td>\n",
       "      <td>business</td>\n",
       "      <td>0</td>\n",
       "      <td>18230.959</td>\n",
       "      <td>buy real estate</td>\n",
       "    </tr>\n",
       "    <tr>\n",
       "      <th>11</th>\n",
       "      <td>0</td>\n",
       "      <td>792.701887</td>\n",
       "      <td>40</td>\n",
       "      <td>secondary education</td>\n",
       "      <td>1</td>\n",
       "      <td>married</td>\n",
       "      <td>0</td>\n",
       "      <td>F</td>\n",
       "      <td>employee</td>\n",
       "      <td>0</td>\n",
       "      <td>12331.077</td>\n",
       "      <td>buy commercial real estate</td>\n",
       "    </tr>\n",
       "    <tr>\n",
       "      <th>12</th>\n",
       "      <td>0</td>\n",
       "      <td>NaN</td>\n",
       "      <td>65</td>\n",
       "      <td>secondary education</td>\n",
       "      <td>1</td>\n",
       "      <td>civil partnership</td>\n",
       "      <td>1</td>\n",
       "      <td>M</td>\n",
       "      <td>retiree</td>\n",
       "      <td>0</td>\n",
       "      <td>NaN</td>\n",
       "      <td>to have a wedding</td>\n",
       "    </tr>\n",
       "    <tr>\n",
       "      <th>13</th>\n",
       "      <td>0</td>\n",
       "      <td>1846.641941</td>\n",
       "      <td>54</td>\n",
       "      <td>some college</td>\n",
       "      <td>2</td>\n",
       "      <td>married</td>\n",
       "      <td>0</td>\n",
       "      <td>F</td>\n",
       "      <td>employee</td>\n",
       "      <td>0</td>\n",
       "      <td>20873.317</td>\n",
       "      <td>car purchase</td>\n",
       "    </tr>\n",
       "    <tr>\n",
       "      <th>14</th>\n",
       "      <td>0</td>\n",
       "      <td>1844.956182</td>\n",
       "      <td>56</td>\n",
       "      <td>bachelor's degree</td>\n",
       "      <td>0</td>\n",
       "      <td>civil partnership</td>\n",
       "      <td>1</td>\n",
       "      <td>F</td>\n",
       "      <td>business</td>\n",
       "      <td>1</td>\n",
       "      <td>26420.466</td>\n",
       "      <td>buy residential real estate</td>\n",
       "    </tr>\n",
       "    <tr>\n",
       "      <th>15</th>\n",
       "      <td>1</td>\n",
       "      <td>972.364419</td>\n",
       "      <td>26</td>\n",
       "      <td>secondary education</td>\n",
       "      <td>1</td>\n",
       "      <td>married</td>\n",
       "      <td>0</td>\n",
       "      <td>F</td>\n",
       "      <td>employee</td>\n",
       "      <td>0</td>\n",
       "      <td>18691.345</td>\n",
       "      <td>construction of own property</td>\n",
       "    </tr>\n",
       "    <tr>\n",
       "      <th>16</th>\n",
       "      <td>0</td>\n",
       "      <td>1719.934226</td>\n",
       "      <td>35</td>\n",
       "      <td>secondary education</td>\n",
       "      <td>1</td>\n",
       "      <td>married</td>\n",
       "      <td>0</td>\n",
       "      <td>F</td>\n",
       "      <td>employee</td>\n",
       "      <td>0</td>\n",
       "      <td>46272.433</td>\n",
       "      <td>property</td>\n",
       "    </tr>\n",
       "    <tr>\n",
       "      <th>17</th>\n",
       "      <td>0</td>\n",
       "      <td>2369.999720</td>\n",
       "      <td>33</td>\n",
       "      <td>bachelor's degree</td>\n",
       "      <td>0</td>\n",
       "      <td>civil partnership</td>\n",
       "      <td>1</td>\n",
       "      <td>M</td>\n",
       "      <td>employee</td>\n",
       "      <td>0</td>\n",
       "      <td>14465.694</td>\n",
       "      <td>building a property</td>\n",
       "    </tr>\n",
       "    <tr>\n",
       "      <th>18</th>\n",
       "      <td>0</td>\n",
       "      <td>400281.136913</td>\n",
       "      <td>53</td>\n",
       "      <td>secondary education</td>\n",
       "      <td>1</td>\n",
       "      <td>widow / widower</td>\n",
       "      <td>2</td>\n",
       "      <td>F</td>\n",
       "      <td>retiree</td>\n",
       "      <td>0</td>\n",
       "      <td>9091.804</td>\n",
       "      <td>buying a second-hand car</td>\n",
       "    </tr>\n",
       "    <tr>\n",
       "      <th>19</th>\n",
       "      <td>0</td>\n",
       "      <td>10038.818549</td>\n",
       "      <td>48</td>\n",
       "      <td>secondary education</td>\n",
       "      <td>1</td>\n",
       "      <td>divorced</td>\n",
       "      <td>3</td>\n",
       "      <td>F</td>\n",
       "      <td>employee</td>\n",
       "      <td>0</td>\n",
       "      <td>38852.977</td>\n",
       "      <td>buying my own car</td>\n",
       "    </tr>\n",
       "  </tbody>\n",
       "</table>\n",
       "</div>"
      ],
      "text/plain": [
       "    children  days_employed  dob_years            education  education_id  \\\n",
       "0          1    8437.673028         42    bachelor's degree             0   \n",
       "1          1    4024.803754         36  secondary education             1   \n",
       "2          0    5623.422610         33  secondary education             1   \n",
       "3          3    4124.747207         32  secondary education             1   \n",
       "4          0  340266.072047         53  secondary education             1   \n",
       "5          0     926.185831         27    bachelor's degree             0   \n",
       "6          0    2879.202052         43    bachelor's degree             0   \n",
       "7          0     152.779569         50  secondary education             1   \n",
       "8          2    6929.865299         35    bachelor's degree             0   \n",
       "9          0    2188.756445         41  secondary education             1   \n",
       "10         2    4171.483647         36    bachelor's degree             0   \n",
       "11         0     792.701887         40  secondary education             1   \n",
       "12         0            NaN         65  secondary education             1   \n",
       "13         0    1846.641941         54         some college             2   \n",
       "14         0    1844.956182         56    bachelor's degree             0   \n",
       "15         1     972.364419         26  secondary education             1   \n",
       "16         0    1719.934226         35  secondary education             1   \n",
       "17         0    2369.999720         33    bachelor's degree             0   \n",
       "18         0  400281.136913         53  secondary education             1   \n",
       "19         0   10038.818549         48  secondary education             1   \n",
       "\n",
       "        family_status  family_status_id gender income_type  debt  \\\n",
       "0             married                 0      F    employee     0   \n",
       "1             married                 0      F    employee     0   \n",
       "2             married                 0      M    employee     0   \n",
       "3             married                 0      M    employee     0   \n",
       "4   civil partnership                 1      F     retiree     0   \n",
       "5   civil partnership                 1      M    business     0   \n",
       "6             married                 0      F    business     0   \n",
       "7             married                 0      M    employee     0   \n",
       "8   civil partnership                 1      F    employee     0   \n",
       "9             married                 0      M    employee     0   \n",
       "10            married                 0      M    business     0   \n",
       "11            married                 0      F    employee     0   \n",
       "12  civil partnership                 1      M     retiree     0   \n",
       "13            married                 0      F    employee     0   \n",
       "14  civil partnership                 1      F    business     1   \n",
       "15            married                 0      F    employee     0   \n",
       "16            married                 0      F    employee     0   \n",
       "17  civil partnership                 1      M    employee     0   \n",
       "18    widow / widower                 2      F     retiree     0   \n",
       "19           divorced                 3      F    employee     0   \n",
       "\n",
       "    total_income                              purpose  \n",
       "0      40620.102                purchase of the house  \n",
       "1      17932.802                         car purchase  \n",
       "2      23341.752                purchase of the house  \n",
       "3      42820.568              supplementary education  \n",
       "4      25378.572                    to have a wedding  \n",
       "5      40922.170                purchase of the house  \n",
       "6      38484.156                 housing transactions  \n",
       "7      21731.829                            education  \n",
       "8      15337.093                     having a wedding  \n",
       "9      23108.150  purchase of the house for my family  \n",
       "10     18230.959                      buy real estate  \n",
       "11     12331.077           buy commercial real estate  \n",
       "12           NaN                    to have a wedding  \n",
       "13     20873.317                         car purchase  \n",
       "14     26420.466          buy residential real estate  \n",
       "15     18691.345         construction of own property  \n",
       "16     46272.433                             property  \n",
       "17     14465.694                  building a property  \n",
       "18      9091.804             buying a second-hand car  \n",
       "19     38852.977                    buying my own car  "
      ]
     },
     "execution_count": 29,
     "metadata": {},
     "output_type": "execute_result"
    }
   ],
   "source": [
    "df['days_employed']=df['days_employed'].abs()\n",
    "df.head(20)\n"
   ]
  },
  {
   "cell_type": "markdown",
   "metadata": {},
   "source": [
    "*Dob_years*"
   ]
  },
  {
   "cell_type": "markdown",
   "metadata": {},
   "source": [
    "La siguiente columna a revisar es la edad. Procederemos a generar el valor de las edades únicas ordenado ascendente y también a revisar sus frecuencias en busca de datos sospechosos."
   ]
  },
  {
   "cell_type": "code",
   "execution_count": 30,
   "metadata": {
    "scrolled": true
   },
   "outputs": [
    {
     "name": "stdout",
     "output_type": "stream",
     "text": [
      "[ 0 19 20 21 22 23 24 25 26 27 28 29 30 31 32 33 34 35 36 37 38 39 40 41\n",
      " 42 43 44 45 46 47 48 49 50 51 52 53 54 55 56 57 58 59 60 61 62 63 64 65\n",
      " 66 67 68 69 70 71 72 73 74 75]\n"
     ]
    }
   ],
   "source": [
    "print(df.sort_values(by= 'dob_years',ascending= True)['dob_years'].unique())\n"
   ]
  },
  {
   "cell_type": "code",
   "execution_count": 31,
   "metadata": {},
   "outputs": [
    {
     "name": "stdout",
     "output_type": "stream",
     "text": [
      "35    617\n",
      "40    609\n",
      "41    607\n",
      "34    603\n",
      "38    598\n",
      "42    597\n",
      "33    581\n",
      "39    573\n",
      "31    560\n",
      "36    555\n",
      "44    547\n",
      "29    545\n",
      "30    540\n",
      "48    538\n",
      "37    537\n",
      "50    514\n",
      "43    513\n",
      "32    510\n",
      "49    508\n",
      "28    503\n",
      "45    497\n",
      "27    493\n",
      "56    487\n",
      "52    484\n",
      "47    480\n",
      "54    479\n",
      "46    475\n",
      "58    461\n",
      "57    460\n",
      "53    459\n",
      "51    448\n",
      "59    444\n",
      "55    443\n",
      "26    408\n",
      "60    377\n",
      "25    357\n",
      "61    355\n",
      "62    352\n",
      "63    269\n",
      "64    265\n",
      "24    264\n",
      "23    254\n",
      "65    194\n",
      "66    183\n",
      "22    183\n",
      "67    167\n",
      "21    111\n",
      "0     101\n",
      "68     99\n",
      "69     85\n",
      "70     65\n",
      "71     58\n",
      "20     51\n",
      "72     33\n",
      "19     14\n",
      "73      8\n",
      "74      6\n",
      "75      1\n",
      "Name: dob_years, dtype: int64\n"
     ]
    }
   ],
   "source": [
    "print(df['dob_years'].value_counts())\n"
   ]
  },
  {
   "cell_type": "markdown",
   "metadata": {},
   "source": [
    "En esta columna el dato problemático son los clientes cuyas edades están registradas como 0 y tenemos  101 clientes con este error.\n",
    "Se procederá a calcular el porcentaje de estos datos problematicos que representan sobre la columna total. \n",
    "Adicionalmente también se va a reemplazar los 101 registros ausentes por la media de la edades en esa columna, debido a que no se refleja una diferencia significativa y no hay datos atípicos."
   ]
  },
  {
   "cell_type": "code",
   "execution_count": 32,
   "metadata": {},
   "outputs": [
    {
     "name": "stdout",
     "output_type": "stream",
     "text": [
      "Porcentaje problemático en las edades:0%\n"
     ]
    }
   ],
   "source": [
    "error_value_3= df.loc[df.loc[:,'dob_years']== 0] ['dob_years'].count()\n",
    "porcentaje_years= (error_value_3 )/ len(df['dob_years'])\n",
    "print(f'Porcentaje problemático en las edades:{porcentaje_years:.0%}')"
   ]
  },
  {
   "cell_type": "code",
   "execution_count": 33,
   "metadata": {},
   "outputs": [],
   "source": [
    "dob_years_mean = int(df['dob_years'].mean())\n",
    "df['dob_years']= df['dob_years'].replace(0,dob_years_mean)"
   ]
  },
  {
   "cell_type": "markdown",
   "metadata": {},
   "source": [
    "Comprobaremos el resultado final y ver si se arregló."
   ]
  },
  {
   "cell_type": "code",
   "execution_count": 34,
   "metadata": {},
   "outputs": [
    {
     "data": {
      "text/plain": [
       "35    617\n",
       "43    614\n",
       "40    609\n",
       "41    607\n",
       "34    603\n",
       "38    598\n",
       "42    597\n",
       "33    581\n",
       "39    573\n",
       "31    560\n",
       "36    555\n",
       "44    547\n",
       "29    545\n",
       "30    540\n",
       "48    538\n",
       "37    537\n",
       "50    514\n",
       "32    510\n",
       "49    508\n",
       "28    503\n",
       "45    497\n",
       "27    493\n",
       "56    487\n",
       "52    484\n",
       "47    480\n",
       "54    479\n",
       "46    475\n",
       "58    461\n",
       "57    460\n",
       "53    459\n",
       "51    448\n",
       "59    444\n",
       "55    443\n",
       "26    408\n",
       "60    377\n",
       "25    357\n",
       "61    355\n",
       "62    352\n",
       "63    269\n",
       "64    265\n",
       "24    264\n",
       "23    254\n",
       "65    194\n",
       "22    183\n",
       "66    183\n",
       "67    167\n",
       "21    111\n",
       "68     99\n",
       "69     85\n",
       "70     65\n",
       "71     58\n",
       "20     51\n",
       "72     33\n",
       "19     14\n",
       "73      8\n",
       "74      6\n",
       "75      1\n",
       "Name: dob_years, dtype: int64"
      ]
     },
     "execution_count": 34,
     "metadata": {},
     "output_type": "execute_result"
    }
   ],
   "source": [
    "df['dob_years'].value_counts()"
   ]
  },
  {
   "cell_type": "markdown",
   "metadata": {},
   "source": [
    "<div class=\"alert alert-success\">\n",
    "<b>✔️ Comentario del revisor:</b>\n",
    "    \n",
    "Buen trabajo. En este caso, el número de datos es pequeño y asumir que se debe a un error de tipeo puede no tener impactos negativos importantes en el análisis futuro. No obstante, en futuros proyectos hay que evaluar diferentes hipótesis para el tratamiento de estos datos.\n",
    "</div>"
   ]
  },
  {
   "cell_type": "markdown",
   "metadata": {},
   "source": [
    "*Family_status*"
   ]
  },
  {
   "cell_type": "markdown",
   "metadata": {},
   "source": [
    "A hora revisaremos la columna family_status y vamos a identificar que tipo de valores encontramos y si hay datos que podrían ser problemáticos."
   ]
  },
  {
   "cell_type": "code",
   "execution_count": 35,
   "metadata": {},
   "outputs": [
    {
     "data": {
      "text/plain": [
       "married              12380\n",
       "civil partnership     4177\n",
       "unmarried             2813\n",
       "divorced              1195\n",
       "widow / widower        960\n",
       "Name: family_status, dtype: int64"
      ]
     },
     "execution_count": 35,
     "metadata": {},
     "output_type": "execute_result"
    }
   ],
   "source": [
    "\n",
    "df['family_status'].value_counts()\n"
   ]
  },
  {
   "cell_type": "markdown",
   "metadata": {},
   "source": [
    "Al revisar los valores en la columna, no se encuentran ningun tipo de error que puediera interferir en nuestro futuro análisis."
   ]
  },
  {
   "cell_type": "markdown",
   "metadata": {},
   "source": [
    "*Gender*"
   ]
  },
  {
   "cell_type": "markdown",
   "metadata": {},
   "source": [
    "Procedemos a analizar la siguiente columna: gender. \n",
    "Veremos los valores registrados a continuación."
   ]
  },
  {
   "cell_type": "code",
   "execution_count": 36,
   "metadata": {},
   "outputs": [
    {
     "data": {
      "text/plain": [
       "F      14236\n",
       "M       7288\n",
       "XNA        1\n",
       "Name: gender, dtype: int64"
      ]
     },
     "execution_count": 36,
     "metadata": {},
     "output_type": "execute_result"
    }
   ],
   "source": [
    "df['gender'].value_counts()"
   ]
  },
  {
   "cell_type": "markdown",
   "metadata": {},
   "source": [
    "Podemos observar que existe un género no identicado como: XNA con una frecuencia de un solo registro. Podemos deducir que posiblemente fue por un error humano. En este caso para resolver podemos pasar ese registro al género que tenemos más en común que en este caso es Femenino.\n"
   ]
  },
  {
   "cell_type": "code",
   "execution_count": 37,
   "metadata": {},
   "outputs": [],
   "source": [
    "df.loc[df['gender'] == 'XNA', 'gender'] = 'F'"
   ]
  },
  {
   "cell_type": "markdown",
   "metadata": {},
   "source": [
    "Comprobaremos el resultado final. "
   ]
  },
  {
   "cell_type": "code",
   "execution_count": 38,
   "metadata": {},
   "outputs": [
    {
     "data": {
      "text/plain": [
       "F    14237\n",
       "M     7288\n",
       "Name: gender, dtype: int64"
      ]
     },
     "execution_count": 38,
     "metadata": {},
     "output_type": "execute_result"
    }
   ],
   "source": [
    "df['gender'].value_counts()\n"
   ]
  },
  {
   "cell_type": "markdown",
   "metadata": {},
   "source": [
    "*Income_type*"
   ]
  },
  {
   "cell_type": "markdown",
   "metadata": {},
   "source": [
    "Para ir concluyendo esta etapa de corrección de los datos, la ultima columna es income_type. Procederemos a contar los valores que tenemos en cada registro y detectar si existe algun tipo de incongruencias."
   ]
  },
  {
   "cell_type": "code",
   "execution_count": 39,
   "metadata": {},
   "outputs": [
    {
     "data": {
      "text/plain": [
       "employee                       11119\n",
       "business                        5085\n",
       "retiree                         3856\n",
       "civil servant                   1459\n",
       "entrepreneur                       2\n",
       "unemployed                         2\n",
       "student                            1\n",
       "paternity / maternity leave        1\n",
       "Name: income_type, dtype: int64"
      ]
     },
     "execution_count": 39,
     "metadata": {},
     "output_type": "execute_result"
    }
   ],
   "source": [
    "df['income_type'].value_counts()"
   ]
  },
  {
   "cell_type": "markdown",
   "metadata": {},
   "source": [
    "Podemos observar que no existen valores problemáticos en la columna income_type. "
   ]
  },
  {
   "cell_type": "markdown",
   "metadata": {},
   "source": [
    "Pasamos a la siguiente etapa de detectar si existen datos duplicados en nuestro DataFrame.\n",
    "Para comprobarlo usaremos el metodo de duplicated() y sum(), si es que existen los eliminaremos y conservaremos la nueva indexación en el DataFrame. Finalmente validaremos de nuevo si hay duplicados y llamaremos al atributo de shape para tener el tamaño del conjunto de datos actualizado."
   ]
  },
  {
   "cell_type": "code",
   "execution_count": 40,
   "metadata": {},
   "outputs": [
    {
     "data": {
      "text/plain": [
       "71"
      ]
     },
     "execution_count": 40,
     "metadata": {},
     "output_type": "execute_result"
    }
   ],
   "source": [
    "\n",
    "df.duplicated().sum()\n"
   ]
  },
  {
   "cell_type": "code",
   "execution_count": 41,
   "metadata": {},
   "outputs": [],
   "source": [
    "\n",
    "df=df.drop_duplicates().reset_index(drop=True)"
   ]
  },
  {
   "cell_type": "code",
   "execution_count": 42,
   "metadata": {},
   "outputs": [
    {
     "name": "stdout",
     "output_type": "stream",
     "text": [
      "0\n"
     ]
    }
   ],
   "source": [
    "\n",
    "print(df.duplicated().sum())"
   ]
  },
  {
   "cell_type": "code",
   "execution_count": 43,
   "metadata": {},
   "outputs": [
    {
     "name": "stdout",
     "output_type": "stream",
     "text": [
      "(21454, 12)\n"
     ]
    }
   ],
   "source": [
    "\n",
    "print(df.shape)"
   ]
  },
  {
   "cell_type": "markdown",
   "metadata": {},
   "source": [
    "**Conclusiones**\n",
    "\n",
    "Para concluir con el capítulo de Transformación de datos se van a resumir los  hallazgos encontrados en cuanto a datos problemáticos, los métodos y decisiones que se escogieron para la corrección, el % de cambios en las columnas y el tamaño del conjunto de datos final.\n",
    "\n",
    "1.- En la columna education se detectó que tenían valores duplicados debido a que el mismo valor estaba escrito en diferentes formatos, se aplicó le método str.lower() y con eso se obtuvo valores únicos en minúsuculas. \n",
    "\n",
    "2.- En la columna children encontramos que había datos atípicos en el número de hijos,los cuales fueron reemplazados por la mediana. \n",
    "\n",
    "3.- En la columna days_employed se transformó los valores que estaban en negativos por números positivos enteros. \n",
    "\n",
    "4.- En la columna dob_years validamos que había 101 registros con la edad de 0, por lo que reemplazamos esos valores con la media de la columna de edades. \n",
    "\n",
    "5.- En la columna gender hubo un solo registro que no pertenecía ningún tipo de género, por lo que se reemplazó su valor de XNA por el género femenino el cual era el más común. \n",
    "\n",
    "En conclusión nuestros datos cambiaron un 1% en la columna children, la columna dob_years fue el que menos cambió por debajo del 1% y la columna dob_years fue la que resultó con un mayor porcentaje de un cambio del 82%. En esta útima columna  se debe tener mayor precausción al momento del análisis debido a que además de valores ausentes registrados sus datos estaban ingresados en la mayoría con un valor erróneo. \n",
    "Nuestro DataFrame actualizado después de la eliminacion de duplicados quedó con 21454 filas y 12 columnas."
   ]
  },
  {
   "cell_type": "markdown",
   "metadata": {},
   "source": [
    "<div class=\"alert alert-success\">\n",
    "<b>✔️ Comentario del revisor:</b>\n",
    "\n",
    "Buen trabajo con la primera parte de la inconsistencia de los datos.\n",
    "</div>"
   ]
  },
  {
   "cell_type": "markdown",
   "metadata": {},
   "source": [
    "# Trabajar con valores ausentes"
   ]
  },
  {
   "cell_type": "markdown",
   "metadata": {},
   "source": [
    "Cuando se tratan de trabajar con los valores ausentes existe el método agg el cual nos permite almacenar a través de un diccionario los nombres de las columnas, junto con los nombres de las funcines a aplicar a nuestro DataFrame. En este caso vamos a trabajar con los diccionarios de las columnas con valores ausentes: total_income y days_employed como claves y sus valores serán la mediana, media, mínimo y máximo, los cuales nos servirán para aplicar estos cálculos a las variables que consideremos oportunas de análisis en nuestro DataFrame. "
   ]
  },
  {
   "cell_type": "code",
   "execution_count": 44,
   "metadata": {},
   "outputs": [],
   "source": [
    "total_income_dic = {'total_income': ['mean','median', 'min','max']}\n",
    "days_employed_dic= {'days_employed': ['mean','median', 'min', 'max']}"
   ]
  },
  {
   "cell_type": "markdown",
   "metadata": {},
   "source": [
    "<div class=\"alert alert-success\">\n",
    "<b>✔️ Comentario del revisor:</b>\n",
    "\n",
    "Buen trabajo.\n",
    "</div>"
   ]
  },
  {
   "cell_type": "markdown",
   "metadata": {},
   "source": [
    "### Restaurar valores ausentes en `total_income`"
   ]
  },
  {
   "cell_type": "markdown",
   "metadata": {},
   "source": [
    "A continucación procederemos en este capítulo a rellenar los valores ausentes de la columna total_income. \n",
    "\n",
    "Dado que el nivel de ingresos de una persona puede variar dependiendo de su edad, se va a proceder a crear categorías por rango de edades de los clientes con una diferencia de 10 años en cada rango. La edad mínima es 19 y la máxima 75 por lo que el rango de clasificación comenzará desde los 19 años y para el limite superior se agruparan de 70 en adelante. \n",
    "\n",
    "Con esta metodología y a través de un función que nos permita establecer las categorías de edades procederemos a crear una nueva columna en el DataFrame que será el resultado de llamar la función a al columna de dob_years que tienen las edades de los clientes."
   ]
  },
  {
   "cell_type": "code",
   "execution_count": 45,
   "metadata": {},
   "outputs": [],
   "source": [
    "def categoria_edad(age):\n",
    "    if age < 0 or pd.isna(age):\n",
    "        return 'No aplica'\n",
    "    elif age >= 19 and age <= 29:\n",
    "        return '19-29'\n",
    "    elif age >= 30 and age <= 39:\n",
    "        return '30-39'\n",
    "    elif age >= 40 and age <= 49:\n",
    "        return '40-49'\n",
    "    elif age >= 50 and age <= 59:\n",
    "        return '50-59'\n",
    "    elif age >= 60 and age <= 69:\n",
    "        return '60-69'\n",
    "    else: \n",
    "        return '70 o más'"
   ]
  },
  {
   "cell_type": "markdown",
   "metadata": {},
   "source": [
    "<div class=\"alert alert-success\">\n",
    "<b>✔️ Comentario del revisor:</b>\n",
    "\n",
    "Tambien aqui puedes usar case's\n",
    "</div>"
   ]
  },
  {
   "cell_type": "markdown",
   "metadata": {},
   "source": [
    "Probamos la función con la segunda fila del DataFrame, para comprobar si la edad de ese cliente lo agrupa dentro de los rangos establecidos."
   ]
  },
  {
   "cell_type": "code",
   "execution_count": 46,
   "metadata": {},
   "outputs": [
    {
     "data": {
      "text/plain": [
       "'30-39'"
      ]
     },
     "execution_count": 46,
     "metadata": {},
     "output_type": "execute_result"
    }
   ],
   "source": [
    "categoria_edad(df.loc[1,'dob_years'])"
   ]
  },
  {
   "cell_type": "markdown",
   "metadata": {},
   "source": [
    "Crearemos una nueva columna basada en la función con el nombre categoria_de_edad."
   ]
  },
  {
   "cell_type": "code",
   "execution_count": 47,
   "metadata": {},
   "outputs": [],
   "source": [
    "df['categoria_de_edad'] = df['dob_years'].apply(categoria_edad)"
   ]
  },
  {
   "cell_type": "markdown",
   "metadata": {},
   "source": [
    "Comprobaremos como los valores en la nueva columna se han agrupado las edades según los rangos. "
   ]
  },
  {
   "cell_type": "code",
   "execution_count": 48,
   "metadata": {},
   "outputs": [
    {
     "data": {
      "text/plain": [
       "0        40-49\n",
       "1        30-39\n",
       "2        30-39\n",
       "3        30-39\n",
       "4        50-59\n",
       "         ...  \n",
       "21449    40-49\n",
       "21450    60-69\n",
       "21451    30-39\n",
       "21452    30-39\n",
       "21453    40-49\n",
       "Name: categoria_de_edad, Length: 21454, dtype: object"
      ]
     },
     "execution_count": 48,
     "metadata": {},
     "output_type": "execute_result"
    }
   ],
   "source": [
    "df['categoria_de_edad']"
   ]
  },
  {
   "cell_type": "markdown",
   "metadata": {},
   "source": [
    "Creareos una una tabla que solo tenga los datos sin ningún valor ausente y mostraremos los primeros 20 resultados. \n",
    "\n",
    "A partir de estos resultados se utilizarán para hacer combinaciones en tablas con otras variables que puedan depender del ingreso, evaluaremos cada factor y escogeremos finalmente la característica que mejor dependa de los ingresos. \n",
    "\n",
    "Aplicaremos las funciones del diccionario que nos ayudarán a comparar cual función usar para que en lo posible  no alteremos los resultados una vez rellenos los valores ausentes, es decir entre la mediana o la media. "
   ]
  },
  {
   "cell_type": "code",
   "execution_count": 55,
   "metadata": {},
   "outputs": [
    {
     "data": {
      "text/html": [
       "<div>\n",
       "<style scoped>\n",
       "    .dataframe tbody tr th:only-of-type {\n",
       "        vertical-align: middle;\n",
       "    }\n",
       "\n",
       "    .dataframe tbody tr th {\n",
       "        vertical-align: top;\n",
       "    }\n",
       "\n",
       "    .dataframe thead th {\n",
       "        text-align: right;\n",
       "    }\n",
       "</style>\n",
       "<table border=\"1\" class=\"dataframe\">\n",
       "  <thead>\n",
       "    <tr style=\"text-align: right;\">\n",
       "      <th></th>\n",
       "      <th>children</th>\n",
       "      <th>days_employed</th>\n",
       "      <th>dob_years</th>\n",
       "      <th>education</th>\n",
       "      <th>education_id</th>\n",
       "      <th>family_status</th>\n",
       "      <th>family_status_id</th>\n",
       "      <th>gender</th>\n",
       "      <th>income_type</th>\n",
       "      <th>debt</th>\n",
       "      <th>total_income</th>\n",
       "      <th>purpose</th>\n",
       "      <th>categoria_de_edad</th>\n",
       "    </tr>\n",
       "  </thead>\n",
       "  <tbody>\n",
       "    <tr>\n",
       "      <th>0</th>\n",
       "      <td>1</td>\n",
       "      <td>8437.673028</td>\n",
       "      <td>42</td>\n",
       "      <td>bachelor's degree</td>\n",
       "      <td>0</td>\n",
       "      <td>married</td>\n",
       "      <td>0</td>\n",
       "      <td>F</td>\n",
       "      <td>employee</td>\n",
       "      <td>0</td>\n",
       "      <td>40620.102</td>\n",
       "      <td>purchase of the house</td>\n",
       "      <td>40-49</td>\n",
       "    </tr>\n",
       "    <tr>\n",
       "      <th>1</th>\n",
       "      <td>1</td>\n",
       "      <td>4024.803754</td>\n",
       "      <td>36</td>\n",
       "      <td>secondary education</td>\n",
       "      <td>1</td>\n",
       "      <td>married</td>\n",
       "      <td>0</td>\n",
       "      <td>F</td>\n",
       "      <td>employee</td>\n",
       "      <td>0</td>\n",
       "      <td>17932.802</td>\n",
       "      <td>car purchase</td>\n",
       "      <td>30-39</td>\n",
       "    </tr>\n",
       "    <tr>\n",
       "      <th>2</th>\n",
       "      <td>0</td>\n",
       "      <td>5623.422610</td>\n",
       "      <td>33</td>\n",
       "      <td>secondary education</td>\n",
       "      <td>1</td>\n",
       "      <td>married</td>\n",
       "      <td>0</td>\n",
       "      <td>M</td>\n",
       "      <td>employee</td>\n",
       "      <td>0</td>\n",
       "      <td>23341.752</td>\n",
       "      <td>purchase of the house</td>\n",
       "      <td>30-39</td>\n",
       "    </tr>\n",
       "    <tr>\n",
       "      <th>3</th>\n",
       "      <td>3</td>\n",
       "      <td>4124.747207</td>\n",
       "      <td>32</td>\n",
       "      <td>secondary education</td>\n",
       "      <td>1</td>\n",
       "      <td>married</td>\n",
       "      <td>0</td>\n",
       "      <td>M</td>\n",
       "      <td>employee</td>\n",
       "      <td>0</td>\n",
       "      <td>42820.568</td>\n",
       "      <td>supplementary education</td>\n",
       "      <td>30-39</td>\n",
       "    </tr>\n",
       "    <tr>\n",
       "      <th>4</th>\n",
       "      <td>0</td>\n",
       "      <td>340266.072047</td>\n",
       "      <td>53</td>\n",
       "      <td>secondary education</td>\n",
       "      <td>1</td>\n",
       "      <td>civil partnership</td>\n",
       "      <td>1</td>\n",
       "      <td>F</td>\n",
       "      <td>retiree</td>\n",
       "      <td>0</td>\n",
       "      <td>25378.572</td>\n",
       "      <td>to have a wedding</td>\n",
       "      <td>50-59</td>\n",
       "    </tr>\n",
       "    <tr>\n",
       "      <th>5</th>\n",
       "      <td>0</td>\n",
       "      <td>926.185831</td>\n",
       "      <td>27</td>\n",
       "      <td>bachelor's degree</td>\n",
       "      <td>0</td>\n",
       "      <td>civil partnership</td>\n",
       "      <td>1</td>\n",
       "      <td>M</td>\n",
       "      <td>business</td>\n",
       "      <td>0</td>\n",
       "      <td>40922.170</td>\n",
       "      <td>purchase of the house</td>\n",
       "      <td>19-29</td>\n",
       "    </tr>\n",
       "    <tr>\n",
       "      <th>6</th>\n",
       "      <td>0</td>\n",
       "      <td>2879.202052</td>\n",
       "      <td>43</td>\n",
       "      <td>bachelor's degree</td>\n",
       "      <td>0</td>\n",
       "      <td>married</td>\n",
       "      <td>0</td>\n",
       "      <td>F</td>\n",
       "      <td>business</td>\n",
       "      <td>0</td>\n",
       "      <td>38484.156</td>\n",
       "      <td>housing transactions</td>\n",
       "      <td>40-49</td>\n",
       "    </tr>\n",
       "    <tr>\n",
       "      <th>7</th>\n",
       "      <td>0</td>\n",
       "      <td>152.779569</td>\n",
       "      <td>50</td>\n",
       "      <td>secondary education</td>\n",
       "      <td>1</td>\n",
       "      <td>married</td>\n",
       "      <td>0</td>\n",
       "      <td>M</td>\n",
       "      <td>employee</td>\n",
       "      <td>0</td>\n",
       "      <td>21731.829</td>\n",
       "      <td>education</td>\n",
       "      <td>50-59</td>\n",
       "    </tr>\n",
       "    <tr>\n",
       "      <th>8</th>\n",
       "      <td>2</td>\n",
       "      <td>6929.865299</td>\n",
       "      <td>35</td>\n",
       "      <td>bachelor's degree</td>\n",
       "      <td>0</td>\n",
       "      <td>civil partnership</td>\n",
       "      <td>1</td>\n",
       "      <td>F</td>\n",
       "      <td>employee</td>\n",
       "      <td>0</td>\n",
       "      <td>15337.093</td>\n",
       "      <td>having a wedding</td>\n",
       "      <td>30-39</td>\n",
       "    </tr>\n",
       "    <tr>\n",
       "      <th>9</th>\n",
       "      <td>0</td>\n",
       "      <td>2188.756445</td>\n",
       "      <td>41</td>\n",
       "      <td>secondary education</td>\n",
       "      <td>1</td>\n",
       "      <td>married</td>\n",
       "      <td>0</td>\n",
       "      <td>M</td>\n",
       "      <td>employee</td>\n",
       "      <td>0</td>\n",
       "      <td>23108.150</td>\n",
       "      <td>purchase of the house for my family</td>\n",
       "      <td>40-49</td>\n",
       "    </tr>\n",
       "    <tr>\n",
       "      <th>10</th>\n",
       "      <td>2</td>\n",
       "      <td>4171.483647</td>\n",
       "      <td>36</td>\n",
       "      <td>bachelor's degree</td>\n",
       "      <td>0</td>\n",
       "      <td>married</td>\n",
       "      <td>0</td>\n",
       "      <td>M</td>\n",
       "      <td>business</td>\n",
       "      <td>0</td>\n",
       "      <td>18230.959</td>\n",
       "      <td>buy real estate</td>\n",
       "      <td>30-39</td>\n",
       "    </tr>\n",
       "    <tr>\n",
       "      <th>11</th>\n",
       "      <td>0</td>\n",
       "      <td>792.701887</td>\n",
       "      <td>40</td>\n",
       "      <td>secondary education</td>\n",
       "      <td>1</td>\n",
       "      <td>married</td>\n",
       "      <td>0</td>\n",
       "      <td>F</td>\n",
       "      <td>employee</td>\n",
       "      <td>0</td>\n",
       "      <td>12331.077</td>\n",
       "      <td>buy commercial real estate</td>\n",
       "      <td>40-49</td>\n",
       "    </tr>\n",
       "    <tr>\n",
       "      <th>13</th>\n",
       "      <td>0</td>\n",
       "      <td>1846.641941</td>\n",
       "      <td>54</td>\n",
       "      <td>some college</td>\n",
       "      <td>2</td>\n",
       "      <td>married</td>\n",
       "      <td>0</td>\n",
       "      <td>F</td>\n",
       "      <td>employee</td>\n",
       "      <td>0</td>\n",
       "      <td>20873.317</td>\n",
       "      <td>car purchase</td>\n",
       "      <td>50-59</td>\n",
       "    </tr>\n",
       "    <tr>\n",
       "      <th>14</th>\n",
       "      <td>0</td>\n",
       "      <td>1844.956182</td>\n",
       "      <td>56</td>\n",
       "      <td>bachelor's degree</td>\n",
       "      <td>0</td>\n",
       "      <td>civil partnership</td>\n",
       "      <td>1</td>\n",
       "      <td>F</td>\n",
       "      <td>business</td>\n",
       "      <td>1</td>\n",
       "      <td>26420.466</td>\n",
       "      <td>buy residential real estate</td>\n",
       "      <td>50-59</td>\n",
       "    </tr>\n",
       "    <tr>\n",
       "      <th>15</th>\n",
       "      <td>1</td>\n",
       "      <td>972.364419</td>\n",
       "      <td>26</td>\n",
       "      <td>secondary education</td>\n",
       "      <td>1</td>\n",
       "      <td>married</td>\n",
       "      <td>0</td>\n",
       "      <td>F</td>\n",
       "      <td>employee</td>\n",
       "      <td>0</td>\n",
       "      <td>18691.345</td>\n",
       "      <td>construction of own property</td>\n",
       "      <td>19-29</td>\n",
       "    </tr>\n",
       "    <tr>\n",
       "      <th>16</th>\n",
       "      <td>0</td>\n",
       "      <td>1719.934226</td>\n",
       "      <td>35</td>\n",
       "      <td>secondary education</td>\n",
       "      <td>1</td>\n",
       "      <td>married</td>\n",
       "      <td>0</td>\n",
       "      <td>F</td>\n",
       "      <td>employee</td>\n",
       "      <td>0</td>\n",
       "      <td>46272.433</td>\n",
       "      <td>property</td>\n",
       "      <td>30-39</td>\n",
       "    </tr>\n",
       "    <tr>\n",
       "      <th>17</th>\n",
       "      <td>0</td>\n",
       "      <td>2369.999720</td>\n",
       "      <td>33</td>\n",
       "      <td>bachelor's degree</td>\n",
       "      <td>0</td>\n",
       "      <td>civil partnership</td>\n",
       "      <td>1</td>\n",
       "      <td>M</td>\n",
       "      <td>employee</td>\n",
       "      <td>0</td>\n",
       "      <td>14465.694</td>\n",
       "      <td>building a property</td>\n",
       "      <td>30-39</td>\n",
       "    </tr>\n",
       "    <tr>\n",
       "      <th>18</th>\n",
       "      <td>0</td>\n",
       "      <td>400281.136913</td>\n",
       "      <td>53</td>\n",
       "      <td>secondary education</td>\n",
       "      <td>1</td>\n",
       "      <td>widow / widower</td>\n",
       "      <td>2</td>\n",
       "      <td>F</td>\n",
       "      <td>retiree</td>\n",
       "      <td>0</td>\n",
       "      <td>9091.804</td>\n",
       "      <td>buying a second-hand car</td>\n",
       "      <td>50-59</td>\n",
       "    </tr>\n",
       "    <tr>\n",
       "      <th>19</th>\n",
       "      <td>0</td>\n",
       "      <td>10038.818549</td>\n",
       "      <td>48</td>\n",
       "      <td>secondary education</td>\n",
       "      <td>1</td>\n",
       "      <td>divorced</td>\n",
       "      <td>3</td>\n",
       "      <td>F</td>\n",
       "      <td>employee</td>\n",
       "      <td>0</td>\n",
       "      <td>38852.977</td>\n",
       "      <td>buying my own car</td>\n",
       "      <td>40-49</td>\n",
       "    </tr>\n",
       "    <tr>\n",
       "      <th>20</th>\n",
       "      <td>1</td>\n",
       "      <td>1311.604166</td>\n",
       "      <td>36</td>\n",
       "      <td>secondary education</td>\n",
       "      <td>1</td>\n",
       "      <td>married</td>\n",
       "      <td>0</td>\n",
       "      <td>M</td>\n",
       "      <td>employee</td>\n",
       "      <td>0</td>\n",
       "      <td>33528.423</td>\n",
       "      <td>property</td>\n",
       "      <td>30-39</td>\n",
       "    </tr>\n",
       "  </tbody>\n",
       "</table>\n",
       "</div>"
      ],
      "text/plain": [
       "    children  days_employed  dob_years            education  education_id  \\\n",
       "0          1    8437.673028         42    bachelor's degree             0   \n",
       "1          1    4024.803754         36  secondary education             1   \n",
       "2          0    5623.422610         33  secondary education             1   \n",
       "3          3    4124.747207         32  secondary education             1   \n",
       "4          0  340266.072047         53  secondary education             1   \n",
       "5          0     926.185831         27    bachelor's degree             0   \n",
       "6          0    2879.202052         43    bachelor's degree             0   \n",
       "7          0     152.779569         50  secondary education             1   \n",
       "8          2    6929.865299         35    bachelor's degree             0   \n",
       "9          0    2188.756445         41  secondary education             1   \n",
       "10         2    4171.483647         36    bachelor's degree             0   \n",
       "11         0     792.701887         40  secondary education             1   \n",
       "13         0    1846.641941         54         some college             2   \n",
       "14         0    1844.956182         56    bachelor's degree             0   \n",
       "15         1     972.364419         26  secondary education             1   \n",
       "16         0    1719.934226         35  secondary education             1   \n",
       "17         0    2369.999720         33    bachelor's degree             0   \n",
       "18         0  400281.136913         53  secondary education             1   \n",
       "19         0   10038.818549         48  secondary education             1   \n",
       "20         1    1311.604166         36  secondary education             1   \n",
       "\n",
       "        family_status  family_status_id gender income_type  debt  \\\n",
       "0             married                 0      F    employee     0   \n",
       "1             married                 0      F    employee     0   \n",
       "2             married                 0      M    employee     0   \n",
       "3             married                 0      M    employee     0   \n",
       "4   civil partnership                 1      F     retiree     0   \n",
       "5   civil partnership                 1      M    business     0   \n",
       "6             married                 0      F    business     0   \n",
       "7             married                 0      M    employee     0   \n",
       "8   civil partnership                 1      F    employee     0   \n",
       "9             married                 0      M    employee     0   \n",
       "10            married                 0      M    business     0   \n",
       "11            married                 0      F    employee     0   \n",
       "13            married                 0      F    employee     0   \n",
       "14  civil partnership                 1      F    business     1   \n",
       "15            married                 0      F    employee     0   \n",
       "16            married                 0      F    employee     0   \n",
       "17  civil partnership                 1      M    employee     0   \n",
       "18    widow / widower                 2      F     retiree     0   \n",
       "19           divorced                 3      F    employee     0   \n",
       "20            married                 0      M    employee     0   \n",
       "\n",
       "    total_income                              purpose categoria_de_edad  \n",
       "0      40620.102                purchase of the house             40-49  \n",
       "1      17932.802                         car purchase             30-39  \n",
       "2      23341.752                purchase of the house             30-39  \n",
       "3      42820.568              supplementary education             30-39  \n",
       "4      25378.572                    to have a wedding             50-59  \n",
       "5      40922.170                purchase of the house             19-29  \n",
       "6      38484.156                 housing transactions             40-49  \n",
       "7      21731.829                            education             50-59  \n",
       "8      15337.093                     having a wedding             30-39  \n",
       "9      23108.150  purchase of the house for my family             40-49  \n",
       "10     18230.959                      buy real estate             30-39  \n",
       "11     12331.077           buy commercial real estate             40-49  \n",
       "13     20873.317                         car purchase             50-59  \n",
       "14     26420.466          buy residential real estate             50-59  \n",
       "15     18691.345         construction of own property             19-29  \n",
       "16     46272.433                             property             30-39  \n",
       "17     14465.694                  building a property             30-39  \n",
       "18      9091.804             buying a second-hand car             50-59  \n",
       "19     38852.977                    buying my own car             40-49  \n",
       "20     33528.423                             property             30-39  "
      ]
     },
     "execution_count": 55,
     "metadata": {},
     "output_type": "execute_result"
    }
   ],
   "source": [
    "\n",
    "df_no_va= df.dropna()\n",
    "df_no_va.head(20)"
   ]
  },
  {
   "cell_type": "markdown",
   "metadata": {},
   "source": [
    "<div class=\"alert alert-warning\">\n",
    "<b>⚠️ Comentario del revisor:</b> Aqui todo esta bien pero te aconsejo para usar las columnas que necesitamos para el analisis"
   ]
  },
  {
   "cell_type": "code",
   "execution_count": 56,
   "metadata": {},
   "outputs": [
    {
     "data": {
      "text/html": [
       "<div>\n",
       "<style scoped>\n",
       "    .dataframe tbody tr th:only-of-type {\n",
       "        vertical-align: middle;\n",
       "    }\n",
       "\n",
       "    .dataframe tbody tr th {\n",
       "        vertical-align: top;\n",
       "    }\n",
       "\n",
       "    .dataframe thead tr th {\n",
       "        text-align: left;\n",
       "    }\n",
       "\n",
       "    .dataframe thead tr:last-of-type th {\n",
       "        text-align: right;\n",
       "    }\n",
       "</style>\n",
       "<table border=\"1\" class=\"dataframe\">\n",
       "  <thead>\n",
       "    <tr>\n",
       "      <th></th>\n",
       "      <th colspan=\"4\" halign=\"left\">total_income</th>\n",
       "    </tr>\n",
       "    <tr>\n",
       "      <th></th>\n",
       "      <th>mean</th>\n",
       "      <th>median</th>\n",
       "      <th>min</th>\n",
       "      <th>max</th>\n",
       "    </tr>\n",
       "    <tr>\n",
       "      <th>gender</th>\n",
       "      <th></th>\n",
       "      <th></th>\n",
       "      <th></th>\n",
       "      <th></th>\n",
       "    </tr>\n",
       "  </thead>\n",
       "  <tbody>\n",
       "    <tr>\n",
       "      <th>F</th>\n",
       "      <td>24656.229647</td>\n",
       "      <td>21465.165</td>\n",
       "      <td>3306.762</td>\n",
       "      <td>274402.943</td>\n",
       "    </tr>\n",
       "    <tr>\n",
       "      <th>M</th>\n",
       "      <td>30907.144369</td>\n",
       "      <td>26834.295</td>\n",
       "      <td>3392.845</td>\n",
       "      <td>362496.645</td>\n",
       "    </tr>\n",
       "  </tbody>\n",
       "</table>\n",
       "</div>"
      ],
      "text/plain": [
       "        total_income                                 \n",
       "                mean     median       min         max\n",
       "gender                                               \n",
       "F       24656.229647  21465.165  3306.762  274402.943\n",
       "M       30907.144369  26834.295  3392.845  362496.645"
      ]
     },
     "execution_count": 56,
     "metadata": {},
     "output_type": "execute_result"
    }
   ],
   "source": [
    "ingreso_por_genero= df_no_va.groupby('gender').agg(total_income_dic)\n",
    "ingreso_por_genero"
   ]
  },
  {
   "cell_type": "markdown",
   "metadata": {},
   "source": [
    "En esta tabla podemos evaluar que existe una brecha salarial por género. \n",
    "\n",
    "Los clientes que sean masculinos van a predominar en alcanzar un mayor nivel de ingreso. \n",
    "\n",
    "Sin embargo también puede estar en función del nivel de educación, el tipo de ingreso, y tambien la categoría de edad, por lo que si reemplazamos los datos faltantes por esta variable podría alterar los resultados. "
   ]
  },
  {
   "cell_type": "code",
   "execution_count": 59,
   "metadata": {},
   "outputs": [
    {
     "data": {
      "text/html": [
       "<div>\n",
       "<style scoped>\n",
       "    .dataframe tbody tr th:only-of-type {\n",
       "        vertical-align: middle;\n",
       "    }\n",
       "\n",
       "    .dataframe tbody tr th {\n",
       "        vertical-align: top;\n",
       "    }\n",
       "\n",
       "    .dataframe thead tr th {\n",
       "        text-align: left;\n",
       "    }\n",
       "\n",
       "    .dataframe thead tr:last-of-type th {\n",
       "        text-align: right;\n",
       "    }\n",
       "</style>\n",
       "<table border=\"1\" class=\"dataframe\">\n",
       "  <thead>\n",
       "    <tr>\n",
       "      <th></th>\n",
       "      <th colspan=\"4\" halign=\"left\">total_income</th>\n",
       "    </tr>\n",
       "    <tr>\n",
       "      <th></th>\n",
       "      <th>mean</th>\n",
       "      <th>median</th>\n",
       "      <th>min</th>\n",
       "      <th>max</th>\n",
       "    </tr>\n",
       "    <tr>\n",
       "      <th>family_status</th>\n",
       "      <th></th>\n",
       "      <th></th>\n",
       "      <th></th>\n",
       "      <th></th>\n",
       "    </tr>\n",
       "  </thead>\n",
       "  <tbody>\n",
       "    <tr>\n",
       "      <th>civil partnership</th>\n",
       "      <td>26694.428597</td>\n",
       "      <td>23186.534</td>\n",
       "      <td>3392.845</td>\n",
       "      <td>276204.162</td>\n",
       "    </tr>\n",
       "    <tr>\n",
       "      <th>divorced</th>\n",
       "      <td>27189.354550</td>\n",
       "      <td>23515.096</td>\n",
       "      <td>5402.850</td>\n",
       "      <td>216039.297</td>\n",
       "    </tr>\n",
       "    <tr>\n",
       "      <th>married</th>\n",
       "      <td>27041.784689</td>\n",
       "      <td>23389.540</td>\n",
       "      <td>3306.762</td>\n",
       "      <td>362496.645</td>\n",
       "    </tr>\n",
       "    <tr>\n",
       "      <th>unmarried</th>\n",
       "      <td>26934.069805</td>\n",
       "      <td>23149.028</td>\n",
       "      <td>3913.227</td>\n",
       "      <td>274402.943</td>\n",
       "    </tr>\n",
       "    <tr>\n",
       "      <th>widow / widower</th>\n",
       "      <td>22984.208556</td>\n",
       "      <td>20514.190</td>\n",
       "      <td>5443.908</td>\n",
       "      <td>117616.523</td>\n",
       "    </tr>\n",
       "  </tbody>\n",
       "</table>\n",
       "</div>"
      ],
      "text/plain": [
       "                   total_income                                 \n",
       "                           mean     median       min         max\n",
       "family_status                                                   \n",
       "civil partnership  26694.428597  23186.534  3392.845  276204.162\n",
       "divorced           27189.354550  23515.096  5402.850  216039.297\n",
       "married            27041.784689  23389.540  3306.762  362496.645\n",
       "unmarried          26934.069805  23149.028  3913.227  274402.943\n",
       "widow / widower    22984.208556  20514.190  5443.908  117616.523"
      ]
     },
     "execution_count": 59,
     "metadata": {},
     "output_type": "execute_result"
    }
   ],
   "source": [
    "ingreso_por_family= df_no_va.groupby('family_status').agg(total_income_dic)\n",
    "ingreso_por_family"
   ]
  },
  {
   "cell_type": "markdown",
   "metadata": {},
   "source": [
    "<div class=\"alert alert-success\">\n",
    "<b>✔️ Comentario del revisor:</b> Muy bien que muestras esos valores"
   ]
  },
  {
   "cell_type": "markdown",
   "metadata": {},
   "source": [
    "Encontramos valores similares en la mediana para las primeras 4 categorías.\n",
    "La situación familiar va a depender también de las edades de los clientes, se puede interpretar que en la categoría de widow habrá mas clientes de 55 años en adelante. \n",
    "Estos resultados también pueden ser variantes dependiendo de su tipo de ingreso.\n"
   ]
  },
  {
   "cell_type": "code",
   "execution_count": 60,
   "metadata": {},
   "outputs": [
    {
     "data": {
      "text/html": [
       "<div>\n",
       "<style scoped>\n",
       "    .dataframe tbody tr th:only-of-type {\n",
       "        vertical-align: middle;\n",
       "    }\n",
       "\n",
       "    .dataframe tbody tr th {\n",
       "        vertical-align: top;\n",
       "    }\n",
       "\n",
       "    .dataframe thead tr th {\n",
       "        text-align: left;\n",
       "    }\n",
       "\n",
       "    .dataframe thead tr:last-of-type th {\n",
       "        text-align: right;\n",
       "    }\n",
       "</style>\n",
       "<table border=\"1\" class=\"dataframe\">\n",
       "  <thead>\n",
       "    <tr>\n",
       "      <th></th>\n",
       "      <th colspan=\"4\" halign=\"left\">total_income</th>\n",
       "    </tr>\n",
       "    <tr>\n",
       "      <th></th>\n",
       "      <th>mean</th>\n",
       "      <th>median</th>\n",
       "      <th>min</th>\n",
       "      <th>max</th>\n",
       "    </tr>\n",
       "    <tr>\n",
       "      <th>income_type</th>\n",
       "      <th></th>\n",
       "      <th></th>\n",
       "      <th></th>\n",
       "      <th></th>\n",
       "    </tr>\n",
       "  </thead>\n",
       "  <tbody>\n",
       "    <tr>\n",
       "      <th>business</th>\n",
       "      <td>32386.793835</td>\n",
       "      <td>27577.2720</td>\n",
       "      <td>4592.450</td>\n",
       "      <td>362496.645</td>\n",
       "    </tr>\n",
       "    <tr>\n",
       "      <th>civil servant</th>\n",
       "      <td>27343.729582</td>\n",
       "      <td>24071.6695</td>\n",
       "      <td>4672.012</td>\n",
       "      <td>145672.235</td>\n",
       "    </tr>\n",
       "    <tr>\n",
       "      <th>employee</th>\n",
       "      <td>25820.841683</td>\n",
       "      <td>22815.1035</td>\n",
       "      <td>3418.824</td>\n",
       "      <td>276204.162</td>\n",
       "    </tr>\n",
       "    <tr>\n",
       "      <th>entrepreneur</th>\n",
       "      <td>79866.103000</td>\n",
       "      <td>79866.1030</td>\n",
       "      <td>79866.103</td>\n",
       "      <td>79866.103</td>\n",
       "    </tr>\n",
       "    <tr>\n",
       "      <th>paternity / maternity leave</th>\n",
       "      <td>8612.661000</td>\n",
       "      <td>8612.6610</td>\n",
       "      <td>8612.661</td>\n",
       "      <td>8612.661</td>\n",
       "    </tr>\n",
       "    <tr>\n",
       "      <th>retiree</th>\n",
       "      <td>21940.394503</td>\n",
       "      <td>18962.3180</td>\n",
       "      <td>3306.762</td>\n",
       "      <td>117616.523</td>\n",
       "    </tr>\n",
       "    <tr>\n",
       "      <th>student</th>\n",
       "      <td>15712.260000</td>\n",
       "      <td>15712.2600</td>\n",
       "      <td>15712.260</td>\n",
       "      <td>15712.260</td>\n",
       "    </tr>\n",
       "    <tr>\n",
       "      <th>unemployed</th>\n",
       "      <td>21014.360500</td>\n",
       "      <td>21014.3605</td>\n",
       "      <td>9593.119</td>\n",
       "      <td>32435.602</td>\n",
       "    </tr>\n",
       "  </tbody>\n",
       "</table>\n",
       "</div>"
      ],
      "text/plain": [
       "                             total_income                                   \n",
       "                                     mean      median        min         max\n",
       "income_type                                                                 \n",
       "business                     32386.793835  27577.2720   4592.450  362496.645\n",
       "civil servant                27343.729582  24071.6695   4672.012  145672.235\n",
       "employee                     25820.841683  22815.1035   3418.824  276204.162\n",
       "entrepreneur                 79866.103000  79866.1030  79866.103   79866.103\n",
       "paternity / maternity leave   8612.661000   8612.6610   8612.661    8612.661\n",
       "retiree                      21940.394503  18962.3180   3306.762  117616.523\n",
       "student                      15712.260000  15712.2600  15712.260   15712.260\n",
       "unemployed                   21014.360500  21014.3605   9593.119   32435.602"
      ]
     },
     "execution_count": 60,
     "metadata": {},
     "output_type": "execute_result"
    }
   ],
   "source": [
    "ingreso_por_income_type= df_no_va.groupby('income_type').agg(total_income_dic)\n",
    "ingreso_por_income_type"
   ]
  },
  {
   "cell_type": "markdown",
   "metadata": {},
   "source": [
    "Las 2 categorías con los registros mas bajo en promedio son paternity/leave y estudiantes que en conxtexto si hace sentido porque por alguna incapacidad y el hecho se ser aún estudiantes sus ingresos sean menores. \n",
    "\n",
    "Para la categoría entrepreneur anteriormente encontramos únicamente 2 registros de clientes, donde 1 cliente si tenía ingresos y el otro cliente no. \n",
    "\n",
    "En la tabla esta incluyendo el ingreso de ese cliente, sin embargo dado a la naturaleza de ser emprendedor puede ser muy variante su ingreso y diferente a otro emprendedor por lo que no se podría reemplazar en función de los ingresos del otro cliente para esa categoría."
   ]
  },
  {
   "cell_type": "markdown",
   "metadata": {},
   "source": [
    "A continuación examinaremos para la última categoría: en función de las edades"
   ]
  },
  {
   "cell_type": "code",
   "execution_count": 64,
   "metadata": {},
   "outputs": [
    {
     "data": {
      "text/html": [
       "<div>\n",
       "<style scoped>\n",
       "    .dataframe tbody tr th:only-of-type {\n",
       "        vertical-align: middle;\n",
       "    }\n",
       "\n",
       "    .dataframe tbody tr th {\n",
       "        vertical-align: top;\n",
       "    }\n",
       "\n",
       "    .dataframe thead tr th {\n",
       "        text-align: left;\n",
       "    }\n",
       "\n",
       "    .dataframe thead tr:last-of-type th {\n",
       "        text-align: right;\n",
       "    }\n",
       "</style>\n",
       "<table border=\"1\" class=\"dataframe\">\n",
       "  <thead>\n",
       "    <tr>\n",
       "      <th></th>\n",
       "      <th colspan=\"4\" halign=\"left\">total_income</th>\n",
       "    </tr>\n",
       "    <tr>\n",
       "      <th></th>\n",
       "      <th>mean</th>\n",
       "      <th>median</th>\n",
       "      <th>min</th>\n",
       "      <th>max</th>\n",
       "    </tr>\n",
       "    <tr>\n",
       "      <th>categoria_de_edad</th>\n",
       "      <th></th>\n",
       "      <th></th>\n",
       "      <th></th>\n",
       "      <th></th>\n",
       "    </tr>\n",
       "  </thead>\n",
       "  <tbody>\n",
       "    <tr>\n",
       "      <th>19-29</th>\n",
       "      <td>25533.960641</td>\n",
       "      <td>22742.6535</td>\n",
       "      <td>4494.861</td>\n",
       "      <td>131588.163</td>\n",
       "    </tr>\n",
       "    <tr>\n",
       "      <th>30-39</th>\n",
       "      <td>28312.479963</td>\n",
       "      <td>24667.5280</td>\n",
       "      <td>3392.845</td>\n",
       "      <td>352136.354</td>\n",
       "    </tr>\n",
       "    <tr>\n",
       "      <th>40-49</th>\n",
       "      <td>28491.929026</td>\n",
       "      <td>24755.6960</td>\n",
       "      <td>4036.463</td>\n",
       "      <td>362496.645</td>\n",
       "    </tr>\n",
       "    <tr>\n",
       "      <th>50-59</th>\n",
       "      <td>25811.700327</td>\n",
       "      <td>22203.0745</td>\n",
       "      <td>3306.762</td>\n",
       "      <td>195686.797</td>\n",
       "    </tr>\n",
       "    <tr>\n",
       "      <th>60-69</th>\n",
       "      <td>23242.812818</td>\n",
       "      <td>19817.4400</td>\n",
       "      <td>3471.216</td>\n",
       "      <td>274402.943</td>\n",
       "    </tr>\n",
       "    <tr>\n",
       "      <th>70 o más</th>\n",
       "      <td>20125.658331</td>\n",
       "      <td>18751.3240</td>\n",
       "      <td>3595.641</td>\n",
       "      <td>57508.032</td>\n",
       "    </tr>\n",
       "  </tbody>\n",
       "</table>\n",
       "</div>"
      ],
      "text/plain": [
       "                   total_income                                  \n",
       "                           mean      median       min         max\n",
       "categoria_de_edad                                                \n",
       "19-29              25533.960641  22742.6535  4494.861  131588.163\n",
       "30-39              28312.479963  24667.5280  3392.845  352136.354\n",
       "40-49              28491.929026  24755.6960  4036.463  362496.645\n",
       "50-59              25811.700327  22203.0745  3306.762  195686.797\n",
       "60-69              23242.812818  19817.4400  3471.216  274402.943\n",
       "70 o más           20125.658331  18751.3240  3595.641   57508.032"
      ]
     },
     "execution_count": 64,
     "metadata": {},
     "output_type": "execute_result"
    }
   ],
   "source": [
    "ingreso_por_edad= df_no_va.groupby('categoria_de_edad').agg(total_income_dic)\n",
    "ingreso_por_edad"
   ]
  },
  {
   "cell_type": "markdown",
   "metadata": {},
   "source": [
    "En la tabla anterior podemos interpretar: \n",
    "\n",
    "Existen grandes brechas salariares entre el mínimo y el máximo por cada categoría.\n",
    "El grupo que recibe mayores ingreso en promedio son de 40 a 49 años. \n",
    "\n",
    "La mediana del ingreso aumenta a medida que la edad va incrementando hasta el tope de 49 años, lo podríamos interpretar ya que son el grupo que aún no podrían estar jubilados. \n",
    "\n",
    "Para reemplazar los valores ausentes, podemos ver que la edad es la variable que más se puede ajustar a la realidad de los clientes por lo que emplearemos la mediana por cada categoria de edad dado que es un mejor indicador cuando se tiene datos atípicos en el salario. \n"
   ]
  },
  {
   "cell_type": "code",
   "execution_count": 68,
   "metadata": {},
   "outputs": [
    {
     "data": {
      "text/html": [
       "<div>\n",
       "<style scoped>\n",
       "    .dataframe tbody tr th:only-of-type {\n",
       "        vertical-align: middle;\n",
       "    }\n",
       "\n",
       "    .dataframe tbody tr th {\n",
       "        vertical-align: top;\n",
       "    }\n",
       "\n",
       "    .dataframe thead th {\n",
       "        text-align: right;\n",
       "    }\n",
       "</style>\n",
       "<table border=\"1\" class=\"dataframe\">\n",
       "  <thead>\n",
       "    <tr style=\"text-align: right;\">\n",
       "      <th></th>\n",
       "      <th>total_income</th>\n",
       "    </tr>\n",
       "    <tr>\n",
       "      <th>categoria_de_edad</th>\n",
       "      <th></th>\n",
       "    </tr>\n",
       "  </thead>\n",
       "  <tbody>\n",
       "    <tr>\n",
       "      <th>19-29</th>\n",
       "      <td>22742.6535</td>\n",
       "    </tr>\n",
       "    <tr>\n",
       "      <th>30-39</th>\n",
       "      <td>24667.5280</td>\n",
       "    </tr>\n",
       "    <tr>\n",
       "      <th>40-49</th>\n",
       "      <td>24755.6960</td>\n",
       "    </tr>\n",
       "    <tr>\n",
       "      <th>50-59</th>\n",
       "      <td>22203.0745</td>\n",
       "    </tr>\n",
       "    <tr>\n",
       "      <th>60-69</th>\n",
       "      <td>19817.4400</td>\n",
       "    </tr>\n",
       "    <tr>\n",
       "      <th>70 o más</th>\n",
       "      <td>18751.3240</td>\n",
       "    </tr>\n",
       "  </tbody>\n",
       "</table>\n",
       "</div>"
      ],
      "text/plain": [
       "                   total_income\n",
       "categoria_de_edad              \n",
       "19-29                22742.6535\n",
       "30-39                24667.5280\n",
       "40-49                24755.6960\n",
       "50-59                22203.0745\n",
       "60-69                19817.4400\n",
       "70 o más             18751.3240"
      ]
     },
     "execution_count": 68,
     "metadata": {},
     "output_type": "execute_result"
    }
   ],
   "source": [
    "df_test= df_no_va.pivot_table(index= 'categoria_de_edad', values= 'total_income',aggfunc= 'median')\n",
    "df_test"
   ]
  },
  {
   "cell_type": "code",
   "execution_count": 69,
   "metadata": {},
   "outputs": [
    {
     "data": {
      "text/plain": [
       "24755.696"
      ]
     },
     "execution_count": 69,
     "metadata": {},
     "output_type": "execute_result"
    }
   ],
   "source": [
    "df_test['total_income']['40-49']"
   ]
  },
  {
   "cell_type": "markdown",
   "metadata": {},
   "source": [
    "Escribiremos una función para completar los valores ausentes."
   ]
  },
  {
   "cell_type": "code",
   "execution_count": 70,
   "metadata": {},
   "outputs": [],
   "source": [
    "\n",
    "def completar_va(row):\n",
    "    categoria_de_edad = row['categoria_de_edad']\n",
    "    total_income= row['total_income']\n",
    "    \n",
    "    if pd.isna(total_income):\n",
    "        return df_test['total_income'][categoria_de_edad]\n",
    "    return total_income"
   ]
  },
  {
   "cell_type": "markdown",
   "metadata": {},
   "source": [
    "<div class=\"alert alert-success\">\n",
    "<b>✔️ Comentario del revisor:</b> Funciona correcto!"
   ]
  },
  {
   "cell_type": "markdown",
   "metadata": {},
   "source": [
    "Comprobaremos si es válida la función con la fila 12 que sabemos que tiene valores ausentes y la edad del cliente en de 64 años, por lo que la función debería traernos la mediana del ingreso de nuestra tabla con la categoría de edades.  "
   ]
  },
  {
   "cell_type": "code",
   "execution_count": 73,
   "metadata": {},
   "outputs": [
    {
     "data": {
      "text/plain": [
       "19817.44"
      ]
     },
     "execution_count": 73,
     "metadata": {},
     "output_type": "execute_result"
    }
   ],
   "source": [
    "\n",
    "completar_va(df.iloc[12])"
   ]
  },
  {
   "cell_type": "markdown",
   "metadata": {},
   "source": [
    "Apicaremos la función para cada fila "
   ]
  },
  {
   "cell_type": "code",
   "execution_count": 74,
   "metadata": {},
   "outputs": [
    {
     "name": "stdout",
     "output_type": "stream",
     "text": [
      "22742.6535\n"
     ]
    }
   ],
   "source": [
    "\n",
    "row_values= ['19-29', float('nan')]\n",
    "row_columns= ['categoria_de_edad','total_income']\n",
    "row = pd.Series(data=row_values, index= row_columns)\n",
    "print(completar_va(row))"
   ]
  },
  {
   "cell_type": "markdown",
   "metadata": {},
   "source": [
    "Vamos a comprobar con try and except si es que tenemos algún error en la función, y si es así nos saldrá un mensaje de confirmación que hay algo erróneo."
   ]
  },
  {
   "cell_type": "code",
   "execution_count": 75,
   "metadata": {},
   "outputs": [],
   "source": [
    "\n",
    "try:\n",
    "    df['total_income']= df.apply(completar_va,axis=1)\n",
    "except: \n",
    "    print('Error de función')"
   ]
  },
  {
   "cell_type": "markdown",
   "metadata": {},
   "source": [
    "A continuación comprobaremos con las filas 12 y 26 que solíamos tener valores ausentes para revisar el nuevo valor del ingreso que se les asignó.  \n"
   ]
  },
  {
   "cell_type": "code",
   "execution_count": 76,
   "metadata": {},
   "outputs": [
    {
     "data": {
      "text/plain": [
       "children                               0\n",
       "days_employed                        NaN\n",
       "dob_years                             65\n",
       "education            secondary education\n",
       "education_id                           1\n",
       "family_status          civil partnership\n",
       "family_status_id                       1\n",
       "gender                                 M\n",
       "income_type                      retiree\n",
       "debt                                   0\n",
       "total_income                    19817.44\n",
       "purpose                to have a wedding\n",
       "categoria_de_edad                  60-69\n",
       "Name: 12, dtype: object"
      ]
     },
     "execution_count": 76,
     "metadata": {},
     "output_type": "execute_result"
    }
   ],
   "source": [
    "df.iloc[12]"
   ]
  },
  {
   "cell_type": "code",
   "execution_count": 77,
   "metadata": {},
   "outputs": [
    {
     "data": {
      "text/plain": [
       "children                               0\n",
       "days_employed                        NaN\n",
       "dob_years                             41\n",
       "education            secondary education\n",
       "education_id                           1\n",
       "family_status                    married\n",
       "family_status_id                       0\n",
       "gender                                 M\n",
       "income_type                civil servant\n",
       "debt                                   0\n",
       "total_income                   24755.696\n",
       "purpose                        education\n",
       "categoria_de_edad                  40-49\n",
       "Name: 26, dtype: object"
      ]
     },
     "execution_count": 77,
     "metadata": {},
     "output_type": "execute_result"
    }
   ],
   "source": [
    "df.iloc[26]"
   ]
  },
  {
   "cell_type": "markdown",
   "metadata": {},
   "source": [
    "Mostraremos las últimas filas de nuestro DataFrame para revisar que los valores hayan sido rellenados."
   ]
  },
  {
   "cell_type": "code",
   "execution_count": 80,
   "metadata": {},
   "outputs": [
    {
     "data": {
      "text/html": [
       "<div>\n",
       "<style scoped>\n",
       "    .dataframe tbody tr th:only-of-type {\n",
       "        vertical-align: middle;\n",
       "    }\n",
       "\n",
       "    .dataframe tbody tr th {\n",
       "        vertical-align: top;\n",
       "    }\n",
       "\n",
       "    .dataframe thead th {\n",
       "        text-align: right;\n",
       "    }\n",
       "</style>\n",
       "<table border=\"1\" class=\"dataframe\">\n",
       "  <thead>\n",
       "    <tr style=\"text-align: right;\">\n",
       "      <th></th>\n",
       "      <th>children</th>\n",
       "      <th>days_employed</th>\n",
       "      <th>dob_years</th>\n",
       "      <th>education</th>\n",
       "      <th>education_id</th>\n",
       "      <th>family_status</th>\n",
       "      <th>family_status_id</th>\n",
       "      <th>gender</th>\n",
       "      <th>income_type</th>\n",
       "      <th>debt</th>\n",
       "      <th>total_income</th>\n",
       "      <th>purpose</th>\n",
       "      <th>categoria_de_edad</th>\n",
       "    </tr>\n",
       "  </thead>\n",
       "  <tbody>\n",
       "    <tr>\n",
       "      <th>21434</th>\n",
       "      <td>0</td>\n",
       "      <td>338904.866406</td>\n",
       "      <td>53</td>\n",
       "      <td>secondary education</td>\n",
       "      <td>1</td>\n",
       "      <td>civil partnership</td>\n",
       "      <td>1</td>\n",
       "      <td>M</td>\n",
       "      <td>retiree</td>\n",
       "      <td>0</td>\n",
       "      <td>12070.3990</td>\n",
       "      <td>to have a wedding</td>\n",
       "      <td>50-59</td>\n",
       "    </tr>\n",
       "    <tr>\n",
       "      <th>21435</th>\n",
       "      <td>1</td>\n",
       "      <td>1556.249906</td>\n",
       "      <td>33</td>\n",
       "      <td>bachelor's degree</td>\n",
       "      <td>0</td>\n",
       "      <td>civil partnership</td>\n",
       "      <td>1</td>\n",
       "      <td>F</td>\n",
       "      <td>employee</td>\n",
       "      <td>0</td>\n",
       "      <td>23286.7190</td>\n",
       "      <td>wedding ceremony</td>\n",
       "      <td>30-39</td>\n",
       "    </tr>\n",
       "    <tr>\n",
       "      <th>21436</th>\n",
       "      <td>1</td>\n",
       "      <td>79.832064</td>\n",
       "      <td>32</td>\n",
       "      <td>secondary education</td>\n",
       "      <td>1</td>\n",
       "      <td>civil partnership</td>\n",
       "      <td>1</td>\n",
       "      <td>F</td>\n",
       "      <td>civil servant</td>\n",
       "      <td>0</td>\n",
       "      <td>15708.8450</td>\n",
       "      <td>second-hand car purchase</td>\n",
       "      <td>30-39</td>\n",
       "    </tr>\n",
       "    <tr>\n",
       "      <th>21437</th>\n",
       "      <td>0</td>\n",
       "      <td>386497.714078</td>\n",
       "      <td>62</td>\n",
       "      <td>secondary education</td>\n",
       "      <td>1</td>\n",
       "      <td>married</td>\n",
       "      <td>0</td>\n",
       "      <td>M</td>\n",
       "      <td>retiree</td>\n",
       "      <td>0</td>\n",
       "      <td>11622.1750</td>\n",
       "      <td>property</td>\n",
       "      <td>60-69</td>\n",
       "    </tr>\n",
       "    <tr>\n",
       "      <th>21438</th>\n",
       "      <td>0</td>\n",
       "      <td>362161.054124</td>\n",
       "      <td>59</td>\n",
       "      <td>bachelor's degree</td>\n",
       "      <td>0</td>\n",
       "      <td>married</td>\n",
       "      <td>0</td>\n",
       "      <td>M</td>\n",
       "      <td>retiree</td>\n",
       "      <td>0</td>\n",
       "      <td>11684.6500</td>\n",
       "      <td>real estate transactions</td>\n",
       "      <td>50-59</td>\n",
       "    </tr>\n",
       "    <tr>\n",
       "      <th>21439</th>\n",
       "      <td>2</td>\n",
       "      <td>NaN</td>\n",
       "      <td>28</td>\n",
       "      <td>secondary education</td>\n",
       "      <td>1</td>\n",
       "      <td>married</td>\n",
       "      <td>0</td>\n",
       "      <td>F</td>\n",
       "      <td>employee</td>\n",
       "      <td>0</td>\n",
       "      <td>22742.6535</td>\n",
       "      <td>car purchase</td>\n",
       "      <td>19-29</td>\n",
       "    </tr>\n",
       "    <tr>\n",
       "      <th>21440</th>\n",
       "      <td>0</td>\n",
       "      <td>612.569129</td>\n",
       "      <td>29</td>\n",
       "      <td>bachelor's degree</td>\n",
       "      <td>0</td>\n",
       "      <td>civil partnership</td>\n",
       "      <td>1</td>\n",
       "      <td>F</td>\n",
       "      <td>employee</td>\n",
       "      <td>1</td>\n",
       "      <td>22410.9560</td>\n",
       "      <td>buying property for renting out</td>\n",
       "      <td>19-29</td>\n",
       "    </tr>\n",
       "    <tr>\n",
       "      <th>21441</th>\n",
       "      <td>0</td>\n",
       "      <td>165.377752</td>\n",
       "      <td>26</td>\n",
       "      <td>bachelor's degree</td>\n",
       "      <td>0</td>\n",
       "      <td>unmarried</td>\n",
       "      <td>4</td>\n",
       "      <td>M</td>\n",
       "      <td>business</td>\n",
       "      <td>0</td>\n",
       "      <td>23568.2330</td>\n",
       "      <td>to get a supplementary education</td>\n",
       "      <td>19-29</td>\n",
       "    </tr>\n",
       "    <tr>\n",
       "      <th>21442</th>\n",
       "      <td>0</td>\n",
       "      <td>1166.216789</td>\n",
       "      <td>35</td>\n",
       "      <td>secondary education</td>\n",
       "      <td>1</td>\n",
       "      <td>married</td>\n",
       "      <td>0</td>\n",
       "      <td>F</td>\n",
       "      <td>employee</td>\n",
       "      <td>0</td>\n",
       "      <td>40157.7830</td>\n",
       "      <td>purchase of the house</td>\n",
       "      <td>30-39</td>\n",
       "    </tr>\n",
       "    <tr>\n",
       "      <th>21443</th>\n",
       "      <td>0</td>\n",
       "      <td>280.469996</td>\n",
       "      <td>27</td>\n",
       "      <td>some college</td>\n",
       "      <td>2</td>\n",
       "      <td>unmarried</td>\n",
       "      <td>4</td>\n",
       "      <td>M</td>\n",
       "      <td>business</td>\n",
       "      <td>0</td>\n",
       "      <td>56958.1450</td>\n",
       "      <td>building a property</td>\n",
       "      <td>19-29</td>\n",
       "    </tr>\n",
       "    <tr>\n",
       "      <th>21444</th>\n",
       "      <td>1</td>\n",
       "      <td>467.685130</td>\n",
       "      <td>28</td>\n",
       "      <td>secondary education</td>\n",
       "      <td>1</td>\n",
       "      <td>married</td>\n",
       "      <td>0</td>\n",
       "      <td>F</td>\n",
       "      <td>employee</td>\n",
       "      <td>1</td>\n",
       "      <td>17517.8120</td>\n",
       "      <td>to become educated</td>\n",
       "      <td>19-29</td>\n",
       "    </tr>\n",
       "    <tr>\n",
       "      <th>21445</th>\n",
       "      <td>0</td>\n",
       "      <td>914.391429</td>\n",
       "      <td>42</td>\n",
       "      <td>bachelor's degree</td>\n",
       "      <td>0</td>\n",
       "      <td>married</td>\n",
       "      <td>0</td>\n",
       "      <td>F</td>\n",
       "      <td>business</td>\n",
       "      <td>0</td>\n",
       "      <td>51649.2440</td>\n",
       "      <td>purchase of my own house</td>\n",
       "      <td>40-49</td>\n",
       "    </tr>\n",
       "    <tr>\n",
       "      <th>21446</th>\n",
       "      <td>0</td>\n",
       "      <td>404.679034</td>\n",
       "      <td>42</td>\n",
       "      <td>bachelor's degree</td>\n",
       "      <td>0</td>\n",
       "      <td>civil partnership</td>\n",
       "      <td>1</td>\n",
       "      <td>F</td>\n",
       "      <td>business</td>\n",
       "      <td>0</td>\n",
       "      <td>28489.5290</td>\n",
       "      <td>buying my own car</td>\n",
       "      <td>40-49</td>\n",
       "    </tr>\n",
       "    <tr>\n",
       "      <th>21447</th>\n",
       "      <td>0</td>\n",
       "      <td>373995.710838</td>\n",
       "      <td>59</td>\n",
       "      <td>secondary education</td>\n",
       "      <td>1</td>\n",
       "      <td>married</td>\n",
       "      <td>0</td>\n",
       "      <td>F</td>\n",
       "      <td>retiree</td>\n",
       "      <td>0</td>\n",
       "      <td>24618.3440</td>\n",
       "      <td>purchase of a car</td>\n",
       "      <td>50-59</td>\n",
       "    </tr>\n",
       "    <tr>\n",
       "      <th>21448</th>\n",
       "      <td>1</td>\n",
       "      <td>2351.431934</td>\n",
       "      <td>37</td>\n",
       "      <td>graduate degree</td>\n",
       "      <td>4</td>\n",
       "      <td>divorced</td>\n",
       "      <td>3</td>\n",
       "      <td>M</td>\n",
       "      <td>employee</td>\n",
       "      <td>0</td>\n",
       "      <td>18551.8460</td>\n",
       "      <td>buy commercial real estate</td>\n",
       "      <td>30-39</td>\n",
       "    </tr>\n",
       "    <tr>\n",
       "      <th>21449</th>\n",
       "      <td>1</td>\n",
       "      <td>4529.316663</td>\n",
       "      <td>43</td>\n",
       "      <td>secondary education</td>\n",
       "      <td>1</td>\n",
       "      <td>civil partnership</td>\n",
       "      <td>1</td>\n",
       "      <td>F</td>\n",
       "      <td>business</td>\n",
       "      <td>0</td>\n",
       "      <td>35966.6980</td>\n",
       "      <td>housing transactions</td>\n",
       "      <td>40-49</td>\n",
       "    </tr>\n",
       "    <tr>\n",
       "      <th>21450</th>\n",
       "      <td>0</td>\n",
       "      <td>343937.404131</td>\n",
       "      <td>67</td>\n",
       "      <td>secondary education</td>\n",
       "      <td>1</td>\n",
       "      <td>married</td>\n",
       "      <td>0</td>\n",
       "      <td>F</td>\n",
       "      <td>retiree</td>\n",
       "      <td>0</td>\n",
       "      <td>24959.9690</td>\n",
       "      <td>purchase of a car</td>\n",
       "      <td>60-69</td>\n",
       "    </tr>\n",
       "    <tr>\n",
       "      <th>21451</th>\n",
       "      <td>1</td>\n",
       "      <td>2113.346888</td>\n",
       "      <td>38</td>\n",
       "      <td>secondary education</td>\n",
       "      <td>1</td>\n",
       "      <td>civil partnership</td>\n",
       "      <td>1</td>\n",
       "      <td>M</td>\n",
       "      <td>employee</td>\n",
       "      <td>1</td>\n",
       "      <td>14347.6100</td>\n",
       "      <td>property</td>\n",
       "      <td>30-39</td>\n",
       "    </tr>\n",
       "    <tr>\n",
       "      <th>21452</th>\n",
       "      <td>3</td>\n",
       "      <td>3112.481705</td>\n",
       "      <td>38</td>\n",
       "      <td>secondary education</td>\n",
       "      <td>1</td>\n",
       "      <td>married</td>\n",
       "      <td>0</td>\n",
       "      <td>M</td>\n",
       "      <td>employee</td>\n",
       "      <td>1</td>\n",
       "      <td>39054.8880</td>\n",
       "      <td>buying my own car</td>\n",
       "      <td>30-39</td>\n",
       "    </tr>\n",
       "    <tr>\n",
       "      <th>21453</th>\n",
       "      <td>2</td>\n",
       "      <td>1984.507589</td>\n",
       "      <td>40</td>\n",
       "      <td>secondary education</td>\n",
       "      <td>1</td>\n",
       "      <td>married</td>\n",
       "      <td>0</td>\n",
       "      <td>F</td>\n",
       "      <td>employee</td>\n",
       "      <td>0</td>\n",
       "      <td>13127.5870</td>\n",
       "      <td>to buy a car</td>\n",
       "      <td>40-49</td>\n",
       "    </tr>\n",
       "  </tbody>\n",
       "</table>\n",
       "</div>"
      ],
      "text/plain": [
       "       children  days_employed  dob_years            education  education_id  \\\n",
       "21434         0  338904.866406         53  secondary education             1   \n",
       "21435         1    1556.249906         33    bachelor's degree             0   \n",
       "21436         1      79.832064         32  secondary education             1   \n",
       "21437         0  386497.714078         62  secondary education             1   \n",
       "21438         0  362161.054124         59    bachelor's degree             0   \n",
       "21439         2            NaN         28  secondary education             1   \n",
       "21440         0     612.569129         29    bachelor's degree             0   \n",
       "21441         0     165.377752         26    bachelor's degree             0   \n",
       "21442         0    1166.216789         35  secondary education             1   \n",
       "21443         0     280.469996         27         some college             2   \n",
       "21444         1     467.685130         28  secondary education             1   \n",
       "21445         0     914.391429         42    bachelor's degree             0   \n",
       "21446         0     404.679034         42    bachelor's degree             0   \n",
       "21447         0  373995.710838         59  secondary education             1   \n",
       "21448         1    2351.431934         37      graduate degree             4   \n",
       "21449         1    4529.316663         43  secondary education             1   \n",
       "21450         0  343937.404131         67  secondary education             1   \n",
       "21451         1    2113.346888         38  secondary education             1   \n",
       "21452         3    3112.481705         38  secondary education             1   \n",
       "21453         2    1984.507589         40  secondary education             1   \n",
       "\n",
       "           family_status  family_status_id gender    income_type  debt  \\\n",
       "21434  civil partnership                 1      M        retiree     0   \n",
       "21435  civil partnership                 1      F       employee     0   \n",
       "21436  civil partnership                 1      F  civil servant     0   \n",
       "21437            married                 0      M        retiree     0   \n",
       "21438            married                 0      M        retiree     0   \n",
       "21439            married                 0      F       employee     0   \n",
       "21440  civil partnership                 1      F       employee     1   \n",
       "21441          unmarried                 4      M       business     0   \n",
       "21442            married                 0      F       employee     0   \n",
       "21443          unmarried                 4      M       business     0   \n",
       "21444            married                 0      F       employee     1   \n",
       "21445            married                 0      F       business     0   \n",
       "21446  civil partnership                 1      F       business     0   \n",
       "21447            married                 0      F        retiree     0   \n",
       "21448           divorced                 3      M       employee     0   \n",
       "21449  civil partnership                 1      F       business     0   \n",
       "21450            married                 0      F        retiree     0   \n",
       "21451  civil partnership                 1      M       employee     1   \n",
       "21452            married                 0      M       employee     1   \n",
       "21453            married                 0      F       employee     0   \n",
       "\n",
       "       total_income                           purpose categoria_de_edad  \n",
       "21434    12070.3990                 to have a wedding             50-59  \n",
       "21435    23286.7190                  wedding ceremony             30-39  \n",
       "21436    15708.8450          second-hand car purchase             30-39  \n",
       "21437    11622.1750                          property             60-69  \n",
       "21438    11684.6500          real estate transactions             50-59  \n",
       "21439    22742.6535                      car purchase             19-29  \n",
       "21440    22410.9560   buying property for renting out             19-29  \n",
       "21441    23568.2330  to get a supplementary education             19-29  \n",
       "21442    40157.7830             purchase of the house             30-39  \n",
       "21443    56958.1450               building a property             19-29  \n",
       "21444    17517.8120                to become educated             19-29  \n",
       "21445    51649.2440          purchase of my own house             40-49  \n",
       "21446    28489.5290                 buying my own car             40-49  \n",
       "21447    24618.3440                 purchase of a car             50-59  \n",
       "21448    18551.8460        buy commercial real estate             30-39  \n",
       "21449    35966.6980              housing transactions             40-49  \n",
       "21450    24959.9690                 purchase of a car             60-69  \n",
       "21451    14347.6100                          property             30-39  \n",
       "21452    39054.8880                 buying my own car             30-39  \n",
       "21453    13127.5870                      to buy a car             40-49  "
      ]
     },
     "execution_count": 80,
     "metadata": {},
     "output_type": "execute_result"
    }
   ],
   "source": [
    "df.tail(20)"
   ]
  },
  {
   "cell_type": "markdown",
   "metadata": {},
   "source": [
    "<div class=\"alert alert-success\">\n",
    "<b>✔️ Comentario del revisor:</b> Aqui puedes usar head() o tail()"
   ]
  },
  {
   "cell_type": "markdown",
   "metadata": {},
   "source": [
    "Finalmente comprobamos que el número total de registros en la columna total_income coincida  con el resto de columnas del DataFrame que tenían completas (a execpción de dob_years), para eso emplearemos nuevamente el método info. "
   ]
  },
  {
   "cell_type": "code",
   "execution_count": 81,
   "metadata": {},
   "outputs": [
    {
     "name": "stdout",
     "output_type": "stream",
     "text": [
      "<class 'pandas.core.frame.DataFrame'>\n",
      "RangeIndex: 21454 entries, 0 to 21453\n",
      "Data columns (total 13 columns):\n",
      " #   Column             Non-Null Count  Dtype  \n",
      "---  ------             --------------  -----  \n",
      " 0   children           21454 non-null  int64  \n",
      " 1   days_employed      19351 non-null  float64\n",
      " 2   dob_years          21454 non-null  int64  \n",
      " 3   education          21454 non-null  object \n",
      " 4   education_id       21454 non-null  int64  \n",
      " 5   family_status      21454 non-null  object \n",
      " 6   family_status_id   21454 non-null  int64  \n",
      " 7   gender             21454 non-null  object \n",
      " 8   income_type        21454 non-null  object \n",
      " 9   debt               21454 non-null  int64  \n",
      " 10  total_income       21454 non-null  float64\n",
      " 11  purpose            21454 non-null  object \n",
      " 12  categoria_de_edad  21454 non-null  object \n",
      "dtypes: float64(2), int64(5), object(6)\n",
      "memory usage: 2.1+ MB\n"
     ]
    }
   ],
   "source": [
    "\n",
    "df.info()\n"
   ]
  },
  {
   "cell_type": "markdown",
   "metadata": {},
   "source": [
    "###  Restaurar valores en `days_employed`"
   ]
  },
  {
   "cell_type": "markdown",
   "metadata": {},
   "source": [
    "Para restaruar los valores en esta columna realizaremos un proceso de investigación similar al de la columna anterior. \n",
    "Es importante analizar los parámetros de los clientes que pueden mejor definir los días trabajados para posteriormente reemplazarlos en el DataFrame.\n",
    "\n",
    "Las variables serán: Educación y Tipo de empleo"
   ]
  },
  {
   "cell_type": "code",
   "execution_count": 59,
   "metadata": {},
   "outputs": [
    {
     "data": {
      "text/html": [
       "<div>\n",
       "<style scoped>\n",
       "    .dataframe tbody tr th:only-of-type {\n",
       "        vertical-align: middle;\n",
       "    }\n",
       "\n",
       "    .dataframe tbody tr th {\n",
       "        vertical-align: top;\n",
       "    }\n",
       "\n",
       "    .dataframe thead tr th {\n",
       "        text-align: left;\n",
       "    }\n",
       "\n",
       "    .dataframe thead tr:last-of-type th {\n",
       "        text-align: right;\n",
       "    }\n",
       "</style>\n",
       "<table border=\"1\" class=\"dataframe\">\n",
       "  <thead>\n",
       "    <tr>\n",
       "      <th></th>\n",
       "      <th colspan=\"4\" halign=\"left\">days_employed</th>\n",
       "    </tr>\n",
       "    <tr>\n",
       "      <th></th>\n",
       "      <th>mean</th>\n",
       "      <th>median</th>\n",
       "      <th>min</th>\n",
       "      <th>max</th>\n",
       "    </tr>\n",
       "    <tr>\n",
       "      <th>education</th>\n",
       "      <th></th>\n",
       "      <th></th>\n",
       "      <th></th>\n",
       "      <th></th>\n",
       "    </tr>\n",
       "  </thead>\n",
       "  <tbody>\n",
       "    <tr>\n",
       "      <th>bachelor's degree</th>\n",
       "      <td>42375.409174</td>\n",
       "      <td>1895.747795</td>\n",
       "      <td>24.240695</td>\n",
       "      <td>401715.811749</td>\n",
       "    </tr>\n",
       "    <tr>\n",
       "      <th>graduate degree</th>\n",
       "      <td>121323.630206</td>\n",
       "      <td>5660.057032</td>\n",
       "      <td>409.200149</td>\n",
       "      <td>376276.219531</td>\n",
       "    </tr>\n",
       "    <tr>\n",
       "      <th>primary education</th>\n",
       "      <td>130340.426349</td>\n",
       "      <td>3043.933615</td>\n",
       "      <td>62.108487</td>\n",
       "      <td>401440.834336</td>\n",
       "    </tr>\n",
       "    <tr>\n",
       "      <th>secondary education</th>\n",
       "      <td>76413.822372</td>\n",
       "      <td>2392.483500</td>\n",
       "      <td>24.141633</td>\n",
       "      <td>401755.400475</td>\n",
       "    </tr>\n",
       "    <tr>\n",
       "      <th>some college</th>\n",
       "      <td>20656.632017</td>\n",
       "      <td>1209.128083</td>\n",
       "      <td>51.496885</td>\n",
       "      <td>399693.485689</td>\n",
       "    </tr>\n",
       "  </tbody>\n",
       "</table>\n",
       "</div>"
      ],
      "text/plain": [
       "                     days_employed                                        \n",
       "                              mean       median         min            max\n",
       "education                                                                 \n",
       "bachelor's degree     42375.409174  1895.747795   24.240695  401715.811749\n",
       "graduate degree      121323.630206  5660.057032  409.200149  376276.219531\n",
       "primary education    130340.426349  3043.933615   62.108487  401440.834336\n",
       "secondary education   76413.822372  2392.483500   24.141633  401755.400475\n",
       "some college          20656.632017  1209.128083   51.496885  399693.485689"
      ]
     },
     "execution_count": 59,
     "metadata": {},
     "output_type": "execute_result"
    }
   ],
   "source": [
    "days_employed_median1= df_no_va.groupby('education').agg(days_employed_dic)\n",
    "days_employed_median1"
   ]
  },
  {
   "cell_type": "markdown",
   "metadata": {},
   "source": [
    "Los clientes que tienen un nivel de educación primaria tienen en promedio más de días trabajados, se interpreta que pueden ser empleados de cualquier negocio o persona jurídica que no requiera altos estándares o requisitos en la formación educativa.\n",
    "\n",
    "Una observación importante es que por el contrario aquellos clientes que alcanzaron un título universitario y los que tendrían más posibildades de encontrar mejores oportunidades son los que menos registran días trabajados. \n",
    "\n",
    "Es por eso que en la siguiente tabla analizaremos en función de su tipo de empleo"
   ]
  },
  {
   "cell_type": "code",
   "execution_count": 127,
   "metadata": {
    "pycharm": {
     "name": "#%%\n"
    }
   },
   "outputs": [
    {
     "data": {
      "text/html": [
       "<div>\n",
       "<style scoped>\n",
       "    .dataframe tbody tr th:only-of-type {\n",
       "        vertical-align: middle;\n",
       "    }\n",
       "\n",
       "    .dataframe tbody tr th {\n",
       "        vertical-align: top;\n",
       "    }\n",
       "\n",
       "    .dataframe thead tr th {\n",
       "        text-align: left;\n",
       "    }\n",
       "\n",
       "    .dataframe thead tr:last-of-type th {\n",
       "        text-align: right;\n",
       "    }\n",
       "</style>\n",
       "<table border=\"1\" class=\"dataframe\">\n",
       "  <thead>\n",
       "    <tr>\n",
       "      <th></th>\n",
       "      <th colspan=\"4\" halign=\"left\">days_employed</th>\n",
       "    </tr>\n",
       "    <tr>\n",
       "      <th></th>\n",
       "      <th>mean</th>\n",
       "      <th>median</th>\n",
       "      <th>min</th>\n",
       "      <th>max</th>\n",
       "    </tr>\n",
       "    <tr>\n",
       "      <th>income_type</th>\n",
       "      <th></th>\n",
       "      <th></th>\n",
       "      <th></th>\n",
       "      <th></th>\n",
       "    </tr>\n",
       "  </thead>\n",
       "  <tbody>\n",
       "    <tr>\n",
       "      <th>business</th>\n",
       "      <td>2111.524398</td>\n",
       "      <td>1547.382223</td>\n",
       "      <td>30.195337</td>\n",
       "      <td>17615.563266</td>\n",
       "    </tr>\n",
       "    <tr>\n",
       "      <th>civil servant</th>\n",
       "      <td>3399.896902</td>\n",
       "      <td>2689.368353</td>\n",
       "      <td>39.954170</td>\n",
       "      <td>15193.032201</td>\n",
       "    </tr>\n",
       "    <tr>\n",
       "      <th>employee</th>\n",
       "      <td>2326.499216</td>\n",
       "      <td>1574.202821</td>\n",
       "      <td>24.141633</td>\n",
       "      <td>18388.949901</td>\n",
       "    </tr>\n",
       "    <tr>\n",
       "      <th>entrepreneur</th>\n",
       "      <td>520.848083</td>\n",
       "      <td>520.848083</td>\n",
       "      <td>520.848083</td>\n",
       "      <td>520.848083</td>\n",
       "    </tr>\n",
       "    <tr>\n",
       "      <th>paternity / maternity leave</th>\n",
       "      <td>3296.759962</td>\n",
       "      <td>3296.759962</td>\n",
       "      <td>3296.759962</td>\n",
       "      <td>3296.759962</td>\n",
       "    </tr>\n",
       "    <tr>\n",
       "      <th>retiree</th>\n",
       "      <td>365003.491245</td>\n",
       "      <td>365213.306266</td>\n",
       "      <td>328728.720605</td>\n",
       "      <td>401755.400475</td>\n",
       "    </tr>\n",
       "    <tr>\n",
       "      <th>student</th>\n",
       "      <td>578.751554</td>\n",
       "      <td>578.751554</td>\n",
       "      <td>578.751554</td>\n",
       "      <td>578.751554</td>\n",
       "    </tr>\n",
       "    <tr>\n",
       "      <th>unemployed</th>\n",
       "      <td>366413.652744</td>\n",
       "      <td>366413.652744</td>\n",
       "      <td>337524.466835</td>\n",
       "      <td>395302.838654</td>\n",
       "    </tr>\n",
       "  </tbody>\n",
       "</table>\n",
       "</div>"
      ],
      "text/plain": [
       "                             days_employed                                \\\n",
       "                                      mean         median            min   \n",
       "income_type                                                                \n",
       "business                       2111.524398    1547.382223      30.195337   \n",
       "civil servant                  3399.896902    2689.368353      39.954170   \n",
       "employee                       2326.499216    1574.202821      24.141633   \n",
       "entrepreneur                    520.848083     520.848083     520.848083   \n",
       "paternity / maternity leave    3296.759962    3296.759962    3296.759962   \n",
       "retiree                      365003.491245  365213.306266  328728.720605   \n",
       "student                         578.751554     578.751554     578.751554   \n",
       "unemployed                   366413.652744  366413.652744  337524.466835   \n",
       "\n",
       "                                            \n",
       "                                       max  \n",
       "income_type                                 \n",
       "business                      17615.563266  \n",
       "civil servant                 15193.032201  \n",
       "employee                      18388.949901  \n",
       "entrepreneur                    520.848083  \n",
       "paternity / maternity leave    3296.759962  \n",
       "retiree                      401755.400475  \n",
       "student                         578.751554  \n",
       "unemployed                   395302.838654  "
      ]
     },
     "execution_count": 127,
     "metadata": {},
     "output_type": "execute_result"
    }
   ],
   "source": [
    "\n",
    "days_employed_median= df_no_va.groupby('income_type').agg(days_employed_dic)\n",
    "days_employed_median"
   ]
  },
  {
   "cell_type": "markdown",
   "metadata": {},
   "source": [
    "Los clientes que ya son retirados son los que en promedio tienen más días trabajados lo cual es lógico ya que han pasado la gran parte de su vida trabajando. \n",
    "Por otro lado los datos indican que tanto entrepreneur y estudiantes tienen menos días trabajadoslos cual corresponde a que los estudiantes no tienen tanta experiencia y puede que se dediquen mas a seguir estudiando, mientras que los entrepreneur se dedican mas a su propio negocio que puede que hayan iniciado hace 1 año y medio aproximadamente."
   ]
  },
  {
   "cell_type": "markdown",
   "metadata": {},
   "source": [
    "<div class=\"alert alert-success\">\n",
    "<b>✔️ Comentario del revisor:</b>\n",
    "\n",
    "Buenos conclusiones :)\n",
    "</div>"
   ]
  },
  {
   "cell_type": "markdown",
   "metadata": {},
   "source": [
    "Utilizaremos esta última tabla para hacer el relleno de los valores ausentes, ya que es la principal información que se relaciona más sobre su actividad laboral que nos lleva a un mejor hallazgo en función de sus días de experiencia. Dado que nuevamente tenemos datos muy distantes entre el minimo y máximo por categoría se utilizará la función de la mediana. \n",
    "\n",
    "A continuación crearemos una tabla dinámica con estos resultados. "
   ]
  },
  {
   "cell_type": "code",
   "execution_count": 87,
   "metadata": {},
   "outputs": [
    {
     "data": {
      "text/html": [
       "<div>\n",
       "<style scoped>\n",
       "    .dataframe tbody tr th:only-of-type {\n",
       "        vertical-align: middle;\n",
       "    }\n",
       "\n",
       "    .dataframe tbody tr th {\n",
       "        vertical-align: top;\n",
       "    }\n",
       "\n",
       "    .dataframe thead th {\n",
       "        text-align: right;\n",
       "    }\n",
       "</style>\n",
       "<table border=\"1\" class=\"dataframe\">\n",
       "  <thead>\n",
       "    <tr style=\"text-align: right;\">\n",
       "      <th></th>\n",
       "      <th>days_employed</th>\n",
       "    </tr>\n",
       "    <tr>\n",
       "      <th>income_type</th>\n",
       "      <th></th>\n",
       "    </tr>\n",
       "  </thead>\n",
       "  <tbody>\n",
       "    <tr>\n",
       "      <th>business</th>\n",
       "      <td>1547.382223</td>\n",
       "    </tr>\n",
       "    <tr>\n",
       "      <th>civil servant</th>\n",
       "      <td>2689.368353</td>\n",
       "    </tr>\n",
       "    <tr>\n",
       "      <th>employee</th>\n",
       "      <td>1574.202821</td>\n",
       "    </tr>\n",
       "    <tr>\n",
       "      <th>entrepreneur</th>\n",
       "      <td>520.848083</td>\n",
       "    </tr>\n",
       "    <tr>\n",
       "      <th>paternity / maternity leave</th>\n",
       "      <td>3296.759962</td>\n",
       "    </tr>\n",
       "    <tr>\n",
       "      <th>retiree</th>\n",
       "      <td>365213.306266</td>\n",
       "    </tr>\n",
       "    <tr>\n",
       "      <th>student</th>\n",
       "      <td>578.751554</td>\n",
       "    </tr>\n",
       "    <tr>\n",
       "      <th>unemployed</th>\n",
       "      <td>366413.652744</td>\n",
       "    </tr>\n",
       "  </tbody>\n",
       "</table>\n",
       "</div>"
      ],
      "text/plain": [
       "                             days_employed\n",
       "income_type                               \n",
       "business                       1547.382223\n",
       "civil servant                  2689.368353\n",
       "employee                       1574.202821\n",
       "entrepreneur                    520.848083\n",
       "paternity / maternity leave    3296.759962\n",
       "retiree                      365213.306266\n",
       "student                         578.751554\n",
       "unemployed                   366413.652744"
      ]
     },
     "execution_count": 87,
     "metadata": {},
     "output_type": "execute_result"
    }
   ],
   "source": [
    "df_test1= df_no_va.pivot_table(index= 'income_type', values= 'days_employed',aggfunc= 'median')\n",
    "df_test1"
   ]
  },
  {
   "cell_type": "markdown",
   "metadata": {},
   "source": [
    "Después de haber agrupado nuetra tabla dinámica con los valores a reemplazar, vamos a llamar a cualquier categoría y verificar si nos trae el valor de la mediana de los días trabajados."
   ]
  },
  {
   "cell_type": "code",
   "execution_count": 88,
   "metadata": {},
   "outputs": [
    {
     "data": {
      "text/plain": [
       "365213.3062657312"
      ]
     },
     "execution_count": 88,
     "metadata": {},
     "output_type": "execute_result"
    }
   ],
   "source": [
    "df_test1['days_employed']['retiree']"
   ]
  },
  {
   "cell_type": "markdown",
   "metadata": {},
   "source": [
    "Crearemos una función para reeemplazar los valores ausentes."
   ]
  },
  {
   "cell_type": "code",
   "execution_count": 85,
   "metadata": {},
   "outputs": [],
   "source": [
    "def mediana(row):\n",
    "    tipo_ingreso=row['income_type']\n",
    "    days_employed1=row['days_employed']\n",
    "    \n",
    "    if pd.isna(days_employed1):\n",
    "        return df_test1['days_employed'][tipo_ingreso]\n",
    "    return days_employed1"
   ]
  },
  {
   "cell_type": "markdown",
   "metadata": {},
   "source": [
    "<div class=\"alert alert-success\">\n",
    "<b>✔️ Comentario del revisor:</b>\n",
    "\n",
    "Correcto!\n",
    "</div>"
   ]
  },
  {
   "cell_type": "markdown",
   "metadata": {},
   "source": [
    "Llamamos dentro de la función a la fila 12 que tiene valores ausentes en los días empleados. "
   ]
  },
  {
   "cell_type": "code",
   "execution_count": 94,
   "metadata": {},
   "outputs": [
    {
     "data": {
      "text/plain": [
       "365213.3062657312"
      ]
     },
     "execution_count": 94,
     "metadata": {},
     "output_type": "execute_result"
    }
   ],
   "source": [
    "mediana(df.iloc[12])"
   ]
  },
  {
   "cell_type": "markdown",
   "metadata": {},
   "source": [
    "Vamos a comprobar con try and except si es que tenemos algún error en la función, y si es así nos saldrá un mensaje de confirmación que hay algo erróneo."
   ]
  },
  {
   "cell_type": "code",
   "execution_count": 90,
   "metadata": {},
   "outputs": [],
   "source": [
    "try:\n",
    "    df['days_employed']= df.apply(mediana,axis=1)\n",
    "except: \n",
    "    print('Error de función')"
   ]
  },
  {
   "cell_type": "markdown",
   "metadata": {},
   "source": [
    "A continuación comprobaremos con las filas 12  que solíamos tener valores ausentes para revisar el nuevo valor de los días empleados  que se les asignó."
   ]
  },
  {
   "cell_type": "code",
   "execution_count": 97,
   "metadata": {},
   "outputs": [
    {
     "data": {
      "text/plain": [
       "children                               0\n",
       "days_employed              365213.306266\n",
       "dob_years                             65\n",
       "education            secondary education\n",
       "education_id                           1\n",
       "family_status          civil partnership\n",
       "family_status_id                       1\n",
       "gender                                 M\n",
       "income_type                      retiree\n",
       "debt                                   0\n",
       "total_income                    19817.44\n",
       "purpose                to have a wedding\n",
       "categoria_de_edad                  60-69\n",
       "Name: 12, dtype: object"
      ]
     },
     "execution_count": 97,
     "metadata": {},
     "output_type": "execute_result"
    }
   ],
   "source": [
    "df.iloc[12]"
   ]
  },
  {
   "cell_type": "markdown",
   "metadata": {},
   "source": [
    "Mostraremos el DataFrame con las primeras 30 filas para observar que tanto en la columna days_employed como en la de total_income ya no deberíamos encontrar ningún valor ausente."
   ]
  },
  {
   "cell_type": "code",
   "execution_count": 92,
   "metadata": {},
   "outputs": [
    {
     "data": {
      "text/html": [
       "<div>\n",
       "<style scoped>\n",
       "    .dataframe tbody tr th:only-of-type {\n",
       "        vertical-align: middle;\n",
       "    }\n",
       "\n",
       "    .dataframe tbody tr th {\n",
       "        vertical-align: top;\n",
       "    }\n",
       "\n",
       "    .dataframe thead th {\n",
       "        text-align: right;\n",
       "    }\n",
       "</style>\n",
       "<table border=\"1\" class=\"dataframe\">\n",
       "  <thead>\n",
       "    <tr style=\"text-align: right;\">\n",
       "      <th></th>\n",
       "      <th>children</th>\n",
       "      <th>days_employed</th>\n",
       "      <th>dob_years</th>\n",
       "      <th>education</th>\n",
       "      <th>education_id</th>\n",
       "      <th>family_status</th>\n",
       "      <th>family_status_id</th>\n",
       "      <th>gender</th>\n",
       "      <th>income_type</th>\n",
       "      <th>debt</th>\n",
       "      <th>total_income</th>\n",
       "      <th>purpose</th>\n",
       "      <th>categoria_de_edad</th>\n",
       "    </tr>\n",
       "  </thead>\n",
       "  <tbody>\n",
       "    <tr>\n",
       "      <th>0</th>\n",
       "      <td>1</td>\n",
       "      <td>8437.673028</td>\n",
       "      <td>42</td>\n",
       "      <td>bachelor's degree</td>\n",
       "      <td>0</td>\n",
       "      <td>married</td>\n",
       "      <td>0</td>\n",
       "      <td>F</td>\n",
       "      <td>employee</td>\n",
       "      <td>0</td>\n",
       "      <td>40620.102</td>\n",
       "      <td>purchase of the house</td>\n",
       "      <td>40-49</td>\n",
       "    </tr>\n",
       "    <tr>\n",
       "      <th>1</th>\n",
       "      <td>1</td>\n",
       "      <td>4024.803754</td>\n",
       "      <td>36</td>\n",
       "      <td>secondary education</td>\n",
       "      <td>1</td>\n",
       "      <td>married</td>\n",
       "      <td>0</td>\n",
       "      <td>F</td>\n",
       "      <td>employee</td>\n",
       "      <td>0</td>\n",
       "      <td>17932.802</td>\n",
       "      <td>car purchase</td>\n",
       "      <td>30-39</td>\n",
       "    </tr>\n",
       "    <tr>\n",
       "      <th>2</th>\n",
       "      <td>0</td>\n",
       "      <td>5623.422610</td>\n",
       "      <td>33</td>\n",
       "      <td>secondary education</td>\n",
       "      <td>1</td>\n",
       "      <td>married</td>\n",
       "      <td>0</td>\n",
       "      <td>M</td>\n",
       "      <td>employee</td>\n",
       "      <td>0</td>\n",
       "      <td>23341.752</td>\n",
       "      <td>purchase of the house</td>\n",
       "      <td>30-39</td>\n",
       "    </tr>\n",
       "    <tr>\n",
       "      <th>3</th>\n",
       "      <td>3</td>\n",
       "      <td>4124.747207</td>\n",
       "      <td>32</td>\n",
       "      <td>secondary education</td>\n",
       "      <td>1</td>\n",
       "      <td>married</td>\n",
       "      <td>0</td>\n",
       "      <td>M</td>\n",
       "      <td>employee</td>\n",
       "      <td>0</td>\n",
       "      <td>42820.568</td>\n",
       "      <td>supplementary education</td>\n",
       "      <td>30-39</td>\n",
       "    </tr>\n",
       "    <tr>\n",
       "      <th>4</th>\n",
       "      <td>0</td>\n",
       "      <td>340266.072047</td>\n",
       "      <td>53</td>\n",
       "      <td>secondary education</td>\n",
       "      <td>1</td>\n",
       "      <td>civil partnership</td>\n",
       "      <td>1</td>\n",
       "      <td>F</td>\n",
       "      <td>retiree</td>\n",
       "      <td>0</td>\n",
       "      <td>25378.572</td>\n",
       "      <td>to have a wedding</td>\n",
       "      <td>50-59</td>\n",
       "    </tr>\n",
       "    <tr>\n",
       "      <th>5</th>\n",
       "      <td>0</td>\n",
       "      <td>926.185831</td>\n",
       "      <td>27</td>\n",
       "      <td>bachelor's degree</td>\n",
       "      <td>0</td>\n",
       "      <td>civil partnership</td>\n",
       "      <td>1</td>\n",
       "      <td>M</td>\n",
       "      <td>business</td>\n",
       "      <td>0</td>\n",
       "      <td>40922.170</td>\n",
       "      <td>purchase of the house</td>\n",
       "      <td>19-29</td>\n",
       "    </tr>\n",
       "    <tr>\n",
       "      <th>6</th>\n",
       "      <td>0</td>\n",
       "      <td>2879.202052</td>\n",
       "      <td>43</td>\n",
       "      <td>bachelor's degree</td>\n",
       "      <td>0</td>\n",
       "      <td>married</td>\n",
       "      <td>0</td>\n",
       "      <td>F</td>\n",
       "      <td>business</td>\n",
       "      <td>0</td>\n",
       "      <td>38484.156</td>\n",
       "      <td>housing transactions</td>\n",
       "      <td>40-49</td>\n",
       "    </tr>\n",
       "    <tr>\n",
       "      <th>7</th>\n",
       "      <td>0</td>\n",
       "      <td>152.779569</td>\n",
       "      <td>50</td>\n",
       "      <td>secondary education</td>\n",
       "      <td>1</td>\n",
       "      <td>married</td>\n",
       "      <td>0</td>\n",
       "      <td>M</td>\n",
       "      <td>employee</td>\n",
       "      <td>0</td>\n",
       "      <td>21731.829</td>\n",
       "      <td>education</td>\n",
       "      <td>50-59</td>\n",
       "    </tr>\n",
       "    <tr>\n",
       "      <th>8</th>\n",
       "      <td>2</td>\n",
       "      <td>6929.865299</td>\n",
       "      <td>35</td>\n",
       "      <td>bachelor's degree</td>\n",
       "      <td>0</td>\n",
       "      <td>civil partnership</td>\n",
       "      <td>1</td>\n",
       "      <td>F</td>\n",
       "      <td>employee</td>\n",
       "      <td>0</td>\n",
       "      <td>15337.093</td>\n",
       "      <td>having a wedding</td>\n",
       "      <td>30-39</td>\n",
       "    </tr>\n",
       "    <tr>\n",
       "      <th>9</th>\n",
       "      <td>0</td>\n",
       "      <td>2188.756445</td>\n",
       "      <td>41</td>\n",
       "      <td>secondary education</td>\n",
       "      <td>1</td>\n",
       "      <td>married</td>\n",
       "      <td>0</td>\n",
       "      <td>M</td>\n",
       "      <td>employee</td>\n",
       "      <td>0</td>\n",
       "      <td>23108.150</td>\n",
       "      <td>purchase of the house for my family</td>\n",
       "      <td>40-49</td>\n",
       "    </tr>\n",
       "    <tr>\n",
       "      <th>10</th>\n",
       "      <td>2</td>\n",
       "      <td>4171.483647</td>\n",
       "      <td>36</td>\n",
       "      <td>bachelor's degree</td>\n",
       "      <td>0</td>\n",
       "      <td>married</td>\n",
       "      <td>0</td>\n",
       "      <td>M</td>\n",
       "      <td>business</td>\n",
       "      <td>0</td>\n",
       "      <td>18230.959</td>\n",
       "      <td>buy real estate</td>\n",
       "      <td>30-39</td>\n",
       "    </tr>\n",
       "    <tr>\n",
       "      <th>11</th>\n",
       "      <td>0</td>\n",
       "      <td>792.701887</td>\n",
       "      <td>40</td>\n",
       "      <td>secondary education</td>\n",
       "      <td>1</td>\n",
       "      <td>married</td>\n",
       "      <td>0</td>\n",
       "      <td>F</td>\n",
       "      <td>employee</td>\n",
       "      <td>0</td>\n",
       "      <td>12331.077</td>\n",
       "      <td>buy commercial real estate</td>\n",
       "      <td>40-49</td>\n",
       "    </tr>\n",
       "    <tr>\n",
       "      <th>12</th>\n",
       "      <td>0</td>\n",
       "      <td>365213.306266</td>\n",
       "      <td>65</td>\n",
       "      <td>secondary education</td>\n",
       "      <td>1</td>\n",
       "      <td>civil partnership</td>\n",
       "      <td>1</td>\n",
       "      <td>M</td>\n",
       "      <td>retiree</td>\n",
       "      <td>0</td>\n",
       "      <td>19817.440</td>\n",
       "      <td>to have a wedding</td>\n",
       "      <td>60-69</td>\n",
       "    </tr>\n",
       "    <tr>\n",
       "      <th>13</th>\n",
       "      <td>0</td>\n",
       "      <td>1846.641941</td>\n",
       "      <td>54</td>\n",
       "      <td>some college</td>\n",
       "      <td>2</td>\n",
       "      <td>married</td>\n",
       "      <td>0</td>\n",
       "      <td>F</td>\n",
       "      <td>employee</td>\n",
       "      <td>0</td>\n",
       "      <td>20873.317</td>\n",
       "      <td>car purchase</td>\n",
       "      <td>50-59</td>\n",
       "    </tr>\n",
       "    <tr>\n",
       "      <th>14</th>\n",
       "      <td>0</td>\n",
       "      <td>1844.956182</td>\n",
       "      <td>56</td>\n",
       "      <td>bachelor's degree</td>\n",
       "      <td>0</td>\n",
       "      <td>civil partnership</td>\n",
       "      <td>1</td>\n",
       "      <td>F</td>\n",
       "      <td>business</td>\n",
       "      <td>1</td>\n",
       "      <td>26420.466</td>\n",
       "      <td>buy residential real estate</td>\n",
       "      <td>50-59</td>\n",
       "    </tr>\n",
       "    <tr>\n",
       "      <th>15</th>\n",
       "      <td>1</td>\n",
       "      <td>972.364419</td>\n",
       "      <td>26</td>\n",
       "      <td>secondary education</td>\n",
       "      <td>1</td>\n",
       "      <td>married</td>\n",
       "      <td>0</td>\n",
       "      <td>F</td>\n",
       "      <td>employee</td>\n",
       "      <td>0</td>\n",
       "      <td>18691.345</td>\n",
       "      <td>construction of own property</td>\n",
       "      <td>19-29</td>\n",
       "    </tr>\n",
       "    <tr>\n",
       "      <th>16</th>\n",
       "      <td>0</td>\n",
       "      <td>1719.934226</td>\n",
       "      <td>35</td>\n",
       "      <td>secondary education</td>\n",
       "      <td>1</td>\n",
       "      <td>married</td>\n",
       "      <td>0</td>\n",
       "      <td>F</td>\n",
       "      <td>employee</td>\n",
       "      <td>0</td>\n",
       "      <td>46272.433</td>\n",
       "      <td>property</td>\n",
       "      <td>30-39</td>\n",
       "    </tr>\n",
       "    <tr>\n",
       "      <th>17</th>\n",
       "      <td>0</td>\n",
       "      <td>2369.999720</td>\n",
       "      <td>33</td>\n",
       "      <td>bachelor's degree</td>\n",
       "      <td>0</td>\n",
       "      <td>civil partnership</td>\n",
       "      <td>1</td>\n",
       "      <td>M</td>\n",
       "      <td>employee</td>\n",
       "      <td>0</td>\n",
       "      <td>14465.694</td>\n",
       "      <td>building a property</td>\n",
       "      <td>30-39</td>\n",
       "    </tr>\n",
       "    <tr>\n",
       "      <th>18</th>\n",
       "      <td>0</td>\n",
       "      <td>400281.136913</td>\n",
       "      <td>53</td>\n",
       "      <td>secondary education</td>\n",
       "      <td>1</td>\n",
       "      <td>widow / widower</td>\n",
       "      <td>2</td>\n",
       "      <td>F</td>\n",
       "      <td>retiree</td>\n",
       "      <td>0</td>\n",
       "      <td>9091.804</td>\n",
       "      <td>buying a second-hand car</td>\n",
       "      <td>50-59</td>\n",
       "    </tr>\n",
       "    <tr>\n",
       "      <th>19</th>\n",
       "      <td>0</td>\n",
       "      <td>10038.818549</td>\n",
       "      <td>48</td>\n",
       "      <td>secondary education</td>\n",
       "      <td>1</td>\n",
       "      <td>divorced</td>\n",
       "      <td>3</td>\n",
       "      <td>F</td>\n",
       "      <td>employee</td>\n",
       "      <td>0</td>\n",
       "      <td>38852.977</td>\n",
       "      <td>buying my own car</td>\n",
       "      <td>40-49</td>\n",
       "    </tr>\n",
       "    <tr>\n",
       "      <th>20</th>\n",
       "      <td>1</td>\n",
       "      <td>1311.604166</td>\n",
       "      <td>36</td>\n",
       "      <td>secondary education</td>\n",
       "      <td>1</td>\n",
       "      <td>married</td>\n",
       "      <td>0</td>\n",
       "      <td>M</td>\n",
       "      <td>employee</td>\n",
       "      <td>0</td>\n",
       "      <td>33528.423</td>\n",
       "      <td>property</td>\n",
       "      <td>30-39</td>\n",
       "    </tr>\n",
       "    <tr>\n",
       "      <th>21</th>\n",
       "      <td>1</td>\n",
       "      <td>253.685166</td>\n",
       "      <td>33</td>\n",
       "      <td>secondary education</td>\n",
       "      <td>1</td>\n",
       "      <td>civil partnership</td>\n",
       "      <td>1</td>\n",
       "      <td>F</td>\n",
       "      <td>employee</td>\n",
       "      <td>0</td>\n",
       "      <td>21089.953</td>\n",
       "      <td>car purchase</td>\n",
       "      <td>30-39</td>\n",
       "    </tr>\n",
       "    <tr>\n",
       "      <th>22</th>\n",
       "      <td>1</td>\n",
       "      <td>1766.644138</td>\n",
       "      <td>24</td>\n",
       "      <td>secondary education</td>\n",
       "      <td>1</td>\n",
       "      <td>civil partnership</td>\n",
       "      <td>1</td>\n",
       "      <td>F</td>\n",
       "      <td>employee</td>\n",
       "      <td>0</td>\n",
       "      <td>23948.983</td>\n",
       "      <td>buying a second-hand car</td>\n",
       "      <td>19-29</td>\n",
       "    </tr>\n",
       "    <tr>\n",
       "      <th>23</th>\n",
       "      <td>0</td>\n",
       "      <td>272.981385</td>\n",
       "      <td>21</td>\n",
       "      <td>bachelor's degree</td>\n",
       "      <td>0</td>\n",
       "      <td>civil partnership</td>\n",
       "      <td>1</td>\n",
       "      <td>M</td>\n",
       "      <td>employee</td>\n",
       "      <td>0</td>\n",
       "      <td>20522.515</td>\n",
       "      <td>to have a wedding</td>\n",
       "      <td>19-29</td>\n",
       "    </tr>\n",
       "    <tr>\n",
       "      <th>24</th>\n",
       "      <td>1</td>\n",
       "      <td>338551.952911</td>\n",
       "      <td>57</td>\n",
       "      <td>secondary education</td>\n",
       "      <td>1</td>\n",
       "      <td>unmarried</td>\n",
       "      <td>4</td>\n",
       "      <td>F</td>\n",
       "      <td>retiree</td>\n",
       "      <td>0</td>\n",
       "      <td>46487.558</td>\n",
       "      <td>transactions with commercial real estate</td>\n",
       "      <td>50-59</td>\n",
       "    </tr>\n",
       "    <tr>\n",
       "      <th>25</th>\n",
       "      <td>0</td>\n",
       "      <td>363548.489348</td>\n",
       "      <td>67</td>\n",
       "      <td>secondary education</td>\n",
       "      <td>1</td>\n",
       "      <td>married</td>\n",
       "      <td>0</td>\n",
       "      <td>M</td>\n",
       "      <td>retiree</td>\n",
       "      <td>0</td>\n",
       "      <td>8818.041</td>\n",
       "      <td>buy real estate</td>\n",
       "      <td>60-69</td>\n",
       "    </tr>\n",
       "    <tr>\n",
       "      <th>26</th>\n",
       "      <td>0</td>\n",
       "      <td>2689.368353</td>\n",
       "      <td>41</td>\n",
       "      <td>secondary education</td>\n",
       "      <td>1</td>\n",
       "      <td>married</td>\n",
       "      <td>0</td>\n",
       "      <td>M</td>\n",
       "      <td>civil servant</td>\n",
       "      <td>0</td>\n",
       "      <td>24755.696</td>\n",
       "      <td>education</td>\n",
       "      <td>40-49</td>\n",
       "    </tr>\n",
       "    <tr>\n",
       "      <th>27</th>\n",
       "      <td>0</td>\n",
       "      <td>529.191635</td>\n",
       "      <td>28</td>\n",
       "      <td>bachelor's degree</td>\n",
       "      <td>0</td>\n",
       "      <td>married</td>\n",
       "      <td>0</td>\n",
       "      <td>M</td>\n",
       "      <td>employee</td>\n",
       "      <td>0</td>\n",
       "      <td>49415.837</td>\n",
       "      <td>construction of own property</td>\n",
       "      <td>19-29</td>\n",
       "    </tr>\n",
       "    <tr>\n",
       "      <th>28</th>\n",
       "      <td>1</td>\n",
       "      <td>717.274324</td>\n",
       "      <td>26</td>\n",
       "      <td>bachelor's degree</td>\n",
       "      <td>0</td>\n",
       "      <td>married</td>\n",
       "      <td>0</td>\n",
       "      <td>F</td>\n",
       "      <td>employee</td>\n",
       "      <td>0</td>\n",
       "      <td>30058.118</td>\n",
       "      <td>construction of own property</td>\n",
       "      <td>19-29</td>\n",
       "    </tr>\n",
       "    <tr>\n",
       "      <th>29</th>\n",
       "      <td>0</td>\n",
       "      <td>365213.306266</td>\n",
       "      <td>63</td>\n",
       "      <td>secondary education</td>\n",
       "      <td>1</td>\n",
       "      <td>unmarried</td>\n",
       "      <td>4</td>\n",
       "      <td>F</td>\n",
       "      <td>retiree</td>\n",
       "      <td>0</td>\n",
       "      <td>19817.440</td>\n",
       "      <td>building a real estate</td>\n",
       "      <td>60-69</td>\n",
       "    </tr>\n",
       "  </tbody>\n",
       "</table>\n",
       "</div>"
      ],
      "text/plain": [
       "    children  days_employed  dob_years            education  education_id  \\\n",
       "0          1    8437.673028         42    bachelor's degree             0   \n",
       "1          1    4024.803754         36  secondary education             1   \n",
       "2          0    5623.422610         33  secondary education             1   \n",
       "3          3    4124.747207         32  secondary education             1   \n",
       "4          0  340266.072047         53  secondary education             1   \n",
       "5          0     926.185831         27    bachelor's degree             0   \n",
       "6          0    2879.202052         43    bachelor's degree             0   \n",
       "7          0     152.779569         50  secondary education             1   \n",
       "8          2    6929.865299         35    bachelor's degree             0   \n",
       "9          0    2188.756445         41  secondary education             1   \n",
       "10         2    4171.483647         36    bachelor's degree             0   \n",
       "11         0     792.701887         40  secondary education             1   \n",
       "12         0  365213.306266         65  secondary education             1   \n",
       "13         0    1846.641941         54         some college             2   \n",
       "14         0    1844.956182         56    bachelor's degree             0   \n",
       "15         1     972.364419         26  secondary education             1   \n",
       "16         0    1719.934226         35  secondary education             1   \n",
       "17         0    2369.999720         33    bachelor's degree             0   \n",
       "18         0  400281.136913         53  secondary education             1   \n",
       "19         0   10038.818549         48  secondary education             1   \n",
       "20         1    1311.604166         36  secondary education             1   \n",
       "21         1     253.685166         33  secondary education             1   \n",
       "22         1    1766.644138         24  secondary education             1   \n",
       "23         0     272.981385         21    bachelor's degree             0   \n",
       "24         1  338551.952911         57  secondary education             1   \n",
       "25         0  363548.489348         67  secondary education             1   \n",
       "26         0    2689.368353         41  secondary education             1   \n",
       "27         0     529.191635         28    bachelor's degree             0   \n",
       "28         1     717.274324         26    bachelor's degree             0   \n",
       "29         0  365213.306266         63  secondary education             1   \n",
       "\n",
       "        family_status  family_status_id gender    income_type  debt  \\\n",
       "0             married                 0      F       employee     0   \n",
       "1             married                 0      F       employee     0   \n",
       "2             married                 0      M       employee     0   \n",
       "3             married                 0      M       employee     0   \n",
       "4   civil partnership                 1      F        retiree     0   \n",
       "5   civil partnership                 1      M       business     0   \n",
       "6             married                 0      F       business     0   \n",
       "7             married                 0      M       employee     0   \n",
       "8   civil partnership                 1      F       employee     0   \n",
       "9             married                 0      M       employee     0   \n",
       "10            married                 0      M       business     0   \n",
       "11            married                 0      F       employee     0   \n",
       "12  civil partnership                 1      M        retiree     0   \n",
       "13            married                 0      F       employee     0   \n",
       "14  civil partnership                 1      F       business     1   \n",
       "15            married                 0      F       employee     0   \n",
       "16            married                 0      F       employee     0   \n",
       "17  civil partnership                 1      M       employee     0   \n",
       "18    widow / widower                 2      F        retiree     0   \n",
       "19           divorced                 3      F       employee     0   \n",
       "20            married                 0      M       employee     0   \n",
       "21  civil partnership                 1      F       employee     0   \n",
       "22  civil partnership                 1      F       employee     0   \n",
       "23  civil partnership                 1      M       employee     0   \n",
       "24          unmarried                 4      F        retiree     0   \n",
       "25            married                 0      M        retiree     0   \n",
       "26            married                 0      M  civil servant     0   \n",
       "27            married                 0      M       employee     0   \n",
       "28            married                 0      F       employee     0   \n",
       "29          unmarried                 4      F        retiree     0   \n",
       "\n",
       "    total_income                                   purpose categoria_de_edad  \n",
       "0      40620.102                     purchase of the house             40-49  \n",
       "1      17932.802                              car purchase             30-39  \n",
       "2      23341.752                     purchase of the house             30-39  \n",
       "3      42820.568                   supplementary education             30-39  \n",
       "4      25378.572                         to have a wedding             50-59  \n",
       "5      40922.170                     purchase of the house             19-29  \n",
       "6      38484.156                      housing transactions             40-49  \n",
       "7      21731.829                                 education             50-59  \n",
       "8      15337.093                          having a wedding             30-39  \n",
       "9      23108.150       purchase of the house for my family             40-49  \n",
       "10     18230.959                           buy real estate             30-39  \n",
       "11     12331.077                buy commercial real estate             40-49  \n",
       "12     19817.440                         to have a wedding             60-69  \n",
       "13     20873.317                              car purchase             50-59  \n",
       "14     26420.466               buy residential real estate             50-59  \n",
       "15     18691.345              construction of own property             19-29  \n",
       "16     46272.433                                  property             30-39  \n",
       "17     14465.694                       building a property             30-39  \n",
       "18      9091.804                  buying a second-hand car             50-59  \n",
       "19     38852.977                         buying my own car             40-49  \n",
       "20     33528.423                                  property             30-39  \n",
       "21     21089.953                              car purchase             30-39  \n",
       "22     23948.983                  buying a second-hand car             19-29  \n",
       "23     20522.515                         to have a wedding             19-29  \n",
       "24     46487.558  transactions with commercial real estate             50-59  \n",
       "25      8818.041                           buy real estate             60-69  \n",
       "26     24755.696                                 education             40-49  \n",
       "27     49415.837              construction of own property             19-29  \n",
       "28     30058.118              construction of own property             19-29  \n",
       "29     19817.440                    building a real estate             60-69  "
      ]
     },
     "execution_count": 92,
     "metadata": {},
     "output_type": "execute_result"
    }
   ],
   "source": [
    "df.head(30)"
   ]
  },
  {
   "cell_type": "markdown",
   "metadata": {},
   "source": [
    "<div class=\"alert alert-success\">\n",
    "<b>✔️ Comentario del revisor:</b>\n",
    "Aqui no olvides sobre head()\n",
    "\n",
    "</div>"
   ]
  },
  {
   "cell_type": "markdown",
   "metadata": {},
   "source": [
    "\n",
    "\n",
    "Finalmente comprobaremos el número total de valores en esta columna con el resto de las columnas del conjunto de datos sean iguales. "
   ]
  },
  {
   "cell_type": "code",
   "execution_count": 98,
   "metadata": {},
   "outputs": [
    {
     "name": "stdout",
     "output_type": "stream",
     "text": [
      "<class 'pandas.core.frame.DataFrame'>\n",
      "RangeIndex: 21454 entries, 0 to 21453\n",
      "Data columns (total 13 columns):\n",
      " #   Column             Non-Null Count  Dtype  \n",
      "---  ------             --------------  -----  \n",
      " 0   children           21454 non-null  int64  \n",
      " 1   days_employed      21454 non-null  float64\n",
      " 2   dob_years          21454 non-null  int64  \n",
      " 3   education          21454 non-null  object \n",
      " 4   education_id       21454 non-null  int64  \n",
      " 5   family_status      21454 non-null  object \n",
      " 6   family_status_id   21454 non-null  int64  \n",
      " 7   gender             21454 non-null  object \n",
      " 8   income_type        21454 non-null  object \n",
      " 9   debt               21454 non-null  int64  \n",
      " 10  total_income       21454 non-null  float64\n",
      " 11  purpose            21454 non-null  object \n",
      " 12  categoria_de_edad  21454 non-null  object \n",
      "dtypes: float64(2), int64(5), object(6)\n",
      "memory usage: 2.1+ MB\n"
     ]
    }
   ],
   "source": [
    "df.info()"
   ]
  },
  {
   "cell_type": "markdown",
   "metadata": {},
   "source": [
    "<div class=\"alert alert-success\">\n",
    "<b>✔️ Comentario del revisor:</b>\n",
    "\n",
    "Muy bien!\n",
    "</div>"
   ]
  },
  {
   "cell_type": "markdown",
   "metadata": {},
   "source": [
    "## Clasificación de datos\n",
    "\n"
   ]
  },
  {
   "cell_type": "markdown",
   "metadata": {},
   "source": [
    "En este capítulo abordaremos la clasificación de las caracterísiticas de los clientes que nos permitan hallar correlaciones para responder a las preguntas de las hipótesis. \n",
    "\n",
    "Como parte de este paso primero empezaremos con una clasificación categórica: el propósito de pedir el préstamo. Tal cual lo analizamos al inicio, contiene información escrita de diferente manera pero se pueden clasificar dentro de un mismo grupo que englobe el propósito en común. Por ejemplo 'to have a wedding' y 'have a wedding' significan lo mismo y serán clasificados dentro de la categoría: 'Wedding'. \n",
    "\n",
    "Como segundo paso también realizaremos una clasificación númerica: el total de ingresos de los clientes. Dado que a partir de nuestro análisis se tomarán en cuenta para crear una puntuación de crédito para un cliente potencial, es importante conocer el rango de clientes por estratificación económica: Bajo, Medio y Alto, y junto con otras características complementar nuestros hallazgos. \n"
   ]
  },
  {
   "cell_type": "markdown",
   "metadata": {},
   "source": [
    "Mostraremos la distribución de los valores de la columna 'purpose'"
   ]
  },
  {
   "cell_type": "code",
   "execution_count": 100,
   "metadata": {
    "scrolled": true
   },
   "outputs": [
    {
     "data": {
      "text/plain": [
       "wedding ceremony                            791\n",
       "having a wedding                            768\n",
       "to have a wedding                           765\n",
       "real estate transactions                    675\n",
       "buy commercial real estate                  661\n",
       "housing transactions                        652\n",
       "buying property for renting out             651\n",
       "transactions with commercial real estate    650\n",
       "purchase of the house                       646\n",
       "housing                                     646\n",
       "purchase of the house for my family         638\n",
       "construction of own property                635\n",
       "property                                    633\n",
       "transactions with my real estate            627\n",
       "building a real estate                      624\n",
       "buy real estate                             621\n",
       "purchase of my own house                    620\n",
       "building a property                         619\n",
       "housing renovation                          607\n",
       "buy residential real estate                 606\n",
       "buying my own car                           505\n",
       "going to university                         496\n",
       "car                                         494\n",
       "second-hand car purchase                    486\n",
       "to own a car                                478\n",
       "cars                                        478\n",
       "buying a second-hand car                    478\n",
       "to buy a car                                471\n",
       "car purchase                                461\n",
       "supplementary education                     460\n",
       "purchase of a car                           455\n",
       "university education                        452\n",
       "education                                   447\n",
       "to get a supplementary education            446\n",
       "getting an education                        442\n",
       "profile education                           436\n",
       "getting higher education                    426\n",
       "to become educated                          408\n",
       "Name: purpose, dtype: int64"
      ]
     },
     "execution_count": 100,
     "metadata": {},
     "output_type": "execute_result"
    }
   ],
   "source": [
    "\n",
    "pd.value_counts(df['purpose'])\n"
   ]
  },
  {
   "cell_type": "markdown",
   "metadata": {},
   "source": [
    "Dado que existen propósitos similares queremos saber cuántos valores únicos hay."
   ]
  },
  {
   "cell_type": "code",
   "execution_count": 101,
   "metadata": {},
   "outputs": [
    {
     "name": "stdout",
     "output_type": "stream",
     "text": [
      "38\n"
     ]
    }
   ],
   "source": [
    "\n",
    "print(len(df['purpose'].unique())) "
   ]
  },
  {
   "cell_type": "markdown",
   "metadata": {},
   "source": [
    "Se ha identificado 4 categorías generales y en común según los valores únicos. \n",
    "A continuación crearemos una función que clasifique de la siguiente manera: \n",
    "    1. Property -  clientes interesados en invertir en bienes raíces.\n",
    "    2. Car Purchase - clientes interesados en adquirir un vehículo.\n",
    "    3. Education - clientes interesados en estudiar. \n",
    "    4. Wedding - clientes interesados en realizar su boda. "
   ]
  },
  {
   "cell_type": "code",
   "execution_count": 102,
   "metadata": {},
   "outputs": [],
   "source": [
    "# Escribamos una función para clasificar los datos en función de temas comunes\n",
    "def clasificacion_proposito(row):\n",
    "    if row == 'building a property':\n",
    "        return 'Property'\n",
    "    if row == 'property':\n",
    "        return 'Property'\n",
    "    if row == 'building a real estate':\n",
    "        return 'Property'\n",
    "    if row == 'buy commercial real estate':\n",
    "        return 'Property'\n",
    "    if row == 'buy real estate':\n",
    "        return 'Property'   \n",
    "    if row == 'buy residential real estate':\n",
    "        return 'Property'   \n",
    "    if row == 'buying property for renting out':\n",
    "        return 'Property'  \n",
    "    if row == 'housing':\n",
    "        return 'Property'\n",
    "    if row == 'housing renovation':\n",
    "        return 'Property'\n",
    "    if row == 'housing transactions':\n",
    "        return 'Property'\n",
    "    if row == 'purchase of my own house':\n",
    "        return 'Property'   \n",
    "    if row == 'purchase of the house':\n",
    "        return 'Property'   \n",
    "    if row == 'purchase of the house for my family':\n",
    "        return 'Property'\n",
    "    if row == 'real estate transactions':\n",
    "        return 'Property'   \n",
    "    if row == 'transactions with commercial real estate':\n",
    "        return 'Property'   \n",
    "    if row == 'transactions with my real estate':\n",
    "        return 'Property'\n",
    "    if row == 'construction of own property':\n",
    "        return 'Property'       \n",
    "    \n",
    "           \n",
    "    if row == 'buying a second-hand car':\n",
    "        return 'Car purchase' \n",
    "    if row == 'car purchase':\n",
    "        return 'Car purchase'\n",
    "    if row == 'buying my own car':\n",
    "        return 'Car purchase'   \n",
    "    if row == 'car':\n",
    "        return 'Car purchase'\n",
    "    if row == 'cars':\n",
    "        return 'Car purchase'   \n",
    "    if row == 'purchase of a car':\n",
    "        return 'Car purchase'   \n",
    "    if row == 'second-hand car purchase':\n",
    "        return 'Car purchase'\n",
    "    if row == 'to buy a car':\n",
    "        return 'Car purchase'\n",
    "    if row == 'to own a car':\n",
    "        return 'Car purchase'\n",
    "        \n",
    "             \n",
    "    if row == 'getting an education':\n",
    "        return 'Education'\n",
    "    if row == 'education':\n",
    "        return 'Education'\n",
    "    if row == 'getting higher education':\n",
    "        return 'Education'   \n",
    "    if row == 'going to university':\n",
    "        return 'Education'   \n",
    "    if row == 'profile education':\n",
    "        return 'Education'   \n",
    "    if row == 'supplementary education':\n",
    "        return 'Education'   \n",
    "    if row == 'to become educated':\n",
    "        return 'Education'   \n",
    "    if row == 'to get a supplementary education':\n",
    "        return 'Education'   \n",
    "    if row == 'university education':\n",
    "        return 'Education' \n",
    "    \n",
    "    \n",
    "    if row == 'having a wedding':\n",
    "        return 'Wedding'\n",
    "    if row == 'to have a wedding':\n",
    "        return 'Wedding'\n",
    "    if row == 'wedding ceremony':\n",
    "        return 'Wedding'\n",
    "  \n",
    "     \n",
    "    return 'Sin clasificación'\n",
    "      \n",
    "    \n",
    "    "
   ]
  },
  {
   "cell_type": "markdown",
   "metadata": {},
   "source": [
    "<div class=\"alert alert-success\">\n",
    "<b>✔️ Comentario del revisor:</b>\n",
    "\n",
    "Aqui tambien puedes usar 'case'\n",
    "</div>"
   ]
  },
  {
   "cell_type": "markdown",
   "metadata": {},
   "source": [
    "Realizaremos una prueba con fila 0 y 4 del DataFrame y llamar a la función para ver si reemplaza el valor. "
   ]
  },
  {
   "cell_type": "code",
   "execution_count": 103,
   "metadata": {},
   "outputs": [
    {
     "data": {
      "text/plain": [
       "'Property'"
      ]
     },
     "execution_count": 103,
     "metadata": {},
     "output_type": "execute_result"
    }
   ],
   "source": [
    "clasificacion_proposito(df.loc[0,'purpose'])"
   ]
  },
  {
   "cell_type": "code",
   "execution_count": 104,
   "metadata": {},
   "outputs": [
    {
     "data": {
      "text/plain": [
       "'Wedding'"
      ]
     },
     "execution_count": 104,
     "metadata": {},
     "output_type": "execute_result"
    }
   ],
   "source": [
    "clasificacion_proposito(df.loc[4,'purpose'])"
   ]
  },
  {
   "cell_type": "markdown",
   "metadata": {},
   "source": [
    "Dado que se ejecutó como lo planemos, crearemos una columna adicional en el DataFrame con las categorías estandarizadas y le añadiremos a la columna ' purpose' la función que hemos creado."
   ]
  },
  {
   "cell_type": "code",
   "execution_count": 105,
   "metadata": {},
   "outputs": [],
   "source": [
    "df['Clasificación_propósito'] = df['purpose'].apply(clasificacion_proposito)"
   ]
  },
  {
   "cell_type": "markdown",
   "metadata": {},
   "source": [
    "A continuación contaremos los valores de la columna nueva para ver su distribución."
   ]
  },
  {
   "cell_type": "code",
   "execution_count": 106,
   "metadata": {},
   "outputs": [
    {
     "data": {
      "text/plain": [
       "Property        10811\n",
       "Car purchase     4306\n",
       "Education        4013\n",
       "Wedding          2324\n",
       "Name: Clasificación_propósito, dtype: int64"
      ]
     },
     "execution_count": 106,
     "metadata": {},
     "output_type": "execute_result"
    }
   ],
   "source": [
    "df['Clasificación_propósito'].value_counts()"
   ]
  },
  {
   "cell_type": "markdown",
   "metadata": {},
   "source": [
    "Finalmente para tener un objeto visual, llamaremos a nuestro DataFrame para comprobar que en efecto se encuentre la nueva columna agrupada. "
   ]
  },
  {
   "cell_type": "code",
   "execution_count": 107,
   "metadata": {},
   "outputs": [
    {
     "data": {
      "text/html": [
       "<div>\n",
       "<style scoped>\n",
       "    .dataframe tbody tr th:only-of-type {\n",
       "        vertical-align: middle;\n",
       "    }\n",
       "\n",
       "    .dataframe tbody tr th {\n",
       "        vertical-align: top;\n",
       "    }\n",
       "\n",
       "    .dataframe thead th {\n",
       "        text-align: right;\n",
       "    }\n",
       "</style>\n",
       "<table border=\"1\" class=\"dataframe\">\n",
       "  <thead>\n",
       "    <tr style=\"text-align: right;\">\n",
       "      <th></th>\n",
       "      <th>children</th>\n",
       "      <th>days_employed</th>\n",
       "      <th>dob_years</th>\n",
       "      <th>education</th>\n",
       "      <th>education_id</th>\n",
       "      <th>family_status</th>\n",
       "      <th>family_status_id</th>\n",
       "      <th>gender</th>\n",
       "      <th>income_type</th>\n",
       "      <th>debt</th>\n",
       "      <th>total_income</th>\n",
       "      <th>purpose</th>\n",
       "      <th>categoria_de_edad</th>\n",
       "      <th>Clasificación_propósito</th>\n",
       "    </tr>\n",
       "  </thead>\n",
       "  <tbody>\n",
       "    <tr>\n",
       "      <th>0</th>\n",
       "      <td>1</td>\n",
       "      <td>8437.673028</td>\n",
       "      <td>42</td>\n",
       "      <td>bachelor's degree</td>\n",
       "      <td>0</td>\n",
       "      <td>married</td>\n",
       "      <td>0</td>\n",
       "      <td>F</td>\n",
       "      <td>employee</td>\n",
       "      <td>0</td>\n",
       "      <td>40620.102</td>\n",
       "      <td>purchase of the house</td>\n",
       "      <td>40-49</td>\n",
       "      <td>Property</td>\n",
       "    </tr>\n",
       "    <tr>\n",
       "      <th>1</th>\n",
       "      <td>1</td>\n",
       "      <td>4024.803754</td>\n",
       "      <td>36</td>\n",
       "      <td>secondary education</td>\n",
       "      <td>1</td>\n",
       "      <td>married</td>\n",
       "      <td>0</td>\n",
       "      <td>F</td>\n",
       "      <td>employee</td>\n",
       "      <td>0</td>\n",
       "      <td>17932.802</td>\n",
       "      <td>car purchase</td>\n",
       "      <td>30-39</td>\n",
       "      <td>Car purchase</td>\n",
       "    </tr>\n",
       "    <tr>\n",
       "      <th>2</th>\n",
       "      <td>0</td>\n",
       "      <td>5623.422610</td>\n",
       "      <td>33</td>\n",
       "      <td>secondary education</td>\n",
       "      <td>1</td>\n",
       "      <td>married</td>\n",
       "      <td>0</td>\n",
       "      <td>M</td>\n",
       "      <td>employee</td>\n",
       "      <td>0</td>\n",
       "      <td>23341.752</td>\n",
       "      <td>purchase of the house</td>\n",
       "      <td>30-39</td>\n",
       "      <td>Property</td>\n",
       "    </tr>\n",
       "    <tr>\n",
       "      <th>3</th>\n",
       "      <td>3</td>\n",
       "      <td>4124.747207</td>\n",
       "      <td>32</td>\n",
       "      <td>secondary education</td>\n",
       "      <td>1</td>\n",
       "      <td>married</td>\n",
       "      <td>0</td>\n",
       "      <td>M</td>\n",
       "      <td>employee</td>\n",
       "      <td>0</td>\n",
       "      <td>42820.568</td>\n",
       "      <td>supplementary education</td>\n",
       "      <td>30-39</td>\n",
       "      <td>Education</td>\n",
       "    </tr>\n",
       "    <tr>\n",
       "      <th>4</th>\n",
       "      <td>0</td>\n",
       "      <td>340266.072047</td>\n",
       "      <td>53</td>\n",
       "      <td>secondary education</td>\n",
       "      <td>1</td>\n",
       "      <td>civil partnership</td>\n",
       "      <td>1</td>\n",
       "      <td>F</td>\n",
       "      <td>retiree</td>\n",
       "      <td>0</td>\n",
       "      <td>25378.572</td>\n",
       "      <td>to have a wedding</td>\n",
       "      <td>50-59</td>\n",
       "      <td>Wedding</td>\n",
       "    </tr>\n",
       "    <tr>\n",
       "      <th>...</th>\n",
       "      <td>...</td>\n",
       "      <td>...</td>\n",
       "      <td>...</td>\n",
       "      <td>...</td>\n",
       "      <td>...</td>\n",
       "      <td>...</td>\n",
       "      <td>...</td>\n",
       "      <td>...</td>\n",
       "      <td>...</td>\n",
       "      <td>...</td>\n",
       "      <td>...</td>\n",
       "      <td>...</td>\n",
       "      <td>...</td>\n",
       "      <td>...</td>\n",
       "    </tr>\n",
       "    <tr>\n",
       "      <th>21449</th>\n",
       "      <td>1</td>\n",
       "      <td>4529.316663</td>\n",
       "      <td>43</td>\n",
       "      <td>secondary education</td>\n",
       "      <td>1</td>\n",
       "      <td>civil partnership</td>\n",
       "      <td>1</td>\n",
       "      <td>F</td>\n",
       "      <td>business</td>\n",
       "      <td>0</td>\n",
       "      <td>35966.698</td>\n",
       "      <td>housing transactions</td>\n",
       "      <td>40-49</td>\n",
       "      <td>Property</td>\n",
       "    </tr>\n",
       "    <tr>\n",
       "      <th>21450</th>\n",
       "      <td>0</td>\n",
       "      <td>343937.404131</td>\n",
       "      <td>67</td>\n",
       "      <td>secondary education</td>\n",
       "      <td>1</td>\n",
       "      <td>married</td>\n",
       "      <td>0</td>\n",
       "      <td>F</td>\n",
       "      <td>retiree</td>\n",
       "      <td>0</td>\n",
       "      <td>24959.969</td>\n",
       "      <td>purchase of a car</td>\n",
       "      <td>60-69</td>\n",
       "      <td>Car purchase</td>\n",
       "    </tr>\n",
       "    <tr>\n",
       "      <th>21451</th>\n",
       "      <td>1</td>\n",
       "      <td>2113.346888</td>\n",
       "      <td>38</td>\n",
       "      <td>secondary education</td>\n",
       "      <td>1</td>\n",
       "      <td>civil partnership</td>\n",
       "      <td>1</td>\n",
       "      <td>M</td>\n",
       "      <td>employee</td>\n",
       "      <td>1</td>\n",
       "      <td>14347.610</td>\n",
       "      <td>property</td>\n",
       "      <td>30-39</td>\n",
       "      <td>Property</td>\n",
       "    </tr>\n",
       "    <tr>\n",
       "      <th>21452</th>\n",
       "      <td>3</td>\n",
       "      <td>3112.481705</td>\n",
       "      <td>38</td>\n",
       "      <td>secondary education</td>\n",
       "      <td>1</td>\n",
       "      <td>married</td>\n",
       "      <td>0</td>\n",
       "      <td>M</td>\n",
       "      <td>employee</td>\n",
       "      <td>1</td>\n",
       "      <td>39054.888</td>\n",
       "      <td>buying my own car</td>\n",
       "      <td>30-39</td>\n",
       "      <td>Car purchase</td>\n",
       "    </tr>\n",
       "    <tr>\n",
       "      <th>21453</th>\n",
       "      <td>2</td>\n",
       "      <td>1984.507589</td>\n",
       "      <td>40</td>\n",
       "      <td>secondary education</td>\n",
       "      <td>1</td>\n",
       "      <td>married</td>\n",
       "      <td>0</td>\n",
       "      <td>F</td>\n",
       "      <td>employee</td>\n",
       "      <td>0</td>\n",
       "      <td>13127.587</td>\n",
       "      <td>to buy a car</td>\n",
       "      <td>40-49</td>\n",
       "      <td>Car purchase</td>\n",
       "    </tr>\n",
       "  </tbody>\n",
       "</table>\n",
       "<p>21454 rows × 14 columns</p>\n",
       "</div>"
      ],
      "text/plain": [
       "       children  days_employed  dob_years            education  education_id  \\\n",
       "0             1    8437.673028         42    bachelor's degree             0   \n",
       "1             1    4024.803754         36  secondary education             1   \n",
       "2             0    5623.422610         33  secondary education             1   \n",
       "3             3    4124.747207         32  secondary education             1   \n",
       "4             0  340266.072047         53  secondary education             1   \n",
       "...         ...            ...        ...                  ...           ...   \n",
       "21449         1    4529.316663         43  secondary education             1   \n",
       "21450         0  343937.404131         67  secondary education             1   \n",
       "21451         1    2113.346888         38  secondary education             1   \n",
       "21452         3    3112.481705         38  secondary education             1   \n",
       "21453         2    1984.507589         40  secondary education             1   \n",
       "\n",
       "           family_status  family_status_id gender income_type  debt  \\\n",
       "0                married                 0      F    employee     0   \n",
       "1                married                 0      F    employee     0   \n",
       "2                married                 0      M    employee     0   \n",
       "3                married                 0      M    employee     0   \n",
       "4      civil partnership                 1      F     retiree     0   \n",
       "...                  ...               ...    ...         ...   ...   \n",
       "21449  civil partnership                 1      F    business     0   \n",
       "21450            married                 0      F     retiree     0   \n",
       "21451  civil partnership                 1      M    employee     1   \n",
       "21452            married                 0      M    employee     1   \n",
       "21453            married                 0      F    employee     0   \n",
       "\n",
       "       total_income                  purpose categoria_de_edad  \\\n",
       "0         40620.102    purchase of the house             40-49   \n",
       "1         17932.802             car purchase             30-39   \n",
       "2         23341.752    purchase of the house             30-39   \n",
       "3         42820.568  supplementary education             30-39   \n",
       "4         25378.572        to have a wedding             50-59   \n",
       "...             ...                      ...               ...   \n",
       "21449     35966.698     housing transactions             40-49   \n",
       "21450     24959.969        purchase of a car             60-69   \n",
       "21451     14347.610                 property             30-39   \n",
       "21452     39054.888        buying my own car             30-39   \n",
       "21453     13127.587             to buy a car             40-49   \n",
       "\n",
       "      Clasificación_propósito  \n",
       "0                    Property  \n",
       "1                Car purchase  \n",
       "2                    Property  \n",
       "3                   Education  \n",
       "4                     Wedding  \n",
       "...                       ...  \n",
       "21449                Property  \n",
       "21450            Car purchase  \n",
       "21451                Property  \n",
       "21452            Car purchase  \n",
       "21453            Car purchase  \n",
       "\n",
       "[21454 rows x 14 columns]"
      ]
     },
     "execution_count": 107,
     "metadata": {},
     "output_type": "execute_result"
    }
   ],
   "source": [
    "df\n"
   ]
  },
  {
   "cell_type": "markdown",
   "metadata": {},
   "source": [
    "<div class=\"alert alert-success\">\n",
    "<b>✔️ Comentario del revisor:</b>\n",
    "\n",
    "Buen trabajo.\n",
    "</div>"
   ]
  },
  {
   "cell_type": "markdown",
   "metadata": {},
   "source": [
    "Pasando a nuestro segundo grupo de clasificación, revisaremos los datos númericos de la columna de ingresos totales."
   ]
  },
  {
   "cell_type": "code",
   "execution_count": 108,
   "metadata": {},
   "outputs": [
    {
     "data": {
      "text/plain": [
       "24667.5280    554\n",
       "24755.6960    531\n",
       "22203.0745    479\n",
       "22742.6535    296\n",
       "19817.4400    237\n",
       "             ... \n",
       "45484.1090      1\n",
       "27715.4580      1\n",
       "23834.5340      1\n",
       "26124.6130      1\n",
       "41428.9160      1\n",
       "Name: total_income, Length: 19351, dtype: int64"
      ]
     },
     "execution_count": 108,
     "metadata": {},
     "output_type": "execute_result"
    }
   ],
   "source": [
    "pd.value_counts(df['total_income'])"
   ]
  },
  {
   "cell_type": "markdown",
   "metadata": {},
   "source": [
    "Obtendremos las estadísticas resumidas para el ingreso total a través del método de describe()"
   ]
  },
  {
   "cell_type": "code",
   "execution_count": 109,
   "metadata": {},
   "outputs": [
    {
     "data": {
      "text/plain": [
       "count     21454.000000\n",
       "mean      26444.517245\n",
       "std       15690.391004\n",
       "min        3306.762000\n",
       "25%       17219.817250\n",
       "50%       23239.627500\n",
       "75%       31330.237250\n",
       "max      362496.645000\n",
       "Name: total_income, dtype: float64"
      ]
     },
     "execution_count": 109,
     "metadata": {},
     "output_type": "execute_result"
    }
   ],
   "source": [
    "\n",
    "\n",
    "df['total_income'].describe()"
   ]
  },
  {
   "cell_type": "markdown",
   "metadata": {},
   "source": [
    "A través de las estadísticas de la columna podemos observar con los cuartiles que valor del ingreso se encuentra agrupado entre el 25%, 50% y 75% del total de datos. Para observar gráficamente la distribución de los estadísticos utilizaremos la librería matplotlib.  "
   ]
  },
  {
   "cell_type": "code",
   "execution_count": 110,
   "metadata": {},
   "outputs": [
    {
     "data": {
      "image/png": "[encoded data removed]",
      "text/plain": [
       "<Figure size 720x504 with 1 Axes>"
      ]
     },
     "metadata": {
      "needs_background": "light"
     },
     "output_type": "display_data"
    }
   ],
   "source": [
    "import matplotlib.pyplot as plt\n",
    "import numpy as np\n",
    "np.random.seed(10)\n",
    "data=np.random.normal(23228,3306,362496)\n",
    "fig=plt.figure(figsize=(10,7))\n",
    "plt.boxplot(data)\n",
    "plt.show()"
   ]
  },
  {
   "cell_type": "markdown",
   "metadata": {},
   "source": [
    "Como podemos observar en el gráfico, tenemos datos atípicos tanto de ingreso mínimo como máximo. \n",
    "No existe una gran brecha entre la media y la mediana de los ingresos totales. Por tal motivo los clientes se clasificarán de acuerdo a su ingreso de la siguente manera: \n",
    "1. Bajo: clientes  por debajo del Q1, aproximadamente 21.0000\n",
    "2. Medio: clientes por ensima de la mediana pero debajo de los 30.000\n",
    "3. Alto: clientes por ensima de los 30.000\n"
   ]
  },
  {
   "cell_type": "code",
   "execution_count": 111,
   "metadata": {},
   "outputs": [],
   "source": [
    "\n",
    "\n",
    "def grupo_ingreso(ingreso):\n",
    "    if ingreso <= 21000:\n",
    "        return 'Bajo'\n",
    "    if ingreso <= 30000:\n",
    "        return 'Medio'\n",
    "    return 'Alto'"
   ]
  },
  {
   "cell_type": "markdown",
   "metadata": {},
   "source": [
    "<div class=\"alert alert-success\">\n",
    "<b>✔️ Comentario del revisor:</b>\n",
    "\n",
    "Funciona correcto!\n",
    "</div>"
   ]
  },
  {
   "cell_type": "markdown",
   "metadata": {},
   "source": [
    "Realizaremos una comprobación al azar de los resultados de la función. Primero con la fila 22 y después verifiando que clasificación de nivel otorgorá la función si los ingresos de un cliente son 12.000"
   ]
  },
  {
   "cell_type": "code",
   "execution_count": 112,
   "metadata": {},
   "outputs": [
    {
     "data": {
      "text/plain": [
       "'Medio'"
      ]
     },
     "execution_count": 112,
     "metadata": {},
     "output_type": "execute_result"
    }
   ],
   "source": [
    "grupo_ingreso(df.loc[22,'total_income'])"
   ]
  },
  {
   "cell_type": "code",
   "execution_count": 113,
   "metadata": {},
   "outputs": [
    {
     "name": "stdout",
     "output_type": "stream",
     "text": [
      "Bajo\n"
     ]
    }
   ],
   "source": [
    "print(grupo_ingreso(12000))"
   ]
  },
  {
   "cell_type": "markdown",
   "metadata": {},
   "source": [
    "Los resultados son acordes a los rangos establecidos, por lo que crearemos una nueva columna con estas categorías de ingreso con el nombre: Nivel_ingreso"
   ]
  },
  {
   "cell_type": "code",
   "execution_count": 114,
   "metadata": {},
   "outputs": [
    {
     "data": {
      "text/plain": [
       "0         Alto\n",
       "1         Bajo\n",
       "2        Medio\n",
       "3         Alto\n",
       "4        Medio\n",
       "         ...  \n",
       "21449     Alto\n",
       "21450    Medio\n",
       "21451     Bajo\n",
       "21452     Alto\n",
       "21453     Bajo\n",
       "Name: Nivel_ingreso, Length: 21454, dtype: object"
      ]
     },
     "execution_count": 114,
     "metadata": {},
     "output_type": "execute_result"
    }
   ],
   "source": [
    "\n",
    "df['Nivel_ingreso']= df['total_income'].apply(grupo_ingreso)\n",
    "df['Nivel_ingreso']"
   ]
  },
  {
   "cell_type": "markdown",
   "metadata": {},
   "source": [
    "A continuación contaremos como estan distribuidos los niveles de ingreso del total de clientes. "
   ]
  },
  {
   "cell_type": "code",
   "execution_count": 116,
   "metadata": {
    "scrolled": true
   },
   "outputs": [
    {
     "data": {
      "text/plain": [
       "Bajo     8330\n",
       "Medio    7205\n",
       "Alto     5919\n",
       "Name: Nivel_ingreso, dtype: int64"
      ]
     },
     "execution_count": 116,
     "metadata": {},
     "output_type": "execute_result"
    }
   ],
   "source": [
    "\n",
    "df['Nivel_ingreso'].value_counts()"
   ]
  },
  {
   "cell_type": "markdown",
   "metadata": {},
   "source": [
    "Para concluir mostraremos el DataFrame con la incusión de las 2 columnas que han sido ya clasificados según los parámetros establcidos, de esta forma permite tener una idea más visual de que variables podemos agrupar para responder las preguntas de hipótesis."
   ]
  },
  {
   "cell_type": "code",
   "execution_count": 117,
   "metadata": {},
   "outputs": [
    {
     "data": {
      "text/html": [
       "<div>\n",
       "<style scoped>\n",
       "    .dataframe tbody tr th:only-of-type {\n",
       "        vertical-align: middle;\n",
       "    }\n",
       "\n",
       "    .dataframe tbody tr th {\n",
       "        vertical-align: top;\n",
       "    }\n",
       "\n",
       "    .dataframe thead th {\n",
       "        text-align: right;\n",
       "    }\n",
       "</style>\n",
       "<table border=\"1\" class=\"dataframe\">\n",
       "  <thead>\n",
       "    <tr style=\"text-align: right;\">\n",
       "      <th></th>\n",
       "      <th>children</th>\n",
       "      <th>days_employed</th>\n",
       "      <th>dob_years</th>\n",
       "      <th>education</th>\n",
       "      <th>education_id</th>\n",
       "      <th>family_status</th>\n",
       "      <th>family_status_id</th>\n",
       "      <th>gender</th>\n",
       "      <th>income_type</th>\n",
       "      <th>debt</th>\n",
       "      <th>total_income</th>\n",
       "      <th>purpose</th>\n",
       "      <th>categoria_de_edad</th>\n",
       "      <th>Clasificación_propósito</th>\n",
       "      <th>Nivel_ingreso</th>\n",
       "    </tr>\n",
       "  </thead>\n",
       "  <tbody>\n",
       "    <tr>\n",
       "      <th>0</th>\n",
       "      <td>1</td>\n",
       "      <td>8437.673028</td>\n",
       "      <td>42</td>\n",
       "      <td>bachelor's degree</td>\n",
       "      <td>0</td>\n",
       "      <td>married</td>\n",
       "      <td>0</td>\n",
       "      <td>F</td>\n",
       "      <td>employee</td>\n",
       "      <td>0</td>\n",
       "      <td>40620.102</td>\n",
       "      <td>purchase of the house</td>\n",
       "      <td>40-49</td>\n",
       "      <td>Property</td>\n",
       "      <td>Alto</td>\n",
       "    </tr>\n",
       "    <tr>\n",
       "      <th>1</th>\n",
       "      <td>1</td>\n",
       "      <td>4024.803754</td>\n",
       "      <td>36</td>\n",
       "      <td>secondary education</td>\n",
       "      <td>1</td>\n",
       "      <td>married</td>\n",
       "      <td>0</td>\n",
       "      <td>F</td>\n",
       "      <td>employee</td>\n",
       "      <td>0</td>\n",
       "      <td>17932.802</td>\n",
       "      <td>car purchase</td>\n",
       "      <td>30-39</td>\n",
       "      <td>Car purchase</td>\n",
       "      <td>Bajo</td>\n",
       "    </tr>\n",
       "    <tr>\n",
       "      <th>2</th>\n",
       "      <td>0</td>\n",
       "      <td>5623.422610</td>\n",
       "      <td>33</td>\n",
       "      <td>secondary education</td>\n",
       "      <td>1</td>\n",
       "      <td>married</td>\n",
       "      <td>0</td>\n",
       "      <td>M</td>\n",
       "      <td>employee</td>\n",
       "      <td>0</td>\n",
       "      <td>23341.752</td>\n",
       "      <td>purchase of the house</td>\n",
       "      <td>30-39</td>\n",
       "      <td>Property</td>\n",
       "      <td>Medio</td>\n",
       "    </tr>\n",
       "    <tr>\n",
       "      <th>3</th>\n",
       "      <td>3</td>\n",
       "      <td>4124.747207</td>\n",
       "      <td>32</td>\n",
       "      <td>secondary education</td>\n",
       "      <td>1</td>\n",
       "      <td>married</td>\n",
       "      <td>0</td>\n",
       "      <td>M</td>\n",
       "      <td>employee</td>\n",
       "      <td>0</td>\n",
       "      <td>42820.568</td>\n",
       "      <td>supplementary education</td>\n",
       "      <td>30-39</td>\n",
       "      <td>Education</td>\n",
       "      <td>Alto</td>\n",
       "    </tr>\n",
       "    <tr>\n",
       "      <th>4</th>\n",
       "      <td>0</td>\n",
       "      <td>340266.072047</td>\n",
       "      <td>53</td>\n",
       "      <td>secondary education</td>\n",
       "      <td>1</td>\n",
       "      <td>civil partnership</td>\n",
       "      <td>1</td>\n",
       "      <td>F</td>\n",
       "      <td>retiree</td>\n",
       "      <td>0</td>\n",
       "      <td>25378.572</td>\n",
       "      <td>to have a wedding</td>\n",
       "      <td>50-59</td>\n",
       "      <td>Wedding</td>\n",
       "      <td>Medio</td>\n",
       "    </tr>\n",
       "    <tr>\n",
       "      <th>...</th>\n",
       "      <td>...</td>\n",
       "      <td>...</td>\n",
       "      <td>...</td>\n",
       "      <td>...</td>\n",
       "      <td>...</td>\n",
       "      <td>...</td>\n",
       "      <td>...</td>\n",
       "      <td>...</td>\n",
       "      <td>...</td>\n",
       "      <td>...</td>\n",
       "      <td>...</td>\n",
       "      <td>...</td>\n",
       "      <td>...</td>\n",
       "      <td>...</td>\n",
       "      <td>...</td>\n",
       "    </tr>\n",
       "    <tr>\n",
       "      <th>21449</th>\n",
       "      <td>1</td>\n",
       "      <td>4529.316663</td>\n",
       "      <td>43</td>\n",
       "      <td>secondary education</td>\n",
       "      <td>1</td>\n",
       "      <td>civil partnership</td>\n",
       "      <td>1</td>\n",
       "      <td>F</td>\n",
       "      <td>business</td>\n",
       "      <td>0</td>\n",
       "      <td>35966.698</td>\n",
       "      <td>housing transactions</td>\n",
       "      <td>40-49</td>\n",
       "      <td>Property</td>\n",
       "      <td>Alto</td>\n",
       "    </tr>\n",
       "    <tr>\n",
       "      <th>21450</th>\n",
       "      <td>0</td>\n",
       "      <td>343937.404131</td>\n",
       "      <td>67</td>\n",
       "      <td>secondary education</td>\n",
       "      <td>1</td>\n",
       "      <td>married</td>\n",
       "      <td>0</td>\n",
       "      <td>F</td>\n",
       "      <td>retiree</td>\n",
       "      <td>0</td>\n",
       "      <td>24959.969</td>\n",
       "      <td>purchase of a car</td>\n",
       "      <td>60-69</td>\n",
       "      <td>Car purchase</td>\n",
       "      <td>Medio</td>\n",
       "    </tr>\n",
       "    <tr>\n",
       "      <th>21451</th>\n",
       "      <td>1</td>\n",
       "      <td>2113.346888</td>\n",
       "      <td>38</td>\n",
       "      <td>secondary education</td>\n",
       "      <td>1</td>\n",
       "      <td>civil partnership</td>\n",
       "      <td>1</td>\n",
       "      <td>M</td>\n",
       "      <td>employee</td>\n",
       "      <td>1</td>\n",
       "      <td>14347.610</td>\n",
       "      <td>property</td>\n",
       "      <td>30-39</td>\n",
       "      <td>Property</td>\n",
       "      <td>Bajo</td>\n",
       "    </tr>\n",
       "    <tr>\n",
       "      <th>21452</th>\n",
       "      <td>3</td>\n",
       "      <td>3112.481705</td>\n",
       "      <td>38</td>\n",
       "      <td>secondary education</td>\n",
       "      <td>1</td>\n",
       "      <td>married</td>\n",
       "      <td>0</td>\n",
       "      <td>M</td>\n",
       "      <td>employee</td>\n",
       "      <td>1</td>\n",
       "      <td>39054.888</td>\n",
       "      <td>buying my own car</td>\n",
       "      <td>30-39</td>\n",
       "      <td>Car purchase</td>\n",
       "      <td>Alto</td>\n",
       "    </tr>\n",
       "    <tr>\n",
       "      <th>21453</th>\n",
       "      <td>2</td>\n",
       "      <td>1984.507589</td>\n",
       "      <td>40</td>\n",
       "      <td>secondary education</td>\n",
       "      <td>1</td>\n",
       "      <td>married</td>\n",
       "      <td>0</td>\n",
       "      <td>F</td>\n",
       "      <td>employee</td>\n",
       "      <td>0</td>\n",
       "      <td>13127.587</td>\n",
       "      <td>to buy a car</td>\n",
       "      <td>40-49</td>\n",
       "      <td>Car purchase</td>\n",
       "      <td>Bajo</td>\n",
       "    </tr>\n",
       "  </tbody>\n",
       "</table>\n",
       "<p>21454 rows × 15 columns</p>\n",
       "</div>"
      ],
      "text/plain": [
       "       children  days_employed  dob_years            education  education_id  \\\n",
       "0             1    8437.673028         42    bachelor's degree             0   \n",
       "1             1    4024.803754         36  secondary education             1   \n",
       "2             0    5623.422610         33  secondary education             1   \n",
       "3             3    4124.747207         32  secondary education             1   \n",
       "4             0  340266.072047         53  secondary education             1   \n",
       "...         ...            ...        ...                  ...           ...   \n",
       "21449         1    4529.316663         43  secondary education             1   \n",
       "21450         0  343937.404131         67  secondary education             1   \n",
       "21451         1    2113.346888         38  secondary education             1   \n",
       "21452         3    3112.481705         38  secondary education             1   \n",
       "21453         2    1984.507589         40  secondary education             1   \n",
       "\n",
       "           family_status  family_status_id gender income_type  debt  \\\n",
       "0                married                 0      F    employee     0   \n",
       "1                married                 0      F    employee     0   \n",
       "2                married                 0      M    employee     0   \n",
       "3                married                 0      M    employee     0   \n",
       "4      civil partnership                 1      F     retiree     0   \n",
       "...                  ...               ...    ...         ...   ...   \n",
       "21449  civil partnership                 1      F    business     0   \n",
       "21450            married                 0      F     retiree     0   \n",
       "21451  civil partnership                 1      M    employee     1   \n",
       "21452            married                 0      M    employee     1   \n",
       "21453            married                 0      F    employee     0   \n",
       "\n",
       "       total_income                  purpose categoria_de_edad  \\\n",
       "0         40620.102    purchase of the house             40-49   \n",
       "1         17932.802             car purchase             30-39   \n",
       "2         23341.752    purchase of the house             30-39   \n",
       "3         42820.568  supplementary education             30-39   \n",
       "4         25378.572        to have a wedding             50-59   \n",
       "...             ...                      ...               ...   \n",
       "21449     35966.698     housing transactions             40-49   \n",
       "21450     24959.969        purchase of a car             60-69   \n",
       "21451     14347.610                 property             30-39   \n",
       "21452     39054.888        buying my own car             30-39   \n",
       "21453     13127.587             to buy a car             40-49   \n",
       "\n",
       "      Clasificación_propósito Nivel_ingreso  \n",
       "0                    Property          Alto  \n",
       "1                Car purchase          Bajo  \n",
       "2                    Property         Medio  \n",
       "3                   Education          Alto  \n",
       "4                     Wedding         Medio  \n",
       "...                       ...           ...  \n",
       "21449                Property          Alto  \n",
       "21450            Car purchase         Medio  \n",
       "21451                Property          Bajo  \n",
       "21452            Car purchase          Alto  \n",
       "21453            Car purchase          Bajo  \n",
       "\n",
       "[21454 rows x 15 columns]"
      ]
     },
     "execution_count": 117,
     "metadata": {},
     "output_type": "execute_result"
    }
   ],
   "source": [
    "df"
   ]
  },
  {
   "cell_type": "markdown",
   "metadata": {},
   "source": [
    "## Comprobación de las hipótesis\n"
   ]
  },
  {
   "cell_type": "markdown",
   "metadata": {},
   "source": [
    "**¿Existe una correlación entre tener hijos y pagar a tiempo?**"
   ]
  },
  {
   "cell_type": "markdown",
   "metadata": {},
   "source": [
    "Para responder la primera hipótesis, agruparemos en una sola tabla para conocer la distribución del número de clientes con las 2 variables: número de hijos y si tienen deuda(1) y los que no (0)."
   ]
  },
  {
   "cell_type": "code",
   "execution_count": 118,
   "metadata": {},
   "outputs": [
    {
     "data": {
      "text/html": [
       "<div>\n",
       "<style scoped>\n",
       "    .dataframe tbody tr th:only-of-type {\n",
       "        vertical-align: middle;\n",
       "    }\n",
       "\n",
       "    .dataframe tbody tr th {\n",
       "        vertical-align: top;\n",
       "    }\n",
       "\n",
       "    .dataframe thead th {\n",
       "        text-align: right;\n",
       "    }\n",
       "</style>\n",
       "<table border=\"1\" class=\"dataframe\">\n",
       "  <thead>\n",
       "    <tr style=\"text-align: right;\">\n",
       "      <th>debt</th>\n",
       "      <th>0</th>\n",
       "      <th>1</th>\n",
       "      <th>All</th>\n",
       "    </tr>\n",
       "    <tr>\n",
       "      <th>children</th>\n",
       "      <th></th>\n",
       "      <th></th>\n",
       "      <th></th>\n",
       "    </tr>\n",
       "  </thead>\n",
       "  <tbody>\n",
       "    <tr>\n",
       "      <th>0</th>\n",
       "      <td>13142</td>\n",
       "      <td>1072</td>\n",
       "      <td>14214</td>\n",
       "    </tr>\n",
       "    <tr>\n",
       "      <th>1</th>\n",
       "      <td>4364</td>\n",
       "      <td>444</td>\n",
       "      <td>4808</td>\n",
       "    </tr>\n",
       "    <tr>\n",
       "      <th>2</th>\n",
       "      <td>1858</td>\n",
       "      <td>194</td>\n",
       "      <td>2052</td>\n",
       "    </tr>\n",
       "    <tr>\n",
       "      <th>3</th>\n",
       "      <td>303</td>\n",
       "      <td>27</td>\n",
       "      <td>330</td>\n",
       "    </tr>\n",
       "    <tr>\n",
       "      <th>4</th>\n",
       "      <td>37</td>\n",
       "      <td>4</td>\n",
       "      <td>41</td>\n",
       "    </tr>\n",
       "    <tr>\n",
       "      <th>5</th>\n",
       "      <td>9</td>\n",
       "      <td>0</td>\n",
       "      <td>9</td>\n",
       "    </tr>\n",
       "    <tr>\n",
       "      <th>All</th>\n",
       "      <td>19713</td>\n",
       "      <td>1741</td>\n",
       "      <td>21454</td>\n",
       "    </tr>\n",
       "  </tbody>\n",
       "</table>\n",
       "</div>"
      ],
      "text/plain": [
       "debt          0     1    All\n",
       "children                    \n",
       "0         13142  1072  14214\n",
       "1          4364   444   4808\n",
       "2          1858   194   2052\n",
       "3           303    27    330\n",
       "4            37     4     41\n",
       "5             9     0      9\n",
       "All       19713  1741  21454"
      ]
     },
     "execution_count": 118,
     "metadata": {},
     "output_type": "execute_result"
    }
   ],
   "source": [
    "pd.crosstab(index=df['children'],\n",
    "            columns=df['debt'], margins=True)"
   ]
  },
  {
   "cell_type": "markdown",
   "metadata": {},
   "source": [
    "<div class=\"alert alert-success\">\n",
    "<b>✔️ Comentario del revisor:</b>\n",
    "\n",
    "Bien.\n",
    "</div>"
   ]
  },
  {
   "cell_type": "markdown",
   "metadata": {},
   "source": [
    "De acuerdo a los resultados existen más clientes que no tienen hijos y que tampoco han tenido deudas en el pago de un préstamo. Este grupo de 13.142 clientes podrían ser considerados como potenciales, pero podemos complemetarlo con su nivel de ingresos, propósito de su préstamo y estado civil.\n",
    "\n"
   ]
  },
  {
   "cell_type": "markdown",
   "metadata": {},
   "source": [
    "Finalmente podemos observar en la siguiente tabla que responde a las tasas de pagar un préstamo a tiempo o no. \n",
    "\n",
    "Encontramos que un el 8.11% de los clientes que si han tenido una deuda en el pago de un préstamo tienen de 0 a 4 hijos. Adicional se puede analizar que la tasa de posible incumplimiento es mayor en el segmento de clientes que no tienen hijos, aproximadamente un 5% o 1072 clientes. La explicación se puede deber a que este segmento al no tener hijos pueden endeudarse más y también en periodos atrás quizá sus ingresos no eran lo suficientemente altos, pero ahora que piden el préstamo pudo haber cambiado su posición. \n",
    "\n",
    "El pago a tiempo del préstamo depende del número de hijos. Podemos observar que aproximadamente el 92% de los clientes que no tienen hijos podrían pagar a tiempo, pero con  2 hijos la probabildidad de pagar a tiempo se reduce a 89%.\n",
    "\n",
    "También se ha encontrado un comportamiento en común de los clientes, ha medida que tengan un mayor número de hijos son menos los que piden un préstamo. Ese compartamiento se puede justificar dado que sus gastos van a incrementar en función de sus hijos y reduce la capacidad de pago. \n",
    "\n"
   ]
  },
  {
   "cell_type": "code",
   "execution_count": 119,
   "metadata": {},
   "outputs": [
    {
     "data": {
      "text/html": [
       "<div>\n",
       "<style scoped>\n",
       "    .dataframe tbody tr th:only-of-type {\n",
       "        vertical-align: middle;\n",
       "    }\n",
       "\n",
       "    .dataframe tbody tr th {\n",
       "        vertical-align: top;\n",
       "    }\n",
       "\n",
       "    .dataframe thead th {\n",
       "        text-align: right;\n",
       "    }\n",
       "</style>\n",
       "<table border=\"1\" class=\"dataframe\">\n",
       "  <thead>\n",
       "    <tr style=\"text-align: right;\">\n",
       "      <th>debt</th>\n",
       "      <th>0</th>\n",
       "      <th>1</th>\n",
       "      <th>All</th>\n",
       "    </tr>\n",
       "    <tr>\n",
       "      <th>children</th>\n",
       "      <th></th>\n",
       "      <th></th>\n",
       "      <th></th>\n",
       "    </tr>\n",
       "  </thead>\n",
       "  <tbody>\n",
       "    <tr>\n",
       "      <th>0</th>\n",
       "      <td>61.256642</td>\n",
       "      <td>4.996737</td>\n",
       "      <td>66.253379</td>\n",
       "    </tr>\n",
       "    <tr>\n",
       "      <th>1</th>\n",
       "      <td>20.341195</td>\n",
       "      <td>2.069544</td>\n",
       "      <td>22.410739</td>\n",
       "    </tr>\n",
       "    <tr>\n",
       "      <th>2</th>\n",
       "      <td>8.660390</td>\n",
       "      <td>0.904260</td>\n",
       "      <td>9.564650</td>\n",
       "    </tr>\n",
       "    <tr>\n",
       "      <th>3</th>\n",
       "      <td>1.412324</td>\n",
       "      <td>0.125851</td>\n",
       "      <td>1.538175</td>\n",
       "    </tr>\n",
       "    <tr>\n",
       "      <th>4</th>\n",
       "      <td>0.172462</td>\n",
       "      <td>0.018645</td>\n",
       "      <td>0.191107</td>\n",
       "    </tr>\n",
       "    <tr>\n",
       "      <th>5</th>\n",
       "      <td>0.041950</td>\n",
       "      <td>0.000000</td>\n",
       "      <td>0.041950</td>\n",
       "    </tr>\n",
       "    <tr>\n",
       "      <th>All</th>\n",
       "      <td>91.884963</td>\n",
       "      <td>8.115037</td>\n",
       "      <td>100.000000</td>\n",
       "    </tr>\n",
       "  </tbody>\n",
       "</table>\n",
       "</div>"
      ],
      "text/plain": [
       "debt              0         1         All\n",
       "children                                 \n",
       "0         61.256642  4.996737   66.253379\n",
       "1         20.341195  2.069544   22.410739\n",
       "2          8.660390  0.904260    9.564650\n",
       "3          1.412324  0.125851    1.538175\n",
       "4          0.172462  0.018645    0.191107\n",
       "5          0.041950  0.000000    0.041950\n",
       "All       91.884963  8.115037  100.000000"
      ]
     },
     "execution_count": 119,
     "metadata": {},
     "output_type": "execute_result"
    }
   ],
   "source": [
    "pd.crosstab(index=df['children'],\n",
    "            columns=df['debt'], margins=True).apply(lambda r: r/len(df) *100,\n",
    "                                axis=1)"
   ]
  },
  {
   "cell_type": "code",
   "execution_count": 120,
   "metadata": {},
   "outputs": [
    {
     "data": {
      "text/html": [
       "<div>\n",
       "<style scoped>\n",
       "    .dataframe tbody tr th:only-of-type {\n",
       "        vertical-align: middle;\n",
       "    }\n",
       "\n",
       "    .dataframe tbody tr th {\n",
       "        vertical-align: top;\n",
       "    }\n",
       "\n",
       "    .dataframe thead th {\n",
       "        text-align: right;\n",
       "    }\n",
       "</style>\n",
       "<table border=\"1\" class=\"dataframe\">\n",
       "  <thead>\n",
       "    <tr style=\"text-align: right;\">\n",
       "      <th></th>\n",
       "      <th>Nivel_ingreso</th>\n",
       "      <th>Alto</th>\n",
       "      <th>Bajo</th>\n",
       "      <th>Medio</th>\n",
       "      <th>All</th>\n",
       "    </tr>\n",
       "    <tr>\n",
       "      <th>debt</th>\n",
       "      <th>children</th>\n",
       "      <th></th>\n",
       "      <th></th>\n",
       "      <th></th>\n",
       "      <th></th>\n",
       "    </tr>\n",
       "  </thead>\n",
       "  <tbody>\n",
       "    <tr>\n",
       "      <th rowspan=\"6\" valign=\"top\">0</th>\n",
       "      <th>0</th>\n",
       "      <td>16.677543</td>\n",
       "      <td>24.713340</td>\n",
       "      <td>19.865759</td>\n",
       "      <td>61.256642</td>\n",
       "    </tr>\n",
       "    <tr>\n",
       "      <th>1</th>\n",
       "      <td>5.910320</td>\n",
       "      <td>7.234082</td>\n",
       "      <td>7.196793</td>\n",
       "      <td>20.341195</td>\n",
       "    </tr>\n",
       "    <tr>\n",
       "      <th>2</th>\n",
       "      <td>2.456418</td>\n",
       "      <td>3.220845</td>\n",
       "      <td>2.983127</td>\n",
       "      <td>8.660390</td>\n",
       "    </tr>\n",
       "    <tr>\n",
       "      <th>3</th>\n",
       "      <td>0.466114</td>\n",
       "      <td>0.475436</td>\n",
       "      <td>0.470775</td>\n",
       "      <td>1.412324</td>\n",
       "    </tr>\n",
       "    <tr>\n",
       "      <th>4</th>\n",
       "      <td>0.027967</td>\n",
       "      <td>0.046611</td>\n",
       "      <td>0.097884</td>\n",
       "      <td>0.172462</td>\n",
       "    </tr>\n",
       "    <tr>\n",
       "      <th>5</th>\n",
       "      <td>0.018645</td>\n",
       "      <td>0.013983</td>\n",
       "      <td>0.009322</td>\n",
       "      <td>0.041950</td>\n",
       "    </tr>\n",
       "    <tr>\n",
       "      <th rowspan=\"5\" valign=\"top\">1</th>\n",
       "      <th>0</th>\n",
       "      <td>1.249184</td>\n",
       "      <td>1.962338</td>\n",
       "      <td>1.785215</td>\n",
       "      <td>4.996737</td>\n",
       "    </tr>\n",
       "    <tr>\n",
       "      <th>1</th>\n",
       "      <td>0.540692</td>\n",
       "      <td>0.736459</td>\n",
       "      <td>0.792393</td>\n",
       "      <td>2.069544</td>\n",
       "    </tr>\n",
       "    <tr>\n",
       "      <th>2</th>\n",
       "      <td>0.219073</td>\n",
       "      <td>0.372891</td>\n",
       "      <td>0.312296</td>\n",
       "      <td>0.904260</td>\n",
       "    </tr>\n",
       "    <tr>\n",
       "      <th>3</th>\n",
       "      <td>0.018645</td>\n",
       "      <td>0.046611</td>\n",
       "      <td>0.060595</td>\n",
       "      <td>0.125851</td>\n",
       "    </tr>\n",
       "    <tr>\n",
       "      <th>4</th>\n",
       "      <td>0.004661</td>\n",
       "      <td>0.004661</td>\n",
       "      <td>0.009322</td>\n",
       "      <td>0.018645</td>\n",
       "    </tr>\n",
       "    <tr>\n",
       "      <th>All</th>\n",
       "      <th></th>\n",
       "      <td>27.589261</td>\n",
       "      <td>38.827258</td>\n",
       "      <td>33.583481</td>\n",
       "      <td>100.000000</td>\n",
       "    </tr>\n",
       "  </tbody>\n",
       "</table>\n",
       "</div>"
      ],
      "text/plain": [
       "Nivel_ingreso       Alto       Bajo      Medio         All\n",
       "debt children                                             \n",
       "0    0         16.677543  24.713340  19.865759   61.256642\n",
       "     1          5.910320   7.234082   7.196793   20.341195\n",
       "     2          2.456418   3.220845   2.983127    8.660390\n",
       "     3          0.466114   0.475436   0.470775    1.412324\n",
       "     4          0.027967   0.046611   0.097884    0.172462\n",
       "     5          0.018645   0.013983   0.009322    0.041950\n",
       "1    0          1.249184   1.962338   1.785215    4.996737\n",
       "     1          0.540692   0.736459   0.792393    2.069544\n",
       "     2          0.219073   0.372891   0.312296    0.904260\n",
       "     3          0.018645   0.046611   0.060595    0.125851\n",
       "     4          0.004661   0.004661   0.009322    0.018645\n",
       "All            27.589261  38.827258  33.583481  100.000000"
      ]
     },
     "execution_count": 120,
     "metadata": {},
     "output_type": "execute_result"
    }
   ],
   "source": [
    "data_pivot_= df.pivot_table(index=['debt','children'], columns= 'Nivel_ingreso',values='gender',aggfunc='count',margins=True).apply(lambda r: r/len(df) *100,\n",
    "                                axis=1)\n",
    "\n",
    "data_pivot_"
   ]
  },
  {
   "cell_type": "markdown",
   "metadata": {},
   "source": [
    "**Conclusión**\n",
    "\n",
    "Finalmente podemos concluir: \n",
    "\n",
    "1. El número de clientes que piden un préstamo va a ir disminuyendo a medida que incremente su número de hijos, existe una relación inversa independientemente si tienen deuda o no.\n",
    "\n",
    "2. La tasa de cumplimiento a tiempo del pago de un préstamo va a ir disminuyendo a medida que aumente el número de hijos, existe un relación inversa entre ambas variables.\n",
    "\n",
    "3. El 61% del total de los clientes se encontrarían en tener más probabilidades de pagar a tiempo el préstamo porque no tienen hijos y tampoco tienen deudas. "
   ]
  },
  {
   "cell_type": "markdown",
   "metadata": {},
   "source": [
    "<div class=\"alert alert-success\">\n",
    "<b>✔️ Comentario del revisor:</b>\n",
    "\n",
    "Buen trabajo.\n",
    "</div>"
   ]
  },
  {
   "cell_type": "markdown",
   "metadata": {},
   "source": [
    "**¿Existe una correlación entre la situación familiar y el pago a tiempo?**"
   ]
  },
  {
   "cell_type": "markdown",
   "metadata": {},
   "source": [
    "Para responder la segunda hipótesis, agruparemos en una sola tabla las tasas para conocer si la situación familiar del cliente puede influir a que pague a tiempo su préstamo."
   ]
  },
  {
   "cell_type": "code",
   "execution_count": 121,
   "metadata": {},
   "outputs": [
    {
     "data": {
      "text/html": [
       "<div>\n",
       "<style scoped>\n",
       "    .dataframe tbody tr th:only-of-type {\n",
       "        vertical-align: middle;\n",
       "    }\n",
       "\n",
       "    .dataframe tbody tr th {\n",
       "        vertical-align: top;\n",
       "    }\n",
       "\n",
       "    .dataframe thead th {\n",
       "        text-align: right;\n",
       "    }\n",
       "</style>\n",
       "<table border=\"1\" class=\"dataframe\">\n",
       "  <thead>\n",
       "    <tr style=\"text-align: right;\">\n",
       "      <th>debt</th>\n",
       "      <th>0</th>\n",
       "      <th>1</th>\n",
       "      <th>All</th>\n",
       "    </tr>\n",
       "    <tr>\n",
       "      <th>family_status</th>\n",
       "      <th></th>\n",
       "      <th></th>\n",
       "      <th></th>\n",
       "    </tr>\n",
       "  </thead>\n",
       "  <tbody>\n",
       "    <tr>\n",
       "      <th>civil partnership</th>\n",
       "      <td>17.539853</td>\n",
       "      <td>1.808521</td>\n",
       "      <td>19.348373</td>\n",
       "    </tr>\n",
       "    <tr>\n",
       "      <th>divorced</th>\n",
       "      <td>5.173860</td>\n",
       "      <td>0.396197</td>\n",
       "      <td>5.570057</td>\n",
       "    </tr>\n",
       "    <tr>\n",
       "      <th>married</th>\n",
       "      <td>53.174233</td>\n",
       "      <td>4.339517</td>\n",
       "      <td>57.513750</td>\n",
       "    </tr>\n",
       "    <tr>\n",
       "      <th>unmarried</th>\n",
       "      <td>11.820640</td>\n",
       "      <td>1.277151</td>\n",
       "      <td>13.097791</td>\n",
       "    </tr>\n",
       "    <tr>\n",
       "      <th>widow / widower</th>\n",
       "      <td>4.176377</td>\n",
       "      <td>0.293652</td>\n",
       "      <td>4.470029</td>\n",
       "    </tr>\n",
       "    <tr>\n",
       "      <th>All</th>\n",
       "      <td>91.884963</td>\n",
       "      <td>8.115037</td>\n",
       "      <td>100.000000</td>\n",
       "    </tr>\n",
       "  </tbody>\n",
       "</table>\n",
       "</div>"
      ],
      "text/plain": [
       "debt                       0         1         All\n",
       "family_status                                     \n",
       "civil partnership  17.539853  1.808521   19.348373\n",
       "divorced            5.173860  0.396197    5.570057\n",
       "married            53.174233  4.339517   57.513750\n",
       "unmarried          11.820640  1.277151   13.097791\n",
       "widow / widower     4.176377  0.293652    4.470029\n",
       "All                91.884963  8.115037  100.000000"
      ]
     },
     "execution_count": 121,
     "metadata": {},
     "output_type": "execute_result"
    }
   ],
   "source": [
    "data_pivot1= df.pivot_table(index=['family_status'], columns= 'debt',values='gender',aggfunc='count',margins=True).apply(lambda r: r/len(df) *100, axis=1)\n",
    "\n",
    "data_pivot1"
   ]
  },
  {
   "cell_type": "markdown",
   "metadata": {},
   "source": [
    "Al revisar nuestra tabla, los clientes que estan casados tiene más probabilidades de cumplir el pago a tiempo. Dado que representa un 53% dentro de la base general que no han tenido incumplimientos. Esta lectura se puede justificar porque su nivel de ingresos familiar va a ser más alto y pueden abonar mayor capital a las cuotas del dividendo. Por el contrario de este mismo grupo de casados un 4% ya han tenido incumplimientos anteriores pero sería un punto a evaluar dependiendo de su nivel de ingresos que tengan para evaluar si su capacidad de pago mejoró.\n"
   ]
  },
  {
   "cell_type": "markdown",
   "metadata": {},
   "source": [
    "**Conclusión**\n",
    "\n",
    "Finalmente podemos concluir: \n",
    "\n",
    "1. La situación familiar del cliente influye a que pueda hacer un pago a tiempo. \n",
    "2. El segmento de casados representa un grupo potencial para el pago a tiempo del préstamo, esto se podría complementar más dependiendo de su nivel de ingresos. \n",
    "3. Los clientes en unión civil y solteros son grupos aproximadamente proporcionales que también registran incumplimiento en los pagos. \n",
    "\n"
   ]
  },
  {
   "cell_type": "markdown",
   "metadata": {},
   "source": [
    "**¿Existe una correlación entre el nivel de ingresos y el pago a tiempo?**"
   ]
  },
  {
   "cell_type": "markdown",
   "metadata": {},
   "source": [
    "Para encontrar una correlación utilizaremos una gráfica de dispersión entre ambas variables a través de la librería numpy"
   ]
  },
  {
   "cell_type": "code",
   "execution_count": 122,
   "metadata": {},
   "outputs": [
    {
     "data": {
      "image/png": "[encoded data removed]",
      "text/plain": [
       "<Figure size 432x288 with 1 Axes>"
      ]
     },
     "metadata": {
      "needs_background": "light"
     },
     "output_type": "display_data"
    }
   ],
   "source": [
    "from numpy.random import seed\n",
    "from numpy.random import randn\n",
    "seed(1)\n",
    "x= df['debt']\n",
    "y= df['total_income']\n",
    "plt.scatter(x,y)\n",
    "plt.show()"
   ]
  },
  {
   "cell_type": "markdown",
   "metadata": {},
   "source": [
    "<div class=\"alert alert-warning\">\n",
    "<b>⚠️ Comentario del revisor:</b> No olvides sobre el nombre para el grafico"
   ]
  },
  {
   "cell_type": "markdown",
   "metadata": {},
   "source": [
    "Podemos observar que hay una mayor distribución para los clientes que registran mayores niveles de ingreso y que no hay tenido incumplimientos de pago. \n",
    "Por el contrario compobamos que los clientes por debajo de 20.000 de ingresos hay tenido incumplimientos de pagos anteriores.\n",
    "\n",
    "Como siguiente paso comprobaremos los datos del nivel de ingreso y la distribución de incumplimiento o no del crédito."
   ]
  },
  {
   "cell_type": "code",
   "execution_count": 123,
   "metadata": {},
   "outputs": [
    {
     "data": {
      "text/html": [
       "<div>\n",
       "<style scoped>\n",
       "    .dataframe tbody tr th:only-of-type {\n",
       "        vertical-align: middle;\n",
       "    }\n",
       "\n",
       "    .dataframe tbody tr th {\n",
       "        vertical-align: top;\n",
       "    }\n",
       "\n",
       "    .dataframe thead th {\n",
       "        text-align: right;\n",
       "    }\n",
       "</style>\n",
       "<table border=\"1\" class=\"dataframe\">\n",
       "  <thead>\n",
       "    <tr style=\"text-align: right;\">\n",
       "      <th>debt</th>\n",
       "      <th>0</th>\n",
       "      <th>1</th>\n",
       "      <th>All</th>\n",
       "    </tr>\n",
       "    <tr>\n",
       "      <th>Nivel_ingreso</th>\n",
       "      <th></th>\n",
       "      <th></th>\n",
       "      <th></th>\n",
       "    </tr>\n",
       "  </thead>\n",
       "  <tbody>\n",
       "    <tr>\n",
       "      <th>Alto</th>\n",
       "      <td>25.557006</td>\n",
       "      <td>2.032255</td>\n",
       "      <td>27.589261</td>\n",
       "    </tr>\n",
       "    <tr>\n",
       "      <th>Bajo</th>\n",
       "      <td>35.704298</td>\n",
       "      <td>3.122961</td>\n",
       "      <td>38.827258</td>\n",
       "    </tr>\n",
       "    <tr>\n",
       "      <th>Medio</th>\n",
       "      <td>30.623660</td>\n",
       "      <td>2.959821</td>\n",
       "      <td>33.583481</td>\n",
       "    </tr>\n",
       "    <tr>\n",
       "      <th>All</th>\n",
       "      <td>91.884963</td>\n",
       "      <td>8.115037</td>\n",
       "      <td>100.000000</td>\n",
       "    </tr>\n",
       "  </tbody>\n",
       "</table>\n",
       "</div>"
      ],
      "text/plain": [
       "debt                   0         1         All\n",
       "Nivel_ingreso                                 \n",
       "Alto           25.557006  2.032255   27.589261\n",
       "Bajo           35.704298  3.122961   38.827258\n",
       "Medio          30.623660  2.959821   33.583481\n",
       "All            91.884963  8.115037  100.000000"
      ]
     },
     "execution_count": 123,
     "metadata": {},
     "output_type": "execute_result"
    }
   ],
   "source": [
    "\n",
    "pd.crosstab(index=df['Nivel_ingreso'],\n",
    "            columns=df['debt'], margins=True).apply(lambda r: r/len(df) *100,\n",
    "                                axis=1)\n"
   ]
  },
  {
   "cell_type": "markdown",
   "metadata": {},
   "source": [
    "Podemos obserevar que la tasa de incumplimiento basada en el nivel de ingresos es mayor para los clientes que perciben un salario de clase Bajo, seguido de clase Media y finamente de clase Alta. \n",
    "En esta tabla se comprueba que mientras el cliente tenga un nivel económico más alto sus probabilidades de tener incumplimiento en los créditos es menor pero no cero, existe una relación inversa. \n",
    "\n",
    "En la siguiente tabla complementaremos este análisis con el género del cliente para examinar cuál género tiene mayores tasas de incumplimiento."
   ]
  },
  {
   "cell_type": "code",
   "execution_count": 124,
   "metadata": {},
   "outputs": [
    {
     "data": {
      "text/html": [
       "<div>\n",
       "<style scoped>\n",
       "    .dataframe tbody tr th:only-of-type {\n",
       "        vertical-align: middle;\n",
       "    }\n",
       "\n",
       "    .dataframe tbody tr th {\n",
       "        vertical-align: top;\n",
       "    }\n",
       "\n",
       "    .dataframe thead th {\n",
       "        text-align: right;\n",
       "    }\n",
       "</style>\n",
       "<table border=\"1\" class=\"dataframe\">\n",
       "  <thead>\n",
       "    <tr style=\"text-align: right;\">\n",
       "      <th></th>\n",
       "      <th>gender</th>\n",
       "      <th>F</th>\n",
       "      <th>M</th>\n",
       "    </tr>\n",
       "    <tr>\n",
       "      <th>Nivel_ingreso</th>\n",
       "      <th>debt</th>\n",
       "      <th></th>\n",
       "      <th></th>\n",
       "    </tr>\n",
       "  </thead>\n",
       "  <tbody>\n",
       "    <tr>\n",
       "      <th rowspan=\"2\" valign=\"top\">Alto</th>\n",
       "      <th>0</th>\n",
       "      <td>3011</td>\n",
       "      <td>2472</td>\n",
       "    </tr>\n",
       "    <tr>\n",
       "      <th>1</th>\n",
       "      <td>198</td>\n",
       "      <td>238</td>\n",
       "    </tr>\n",
       "    <tr>\n",
       "      <th rowspan=\"2\" valign=\"top\">Bajo</th>\n",
       "      <th>0</th>\n",
       "      <td>5885</td>\n",
       "      <td>1775</td>\n",
       "    </tr>\n",
       "    <tr>\n",
       "      <th>1</th>\n",
       "      <td>446</td>\n",
       "      <td>224</td>\n",
       "    </tr>\n",
       "    <tr>\n",
       "      <th rowspan=\"2\" valign=\"top\">Medio</th>\n",
       "      <th>0</th>\n",
       "      <td>4285</td>\n",
       "      <td>2285</td>\n",
       "    </tr>\n",
       "    <tr>\n",
       "      <th>1</th>\n",
       "      <td>350</td>\n",
       "      <td>285</td>\n",
       "    </tr>\n",
       "  </tbody>\n",
       "</table>\n",
       "</div>"
      ],
      "text/plain": [
       "gender                 F     M\n",
       "Nivel_ingreso debt            \n",
       "Alto          0     3011  2472\n",
       "              1      198   238\n",
       "Bajo          0     5885  1775\n",
       "              1      446   224\n",
       "Medio         0     4285  2285\n",
       "              1      350   285"
      ]
     },
     "execution_count": 124,
     "metadata": {},
     "output_type": "execute_result"
    }
   ],
   "source": [
    "data_pivot3= df.pivot_table(index=['Nivel_ingreso','debt'], columns= 'gender',values='total_income',aggfunc='count')\n",
    "data_pivot3"
   ]
  },
  {
   "cell_type": "markdown",
   "metadata": {},
   "source": [
    "**Conclusión**\n",
    "\n",
    "Finalmente podemos concluir: \n",
    "\n",
    "1. Los clientes que tienen un nivel económico alto tienen menores tasas de incumplimiento en los préstamos.\n",
    "2. El género femenino que pertence a la clase bajo-medio registra un mayor incumplimiento en los préstamos que el género masculino.\n",
    "3. Para la clase alta , los clientes del género femenino tienen menores tasas de incumplimiento que los hombres. \n",
    "4. La relacion entre ambas variables es inversamente proporcional. \n"
   ]
  },
  {
   "cell_type": "markdown",
   "metadata": {},
   "source": [
    "**¿Cómo afecta el propósito del crédito a la tasa de incumplimiento?**"
   ]
  },
  {
   "cell_type": "code",
   "execution_count": 125,
   "metadata": {},
   "outputs": [
    {
     "data": {
      "text/html": [
       "<div>\n",
       "<style scoped>\n",
       "    .dataframe tbody tr th:only-of-type {\n",
       "        vertical-align: middle;\n",
       "    }\n",
       "\n",
       "    .dataframe tbody tr th {\n",
       "        vertical-align: top;\n",
       "    }\n",
       "\n",
       "    .dataframe thead th {\n",
       "        text-align: right;\n",
       "    }\n",
       "</style>\n",
       "<table border=\"1\" class=\"dataframe\">\n",
       "  <thead>\n",
       "    <tr style=\"text-align: right;\">\n",
       "      <th>debt</th>\n",
       "      <th>0</th>\n",
       "      <th>1</th>\n",
       "      <th>All</th>\n",
       "    </tr>\n",
       "    <tr>\n",
       "      <th>Clasificación_propósito</th>\n",
       "      <th></th>\n",
       "      <th></th>\n",
       "      <th></th>\n",
       "    </tr>\n",
       "  </thead>\n",
       "  <tbody>\n",
       "    <tr>\n",
       "      <th>Car purchase</th>\n",
       "      <td>18.192412</td>\n",
       "      <td>1.878438</td>\n",
       "      <td>20.070849</td>\n",
       "    </tr>\n",
       "    <tr>\n",
       "      <th>Education</th>\n",
       "      <td>16.980516</td>\n",
       "      <td>1.724620</td>\n",
       "      <td>18.705137</td>\n",
       "    </tr>\n",
       "    <tr>\n",
       "      <th>Property</th>\n",
       "      <td>46.746527</td>\n",
       "      <td>3.645008</td>\n",
       "      <td>50.391535</td>\n",
       "    </tr>\n",
       "    <tr>\n",
       "      <th>Wedding</th>\n",
       "      <td>9.965508</td>\n",
       "      <td>0.866971</td>\n",
       "      <td>10.832479</td>\n",
       "    </tr>\n",
       "    <tr>\n",
       "      <th>All</th>\n",
       "      <td>91.884963</td>\n",
       "      <td>8.115037</td>\n",
       "      <td>100.000000</td>\n",
       "    </tr>\n",
       "  </tbody>\n",
       "</table>\n",
       "</div>"
      ],
      "text/plain": [
       "debt                             0         1         All\n",
       "Clasificación_propósito                                 \n",
       "Car purchase             18.192412  1.878438   20.070849\n",
       "Education                16.980516  1.724620   18.705137\n",
       "Property                 46.746527  3.645008   50.391535\n",
       "Wedding                   9.965508  0.866971   10.832479\n",
       "All                      91.884963  8.115037  100.000000"
      ]
     },
     "execution_count": 125,
     "metadata": {},
     "output_type": "execute_result"
    }
   ],
   "source": [
    "\n",
    "\n",
    "pd.crosstab(index=df['Clasificación_propósito'],\n",
    "            columns=df['debt'], margins=True).apply(lambda r: r/len(df) *100,\n",
    "                                axis=1)"
   ]
  },
  {
   "cell_type": "markdown",
   "metadata": {},
   "source": [
    "Observamos que la tasa de incumplimiento se ve mayormente afectada para aquellos clientes que solicitaron el préstamo para la compra de un bien inmueble, un 3.64% de toda la base en general. \n",
    "Esto se puede complementar dado que por lo general el valor de adquisición de deuda es mucho más alto para este tipo de inversiones que cualquiera de las otras opciones. \n",
    "Con el objetivo de sacar una conclusión más precisa a continuación añadiremos la distribución de clientes por su nivel de ingreso y categoría de edad.\n",
    "\n"
   ]
  },
  {
   "cell_type": "code",
   "execution_count": 126,
   "metadata": {},
   "outputs": [
    {
     "data": {
      "text/html": [
       "<div>\n",
       "<style scoped>\n",
       "    .dataframe tbody tr th:only-of-type {\n",
       "        vertical-align: middle;\n",
       "    }\n",
       "\n",
       "    .dataframe tbody tr th {\n",
       "        vertical-align: top;\n",
       "    }\n",
       "\n",
       "    .dataframe thead th {\n",
       "        text-align: right;\n",
       "    }\n",
       "</style>\n",
       "<table border=\"1\" class=\"dataframe\">\n",
       "  <thead>\n",
       "    <tr style=\"text-align: right;\">\n",
       "      <th></th>\n",
       "      <th></th>\n",
       "      <th>Nivel_ingreso</th>\n",
       "      <th>Alto</th>\n",
       "      <th>Bajo</th>\n",
       "      <th>Medio</th>\n",
       "    </tr>\n",
       "    <tr>\n",
       "      <th>Clasificación_propósito</th>\n",
       "      <th>debt</th>\n",
       "      <th>categoria_de_edad</th>\n",
       "      <th></th>\n",
       "      <th></th>\n",
       "      <th></th>\n",
       "    </tr>\n",
       "  </thead>\n",
       "  <tbody>\n",
       "    <tr>\n",
       "      <th rowspan=\"12\" valign=\"top\">Car purchase</th>\n",
       "      <th rowspan=\"6\" valign=\"top\">0</th>\n",
       "      <th>19-29</th>\n",
       "      <td>115.0</td>\n",
       "      <td>212.0</td>\n",
       "      <td>196.0</td>\n",
       "    </tr>\n",
       "    <tr>\n",
       "      <th>30-39</th>\n",
       "      <td>338.0</td>\n",
       "      <td>316.0</td>\n",
       "      <td>349.0</td>\n",
       "    </tr>\n",
       "    <tr>\n",
       "      <th>40-49</th>\n",
       "      <td>327.0</td>\n",
       "      <td>338.0</td>\n",
       "      <td>351.0</td>\n",
       "    </tr>\n",
       "    <tr>\n",
       "      <th>50-59</th>\n",
       "      <td>228.0</td>\n",
       "      <td>356.0</td>\n",
       "      <td>286.0</td>\n",
       "    </tr>\n",
       "    <tr>\n",
       "      <th>60-69</th>\n",
       "      <td>87.0</td>\n",
       "      <td>272.0</td>\n",
       "      <td>102.0</td>\n",
       "    </tr>\n",
       "    <tr>\n",
       "      <th>70 o más</th>\n",
       "      <td>4.0</td>\n",
       "      <td>17.0</td>\n",
       "      <td>9.0</td>\n",
       "    </tr>\n",
       "    <tr>\n",
       "      <th rowspan=\"6\" valign=\"top\">1</th>\n",
       "      <th>19-29</th>\n",
       "      <td>17.0</td>\n",
       "      <td>35.0</td>\n",
       "      <td>24.0</td>\n",
       "    </tr>\n",
       "    <tr>\n",
       "      <th>30-39</th>\n",
       "      <td>40.0</td>\n",
       "      <td>45.0</td>\n",
       "      <td>51.0</td>\n",
       "    </tr>\n",
       "    <tr>\n",
       "      <th>40-49</th>\n",
       "      <td>25.0</td>\n",
       "      <td>28.0</td>\n",
       "      <td>41.0</td>\n",
       "    </tr>\n",
       "    <tr>\n",
       "      <th>50-59</th>\n",
       "      <td>16.0</td>\n",
       "      <td>24.0</td>\n",
       "      <td>25.0</td>\n",
       "    </tr>\n",
       "    <tr>\n",
       "      <th>60-69</th>\n",
       "      <td>5.0</td>\n",
       "      <td>16.0</td>\n",
       "      <td>7.0</td>\n",
       "    </tr>\n",
       "    <tr>\n",
       "      <th>70 o más</th>\n",
       "      <td>1.0</td>\n",
       "      <td>3.0</td>\n",
       "      <td>NaN</td>\n",
       "    </tr>\n",
       "    <tr>\n",
       "      <th rowspan=\"11\" valign=\"top\">Education</th>\n",
       "      <th rowspan=\"6\" valign=\"top\">0</th>\n",
       "      <th>19-29</th>\n",
       "      <td>135.0</td>\n",
       "      <td>211.0</td>\n",
       "      <td>179.0</td>\n",
       "    </tr>\n",
       "    <tr>\n",
       "      <th>30-39</th>\n",
       "      <td>275.0</td>\n",
       "      <td>301.0</td>\n",
       "      <td>355.0</td>\n",
       "    </tr>\n",
       "    <tr>\n",
       "      <th>40-49</th>\n",
       "      <td>263.0</td>\n",
       "      <td>322.0</td>\n",
       "      <td>331.0</td>\n",
       "    </tr>\n",
       "    <tr>\n",
       "      <th>50-59</th>\n",
       "      <td>208.0</td>\n",
       "      <td>341.0</td>\n",
       "      <td>271.0</td>\n",
       "    </tr>\n",
       "    <tr>\n",
       "      <th>60-69</th>\n",
       "      <td>80.0</td>\n",
       "      <td>229.0</td>\n",
       "      <td>110.0</td>\n",
       "    </tr>\n",
       "    <tr>\n",
       "      <th>70 o más</th>\n",
       "      <td>2.0</td>\n",
       "      <td>26.0</td>\n",
       "      <td>4.0</td>\n",
       "    </tr>\n",
       "    <tr>\n",
       "      <th rowspan=\"5\" valign=\"top\">1</th>\n",
       "      <th>19-29</th>\n",
       "      <td>12.0</td>\n",
       "      <td>35.0</td>\n",
       "      <td>31.0</td>\n",
       "    </tr>\n",
       "    <tr>\n",
       "      <th>30-39</th>\n",
       "      <td>27.0</td>\n",
       "      <td>48.0</td>\n",
       "      <td>42.0</td>\n",
       "    </tr>\n",
       "    <tr>\n",
       "      <th>40-49</th>\n",
       "      <td>22.0</td>\n",
       "      <td>33.0</td>\n",
       "      <td>26.0</td>\n",
       "    </tr>\n",
       "    <tr>\n",
       "      <th>50-59</th>\n",
       "      <td>20.0</td>\n",
       "      <td>22.0</td>\n",
       "      <td>24.0</td>\n",
       "    </tr>\n",
       "    <tr>\n",
       "      <th>60-69</th>\n",
       "      <td>5.0</td>\n",
       "      <td>16.0</td>\n",
       "      <td>7.0</td>\n",
       "    </tr>\n",
       "    <tr>\n",
       "      <th rowspan=\"12\" valign=\"top\">Property</th>\n",
       "      <th rowspan=\"6\" valign=\"top\">0</th>\n",
       "      <th>19-29</th>\n",
       "      <td>378.0</td>\n",
       "      <td>548.0</td>\n",
       "      <td>547.0</td>\n",
       "    </tr>\n",
       "    <tr>\n",
       "      <th>30-39</th>\n",
       "      <td>838.0</td>\n",
       "      <td>888.0</td>\n",
       "      <td>885.0</td>\n",
       "    </tr>\n",
       "    <tr>\n",
       "      <th>40-49</th>\n",
       "      <td>830.0</td>\n",
       "      <td>830.0</td>\n",
       "      <td>905.0</td>\n",
       "    </tr>\n",
       "    <tr>\n",
       "      <th>50-59</th>\n",
       "      <td>535.0</td>\n",
       "      <td>901.0</td>\n",
       "      <td>764.0</td>\n",
       "    </tr>\n",
       "    <tr>\n",
       "      <th>60-69</th>\n",
       "      <td>227.0</td>\n",
       "      <td>657.0</td>\n",
       "      <td>214.0</td>\n",
       "    </tr>\n",
       "    <tr>\n",
       "      <th>70 o más</th>\n",
       "      <td>14.0</td>\n",
       "      <td>47.0</td>\n",
       "      <td>21.0</td>\n",
       "    </tr>\n",
       "    <tr>\n",
       "      <th rowspan=\"6\" valign=\"top\">1</th>\n",
       "      <th>19-29</th>\n",
       "      <td>38.0</td>\n",
       "      <td>60.0</td>\n",
       "      <td>65.0</td>\n",
       "    </tr>\n",
       "    <tr>\n",
       "      <th>30-39</th>\n",
       "      <td>70.0</td>\n",
       "      <td>82.0</td>\n",
       "      <td>87.0</td>\n",
       "    </tr>\n",
       "    <tr>\n",
       "      <th>40-49</th>\n",
       "      <td>53.0</td>\n",
       "      <td>68.0</td>\n",
       "      <td>70.0</td>\n",
       "    </tr>\n",
       "    <tr>\n",
       "      <th>50-59</th>\n",
       "      <td>41.0</td>\n",
       "      <td>49.0</td>\n",
       "      <td>48.0</td>\n",
       "    </tr>\n",
       "    <tr>\n",
       "      <th>60-69</th>\n",
       "      <td>6.0</td>\n",
       "      <td>25.0</td>\n",
       "      <td>18.0</td>\n",
       "    </tr>\n",
       "    <tr>\n",
       "      <th>70 o más</th>\n",
       "      <td>1.0</td>\n",
       "      <td>1.0</td>\n",
       "      <td>NaN</td>\n",
       "    </tr>\n",
       "    <tr>\n",
       "      <th rowspan=\"11\" valign=\"top\">Wedding</th>\n",
       "      <th rowspan=\"6\" valign=\"top\">0</th>\n",
       "      <th>19-29</th>\n",
       "      <td>84.0</td>\n",
       "      <td>123.0</td>\n",
       "      <td>103.0</td>\n",
       "    </tr>\n",
       "    <tr>\n",
       "      <th>30-39</th>\n",
       "      <td>166.0</td>\n",
       "      <td>195.0</td>\n",
       "      <td>204.0</td>\n",
       "    </tr>\n",
       "    <tr>\n",
       "      <th>40-49</th>\n",
       "      <td>184.0</td>\n",
       "      <td>190.0</td>\n",
       "      <td>172.0</td>\n",
       "    </tr>\n",
       "    <tr>\n",
       "      <th>50-59</th>\n",
       "      <td>115.0</td>\n",
       "      <td>189.0</td>\n",
       "      <td>158.0</td>\n",
       "    </tr>\n",
       "    <tr>\n",
       "      <th>60-69</th>\n",
       "      <td>47.0</td>\n",
       "      <td>142.0</td>\n",
       "      <td>47.0</td>\n",
       "    </tr>\n",
       "    <tr>\n",
       "      <th>70 o más</th>\n",
       "      <td>3.0</td>\n",
       "      <td>9.0</td>\n",
       "      <td>7.0</td>\n",
       "    </tr>\n",
       "    <tr>\n",
       "      <th rowspan=\"5\" valign=\"top\">1</th>\n",
       "      <th>19-29</th>\n",
       "      <td>4.0</td>\n",
       "      <td>15.0</td>\n",
       "      <td>13.0</td>\n",
       "    </tr>\n",
       "    <tr>\n",
       "      <th>30-39</th>\n",
       "      <td>8.0</td>\n",
       "      <td>23.0</td>\n",
       "      <td>29.0</td>\n",
       "    </tr>\n",
       "    <tr>\n",
       "      <th>40-49</th>\n",
       "      <td>14.0</td>\n",
       "      <td>18.0</td>\n",
       "      <td>14.0</td>\n",
       "    </tr>\n",
       "    <tr>\n",
       "      <th>50-59</th>\n",
       "      <td>10.0</td>\n",
       "      <td>16.0</td>\n",
       "      <td>10.0</td>\n",
       "    </tr>\n",
       "    <tr>\n",
       "      <th>60-69</th>\n",
       "      <td>1.0</td>\n",
       "      <td>8.0</td>\n",
       "      <td>3.0</td>\n",
       "    </tr>\n",
       "  </tbody>\n",
       "</table>\n",
       "</div>"
      ],
      "text/plain": [
       "Nivel_ingreso                                    Alto   Bajo  Medio\n",
       "Clasificación_propósito debt categoria_de_edad                     \n",
       "Car purchase            0    19-29              115.0  212.0  196.0\n",
       "                             30-39              338.0  316.0  349.0\n",
       "                             40-49              327.0  338.0  351.0\n",
       "                             50-59              228.0  356.0  286.0\n",
       "                             60-69               87.0  272.0  102.0\n",
       "                             70 o más             4.0   17.0    9.0\n",
       "                        1    19-29               17.0   35.0   24.0\n",
       "                             30-39               40.0   45.0   51.0\n",
       "                             40-49               25.0   28.0   41.0\n",
       "                             50-59               16.0   24.0   25.0\n",
       "                             60-69                5.0   16.0    7.0\n",
       "                             70 o más             1.0    3.0    NaN\n",
       "Education               0    19-29              135.0  211.0  179.0\n",
       "                             30-39              275.0  301.0  355.0\n",
       "                             40-49              263.0  322.0  331.0\n",
       "                             50-59              208.0  341.0  271.0\n",
       "                             60-69               80.0  229.0  110.0\n",
       "                             70 o más             2.0   26.0    4.0\n",
       "                        1    19-29               12.0   35.0   31.0\n",
       "                             30-39               27.0   48.0   42.0\n",
       "                             40-49               22.0   33.0   26.0\n",
       "                             50-59               20.0   22.0   24.0\n",
       "                             60-69                5.0   16.0    7.0\n",
       "Property                0    19-29              378.0  548.0  547.0\n",
       "                             30-39              838.0  888.0  885.0\n",
       "                             40-49              830.0  830.0  905.0\n",
       "                             50-59              535.0  901.0  764.0\n",
       "                             60-69              227.0  657.0  214.0\n",
       "                             70 o más            14.0   47.0   21.0\n",
       "                        1    19-29               38.0   60.0   65.0\n",
       "                             30-39               70.0   82.0   87.0\n",
       "                             40-49               53.0   68.0   70.0\n",
       "                             50-59               41.0   49.0   48.0\n",
       "                             60-69                6.0   25.0   18.0\n",
       "                             70 o más             1.0    1.0    NaN\n",
       "Wedding                 0    19-29               84.0  123.0  103.0\n",
       "                             30-39              166.0  195.0  204.0\n",
       "                             40-49              184.0  190.0  172.0\n",
       "                             50-59              115.0  189.0  158.0\n",
       "                             60-69               47.0  142.0   47.0\n",
       "                             70 o más             3.0    9.0    7.0\n",
       "                        1    19-29                4.0   15.0   13.0\n",
       "                             30-39                8.0   23.0   29.0\n",
       "                             40-49               14.0   18.0   14.0\n",
       "                             50-59               10.0   16.0   10.0\n",
       "                             60-69                1.0    8.0    3.0"
      ]
     },
     "execution_count": 126,
     "metadata": {},
     "output_type": "execute_result"
    }
   ],
   "source": [
    "data_pivot3= df.pivot_table(index=['Clasificación_propósito','debt','categoria_de_edad'], columns= 'Nivel_ingreso',values='total_income',aggfunc='count')\n",
    "data_pivot3"
   ]
  },
  {
   "cell_type": "markdown",
   "metadata": {},
   "source": [
    "**Conclusión**\n",
    "\n",
    "Finalmente podemos concluir: \n",
    "1. El propósito del crédito afecta a que el incumplimiento del préstamo sea mayor si es para adquirir un bien inmueble. \n",
    "2. La tasa de incumplimiento fue menor para aquellos clientes que solicitaron el crédito para realizar su boda. \n",
    "3. El segmento de clientes que solicitó el crédito para adquirir un bien inmueble, quienes pertenecen a un nivel socio-económico medio y entre las edades de 30-39 años tuvieron el mayor registro de incumplimiento de pago. \n"
   ]
  },
  {
   "cell_type": "markdown",
   "metadata": {},
   "source": [
    "<div class=\"alert alert-success\">\n",
    "<b>✔️ Comentario del revisor:</b>\n"
   ]
  },
  {
   "cell_type": "markdown",
   "metadata": {},
   "source": [
    "# Conclusión general \n"
   ]
  },
  {
   "cell_type": "markdown",
   "metadata": {},
   "source": [
    "1. Encontramos simetría en el número de valores ausentes tanto de days_employed como en total_income.\n",
    "2. Las columnas: gender,days_employed,children y education fueron corregidas sus registros dado que presentaban valores problemáticos. La solución que se implementó fue en función de aplicar las funcions de la mediana, dado que encontramos datos muy distantes y atípicos, de esa manera se trató en lo psible de no alterar los datos que fueron modificados.\n",
    "3. Nuestros datos cambiaron un 1% en la columna children, la columna dob_years fue el que menos cambió por debajo del 1% y la columna dob_years fue la que resultó con un mayor porcentaje de un cambio del 82%.\n",
    "4. Existieron 71 datos duplicados en el DataFrame que se dieron posiblemente a fallos técnicos en las bases de datos, los mismos que fueron eliminados y actualizados con 21454 filas y 12 columnas.\n",
    "5. Completamos los valores ausentes de days_employed en función de la mediana del income_type y para la columna total_income se rellenaron en función de las categorías de edad de los clientes. \n",
    "6. Clasificamos los datos categóricos de la columna purpose en 5 grupos que abarcaban cada tema en común. Para los datos numéricos lo clasificamos en función de su nivel de ingreso: Bajo, Medio, Alto a través del diagrama de caja. \n",
    "\n",
    "Hipótesis: \n",
    "\n",
    "7. Comprobamos que si existe una correlación entre el número de hijos y el incumplimiento de un crédito. A medida que los clientes tenían más número de hijos su incapacidad de pago aumentaba. \n",
    "8. Evaluamos que la situación familiar influye en el pago del crédito a tiempo. El segmento de clientes que ya estan casados son los que más probabilidades tienen de hacer su pago a tiempo. \n",
    "9. Analizamos que si los clientes que tienen un nivel económico alto tienen menores tasas de incumplimiento en los préstamos, como consecuencia el segemento de clientes con un nivel de ingreso bajo son los que registran más incumplimiento. \n",
    "10. Obervamos que aquellos clientes que solicitaron el préstamos para adquirir un bien inmueble son los que  registran más incumplimienos de los pagos. Es decir de estos clientes quienes pertenecen a un nivel socio-económico medio y entre las edades de 30-39 años tuvieron el mayor registro de incumplimiento en el pago."
   ]
  },
  {
   "cell_type": "markdown",
   "metadata": {},
   "source": [
    "<div class=\"alert alert-success\">\n",
    "<b>✔️ Comentario del revisor:</b> Muchas gracias por el trabajo realizado. Tienes el proyecto exelente y está claro que lo estás intentando. Te deje unos comentarios con el color amarillo, te pueden ayudar en el futuro. Todo está bien, estoy lista para aceptar el proyecto :)"
   ]
  }
 ],
 "metadata": {
  "ExecuteTimeLog": [
   {
    "duration": 2741,
    "start_time": "2021-10-21T01:08:49.480Z"
   },
   {
    "duration": 52,
    "start_time": "2021-10-21T01:08:53.315Z"
   },
   {
    "duration": 49,
    "start_time": "2021-10-21T01:08:57.432Z"
   },
   {
    "duration": 70,
    "start_time": "2021-10-21T01:09:07.706Z"
   },
   {
    "duration": 451,
    "start_time": "2022-07-04T23:37:16.483Z"
   },
   {
    "duration": 12,
    "start_time": "2022-07-04T23:38:43.601Z"
   },
   {
    "duration": 7,
    "start_time": "2022-07-04T23:39:02.667Z"
   },
   {
    "duration": 10,
    "start_time": "2022-07-04T23:39:21.039Z"
   },
   {
    "duration": 9,
    "start_time": "2022-07-04T23:39:36.957Z"
   },
   {
    "duration": 9,
    "start_time": "2022-07-04T23:39:42.936Z"
   },
   {
    "duration": 9,
    "start_time": "2022-07-04T23:40:11.852Z"
   },
   {
    "duration": 163,
    "start_time": "2022-07-04T23:40:30.636Z"
   },
   {
    "duration": 40,
    "start_time": "2022-07-04T23:44:28.036Z"
   },
   {
    "duration": 11,
    "start_time": "2022-07-04T23:44:34.553Z"
   },
   {
    "duration": 14,
    "start_time": "2022-07-04T23:44:53.765Z"
   },
   {
    "duration": 14,
    "start_time": "2022-07-04T23:48:10.398Z"
   },
   {
    "duration": 9,
    "start_time": "2022-07-04T23:51:48.617Z"
   },
   {
    "duration": 9,
    "start_time": "2022-07-04T23:52:50.611Z"
   },
   {
    "duration": 3,
    "start_time": "2022-07-04T23:53:25.767Z"
   },
   {
    "duration": 16,
    "start_time": "2022-07-04T23:53:43.522Z"
   },
   {
    "duration": 25,
    "start_time": "2022-07-05T00:37:28.345Z"
   },
   {
    "duration": 8,
    "start_time": "2022-07-05T01:06:51.962Z"
   },
   {
    "duration": 35,
    "start_time": "2022-07-05T01:07:18.012Z"
   },
   {
    "duration": 56,
    "start_time": "2022-07-05T01:08:07.767Z"
   },
   {
    "duration": 20,
    "start_time": "2022-07-05T01:08:17.464Z"
   },
   {
    "duration": 11,
    "start_time": "2022-07-05T01:09:25.015Z"
   },
   {
    "duration": 54,
    "start_time": "2022-07-05T22:45:35.268Z"
   },
   {
    "duration": 6,
    "start_time": "2022-07-05T22:45:58.919Z"
   },
   {
    "duration": 6,
    "start_time": "2022-07-05T22:46:46.402Z"
   },
   {
    "duration": 668,
    "start_time": "2022-07-05T22:46:52.285Z"
   },
   {
    "duration": 4,
    "start_time": "2022-07-05T22:46:54.828Z"
   },
   {
    "duration": 16,
    "start_time": "2022-07-05T22:47:03.687Z"
   },
   {
    "duration": 3,
    "start_time": "2022-07-05T22:47:08.621Z"
   },
   {
    "duration": 7,
    "start_time": "2022-07-05T22:47:24.144Z"
   },
   {
    "duration": 1311,
    "start_time": "2022-07-05T22:50:52.347Z"
   },
   {
    "duration": 1213,
    "start_time": "2022-07-05T22:51:11.466Z"
   },
   {
    "duration": 6,
    "start_time": "2022-07-05T22:51:17.827Z"
   },
   {
    "duration": 8,
    "start_time": "2022-07-05T22:53:16.186Z"
   },
   {
    "duration": 6,
    "start_time": "2022-07-05T22:56:20.397Z"
   },
   {
    "duration": 8,
    "start_time": "2022-07-05T22:56:26.130Z"
   },
   {
    "duration": 15,
    "start_time": "2022-07-05T22:56:37.722Z"
   },
   {
    "duration": 7,
    "start_time": "2022-07-05T23:04:20.213Z"
   },
   {
    "duration": 7,
    "start_time": "2022-07-05T23:05:04.732Z"
   },
   {
    "duration": 6,
    "start_time": "2022-07-05T23:08:36.389Z"
   },
   {
    "duration": 3,
    "start_time": "2022-07-05T23:09:25.739Z"
   },
   {
    "duration": 11,
    "start_time": "2022-07-05T23:09:27.610Z"
   },
   {
    "duration": 14,
    "start_time": "2022-07-05T23:09:32.688Z"
   },
   {
    "duration": 10,
    "start_time": "2022-07-05T23:09:36.922Z"
   },
   {
    "duration": 6,
    "start_time": "2022-07-05T23:09:41.389Z"
   },
   {
    "duration": 7,
    "start_time": "2022-07-05T23:09:44.274Z"
   },
   {
    "duration": 5,
    "start_time": "2022-07-06T00:49:56.755Z"
   },
   {
    "duration": 8,
    "start_time": "2022-07-06T00:50:07.566Z"
   },
   {
    "duration": 11,
    "start_time": "2022-07-06T00:50:19.198Z"
   },
   {
    "duration": 7,
    "start_time": "2022-07-06T00:51:08.577Z"
   },
   {
    "duration": 25,
    "start_time": "2022-07-06T00:54:12.986Z"
   },
   {
    "duration": 4,
    "start_time": "2022-07-06T01:05:48.001Z"
   },
   {
    "duration": 8,
    "start_time": "2022-07-06T01:08:00.487Z"
   },
   {
    "duration": 9,
    "start_time": "2022-07-06T01:11:05.486Z"
   },
   {
    "duration": 0,
    "start_time": "2022-07-06T01:14:01.621Z"
   },
   {
    "duration": 8,
    "start_time": "2022-07-06T01:14:12.225Z"
   },
   {
    "duration": 10,
    "start_time": "2022-07-06T01:14:40.632Z"
   },
   {
    "duration": 7,
    "start_time": "2022-07-06T01:14:58.702Z"
   },
   {
    "duration": 0,
    "start_time": "2022-07-06T01:15:18.658Z"
   },
   {
    "duration": 10,
    "start_time": "2022-07-06T01:15:20.952Z"
   },
   {
    "duration": 6,
    "start_time": "2022-07-06T01:15:28.651Z"
   },
   {
    "duration": 4,
    "start_time": "2022-07-06T01:16:00.932Z"
   },
   {
    "duration": 4,
    "start_time": "2022-07-06T01:16:47.212Z"
   },
   {
    "duration": 5,
    "start_time": "2022-07-06T01:17:16.664Z"
   },
   {
    "duration": 7,
    "start_time": "2022-07-06T01:17:34.512Z"
   },
   {
    "duration": 3,
    "start_time": "2022-07-06T01:17:43.543Z"
   },
   {
    "duration": 5,
    "start_time": "2022-07-06T01:17:53.512Z"
   },
   {
    "duration": 5,
    "start_time": "2022-07-06T01:18:39.856Z"
   },
   {
    "duration": 5,
    "start_time": "2022-07-06T01:19:13.026Z"
   },
   {
    "duration": 5,
    "start_time": "2022-07-06T02:05:12.127Z"
   },
   {
    "duration": 111,
    "start_time": "2022-07-06T02:05:33.693Z"
   },
   {
    "duration": 5,
    "start_time": "2022-07-06T02:05:38.065Z"
   },
   {
    "duration": 4,
    "start_time": "2022-07-06T02:05:54.047Z"
   },
   {
    "duration": 4,
    "start_time": "2022-07-06T02:05:58.340Z"
   },
   {
    "duration": 3,
    "start_time": "2022-07-06T02:06:13.713Z"
   },
   {
    "duration": 11,
    "start_time": "2022-07-06T02:06:17.641Z"
   },
   {
    "duration": 5,
    "start_time": "2022-07-06T02:06:53.737Z"
   },
   {
    "duration": 5,
    "start_time": "2022-07-06T02:07:10.890Z"
   },
   {
    "duration": 4,
    "start_time": "2022-07-06T02:07:15.974Z"
   },
   {
    "duration": 5,
    "start_time": "2022-07-06T02:07:24.298Z"
   },
   {
    "duration": 74,
    "start_time": "2022-07-06T02:09:19.064Z"
   },
   {
    "duration": 6,
    "start_time": "2022-07-06T02:10:39.409Z"
   },
   {
    "duration": 6,
    "start_time": "2022-07-06T02:10:48.593Z"
   },
   {
    "duration": 6,
    "start_time": "2022-07-06T02:11:24.382Z"
   },
   {
    "duration": 6,
    "start_time": "2022-07-06T02:12:19.037Z"
   },
   {
    "duration": 5,
    "start_time": "2022-07-06T02:12:48.991Z"
   },
   {
    "duration": 10,
    "start_time": "2022-07-06T02:12:55.702Z"
   },
   {
    "duration": 6,
    "start_time": "2022-07-06T02:12:59.880Z"
   },
   {
    "duration": 6,
    "start_time": "2022-07-06T02:13:03.839Z"
   },
   {
    "duration": 5,
    "start_time": "2022-07-06T02:13:08.776Z"
   },
   {
    "duration": 72,
    "start_time": "2022-07-06T02:13:40.853Z"
   },
   {
    "duration": 71,
    "start_time": "2022-07-06T02:13:59.273Z"
   },
   {
    "duration": 73,
    "start_time": "2022-07-06T02:14:12.146Z"
   },
   {
    "duration": 6,
    "start_time": "2022-07-06T02:14:26.832Z"
   },
   {
    "duration": 75,
    "start_time": "2022-07-06T02:14:33.469Z"
   },
   {
    "duration": 74,
    "start_time": "2022-07-06T02:14:39.914Z"
   },
   {
    "duration": 80,
    "start_time": "2022-07-06T02:15:36.745Z"
   },
   {
    "duration": 75,
    "start_time": "2022-07-06T02:15:46.372Z"
   },
   {
    "duration": 5,
    "start_time": "2022-07-06T02:15:54.753Z"
   },
   {
    "duration": 5,
    "start_time": "2022-07-06T02:16:07.186Z"
   },
   {
    "duration": 6,
    "start_time": "2022-07-06T02:16:27.028Z"
   },
   {
    "duration": 5,
    "start_time": "2022-07-06T02:17:45.893Z"
   },
   {
    "duration": 5,
    "start_time": "2022-07-06T02:18:37.433Z"
   },
   {
    "duration": 9,
    "start_time": "2022-07-06T02:21:13.018Z"
   },
   {
    "duration": 8,
    "start_time": "2022-07-06T02:21:22.563Z"
   },
   {
    "duration": 8,
    "start_time": "2022-07-06T02:21:28.625Z"
   },
   {
    "duration": 19,
    "start_time": "2022-07-06T02:23:30.751Z"
   },
   {
    "duration": 11,
    "start_time": "2022-07-06T02:25:46.172Z"
   },
   {
    "duration": 9,
    "start_time": "2022-07-06T02:26:44.175Z"
   },
   {
    "duration": 7,
    "start_time": "2022-07-06T02:29:13.993Z"
   },
   {
    "duration": 4,
    "start_time": "2022-07-06T02:30:02.923Z"
   },
   {
    "duration": 77,
    "start_time": "2022-07-06T02:30:14.918Z"
   },
   {
    "duration": 4,
    "start_time": "2022-07-06T02:30:28.076Z"
   },
   {
    "duration": 15,
    "start_time": "2022-07-06T02:30:53.962Z"
   },
   {
    "duration": 580,
    "start_time": "2022-07-06T02:32:38.153Z"
   },
   {
    "duration": 74,
    "start_time": "2022-07-06T02:33:06.913Z"
   },
   {
    "duration": 10,
    "start_time": "2022-07-06T02:34:54.678Z"
   },
   {
    "duration": 7,
    "start_time": "2022-07-06T02:35:11.480Z"
   },
   {
    "duration": 5,
    "start_time": "2022-07-06T02:35:46.787Z"
   },
   {
    "duration": 5,
    "start_time": "2022-07-06T02:36:07.350Z"
   },
   {
    "duration": 14,
    "start_time": "2022-07-06T02:37:13.802Z"
   },
   {
    "duration": 31,
    "start_time": "2022-07-06T02:37:46.295Z"
   },
   {
    "duration": 78,
    "start_time": "2022-07-06T02:41:51.585Z"
   },
   {
    "duration": 72,
    "start_time": "2022-07-06T02:41:57.390Z"
   },
   {
    "duration": 4,
    "start_time": "2022-07-06T02:42:04.291Z"
   },
   {
    "duration": 21,
    "start_time": "2022-07-06T02:42:15.311Z"
   },
   {
    "duration": 0,
    "start_time": "2022-07-06T02:44:53.616Z"
   },
   {
    "duration": 620,
    "start_time": "2022-07-06T02:44:54.449Z"
   },
   {
    "duration": 688,
    "start_time": "2022-07-06T02:46:20.918Z"
   },
   {
    "duration": 6,
    "start_time": "2022-07-06T02:46:30.263Z"
   },
   {
    "duration": 71,
    "start_time": "2022-07-06T02:46:59.457Z"
   },
   {
    "duration": 111,
    "start_time": "2022-07-06T02:47:06.951Z"
   },
   {
    "duration": 26,
    "start_time": "2022-07-06T02:47:35.030Z"
   },
   {
    "duration": 84,
    "start_time": "2022-07-06T02:48:12.427Z"
   },
   {
    "duration": 72,
    "start_time": "2022-07-06T02:48:21.945Z"
   },
   {
    "duration": 30,
    "start_time": "2022-07-06T02:48:26.745Z"
   },
   {
    "duration": 72,
    "start_time": "2022-07-06T02:49:28.205Z"
   },
   {
    "duration": 70,
    "start_time": "2022-07-06T02:49:39.679Z"
   },
   {
    "duration": 71,
    "start_time": "2022-07-06T02:49:43.068Z"
   },
   {
    "duration": 76,
    "start_time": "2022-07-06T02:50:04.567Z"
   },
   {
    "duration": 72,
    "start_time": "2022-07-06T02:50:15.606Z"
   },
   {
    "duration": 20,
    "start_time": "2022-07-06T02:50:24.257Z"
   },
   {
    "duration": 6,
    "start_time": "2022-07-06T03:09:40.109Z"
   },
   {
    "duration": 7,
    "start_time": "2022-07-06T03:09:52.476Z"
   },
   {
    "duration": 8,
    "start_time": "2022-07-06T03:10:01.289Z"
   },
   {
    "duration": 4,
    "start_time": "2022-07-06T03:10:07.987Z"
   },
   {
    "duration": 9,
    "start_time": "2022-07-06T03:10:26.230Z"
   },
   {
    "duration": 17,
    "start_time": "2022-07-06T03:10:43.596Z"
   },
   {
    "duration": 9,
    "start_time": "2022-07-06T03:10:53.115Z"
   },
   {
    "duration": 4,
    "start_time": "2022-07-06T03:12:06.337Z"
   },
   {
    "duration": 5,
    "start_time": "2022-07-06T03:12:41.321Z"
   },
   {
    "duration": 5,
    "start_time": "2022-07-06T03:13:08.274Z"
   },
   {
    "duration": 72,
    "start_time": "2022-07-06T03:13:43.961Z"
   },
   {
    "duration": 14,
    "start_time": "2022-07-06T03:13:51.618Z"
   },
   {
    "duration": 6,
    "start_time": "2022-07-06T03:14:07.731Z"
   },
   {
    "duration": 6,
    "start_time": "2022-07-06T03:14:24.533Z"
   },
   {
    "duration": 5,
    "start_time": "2022-07-06T03:14:47.411Z"
   },
   {
    "duration": 23,
    "start_time": "2022-07-06T03:20:19.728Z"
   },
   {
    "duration": 24,
    "start_time": "2022-07-06T03:21:01.938Z"
   },
   {
    "duration": 28,
    "start_time": "2022-07-06T03:36:16.405Z"
   },
   {
    "duration": 110,
    "start_time": "2022-07-06T03:36:53.544Z"
   },
   {
    "duration": 15,
    "start_time": "2022-07-06T03:37:02.082Z"
   },
   {
    "duration": 5,
    "start_time": "2022-07-06T03:37:40.085Z"
   },
   {
    "duration": 8,
    "start_time": "2022-07-06T03:41:16.841Z"
   },
   {
    "duration": 8,
    "start_time": "2022-07-06T03:41:46.663Z"
   },
   {
    "duration": 9,
    "start_time": "2022-07-06T03:43:37.675Z"
   },
   {
    "duration": 13,
    "start_time": "2022-07-06T03:43:52.946Z"
   },
   {
    "duration": 8,
    "start_time": "2022-07-06T03:44:13.622Z"
   },
   {
    "duration": 4,
    "start_time": "2022-07-06T03:48:22.581Z"
   },
   {
    "duration": 5,
    "start_time": "2022-07-06T03:56:57.241Z"
   },
   {
    "duration": 4,
    "start_time": "2022-07-06T03:57:01.180Z"
   },
   {
    "duration": 4,
    "start_time": "2022-07-06T03:57:03.396Z"
   },
   {
    "duration": 5,
    "start_time": "2022-07-06T03:57:24.144Z"
   },
   {
    "duration": 6,
    "start_time": "2022-07-06T03:57:26.213Z"
   },
   {
    "duration": 6,
    "start_time": "2022-07-06T03:59:34.708Z"
   },
   {
    "duration": 7,
    "start_time": "2022-07-06T03:59:49.604Z"
   },
   {
    "duration": 5,
    "start_time": "2022-07-06T03:59:58.644Z"
   },
   {
    "duration": 6,
    "start_time": "2022-07-06T04:00:31.953Z"
   },
   {
    "duration": 6,
    "start_time": "2022-07-06T04:00:33.896Z"
   },
   {
    "duration": 5,
    "start_time": "2022-07-06T04:01:22.097Z"
   },
   {
    "duration": 10,
    "start_time": "2022-07-06T04:03:24.363Z"
   },
   {
    "duration": 629,
    "start_time": "2022-07-06T04:05:44.890Z"
   },
   {
    "duration": 4,
    "start_time": "2022-07-06T04:05:54.804Z"
   },
   {
    "duration": 4,
    "start_time": "2022-07-06T04:06:08.800Z"
   },
   {
    "duration": 4,
    "start_time": "2022-07-06T04:06:44.402Z"
   },
   {
    "duration": 5,
    "start_time": "2022-07-06T04:11:59.390Z"
   },
   {
    "duration": 6,
    "start_time": "2022-07-06T04:12:25.414Z"
   },
   {
    "duration": 4,
    "start_time": "2022-07-06T04:12:25.460Z"
   },
   {
    "duration": 7,
    "start_time": "2022-07-06T04:12:51.077Z"
   },
   {
    "duration": 6,
    "start_time": "2022-07-06T04:13:01.251Z"
   },
   {
    "duration": 475,
    "start_time": "2022-07-06T04:13:57.015Z"
   },
   {
    "duration": 4,
    "start_time": "2022-07-06T04:13:57.492Z"
   },
   {
    "duration": 12,
    "start_time": "2022-07-06T04:13:57.498Z"
   },
   {
    "duration": 17,
    "start_time": "2022-07-06T04:13:57.513Z"
   },
   {
    "duration": 72,
    "start_time": "2022-07-06T04:13:57.531Z"
   },
   {
    "duration": 0,
    "start_time": "2022-07-06T04:13:57.608Z"
   },
   {
    "duration": 0,
    "start_time": "2022-07-06T04:13:57.610Z"
   },
   {
    "duration": 0,
    "start_time": "2022-07-06T04:13:57.611Z"
   },
   {
    "duration": 0,
    "start_time": "2022-07-06T04:13:57.612Z"
   },
   {
    "duration": 0,
    "start_time": "2022-07-06T04:13:57.614Z"
   },
   {
    "duration": 0,
    "start_time": "2022-07-06T04:13:57.619Z"
   },
   {
    "duration": 0,
    "start_time": "2022-07-06T04:13:57.620Z"
   },
   {
    "duration": 0,
    "start_time": "2022-07-06T04:13:57.621Z"
   },
   {
    "duration": 0,
    "start_time": "2022-07-06T04:13:57.622Z"
   },
   {
    "duration": 0,
    "start_time": "2022-07-06T04:13:57.623Z"
   },
   {
    "duration": 0,
    "start_time": "2022-07-06T04:13:57.624Z"
   },
   {
    "duration": 0,
    "start_time": "2022-07-06T04:13:57.625Z"
   },
   {
    "duration": 0,
    "start_time": "2022-07-06T04:13:57.626Z"
   },
   {
    "duration": 0,
    "start_time": "2022-07-06T04:13:57.627Z"
   },
   {
    "duration": 0,
    "start_time": "2022-07-06T04:13:57.628Z"
   },
   {
    "duration": 0,
    "start_time": "2022-07-06T04:13:57.629Z"
   },
   {
    "duration": 0,
    "start_time": "2022-07-06T04:13:57.631Z"
   },
   {
    "duration": 0,
    "start_time": "2022-07-06T04:13:57.632Z"
   },
   {
    "duration": 0,
    "start_time": "2022-07-06T04:13:57.633Z"
   },
   {
    "duration": 0,
    "start_time": "2022-07-06T04:13:57.634Z"
   },
   {
    "duration": 0,
    "start_time": "2022-07-06T04:13:57.635Z"
   },
   {
    "duration": 0,
    "start_time": "2022-07-06T04:13:57.641Z"
   },
   {
    "duration": 0,
    "start_time": "2022-07-06T04:13:57.642Z"
   },
   {
    "duration": 0,
    "start_time": "2022-07-06T04:13:57.643Z"
   },
   {
    "duration": 0,
    "start_time": "2022-07-06T04:13:57.644Z"
   },
   {
    "duration": 0,
    "start_time": "2022-07-06T04:13:57.646Z"
   },
   {
    "duration": 0,
    "start_time": "2022-07-06T04:13:57.647Z"
   },
   {
    "duration": 0,
    "start_time": "2022-07-06T04:13:57.649Z"
   },
   {
    "duration": 0,
    "start_time": "2022-07-06T04:13:57.699Z"
   },
   {
    "duration": 0,
    "start_time": "2022-07-06T04:13:57.700Z"
   },
   {
    "duration": 0,
    "start_time": "2022-07-06T04:13:57.701Z"
   },
   {
    "duration": 0,
    "start_time": "2022-07-06T04:13:57.702Z"
   },
   {
    "duration": 0,
    "start_time": "2022-07-06T04:13:57.703Z"
   },
   {
    "duration": 0,
    "start_time": "2022-07-06T04:13:57.704Z"
   },
   {
    "duration": 0,
    "start_time": "2022-07-06T04:13:57.705Z"
   },
   {
    "duration": 0,
    "start_time": "2022-07-06T04:13:57.706Z"
   },
   {
    "duration": 0,
    "start_time": "2022-07-06T04:13:57.707Z"
   },
   {
    "duration": 0,
    "start_time": "2022-07-06T04:13:57.708Z"
   },
   {
    "duration": 0,
    "start_time": "2022-07-06T04:13:57.709Z"
   },
   {
    "duration": 0,
    "start_time": "2022-07-06T04:13:57.710Z"
   },
   {
    "duration": 0,
    "start_time": "2022-07-06T04:13:57.711Z"
   },
   {
    "duration": 0,
    "start_time": "2022-07-06T04:13:57.712Z"
   },
   {
    "duration": 0,
    "start_time": "2022-07-06T04:13:57.713Z"
   },
   {
    "duration": 0,
    "start_time": "2022-07-06T04:13:57.714Z"
   },
   {
    "duration": 0,
    "start_time": "2022-07-06T04:13:57.715Z"
   },
   {
    "duration": 0,
    "start_time": "2022-07-06T04:13:57.716Z"
   },
   {
    "duration": 0,
    "start_time": "2022-07-06T04:13:57.717Z"
   },
   {
    "duration": 0,
    "start_time": "2022-07-06T04:13:57.718Z"
   },
   {
    "duration": 0,
    "start_time": "2022-07-06T04:13:57.719Z"
   },
   {
    "duration": 0,
    "start_time": "2022-07-06T04:13:57.720Z"
   },
   {
    "duration": 0,
    "start_time": "2022-07-06T04:13:57.721Z"
   },
   {
    "duration": 0,
    "start_time": "2022-07-06T04:13:57.723Z"
   },
   {
    "duration": 0,
    "start_time": "2022-07-06T04:13:57.724Z"
   },
   {
    "duration": 0,
    "start_time": "2022-07-06T04:13:57.725Z"
   },
   {
    "duration": 0,
    "start_time": "2022-07-06T04:13:57.726Z"
   },
   {
    "duration": 0,
    "start_time": "2022-07-06T04:13:57.727Z"
   },
   {
    "duration": 0,
    "start_time": "2022-07-06T04:13:57.728Z"
   },
   {
    "duration": 0,
    "start_time": "2022-07-06T04:13:57.729Z"
   },
   {
    "duration": 0,
    "start_time": "2022-07-06T04:13:57.730Z"
   },
   {
    "duration": 0,
    "start_time": "2022-07-06T04:13:57.731Z"
   },
   {
    "duration": 0,
    "start_time": "2022-07-06T04:13:57.732Z"
   },
   {
    "duration": 0,
    "start_time": "2022-07-06T04:13:57.733Z"
   },
   {
    "duration": 0,
    "start_time": "2022-07-06T04:13:57.734Z"
   },
   {
    "duration": 0,
    "start_time": "2022-07-06T04:13:57.735Z"
   },
   {
    "duration": 0,
    "start_time": "2022-07-06T04:13:57.798Z"
   },
   {
    "duration": 0,
    "start_time": "2022-07-06T04:13:57.799Z"
   },
   {
    "duration": 0,
    "start_time": "2022-07-06T04:13:57.800Z"
   },
   {
    "duration": 0,
    "start_time": "2022-07-06T04:13:57.802Z"
   },
   {
    "duration": 0,
    "start_time": "2022-07-06T04:13:57.803Z"
   },
   {
    "duration": 0,
    "start_time": "2022-07-06T04:13:57.804Z"
   },
   {
    "duration": 0,
    "start_time": "2022-07-06T04:13:57.805Z"
   },
   {
    "duration": 0,
    "start_time": "2022-07-06T04:13:57.807Z"
   },
   {
    "duration": 76,
    "start_time": "2022-07-06T04:14:25.824Z"
   },
   {
    "duration": 27,
    "start_time": "2022-07-06T04:14:54.176Z"
   },
   {
    "duration": 8,
    "start_time": "2022-07-06T04:15:08.280Z"
   },
   {
    "duration": 5,
    "start_time": "2022-07-06T04:15:23.155Z"
   },
   {
    "duration": 21,
    "start_time": "2022-07-06T04:15:28.366Z"
   },
   {
    "duration": 6,
    "start_time": "2022-07-06T04:15:35.016Z"
   },
   {
    "duration": 10,
    "start_time": "2022-07-06T04:15:45.629Z"
   },
   {
    "duration": 7,
    "start_time": "2022-07-06T04:15:47.768Z"
   },
   {
    "duration": 5,
    "start_time": "2022-07-06T04:15:50.945Z"
   },
   {
    "duration": 6,
    "start_time": "2022-07-06T04:16:06.326Z"
   },
   {
    "duration": 6,
    "start_time": "2022-07-06T04:16:45.907Z"
   },
   {
    "duration": 6,
    "start_time": "2022-07-06T04:16:58.645Z"
   },
   {
    "duration": 76,
    "start_time": "2022-07-06T04:19:00.110Z"
   },
   {
    "duration": 84,
    "start_time": "2022-07-06T04:19:06.717Z"
   },
   {
    "duration": 7,
    "start_time": "2022-07-06T04:19:31.986Z"
   },
   {
    "duration": 7,
    "start_time": "2022-07-06T04:20:32.917Z"
   },
   {
    "duration": 80,
    "start_time": "2022-07-06T04:21:18.686Z"
   },
   {
    "duration": 5,
    "start_time": "2022-07-06T04:21:30.870Z"
   },
   {
    "duration": 6,
    "start_time": "2022-07-06T04:22:19.265Z"
   },
   {
    "duration": 7,
    "start_time": "2022-07-06T04:22:25.306Z"
   },
   {
    "duration": 6,
    "start_time": "2022-07-06T04:25:37.696Z"
   },
   {
    "duration": 6,
    "start_time": "2022-07-06T04:25:39.696Z"
   },
   {
    "duration": 5,
    "start_time": "2022-07-06T04:31:00.050Z"
   },
   {
    "duration": 7,
    "start_time": "2022-07-06T04:35:33.898Z"
   },
   {
    "duration": 8,
    "start_time": "2022-07-06T04:36:07.170Z"
   },
   {
    "duration": 6,
    "start_time": "2022-07-06T04:36:55.720Z"
   },
   {
    "duration": 79,
    "start_time": "2022-07-06T04:37:16.936Z"
   },
   {
    "duration": 50,
    "start_time": "2022-07-06T04:38:19.306Z"
   },
   {
    "duration": 9,
    "start_time": "2022-07-06T04:38:57.197Z"
   },
   {
    "duration": 17,
    "start_time": "2022-07-06T04:40:32.203Z"
   },
   {
    "duration": 8,
    "start_time": "2022-07-06T04:40:48.107Z"
   },
   {
    "duration": 10,
    "start_time": "2022-07-06T04:43:19.987Z"
   },
   {
    "duration": 10,
    "start_time": "2022-07-06T04:43:45.076Z"
   },
   {
    "duration": 14,
    "start_time": "2022-07-06T04:44:15.409Z"
   },
   {
    "duration": 9,
    "start_time": "2022-07-06T04:44:31.268Z"
   },
   {
    "duration": 8,
    "start_time": "2022-07-06T04:45:15.298Z"
   },
   {
    "duration": 14,
    "start_time": "2022-07-06T04:45:27.384Z"
   },
   {
    "duration": 11,
    "start_time": "2022-07-06T04:45:34.139Z"
   },
   {
    "duration": 14,
    "start_time": "2022-07-06T04:45:48.827Z"
   },
   {
    "duration": 19,
    "start_time": "2022-07-06T04:53:06.821Z"
   },
   {
    "duration": 19,
    "start_time": "2022-07-06T04:53:41.058Z"
   },
   {
    "duration": 11,
    "start_time": "2022-07-06T04:53:51.569Z"
   },
   {
    "duration": 11,
    "start_time": "2022-07-06T04:54:03.034Z"
   },
   {
    "duration": 7,
    "start_time": "2022-07-06T04:54:13.743Z"
   },
   {
    "duration": 6,
    "start_time": "2022-07-06T04:56:10.659Z"
   },
   {
    "duration": 6,
    "start_time": "2022-07-06T04:56:36.308Z"
   },
   {
    "duration": 76,
    "start_time": "2022-07-06T04:57:05.216Z"
   },
   {
    "duration": 23,
    "start_time": "2022-07-06T04:57:13.881Z"
   },
   {
    "duration": 5,
    "start_time": "2022-07-06T04:58:20.150Z"
   },
   {
    "duration": 6,
    "start_time": "2022-07-06T04:58:28.586Z"
   },
   {
    "duration": 5,
    "start_time": "2022-07-06T05:00:21.165Z"
   },
   {
    "duration": 6,
    "start_time": "2022-07-06T05:00:59.670Z"
   },
   {
    "duration": 6,
    "start_time": "2022-07-06T05:01:08.275Z"
   },
   {
    "duration": 7,
    "start_time": "2022-07-06T05:01:13.769Z"
   },
   {
    "duration": 6,
    "start_time": "2022-07-06T05:03:11.904Z"
   },
   {
    "duration": 4,
    "start_time": "2022-07-06T05:03:59.366Z"
   },
   {
    "duration": 8,
    "start_time": "2022-07-06T05:07:47.363Z"
   },
   {
    "duration": 3,
    "start_time": "2022-07-06T05:08:44.921Z"
   },
   {
    "duration": 3,
    "start_time": "2022-07-06T05:08:54.665Z"
   },
   {
    "duration": 4,
    "start_time": "2022-07-06T05:11:10.817Z"
   },
   {
    "duration": 4,
    "start_time": "2022-07-06T05:11:10.823Z"
   },
   {
    "duration": 6,
    "start_time": "2022-07-06T05:11:10.828Z"
   },
   {
    "duration": 6,
    "start_time": "2022-07-06T05:11:10.836Z"
   },
   {
    "duration": 5,
    "start_time": "2022-07-06T05:11:10.845Z"
   },
   {
    "duration": 3,
    "start_time": "2022-07-06T05:11:10.853Z"
   },
   {
    "duration": 7,
    "start_time": "2022-07-06T05:11:10.857Z"
   },
   {
    "duration": 14,
    "start_time": "2022-07-06T05:11:10.865Z"
   },
   {
    "duration": 4,
    "start_time": "2022-07-06T05:11:10.881Z"
   },
   {
    "duration": 3,
    "start_time": "2022-07-06T05:11:11.091Z"
   },
   {
    "duration": 6,
    "start_time": "2022-07-06T05:11:11.096Z"
   },
   {
    "duration": 5,
    "start_time": "2022-07-06T05:11:11.103Z"
   },
   {
    "duration": 4,
    "start_time": "2022-07-06T05:11:11.110Z"
   },
   {
    "duration": 6,
    "start_time": "2022-07-06T05:11:11.116Z"
   },
   {
    "duration": 5,
    "start_time": "2022-07-06T05:11:11.123Z"
   },
   {
    "duration": 5,
    "start_time": "2022-07-06T05:11:11.129Z"
   },
   {
    "duration": 6,
    "start_time": "2022-07-06T05:11:11.135Z"
   },
   {
    "duration": 4,
    "start_time": "2022-07-06T05:11:11.143Z"
   },
   {
    "duration": 3,
    "start_time": "2022-07-06T05:11:11.396Z"
   },
   {
    "duration": 5,
    "start_time": "2022-07-06T05:11:11.401Z"
   },
   {
    "duration": 6,
    "start_time": "2022-07-06T05:11:11.407Z"
   },
   {
    "duration": 4,
    "start_time": "2022-07-06T05:11:11.414Z"
   },
   {
    "duration": 4,
    "start_time": "2022-07-06T05:11:11.421Z"
   },
   {
    "duration": 4,
    "start_time": "2022-07-06T05:11:11.426Z"
   },
   {
    "duration": 3,
    "start_time": "2022-07-06T05:11:11.432Z"
   },
   {
    "duration": 4,
    "start_time": "2022-07-06T05:11:11.437Z"
   },
   {
    "duration": 4,
    "start_time": "2022-07-06T05:11:11.443Z"
   },
   {
    "duration": 2,
    "start_time": "2022-07-06T05:11:12.490Z"
   },
   {
    "duration": 7,
    "start_time": "2022-07-06T05:11:12.494Z"
   },
   {
    "duration": 6,
    "start_time": "2022-07-06T05:11:12.502Z"
   },
   {
    "duration": 6,
    "start_time": "2022-07-06T05:11:12.510Z"
   },
   {
    "duration": 4,
    "start_time": "2022-07-06T05:11:12.518Z"
   },
   {
    "duration": 5,
    "start_time": "2022-07-06T05:11:12.523Z"
   },
   {
    "duration": 4,
    "start_time": "2022-07-06T05:11:12.530Z"
   },
   {
    "duration": 4,
    "start_time": "2022-07-06T05:11:12.536Z"
   },
   {
    "duration": 4,
    "start_time": "2022-07-06T05:11:12.542Z"
   },
   {
    "duration": 5,
    "start_time": "2022-07-06T05:11:12.547Z"
   },
   {
    "duration": 6,
    "start_time": "2022-07-06T05:11:12.553Z"
   },
   {
    "duration": 5,
    "start_time": "2022-07-06T05:11:12.560Z"
   },
   {
    "duration": 5,
    "start_time": "2022-07-06T05:11:12.567Z"
   },
   {
    "duration": 3,
    "start_time": "2022-07-06T05:11:12.734Z"
   },
   {
    "duration": 5,
    "start_time": "2022-07-06T05:11:12.738Z"
   },
   {
    "duration": 5,
    "start_time": "2022-07-06T05:11:12.745Z"
   },
   {
    "duration": 10,
    "start_time": "2022-07-06T05:11:12.752Z"
   },
   {
    "duration": 6,
    "start_time": "2022-07-06T05:11:12.764Z"
   },
   {
    "duration": 7,
    "start_time": "2022-07-06T05:11:12.771Z"
   },
   {
    "duration": 4,
    "start_time": "2022-07-06T05:11:12.780Z"
   },
   {
    "duration": 4,
    "start_time": "2022-07-06T05:11:12.786Z"
   },
   {
    "duration": 6,
    "start_time": "2022-07-06T05:11:59.900Z"
   },
   {
    "duration": 6,
    "start_time": "2022-07-06T05:12:18.227Z"
   },
   {
    "duration": 6,
    "start_time": "2022-07-06T05:12:59.708Z"
   },
   {
    "duration": 6,
    "start_time": "2022-07-06T05:13:05.653Z"
   },
   {
    "duration": 8,
    "start_time": "2022-07-06T05:16:34.756Z"
   },
   {
    "duration": 7,
    "start_time": "2022-07-06T05:18:22.427Z"
   },
   {
    "duration": 7,
    "start_time": "2022-07-06T05:18:51.741Z"
   },
   {
    "duration": 17,
    "start_time": "2022-07-06T05:20:20.633Z"
   },
   {
    "duration": 16,
    "start_time": "2022-07-06T05:20:33.079Z"
   },
   {
    "duration": 6,
    "start_time": "2022-07-06T23:26:50.208Z"
   },
   {
    "duration": 474,
    "start_time": "2022-07-06T23:26:59.766Z"
   },
   {
    "duration": 3,
    "start_time": "2022-07-06T23:27:02.580Z"
   },
   {
    "duration": 11,
    "start_time": "2022-07-06T23:27:13.150Z"
   },
   {
    "duration": 22,
    "start_time": "2022-07-07T00:16:20.153Z"
   },
   {
    "duration": 32,
    "start_time": "2022-07-07T00:17:49.664Z"
   },
   {
    "duration": 5,
    "start_time": "2022-07-07T00:18:00.922Z"
   },
   {
    "duration": 8,
    "start_time": "2022-07-07T00:18:20.568Z"
   },
   {
    "duration": 8,
    "start_time": "2022-07-07T00:18:39.298Z"
   },
   {
    "duration": 8,
    "start_time": "2022-07-07T00:19:28.095Z"
   },
   {
    "duration": 8,
    "start_time": "2022-07-07T00:20:11.135Z"
   },
   {
    "duration": 8,
    "start_time": "2022-07-07T00:20:38.274Z"
   },
   {
    "duration": 10,
    "start_time": "2022-07-07T00:21:29.322Z"
   },
   {
    "duration": 7,
    "start_time": "2022-07-07T00:27:27.288Z"
   },
   {
    "duration": 0,
    "start_time": "2022-07-07T01:28:45.204Z"
   },
   {
    "duration": 0,
    "start_time": "2022-07-07T01:28:45.205Z"
   },
   {
    "duration": 3,
    "start_time": "2022-07-07T01:28:47.382Z"
   },
   {
    "duration": 5,
    "start_time": "2022-07-07T01:28:54.442Z"
   },
   {
    "duration": 5,
    "start_time": "2022-07-07T01:30:45.152Z"
   },
   {
    "duration": 8,
    "start_time": "2022-07-07T02:14:39.258Z"
   },
   {
    "duration": 6,
    "start_time": "2022-07-07T02:14:57.300Z"
   },
   {
    "duration": 19,
    "start_time": "2022-07-07T02:15:09.082Z"
   },
   {
    "duration": 7,
    "start_time": "2022-07-07T02:15:55.145Z"
   },
   {
    "duration": 10,
    "start_time": "2022-07-07T02:29:00.922Z"
   },
   {
    "duration": 6,
    "start_time": "2022-07-07T02:29:03.585Z"
   },
   {
    "duration": 5,
    "start_time": "2022-07-07T02:29:27.707Z"
   },
   {
    "duration": 4,
    "start_time": "2022-07-07T02:29:28.896Z"
   },
   {
    "duration": 5,
    "start_time": "2022-07-07T02:29:56.474Z"
   },
   {
    "duration": 5,
    "start_time": "2022-07-07T02:29:57.660Z"
   },
   {
    "duration": 6,
    "start_time": "2022-07-07T02:31:13.329Z"
   },
   {
    "duration": 6,
    "start_time": "2022-07-07T02:31:36.474Z"
   },
   {
    "duration": 8,
    "start_time": "2022-07-07T02:31:38.049Z"
   },
   {
    "duration": 10,
    "start_time": "2022-07-07T02:32:41.902Z"
   },
   {
    "duration": 4,
    "start_time": "2022-07-07T02:32:54.885Z"
   },
   {
    "duration": 4,
    "start_time": "2022-07-07T02:33:57.891Z"
   },
   {
    "duration": 4,
    "start_time": "2022-07-07T02:34:30.657Z"
   },
   {
    "duration": 4,
    "start_time": "2022-07-07T02:36:27.747Z"
   },
   {
    "duration": 4,
    "start_time": "2022-07-07T02:37:18.174Z"
   },
   {
    "duration": 6,
    "start_time": "2022-07-07T02:37:19.741Z"
   },
   {
    "duration": 8,
    "start_time": "2022-07-07T02:37:46.220Z"
   },
   {
    "duration": 5,
    "start_time": "2022-07-07T02:38:16.912Z"
   },
   {
    "duration": 6,
    "start_time": "2022-07-07T02:38:18.578Z"
   },
   {
    "duration": 5,
    "start_time": "2022-07-07T02:41:09.941Z"
   },
   {
    "duration": 6,
    "start_time": "2022-07-07T02:41:11.628Z"
   },
   {
    "duration": 6,
    "start_time": "2022-07-07T02:41:32.904Z"
   },
   {
    "duration": 8,
    "start_time": "2022-07-07T02:41:34.109Z"
   },
   {
    "duration": 5,
    "start_time": "2022-07-07T02:42:11.984Z"
   },
   {
    "duration": 489,
    "start_time": "2022-07-07T02:42:33.690Z"
   },
   {
    "duration": 3,
    "start_time": "2022-07-07T02:42:34.180Z"
   },
   {
    "duration": 42,
    "start_time": "2022-07-07T02:42:34.185Z"
   },
   {
    "duration": 25,
    "start_time": "2022-07-07T02:42:34.229Z"
   },
   {
    "duration": 49,
    "start_time": "2022-07-07T02:42:34.256Z"
   },
   {
    "duration": 8,
    "start_time": "2022-07-07T02:42:34.306Z"
   },
   {
    "duration": 14,
    "start_time": "2022-07-07T02:42:34.316Z"
   },
   {
    "duration": 45,
    "start_time": "2022-07-07T02:42:34.332Z"
   },
   {
    "duration": 29,
    "start_time": "2022-07-07T02:42:34.379Z"
   },
   {
    "duration": 5,
    "start_time": "2022-07-07T02:42:34.412Z"
   },
   {
    "duration": 27,
    "start_time": "2022-07-07T02:42:34.419Z"
   },
   {
    "duration": 17,
    "start_time": "2022-07-07T02:42:34.448Z"
   },
   {
    "duration": 21,
    "start_time": "2022-07-07T02:42:34.467Z"
   },
   {
    "duration": 31,
    "start_time": "2022-07-07T02:42:34.491Z"
   },
   {
    "duration": 13,
    "start_time": "2022-07-07T02:42:34.525Z"
   },
   {
    "duration": 30,
    "start_time": "2022-07-07T02:42:34.540Z"
   },
   {
    "duration": 24,
    "start_time": "2022-07-07T02:42:34.573Z"
   },
   {
    "duration": 17,
    "start_time": "2022-07-07T02:42:34.599Z"
   },
   {
    "duration": 6,
    "start_time": "2022-07-07T02:42:34.618Z"
   },
   {
    "duration": 34,
    "start_time": "2022-07-07T02:42:34.626Z"
   },
   {
    "duration": 12,
    "start_time": "2022-07-07T02:42:34.662Z"
   },
   {
    "duration": 20,
    "start_time": "2022-07-07T02:42:34.675Z"
   },
   {
    "duration": 15,
    "start_time": "2022-07-07T02:42:34.696Z"
   },
   {
    "duration": 11,
    "start_time": "2022-07-07T02:42:34.712Z"
   },
   {
    "duration": 11,
    "start_time": "2022-07-07T02:42:34.724Z"
   },
   {
    "duration": 45,
    "start_time": "2022-07-07T02:42:34.738Z"
   },
   {
    "duration": 0,
    "start_time": "2022-07-07T02:42:34.786Z"
   },
   {
    "duration": 0,
    "start_time": "2022-07-07T02:42:34.788Z"
   },
   {
    "duration": 0,
    "start_time": "2022-07-07T02:42:34.789Z"
   },
   {
    "duration": 0,
    "start_time": "2022-07-07T02:42:34.791Z"
   },
   {
    "duration": 0,
    "start_time": "2022-07-07T02:42:34.792Z"
   },
   {
    "duration": 0,
    "start_time": "2022-07-07T02:42:34.794Z"
   },
   {
    "duration": 0,
    "start_time": "2022-07-07T02:42:34.795Z"
   },
   {
    "duration": 0,
    "start_time": "2022-07-07T02:42:34.797Z"
   },
   {
    "duration": 0,
    "start_time": "2022-07-07T02:42:34.799Z"
   },
   {
    "duration": 0,
    "start_time": "2022-07-07T02:42:34.800Z"
   },
   {
    "duration": 0,
    "start_time": "2022-07-07T02:42:34.802Z"
   },
   {
    "duration": 0,
    "start_time": "2022-07-07T02:42:34.803Z"
   },
   {
    "duration": 0,
    "start_time": "2022-07-07T02:42:34.805Z"
   },
   {
    "duration": 0,
    "start_time": "2022-07-07T02:42:34.806Z"
   },
   {
    "duration": 0,
    "start_time": "2022-07-07T02:42:34.808Z"
   },
   {
    "duration": 0,
    "start_time": "2022-07-07T02:42:34.810Z"
   },
   {
    "duration": 0,
    "start_time": "2022-07-07T02:42:34.812Z"
   },
   {
    "duration": 0,
    "start_time": "2022-07-07T02:42:34.814Z"
   },
   {
    "duration": 0,
    "start_time": "2022-07-07T02:42:34.816Z"
   },
   {
    "duration": 0,
    "start_time": "2022-07-07T02:42:34.817Z"
   },
   {
    "duration": 0,
    "start_time": "2022-07-07T02:42:34.819Z"
   },
   {
    "duration": 0,
    "start_time": "2022-07-07T02:42:34.821Z"
   },
   {
    "duration": 0,
    "start_time": "2022-07-07T02:42:34.822Z"
   },
   {
    "duration": 0,
    "start_time": "2022-07-07T02:42:34.823Z"
   },
   {
    "duration": 0,
    "start_time": "2022-07-07T02:42:34.825Z"
   },
   {
    "duration": 0,
    "start_time": "2022-07-07T02:42:34.827Z"
   },
   {
    "duration": 0,
    "start_time": "2022-07-07T02:42:34.828Z"
   },
   {
    "duration": 0,
    "start_time": "2022-07-07T02:42:34.830Z"
   },
   {
    "duration": 0,
    "start_time": "2022-07-07T02:42:34.832Z"
   },
   {
    "duration": 0,
    "start_time": "2022-07-07T02:42:34.833Z"
   },
   {
    "duration": 0,
    "start_time": "2022-07-07T02:42:34.835Z"
   },
   {
    "duration": 0,
    "start_time": "2022-07-07T02:42:34.836Z"
   },
   {
    "duration": 0,
    "start_time": "2022-07-07T02:42:34.837Z"
   },
   {
    "duration": 0,
    "start_time": "2022-07-07T02:42:34.839Z"
   },
   {
    "duration": 0,
    "start_time": "2022-07-07T02:42:34.840Z"
   },
   {
    "duration": 0,
    "start_time": "2022-07-07T02:42:34.841Z"
   },
   {
    "duration": 0,
    "start_time": "2022-07-07T02:42:34.901Z"
   },
   {
    "duration": 0,
    "start_time": "2022-07-07T02:42:34.903Z"
   },
   {
    "duration": 0,
    "start_time": "2022-07-07T02:42:34.905Z"
   },
   {
    "duration": 0,
    "start_time": "2022-07-07T02:42:34.906Z"
   },
   {
    "duration": 0,
    "start_time": "2022-07-07T02:42:34.906Z"
   },
   {
    "duration": 0,
    "start_time": "2022-07-07T02:42:34.908Z"
   },
   {
    "duration": 0,
    "start_time": "2022-07-07T02:42:34.909Z"
   },
   {
    "duration": 0,
    "start_time": "2022-07-07T02:42:34.910Z"
   },
   {
    "duration": 0,
    "start_time": "2022-07-07T02:42:34.911Z"
   },
   {
    "duration": 0,
    "start_time": "2022-07-07T02:42:34.912Z"
   },
   {
    "duration": 0,
    "start_time": "2022-07-07T02:42:34.914Z"
   },
   {
    "duration": 0,
    "start_time": "2022-07-07T02:42:34.915Z"
   },
   {
    "duration": 0,
    "start_time": "2022-07-07T02:42:34.916Z"
   },
   {
    "duration": 818,
    "start_time": "2022-07-07T02:44:08.958Z"
   },
   {
    "duration": 4,
    "start_time": "2022-07-07T02:44:28.634Z"
   },
   {
    "duration": 6,
    "start_time": "2022-07-07T02:44:31.327Z"
   },
   {
    "duration": 6,
    "start_time": "2022-07-07T02:46:08.980Z"
   },
   {
    "duration": 6,
    "start_time": "2022-07-07T02:46:11.492Z"
   },
   {
    "duration": 6,
    "start_time": "2022-07-07T02:46:34.902Z"
   },
   {
    "duration": 6,
    "start_time": "2022-07-07T02:46:36.213Z"
   },
   {
    "duration": 9,
    "start_time": "2022-07-07T02:48:16.866Z"
   },
   {
    "duration": 11,
    "start_time": "2022-07-07T02:48:36.234Z"
   },
   {
    "duration": 3,
    "start_time": "2022-07-07T02:48:55.899Z"
   },
   {
    "duration": 10,
    "start_time": "2022-07-07T02:49:22.329Z"
   },
   {
    "duration": 55,
    "start_time": "2022-07-07T02:53:48.815Z"
   },
   {
    "duration": 9,
    "start_time": "2022-07-07T02:53:59.170Z"
   },
   {
    "duration": 7,
    "start_time": "2022-07-07T02:55:10.921Z"
   },
   {
    "duration": 58,
    "start_time": "2022-07-07T02:55:41.590Z"
   },
   {
    "duration": 9,
    "start_time": "2022-07-07T02:55:51.693Z"
   },
   {
    "duration": 51,
    "start_time": "2022-07-07T02:56:54.536Z"
   },
   {
    "duration": 8,
    "start_time": "2022-07-07T02:59:03.223Z"
   },
   {
    "duration": 7,
    "start_time": "2022-07-07T02:59:45.342Z"
   },
   {
    "duration": 8,
    "start_time": "2022-07-07T03:00:12.292Z"
   },
   {
    "duration": 5,
    "start_time": "2022-07-07T03:03:21.932Z"
   },
   {
    "duration": 8,
    "start_time": "2022-07-07T03:03:54.970Z"
   },
   {
    "duration": 8,
    "start_time": "2022-07-07T03:04:11.236Z"
   },
   {
    "duration": 5,
    "start_time": "2022-07-07T03:04:24.450Z"
   },
   {
    "duration": 5,
    "start_time": "2022-07-07T03:04:55.940Z"
   },
   {
    "duration": 6,
    "start_time": "2022-07-07T03:05:12.903Z"
   },
   {
    "duration": 6,
    "start_time": "2022-07-07T03:05:36.382Z"
   },
   {
    "duration": 5,
    "start_time": "2022-07-07T03:05:45.868Z"
   },
   {
    "duration": 9,
    "start_time": "2022-07-07T03:06:46.502Z"
   },
   {
    "duration": 8,
    "start_time": "2022-07-07T03:18:28.266Z"
   },
   {
    "duration": 5,
    "start_time": "2022-07-07T03:20:40.045Z"
   },
   {
    "duration": 7,
    "start_time": "2022-07-07T03:21:01.347Z"
   },
   {
    "duration": 6,
    "start_time": "2022-07-07T03:21:40.790Z"
   },
   {
    "duration": 4,
    "start_time": "2022-07-07T03:28:48.515Z"
   },
   {
    "duration": 6,
    "start_time": "2022-07-07T03:38:59.790Z"
   },
   {
    "duration": 31,
    "start_time": "2022-07-07T03:41:00.286Z"
   },
   {
    "duration": 5,
    "start_time": "2022-07-07T04:08:50.847Z"
   },
   {
    "duration": 6,
    "start_time": "2022-07-07T04:09:18.451Z"
   },
   {
    "duration": 43,
    "start_time": "2022-07-08T22:14:56.361Z"
   },
   {
    "duration": 6,
    "start_time": "2022-07-08T22:15:04.122Z"
   },
   {
    "duration": 692,
    "start_time": "2022-07-08T22:15:08.291Z"
   },
   {
    "duration": 3,
    "start_time": "2022-07-08T22:15:11.219Z"
   },
   {
    "duration": 13,
    "start_time": "2022-07-08T22:15:24.519Z"
   },
   {
    "duration": 10,
    "start_time": "2022-07-08T22:20:46.158Z"
   },
   {
    "duration": 461,
    "start_time": "2022-07-08T22:21:06.780Z"
   },
   {
    "duration": 6,
    "start_time": "2022-07-08T22:22:43.102Z"
   },
   {
    "duration": 7,
    "start_time": "2022-07-08T22:23:35.399Z"
   },
   {
    "duration": 13,
    "start_time": "2022-07-08T22:23:50.187Z"
   },
   {
    "duration": 5,
    "start_time": "2022-07-08T22:24:30.531Z"
   },
   {
    "duration": 36,
    "start_time": "2022-07-08T22:25:47.624Z"
   },
   {
    "duration": 879,
    "start_time": "2022-07-08T22:33:39.054Z"
   },
   {
    "duration": 7,
    "start_time": "2022-07-08T22:34:04.954Z"
   },
   {
    "duration": 667,
    "start_time": "2022-07-08T22:34:29.331Z"
   },
   {
    "duration": 7,
    "start_time": "2022-07-08T22:34:44.933Z"
   },
   {
    "duration": 5,
    "start_time": "2022-07-08T22:35:17.515Z"
   },
   {
    "duration": 804,
    "start_time": "2022-07-08T22:35:58.232Z"
   },
   {
    "duration": 5,
    "start_time": "2022-07-08T22:36:07.712Z"
   },
   {
    "duration": 5,
    "start_time": "2022-07-08T22:37:17.079Z"
   },
   {
    "duration": 5,
    "start_time": "2022-07-08T23:27:10.497Z"
   },
   {
    "duration": 19,
    "start_time": "2022-07-08T23:35:14.603Z"
   },
   {
    "duration": 15,
    "start_time": "2022-07-08T23:37:34.768Z"
   },
   {
    "duration": 11,
    "start_time": "2022-07-08T23:38:05.321Z"
   },
   {
    "duration": 18,
    "start_time": "2022-07-08T23:38:53.429Z"
   },
   {
    "duration": 13,
    "start_time": "2022-07-08T23:39:16.809Z"
   },
   {
    "duration": 11,
    "start_time": "2022-07-08T23:44:16.689Z"
   },
   {
    "duration": 11,
    "start_time": "2022-07-08T23:44:45.027Z"
   },
   {
    "duration": 19,
    "start_time": "2022-07-08T23:45:15.601Z"
   },
   {
    "duration": 44,
    "start_time": "2022-07-09T02:17:41.432Z"
   },
   {
    "duration": 9,
    "start_time": "2022-07-09T02:17:49.617Z"
   },
   {
    "duration": 505,
    "start_time": "2022-07-09T02:17:58.222Z"
   },
   {
    "duration": 10,
    "start_time": "2022-07-09T02:18:13.548Z"
   },
   {
    "duration": 38,
    "start_time": "2022-07-09T02:18:18.033Z"
   },
   {
    "duration": 28,
    "start_time": "2022-07-09T02:23:18.213Z"
   },
   {
    "duration": 20,
    "start_time": "2022-07-09T02:23:27.815Z"
   },
   {
    "duration": 10,
    "start_time": "2022-07-09T02:24:56.338Z"
   },
   {
    "duration": 952,
    "start_time": "2022-07-09T02:25:07.069Z"
   },
   {
    "duration": 7,
    "start_time": "2022-07-09T02:25:37.433Z"
   },
   {
    "duration": 6,
    "start_time": "2022-07-09T02:28:43.719Z"
   },
   {
    "duration": 11,
    "start_time": "2022-07-09T02:29:14.160Z"
   },
   {
    "duration": 33,
    "start_time": "2022-07-09T02:34:10.867Z"
   },
   {
    "duration": 64,
    "start_time": "2022-07-09T02:37:55.408Z"
   },
   {
    "duration": 9,
    "start_time": "2022-07-09T02:38:06.800Z"
   },
   {
    "duration": 48,
    "start_time": "2022-07-09T02:38:28.615Z"
   },
   {
    "duration": 6,
    "start_time": "2022-07-09T02:38:43.529Z"
   },
   {
    "duration": 4,
    "start_time": "2022-07-09T02:38:47.224Z"
   },
   {
    "duration": 9,
    "start_time": "2022-07-09T02:38:56.720Z"
   },
   {
    "duration": 6,
    "start_time": "2022-07-09T02:39:04.848Z"
   },
   {
    "duration": 7,
    "start_time": "2022-07-09T02:39:32.220Z"
   },
   {
    "duration": 4,
    "start_time": "2022-07-09T02:39:43.262Z"
   },
   {
    "duration": 7,
    "start_time": "2022-07-09T02:39:51.440Z"
   },
   {
    "duration": 48,
    "start_time": "2022-07-09T02:41:06.035Z"
   },
   {
    "duration": 47,
    "start_time": "2022-07-09T02:42:40.086Z"
   },
   {
    "duration": 7,
    "start_time": "2022-07-09T02:42:54.514Z"
   },
   {
    "duration": 42,
    "start_time": "2022-07-09T02:43:31.194Z"
   },
   {
    "duration": 109,
    "start_time": "2022-07-09T02:44:09.254Z"
   },
   {
    "duration": 8,
    "start_time": "2022-07-09T02:45:33.463Z"
   },
   {
    "duration": 60,
    "start_time": "2022-07-09T02:45:44.299Z"
   },
   {
    "duration": 47,
    "start_time": "2022-07-09T02:46:09.893Z"
   },
   {
    "duration": 6,
    "start_time": "2022-07-09T02:46:22.451Z"
   },
   {
    "duration": 53,
    "start_time": "2022-07-09T02:47:28.264Z"
   },
   {
    "duration": 6,
    "start_time": "2022-07-09T02:47:52.113Z"
   },
   {
    "duration": 4,
    "start_time": "2022-07-09T02:49:33.333Z"
   },
   {
    "duration": 8,
    "start_time": "2022-07-09T02:50:04.780Z"
   },
   {
    "duration": 8,
    "start_time": "2022-07-09T02:51:17.299Z"
   },
   {
    "duration": 9,
    "start_time": "2022-07-09T02:51:40.439Z"
   },
   {
    "duration": 3,
    "start_time": "2022-07-09T02:58:27.000Z"
   },
   {
    "duration": 10,
    "start_time": "2022-07-09T03:11:09.595Z"
   },
   {
    "duration": 7,
    "start_time": "2022-07-09T03:12:01.347Z"
   },
   {
    "duration": 6,
    "start_time": "2022-07-09T03:12:19.455Z"
   },
   {
    "duration": 9,
    "start_time": "2022-07-09T03:12:29.135Z"
   },
   {
    "duration": 8,
    "start_time": "2022-07-09T03:12:48.159Z"
   },
   {
    "duration": 8,
    "start_time": "2022-07-09T03:12:57.339Z"
   },
   {
    "duration": 12,
    "start_time": "2022-07-09T03:13:06.189Z"
   },
   {
    "duration": 9,
    "start_time": "2022-07-09T03:13:21.136Z"
   },
   {
    "duration": 9,
    "start_time": "2022-07-09T03:13:30.476Z"
   },
   {
    "duration": 7,
    "start_time": "2022-07-09T03:13:41.816Z"
   },
   {
    "duration": 9,
    "start_time": "2022-07-09T03:13:58.399Z"
   },
   {
    "duration": 21,
    "start_time": "2022-07-09T03:14:22.264Z"
   },
   {
    "duration": 8,
    "start_time": "2022-07-09T03:15:10.235Z"
   },
   {
    "duration": 7,
    "start_time": "2022-07-09T03:15:24.432Z"
   },
   {
    "duration": 13,
    "start_time": "2022-07-09T03:16:52.213Z"
   },
   {
    "duration": 10,
    "start_time": "2022-07-09T03:21:22.181Z"
   },
   {
    "duration": 51,
    "start_time": "2022-07-09T03:21:43.661Z"
   },
   {
    "duration": 16,
    "start_time": "2022-07-09T03:21:47.611Z"
   },
   {
    "duration": 7,
    "start_time": "2022-07-09T03:22:05.608Z"
   },
   {
    "duration": 12,
    "start_time": "2022-07-09T03:22:30.432Z"
   },
   {
    "duration": 11,
    "start_time": "2022-07-09T03:22:49.671Z"
   },
   {
    "duration": 8,
    "start_time": "2022-07-09T03:22:58.507Z"
   },
   {
    "duration": 11,
    "start_time": "2022-07-09T03:24:18.385Z"
   },
   {
    "duration": 10,
    "start_time": "2022-07-09T03:25:04.433Z"
   },
   {
    "duration": 15,
    "start_time": "2022-07-09T03:27:58.955Z"
   },
   {
    "duration": 9,
    "start_time": "2022-07-09T04:19:47.018Z"
   },
   {
    "duration": 69,
    "start_time": "2022-07-09T04:20:14.988Z"
   },
   {
    "duration": 432,
    "start_time": "2022-07-09T04:20:29.541Z"
   },
   {
    "duration": 3,
    "start_time": "2022-07-09T04:20:32.768Z"
   },
   {
    "duration": 30,
    "start_time": "2022-07-09T04:20:40.856Z"
   },
   {
    "duration": 61,
    "start_time": "2022-07-09T04:21:25.521Z"
   },
   {
    "duration": 894,
    "start_time": "2022-07-09T04:21:49.944Z"
   },
   {
    "duration": 8,
    "start_time": "2022-07-09T04:22:03.728Z"
   },
   {
    "duration": 22,
    "start_time": "2022-07-09T04:22:16.193Z"
   },
   {
    "duration": 8,
    "start_time": "2022-07-09T04:22:41.039Z"
   },
   {
    "duration": 8,
    "start_time": "2022-07-09T04:23:22.430Z"
   },
   {
    "duration": 12,
    "start_time": "2022-07-09T04:23:40.864Z"
   },
   {
    "duration": 10,
    "start_time": "2022-07-09T04:24:00.586Z"
   },
   {
    "duration": 9,
    "start_time": "2022-07-09T04:24:03.224Z"
   },
   {
    "duration": 7,
    "start_time": "2022-07-09T04:24:12.821Z"
   },
   {
    "duration": 5,
    "start_time": "2022-07-09T04:24:27.690Z"
   },
   {
    "duration": 6,
    "start_time": "2022-07-09T04:24:29.522Z"
   },
   {
    "duration": 12,
    "start_time": "2022-07-09T04:24:43.440Z"
   },
   {
    "duration": 8,
    "start_time": "2022-07-09T04:24:47.870Z"
   },
   {
    "duration": 14,
    "start_time": "2022-07-09T04:24:52.614Z"
   },
   {
    "duration": 110,
    "start_time": "2022-07-09T04:27:24.456Z"
   },
   {
    "duration": 10,
    "start_time": "2022-07-09T04:27:35.001Z"
   },
   {
    "duration": 12,
    "start_time": "2022-07-09T04:28:10.342Z"
   },
   {
    "duration": 71,
    "start_time": "2022-07-09T04:29:26.882Z"
   },
   {
    "duration": 6,
    "start_time": "2022-07-09T04:29:42.055Z"
   },
   {
    "duration": 6,
    "start_time": "2022-07-09T04:30:53.888Z"
   },
   {
    "duration": 11,
    "start_time": "2022-07-09T04:31:12.387Z"
   },
   {
    "duration": 8,
    "start_time": "2022-07-09T04:31:32.657Z"
   },
   {
    "duration": 11,
    "start_time": "2022-07-09T04:31:40.282Z"
   },
   {
    "duration": 5,
    "start_time": "2022-07-09T04:31:48.623Z"
   },
   {
    "duration": 20,
    "start_time": "2022-07-09T04:31:52.022Z"
   },
   {
    "duration": 46,
    "start_time": "2022-07-09T04:32:18.131Z"
   },
   {
    "duration": 422,
    "start_time": "2022-07-09T04:32:24.643Z"
   },
   {
    "duration": 4,
    "start_time": "2022-07-09T04:32:26.965Z"
   },
   {
    "duration": 14,
    "start_time": "2022-07-09T04:32:35.545Z"
   },
   {
    "duration": 8,
    "start_time": "2022-07-09T04:32:53.438Z"
   },
   {
    "duration": 13,
    "start_time": "2022-07-09T04:32:56.378Z"
   },
   {
    "duration": 9,
    "start_time": "2022-07-09T04:32:58.285Z"
   },
   {
    "duration": 7,
    "start_time": "2022-07-09T04:33:08.096Z"
   },
   {
    "duration": 13,
    "start_time": "2022-07-09T04:33:13.797Z"
   },
   {
    "duration": 13,
    "start_time": "2022-07-09T04:33:15.840Z"
   },
   {
    "duration": 9,
    "start_time": "2022-07-09T04:33:47.725Z"
   },
   {
    "duration": 7,
    "start_time": "2022-07-09T04:33:51.096Z"
   },
   {
    "duration": 4,
    "start_time": "2022-07-09T04:33:53.063Z"
   },
   {
    "duration": 11,
    "start_time": "2022-07-09T04:34:01.582Z"
   },
   {
    "duration": 5,
    "start_time": "2022-07-09T04:41:05.136Z"
   },
   {
    "duration": 9,
    "start_time": "2022-07-09T04:41:07.632Z"
   },
   {
    "duration": 28,
    "start_time": "2022-07-09T04:44:21.629Z"
   },
   {
    "duration": 10,
    "start_time": "2022-07-09T04:44:28.281Z"
   },
   {
    "duration": 9,
    "start_time": "2022-07-09T04:44:44.784Z"
   },
   {
    "duration": 16,
    "start_time": "2022-07-09T04:45:52.195Z"
   },
   {
    "duration": 7,
    "start_time": "2022-07-09T04:45:57.899Z"
   },
   {
    "duration": 5,
    "start_time": "2022-07-09T04:46:12.368Z"
   },
   {
    "duration": 5,
    "start_time": "2022-07-09T05:51:02.494Z"
   },
   {
    "duration": 4,
    "start_time": "2022-07-09T05:51:04.956Z"
   },
   {
    "duration": 16,
    "start_time": "2022-07-09T05:51:27.523Z"
   },
   {
    "duration": 10,
    "start_time": "2022-07-09T05:53:20.788Z"
   },
   {
    "duration": 32,
    "start_time": "2022-07-09T05:53:32.622Z"
   },
   {
    "duration": 5,
    "start_time": "2022-07-09T05:53:34.377Z"
   },
   {
    "duration": 3,
    "start_time": "2022-07-09T05:54:17.185Z"
   },
   {
    "duration": 15,
    "start_time": "2022-07-09T05:54:19.127Z"
   },
   {
    "duration": 14,
    "start_time": "2022-07-09T05:54:21.989Z"
   },
   {
    "duration": 5,
    "start_time": "2022-07-09T05:54:23.891Z"
   },
   {
    "duration": 16,
    "start_time": "2022-07-11T04:15:58.468Z"
   },
   {
    "duration": 21,
    "start_time": "2022-07-11T04:16:18.140Z"
   },
   {
    "duration": 7,
    "start_time": "2022-07-11T04:16:25.928Z"
   },
   {
    "duration": 6,
    "start_time": "2022-07-11T04:16:31.382Z"
   },
   {
    "duration": 5,
    "start_time": "2022-07-11T04:16:37.654Z"
   },
   {
    "duration": 3,
    "start_time": "2022-07-11T04:16:41.823Z"
   },
   {
    "duration": 5,
    "start_time": "2022-07-11T04:16:47.389Z"
   },
   {
    "duration": 7,
    "start_time": "2022-07-11T04:16:52.803Z"
   },
   {
    "duration": 6,
    "start_time": "2022-07-11T04:16:58.384Z"
   },
   {
    "duration": 5,
    "start_time": "2022-07-11T04:17:02.654Z"
   },
   {
    "duration": 6,
    "start_time": "2022-07-11T04:17:05.442Z"
   },
   {
    "duration": 6,
    "start_time": "2022-07-11T04:17:09.838Z"
   },
   {
    "duration": 16,
    "start_time": "2022-07-11T04:17:20.554Z"
   },
   {
    "duration": 18,
    "start_time": "2022-07-11T04:17:23.231Z"
   },
   {
    "duration": 15,
    "start_time": "2022-07-11T04:17:24.704Z"
   },
   {
    "duration": 3,
    "start_time": "2022-07-11T04:17:26.877Z"
   },
   {
    "duration": 2,
    "start_time": "2022-07-11T04:17:45.953Z"
   },
   {
    "duration": 3,
    "start_time": "2022-07-11T04:17:49.537Z"
   },
   {
    "duration": 4,
    "start_time": "2022-07-11T04:17:53.048Z"
   },
   {
    "duration": 12,
    "start_time": "2022-07-11T04:17:56.275Z"
   },
   {
    "duration": 5,
    "start_time": "2022-07-11T04:17:57.262Z"
   },
   {
    "duration": 24,
    "start_time": "2022-07-11T04:18:04.985Z"
   },
   {
    "duration": 57,
    "start_time": "2022-07-11T04:19:21.811Z"
   },
   {
    "duration": 15,
    "start_time": "2022-07-11T04:19:31.014Z"
   },
   {
    "duration": 8,
    "start_time": "2022-07-11T04:22:57.305Z"
   },
   {
    "duration": 11,
    "start_time": "2022-07-11T04:23:22.729Z"
   },
   {
    "duration": 11,
    "start_time": "2022-07-11T04:23:28.583Z"
   },
   {
    "duration": 6,
    "start_time": "2022-07-11T04:24:39.021Z"
   },
   {
    "duration": 13,
    "start_time": "2022-07-11T04:24:45.067Z"
   },
   {
    "duration": 4,
    "start_time": "2022-07-11T04:27:09.889Z"
   },
   {
    "duration": 12,
    "start_time": "2022-07-11T04:27:14.005Z"
   },
   {
    "duration": 4,
    "start_time": "2022-07-11T04:27:14.929Z"
   },
   {
    "duration": 23,
    "start_time": "2022-07-11T04:27:19.144Z"
   },
   {
    "duration": 15,
    "start_time": "2022-07-11T04:27:26.456Z"
   },
   {
    "duration": 14,
    "start_time": "2022-07-11T04:27:30.840Z"
   },
   {
    "duration": 3,
    "start_time": "2022-07-11T04:27:37.474Z"
   },
   {
    "duration": 4,
    "start_time": "2022-07-11T04:27:38.393Z"
   },
   {
    "duration": 12,
    "start_time": "2022-07-11T04:27:39.688Z"
   },
   {
    "duration": 4,
    "start_time": "2022-07-11T04:27:40.685Z"
   },
   {
    "duration": 27,
    "start_time": "2022-07-11T04:27:44.498Z"
   },
   {
    "duration": 15,
    "start_time": "2022-07-11T04:27:49.152Z"
   },
   {
    "duration": 8,
    "start_time": "2022-07-11T04:33:25.818Z"
   },
   {
    "duration": 1057,
    "start_time": "2022-07-11T04:34:39.092Z"
   },
   {
    "duration": 7,
    "start_time": "2022-07-11T04:35:57.631Z"
   },
   {
    "duration": 705,
    "start_time": "2022-07-11T04:36:04.146Z"
   },
   {
    "duration": 6,
    "start_time": "2022-07-11T04:39:56.648Z"
   },
   {
    "duration": 1045,
    "start_time": "2022-07-11T04:40:06.976Z"
   },
   {
    "duration": 7,
    "start_time": "2022-07-11T04:42:11.917Z"
   },
   {
    "duration": 872,
    "start_time": "2022-07-11T04:42:21.764Z"
   },
   {
    "duration": 13,
    "start_time": "2022-07-11T04:46:54.827Z"
   },
   {
    "duration": 15,
    "start_time": "2022-07-11T04:47:07.091Z"
   },
   {
    "duration": 3,
    "start_time": "2022-07-11T04:49:34.872Z"
   },
   {
    "duration": 5,
    "start_time": "2022-07-11T04:49:46.511Z"
   },
   {
    "duration": 4,
    "start_time": "2022-07-11T04:53:57.100Z"
   },
   {
    "duration": 5,
    "start_time": "2022-07-11T04:57:46.660Z"
   },
   {
    "duration": 5,
    "start_time": "2022-07-11T04:58:05.351Z"
   },
   {
    "duration": 5,
    "start_time": "2022-07-11T05:19:44.929Z"
   },
   {
    "duration": 7,
    "start_time": "2022-07-11T05:23:37.184Z"
   },
   {
    "duration": 1124,
    "start_time": "2022-07-11T05:23:45.504Z"
   },
   {
    "duration": 8,
    "start_time": "2022-07-11T05:24:12.167Z"
   },
   {
    "duration": 10,
    "start_time": "2022-07-11T05:24:41.789Z"
   },
   {
    "duration": 9,
    "start_time": "2022-07-11T05:25:34.309Z"
   },
   {
    "duration": 3,
    "start_time": "2022-07-11T05:25:44.390Z"
   },
   {
    "duration": 6,
    "start_time": "2022-07-11T05:25:45.333Z"
   },
   {
    "duration": 9,
    "start_time": "2022-07-11T05:25:46.903Z"
   },
   {
    "duration": 4,
    "start_time": "2022-07-11T05:25:51.293Z"
   },
   {
    "duration": 841,
    "start_time": "2022-07-11T05:26:10.358Z"
   },
   {
    "duration": 3,
    "start_time": "2022-07-11T05:27:54.060Z"
   },
   {
    "duration": 2,
    "start_time": "2022-07-11T05:27:56.242Z"
   },
   {
    "duration": 5,
    "start_time": "2022-07-11T05:27:58.096Z"
   },
   {
    "duration": 844,
    "start_time": "2022-07-11T05:28:03.436Z"
   },
   {
    "duration": 3,
    "start_time": "2022-07-11T05:28:55.094Z"
   },
   {
    "duration": 5,
    "start_time": "2022-07-11T05:28:55.813Z"
   },
   {
    "duration": 4,
    "start_time": "2022-07-11T05:28:59.641Z"
   },
   {
    "duration": 4,
    "start_time": "2022-07-11T05:30:18.363Z"
   },
   {
    "duration": 5,
    "start_time": "2022-07-11T05:30:24.649Z"
   },
   {
    "duration": 4,
    "start_time": "2022-07-11T05:30:56.434Z"
   },
   {
    "duration": 7,
    "start_time": "2022-07-11T05:32:37.217Z"
   },
   {
    "duration": 5,
    "start_time": "2022-07-11T05:33:04.471Z"
   },
   {
    "duration": 4,
    "start_time": "2022-07-11T05:33:07.927Z"
   },
   {
    "duration": 5,
    "start_time": "2022-07-11T05:33:12.804Z"
   },
   {
    "duration": 3,
    "start_time": "2022-07-11T05:33:22.617Z"
   },
   {
    "duration": 5,
    "start_time": "2022-07-11T05:34:43.293Z"
   },
   {
    "duration": 4,
    "start_time": "2022-07-11T05:34:57.363Z"
   },
   {
    "duration": 24,
    "start_time": "2022-07-11T05:35:11.477Z"
   },
   {
    "duration": 43,
    "start_time": "2022-07-11T05:35:34.406Z"
   },
   {
    "duration": 7,
    "start_time": "2022-07-11T05:35:54.851Z"
   },
   {
    "duration": 4,
    "start_time": "2022-07-11T05:36:58.144Z"
   },
   {
    "duration": 13,
    "start_time": "2022-07-11T05:37:43.773Z"
   },
   {
    "duration": 13,
    "start_time": "2022-07-11T05:47:06.083Z"
   },
   {
    "duration": 4,
    "start_time": "2022-07-11T05:49:39.653Z"
   },
   {
    "duration": 4,
    "start_time": "2022-07-11T05:49:45.524Z"
   },
   {
    "duration": 4,
    "start_time": "2022-07-11T05:50:01.853Z"
   },
   {
    "duration": 5,
    "start_time": "2022-07-11T05:51:24.142Z"
   },
   {
    "duration": 45,
    "start_time": "2022-07-11T22:45:28.981Z"
   },
   {
    "duration": 29,
    "start_time": "2022-07-11T22:45:49.553Z"
   },
   {
    "duration": 442,
    "start_time": "2022-07-11T22:46:42.868Z"
   },
   {
    "duration": 53,
    "start_time": "2022-07-11T22:46:43.312Z"
   },
   {
    "duration": 0,
    "start_time": "2022-07-11T22:46:43.368Z"
   },
   {
    "duration": 0,
    "start_time": "2022-07-11T22:46:43.369Z"
   },
   {
    "duration": 0,
    "start_time": "2022-07-11T22:46:43.370Z"
   },
   {
    "duration": 0,
    "start_time": "2022-07-11T22:46:43.371Z"
   },
   {
    "duration": 0,
    "start_time": "2022-07-11T22:46:43.372Z"
   },
   {
    "duration": 0,
    "start_time": "2022-07-11T22:46:43.373Z"
   },
   {
    "duration": 0,
    "start_time": "2022-07-11T22:46:43.374Z"
   },
   {
    "duration": 0,
    "start_time": "2022-07-11T22:46:43.375Z"
   },
   {
    "duration": 0,
    "start_time": "2022-07-11T22:46:43.376Z"
   },
   {
    "duration": 0,
    "start_time": "2022-07-11T22:46:43.377Z"
   },
   {
    "duration": 1,
    "start_time": "2022-07-11T22:46:43.377Z"
   },
   {
    "duration": 0,
    "start_time": "2022-07-11T22:46:43.379Z"
   },
   {
    "duration": 0,
    "start_time": "2022-07-11T22:46:43.379Z"
   },
   {
    "duration": 0,
    "start_time": "2022-07-11T22:46:43.380Z"
   },
   {
    "duration": 0,
    "start_time": "2022-07-11T22:46:43.381Z"
   },
   {
    "duration": 0,
    "start_time": "2022-07-11T22:46:43.382Z"
   },
   {
    "duration": 0,
    "start_time": "2022-07-11T22:46:43.383Z"
   },
   {
    "duration": 0,
    "start_time": "2022-07-11T22:46:43.384Z"
   },
   {
    "duration": 0,
    "start_time": "2022-07-11T22:46:43.385Z"
   },
   {
    "duration": 0,
    "start_time": "2022-07-11T22:46:43.386Z"
   },
   {
    "duration": 0,
    "start_time": "2022-07-11T22:46:43.387Z"
   },
   {
    "duration": 0,
    "start_time": "2022-07-11T22:46:43.388Z"
   },
   {
    "duration": 0,
    "start_time": "2022-07-11T22:46:43.389Z"
   },
   {
    "duration": 0,
    "start_time": "2022-07-11T22:46:43.390Z"
   },
   {
    "duration": 0,
    "start_time": "2022-07-11T22:46:43.391Z"
   },
   {
    "duration": 0,
    "start_time": "2022-07-11T22:46:43.392Z"
   },
   {
    "duration": 0,
    "start_time": "2022-07-11T22:46:43.393Z"
   },
   {
    "duration": 0,
    "start_time": "2022-07-11T22:46:43.394Z"
   },
   {
    "duration": 0,
    "start_time": "2022-07-11T22:46:43.394Z"
   },
   {
    "duration": 0,
    "start_time": "2022-07-11T22:46:43.396Z"
   },
   {
    "duration": 0,
    "start_time": "2022-07-11T22:46:43.397Z"
   },
   {
    "duration": 0,
    "start_time": "2022-07-11T22:46:43.397Z"
   },
   {
    "duration": 0,
    "start_time": "2022-07-11T22:46:43.398Z"
   },
   {
    "duration": 0,
    "start_time": "2022-07-11T22:46:43.400Z"
   },
   {
    "duration": 0,
    "start_time": "2022-07-11T22:46:43.401Z"
   },
   {
    "duration": 0,
    "start_time": "2022-07-11T22:46:43.402Z"
   },
   {
    "duration": 0,
    "start_time": "2022-07-11T22:46:43.403Z"
   },
   {
    "duration": 0,
    "start_time": "2022-07-11T22:46:43.404Z"
   },
   {
    "duration": 0,
    "start_time": "2022-07-11T22:46:43.405Z"
   },
   {
    "duration": 0,
    "start_time": "2022-07-11T22:46:43.406Z"
   },
   {
    "duration": 0,
    "start_time": "2022-07-11T22:46:43.407Z"
   },
   {
    "duration": 0,
    "start_time": "2022-07-11T22:46:43.455Z"
   },
   {
    "duration": 0,
    "start_time": "2022-07-11T22:46:43.457Z"
   },
   {
    "duration": 0,
    "start_time": "2022-07-11T22:46:43.458Z"
   },
   {
    "duration": 0,
    "start_time": "2022-07-11T22:46:43.458Z"
   },
   {
    "duration": 0,
    "start_time": "2022-07-11T22:46:43.460Z"
   },
   {
    "duration": 0,
    "start_time": "2022-07-11T22:46:43.461Z"
   },
   {
    "duration": 0,
    "start_time": "2022-07-11T22:46:43.462Z"
   },
   {
    "duration": 0,
    "start_time": "2022-07-11T22:46:43.463Z"
   },
   {
    "duration": 0,
    "start_time": "2022-07-11T22:46:43.464Z"
   },
   {
    "duration": 0,
    "start_time": "2022-07-11T22:46:43.465Z"
   },
   {
    "duration": 0,
    "start_time": "2022-07-11T22:46:43.466Z"
   },
   {
    "duration": 0,
    "start_time": "2022-07-11T22:46:43.467Z"
   },
   {
    "duration": 0,
    "start_time": "2022-07-11T22:46:43.468Z"
   },
   {
    "duration": 0,
    "start_time": "2022-07-11T22:46:43.469Z"
   },
   {
    "duration": 0,
    "start_time": "2022-07-11T22:46:43.470Z"
   },
   {
    "duration": 0,
    "start_time": "2022-07-11T22:46:43.470Z"
   },
   {
    "duration": 0,
    "start_time": "2022-07-11T22:46:43.471Z"
   },
   {
    "duration": 0,
    "start_time": "2022-07-11T22:46:43.472Z"
   },
   {
    "duration": 0,
    "start_time": "2022-07-11T22:46:43.474Z"
   },
   {
    "duration": 0,
    "start_time": "2022-07-11T22:46:43.474Z"
   },
   {
    "duration": 0,
    "start_time": "2022-07-11T22:46:43.475Z"
   },
   {
    "duration": 0,
    "start_time": "2022-07-11T22:46:43.476Z"
   },
   {
    "duration": 0,
    "start_time": "2022-07-11T22:46:43.477Z"
   },
   {
    "duration": 0,
    "start_time": "2022-07-11T22:46:43.478Z"
   },
   {
    "duration": 0,
    "start_time": "2022-07-11T22:46:43.479Z"
   },
   {
    "duration": 0,
    "start_time": "2022-07-11T22:46:43.480Z"
   },
   {
    "duration": 0,
    "start_time": "2022-07-11T22:46:43.481Z"
   },
   {
    "duration": 0,
    "start_time": "2022-07-11T22:46:43.482Z"
   },
   {
    "duration": 0,
    "start_time": "2022-07-11T22:46:43.483Z"
   },
   {
    "duration": 0,
    "start_time": "2022-07-11T22:46:43.484Z"
   },
   {
    "duration": 0,
    "start_time": "2022-07-11T22:46:43.485Z"
   },
   {
    "duration": 1,
    "start_time": "2022-07-11T22:46:43.486Z"
   },
   {
    "duration": 0,
    "start_time": "2022-07-11T22:46:43.549Z"
   },
   {
    "duration": 0,
    "start_time": "2022-07-11T22:46:43.550Z"
   },
   {
    "duration": 0,
    "start_time": "2022-07-11T22:46:43.550Z"
   },
   {
    "duration": 0,
    "start_time": "2022-07-11T22:46:43.551Z"
   },
   {
    "duration": 0,
    "start_time": "2022-07-11T22:46:43.555Z"
   },
   {
    "duration": 0,
    "start_time": "2022-07-11T22:46:43.556Z"
   },
   {
    "duration": 0,
    "start_time": "2022-07-11T22:46:43.557Z"
   },
   {
    "duration": 64,
    "start_time": "2022-07-11T22:46:54.389Z"
   },
   {
    "duration": 4,
    "start_time": "2022-07-11T22:47:00.501Z"
   },
   {
    "duration": 8,
    "start_time": "2022-07-11T22:47:02.561Z"
   },
   {
    "duration": 23,
    "start_time": "2022-07-11T22:47:09.526Z"
   },
   {
    "duration": 28,
    "start_time": "2022-07-11T22:47:14.141Z"
   },
   {
    "duration": 10,
    "start_time": "2022-07-11T22:47:19.451Z"
   },
   {
    "duration": 5,
    "start_time": "2022-07-11T22:47:21.424Z"
   },
   {
    "duration": 12,
    "start_time": "2022-07-11T22:47:23.209Z"
   },
   {
    "duration": 8,
    "start_time": "2022-07-11T22:47:26.051Z"
   },
   {
    "duration": 6,
    "start_time": "2022-07-11T22:47:27.140Z"
   },
   {
    "duration": 5,
    "start_time": "2022-07-11T22:47:30.329Z"
   },
   {
    "duration": 20,
    "start_time": "2022-07-11T22:47:33.565Z"
   },
   {
    "duration": 5,
    "start_time": "2022-07-11T22:47:38.780Z"
   },
   {
    "duration": 9,
    "start_time": "2022-07-11T22:47:41.096Z"
   },
   {
    "duration": 9,
    "start_time": "2022-07-11T22:47:42.141Z"
   },
   {
    "duration": 5,
    "start_time": "2022-07-11T22:47:44.774Z"
   },
   {
    "duration": 9,
    "start_time": "2022-07-11T22:47:48.022Z"
   },
   {
    "duration": 7,
    "start_time": "2022-07-11T22:47:49.069Z"
   },
   {
    "duration": 5,
    "start_time": "2022-07-11T22:47:51.157Z"
   },
   {
    "duration": 8,
    "start_time": "2022-07-11T22:47:53.898Z"
   },
   {
    "duration": 4,
    "start_time": "2022-07-11T22:47:56.287Z"
   },
   {
    "duration": 4,
    "start_time": "2022-07-11T22:47:57.262Z"
   },
   {
    "duration": 20,
    "start_time": "2022-07-11T22:47:58.004Z"
   },
   {
    "duration": 11,
    "start_time": "2022-07-11T22:48:00.333Z"
   },
   {
    "duration": 7,
    "start_time": "2022-07-11T22:48:02.407Z"
   },
   {
    "duration": 18,
    "start_time": "2022-07-11T22:48:04.187Z"
   },
   {
    "duration": 9,
    "start_time": "2022-07-11T22:48:06.810Z"
   },
   {
    "duration": 5,
    "start_time": "2022-07-11T22:48:09.408Z"
   },
   {
    "duration": 7,
    "start_time": "2022-07-11T22:48:11.063Z"
   },
   {
    "duration": 5,
    "start_time": "2022-07-11T22:48:13.165Z"
   },
   {
    "duration": 6,
    "start_time": "2022-07-11T22:48:15.063Z"
   },
   {
    "duration": 7,
    "start_time": "2022-07-11T22:48:17.073Z"
   },
   {
    "duration": 6,
    "start_time": "2022-07-11T22:48:19.013Z"
   },
   {
    "duration": 5,
    "start_time": "2022-07-11T22:48:21.408Z"
   },
   {
    "duration": 6,
    "start_time": "2022-07-11T22:48:22.063Z"
   },
   {
    "duration": 7,
    "start_time": "2022-07-11T22:48:24.275Z"
   },
   {
    "duration": 16,
    "start_time": "2022-07-11T22:48:27.053Z"
   },
   {
    "duration": 16,
    "start_time": "2022-07-11T22:48:28.646Z"
   },
   {
    "duration": 17,
    "start_time": "2022-07-11T22:48:31.060Z"
   },
   {
    "duration": 3,
    "start_time": "2022-07-11T22:48:33.413Z"
   },
   {
    "duration": 3,
    "start_time": "2022-07-11T22:48:51.543Z"
   },
   {
    "duration": 4,
    "start_time": "2022-07-11T22:48:54.668Z"
   },
   {
    "duration": 4,
    "start_time": "2022-07-11T22:48:56.590Z"
   },
   {
    "duration": 13,
    "start_time": "2022-07-11T22:48:57.742Z"
   },
   {
    "duration": 5,
    "start_time": "2022-07-11T22:48:59.017Z"
   },
   {
    "duration": 13,
    "start_time": "2022-07-11T22:49:04.223Z"
   },
   {
    "duration": 26,
    "start_time": "2022-07-11T22:49:07.806Z"
   },
   {
    "duration": 17,
    "start_time": "2022-07-11T22:49:10.355Z"
   },
   {
    "duration": 21,
    "start_time": "2022-07-11T22:49:12.693Z"
   },
   {
    "duration": 6,
    "start_time": "2022-07-11T22:49:14.594Z"
   },
   {
    "duration": 3,
    "start_time": "2022-07-11T22:49:15.797Z"
   },
   {
    "duration": 5,
    "start_time": "2022-07-11T22:49:19.092Z"
   },
   {
    "duration": 6,
    "start_time": "2022-07-11T22:49:24.416Z"
   },
   {
    "duration": 4,
    "start_time": "2022-07-11T22:49:28.693Z"
   },
   {
    "duration": 5,
    "start_time": "2022-07-11T23:11:32.487Z"
   },
   {
    "duration": 8,
    "start_time": "2022-07-11T23:19:29.019Z"
   },
   {
    "duration": 17,
    "start_time": "2022-07-11T23:19:38.978Z"
   },
   {
    "duration": 12,
    "start_time": "2022-07-11T23:21:58.040Z"
   },
   {
    "duration": 7,
    "start_time": "2022-07-11T23:22:06.267Z"
   },
   {
    "duration": 14,
    "start_time": "2022-07-11T23:22:13.431Z"
   },
   {
    "duration": 15,
    "start_time": "2022-07-11T23:23:08.419Z"
   },
   {
    "duration": 15,
    "start_time": "2022-07-11T23:23:39.203Z"
   },
   {
    "duration": 15,
    "start_time": "2022-07-11T23:24:48.887Z"
   },
   {
    "duration": 7,
    "start_time": "2022-07-11T23:25:54.998Z"
   },
   {
    "duration": 14,
    "start_time": "2022-07-11T23:30:31.646Z"
   },
   {
    "duration": 14,
    "start_time": "2022-07-11T23:30:48.181Z"
   },
   {
    "duration": 14,
    "start_time": "2022-07-11T23:31:12.513Z"
   },
   {
    "duration": 4,
    "start_time": "2022-07-11T23:31:23.246Z"
   },
   {
    "duration": 4,
    "start_time": "2022-07-11T23:36:22.442Z"
   },
   {
    "duration": 6,
    "start_time": "2022-07-11T23:36:24.343Z"
   },
   {
    "duration": 6,
    "start_time": "2022-07-11T23:37:19.116Z"
   },
   {
    "duration": 4,
    "start_time": "2022-07-11T23:37:32.116Z"
   },
   {
    "duration": 2,
    "start_time": "2022-07-11T23:37:34.162Z"
   },
   {
    "duration": 6,
    "start_time": "2022-07-11T23:37:36.225Z"
   },
   {
    "duration": 5,
    "start_time": "2022-07-11T23:38:03.784Z"
   },
   {
    "duration": 5,
    "start_time": "2022-07-11T23:43:02.723Z"
   },
   {
    "duration": 16,
    "start_time": "2022-07-11T23:58:42.577Z"
   },
   {
    "duration": 5,
    "start_time": "2022-07-11T23:59:07.462Z"
   },
   {
    "duration": 407,
    "start_time": "2022-07-11T23:59:53.468Z"
   },
   {
    "duration": 4,
    "start_time": "2022-07-11T23:59:56.436Z"
   },
   {
    "duration": 9,
    "start_time": "2022-07-11T23:59:57.248Z"
   },
   {
    "duration": 15,
    "start_time": "2022-07-12T00:00:02.377Z"
   },
   {
    "duration": 37,
    "start_time": "2022-07-12T00:00:10.941Z"
   },
   {
    "duration": 7,
    "start_time": "2022-07-12T00:00:13.719Z"
   },
   {
    "duration": 4,
    "start_time": "2022-07-12T00:00:15.716Z"
   },
   {
    "duration": 11,
    "start_time": "2022-07-12T00:00:19.306Z"
   },
   {
    "duration": 5,
    "start_time": "2022-07-12T00:00:21.556Z"
   },
   {
    "duration": 7,
    "start_time": "2022-07-12T00:00:23.465Z"
   },
   {
    "duration": 4,
    "start_time": "2022-07-12T00:00:25.511Z"
   },
   {
    "duration": 21,
    "start_time": "2022-07-12T00:00:28.558Z"
   },
   {
    "duration": 20,
    "start_time": "2022-07-12T00:00:30.247Z"
   },
   {
    "duration": 6,
    "start_time": "2022-07-12T00:00:37.548Z"
   },
   {
    "duration": 6,
    "start_time": "2022-07-12T00:00:40.058Z"
   },
   {
    "duration": 5,
    "start_time": "2022-07-12T00:00:43.266Z"
   },
   {
    "duration": 8,
    "start_time": "2022-07-12T00:00:46.344Z"
   },
   {
    "duration": 8,
    "start_time": "2022-07-12T00:00:47.260Z"
   },
   {
    "duration": 5,
    "start_time": "2022-07-12T00:00:48.908Z"
   },
   {
    "duration": 7,
    "start_time": "2022-07-12T00:00:50.677Z"
   },
   {
    "duration": 5,
    "start_time": "2022-07-12T00:00:52.491Z"
   },
   {
    "duration": 6,
    "start_time": "2022-07-12T00:00:53.364Z"
   },
   {
    "duration": 10,
    "start_time": "2022-07-12T00:00:56.100Z"
   },
   {
    "duration": 4,
    "start_time": "2022-07-12T00:00:58.697Z"
   },
   {
    "duration": 4,
    "start_time": "2022-07-12T00:01:00.835Z"
   },
   {
    "duration": 20,
    "start_time": "2022-07-12T00:01:02.274Z"
   },
   {
    "duration": 12,
    "start_time": "2022-07-12T00:01:03.789Z"
   },
   {
    "duration": 7,
    "start_time": "2022-07-12T00:01:06.148Z"
   },
   {
    "duration": 16,
    "start_time": "2022-07-12T00:01:09.027Z"
   },
   {
    "duration": 15,
    "start_time": "2022-07-12T00:01:11.632Z"
   },
   {
    "duration": 9,
    "start_time": "2022-07-12T00:01:13.657Z"
   },
   {
    "duration": 4,
    "start_time": "2022-07-12T00:01:24.241Z"
   },
   {
    "duration": 4,
    "start_time": "2022-07-12T00:01:28.164Z"
   },
   {
    "duration": 5,
    "start_time": "2022-07-12T00:01:28.822Z"
   },
   {
    "duration": 5,
    "start_time": "2022-07-12T00:01:29.360Z"
   },
   {
    "duration": 6,
    "start_time": "2022-07-12T00:01:30.741Z"
   },
   {
    "duration": 53,
    "start_time": "2022-07-12T00:01:31.816Z"
   },
   {
    "duration": 6,
    "start_time": "2022-07-12T00:01:44.191Z"
   },
   {
    "duration": 4,
    "start_time": "2022-07-12T00:01:46.415Z"
   },
   {
    "duration": 9,
    "start_time": "2022-07-12T00:01:47.432Z"
   },
   {
    "duration": 7,
    "start_time": "2022-07-12T00:01:49.350Z"
   },
   {
    "duration": 17,
    "start_time": "2022-07-12T00:01:52.170Z"
   },
   {
    "duration": 19,
    "start_time": "2022-07-12T00:01:55.039Z"
   },
   {
    "duration": 15,
    "start_time": "2022-07-12T00:01:55.912Z"
   },
   {
    "duration": 3,
    "start_time": "2022-07-12T00:01:56.806Z"
   },
   {
    "duration": 2,
    "start_time": "2022-07-12T00:02:01.293Z"
   },
   {
    "duration": 3,
    "start_time": "2022-07-12T00:02:03.781Z"
   },
   {
    "duration": 4,
    "start_time": "2022-07-12T00:02:05.316Z"
   },
   {
    "duration": 13,
    "start_time": "2022-07-12T00:02:07.054Z"
   },
   {
    "duration": 5,
    "start_time": "2022-07-12T00:02:08.038Z"
   },
   {
    "duration": 25,
    "start_time": "2022-07-12T00:02:10.688Z"
   },
   {
    "duration": 16,
    "start_time": "2022-07-12T00:02:15.516Z"
   },
   {
    "duration": 13,
    "start_time": "2022-07-12T00:02:17.929Z"
   },
   {
    "duration": 4,
    "start_time": "2022-07-12T00:02:19.985Z"
   },
   {
    "duration": 3,
    "start_time": "2022-07-12T00:02:21.313Z"
   },
   {
    "duration": 5,
    "start_time": "2022-07-12T00:02:22.615Z"
   },
   {
    "duration": 4,
    "start_time": "2022-07-12T00:02:26.162Z"
   },
   {
    "duration": 6,
    "start_time": "2022-07-12T00:02:39.727Z"
   },
   {
    "duration": 6,
    "start_time": "2022-07-12T00:03:21.816Z"
   },
   {
    "duration": 28,
    "start_time": "2022-07-12T00:03:24.775Z"
   },
   {
    "duration": 14,
    "start_time": "2022-07-12T00:03:28.181Z"
   },
   {
    "duration": 14,
    "start_time": "2022-07-12T00:03:33.086Z"
   },
   {
    "duration": 3,
    "start_time": "2022-07-12T00:03:38.869Z"
   },
   {
    "duration": 3,
    "start_time": "2022-07-12T00:03:41.208Z"
   },
   {
    "duration": 5,
    "start_time": "2022-07-12T00:03:43.007Z"
   },
   {
    "duration": 4,
    "start_time": "2022-07-12T00:03:45.752Z"
   },
   {
    "duration": 14,
    "start_time": "2022-07-12T00:03:51.686Z"
   },
   {
    "duration": 7,
    "start_time": "2022-07-12T03:35:10.509Z"
   },
   {
    "duration": 378,
    "start_time": "2022-07-12T03:35:29.859Z"
   },
   {
    "duration": 3,
    "start_time": "2022-07-12T03:35:32.509Z"
   },
   {
    "duration": 9,
    "start_time": "2022-07-12T03:35:35.974Z"
   },
   {
    "duration": 14,
    "start_time": "2022-07-12T03:35:40.478Z"
   },
   {
    "duration": 25,
    "start_time": "2022-07-12T03:35:45.533Z"
   },
   {
    "duration": 6,
    "start_time": "2022-07-12T03:35:51.439Z"
   },
   {
    "duration": 4,
    "start_time": "2022-07-12T03:35:54.472Z"
   },
   {
    "duration": 12,
    "start_time": "2022-07-12T03:35:59.694Z"
   },
   {
    "duration": 7,
    "start_time": "2022-07-12T03:36:03.889Z"
   },
   {
    "duration": 4,
    "start_time": "2022-07-12T03:36:12.431Z"
   },
   {
    "duration": 4,
    "start_time": "2022-07-12T03:36:27.928Z"
   },
   {
    "duration": 22,
    "start_time": "2022-07-12T03:37:30.862Z"
   },
   {
    "duration": 6,
    "start_time": "2022-07-12T03:37:41.445Z"
   },
   {
    "duration": 8,
    "start_time": "2022-07-12T03:37:47.387Z"
   },
   {
    "duration": 6,
    "start_time": "2022-07-12T03:37:49.632Z"
   },
   {
    "duration": 4,
    "start_time": "2022-07-12T03:37:55.044Z"
   },
   {
    "duration": 7,
    "start_time": "2022-07-12T03:37:58.213Z"
   },
   {
    "duration": 5,
    "start_time": "2022-07-12T03:38:00.645Z"
   },
   {
    "duration": 5,
    "start_time": "2022-07-12T03:38:06.529Z"
   },
   {
    "duration": 7,
    "start_time": "2022-07-12T03:38:10.796Z"
   },
   {
    "duration": 4,
    "start_time": "2022-07-12T03:38:13.703Z"
   },
   {
    "duration": 4,
    "start_time": "2022-07-12T03:38:15.614Z"
   },
   {
    "duration": 22,
    "start_time": "2022-07-12T03:38:17.939Z"
   },
   {
    "duration": 11,
    "start_time": "2022-07-12T03:38:22.781Z"
   },
   {
    "duration": 8,
    "start_time": "2022-07-12T03:38:26.260Z"
   },
   {
    "duration": 15,
    "start_time": "2022-07-12T03:38:28.742Z"
   },
   {
    "duration": 8,
    "start_time": "2022-07-12T03:38:48.341Z"
   },
   {
    "duration": 4,
    "start_time": "2022-07-12T03:38:51.251Z"
   },
   {
    "duration": 8,
    "start_time": "2022-07-12T03:38:55.180Z"
   },
   {
    "duration": 4,
    "start_time": "2022-07-12T03:38:57.161Z"
   },
   {
    "duration": 6,
    "start_time": "2022-07-12T03:39:06.429Z"
   },
   {
    "duration": 4,
    "start_time": "2022-07-12T03:40:41.296Z"
   },
   {
    "duration": 4,
    "start_time": "2022-07-12T03:40:55.831Z"
   },
   {
    "duration": 65,
    "start_time": "2022-07-12T03:41:04.972Z"
   },
   {
    "duration": 6,
    "start_time": "2022-07-12T03:41:20.563Z"
   },
   {
    "duration": 7,
    "start_time": "2022-07-12T03:41:22.931Z"
   },
   {
    "duration": 4,
    "start_time": "2022-07-12T03:41:25.653Z"
   },
   {
    "duration": 6,
    "start_time": "2022-07-12T03:41:27.144Z"
   },
   {
    "duration": 6,
    "start_time": "2022-07-12T03:41:29.412Z"
   },
   {
    "duration": 17,
    "start_time": "2022-07-12T03:41:31.892Z"
   },
   {
    "duration": 21,
    "start_time": "2022-07-12T03:41:33.467Z"
   },
   {
    "duration": 16,
    "start_time": "2022-07-12T03:41:34.236Z"
   },
   {
    "duration": 3,
    "start_time": "2022-07-12T03:41:35.013Z"
   },
   {
    "duration": 4,
    "start_time": "2022-07-12T03:41:45.255Z"
   },
   {
    "duration": 6,
    "start_time": "2022-07-12T03:41:49.422Z"
   },
   {
    "duration": 5,
    "start_time": "2022-07-12T03:41:50.572Z"
   },
   {
    "duration": 17,
    "start_time": "2022-07-12T03:41:51.526Z"
   },
   {
    "duration": 6,
    "start_time": "2022-07-12T03:41:52.373Z"
   },
   {
    "duration": 24,
    "start_time": "2022-07-12T03:41:56.338Z"
   },
   {
    "duration": 16,
    "start_time": "2022-07-12T03:42:06.143Z"
   },
   {
    "duration": 13,
    "start_time": "2022-07-12T03:42:09.897Z"
   },
   {
    "duration": 4,
    "start_time": "2022-07-12T03:42:12.519Z"
   },
   {
    "duration": 3,
    "start_time": "2022-07-12T03:42:13.422Z"
   },
   {
    "duration": 5,
    "start_time": "2022-07-12T03:42:14.184Z"
   },
   {
    "duration": 4,
    "start_time": "2022-07-12T03:42:17.889Z"
   },
   {
    "duration": 7,
    "start_time": "2022-07-12T03:44:45.261Z"
   },
   {
    "duration": 23,
    "start_time": "2022-07-12T03:44:57.308Z"
   },
   {
    "duration": 14,
    "start_time": "2022-07-12T03:45:00.157Z"
   },
   {
    "duration": 16,
    "start_time": "2022-07-12T03:45:03.306Z"
   },
   {
    "duration": 4,
    "start_time": "2022-07-12T03:45:05.956Z"
   },
   {
    "duration": 3,
    "start_time": "2022-07-12T03:45:06.649Z"
   },
   {
    "duration": 5,
    "start_time": "2022-07-12T03:45:07.252Z"
   },
   {
    "duration": 4,
    "start_time": "2022-07-12T03:45:09.860Z"
   },
   {
    "duration": 15,
    "start_time": "2022-07-12T03:45:15.789Z"
   },
   {
    "duration": 14,
    "start_time": "2022-07-12T03:45:25.935Z"
   },
   {
    "duration": 5,
    "start_time": "2022-07-12T03:45:28.669Z"
   },
   {
    "duration": 6,
    "start_time": "2022-07-12T03:56:41.040Z"
   },
   {
    "duration": 5,
    "start_time": "2022-07-12T03:56:50.237Z"
   },
   {
    "duration": 8,
    "start_time": "2022-07-12T04:32:54.542Z"
   },
   {
    "duration": 3,
    "start_time": "2022-07-12T04:33:07.432Z"
   },
   {
    "duration": 4,
    "start_time": "2022-07-12T04:33:08.496Z"
   },
   {
    "duration": 11,
    "start_time": "2022-07-12T04:33:09.690Z"
   },
   {
    "duration": 3,
    "start_time": "2022-07-12T04:33:58.042Z"
   },
   {
    "duration": 5,
    "start_time": "2022-07-12T04:33:58.581Z"
   },
   {
    "duration": 10,
    "start_time": "2022-07-12T04:33:59.560Z"
   },
   {
    "duration": 4,
    "start_time": "2022-07-12T04:34:10.136Z"
   },
   {
    "duration": 3,
    "start_time": "2022-07-12T04:34:11.771Z"
   },
   {
    "duration": 5,
    "start_time": "2022-07-12T04:34:12.569Z"
   },
   {
    "duration": 11,
    "start_time": "2022-07-12T04:34:13.685Z"
   },
   {
    "duration": 10,
    "start_time": "2022-07-12T04:34:41.219Z"
   },
   {
    "duration": 14,
    "start_time": "2022-07-12T04:35:04.929Z"
   },
   {
    "duration": 4,
    "start_time": "2022-07-12T04:35:12.342Z"
   },
   {
    "duration": 4,
    "start_time": "2022-07-12T04:35:15.030Z"
   },
   {
    "duration": 5,
    "start_time": "2022-07-12T04:35:16.106Z"
   },
   {
    "duration": 10,
    "start_time": "2022-07-12T04:35:18.591Z"
   },
   {
    "duration": 9,
    "start_time": "2022-07-12T04:35:37.225Z"
   },
   {
    "duration": 801,
    "start_time": "2022-07-12T04:35:53.457Z"
   },
   {
    "duration": 8,
    "start_time": "2022-07-12T04:38:17.026Z"
   },
   {
    "duration": 6,
    "start_time": "2022-07-12T04:39:04.358Z"
   },
   {
    "duration": 9,
    "start_time": "2022-07-12T04:39:14.406Z"
   },
   {
    "duration": 863,
    "start_time": "2022-07-12T04:40:12.000Z"
   },
   {
    "duration": 4,
    "start_time": "2022-07-12T04:40:21.644Z"
   },
   {
    "duration": 10,
    "start_time": "2022-07-12T04:41:17.489Z"
   },
   {
    "duration": 9,
    "start_time": "2022-07-12T04:41:37.353Z"
   },
   {
    "duration": 4,
    "start_time": "2022-07-12T04:43:31.155Z"
   },
   {
    "duration": 8,
    "start_time": "2022-07-12T04:43:32.395Z"
   },
   {
    "duration": 3,
    "start_time": "2022-07-12T04:44:05.003Z"
   },
   {
    "duration": 925,
    "start_time": "2022-07-12T04:44:09.397Z"
   },
   {
    "duration": 3,
    "start_time": "2022-07-12T04:44:56.392Z"
   },
   {
    "duration": 3,
    "start_time": "2022-07-12T04:45:04.392Z"
   },
   {
    "duration": 10,
    "start_time": "2022-07-12T04:45:07.537Z"
   },
   {
    "duration": 4,
    "start_time": "2022-07-12T04:45:34.853Z"
   },
   {
    "duration": 6,
    "start_time": "2022-07-12T04:46:05.013Z"
   },
   {
    "duration": 15,
    "start_time": "2022-07-12T04:46:08.608Z"
   },
   {
    "duration": 14,
    "start_time": "2022-07-12T04:46:12.723Z"
   },
   {
    "duration": 4,
    "start_time": "2022-07-12T04:46:16.758Z"
   },
   {
    "duration": 4,
    "start_time": "2022-07-12T04:46:25.478Z"
   },
   {
    "duration": 10,
    "start_time": "2022-07-12T04:46:27.406Z"
   },
   {
    "duration": 11,
    "start_time": "2022-07-12T04:46:59.947Z"
   },
   {
    "duration": 4,
    "start_time": "2022-07-12T04:47:13.546Z"
   },
   {
    "duration": 4,
    "start_time": "2022-07-12T04:47:14.427Z"
   },
   {
    "duration": 4,
    "start_time": "2022-07-12T04:48:08.728Z"
   },
   {
    "duration": 4,
    "start_time": "2022-07-12T04:49:29.624Z"
   },
   {
    "duration": 10,
    "start_time": "2022-07-12T04:52:04.929Z"
   },
   {
    "duration": 3,
    "start_time": "2022-07-12T04:52:17.632Z"
   },
   {
    "duration": 10,
    "start_time": "2022-07-12T04:54:05.186Z"
   },
   {
    "duration": 4,
    "start_time": "2022-07-12T04:54:20.690Z"
   },
   {
    "duration": 51,
    "start_time": "2022-07-13T01:49:52.854Z"
   },
   {
    "duration": 958,
    "start_time": "2022-07-13T01:49:56.292Z"
   },
   {
    "duration": 3,
    "start_time": "2022-07-13T01:49:58.391Z"
   },
   {
    "duration": 48,
    "start_time": "2022-07-13T02:00:39.536Z"
   },
   {
    "duration": 61,
    "start_time": "2022-07-13T02:00:46.374Z"
   },
   {
    "duration": 4,
    "start_time": "2022-07-13T02:00:59.792Z"
   },
   {
    "duration": 11,
    "start_time": "2022-07-13T02:01:00.638Z"
   },
   {
    "duration": 22,
    "start_time": "2022-07-13T02:01:02.999Z"
   },
   {
    "duration": 42,
    "start_time": "2022-07-13T02:01:04.920Z"
   },
   {
    "duration": 8,
    "start_time": "2022-07-13T02:01:07.012Z"
   },
   {
    "duration": 6,
    "start_time": "2022-07-13T02:01:08.641Z"
   },
   {
    "duration": 18,
    "start_time": "2022-07-13T02:01:14.153Z"
   },
   {
    "duration": 8,
    "start_time": "2022-07-13T02:01:14.926Z"
   },
   {
    "duration": 14,
    "start_time": "2022-07-13T02:01:17.794Z"
   },
   {
    "duration": 6,
    "start_time": "2022-07-13T02:01:19.222Z"
   },
   {
    "duration": 32,
    "start_time": "2022-07-13T02:01:22.771Z"
   },
   {
    "duration": 7,
    "start_time": "2022-07-13T02:01:38.017Z"
   },
   {
    "duration": 14,
    "start_time": "2022-07-13T02:01:40.948Z"
   },
   {
    "duration": 10,
    "start_time": "2022-07-13T02:01:41.892Z"
   },
   {
    "duration": 5,
    "start_time": "2022-07-13T02:01:43.728Z"
   },
   {
    "duration": 11,
    "start_time": "2022-07-13T02:01:45.305Z"
   },
   {
    "duration": 8,
    "start_time": "2022-07-13T02:01:46.777Z"
   },
   {
    "duration": 9,
    "start_time": "2022-07-13T02:01:50.569Z"
   },
   {
    "duration": 7,
    "start_time": "2022-07-13T02:01:51.990Z"
   },
   {
    "duration": 6,
    "start_time": "2022-07-13T02:01:53.974Z"
   },
   {
    "duration": 35,
    "start_time": "2022-07-13T02:01:55.439Z"
   },
   {
    "duration": 15,
    "start_time": "2022-07-13T02:01:57.543Z"
   },
   {
    "duration": 12,
    "start_time": "2022-07-13T02:02:00.047Z"
   },
   {
    "duration": 26,
    "start_time": "2022-07-13T02:02:03.143Z"
   },
   {
    "duration": 15,
    "start_time": "2022-07-13T02:02:05.595Z"
   },
   {
    "duration": 7,
    "start_time": "2022-07-13T02:02:07.775Z"
   },
   {
    "duration": 8,
    "start_time": "2022-07-13T02:02:09.344Z"
   },
   {
    "duration": 8,
    "start_time": "2022-07-13T02:02:11.163Z"
   },
   {
    "duration": 10,
    "start_time": "2022-07-13T02:02:12.719Z"
   },
   {
    "duration": 9,
    "start_time": "2022-07-13T02:02:16.174Z"
   },
   {
    "duration": 7,
    "start_time": "2022-07-13T02:02:18.613Z"
   },
   {
    "duration": 7,
    "start_time": "2022-07-13T02:02:19.275Z"
   },
   {
    "duration": 8,
    "start_time": "2022-07-13T02:02:21.315Z"
   },
   {
    "duration": 25,
    "start_time": "2022-07-13T02:02:24.127Z"
   },
   {
    "duration": 29,
    "start_time": "2022-07-13T02:02:24.869Z"
   },
   {
    "duration": 18,
    "start_time": "2022-07-13T02:02:25.678Z"
   },
   {
    "duration": 4,
    "start_time": "2022-07-13T02:02:27.490Z"
   },
   {
    "duration": 4,
    "start_time": "2022-07-13T02:02:31.118Z"
   },
   {
    "duration": 5,
    "start_time": "2022-07-13T02:02:34.308Z"
   },
   {
    "duration": 5,
    "start_time": "2022-07-13T02:02:38.331Z"
   },
   {
    "duration": 1439,
    "start_time": "2022-07-13T02:02:40.882Z"
   },
   {
    "duration": 16,
    "start_time": "2022-07-13T02:02:43.695Z"
   },
   {
    "duration": 18,
    "start_time": "2022-07-13T02:02:47.660Z"
   },
   {
    "duration": 6,
    "start_time": "2022-07-13T02:02:48.576Z"
   },
   {
    "duration": 30,
    "start_time": "2022-07-13T02:02:50.853Z"
   },
   {
    "duration": 21,
    "start_time": "2022-07-13T02:02:53.858Z"
   },
   {
    "duration": 4,
    "start_time": "2022-07-13T02:02:56.015Z"
   },
   {
    "duration": 20,
    "start_time": "2022-07-13T02:03:04.330Z"
   },
   {
    "duration": 19,
    "start_time": "2022-07-13T02:03:07.666Z"
   },
   {
    "duration": 22,
    "start_time": "2022-07-13T02:03:12.744Z"
   },
   {
    "duration": 6,
    "start_time": "2022-07-13T02:03:14.961Z"
   },
   {
    "duration": 3,
    "start_time": "2022-07-13T02:03:15.830Z"
   },
   {
    "duration": 8,
    "start_time": "2022-07-13T02:03:16.873Z"
   },
   {
    "duration": 5,
    "start_time": "2022-07-13T02:03:19.771Z"
   },
   {
    "duration": 20,
    "start_time": "2022-07-13T02:11:26.842Z"
   },
   {
    "duration": 31,
    "start_time": "2022-07-13T02:11:44.177Z"
   },
   {
    "duration": 21,
    "start_time": "2022-07-13T02:14:22.775Z"
   },
   {
    "duration": 19,
    "start_time": "2022-07-13T02:15:04.987Z"
   },
   {
    "duration": 10,
    "start_time": "2022-07-13T02:15:10.187Z"
   },
   {
    "duration": 14,
    "start_time": "2022-07-13T02:15:18.171Z"
   },
   {
    "duration": 5,
    "start_time": "2022-07-13T02:15:20.997Z"
   },
   {
    "duration": 25,
    "start_time": "2022-07-13T02:15:25.356Z"
   },
   {
    "duration": 11,
    "start_time": "2022-07-13T02:16:03.113Z"
   },
   {
    "duration": 9,
    "start_time": "2022-07-13T02:16:49.446Z"
   },
   {
    "duration": 9,
    "start_time": "2022-07-13T02:17:11.389Z"
   },
   {
    "duration": 7,
    "start_time": "2022-07-13T02:17:12.580Z"
   },
   {
    "duration": 8,
    "start_time": "2022-07-13T02:17:13.702Z"
   },
   {
    "duration": 9,
    "start_time": "2022-07-13T02:17:26.113Z"
   },
   {
    "duration": 3,
    "start_time": "2022-07-13T02:18:55.345Z"
   },
   {
    "duration": 11,
    "start_time": "2022-07-13T02:19:03.694Z"
   },
   {
    "duration": 17,
    "start_time": "2022-07-13T02:24:02.300Z"
   },
   {
    "duration": 9,
    "start_time": "2022-07-13T02:26:25.059Z"
   },
   {
    "duration": 12,
    "start_time": "2022-07-13T02:26:36.045Z"
   },
   {
    "duration": 1187,
    "start_time": "2022-07-13T02:26:45.489Z"
   },
   {
    "duration": 1350,
    "start_time": "2022-07-13T02:26:53.303Z"
   },
   {
    "duration": 1253,
    "start_time": "2022-07-13T02:26:58.777Z"
   },
   {
    "duration": 6,
    "start_time": "2022-07-13T02:27:16.380Z"
   },
   {
    "duration": 4,
    "start_time": "2022-07-13T02:39:03.879Z"
   },
   {
    "duration": 5,
    "start_time": "2022-07-13T02:44:41.562Z"
   },
   {
    "duration": 128,
    "start_time": "2022-07-13T02:50:18.941Z"
   },
   {
    "duration": 99,
    "start_time": "2022-07-13T02:50:35.674Z"
   },
   {
    "duration": 7,
    "start_time": "2022-07-13T02:50:44.677Z"
   },
   {
    "duration": 14,
    "start_time": "2022-07-13T02:51:01.831Z"
   },
   {
    "duration": 9,
    "start_time": "2022-07-13T02:51:15.939Z"
   },
   {
    "duration": 14,
    "start_time": "2022-07-13T02:51:21.497Z"
   },
   {
    "duration": 7,
    "start_time": "2022-07-13T02:53:46.039Z"
   },
   {
    "duration": 9,
    "start_time": "2022-07-13T02:54:04.978Z"
   },
   {
    "duration": 6,
    "start_time": "2022-07-13T02:55:16.836Z"
   },
   {
    "duration": 5,
    "start_time": "2022-07-13T02:56:01.724Z"
   },
   {
    "duration": 20,
    "start_time": "2022-07-13T02:56:02.479Z"
   },
   {
    "duration": 6,
    "start_time": "2022-07-13T02:58:46.046Z"
   },
   {
    "duration": 18,
    "start_time": "2022-07-13T02:58:56.017Z"
   },
   {
    "duration": 12,
    "start_time": "2022-07-13T02:59:06.213Z"
   },
   {
    "duration": 10,
    "start_time": "2022-07-13T02:59:25.638Z"
   },
   {
    "duration": 6,
    "start_time": "2022-07-13T02:59:41.534Z"
   },
   {
    "duration": 19,
    "start_time": "2022-07-13T04:28:57.042Z"
   },
   {
    "duration": 72,
    "start_time": "2022-07-13T04:32:53.409Z"
   },
   {
    "duration": 9,
    "start_time": "2022-07-13T04:33:08.399Z"
   },
   {
    "duration": 18,
    "start_time": "2022-07-13T04:33:35.269Z"
   },
   {
    "duration": 5,
    "start_time": "2022-07-13T04:39:03.828Z"
   },
   {
    "duration": 13,
    "start_time": "2022-07-13T04:40:37.319Z"
   },
   {
    "duration": 14,
    "start_time": "2022-07-13T04:40:57.312Z"
   },
   {
    "duration": 74,
    "start_time": "2022-07-13T04:41:18.747Z"
   },
   {
    "duration": 74,
    "start_time": "2022-07-13T04:41:26.661Z"
   },
   {
    "duration": 77,
    "start_time": "2022-07-13T04:41:39.039Z"
   },
   {
    "duration": 96,
    "start_time": "2022-07-13T04:41:56.898Z"
   },
   {
    "duration": 79,
    "start_time": "2022-07-13T04:42:30.893Z"
   },
   {
    "duration": 4,
    "start_time": "2022-07-13T04:42:40.537Z"
   },
   {
    "duration": 6,
    "start_time": "2022-07-13T04:42:41.857Z"
   },
   {
    "duration": 4,
    "start_time": "2022-07-13T04:42:45.395Z"
   },
   {
    "duration": 10,
    "start_time": "2022-07-13T04:43:01.847Z"
   },
   {
    "duration": 5,
    "start_time": "2022-07-13T04:43:42.968Z"
   },
   {
    "duration": 6,
    "start_time": "2022-07-13T04:43:52.466Z"
   },
   {
    "duration": 5,
    "start_time": "2022-07-13T04:44:07.194Z"
   },
   {
    "duration": 6,
    "start_time": "2022-07-13T04:44:11.012Z"
   },
   {
    "duration": 6,
    "start_time": "2022-07-13T05:04:09.753Z"
   },
   {
    "duration": 11,
    "start_time": "2022-07-13T05:04:11.278Z"
   },
   {
    "duration": 6,
    "start_time": "2022-07-13T05:04:32.708Z"
   },
   {
    "duration": 10,
    "start_time": "2022-07-13T05:04:52.693Z"
   },
   {
    "duration": 7,
    "start_time": "2022-07-13T05:05:08.404Z"
   },
   {
    "duration": 16,
    "start_time": "2022-07-13T05:05:59.759Z"
   },
   {
    "duration": 265,
    "start_time": "2022-07-13T05:24:32.146Z"
   },
   {
    "duration": 7,
    "start_time": "2022-07-13T05:25:46.857Z"
   },
   {
    "duration": 283,
    "start_time": "2022-07-13T05:26:01.868Z"
   },
   {
    "duration": 252,
    "start_time": "2022-07-13T05:26:12.498Z"
   },
   {
    "duration": 299,
    "start_time": "2022-07-13T05:26:30.338Z"
   },
   {
    "duration": 27,
    "start_time": "2022-07-13T05:27:59.458Z"
   },
   {
    "duration": 1188,
    "start_time": "2022-07-13T05:28:35.176Z"
   },
   {
    "duration": 6,
    "start_time": "2022-07-13T05:28:42.762Z"
   },
   {
    "duration": 6,
    "start_time": "2022-07-13T05:29:03.016Z"
   },
   {
    "duration": 7,
    "start_time": "2022-07-13T05:32:54.259Z"
   },
   {
    "duration": 18,
    "start_time": "2022-07-13T05:32:59.078Z"
   },
   {
    "duration": 21,
    "start_time": "2022-07-13T05:34:44.419Z"
   },
   {
    "duration": 7,
    "start_time": "2022-07-13T05:35:16.169Z"
   },
   {
    "duration": 11,
    "start_time": "2022-07-13T05:36:08.358Z"
   },
   {
    "duration": 6,
    "start_time": "2022-07-13T05:36:33.571Z"
   },
   {
    "duration": 9,
    "start_time": "2022-07-13T05:37:08.716Z"
   },
   {
    "duration": 11,
    "start_time": "2022-07-13T05:37:16.447Z"
   },
   {
    "duration": 3,
    "start_time": "2022-07-14T00:22:34.441Z"
   },
   {
    "duration": 41,
    "start_time": "2022-07-14T00:22:38.591Z"
   },
   {
    "duration": 3,
    "start_time": "2022-07-14T00:22:41.495Z"
   },
   {
    "duration": 8,
    "start_time": "2022-07-14T00:22:43.769Z"
   },
   {
    "duration": 16,
    "start_time": "2022-07-14T00:22:48.290Z"
   },
   {
    "duration": 23,
    "start_time": "2022-07-14T00:22:54.770Z"
   },
   {
    "duration": 6,
    "start_time": "2022-07-14T00:22:59.641Z"
   },
   {
    "duration": 4,
    "start_time": "2022-07-14T00:23:03.265Z"
   },
   {
    "duration": 11,
    "start_time": "2022-07-14T00:23:06.512Z"
   },
   {
    "duration": 6,
    "start_time": "2022-07-14T00:23:09.944Z"
   },
   {
    "duration": 5,
    "start_time": "2022-07-14T00:23:12.339Z"
   },
   {
    "duration": 4,
    "start_time": "2022-07-14T00:23:14.592Z"
   },
   {
    "duration": 24,
    "start_time": "2022-07-14T00:23:17.837Z"
   },
   {
    "duration": 8,
    "start_time": "2022-07-14T00:23:24.080Z"
   },
   {
    "duration": 8,
    "start_time": "2022-07-14T00:23:26.584Z"
   },
   {
    "duration": 7,
    "start_time": "2022-07-14T00:23:27.807Z"
   },
   {
    "duration": 4,
    "start_time": "2022-07-14T00:23:33.176Z"
   },
   {
    "duration": 8,
    "start_time": "2022-07-14T00:23:35.960Z"
   },
   {
    "duration": 5,
    "start_time": "2022-07-14T00:23:38.367Z"
   },
   {
    "duration": 5,
    "start_time": "2022-07-14T00:23:39.985Z"
   },
   {
    "duration": 7,
    "start_time": "2022-07-14T00:23:43.625Z"
   },
   {
    "duration": 6,
    "start_time": "2022-07-14T00:23:46.857Z"
   },
   {
    "duration": 5,
    "start_time": "2022-07-14T00:23:48.907Z"
   },
   {
    "duration": 21,
    "start_time": "2022-07-14T00:23:51.551Z"
   },
   {
    "duration": 14,
    "start_time": "2022-07-14T00:23:56.039Z"
   },
   {
    "duration": 8,
    "start_time": "2022-07-14T00:23:59.305Z"
   },
   {
    "duration": 16,
    "start_time": "2022-07-14T00:24:01.393Z"
   },
   {
    "duration": 8,
    "start_time": "2022-07-14T00:24:05.012Z"
   },
   {
    "duration": 5,
    "start_time": "2022-07-14T00:24:07.643Z"
   },
   {
    "duration": 5,
    "start_time": "2022-07-14T00:24:12.346Z"
   },
   {
    "duration": 4,
    "start_time": "2022-07-14T00:24:14.151Z"
   },
   {
    "duration": 5,
    "start_time": "2022-07-14T00:24:14.996Z"
   },
   {
    "duration": 8,
    "start_time": "2022-07-14T00:24:18.281Z"
   },
   {
    "duration": 7,
    "start_time": "2022-07-14T00:24:20.752Z"
   },
   {
    "duration": 5,
    "start_time": "2022-07-14T00:24:23.224Z"
   },
   {
    "duration": 6,
    "start_time": "2022-07-14T00:24:24.496Z"
   },
   {
    "duration": 6,
    "start_time": "2022-07-14T00:24:27.207Z"
   },
   {
    "duration": 17,
    "start_time": "2022-07-14T00:24:30.667Z"
   },
   {
    "duration": 22,
    "start_time": "2022-07-14T00:24:31.567Z"
   },
   {
    "duration": 14,
    "start_time": "2022-07-14T00:24:32.186Z"
   },
   {
    "duration": 3,
    "start_time": "2022-07-14T00:24:34.078Z"
   },
   {
    "duration": 3,
    "start_time": "2022-07-14T00:24:37.816Z"
   },
   {
    "duration": 4,
    "start_time": "2022-07-14T00:24:40.062Z"
   },
   {
    "duration": 5,
    "start_time": "2022-07-14T00:24:41.751Z"
   },
   {
    "duration": 15,
    "start_time": "2022-07-14T00:24:42.660Z"
   },
   {
    "duration": 6,
    "start_time": "2022-07-14T00:24:43.378Z"
   },
   {
    "duration": 25,
    "start_time": "2022-07-14T00:24:46.272Z"
   },
   {
    "duration": 15,
    "start_time": "2022-07-14T00:24:49.791Z"
   },
   {
    "duration": 14,
    "start_time": "2022-07-14T00:24:52.139Z"
   },
   {
    "duration": 5,
    "start_time": "2022-07-14T00:24:54.814Z"
   },
   {
    "duration": 3,
    "start_time": "2022-07-14T00:25:02.926Z"
   },
   {
    "duration": 3,
    "start_time": "2022-07-14T00:25:46.344Z"
   },
   {
    "duration": 4,
    "start_time": "2022-07-14T00:25:47.041Z"
   },
   {
    "duration": 995,
    "start_time": "2022-07-14T00:25:48.047Z"
   },
   {
    "duration": 4,
    "start_time": "2022-07-14T00:25:55.020Z"
   },
   {
    "duration": 221,
    "start_time": "2022-07-14T00:25:57.649Z"
   },
   {
    "duration": 7,
    "start_time": "2022-07-14T00:26:15.513Z"
   },
   {
    "duration": 6,
    "start_time": "2022-07-14T00:26:28.843Z"
   },
   {
    "duration": 5,
    "start_time": "2022-07-14T00:26:44.040Z"
   },
   {
    "duration": 20,
    "start_time": "2022-07-14T00:27:19.971Z"
   },
   {
    "duration": 8,
    "start_time": "2022-07-14T00:27:42.264Z"
   },
   {
    "duration": 9,
    "start_time": "2022-07-14T00:28:19.889Z"
   },
   {
    "duration": 9,
    "start_time": "2022-07-14T00:29:31.247Z"
   },
   {
    "duration": 9,
    "start_time": "2022-07-14T00:29:56.152Z"
   },
   {
    "duration": 185,
    "start_time": "2022-07-14T00:43:06.254Z"
   },
   {
    "duration": 12,
    "start_time": "2022-07-14T00:43:27.695Z"
   },
   {
    "duration": 5,
    "start_time": "2022-07-14T00:43:35.900Z"
   },
   {
    "duration": 5,
    "start_time": "2022-07-14T00:44:30.040Z"
   },
   {
    "duration": 15,
    "start_time": "2022-07-14T00:44:49.551Z"
   },
   {
    "duration": 5,
    "start_time": "2022-07-14T00:45:06.889Z"
   },
   {
    "duration": 16,
    "start_time": "2022-07-14T00:46:24.067Z"
   },
   {
    "duration": 15,
    "start_time": "2022-07-14T00:46:26.281Z"
   },
   {
    "duration": 15,
    "start_time": "2022-07-14T00:46:28.691Z"
   },
   {
    "duration": 4,
    "start_time": "2022-07-14T00:46:32.312Z"
   },
   {
    "duration": 3,
    "start_time": "2022-07-14T00:46:34.885Z"
   },
   {
    "duration": 8,
    "start_time": "2022-07-14T00:46:37.688Z"
   },
   {
    "duration": 6,
    "start_time": "2022-07-14T00:46:49.460Z"
   },
   {
    "duration": 5,
    "start_time": "2022-07-14T00:46:54.527Z"
   },
   {
    "duration": 19,
    "start_time": "2022-07-14T00:48:25.141Z"
   },
   {
    "duration": 17,
    "start_time": "2022-07-14T00:48:33.662Z"
   },
   {
    "duration": 16,
    "start_time": "2022-07-14T00:49:10.802Z"
   },
   {
    "duration": 16,
    "start_time": "2022-07-14T00:49:19.968Z"
   },
   {
    "duration": 5,
    "start_time": "2022-07-14T00:52:23.307Z"
   },
   {
    "duration": 7,
    "start_time": "2022-07-14T00:53:04.245Z"
   },
   {
    "duration": 845,
    "start_time": "2022-07-14T00:55:20.240Z"
   },
   {
    "duration": 7,
    "start_time": "2022-07-14T00:55:31.972Z"
   },
   {
    "duration": 746,
    "start_time": "2022-07-14T00:56:23.559Z"
   },
   {
    "duration": 3,
    "start_time": "2022-07-14T01:02:40.065Z"
   },
   {
    "duration": 10,
    "start_time": "2022-07-14T01:03:02.839Z"
   },
   {
    "duration": 14,
    "start_time": "2022-07-14T01:03:50.010Z"
   },
   {
    "duration": 4,
    "start_time": "2022-07-14T01:03:54.005Z"
   },
   {
    "duration": 3,
    "start_time": "2022-07-14T01:03:56.640Z"
   },
   {
    "duration": 9,
    "start_time": "2022-07-14T01:03:58.490Z"
   },
   {
    "duration": 3,
    "start_time": "2022-07-14T01:04:14.094Z"
   },
   {
    "duration": 5,
    "start_time": "2022-07-14T01:04:15.358Z"
   },
   {
    "duration": 193,
    "start_time": "2022-07-14T01:06:42.368Z"
   },
   {
    "duration": 5,
    "start_time": "2022-07-14T01:06:56.347Z"
   },
   {
    "duration": 14,
    "start_time": "2022-07-14T01:07:20.742Z"
   },
   {
    "duration": 18,
    "start_time": "2022-07-14T01:07:59.845Z"
   },
   {
    "duration": 15,
    "start_time": "2022-07-14T01:08:45.379Z"
   },
   {
    "duration": 3,
    "start_time": "2022-07-14T01:09:20.004Z"
   },
   {
    "duration": 5,
    "start_time": "2022-07-14T01:09:20.635Z"
   },
   {
    "duration": 179,
    "start_time": "2022-07-14T01:09:21.991Z"
   },
   {
    "duration": 6,
    "start_time": "2022-07-14T01:09:24.766Z"
   },
   {
    "duration": 15,
    "start_time": "2022-07-14T01:09:33.012Z"
   },
   {
    "duration": 43,
    "start_time": "2022-07-14T23:05:49.818Z"
   },
   {
    "duration": 514,
    "start_time": "2022-07-14T23:05:52.736Z"
   },
   {
    "duration": 3,
    "start_time": "2022-07-14T23:05:56.014Z"
   },
   {
    "duration": 15,
    "start_time": "2022-07-14T23:05:58.833Z"
   },
   {
    "duration": 25,
    "start_time": "2022-07-14T23:06:01.954Z"
   },
   {
    "duration": 7,
    "start_time": "2022-07-14T23:06:04.014Z"
   },
   {
    "duration": 5,
    "start_time": "2022-07-14T23:06:05.391Z"
   },
   {
    "duration": 11,
    "start_time": "2022-07-14T23:06:08.857Z"
   },
   {
    "duration": 4,
    "start_time": "2022-07-14T23:06:10.589Z"
   },
   {
    "duration": 5,
    "start_time": "2022-07-14T23:06:12.353Z"
   },
   {
    "duration": 22,
    "start_time": "2022-07-14T23:06:16.741Z"
   },
   {
    "duration": 6,
    "start_time": "2022-07-14T23:06:22.931Z"
   },
   {
    "duration": 11,
    "start_time": "2022-07-14T23:06:25.316Z"
   },
   {
    "duration": 7,
    "start_time": "2022-07-14T23:06:26.316Z"
   },
   {
    "duration": 5,
    "start_time": "2022-07-14T23:06:28.700Z"
   },
   {
    "duration": 7,
    "start_time": "2022-07-14T23:06:30.639Z"
   },
   {
    "duration": 4,
    "start_time": "2022-07-14T23:06:32.415Z"
   },
   {
    "duration": 8,
    "start_time": "2022-07-14T23:06:34.951Z"
   },
   {
    "duration": 4,
    "start_time": "2022-07-14T23:06:36.415Z"
   },
   {
    "duration": 4,
    "start_time": "2022-07-14T23:06:37.225Z"
   },
   {
    "duration": 21,
    "start_time": "2022-07-14T23:06:40.527Z"
   },
   {
    "duration": 12,
    "start_time": "2022-07-14T23:06:42.132Z"
   },
   {
    "duration": 8,
    "start_time": "2022-07-14T23:06:44.415Z"
   },
   {
    "duration": 16,
    "start_time": "2022-07-14T23:06:45.813Z"
   },
   {
    "duration": 9,
    "start_time": "2022-07-14T23:06:47.915Z"
   },
   {
    "duration": 5,
    "start_time": "2022-07-14T23:06:50.591Z"
   },
   {
    "duration": 6,
    "start_time": "2022-07-14T23:06:52.279Z"
   },
   {
    "duration": 5,
    "start_time": "2022-07-14T23:06:53.768Z"
   },
   {
    "duration": 7,
    "start_time": "2022-07-14T23:06:55.930Z"
   },
   {
    "duration": 7,
    "start_time": "2022-07-14T23:06:58.013Z"
   },
   {
    "duration": 5,
    "start_time": "2022-07-14T23:07:00.539Z"
   },
   {
    "duration": 7,
    "start_time": "2022-07-14T23:07:01.444Z"
   },
   {
    "duration": 7,
    "start_time": "2022-07-14T23:07:04.975Z"
   },
   {
    "duration": 15,
    "start_time": "2022-07-14T23:07:08.223Z"
   },
   {
    "duration": 19,
    "start_time": "2022-07-14T23:07:09.143Z"
   },
   {
    "duration": 20,
    "start_time": "2022-07-14T23:07:10.008Z"
   },
   {
    "duration": 8,
    "start_time": "2022-07-14T23:07:10.912Z"
   },
   {
    "duration": 2,
    "start_time": "2022-07-14T23:07:14.443Z"
   },
   {
    "duration": 4,
    "start_time": "2022-07-14T23:07:16.783Z"
   },
   {
    "duration": 4,
    "start_time": "2022-07-14T23:07:19.988Z"
   },
   {
    "duration": 13,
    "start_time": "2022-07-14T23:07:22.035Z"
   },
   {
    "duration": 5,
    "start_time": "2022-07-14T23:07:23.049Z"
   },
   {
    "duration": 27,
    "start_time": "2022-07-14T23:07:25.026Z"
   },
   {
    "duration": 17,
    "start_time": "2022-07-14T23:07:33.070Z"
   },
   {
    "duration": 14,
    "start_time": "2022-07-14T23:07:35.628Z"
   },
   {
    "duration": 5,
    "start_time": "2022-07-14T23:07:37.971Z"
   },
   {
    "duration": 3,
    "start_time": "2022-07-14T23:07:47.835Z"
   },
   {
    "duration": 4,
    "start_time": "2022-07-14T23:07:49.737Z"
   },
   {
    "duration": 4,
    "start_time": "2022-07-14T23:07:52.235Z"
   },
   {
    "duration": 202,
    "start_time": "2022-07-14T23:07:53.597Z"
   },
   {
    "duration": 5,
    "start_time": "2022-07-14T23:07:57.636Z"
   },
   {
    "duration": 5,
    "start_time": "2022-07-14T23:08:01.534Z"
   },
   {
    "duration": 16,
    "start_time": "2022-07-14T23:08:03.124Z"
   },
   {
    "duration": 14,
    "start_time": "2022-07-14T23:08:05.858Z"
   },
   {
    "duration": 15,
    "start_time": "2022-07-14T23:08:10.145Z"
   },
   {
    "duration": 23,
    "start_time": "2022-07-14T23:08:12.587Z"
   },
   {
    "duration": 4,
    "start_time": "2022-07-14T23:08:14.669Z"
   },
   {
    "duration": 4,
    "start_time": "2022-07-14T23:08:15.765Z"
   },
   {
    "duration": 6,
    "start_time": "2022-07-14T23:08:16.623Z"
   },
   {
    "duration": 213,
    "start_time": "2022-07-14T23:08:18.578Z"
   },
   {
    "duration": 5,
    "start_time": "2022-07-14T23:08:19.289Z"
   },
   {
    "duration": 174,
    "start_time": "2022-07-14T23:08:24.570Z"
   },
   {
    "duration": 5,
    "start_time": "2022-07-14T23:08:26.027Z"
   },
   {
    "duration": 17,
    "start_time": "2022-07-14T23:08:27.623Z"
   },
   {
    "duration": 14,
    "start_time": "2022-07-14T23:08:31.249Z"
   },
   {
    "duration": 25,
    "start_time": "2022-07-14T23:24:53.200Z"
   },
   {
    "duration": 7,
    "start_time": "2022-07-14T23:25:02.769Z"
   },
   {
    "duration": 6,
    "start_time": "2022-07-14T23:25:14.947Z"
   },
   {
    "duration": 4,
    "start_time": "2022-07-14T23:26:04.862Z"
   },
   {
    "duration": 4,
    "start_time": "2022-07-15T01:43:41.902Z"
   },
   {
    "duration": 8,
    "start_time": "2022-07-15T01:44:37.013Z"
   },
   {
    "duration": 5,
    "start_time": "2022-07-15T01:44:47.977Z"
   },
   {
    "duration": 7,
    "start_time": "2022-07-15T01:45:12.159Z"
   },
   {
    "duration": 9,
    "start_time": "2022-07-15T01:45:21.043Z"
   },
   {
    "duration": 4,
    "start_time": "2022-07-15T01:45:54.907Z"
   },
   {
    "duration": 3,
    "start_time": "2022-07-15T01:46:36.691Z"
   },
   {
    "duration": 5,
    "start_time": "2022-07-15T01:46:43.728Z"
   },
   {
    "duration": 3,
    "start_time": "2022-07-15T01:46:49.275Z"
   },
   {
    "duration": 4,
    "start_time": "2022-07-15T01:47:12.881Z"
   },
   {
    "duration": 3,
    "start_time": "2022-07-15T01:47:13.937Z"
   },
   {
    "duration": 7,
    "start_time": "2022-07-15T01:47:23.473Z"
   },
   {
    "duration": 7,
    "start_time": "2022-07-15T01:47:49.159Z"
   },
   {
    "duration": 10,
    "start_time": "2022-07-15T01:48:02.797Z"
   },
   {
    "duration": 4823,
    "start_time": "2022-07-15T01:48:42.558Z"
   },
   {
    "duration": 5,
    "start_time": "2022-07-15T01:49:41.385Z"
   },
   {
    "duration": 3,
    "start_time": "2022-07-15T01:49:47.026Z"
   },
   {
    "duration": 6,
    "start_time": "2022-07-15T01:50:24.439Z"
   },
   {
    "duration": 125,
    "start_time": "2022-07-15T01:51:05.722Z"
   },
   {
    "duration": 3,
    "start_time": "2022-07-15T02:15:04.766Z"
   },
   {
    "duration": 4,
    "start_time": "2022-07-15T02:15:05.380Z"
   },
   {
    "duration": 3,
    "start_time": "2022-07-15T02:15:06.071Z"
   },
   {
    "duration": 11,
    "start_time": "2022-07-15T02:15:06.874Z"
   },
   {
    "duration": 6,
    "start_time": "2022-07-15T02:15:09.561Z"
   },
   {
    "duration": 4,
    "start_time": "2022-07-15T02:19:30.201Z"
   },
   {
    "duration": 4,
    "start_time": "2022-07-15T02:19:30.946Z"
   },
   {
    "duration": 3,
    "start_time": "2022-07-15T02:19:31.827Z"
   },
   {
    "duration": 11,
    "start_time": "2022-07-15T02:19:32.887Z"
   },
   {
    "duration": 7,
    "start_time": "2022-07-15T02:19:34.085Z"
   },
   {
    "duration": 3,
    "start_time": "2022-07-15T02:24:31.945Z"
   },
   {
    "duration": 4,
    "start_time": "2022-07-15T02:24:32.976Z"
   },
   {
    "duration": 3,
    "start_time": "2022-07-15T02:24:33.766Z"
   },
   {
    "duration": 10,
    "start_time": "2022-07-15T02:24:34.830Z"
   },
   {
    "duration": 6,
    "start_time": "2022-07-15T02:24:35.883Z"
   },
   {
    "duration": 3,
    "start_time": "2022-07-15T02:27:27.627Z"
   },
   {
    "duration": 5,
    "start_time": "2022-07-15T02:27:28.647Z"
   },
   {
    "duration": 3,
    "start_time": "2022-07-15T02:27:29.530Z"
   },
   {
    "duration": 10,
    "start_time": "2022-07-15T02:27:30.917Z"
   },
   {
    "duration": 6,
    "start_time": "2022-07-15T02:27:33.639Z"
   },
   {
    "duration": 3,
    "start_time": "2022-07-15T02:29:21.551Z"
   },
   {
    "duration": 4,
    "start_time": "2022-07-15T02:29:22.645Z"
   },
   {
    "duration": 3,
    "start_time": "2022-07-15T02:29:23.409Z"
   },
   {
    "duration": 10,
    "start_time": "2022-07-15T02:29:24.043Z"
   },
   {
    "duration": 6,
    "start_time": "2022-07-15T02:29:24.761Z"
   },
   {
    "duration": 3,
    "start_time": "2022-07-15T02:33:02.376Z"
   },
   {
    "duration": 20,
    "start_time": "2022-07-15T02:33:30.783Z"
   },
   {
    "duration": 759,
    "start_time": "2022-07-15T02:34:43.841Z"
   },
   {
    "duration": 43,
    "start_time": "2022-07-15T02:34:53.096Z"
   },
   {
    "duration": 39,
    "start_time": "2022-07-15T02:39:02.366Z"
   },
   {
    "duration": 42,
    "start_time": "2022-07-15T02:39:14.231Z"
   },
   {
    "duration": 47,
    "start_time": "2022-07-15T02:42:00.461Z"
   },
   {
    "duration": 22,
    "start_time": "2022-07-15T02:43:05.396Z"
   },
   {
    "duration": 45,
    "start_time": "2022-07-15T02:59:42.060Z"
   },
   {
    "duration": 43,
    "start_time": "2022-07-15T03:01:03.032Z"
   },
   {
    "duration": 55,
    "start_time": "2022-07-15T03:03:09.477Z"
   },
   {
    "duration": 42,
    "start_time": "2022-07-15T03:03:15.402Z"
   },
   {
    "duration": 4,
    "start_time": "2022-07-15T03:08:05.734Z"
   },
   {
    "duration": 444,
    "start_time": "2022-07-15T03:09:03.166Z"
   },
   {
    "duration": 11,
    "start_time": "2022-07-15T03:09:06.402Z"
   },
   {
    "duration": 9,
    "start_time": "2022-07-15T03:09:07.630Z"
   },
   {
    "duration": 16,
    "start_time": "2022-07-15T03:09:09.151Z"
   },
   {
    "duration": 27,
    "start_time": "2022-07-15T03:09:10.845Z"
   },
   {
    "duration": 7,
    "start_time": "2022-07-15T03:09:12.686Z"
   },
   {
    "duration": 5,
    "start_time": "2022-07-15T03:09:14.557Z"
   },
   {
    "duration": 12,
    "start_time": "2022-07-15T03:09:17.252Z"
   },
   {
    "duration": 5,
    "start_time": "2022-07-15T03:09:19.017Z"
   },
   {
    "duration": 8,
    "start_time": "2022-07-15T03:09:21.472Z"
   },
   {
    "duration": 4,
    "start_time": "2022-07-15T03:09:24.109Z"
   },
   {
    "duration": 5,
    "start_time": "2022-07-15T03:09:26.165Z"
   },
   {
    "duration": 29,
    "start_time": "2022-07-15T03:09:27.965Z"
   },
   {
    "duration": 6,
    "start_time": "2022-07-15T03:09:32.590Z"
   },
   {
    "duration": 9,
    "start_time": "2022-07-15T03:09:34.636Z"
   },
   {
    "duration": 7,
    "start_time": "2022-07-15T03:09:35.351Z"
   },
   {
    "duration": 5,
    "start_time": "2022-07-15T03:09:38.916Z"
   },
   {
    "duration": 7,
    "start_time": "2022-07-15T03:09:40.686Z"
   },
   {
    "duration": 5,
    "start_time": "2022-07-15T03:09:42.258Z"
   },
   {
    "duration": 5,
    "start_time": "2022-07-15T03:09:43.306Z"
   },
   {
    "duration": 7,
    "start_time": "2022-07-15T03:09:45.761Z"
   },
   {
    "duration": 4,
    "start_time": "2022-07-15T03:09:47.227Z"
   },
   {
    "duration": 5,
    "start_time": "2022-07-15T03:09:48.171Z"
   },
   {
    "duration": 21,
    "start_time": "2022-07-15T03:09:49.445Z"
   },
   {
    "duration": 13,
    "start_time": "2022-07-15T03:09:52.012Z"
   },
   {
    "duration": 8,
    "start_time": "2022-07-15T03:09:53.873Z"
   },
   {
    "duration": 15,
    "start_time": "2022-07-15T03:09:55.390Z"
   },
   {
    "duration": 10,
    "start_time": "2022-07-15T03:09:58.047Z"
   },
   {
    "duration": 6,
    "start_time": "2022-07-15T03:09:59.533Z"
   },
   {
    "duration": 5,
    "start_time": "2022-07-15T03:10:01.336Z"
   },
   {
    "duration": 6,
    "start_time": "2022-07-15T03:10:02.885Z"
   },
   {
    "duration": 4,
    "start_time": "2022-07-15T03:10:07.496Z"
   },
   {
    "duration": 6,
    "start_time": "2022-07-15T03:10:08.927Z"
   },
   {
    "duration": 7,
    "start_time": "2022-07-15T03:10:11.930Z"
   },
   {
    "duration": 6,
    "start_time": "2022-07-15T03:10:14.380Z"
   },
   {
    "duration": 5,
    "start_time": "2022-07-15T03:10:16.377Z"
   },
   {
    "duration": 8,
    "start_time": "2022-07-15T03:10:16.984Z"
   },
   {
    "duration": 7,
    "start_time": "2022-07-15T03:10:19.174Z"
   },
   {
    "duration": 17,
    "start_time": "2022-07-15T03:10:21.966Z"
   },
   {
    "duration": 21,
    "start_time": "2022-07-15T03:10:22.745Z"
   },
   {
    "duration": 18,
    "start_time": "2022-07-15T03:10:23.459Z"
   },
   {
    "duration": 4,
    "start_time": "2022-07-15T03:10:24.568Z"
   },
   {
    "duration": 4,
    "start_time": "2022-07-15T03:10:28.088Z"
   },
   {
    "duration": 4,
    "start_time": "2022-07-15T03:10:29.980Z"
   },
   {
    "duration": 5,
    "start_time": "2022-07-15T03:10:31.470Z"
   },
   {
    "duration": 15,
    "start_time": "2022-07-15T03:10:32.252Z"
   },
   {
    "duration": 7,
    "start_time": "2022-07-15T03:10:33.024Z"
   },
   {
    "duration": 26,
    "start_time": "2022-07-15T03:10:34.799Z"
   },
   {
    "duration": 17,
    "start_time": "2022-07-15T03:10:37.271Z"
   },
   {
    "duration": 15,
    "start_time": "2022-07-15T03:10:39.742Z"
   },
   {
    "duration": 4,
    "start_time": "2022-07-15T03:10:41.542Z"
   },
   {
    "duration": 3,
    "start_time": "2022-07-15T03:10:46.221Z"
   },
   {
    "duration": 6,
    "start_time": "2022-07-15T03:10:47.309Z"
   },
   {
    "duration": 4,
    "start_time": "2022-07-15T03:10:49.424Z"
   },
   {
    "duration": 192,
    "start_time": "2022-07-15T03:10:50.363Z"
   },
   {
    "duration": 5,
    "start_time": "2022-07-15T03:10:52.071Z"
   },
   {
    "duration": 4,
    "start_time": "2022-07-15T03:10:57.095Z"
   },
   {
    "duration": 19,
    "start_time": "2022-07-15T03:10:58.817Z"
   },
   {
    "duration": 16,
    "start_time": "2022-07-15T03:11:00.830Z"
   },
   {
    "duration": 14,
    "start_time": "2022-07-15T03:11:03.721Z"
   },
   {
    "duration": 15,
    "start_time": "2022-07-15T03:11:06.505Z"
   },
   {
    "duration": 15,
    "start_time": "2022-07-15T03:11:10.701Z"
   },
   {
    "duration": 16,
    "start_time": "2022-07-15T03:11:12.818Z"
   },
   {
    "duration": 13,
    "start_time": "2022-07-15T03:11:14.559Z"
   },
   {
    "duration": 4,
    "start_time": "2022-07-15T03:11:16.697Z"
   },
   {
    "duration": 3,
    "start_time": "2022-07-15T03:11:17.711Z"
   },
   {
    "duration": 4,
    "start_time": "2022-07-15T03:11:18.592Z"
   },
   {
    "duration": 196,
    "start_time": "2022-07-15T03:11:20.444Z"
   },
   {
    "duration": 5,
    "start_time": "2022-07-15T03:11:21.428Z"
   },
   {
    "duration": 18,
    "start_time": "2022-07-15T03:11:22.560Z"
   },
   {
    "duration": 69,
    "start_time": "2022-07-15T03:11:25.056Z"
   },
   {
    "duration": 3,
    "start_time": "2022-07-15T03:11:52.984Z"
   },
   {
    "duration": 5,
    "start_time": "2022-07-15T03:11:54.364Z"
   },
   {
    "duration": 244,
    "start_time": "2022-07-15T03:11:55.149Z"
   },
   {
    "duration": 6,
    "start_time": "2022-07-15T03:11:56.246Z"
   },
   {
    "duration": 19,
    "start_time": "2022-07-15T03:11:57.501Z"
   },
   {
    "duration": 7,
    "start_time": "2022-07-15T03:12:00.446Z"
   },
   {
    "duration": 14,
    "start_time": "2022-07-15T03:12:43.662Z"
   },
   {
    "duration": 7,
    "start_time": "2022-07-15T03:12:47.051Z"
   },
   {
    "duration": 5,
    "start_time": "2022-07-15T03:12:49.412Z"
   },
   {
    "duration": 3,
    "start_time": "2022-07-15T03:12:51.224Z"
   },
   {
    "duration": 8,
    "start_time": "2022-07-15T03:13:02.594Z"
   },
   {
    "duration": 10,
    "start_time": "2022-07-15T03:13:11.059Z"
   },
   {
    "duration": 356,
    "start_time": "2022-07-15T03:13:13.816Z"
   },
   {
    "duration": 4,
    "start_time": "2022-07-15T03:13:18.695Z"
   },
   {
    "duration": 4,
    "start_time": "2022-07-15T03:13:19.706Z"
   },
   {
    "duration": 3,
    "start_time": "2022-07-15T03:13:20.552Z"
   },
   {
    "duration": 11,
    "start_time": "2022-07-15T03:13:23.275Z"
   },
   {
    "duration": 7,
    "start_time": "2022-07-15T03:13:25.114Z"
   },
   {
    "duration": 22,
    "start_time": "2022-07-15T03:13:26.917Z"
   },
   {
    "duration": 4,
    "start_time": "2022-07-15T03:13:30.850Z"
   },
   {
    "duration": 14,
    "start_time": "2022-07-15T03:13:49.200Z"
   },
   {
    "duration": 8,
    "start_time": "2022-07-15T03:13:56.848Z"
   },
   {
    "duration": 9,
    "start_time": "2022-07-15T03:14:02.878Z"
   },
   {
    "duration": 5,
    "start_time": "2022-07-15T03:14:07.731Z"
   },
   {
    "duration": 54,
    "start_time": "2022-07-15T03:15:25.247Z"
   },
   {
    "duration": 41,
    "start_time": "2022-07-15T03:17:20.884Z"
   },
   {
    "duration": 53,
    "start_time": "2022-07-15T03:20:16.563Z"
   },
   {
    "duration": 90,
    "start_time": "2022-07-15T03:52:06.907Z"
   },
   {
    "duration": 90,
    "start_time": "2022-07-15T03:54:09.542Z"
   },
   {
    "duration": 104,
    "start_time": "2022-07-15T03:54:36.224Z"
   },
   {
    "duration": 9,
    "start_time": "2022-07-15T03:56:57.415Z"
   },
   {
    "duration": 116,
    "start_time": "2022-07-15T03:57:12.740Z"
   },
   {
    "duration": 9,
    "start_time": "2022-07-15T03:57:22.156Z"
   },
   {
    "duration": 8,
    "start_time": "2022-07-15T03:57:46.535Z"
   },
   {
    "duration": 12,
    "start_time": "2022-07-15T03:57:55.303Z"
   },
   {
    "duration": 2,
    "start_time": "2022-07-15T03:58:32.810Z"
   },
   {
    "duration": 8,
    "start_time": "2022-07-15T03:58:35.074Z"
   },
   {
    "duration": 148,
    "start_time": "2022-07-15T03:58:54.675Z"
   },
   {
    "duration": 96,
    "start_time": "2022-07-15T03:59:21.645Z"
   },
   {
    "duration": 100,
    "start_time": "2022-07-15T04:00:31.716Z"
   },
   {
    "duration": 64,
    "start_time": "2022-07-15T04:02:29.190Z"
   },
   {
    "duration": 108,
    "start_time": "2022-07-15T04:02:36.107Z"
   },
   {
    "duration": 495,
    "start_time": "2022-07-15T04:08:16.374Z"
   },
   {
    "duration": 181,
    "start_time": "2022-07-15T04:08:22.886Z"
   },
   {
    "duration": 422,
    "start_time": "2022-07-15T04:08:52.454Z"
   },
   {
    "duration": 763,
    "start_time": "2022-07-15T04:10:33.853Z"
   },
   {
    "duration": 132,
    "start_time": "2022-07-15T04:10:42.947Z"
   },
   {
    "duration": 8,
    "start_time": "2022-07-15T04:11:22.233Z"
   },
   {
    "duration": 1336,
    "start_time": "2022-07-15T04:12:54.479Z"
   },
   {
    "duration": 163,
    "start_time": "2022-07-15T04:14:39.750Z"
   },
   {
    "duration": 388,
    "start_time": "2022-07-15T04:14:45.995Z"
   },
   {
    "duration": 402,
    "start_time": "2022-07-15T04:14:57.102Z"
   },
   {
    "duration": 156,
    "start_time": "2022-07-15T04:17:58.512Z"
   },
   {
    "duration": 140,
    "start_time": "2022-07-15T04:18:04.207Z"
   },
   {
    "duration": 149,
    "start_time": "2022-07-15T04:18:28.515Z"
   },
   {
    "duration": 500,
    "start_time": "2022-07-15T04:22:59.792Z"
   },
   {
    "duration": 852,
    "start_time": "2022-07-15T04:23:16.970Z"
   },
   {
    "duration": 11,
    "start_time": "2022-07-15T04:35:16.276Z"
   },
   {
    "duration": 3,
    "start_time": "2022-07-15T04:36:03.110Z"
   },
   {
    "duration": 98,
    "start_time": "2022-07-15T04:36:27.270Z"
   },
   {
    "duration": 50,
    "start_time": "2022-07-15T04:38:30.785Z"
   },
   {
    "duration": 51,
    "start_time": "2022-07-15T04:39:17.882Z"
   },
   {
    "duration": 35,
    "start_time": "2022-07-15T04:41:47.300Z"
   },
   {
    "duration": 33,
    "start_time": "2022-07-15T04:42:05.565Z"
   },
   {
    "duration": 31,
    "start_time": "2022-07-15T04:44:22.536Z"
   },
   {
    "duration": 17,
    "start_time": "2022-07-15T04:46:21.620Z"
   },
   {
    "duration": 20,
    "start_time": "2022-07-15T04:47:48.117Z"
   },
   {
    "duration": 26,
    "start_time": "2022-07-15T04:49:03.454Z"
   },
   {
    "duration": 44,
    "start_time": "2022-07-15T04:49:35.854Z"
   },
   {
    "duration": 39,
    "start_time": "2022-07-15T04:53:36.637Z"
   },
   {
    "duration": 43,
    "start_time": "2022-07-15T04:53:52.313Z"
   },
   {
    "duration": 43,
    "start_time": "2022-07-15T04:54:04.503Z"
   },
   {
    "duration": 42,
    "start_time": "2022-07-15T04:55:28.840Z"
   },
   {
    "duration": 47,
    "start_time": "2022-07-15T04:57:18.437Z"
   },
   {
    "duration": 23,
    "start_time": "2022-07-15T05:19:45.001Z"
   },
   {
    "duration": 7,
    "start_time": "2022-07-15T05:20:02.379Z"
   },
   {
    "duration": 446,
    "start_time": "2022-07-15T05:20:44.412Z"
   },
   {
    "duration": 3,
    "start_time": "2022-07-15T05:20:46.845Z"
   },
   {
    "duration": 9,
    "start_time": "2022-07-15T05:20:48.758Z"
   },
   {
    "duration": 15,
    "start_time": "2022-07-15T05:20:56.163Z"
   },
   {
    "duration": 27,
    "start_time": "2022-07-15T05:20:58.831Z"
   },
   {
    "duration": 7,
    "start_time": "2022-07-15T05:21:06.503Z"
   },
   {
    "duration": 4,
    "start_time": "2022-07-15T05:21:09.030Z"
   },
   {
    "duration": 12,
    "start_time": "2022-07-15T05:21:10.961Z"
   },
   {
    "duration": 8,
    "start_time": "2022-07-15T05:21:14.194Z"
   },
   {
    "duration": 5,
    "start_time": "2022-07-15T05:21:16.165Z"
   },
   {
    "duration": 5,
    "start_time": "2022-07-15T05:21:18.713Z"
   },
   {
    "duration": 23,
    "start_time": "2022-07-15T05:21:21.504Z"
   },
   {
    "duration": 5,
    "start_time": "2022-07-15T05:21:28.163Z"
   },
   {
    "duration": 9,
    "start_time": "2022-07-15T05:21:30.306Z"
   },
   {
    "duration": 10,
    "start_time": "2022-07-15T05:21:30.914Z"
   },
   {
    "duration": 6,
    "start_time": "2022-07-15T05:21:34.317Z"
   },
   {
    "duration": 10,
    "start_time": "2022-07-15T05:21:37.767Z"
   },
   {
    "duration": 7,
    "start_time": "2022-07-15T05:21:39.234Z"
   },
   {
    "duration": 6,
    "start_time": "2022-07-15T05:21:40.945Z"
   },
   {
    "duration": 9,
    "start_time": "2022-07-15T05:21:43.344Z"
   },
   {
    "duration": 5,
    "start_time": "2022-07-15T05:21:45.863Z"
   },
   {
    "duration": 5,
    "start_time": "2022-07-15T05:21:46.613Z"
   },
   {
    "duration": 24,
    "start_time": "2022-07-15T05:21:47.897Z"
   },
   {
    "duration": 17,
    "start_time": "2022-07-15T05:21:51.047Z"
   },
   {
    "duration": 8,
    "start_time": "2022-07-15T05:21:53.645Z"
   },
   {
    "duration": 19,
    "start_time": "2022-07-15T05:21:55.391Z"
   },
   {
    "duration": 9,
    "start_time": "2022-07-15T05:21:58.685Z"
   },
   {
    "duration": 4,
    "start_time": "2022-07-15T05:22:02.279Z"
   },
   {
    "duration": 6,
    "start_time": "2022-07-15T05:22:06.102Z"
   },
   {
    "duration": 5,
    "start_time": "2022-07-15T05:22:06.832Z"
   },
   {
    "duration": 8,
    "start_time": "2022-07-15T05:22:07.737Z"
   },
   {
    "duration": 9,
    "start_time": "2022-07-15T05:22:11.223Z"
   },
   {
    "duration": 7,
    "start_time": "2022-07-15T05:22:13.535Z"
   },
   {
    "duration": 5,
    "start_time": "2022-07-15T05:22:15.527Z"
   },
   {
    "duration": 6,
    "start_time": "2022-07-15T05:22:17.087Z"
   },
   {
    "duration": 7,
    "start_time": "2022-07-15T05:22:19.561Z"
   },
   {
    "duration": 23,
    "start_time": "2022-07-15T05:22:21.757Z"
   },
   {
    "duration": 20,
    "start_time": "2022-07-15T05:22:22.439Z"
   },
   {
    "duration": 23,
    "start_time": "2022-07-15T05:22:23.063Z"
   },
   {
    "duration": 4,
    "start_time": "2022-07-15T05:22:25.011Z"
   },
   {
    "duration": 2,
    "start_time": "2022-07-15T05:22:28.397Z"
   },
   {
    "duration": 5,
    "start_time": "2022-07-15T05:22:30.020Z"
   },
   {
    "duration": 5,
    "start_time": "2022-07-15T05:22:31.959Z"
   },
   {
    "duration": 16,
    "start_time": "2022-07-15T05:22:41.209Z"
   },
   {
    "duration": 6,
    "start_time": "2022-07-15T05:22:42.284Z"
   },
   {
    "duration": 29,
    "start_time": "2022-07-15T05:22:46.213Z"
   },
   {
    "duration": 18,
    "start_time": "2022-07-15T05:22:48.420Z"
   },
   {
    "duration": 16,
    "start_time": "2022-07-15T05:22:50.701Z"
   },
   {
    "duration": 17,
    "start_time": "2022-07-15T05:22:53.298Z"
   },
   {
    "duration": 5,
    "start_time": "2022-07-15T05:22:55.432Z"
   },
   {
    "duration": 3,
    "start_time": "2022-07-15T05:22:57.379Z"
   },
   {
    "duration": 4,
    "start_time": "2022-07-15T05:22:58.878Z"
   },
   {
    "duration": 5,
    "start_time": "2022-07-15T05:22:59.574Z"
   },
   {
    "duration": 221,
    "start_time": "2022-07-15T05:23:01.194Z"
   },
   {
    "duration": 6,
    "start_time": "2022-07-15T05:23:03.054Z"
   },
   {
    "duration": 6,
    "start_time": "2022-07-15T05:23:09.609Z"
   },
   {
    "duration": 18,
    "start_time": "2022-07-15T05:23:12.818Z"
   },
   {
    "duration": 22,
    "start_time": "2022-07-15T05:23:16.420Z"
   },
   {
    "duration": 15,
    "start_time": "2022-07-15T05:23:18.800Z"
   },
   {
    "duration": 13,
    "start_time": "2022-07-15T05:23:20.989Z"
   },
   {
    "duration": 14,
    "start_time": "2022-07-15T05:23:23.178Z"
   },
   {
    "duration": 7,
    "start_time": "2022-07-15T05:23:25.163Z"
   },
   {
    "duration": 2,
    "start_time": "2022-07-15T05:23:25.917Z"
   },
   {
    "duration": 5,
    "start_time": "2022-07-15T05:23:27.916Z"
   },
   {
    "duration": 196,
    "start_time": "2022-07-15T05:23:29.320Z"
   },
   {
    "duration": 6,
    "start_time": "2022-07-15T05:23:31.254Z"
   },
   {
    "duration": 17,
    "start_time": "2022-07-15T05:23:31.964Z"
   },
   {
    "duration": 16,
    "start_time": "2022-07-15T05:23:34.095Z"
   },
   {
    "duration": 7,
    "start_time": "2022-07-15T05:23:38.194Z"
   },
   {
    "duration": 5,
    "start_time": "2022-07-15T05:23:47.823Z"
   },
   {
    "duration": 28,
    "start_time": "2022-07-15T05:24:25.378Z"
   },
   {
    "duration": 5,
    "start_time": "2022-07-15T05:26:37.577Z"
   },
   {
    "duration": 5,
    "start_time": "2022-07-15T05:26:47.766Z"
   },
   {
    "duration": 6,
    "start_time": "2022-07-15T05:27:02.464Z"
   },
   {
    "duration": 3,
    "start_time": "2022-07-15T05:27:07.905Z"
   },
   {
    "duration": 4,
    "start_time": "2022-07-15T05:27:09.722Z"
   },
   {
    "duration": 47,
    "start_time": "2022-07-15T05:29:23.569Z"
   },
   {
    "duration": 3,
    "start_time": "2022-07-15T05:29:48.937Z"
   },
   {
    "duration": 6,
    "start_time": "2022-07-15T05:29:51.244Z"
   },
   {
    "duration": 54,
    "start_time": "2022-07-15T05:30:14.862Z"
   },
   {
    "duration": 49,
    "start_time": "2022-07-15T05:30:52.115Z"
   },
   {
    "duration": 86,
    "start_time": "2022-07-15T05:30:59.182Z"
   },
   {
    "duration": 5,
    "start_time": "2022-07-15T05:31:04.828Z"
   },
   {
    "duration": 3,
    "start_time": "2022-07-15T05:33:56.201Z"
   },
   {
    "duration": 11,
    "start_time": "2022-07-15T05:33:58.225Z"
   },
   {
    "duration": 11,
    "start_time": "2022-07-15T05:36:38.516Z"
   },
   {
    "duration": 9,
    "start_time": "2022-07-15T05:36:56.459Z"
   },
   {
    "duration": 45,
    "start_time": "2022-07-15T05:37:05.883Z"
   },
   {
    "duration": 3,
    "start_time": "2022-07-15T05:38:27.700Z"
   },
   {
    "duration": 48,
    "start_time": "2022-07-15T05:38:28.283Z"
   },
   {
    "duration": 4,
    "start_time": "2022-07-15T05:41:05.356Z"
   },
   {
    "duration": 9,
    "start_time": "2022-07-15T05:41:05.877Z"
   },
   {
    "duration": 3,
    "start_time": "2022-07-15T05:41:29.621Z"
   },
   {
    "duration": 11,
    "start_time": "2022-07-15T05:41:30.204Z"
   },
   {
    "duration": 3,
    "start_time": "2022-07-15T05:42:18.358Z"
   },
   {
    "duration": 9,
    "start_time": "2022-07-15T05:42:19.780Z"
   },
   {
    "duration": 2,
    "start_time": "2022-07-15T05:43:22.129Z"
   },
   {
    "duration": 3,
    "start_time": "2022-07-15T05:43:23.428Z"
   },
   {
    "duration": 2,
    "start_time": "2022-07-15T05:43:31.806Z"
   },
   {
    "duration": 3,
    "start_time": "2022-07-15T05:43:33.919Z"
   },
   {
    "duration": 6,
    "start_time": "2022-07-15T05:43:55.823Z"
   },
   {
    "duration": 3,
    "start_time": "2022-07-15T05:44:51.443Z"
   },
   {
    "duration": 5,
    "start_time": "2022-07-15T05:47:32.834Z"
   },
   {
    "duration": 3,
    "start_time": "2022-07-15T05:47:38.206Z"
   },
   {
    "duration": 9,
    "start_time": "2022-07-15T05:47:40.528Z"
   },
   {
    "duration": 3,
    "start_time": "2022-07-15T05:48:05.976Z"
   },
   {
    "duration": 10,
    "start_time": "2022-07-15T05:49:06.096Z"
   },
   {
    "duration": 3,
    "start_time": "2022-07-15T05:52:27.242Z"
   },
   {
    "duration": 14,
    "start_time": "2022-07-15T05:52:27.247Z"
   },
   {
    "duration": 4,
    "start_time": "2022-07-15T05:53:23.035Z"
   },
   {
    "duration": 5,
    "start_time": "2022-07-15T05:53:42.565Z"
   },
   {
    "duration": 4,
    "start_time": "2022-07-15T05:53:46.611Z"
   },
   {
    "duration": 553,
    "start_time": "2022-07-15T15:55:43.858Z"
   },
   {
    "duration": 4,
    "start_time": "2022-07-15T15:55:48.476Z"
   },
   {
    "duration": 9,
    "start_time": "2022-07-15T15:55:49.746Z"
   },
   {
    "duration": 17,
    "start_time": "2022-07-15T15:55:54.786Z"
   },
   {
    "duration": 28,
    "start_time": "2022-07-15T15:55:57.859Z"
   },
   {
    "duration": 6,
    "start_time": "2022-07-15T15:56:01.867Z"
   },
   {
    "duration": 4,
    "start_time": "2022-07-15T15:56:04.348Z"
   },
   {
    "duration": 12,
    "start_time": "2022-07-15T15:56:06.443Z"
   },
   {
    "duration": 9,
    "start_time": "2022-07-15T15:56:08.719Z"
   },
   {
    "duration": 5,
    "start_time": "2022-07-15T15:56:10.677Z"
   },
   {
    "duration": 5,
    "start_time": "2022-07-15T15:56:12.401Z"
   },
   {
    "duration": 19,
    "start_time": "2022-07-15T15:56:15.085Z"
   },
   {
    "duration": 6,
    "start_time": "2022-07-15T15:56:20.828Z"
   },
   {
    "duration": 16,
    "start_time": "2022-07-15T15:56:23.411Z"
   },
   {
    "duration": 8,
    "start_time": "2022-07-15T15:56:24.138Z"
   },
   {
    "duration": 5,
    "start_time": "2022-07-15T15:56:26.602Z"
   },
   {
    "duration": 8,
    "start_time": "2022-07-15T15:56:28.755Z"
   },
   {
    "duration": 7,
    "start_time": "2022-07-15T15:56:30.622Z"
   },
   {
    "duration": 6,
    "start_time": "2022-07-15T15:56:31.371Z"
   },
   {
    "duration": 7,
    "start_time": "2022-07-15T15:56:33.697Z"
   },
   {
    "duration": 5,
    "start_time": "2022-07-15T15:56:36.002Z"
   },
   {
    "duration": 4,
    "start_time": "2022-07-15T15:56:36.751Z"
   },
   {
    "duration": 23,
    "start_time": "2022-07-15T15:56:38.969Z"
   },
   {
    "duration": 12,
    "start_time": "2022-07-15T15:56:42.372Z"
   },
   {
    "duration": 7,
    "start_time": "2022-07-15T15:56:44.837Z"
   },
   {
    "duration": 16,
    "start_time": "2022-07-15T15:56:46.622Z"
   },
   {
    "duration": 10,
    "start_time": "2022-07-15T15:56:50.126Z"
   },
   {
    "duration": 5,
    "start_time": "2022-07-15T15:56:51.070Z"
   },
   {
    "duration": 5,
    "start_time": "2022-07-15T15:56:54.384Z"
   },
   {
    "duration": 4,
    "start_time": "2022-07-15T15:56:56.236Z"
   },
   {
    "duration": 5,
    "start_time": "2022-07-15T15:56:59.940Z"
   },
   {
    "duration": 7,
    "start_time": "2022-07-15T15:57:03.398Z"
   },
   {
    "duration": 7,
    "start_time": "2022-07-15T15:57:05.441Z"
   },
   {
    "duration": 5,
    "start_time": "2022-07-15T15:57:07.334Z"
   },
   {
    "duration": 7,
    "start_time": "2022-07-15T15:57:08.052Z"
   },
   {
    "duration": 6,
    "start_time": "2022-07-15T15:57:10.652Z"
   },
   {
    "duration": 17,
    "start_time": "2022-07-15T15:57:12.985Z"
   },
   {
    "duration": 20,
    "start_time": "2022-07-15T15:57:14.542Z"
   },
   {
    "duration": 17,
    "start_time": "2022-07-15T15:57:15.122Z"
   },
   {
    "duration": 3,
    "start_time": "2022-07-15T15:57:16.822Z"
   },
   {
    "duration": 2,
    "start_time": "2022-07-15T15:57:19.747Z"
   },
   {
    "duration": 4,
    "start_time": "2022-07-15T15:57:21.578Z"
   },
   {
    "duration": 4,
    "start_time": "2022-07-15T15:57:23.170Z"
   },
   {
    "duration": 14,
    "start_time": "2022-07-15T15:57:23.944Z"
   },
   {
    "duration": 6,
    "start_time": "2022-07-15T15:57:24.622Z"
   },
   {
    "duration": 35,
    "start_time": "2022-07-15T15:57:27.004Z"
   },
   {
    "duration": 15,
    "start_time": "2022-07-15T15:57:29.292Z"
   },
   {
    "duration": 19,
    "start_time": "2022-07-15T15:57:31.933Z"
   },
   {
    "duration": 4,
    "start_time": "2022-07-15T15:57:33.865Z"
   },
   {
    "duration": 3,
    "start_time": "2022-07-15T15:57:35.367Z"
   },
   {
    "duration": 4,
    "start_time": "2022-07-15T15:57:36.083Z"
   },
   {
    "duration": 4,
    "start_time": "2022-07-15T15:57:37.768Z"
   },
   {
    "duration": 199,
    "start_time": "2022-07-15T15:57:38.952Z"
   },
   {
    "duration": 7,
    "start_time": "2022-07-15T15:57:41.520Z"
   },
   {
    "duration": 5,
    "start_time": "2022-07-15T15:57:44.167Z"
   },
   {
    "duration": 17,
    "start_time": "2022-07-15T15:57:46.200Z"
   },
   {
    "duration": 16,
    "start_time": "2022-07-15T15:57:49.873Z"
   },
   {
    "duration": 22,
    "start_time": "2022-07-15T15:57:52.707Z"
   },
   {
    "duration": 19,
    "start_time": "2022-07-15T15:57:55.299Z"
   },
   {
    "duration": 15,
    "start_time": "2022-07-15T15:57:58.057Z"
   },
   {
    "duration": 4,
    "start_time": "2022-07-15T15:58:00.463Z"
   },
   {
    "duration": 3,
    "start_time": "2022-07-15T15:58:01.188Z"
   },
   {
    "duration": 5,
    "start_time": "2022-07-15T15:58:02.809Z"
   },
   {
    "duration": 210,
    "start_time": "2022-07-15T15:58:03.837Z"
   },
   {
    "duration": 5,
    "start_time": "2022-07-15T15:58:05.965Z"
   },
   {
    "duration": 18,
    "start_time": "2022-07-15T15:58:07.039Z"
   },
   {
    "duration": 17,
    "start_time": "2022-07-15T15:58:12.710Z"
   },
   {
    "duration": 6,
    "start_time": "2022-07-15T15:58:15.684Z"
   },
   {
    "duration": 4,
    "start_time": "2022-07-15T15:58:20.100Z"
   },
   {
    "duration": 3,
    "start_time": "2022-07-15T15:58:24.600Z"
   },
   {
    "duration": 3,
    "start_time": "2022-07-15T15:58:25.713Z"
   },
   {
    "duration": 4,
    "start_time": "2022-07-15T15:58:37.089Z"
   },
   {
    "duration": 4,
    "start_time": "2022-07-15T16:04:31.059Z"
   },
   {
    "duration": 4,
    "start_time": "2022-07-15T16:04:32.383Z"
   },
   {
    "duration": 4,
    "start_time": "2022-07-15T16:04:38.301Z"
   },
   {
    "duration": 3,
    "start_time": "2022-07-15T16:05:19.200Z"
   },
   {
    "duration": 5,
    "start_time": "2022-07-15T16:05:29.760Z"
   },
   {
    "duration": 5,
    "start_time": "2022-07-15T16:05:35.255Z"
   },
   {
    "duration": 4,
    "start_time": "2022-07-15T16:14:37.219Z"
   },
   {
    "duration": 7,
    "start_time": "2022-07-15T16:14:41.230Z"
   },
   {
    "duration": 4,
    "start_time": "2022-07-15T16:14:42.293Z"
   },
   {
    "duration": 4,
    "start_time": "2022-07-15T16:14:58.058Z"
   },
   {
    "duration": 4,
    "start_time": "2022-07-15T16:15:06.236Z"
   },
   {
    "duration": 3,
    "start_time": "2022-07-15T16:15:13.395Z"
   },
   {
    "duration": 5,
    "start_time": "2022-07-15T16:15:25.997Z"
   },
   {
    "duration": 4,
    "start_time": "2022-07-15T16:15:32.439Z"
   },
   {
    "duration": 7,
    "start_time": "2022-07-15T16:15:42.260Z"
   },
   {
    "duration": 4,
    "start_time": "2022-07-15T16:15:43.568Z"
   },
   {
    "duration": 4,
    "start_time": "2022-07-15T16:15:49.793Z"
   },
   {
    "duration": 4,
    "start_time": "2022-07-15T16:15:54.476Z"
   },
   {
    "duration": 4,
    "start_time": "2022-07-15T16:15:58.734Z"
   },
   {
    "duration": 4,
    "start_time": "2022-07-15T16:16:35.436Z"
   },
   {
    "duration": 8,
    "start_time": "2022-07-15T16:20:53.246Z"
   },
   {
    "duration": 4,
    "start_time": "2022-07-15T16:20:53.731Z"
   },
   {
    "duration": 3,
    "start_time": "2022-07-15T16:21:21.879Z"
   },
   {
    "duration": 6,
    "start_time": "2022-07-15T16:21:30.956Z"
   },
   {
    "duration": 7,
    "start_time": "2022-07-15T16:22:03.391Z"
   },
   {
    "duration": 4,
    "start_time": "2022-07-15T16:22:14.024Z"
   },
   {
    "duration": 4,
    "start_time": "2022-07-15T16:26:23.241Z"
   },
   {
    "duration": 16,
    "start_time": "2022-07-15T16:26:50.215Z"
   },
   {
    "duration": 4,
    "start_time": "2022-07-15T16:26:54.373Z"
   },
   {
    "duration": 6,
    "start_time": "2022-07-15T16:27:32.608Z"
   },
   {
    "duration": 7,
    "start_time": "2022-07-15T16:27:48.465Z"
   },
   {
    "duration": 21,
    "start_time": "2022-07-15T16:28:22.951Z"
   },
   {
    "duration": 6,
    "start_time": "2022-07-15T17:23:04.585Z"
   },
   {
    "duration": 7,
    "start_time": "2022-07-15T17:23:15.125Z"
   },
   {
    "duration": 5,
    "start_time": "2022-07-15T17:23:27.809Z"
   },
   {
    "duration": 21,
    "start_time": "2022-07-15T17:58:07.008Z"
   },
   {
    "duration": 15,
    "start_time": "2022-07-15T17:58:15.330Z"
   },
   {
    "duration": 16,
    "start_time": "2022-07-15T17:59:46.556Z"
   },
   {
    "duration": 8,
    "start_time": "2022-07-15T18:04:57.682Z"
   },
   {
    "duration": 48,
    "start_time": "2022-07-15T18:07:45.545Z"
   },
   {
    "duration": 57,
    "start_time": "2022-07-15T18:07:56.463Z"
   },
   {
    "duration": 76,
    "start_time": "2022-07-15T18:08:06.135Z"
   },
   {
    "duration": 21,
    "start_time": "2022-07-15T18:09:04.580Z"
   },
   {
    "duration": 22,
    "start_time": "2022-07-15T18:21:14.649Z"
   },
   {
    "duration": 4,
    "start_time": "2022-07-15T19:53:06.232Z"
   },
   {
    "duration": 62,
    "start_time": "2022-07-15T19:59:33.893Z"
   },
   {
    "duration": 6,
    "start_time": "2022-07-15T19:59:49.539Z"
   },
   {
    "duration": 5,
    "start_time": "2022-07-15T19:59:58.182Z"
   },
   {
    "duration": 5,
    "start_time": "2022-07-15T20:00:03.984Z"
   },
   {
    "duration": 15,
    "start_time": "2022-07-15T20:08:04.890Z"
   },
   {
    "duration": 21,
    "start_time": "2022-07-15T20:08:12.650Z"
   },
   {
    "duration": 4,
    "start_time": "2022-07-15T20:46:44.673Z"
   },
   {
    "duration": 4,
    "start_time": "2022-07-15T20:46:46.913Z"
   },
   {
    "duration": 22,
    "start_time": "2022-07-15T21:22:53.089Z"
   },
   {
    "duration": 7,
    "start_time": "2022-07-15T21:23:12.391Z"
   },
   {
    "duration": 3,
    "start_time": "2022-07-15T21:23:14.854Z"
   },
   {
    "duration": 4,
    "start_time": "2022-07-15T21:23:17.926Z"
   },
   {
    "duration": 3,
    "start_time": "2022-07-15T21:23:19.641Z"
   },
   {
    "duration": 12,
    "start_time": "2022-07-15T21:23:22.517Z"
   },
   {
    "duration": 9,
    "start_time": "2022-07-15T21:23:25.248Z"
   },
   {
    "duration": 26,
    "start_time": "2022-07-15T21:23:27.395Z"
   },
   {
    "duration": 10,
    "start_time": "2022-07-15T21:40:26.820Z"
   },
   {
    "duration": 43,
    "start_time": "2022-07-15T21:55:10.085Z"
   },
   {
    "duration": 60,
    "start_time": "2022-07-15T22:22:22.100Z"
   },
   {
    "duration": 44,
    "start_time": "2022-07-15T23:10:43.680Z"
   },
   {
    "duration": 49,
    "start_time": "2022-07-15T23:30:51.051Z"
   },
   {
    "duration": 50,
    "start_time": "2022-07-15T23:41:05.107Z"
   },
   {
    "duration": 67,
    "start_time": "2022-07-15T23:41:20.091Z"
   },
   {
    "duration": 52,
    "start_time": "2022-07-15T23:47:10.034Z"
   },
   {
    "duration": 46,
    "start_time": "2022-07-15T23:49:05.635Z"
   },
   {
    "duration": 1197,
    "start_time": "2022-07-15T23:50:06.027Z"
   },
   {
    "duration": 12,
    "start_time": "2022-07-15T23:50:16.447Z"
   },
   {
    "duration": 1016,
    "start_time": "2022-07-15T23:50:26.847Z"
   },
   {
    "duration": 21,
    "start_time": "2022-07-15T23:53:34.980Z"
   },
   {
    "duration": 19,
    "start_time": "2022-07-15T23:54:21.179Z"
   },
   {
    "duration": 17,
    "start_time": "2022-07-16T00:06:13.210Z"
   },
   {
    "duration": 13,
    "start_time": "2022-07-16T00:06:18.357Z"
   },
   {
    "duration": 18,
    "start_time": "2022-07-16T00:06:28.352Z"
   },
   {
    "duration": 31,
    "start_time": "2022-07-16T00:10:54.685Z"
   },
   {
    "duration": 14,
    "start_time": "2022-07-16T00:12:19.621Z"
   },
   {
    "duration": 27,
    "start_time": "2022-07-16T00:12:26.975Z"
   },
   {
    "duration": 24,
    "start_time": "2022-07-16T00:13:20.358Z"
   },
   {
    "duration": 25,
    "start_time": "2022-07-16T00:14:39.839Z"
   },
   {
    "duration": 24,
    "start_time": "2022-07-16T00:15:28.479Z"
   },
   {
    "duration": 41,
    "start_time": "2022-07-16T00:16:22.091Z"
   },
   {
    "duration": 31,
    "start_time": "2022-07-16T00:23:08.008Z"
   },
   {
    "duration": 30,
    "start_time": "2022-07-16T00:24:37.397Z"
   },
   {
    "duration": 62,
    "start_time": "2022-07-16T00:24:54.728Z"
   },
   {
    "duration": 47,
    "start_time": "2022-07-16T00:30:15.897Z"
   },
   {
    "duration": 23,
    "start_time": "2022-07-16T00:41:15.697Z"
   },
   {
    "duration": 49,
    "start_time": "2022-07-16T01:27:47.174Z"
   },
   {
    "duration": 46,
    "start_time": "2022-07-16T01:28:11.589Z"
   },
   {
    "duration": 53,
    "start_time": "2022-07-16T01:28:25.512Z"
   },
   {
    "duration": 51,
    "start_time": "2022-07-16T01:28:36.270Z"
   },
   {
    "duration": 58,
    "start_time": "2022-07-16T01:28:40.055Z"
   },
   {
    "duration": 602,
    "start_time": "2022-07-16T18:14:37.025Z"
   },
   {
    "duration": 4,
    "start_time": "2022-07-16T18:14:42.463Z"
   },
   {
    "duration": 12,
    "start_time": "2022-07-16T18:14:43.977Z"
   },
   {
    "duration": 24,
    "start_time": "2022-07-16T18:14:52.039Z"
   },
   {
    "duration": 37,
    "start_time": "2022-07-16T18:14:58.964Z"
   },
   {
    "duration": 7,
    "start_time": "2022-07-16T18:15:04.390Z"
   },
   {
    "duration": 4,
    "start_time": "2022-07-16T18:15:06.825Z"
   },
   {
    "duration": 12,
    "start_time": "2022-07-16T18:15:26.670Z"
   },
   {
    "duration": 12,
    "start_time": "2022-07-16T18:15:29.804Z"
   },
   {
    "duration": 5,
    "start_time": "2022-07-16T18:15:33.060Z"
   },
   {
    "duration": 21,
    "start_time": "2022-07-16T18:15:37.422Z"
   },
   {
    "duration": 14,
    "start_time": "2022-07-16T18:18:05.562Z"
   },
   {
    "duration": 9,
    "start_time": "2022-07-16T18:19:11.763Z"
   },
   {
    "duration": 14,
    "start_time": "2022-07-16T18:22:54.931Z"
   },
   {
    "duration": 72,
    "start_time": "2022-07-16T18:23:30.868Z"
   },
   {
    "duration": 15,
    "start_time": "2022-07-16T18:23:46.491Z"
   },
   {
    "duration": 19,
    "start_time": "2022-07-16T18:24:14.607Z"
   },
   {
    "duration": 22,
    "start_time": "2022-07-16T18:24:17.105Z"
   },
   {
    "duration": 14,
    "start_time": "2022-07-16T18:25:04.775Z"
   },
   {
    "duration": 10,
    "start_time": "2022-07-16T18:25:25.977Z"
   },
   {
    "duration": 53,
    "start_time": "2022-07-16T18:28:00.438Z"
   },
   {
    "duration": 82,
    "start_time": "2022-07-16T18:28:02.564Z"
   },
   {
    "duration": 74,
    "start_time": "2022-07-16T18:29:01.107Z"
   },
   {
    "duration": 22,
    "start_time": "2022-07-16T18:29:06.864Z"
   },
   {
    "duration": 28,
    "start_time": "2022-07-16T18:33:55.697Z"
   },
   {
    "duration": 27,
    "start_time": "2022-07-16T18:35:03.394Z"
   },
   {
    "duration": 14,
    "start_time": "2022-07-16T18:37:12.003Z"
   },
   {
    "duration": 25,
    "start_time": "2022-07-16T18:37:32.979Z"
   },
   {
    "duration": 63,
    "start_time": "2022-07-16T18:38:26.695Z"
   },
   {
    "duration": 20,
    "start_time": "2022-07-16T18:38:30.459Z"
   },
   {
    "duration": 34,
    "start_time": "2022-07-16T18:38:45.788Z"
   },
   {
    "duration": 13,
    "start_time": "2022-07-16T18:40:01.950Z"
   },
   {
    "duration": 27,
    "start_time": "2022-07-16T18:40:04.532Z"
   },
   {
    "duration": 20,
    "start_time": "2022-07-16T18:41:54.707Z"
   },
   {
    "duration": 34,
    "start_time": "2022-07-16T18:42:01.151Z"
   },
   {
    "duration": 47,
    "start_time": "2022-07-16T18:44:23.428Z"
   },
   {
    "duration": 73,
    "start_time": "2022-07-16T18:44:51.397Z"
   },
   {
    "duration": 42,
    "start_time": "2022-07-16T18:45:07.041Z"
   },
   {
    "duration": 48,
    "start_time": "2022-07-16T18:45:15.621Z"
   },
   {
    "duration": 7,
    "start_time": "2022-07-16T18:46:21.124Z"
   },
   {
    "duration": 8,
    "start_time": "2022-07-16T18:46:24.712Z"
   },
   {
    "duration": 7,
    "start_time": "2022-07-16T18:46:26.596Z"
   },
   {
    "duration": 23,
    "start_time": "2022-07-16T18:47:07.863Z"
   },
   {
    "duration": 10,
    "start_time": "2022-07-16T18:50:27.225Z"
   },
   {
    "duration": 10,
    "start_time": "2022-07-16T18:50:39.792Z"
   },
   {
    "duration": 9,
    "start_time": "2022-07-16T18:50:50.774Z"
   },
   {
    "duration": 5,
    "start_time": "2022-07-16T18:51:21.066Z"
   },
   {
    "duration": 10,
    "start_time": "2022-07-16T18:51:26.321Z"
   },
   {
    "duration": 9,
    "start_time": "2022-07-16T18:51:33.231Z"
   },
   {
    "duration": 11,
    "start_time": "2022-07-16T18:52:06.704Z"
   },
   {
    "duration": 26,
    "start_time": "2022-07-16T18:53:24.411Z"
   },
   {
    "duration": 55,
    "start_time": "2022-07-16T18:55:05.143Z"
   },
   {
    "duration": 15,
    "start_time": "2022-07-16T18:55:37.185Z"
   },
   {
    "duration": 9,
    "start_time": "2022-07-16T19:03:40.585Z"
   },
   {
    "duration": 8,
    "start_time": "2022-07-16T19:04:01.224Z"
   },
   {
    "duration": 9,
    "start_time": "2022-07-16T19:04:38.937Z"
   },
   {
    "duration": 51,
    "start_time": "2022-07-16T19:05:09.593Z"
   },
   {
    "duration": 7,
    "start_time": "2022-07-16T19:05:24.791Z"
   },
   {
    "duration": 44,
    "start_time": "2022-07-16T19:06:40.165Z"
   },
   {
    "duration": 5,
    "start_time": "2022-07-16T19:07:57.932Z"
   },
   {
    "duration": 46,
    "start_time": "2022-07-16T19:08:42.988Z"
   },
   {
    "duration": 7,
    "start_time": "2022-07-16T19:08:52.684Z"
   },
   {
    "duration": 21,
    "start_time": "2022-07-16T19:13:18.069Z"
   },
   {
    "duration": 44,
    "start_time": "2022-07-16T19:13:24.257Z"
   },
   {
    "duration": 24,
    "start_time": "2022-07-16T19:16:13.276Z"
   },
   {
    "duration": 4,
    "start_time": "2022-07-16T19:18:40.079Z"
   },
   {
    "duration": 46,
    "start_time": "2022-07-16T19:19:04.738Z"
   },
   {
    "duration": 6,
    "start_time": "2022-07-16T19:19:15.832Z"
   },
   {
    "duration": 46,
    "start_time": "2022-07-16T19:19:41.958Z"
   },
   {
    "duration": 8,
    "start_time": "2022-07-16T19:19:58.706Z"
   },
   {
    "duration": 47,
    "start_time": "2022-07-16T19:20:21.054Z"
   },
   {
    "duration": 6,
    "start_time": "2022-07-16T19:21:07.535Z"
   },
   {
    "duration": 5,
    "start_time": "2022-07-16T19:21:19.879Z"
   },
   {
    "duration": 7,
    "start_time": "2022-07-16T19:21:43.278Z"
   },
   {
    "duration": 60,
    "start_time": "2022-07-16T19:21:55.850Z"
   },
   {
    "duration": 7,
    "start_time": "2022-07-16T19:22:16.055Z"
   },
   {
    "duration": 18,
    "start_time": "2022-07-16T19:23:03.359Z"
   },
   {
    "duration": 18,
    "start_time": "2022-07-16T19:23:04.680Z"
   },
   {
    "duration": 17,
    "start_time": "2022-07-16T19:23:05.419Z"
   },
   {
    "duration": 3,
    "start_time": "2022-07-16T19:23:06.635Z"
   },
   {
    "duration": 3,
    "start_time": "2022-07-16T19:23:19.963Z"
   },
   {
    "duration": 4,
    "start_time": "2022-07-16T19:25:37.905Z"
   },
   {
    "duration": 4,
    "start_time": "2022-07-16T19:26:43.727Z"
   },
   {
    "duration": 5,
    "start_time": "2022-07-16T19:26:55.199Z"
   },
   {
    "duration": 50,
    "start_time": "2022-07-16T19:26:59.272Z"
   },
   {
    "duration": 25,
    "start_time": "2022-07-16T19:27:10.265Z"
   },
   {
    "duration": 7,
    "start_time": "2022-07-16T19:27:22.109Z"
   },
   {
    "duration": 574,
    "start_time": "2022-07-16T21:17:31.253Z"
   },
   {
    "duration": 4,
    "start_time": "2022-07-16T21:17:33.089Z"
   },
   {
    "duration": 9,
    "start_time": "2022-07-16T21:17:34.337Z"
   },
   {
    "duration": 15,
    "start_time": "2022-07-16T21:17:37.525Z"
   },
   {
    "duration": 27,
    "start_time": "2022-07-16T21:17:38.988Z"
   },
   {
    "duration": 6,
    "start_time": "2022-07-16T21:17:40.719Z"
   },
   {
    "duration": 4,
    "start_time": "2022-07-16T21:17:42.658Z"
   },
   {
    "duration": 11,
    "start_time": "2022-07-16T21:17:43.318Z"
   },
   {
    "duration": 48,
    "start_time": "2022-07-16T21:17:43.904Z"
   },
   {
    "duration": 6,
    "start_time": "2022-07-16T21:17:44.498Z"
   },
   {
    "duration": 7,
    "start_time": "2022-07-16T21:17:53.361Z"
   },
   {
    "duration": 5,
    "start_time": "2022-07-16T21:17:54.139Z"
   },
   {
    "duration": 4,
    "start_time": "2022-07-16T21:17:54.968Z"
   },
   {
    "duration": 20,
    "start_time": "2022-07-16T21:17:58.540Z"
   },
   {
    "duration": 10,
    "start_time": "2022-07-16T21:18:01.315Z"
   },
   {
    "duration": 5,
    "start_time": "2022-07-16T21:18:09.249Z"
   },
   {
    "duration": 12,
    "start_time": "2022-07-16T21:18:10.925Z"
   },
   {
    "duration": 7,
    "start_time": "2022-07-16T21:18:12.026Z"
   },
   {
    "duration": 5,
    "start_time": "2022-07-16T21:18:13.657Z"
   },
   {
    "duration": 7,
    "start_time": "2022-07-16T21:18:14.943Z"
   },
   {
    "duration": 5,
    "start_time": "2022-07-16T21:18:15.540Z"
   },
   {
    "duration": 6,
    "start_time": "2022-07-16T21:18:16.675Z"
   },
   {
    "duration": 11,
    "start_time": "2022-07-16T21:18:18.436Z"
   },
   {
    "duration": 3,
    "start_time": "2022-07-16T21:18:19.823Z"
   },
   {
    "duration": 4,
    "start_time": "2022-07-16T21:18:20.422Z"
   },
   {
    "duration": 27,
    "start_time": "2022-07-16T21:18:22.049Z"
   },
   {
    "duration": 18,
    "start_time": "2022-07-16T21:18:23.351Z"
   },
   {
    "duration": 9,
    "start_time": "2022-07-16T21:18:24.869Z"
   },
   {
    "duration": 15,
    "start_time": "2022-07-16T21:18:25.945Z"
   },
   {
    "duration": 8,
    "start_time": "2022-07-16T21:18:27.940Z"
   },
   {
    "duration": 5,
    "start_time": "2022-07-16T21:18:28.568Z"
   },
   {
    "duration": 5,
    "start_time": "2022-07-16T21:18:29.972Z"
   },
   {
    "duration": 4,
    "start_time": "2022-07-16T21:18:30.392Z"
   },
   {
    "duration": 6,
    "start_time": "2022-07-16T21:18:31.754Z"
   },
   {
    "duration": 6,
    "start_time": "2022-07-16T21:18:33.661Z"
   },
   {
    "duration": 7,
    "start_time": "2022-07-16T21:18:36.147Z"
   },
   {
    "duration": 6,
    "start_time": "2022-07-16T21:18:37.367Z"
   },
   {
    "duration": 6,
    "start_time": "2022-07-16T21:18:38.506Z"
   },
   {
    "duration": 7,
    "start_time": "2022-07-16T21:18:40.127Z"
   },
   {
    "duration": 17,
    "start_time": "2022-07-16T21:18:41.555Z"
   },
   {
    "duration": 19,
    "start_time": "2022-07-16T21:18:42.040Z"
   },
   {
    "duration": 18,
    "start_time": "2022-07-16T21:18:42.808Z"
   },
   {
    "duration": 3,
    "start_time": "2022-07-16T21:18:43.463Z"
   },
   {
    "duration": 3,
    "start_time": "2022-07-16T21:18:49.543Z"
   },
   {
    "duration": 4,
    "start_time": "2022-07-16T21:18:52.817Z"
   },
   {
    "duration": 5,
    "start_time": "2022-07-16T21:18:54.897Z"
   },
   {
    "duration": 14,
    "start_time": "2022-07-16T21:18:57.939Z"
   },
   {
    "duration": 6,
    "start_time": "2022-07-16T21:19:00.889Z"
   },
   {
    "duration": 27,
    "start_time": "2022-07-16T21:20:24.505Z"
   },
   {
    "duration": 13,
    "start_time": "2022-07-16T21:27:00.757Z"
   },
   {
    "duration": 26,
    "start_time": "2022-07-16T21:28:12.340Z"
   },
   {
    "duration": 21,
    "start_time": "2022-07-16T21:28:22.652Z"
   },
   {
    "duration": 750,
    "start_time": "2022-07-16T21:28:47.394Z"
   },
   {
    "duration": 7,
    "start_time": "2022-07-16T21:29:22.860Z"
   },
   {
    "duration": 725,
    "start_time": "2022-07-16T21:29:46.079Z"
   },
   {
    "duration": 15,
    "start_time": "2022-07-16T21:31:06.278Z"
   },
   {
    "duration": 10,
    "start_time": "2022-07-16T21:33:25.908Z"
   },
   {
    "duration": 52,
    "start_time": "2022-07-16T21:34:08.665Z"
   },
   {
    "duration": 6,
    "start_time": "2022-07-16T21:34:13.177Z"
   },
   {
    "duration": 468,
    "start_time": "2022-07-16T21:34:21.942Z"
   },
   {
    "duration": 4,
    "start_time": "2022-07-16T21:34:27.848Z"
   },
   {
    "duration": 10,
    "start_time": "2022-07-16T21:34:28.788Z"
   },
   {
    "duration": 16,
    "start_time": "2022-07-16T21:34:29.919Z"
   },
   {
    "duration": 25,
    "start_time": "2022-07-16T21:34:31.121Z"
   },
   {
    "duration": 7,
    "start_time": "2022-07-16T21:34:32.865Z"
   },
   {
    "duration": 4,
    "start_time": "2022-07-16T21:34:34.762Z"
   },
   {
    "duration": 11,
    "start_time": "2022-07-16T21:34:35.349Z"
   },
   {
    "duration": 6,
    "start_time": "2022-07-16T21:34:36.614Z"
   },
   {
    "duration": 4,
    "start_time": "2022-07-16T21:34:37.202Z"
   },
   {
    "duration": 5,
    "start_time": "2022-07-16T21:34:37.823Z"
   },
   {
    "duration": 18,
    "start_time": "2022-07-16T21:34:41.648Z"
   },
   {
    "duration": 10,
    "start_time": "2022-07-16T21:34:43.899Z"
   },
   {
    "duration": 8,
    "start_time": "2022-07-16T21:34:48.888Z"
   },
   {
    "duration": 9,
    "start_time": "2022-07-16T21:34:50.305Z"
   },
   {
    "duration": 7,
    "start_time": "2022-07-16T21:34:51.360Z"
   },
   {
    "duration": 4,
    "start_time": "2022-07-16T21:34:53.473Z"
   },
   {
    "duration": 10,
    "start_time": "2022-07-16T21:35:01.253Z"
   },
   {
    "duration": 7,
    "start_time": "2022-07-16T21:35:02.012Z"
   },
   {
    "duration": 8,
    "start_time": "2022-07-16T21:35:04.906Z"
   },
   {
    "duration": 12,
    "start_time": "2022-07-16T21:35:07.022Z"
   },
   {
    "duration": 5,
    "start_time": "2022-07-16T21:35:08.474Z"
   },
   {
    "duration": 4,
    "start_time": "2022-07-16T21:35:09.216Z"
   },
   {
    "duration": 22,
    "start_time": "2022-07-16T21:35:10.771Z"
   },
   {
    "duration": 21,
    "start_time": "2022-07-16T21:35:12.560Z"
   },
   {
    "duration": 11,
    "start_time": "2022-07-16T21:35:14.169Z"
   },
   {
    "duration": 25,
    "start_time": "2022-07-16T21:35:15.686Z"
   },
   {
    "duration": 13,
    "start_time": "2022-07-16T21:35:18.116Z"
   },
   {
    "duration": 6,
    "start_time": "2022-07-16T21:35:18.942Z"
   },
   {
    "duration": 5,
    "start_time": "2022-07-16T21:35:20.181Z"
   },
   {
    "duration": 5,
    "start_time": "2022-07-16T21:35:20.874Z"
   },
   {
    "duration": 6,
    "start_time": "2022-07-16T21:35:22.067Z"
   },
   {
    "duration": 7,
    "start_time": "2022-07-16T21:35:24.049Z"
   },
   {
    "duration": 12,
    "start_time": "2022-07-16T21:35:26.614Z"
   },
   {
    "duration": 5,
    "start_time": "2022-07-16T21:35:27.942Z"
   },
   {
    "duration": 7,
    "start_time": "2022-07-16T21:35:29.500Z"
   },
   {
    "duration": 7,
    "start_time": "2022-07-16T21:35:31.318Z"
   },
   {
    "duration": 16,
    "start_time": "2022-07-16T21:35:33.291Z"
   },
   {
    "duration": 19,
    "start_time": "2022-07-16T21:35:33.941Z"
   },
   {
    "duration": 15,
    "start_time": "2022-07-16T21:35:34.617Z"
   },
   {
    "duration": 4,
    "start_time": "2022-07-16T21:35:35.241Z"
   },
   {
    "duration": 3,
    "start_time": "2022-07-16T21:35:38.104Z"
   },
   {
    "duration": 4,
    "start_time": "2022-07-16T21:35:40.672Z"
   },
   {
    "duration": 5,
    "start_time": "2022-07-16T21:35:42.077Z"
   },
   {
    "duration": 14,
    "start_time": "2022-07-16T21:35:43.472Z"
   },
   {
    "duration": 5,
    "start_time": "2022-07-16T21:35:46.965Z"
   },
   {
    "duration": 35,
    "start_time": "2022-07-16T21:35:49.636Z"
   },
   {
    "duration": 15,
    "start_time": "2022-07-16T21:35:52.657Z"
   },
   {
    "duration": 15,
    "start_time": "2022-07-16T21:35:53.807Z"
   },
   {
    "duration": 10,
    "start_time": "2022-07-16T21:37:48.423Z"
   },
   {
    "duration": 23,
    "start_time": "2022-07-16T21:38:04.604Z"
   },
   {
    "duration": 23,
    "start_time": "2022-07-16T21:38:09.119Z"
   },
   {
    "duration": 22,
    "start_time": "2022-07-16T21:38:13.841Z"
   },
   {
    "duration": 11,
    "start_time": "2022-07-16T21:40:04.748Z"
   },
   {
    "duration": 15,
    "start_time": "2022-07-16T21:40:18.937Z"
   },
   {
    "duration": 16,
    "start_time": "2022-07-16T21:42:33.217Z"
   },
   {
    "duration": 52,
    "start_time": "2022-07-16T22:03:01.002Z"
   },
   {
    "duration": 46,
    "start_time": "2022-07-16T22:03:05.493Z"
   },
   {
    "duration": 52,
    "start_time": "2022-07-16T22:11:18.276Z"
   },
   {
    "duration": 13,
    "start_time": "2022-07-16T22:11:29.348Z"
   },
   {
    "duration": 44,
    "start_time": "2022-07-16T22:14:36.703Z"
   },
   {
    "duration": 2,
    "start_time": "2022-07-16T22:14:45.944Z"
   },
   {
    "duration": 10,
    "start_time": "2022-07-16T22:14:49.135Z"
   },
   {
    "duration": 14,
    "start_time": "2022-07-16T22:14:56.997Z"
   },
   {
    "duration": 4,
    "start_time": "2022-07-16T22:14:59.410Z"
   },
   {
    "duration": 4,
    "start_time": "2022-07-16T22:15:01.470Z"
   },
   {
    "duration": 5,
    "start_time": "2022-07-16T22:15:02.142Z"
   },
   {
    "duration": 4,
    "start_time": "2022-07-16T22:15:43.006Z"
   },
   {
    "duration": 5,
    "start_time": "2022-07-16T22:17:25.416Z"
   },
   {
    "duration": 3,
    "start_time": "2022-07-16T22:17:44.960Z"
   },
   {
    "duration": 201,
    "start_time": "2022-07-16T22:18:48.999Z"
   },
   {
    "duration": 7,
    "start_time": "2022-07-16T22:20:16.619Z"
   },
   {
    "duration": 5,
    "start_time": "2022-07-16T22:20:32.673Z"
   },
   {
    "duration": 15,
    "start_time": "2022-07-16T22:21:09.422Z"
   },
   {
    "duration": 51,
    "start_time": "2022-07-16T22:22:30.354Z"
   },
   {
    "duration": 14,
    "start_time": "2022-07-16T22:22:39.102Z"
   },
   {
    "duration": 18,
    "start_time": "2022-07-16T22:22:57.649Z"
   },
   {
    "duration": 17,
    "start_time": "2022-07-16T22:24:24.296Z"
   },
   {
    "duration": 13,
    "start_time": "2022-07-16T22:25:34.589Z"
   },
   {
    "duration": 14,
    "start_time": "2022-07-16T22:52:23.741Z"
   },
   {
    "duration": 3,
    "start_time": "2022-07-16T23:11:09.260Z"
   },
   {
    "duration": 14,
    "start_time": "2022-07-16T23:11:09.867Z"
   },
   {
    "duration": 13,
    "start_time": "2022-07-16T23:11:12.734Z"
   },
   {
    "duration": 3,
    "start_time": "2022-07-16T23:11:15.106Z"
   },
   {
    "duration": 4,
    "start_time": "2022-07-16T23:11:17.506Z"
   },
   {
    "duration": 235,
    "start_time": "2022-07-16T23:11:20.121Z"
   },
   {
    "duration": 8,
    "start_time": "2022-07-16T23:11:20.865Z"
   },
   {
    "duration": 17,
    "start_time": "2022-07-16T23:11:22.406Z"
   },
   {
    "duration": 15,
    "start_time": "2022-07-16T23:11:26.836Z"
   },
   {
    "duration": 5,
    "start_time": "2022-07-16T23:12:30.289Z"
   },
   {
    "duration": 60,
    "start_time": "2022-07-16T23:12:50.284Z"
   },
   {
    "duration": 51,
    "start_time": "2022-07-16T23:13:29.660Z"
   },
   {
    "duration": 5,
    "start_time": "2022-07-16T23:13:40.554Z"
   },
   {
    "duration": 24,
    "start_time": "2022-07-16T23:15:30.565Z"
   },
   {
    "duration": 7,
    "start_time": "2022-07-16T23:15:46.240Z"
   },
   {
    "duration": 7,
    "start_time": "2022-07-16T23:16:19.612Z"
   },
   {
    "duration": 6,
    "start_time": "2022-07-16T23:16:22.705Z"
   },
   {
    "duration": 7,
    "start_time": "2022-07-16T23:16:24.403Z"
   },
   {
    "duration": 4,
    "start_time": "2022-07-16T23:16:26.255Z"
   },
   {
    "duration": 4,
    "start_time": "2022-07-16T23:16:27.034Z"
   },
   {
    "duration": 14,
    "start_time": "2022-07-16T23:16:30.130Z"
   },
   {
    "duration": 7,
    "start_time": "2022-07-16T23:16:32.388Z"
   },
   {
    "duration": 21,
    "start_time": "2022-07-16T23:16:48.436Z"
   },
   {
    "duration": 8,
    "start_time": "2022-07-16T23:16:58.158Z"
   },
   {
    "duration": 8,
    "start_time": "2022-07-16T23:17:02.420Z"
   },
   {
    "duration": 565,
    "start_time": "2022-07-16T23:17:05.848Z"
   },
   {
    "duration": 3,
    "start_time": "2022-07-16T23:17:13.808Z"
   },
   {
    "duration": 4,
    "start_time": "2022-07-16T23:17:16.024Z"
   },
   {
    "duration": 3,
    "start_time": "2022-07-16T23:17:16.762Z"
   },
   {
    "duration": 15,
    "start_time": "2022-07-16T23:17:24.452Z"
   },
   {
    "duration": 8,
    "start_time": "2022-07-16T23:17:28.972Z"
   },
   {
    "duration": 7,
    "start_time": "2022-07-16T23:17:55.718Z"
   },
   {
    "duration": 22,
    "start_time": "2022-07-16T23:17:57.782Z"
   },
   {
    "duration": 46,
    "start_time": "2022-07-16T23:18:52.762Z"
   },
   {
    "duration": 39,
    "start_time": "2022-07-16T23:18:56.804Z"
   },
   {
    "duration": 52,
    "start_time": "2022-07-16T23:18:59.262Z"
   },
   {
    "duration": 43,
    "start_time": "2022-07-16T23:19:02.280Z"
   },
   {
    "duration": 171,
    "start_time": "2022-07-16T23:19:10.523Z"
   },
   {
    "duration": 53,
    "start_time": "2022-07-16T23:19:19.051Z"
   },
   {
    "duration": 17,
    "start_time": "2022-07-16T23:19:23.800Z"
   },
   {
    "duration": 41,
    "start_time": "2022-07-16T23:19:27.814Z"
   },
   {
    "duration": 30,
    "start_time": "2022-07-16T23:19:31.924Z"
   },
   {
    "duration": 14,
    "start_time": "2022-07-16T23:24:51.110Z"
   },
   {
    "duration": 60,
    "start_time": "2022-07-16T23:38:25.274Z"
   }
  ],
  "kernelspec": {
   "display_name": "Python 3 (ipykernel)",
   "language": "python",
   "name": "python3"
  },
  "language_info": {
   "codemirror_mode": {
    "name": "ipython",
    "version": 3
   },
   "file_extension": ".py",
   "mimetype": "text/x-python",
   "name": "python",
   "nbconvert_exporter": "python",
   "pygments_lexer": "ipython3",
   "version": "3.9.5"
  },
  "toc": {
   "base_numbering": 1,
   "nav_menu": {},
   "number_sections": true,
   "sideBar": true,
   "skip_h1_title": true,
   "title_cell": "Table of Contents",
   "title_sidebar": "Contents",
   "toc_cell": false,
   "toc_position": {
    "height": "372.727px",
    "left": "605.991px",
    "top": "111.051px",
    "width": "230.71px"
   },
   "toc_section_display": true,
   "toc_window_display": false
  }
 },
 "nbformat": 4,
 "nbformat_minor": 2
}
